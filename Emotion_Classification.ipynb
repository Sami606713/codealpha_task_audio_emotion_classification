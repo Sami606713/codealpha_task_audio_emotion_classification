{
  "nbformat": 4,
  "nbformat_minor": 0,
  "metadata": {
    "colab": {
      "provenance": []
    },
    "kernelspec": {
      "name": "python3",
      "display_name": "Python 3"
    },
    "language_info": {
      "name": "python"
    },
    "widgets": {
      "application/vnd.jupyter.widget-state+json": {
        "3de4dee819644244947e984e38398329": {
          "model_module": "@jupyter-widgets/controls",
          "model_name": "HBoxModel",
          "model_module_version": "1.5.0",
          "state": {
            "_dom_classes": [],
            "_model_module": "@jupyter-widgets/controls",
            "_model_module_version": "1.5.0",
            "_model_name": "HBoxModel",
            "_view_count": null,
            "_view_module": "@jupyter-widgets/controls",
            "_view_module_version": "1.5.0",
            "_view_name": "HBoxView",
            "box_style": "",
            "children": [
              "IPY_MODEL_ae8147a2c864472d94fdd5581de9b9c2",
              "IPY_MODEL_f2cf3102c21e42aa99e424272cd38af9",
              "IPY_MODEL_8217731aa7e14336a72a76a8e04093e4"
            ],
            "layout": "IPY_MODEL_c5c9d7eb5bd84663bfe4c0be75a9bde9"
          }
        },
        "ae8147a2c864472d94fdd5581de9b9c2": {
          "model_module": "@jupyter-widgets/controls",
          "model_name": "HTMLModel",
          "model_module_version": "1.5.0",
          "state": {
            "_dom_classes": [],
            "_model_module": "@jupyter-widgets/controls",
            "_model_module_version": "1.5.0",
            "_model_name": "HTMLModel",
            "_view_count": null,
            "_view_module": "@jupyter-widgets/controls",
            "_view_module_version": "1.5.0",
            "_view_name": "HTMLView",
            "description": "",
            "description_tooltip": null,
            "layout": "IPY_MODEL_7a5f1f25567b4ce9ac3497c46df7ca3c",
            "placeholder": "​",
            "style": "IPY_MODEL_45d5725dfd684b3baaed0cdf44164791",
            "value": "Map: 100%"
          }
        },
        "f2cf3102c21e42aa99e424272cd38af9": {
          "model_module": "@jupyter-widgets/controls",
          "model_name": "FloatProgressModel",
          "model_module_version": "1.5.0",
          "state": {
            "_dom_classes": [],
            "_model_module": "@jupyter-widgets/controls",
            "_model_module_version": "1.5.0",
            "_model_name": "FloatProgressModel",
            "_view_count": null,
            "_view_module": "@jupyter-widgets/controls",
            "_view_module_version": "1.5.0",
            "_view_name": "ProgressView",
            "bar_style": "success",
            "description": "",
            "description_tooltip": null,
            "layout": "IPY_MODEL_2ff95df7870e461cb79670c1517bbcdf",
            "max": 1152,
            "min": 0,
            "orientation": "horizontal",
            "style": "IPY_MODEL_11ad5a7298f641f189bc2065c54808ba",
            "value": 1152
          }
        },
        "8217731aa7e14336a72a76a8e04093e4": {
          "model_module": "@jupyter-widgets/controls",
          "model_name": "HTMLModel",
          "model_module_version": "1.5.0",
          "state": {
            "_dom_classes": [],
            "_model_module": "@jupyter-widgets/controls",
            "_model_module_version": "1.5.0",
            "_model_name": "HTMLModel",
            "_view_count": null,
            "_view_module": "@jupyter-widgets/controls",
            "_view_module_version": "1.5.0",
            "_view_name": "HTMLView",
            "description": "",
            "description_tooltip": null,
            "layout": "IPY_MODEL_0918837f43ce4cef9279ffa325eb1500",
            "placeholder": "​",
            "style": "IPY_MODEL_c4480d672a5e42f8a3d5feb0c60cf0d1",
            "value": " 1152/1152 [00:05&lt;00:00, 4237.41 examples/s]"
          }
        },
        "c5c9d7eb5bd84663bfe4c0be75a9bde9": {
          "model_module": "@jupyter-widgets/base",
          "model_name": "LayoutModel",
          "model_module_version": "1.2.0",
          "state": {
            "_model_module": "@jupyter-widgets/base",
            "_model_module_version": "1.2.0",
            "_model_name": "LayoutModel",
            "_view_count": null,
            "_view_module": "@jupyter-widgets/base",
            "_view_module_version": "1.2.0",
            "_view_name": "LayoutView",
            "align_content": null,
            "align_items": null,
            "align_self": null,
            "border": null,
            "bottom": null,
            "display": null,
            "flex": null,
            "flex_flow": null,
            "grid_area": null,
            "grid_auto_columns": null,
            "grid_auto_flow": null,
            "grid_auto_rows": null,
            "grid_column": null,
            "grid_gap": null,
            "grid_row": null,
            "grid_template_areas": null,
            "grid_template_columns": null,
            "grid_template_rows": null,
            "height": null,
            "justify_content": null,
            "justify_items": null,
            "left": null,
            "margin": null,
            "max_height": null,
            "max_width": null,
            "min_height": null,
            "min_width": null,
            "object_fit": null,
            "object_position": null,
            "order": null,
            "overflow": null,
            "overflow_x": null,
            "overflow_y": null,
            "padding": null,
            "right": null,
            "top": null,
            "visibility": null,
            "width": null
          }
        },
        "7a5f1f25567b4ce9ac3497c46df7ca3c": {
          "model_module": "@jupyter-widgets/base",
          "model_name": "LayoutModel",
          "model_module_version": "1.2.0",
          "state": {
            "_model_module": "@jupyter-widgets/base",
            "_model_module_version": "1.2.0",
            "_model_name": "LayoutModel",
            "_view_count": null,
            "_view_module": "@jupyter-widgets/base",
            "_view_module_version": "1.2.0",
            "_view_name": "LayoutView",
            "align_content": null,
            "align_items": null,
            "align_self": null,
            "border": null,
            "bottom": null,
            "display": null,
            "flex": null,
            "flex_flow": null,
            "grid_area": null,
            "grid_auto_columns": null,
            "grid_auto_flow": null,
            "grid_auto_rows": null,
            "grid_column": null,
            "grid_gap": null,
            "grid_row": null,
            "grid_template_areas": null,
            "grid_template_columns": null,
            "grid_template_rows": null,
            "height": null,
            "justify_content": null,
            "justify_items": null,
            "left": null,
            "margin": null,
            "max_height": null,
            "max_width": null,
            "min_height": null,
            "min_width": null,
            "object_fit": null,
            "object_position": null,
            "order": null,
            "overflow": null,
            "overflow_x": null,
            "overflow_y": null,
            "padding": null,
            "right": null,
            "top": null,
            "visibility": null,
            "width": null
          }
        },
        "45d5725dfd684b3baaed0cdf44164791": {
          "model_module": "@jupyter-widgets/controls",
          "model_name": "DescriptionStyleModel",
          "model_module_version": "1.5.0",
          "state": {
            "_model_module": "@jupyter-widgets/controls",
            "_model_module_version": "1.5.0",
            "_model_name": "DescriptionStyleModel",
            "_view_count": null,
            "_view_module": "@jupyter-widgets/base",
            "_view_module_version": "1.2.0",
            "_view_name": "StyleView",
            "description_width": ""
          }
        },
        "2ff95df7870e461cb79670c1517bbcdf": {
          "model_module": "@jupyter-widgets/base",
          "model_name": "LayoutModel",
          "model_module_version": "1.2.0",
          "state": {
            "_model_module": "@jupyter-widgets/base",
            "_model_module_version": "1.2.0",
            "_model_name": "LayoutModel",
            "_view_count": null,
            "_view_module": "@jupyter-widgets/base",
            "_view_module_version": "1.2.0",
            "_view_name": "LayoutView",
            "align_content": null,
            "align_items": null,
            "align_self": null,
            "border": null,
            "bottom": null,
            "display": null,
            "flex": null,
            "flex_flow": null,
            "grid_area": null,
            "grid_auto_columns": null,
            "grid_auto_flow": null,
            "grid_auto_rows": null,
            "grid_column": null,
            "grid_gap": null,
            "grid_row": null,
            "grid_template_areas": null,
            "grid_template_columns": null,
            "grid_template_rows": null,
            "height": null,
            "justify_content": null,
            "justify_items": null,
            "left": null,
            "margin": null,
            "max_height": null,
            "max_width": null,
            "min_height": null,
            "min_width": null,
            "object_fit": null,
            "object_position": null,
            "order": null,
            "overflow": null,
            "overflow_x": null,
            "overflow_y": null,
            "padding": null,
            "right": null,
            "top": null,
            "visibility": null,
            "width": null
          }
        },
        "11ad5a7298f641f189bc2065c54808ba": {
          "model_module": "@jupyter-widgets/controls",
          "model_name": "ProgressStyleModel",
          "model_module_version": "1.5.0",
          "state": {
            "_model_module": "@jupyter-widgets/controls",
            "_model_module_version": "1.5.0",
            "_model_name": "ProgressStyleModel",
            "_view_count": null,
            "_view_module": "@jupyter-widgets/base",
            "_view_module_version": "1.2.0",
            "_view_name": "StyleView",
            "bar_color": null,
            "description_width": ""
          }
        },
        "0918837f43ce4cef9279ffa325eb1500": {
          "model_module": "@jupyter-widgets/base",
          "model_name": "LayoutModel",
          "model_module_version": "1.2.0",
          "state": {
            "_model_module": "@jupyter-widgets/base",
            "_model_module_version": "1.2.0",
            "_model_name": "LayoutModel",
            "_view_count": null,
            "_view_module": "@jupyter-widgets/base",
            "_view_module_version": "1.2.0",
            "_view_name": "LayoutView",
            "align_content": null,
            "align_items": null,
            "align_self": null,
            "border": null,
            "bottom": null,
            "display": null,
            "flex": null,
            "flex_flow": null,
            "grid_area": null,
            "grid_auto_columns": null,
            "grid_auto_flow": null,
            "grid_auto_rows": null,
            "grid_column": null,
            "grid_gap": null,
            "grid_row": null,
            "grid_template_areas": null,
            "grid_template_columns": null,
            "grid_template_rows": null,
            "height": null,
            "justify_content": null,
            "justify_items": null,
            "left": null,
            "margin": null,
            "max_height": null,
            "max_width": null,
            "min_height": null,
            "min_width": null,
            "object_fit": null,
            "object_position": null,
            "order": null,
            "overflow": null,
            "overflow_x": null,
            "overflow_y": null,
            "padding": null,
            "right": null,
            "top": null,
            "visibility": null,
            "width": null
          }
        },
        "c4480d672a5e42f8a3d5feb0c60cf0d1": {
          "model_module": "@jupyter-widgets/controls",
          "model_name": "DescriptionStyleModel",
          "model_module_version": "1.5.0",
          "state": {
            "_model_module": "@jupyter-widgets/controls",
            "_model_module_version": "1.5.0",
            "_model_name": "DescriptionStyleModel",
            "_view_count": null,
            "_view_module": "@jupyter-widgets/base",
            "_view_module_version": "1.2.0",
            "_view_name": "StyleView",
            "description_width": ""
          }
        },
        "5f1c9ec06877455b89c5d799a9add6fd": {
          "model_module": "@jupyter-widgets/controls",
          "model_name": "HBoxModel",
          "model_module_version": "1.5.0",
          "state": {
            "_dom_classes": [],
            "_model_module": "@jupyter-widgets/controls",
            "_model_module_version": "1.5.0",
            "_model_name": "HBoxModel",
            "_view_count": null,
            "_view_module": "@jupyter-widgets/controls",
            "_view_module_version": "1.5.0",
            "_view_name": "HBoxView",
            "box_style": "",
            "children": [
              "IPY_MODEL_6234e90b05d74371b38e1a9aa18fc0c4",
              "IPY_MODEL_decffdafced54620b71afac597ecce4a",
              "IPY_MODEL_347388609714436caeb4cbd8fc62a495"
            ],
            "layout": "IPY_MODEL_a7ea674808174ffc9e29edd5b946a8a7"
          }
        },
        "6234e90b05d74371b38e1a9aa18fc0c4": {
          "model_module": "@jupyter-widgets/controls",
          "model_name": "HTMLModel",
          "model_module_version": "1.5.0",
          "state": {
            "_dom_classes": [],
            "_model_module": "@jupyter-widgets/controls",
            "_model_module_version": "1.5.0",
            "_model_name": "HTMLModel",
            "_view_count": null,
            "_view_module": "@jupyter-widgets/controls",
            "_view_module_version": "1.5.0",
            "_view_name": "HTMLView",
            "description": "",
            "description_tooltip": null,
            "layout": "IPY_MODEL_3ae8a0fc20a14efaa2f529be27032edf",
            "placeholder": "​",
            "style": "IPY_MODEL_8e3486b19db94b0bbd6a518e2223f1c4",
            "value": "Map: 100%"
          }
        },
        "decffdafced54620b71afac597ecce4a": {
          "model_module": "@jupyter-widgets/controls",
          "model_name": "FloatProgressModel",
          "model_module_version": "1.5.0",
          "state": {
            "_dom_classes": [],
            "_model_module": "@jupyter-widgets/controls",
            "_model_module_version": "1.5.0",
            "_model_name": "FloatProgressModel",
            "_view_count": null,
            "_view_module": "@jupyter-widgets/controls",
            "_view_module_version": "1.5.0",
            "_view_name": "ProgressView",
            "bar_style": "success",
            "description": "",
            "description_tooltip": null,
            "layout": "IPY_MODEL_cefdaf4e98ec4228bc4940e80f7b2de7",
            "max": 288,
            "min": 0,
            "orientation": "horizontal",
            "style": "IPY_MODEL_3e15bcfdd8dd4f019b8c84371bdcf0bf",
            "value": 288
          }
        },
        "347388609714436caeb4cbd8fc62a495": {
          "model_module": "@jupyter-widgets/controls",
          "model_name": "HTMLModel",
          "model_module_version": "1.5.0",
          "state": {
            "_dom_classes": [],
            "_model_module": "@jupyter-widgets/controls",
            "_model_module_version": "1.5.0",
            "_model_name": "HTMLModel",
            "_view_count": null,
            "_view_module": "@jupyter-widgets/controls",
            "_view_module_version": "1.5.0",
            "_view_name": "HTMLView",
            "description": "",
            "description_tooltip": null,
            "layout": "IPY_MODEL_db9f703b81544efca11c4494d5018eb4",
            "placeholder": "​",
            "style": "IPY_MODEL_e8af387cb9cc44579a79eb0408bbd517",
            "value": " 288/288 [00:00&lt;00:00, 357.74 examples/s]"
          }
        },
        "a7ea674808174ffc9e29edd5b946a8a7": {
          "model_module": "@jupyter-widgets/base",
          "model_name": "LayoutModel",
          "model_module_version": "1.2.0",
          "state": {
            "_model_module": "@jupyter-widgets/base",
            "_model_module_version": "1.2.0",
            "_model_name": "LayoutModel",
            "_view_count": null,
            "_view_module": "@jupyter-widgets/base",
            "_view_module_version": "1.2.0",
            "_view_name": "LayoutView",
            "align_content": null,
            "align_items": null,
            "align_self": null,
            "border": null,
            "bottom": null,
            "display": null,
            "flex": null,
            "flex_flow": null,
            "grid_area": null,
            "grid_auto_columns": null,
            "grid_auto_flow": null,
            "grid_auto_rows": null,
            "grid_column": null,
            "grid_gap": null,
            "grid_row": null,
            "grid_template_areas": null,
            "grid_template_columns": null,
            "grid_template_rows": null,
            "height": null,
            "justify_content": null,
            "justify_items": null,
            "left": null,
            "margin": null,
            "max_height": null,
            "max_width": null,
            "min_height": null,
            "min_width": null,
            "object_fit": null,
            "object_position": null,
            "order": null,
            "overflow": null,
            "overflow_x": null,
            "overflow_y": null,
            "padding": null,
            "right": null,
            "top": null,
            "visibility": null,
            "width": null
          }
        },
        "3ae8a0fc20a14efaa2f529be27032edf": {
          "model_module": "@jupyter-widgets/base",
          "model_name": "LayoutModel",
          "model_module_version": "1.2.0",
          "state": {
            "_model_module": "@jupyter-widgets/base",
            "_model_module_version": "1.2.0",
            "_model_name": "LayoutModel",
            "_view_count": null,
            "_view_module": "@jupyter-widgets/base",
            "_view_module_version": "1.2.0",
            "_view_name": "LayoutView",
            "align_content": null,
            "align_items": null,
            "align_self": null,
            "border": null,
            "bottom": null,
            "display": null,
            "flex": null,
            "flex_flow": null,
            "grid_area": null,
            "grid_auto_columns": null,
            "grid_auto_flow": null,
            "grid_auto_rows": null,
            "grid_column": null,
            "grid_gap": null,
            "grid_row": null,
            "grid_template_areas": null,
            "grid_template_columns": null,
            "grid_template_rows": null,
            "height": null,
            "justify_content": null,
            "justify_items": null,
            "left": null,
            "margin": null,
            "max_height": null,
            "max_width": null,
            "min_height": null,
            "min_width": null,
            "object_fit": null,
            "object_position": null,
            "order": null,
            "overflow": null,
            "overflow_x": null,
            "overflow_y": null,
            "padding": null,
            "right": null,
            "top": null,
            "visibility": null,
            "width": null
          }
        },
        "8e3486b19db94b0bbd6a518e2223f1c4": {
          "model_module": "@jupyter-widgets/controls",
          "model_name": "DescriptionStyleModel",
          "model_module_version": "1.5.0",
          "state": {
            "_model_module": "@jupyter-widgets/controls",
            "_model_module_version": "1.5.0",
            "_model_name": "DescriptionStyleModel",
            "_view_count": null,
            "_view_module": "@jupyter-widgets/base",
            "_view_module_version": "1.2.0",
            "_view_name": "StyleView",
            "description_width": ""
          }
        },
        "cefdaf4e98ec4228bc4940e80f7b2de7": {
          "model_module": "@jupyter-widgets/base",
          "model_name": "LayoutModel",
          "model_module_version": "1.2.0",
          "state": {
            "_model_module": "@jupyter-widgets/base",
            "_model_module_version": "1.2.0",
            "_model_name": "LayoutModel",
            "_view_count": null,
            "_view_module": "@jupyter-widgets/base",
            "_view_module_version": "1.2.0",
            "_view_name": "LayoutView",
            "align_content": null,
            "align_items": null,
            "align_self": null,
            "border": null,
            "bottom": null,
            "display": null,
            "flex": null,
            "flex_flow": null,
            "grid_area": null,
            "grid_auto_columns": null,
            "grid_auto_flow": null,
            "grid_auto_rows": null,
            "grid_column": null,
            "grid_gap": null,
            "grid_row": null,
            "grid_template_areas": null,
            "grid_template_columns": null,
            "grid_template_rows": null,
            "height": null,
            "justify_content": null,
            "justify_items": null,
            "left": null,
            "margin": null,
            "max_height": null,
            "max_width": null,
            "min_height": null,
            "min_width": null,
            "object_fit": null,
            "object_position": null,
            "order": null,
            "overflow": null,
            "overflow_x": null,
            "overflow_y": null,
            "padding": null,
            "right": null,
            "top": null,
            "visibility": null,
            "width": null
          }
        },
        "3e15bcfdd8dd4f019b8c84371bdcf0bf": {
          "model_module": "@jupyter-widgets/controls",
          "model_name": "ProgressStyleModel",
          "model_module_version": "1.5.0",
          "state": {
            "_model_module": "@jupyter-widgets/controls",
            "_model_module_version": "1.5.0",
            "_model_name": "ProgressStyleModel",
            "_view_count": null,
            "_view_module": "@jupyter-widgets/base",
            "_view_module_version": "1.2.0",
            "_view_name": "StyleView",
            "bar_color": null,
            "description_width": ""
          }
        },
        "db9f703b81544efca11c4494d5018eb4": {
          "model_module": "@jupyter-widgets/base",
          "model_name": "LayoutModel",
          "model_module_version": "1.2.0",
          "state": {
            "_model_module": "@jupyter-widgets/base",
            "_model_module_version": "1.2.0",
            "_model_name": "LayoutModel",
            "_view_count": null,
            "_view_module": "@jupyter-widgets/base",
            "_view_module_version": "1.2.0",
            "_view_name": "LayoutView",
            "align_content": null,
            "align_items": null,
            "align_self": null,
            "border": null,
            "bottom": null,
            "display": null,
            "flex": null,
            "flex_flow": null,
            "grid_area": null,
            "grid_auto_columns": null,
            "grid_auto_flow": null,
            "grid_auto_rows": null,
            "grid_column": null,
            "grid_gap": null,
            "grid_row": null,
            "grid_template_areas": null,
            "grid_template_columns": null,
            "grid_template_rows": null,
            "height": null,
            "justify_content": null,
            "justify_items": null,
            "left": null,
            "margin": null,
            "max_height": null,
            "max_width": null,
            "min_height": null,
            "min_width": null,
            "object_fit": null,
            "object_position": null,
            "order": null,
            "overflow": null,
            "overflow_x": null,
            "overflow_y": null,
            "padding": null,
            "right": null,
            "top": null,
            "visibility": null,
            "width": null
          }
        },
        "e8af387cb9cc44579a79eb0408bbd517": {
          "model_module": "@jupyter-widgets/controls",
          "model_name": "DescriptionStyleModel",
          "model_module_version": "1.5.0",
          "state": {
            "_model_module": "@jupyter-widgets/controls",
            "_model_module_version": "1.5.0",
            "_model_name": "DescriptionStyleModel",
            "_view_count": null,
            "_view_module": "@jupyter-widgets/base",
            "_view_module_version": "1.2.0",
            "_view_name": "StyleView",
            "description_width": ""
          }
        },
        "6bd70ceafb674678817639fab1c116f8": {
          "model_module": "@jupyter-widgets/controls",
          "model_name": "HBoxModel",
          "model_module_version": "1.5.0",
          "state": {
            "_dom_classes": [],
            "_model_module": "@jupyter-widgets/controls",
            "_model_module_version": "1.5.0",
            "_model_name": "HBoxModel",
            "_view_count": null,
            "_view_module": "@jupyter-widgets/controls",
            "_view_module_version": "1.5.0",
            "_view_name": "HBoxView",
            "box_style": "",
            "children": [
              "IPY_MODEL_5e35339a45634e7db7e065c90fa543bb",
              "IPY_MODEL_ae33c4a076634f908aa26ae77c5177f4",
              "IPY_MODEL_57694d7eca9243c5b22dab0ae25bfaa7"
            ],
            "layout": "IPY_MODEL_98c52707051747fa865ba055ea5bf958"
          }
        },
        "5e35339a45634e7db7e065c90fa543bb": {
          "model_module": "@jupyter-widgets/controls",
          "model_name": "HTMLModel",
          "model_module_version": "1.5.0",
          "state": {
            "_dom_classes": [],
            "_model_module": "@jupyter-widgets/controls",
            "_model_module_version": "1.5.0",
            "_model_name": "HTMLModel",
            "_view_count": null,
            "_view_module": "@jupyter-widgets/controls",
            "_view_module_version": "1.5.0",
            "_view_name": "HTMLView",
            "description": "",
            "description_tooltip": null,
            "layout": "IPY_MODEL_8a6ed56d8b7c4e978026caa0cf6661ee",
            "placeholder": "​",
            "style": "IPY_MODEL_88d05f2e6d194f4abdf61038e193e2eb",
            "value": "preprocessor_config.json: 100%"
          }
        },
        "ae33c4a076634f908aa26ae77c5177f4": {
          "model_module": "@jupyter-widgets/controls",
          "model_name": "FloatProgressModel",
          "model_module_version": "1.5.0",
          "state": {
            "_dom_classes": [],
            "_model_module": "@jupyter-widgets/controls",
            "_model_module_version": "1.5.0",
            "_model_name": "FloatProgressModel",
            "_view_count": null,
            "_view_module": "@jupyter-widgets/controls",
            "_view_module_version": "1.5.0",
            "_view_name": "ProgressView",
            "bar_style": "success",
            "description": "",
            "description_tooltip": null,
            "layout": "IPY_MODEL_e3687f8dbaf944f89e8b97826a4710ee",
            "max": 297,
            "min": 0,
            "orientation": "horizontal",
            "style": "IPY_MODEL_dab4286938b641aba9253c0051192670",
            "value": 297
          }
        },
        "57694d7eca9243c5b22dab0ae25bfaa7": {
          "model_module": "@jupyter-widgets/controls",
          "model_name": "HTMLModel",
          "model_module_version": "1.5.0",
          "state": {
            "_dom_classes": [],
            "_model_module": "@jupyter-widgets/controls",
            "_model_module_version": "1.5.0",
            "_model_name": "HTMLModel",
            "_view_count": null,
            "_view_module": "@jupyter-widgets/controls",
            "_view_module_version": "1.5.0",
            "_view_name": "HTMLView",
            "description": "",
            "description_tooltip": null,
            "layout": "IPY_MODEL_d299ead7bbd848f3b68f86412ee3dba1",
            "placeholder": "​",
            "style": "IPY_MODEL_9e40904256844770a8e02158ef33de6a",
            "value": " 297/297 [00:00&lt;00:00, 8.91kB/s]"
          }
        },
        "98c52707051747fa865ba055ea5bf958": {
          "model_module": "@jupyter-widgets/base",
          "model_name": "LayoutModel",
          "model_module_version": "1.2.0",
          "state": {
            "_model_module": "@jupyter-widgets/base",
            "_model_module_version": "1.2.0",
            "_model_name": "LayoutModel",
            "_view_count": null,
            "_view_module": "@jupyter-widgets/base",
            "_view_module_version": "1.2.0",
            "_view_name": "LayoutView",
            "align_content": null,
            "align_items": null,
            "align_self": null,
            "border": null,
            "bottom": null,
            "display": null,
            "flex": null,
            "flex_flow": null,
            "grid_area": null,
            "grid_auto_columns": null,
            "grid_auto_flow": null,
            "grid_auto_rows": null,
            "grid_column": null,
            "grid_gap": null,
            "grid_row": null,
            "grid_template_areas": null,
            "grid_template_columns": null,
            "grid_template_rows": null,
            "height": null,
            "justify_content": null,
            "justify_items": null,
            "left": null,
            "margin": null,
            "max_height": null,
            "max_width": null,
            "min_height": null,
            "min_width": null,
            "object_fit": null,
            "object_position": null,
            "order": null,
            "overflow": null,
            "overflow_x": null,
            "overflow_y": null,
            "padding": null,
            "right": null,
            "top": null,
            "visibility": null,
            "width": null
          }
        },
        "8a6ed56d8b7c4e978026caa0cf6661ee": {
          "model_module": "@jupyter-widgets/base",
          "model_name": "LayoutModel",
          "model_module_version": "1.2.0",
          "state": {
            "_model_module": "@jupyter-widgets/base",
            "_model_module_version": "1.2.0",
            "_model_name": "LayoutModel",
            "_view_count": null,
            "_view_module": "@jupyter-widgets/base",
            "_view_module_version": "1.2.0",
            "_view_name": "LayoutView",
            "align_content": null,
            "align_items": null,
            "align_self": null,
            "border": null,
            "bottom": null,
            "display": null,
            "flex": null,
            "flex_flow": null,
            "grid_area": null,
            "grid_auto_columns": null,
            "grid_auto_flow": null,
            "grid_auto_rows": null,
            "grid_column": null,
            "grid_gap": null,
            "grid_row": null,
            "grid_template_areas": null,
            "grid_template_columns": null,
            "grid_template_rows": null,
            "height": null,
            "justify_content": null,
            "justify_items": null,
            "left": null,
            "margin": null,
            "max_height": null,
            "max_width": null,
            "min_height": null,
            "min_width": null,
            "object_fit": null,
            "object_position": null,
            "order": null,
            "overflow": null,
            "overflow_x": null,
            "overflow_y": null,
            "padding": null,
            "right": null,
            "top": null,
            "visibility": null,
            "width": null
          }
        },
        "88d05f2e6d194f4abdf61038e193e2eb": {
          "model_module": "@jupyter-widgets/controls",
          "model_name": "DescriptionStyleModel",
          "model_module_version": "1.5.0",
          "state": {
            "_model_module": "@jupyter-widgets/controls",
            "_model_module_version": "1.5.0",
            "_model_name": "DescriptionStyleModel",
            "_view_count": null,
            "_view_module": "@jupyter-widgets/base",
            "_view_module_version": "1.2.0",
            "_view_name": "StyleView",
            "description_width": ""
          }
        },
        "e3687f8dbaf944f89e8b97826a4710ee": {
          "model_module": "@jupyter-widgets/base",
          "model_name": "LayoutModel",
          "model_module_version": "1.2.0",
          "state": {
            "_model_module": "@jupyter-widgets/base",
            "_model_module_version": "1.2.0",
            "_model_name": "LayoutModel",
            "_view_count": null,
            "_view_module": "@jupyter-widgets/base",
            "_view_module_version": "1.2.0",
            "_view_name": "LayoutView",
            "align_content": null,
            "align_items": null,
            "align_self": null,
            "border": null,
            "bottom": null,
            "display": null,
            "flex": null,
            "flex_flow": null,
            "grid_area": null,
            "grid_auto_columns": null,
            "grid_auto_flow": null,
            "grid_auto_rows": null,
            "grid_column": null,
            "grid_gap": null,
            "grid_row": null,
            "grid_template_areas": null,
            "grid_template_columns": null,
            "grid_template_rows": null,
            "height": null,
            "justify_content": null,
            "justify_items": null,
            "left": null,
            "margin": null,
            "max_height": null,
            "max_width": null,
            "min_height": null,
            "min_width": null,
            "object_fit": null,
            "object_position": null,
            "order": null,
            "overflow": null,
            "overflow_x": null,
            "overflow_y": null,
            "padding": null,
            "right": null,
            "top": null,
            "visibility": null,
            "width": null
          }
        },
        "dab4286938b641aba9253c0051192670": {
          "model_module": "@jupyter-widgets/controls",
          "model_name": "ProgressStyleModel",
          "model_module_version": "1.5.0",
          "state": {
            "_model_module": "@jupyter-widgets/controls",
            "_model_module_version": "1.5.0",
            "_model_name": "ProgressStyleModel",
            "_view_count": null,
            "_view_module": "@jupyter-widgets/base",
            "_view_module_version": "1.2.0",
            "_view_name": "StyleView",
            "bar_color": null,
            "description_width": ""
          }
        },
        "d299ead7bbd848f3b68f86412ee3dba1": {
          "model_module": "@jupyter-widgets/base",
          "model_name": "LayoutModel",
          "model_module_version": "1.2.0",
          "state": {
            "_model_module": "@jupyter-widgets/base",
            "_model_module_version": "1.2.0",
            "_model_name": "LayoutModel",
            "_view_count": null,
            "_view_module": "@jupyter-widgets/base",
            "_view_module_version": "1.2.0",
            "_view_name": "LayoutView",
            "align_content": null,
            "align_items": null,
            "align_self": null,
            "border": null,
            "bottom": null,
            "display": null,
            "flex": null,
            "flex_flow": null,
            "grid_area": null,
            "grid_auto_columns": null,
            "grid_auto_flow": null,
            "grid_auto_rows": null,
            "grid_column": null,
            "grid_gap": null,
            "grid_row": null,
            "grid_template_areas": null,
            "grid_template_columns": null,
            "grid_template_rows": null,
            "height": null,
            "justify_content": null,
            "justify_items": null,
            "left": null,
            "margin": null,
            "max_height": null,
            "max_width": null,
            "min_height": null,
            "min_width": null,
            "object_fit": null,
            "object_position": null,
            "order": null,
            "overflow": null,
            "overflow_x": null,
            "overflow_y": null,
            "padding": null,
            "right": null,
            "top": null,
            "visibility": null,
            "width": null
          }
        },
        "9e40904256844770a8e02158ef33de6a": {
          "model_module": "@jupyter-widgets/controls",
          "model_name": "DescriptionStyleModel",
          "model_module_version": "1.5.0",
          "state": {
            "_model_module": "@jupyter-widgets/controls",
            "_model_module_version": "1.5.0",
            "_model_name": "DescriptionStyleModel",
            "_view_count": null,
            "_view_module": "@jupyter-widgets/base",
            "_view_module_version": "1.2.0",
            "_view_name": "StyleView",
            "description_width": ""
          }
        },
        "30d7ba89106449318f8cf1f2e0beb6b7": {
          "model_module": "@jupyter-widgets/controls",
          "model_name": "HBoxModel",
          "model_module_version": "1.5.0",
          "state": {
            "_dom_classes": [],
            "_model_module": "@jupyter-widgets/controls",
            "_model_module_version": "1.5.0",
            "_model_name": "HBoxModel",
            "_view_count": null,
            "_view_module": "@jupyter-widgets/controls",
            "_view_module_version": "1.5.0",
            "_view_name": "HBoxView",
            "box_style": "",
            "children": [
              "IPY_MODEL_93aa3d8a8f894679be7ad97a9cd5e096",
              "IPY_MODEL_8749ad834b6244d3a73586473d8d2ef5",
              "IPY_MODEL_25ab9599a94249bc8b3de6fd3bceb2d6"
            ],
            "layout": "IPY_MODEL_0b3ae3642c2c4cb68fe4c2a3dbb591e1"
          }
        },
        "93aa3d8a8f894679be7ad97a9cd5e096": {
          "model_module": "@jupyter-widgets/controls",
          "model_name": "HTMLModel",
          "model_module_version": "1.5.0",
          "state": {
            "_dom_classes": [],
            "_model_module": "@jupyter-widgets/controls",
            "_model_module_version": "1.5.0",
            "_model_name": "HTMLModel",
            "_view_count": null,
            "_view_module": "@jupyter-widgets/controls",
            "_view_module_version": "1.5.0",
            "_view_name": "HTMLView",
            "description": "",
            "description_tooltip": null,
            "layout": "IPY_MODEL_844794b0e1eb40fdb6cf3716c728fa8b",
            "placeholder": "​",
            "style": "IPY_MODEL_03aaec6772404bb5a081ed914ca79276",
            "value": "config.json: 100%"
          }
        },
        "8749ad834b6244d3a73586473d8d2ef5": {
          "model_module": "@jupyter-widgets/controls",
          "model_name": "FloatProgressModel",
          "model_module_version": "1.5.0",
          "state": {
            "_dom_classes": [],
            "_model_module": "@jupyter-widgets/controls",
            "_model_module_version": "1.5.0",
            "_model_name": "FloatProgressModel",
            "_view_count": null,
            "_view_module": "@jupyter-widgets/controls",
            "_view_module_version": "1.5.0",
            "_view_name": "ProgressView",
            "bar_style": "success",
            "description": "",
            "description_tooltip": null,
            "layout": "IPY_MODEL_0844fff2059040e583105b826785bb34",
            "max": 26763,
            "min": 0,
            "orientation": "horizontal",
            "style": "IPY_MODEL_b1e7ffc2dec146fca8901ec766300415",
            "value": 26763
          }
        },
        "25ab9599a94249bc8b3de6fd3bceb2d6": {
          "model_module": "@jupyter-widgets/controls",
          "model_name": "HTMLModel",
          "model_module_version": "1.5.0",
          "state": {
            "_dom_classes": [],
            "_model_module": "@jupyter-widgets/controls",
            "_model_module_version": "1.5.0",
            "_model_name": "HTMLModel",
            "_view_count": null,
            "_view_module": "@jupyter-widgets/controls",
            "_view_module_version": "1.5.0",
            "_view_name": "HTMLView",
            "description": "",
            "description_tooltip": null,
            "layout": "IPY_MODEL_fb8319b133fe4a24ba84387f402c9296",
            "placeholder": "​",
            "style": "IPY_MODEL_e4fac4ced6814f259c9299800017d225",
            "value": " 26.8k/26.8k [00:00&lt;00:00, 1.81MB/s]"
          }
        },
        "0b3ae3642c2c4cb68fe4c2a3dbb591e1": {
          "model_module": "@jupyter-widgets/base",
          "model_name": "LayoutModel",
          "model_module_version": "1.2.0",
          "state": {
            "_model_module": "@jupyter-widgets/base",
            "_model_module_version": "1.2.0",
            "_model_name": "LayoutModel",
            "_view_count": null,
            "_view_module": "@jupyter-widgets/base",
            "_view_module_version": "1.2.0",
            "_view_name": "LayoutView",
            "align_content": null,
            "align_items": null,
            "align_self": null,
            "border": null,
            "bottom": null,
            "display": null,
            "flex": null,
            "flex_flow": null,
            "grid_area": null,
            "grid_auto_columns": null,
            "grid_auto_flow": null,
            "grid_auto_rows": null,
            "grid_column": null,
            "grid_gap": null,
            "grid_row": null,
            "grid_template_areas": null,
            "grid_template_columns": null,
            "grid_template_rows": null,
            "height": null,
            "justify_content": null,
            "justify_items": null,
            "left": null,
            "margin": null,
            "max_height": null,
            "max_width": null,
            "min_height": null,
            "min_width": null,
            "object_fit": null,
            "object_position": null,
            "order": null,
            "overflow": null,
            "overflow_x": null,
            "overflow_y": null,
            "padding": null,
            "right": null,
            "top": null,
            "visibility": null,
            "width": null
          }
        },
        "844794b0e1eb40fdb6cf3716c728fa8b": {
          "model_module": "@jupyter-widgets/base",
          "model_name": "LayoutModel",
          "model_module_version": "1.2.0",
          "state": {
            "_model_module": "@jupyter-widgets/base",
            "_model_module_version": "1.2.0",
            "_model_name": "LayoutModel",
            "_view_count": null,
            "_view_module": "@jupyter-widgets/base",
            "_view_module_version": "1.2.0",
            "_view_name": "LayoutView",
            "align_content": null,
            "align_items": null,
            "align_self": null,
            "border": null,
            "bottom": null,
            "display": null,
            "flex": null,
            "flex_flow": null,
            "grid_area": null,
            "grid_auto_columns": null,
            "grid_auto_flow": null,
            "grid_auto_rows": null,
            "grid_column": null,
            "grid_gap": null,
            "grid_row": null,
            "grid_template_areas": null,
            "grid_template_columns": null,
            "grid_template_rows": null,
            "height": null,
            "justify_content": null,
            "justify_items": null,
            "left": null,
            "margin": null,
            "max_height": null,
            "max_width": null,
            "min_height": null,
            "min_width": null,
            "object_fit": null,
            "object_position": null,
            "order": null,
            "overflow": null,
            "overflow_x": null,
            "overflow_y": null,
            "padding": null,
            "right": null,
            "top": null,
            "visibility": null,
            "width": null
          }
        },
        "03aaec6772404bb5a081ed914ca79276": {
          "model_module": "@jupyter-widgets/controls",
          "model_name": "DescriptionStyleModel",
          "model_module_version": "1.5.0",
          "state": {
            "_model_module": "@jupyter-widgets/controls",
            "_model_module_version": "1.5.0",
            "_model_name": "DescriptionStyleModel",
            "_view_count": null,
            "_view_module": "@jupyter-widgets/base",
            "_view_module_version": "1.2.0",
            "_view_name": "StyleView",
            "description_width": ""
          }
        },
        "0844fff2059040e583105b826785bb34": {
          "model_module": "@jupyter-widgets/base",
          "model_name": "LayoutModel",
          "model_module_version": "1.2.0",
          "state": {
            "_model_module": "@jupyter-widgets/base",
            "_model_module_version": "1.2.0",
            "_model_name": "LayoutModel",
            "_view_count": null,
            "_view_module": "@jupyter-widgets/base",
            "_view_module_version": "1.2.0",
            "_view_name": "LayoutView",
            "align_content": null,
            "align_items": null,
            "align_self": null,
            "border": null,
            "bottom": null,
            "display": null,
            "flex": null,
            "flex_flow": null,
            "grid_area": null,
            "grid_auto_columns": null,
            "grid_auto_flow": null,
            "grid_auto_rows": null,
            "grid_column": null,
            "grid_gap": null,
            "grid_row": null,
            "grid_template_areas": null,
            "grid_template_columns": null,
            "grid_template_rows": null,
            "height": null,
            "justify_content": null,
            "justify_items": null,
            "left": null,
            "margin": null,
            "max_height": null,
            "max_width": null,
            "min_height": null,
            "min_width": null,
            "object_fit": null,
            "object_position": null,
            "order": null,
            "overflow": null,
            "overflow_x": null,
            "overflow_y": null,
            "padding": null,
            "right": null,
            "top": null,
            "visibility": null,
            "width": null
          }
        },
        "b1e7ffc2dec146fca8901ec766300415": {
          "model_module": "@jupyter-widgets/controls",
          "model_name": "ProgressStyleModel",
          "model_module_version": "1.5.0",
          "state": {
            "_model_module": "@jupyter-widgets/controls",
            "_model_module_version": "1.5.0",
            "_model_name": "ProgressStyleModel",
            "_view_count": null,
            "_view_module": "@jupyter-widgets/base",
            "_view_module_version": "1.2.0",
            "_view_name": "StyleView",
            "bar_color": null,
            "description_width": ""
          }
        },
        "fb8319b133fe4a24ba84387f402c9296": {
          "model_module": "@jupyter-widgets/base",
          "model_name": "LayoutModel",
          "model_module_version": "1.2.0",
          "state": {
            "_model_module": "@jupyter-widgets/base",
            "_model_module_version": "1.2.0",
            "_model_name": "LayoutModel",
            "_view_count": null,
            "_view_module": "@jupyter-widgets/base",
            "_view_module_version": "1.2.0",
            "_view_name": "LayoutView",
            "align_content": null,
            "align_items": null,
            "align_self": null,
            "border": null,
            "bottom": null,
            "display": null,
            "flex": null,
            "flex_flow": null,
            "grid_area": null,
            "grid_auto_columns": null,
            "grid_auto_flow": null,
            "grid_auto_rows": null,
            "grid_column": null,
            "grid_gap": null,
            "grid_row": null,
            "grid_template_areas": null,
            "grid_template_columns": null,
            "grid_template_rows": null,
            "height": null,
            "justify_content": null,
            "justify_items": null,
            "left": null,
            "margin": null,
            "max_height": null,
            "max_width": null,
            "min_height": null,
            "min_width": null,
            "object_fit": null,
            "object_position": null,
            "order": null,
            "overflow": null,
            "overflow_x": null,
            "overflow_y": null,
            "padding": null,
            "right": null,
            "top": null,
            "visibility": null,
            "width": null
          }
        },
        "e4fac4ced6814f259c9299800017d225": {
          "model_module": "@jupyter-widgets/controls",
          "model_name": "DescriptionStyleModel",
          "model_module_version": "1.5.0",
          "state": {
            "_model_module": "@jupyter-widgets/controls",
            "_model_module_version": "1.5.0",
            "_model_name": "DescriptionStyleModel",
            "_view_count": null,
            "_view_module": "@jupyter-widgets/base",
            "_view_module_version": "1.2.0",
            "_view_name": "StyleView",
            "description_width": ""
          }
        },
        "c75f6714bfa94969ba25805cfc78e3d5": {
          "model_module": "@jupyter-widgets/controls",
          "model_name": "HBoxModel",
          "model_module_version": "1.5.0",
          "state": {
            "_dom_classes": [],
            "_model_module": "@jupyter-widgets/controls",
            "_model_module_version": "1.5.0",
            "_model_name": "HBoxModel",
            "_view_count": null,
            "_view_module": "@jupyter-widgets/controls",
            "_view_module_version": "1.5.0",
            "_view_name": "HBoxView",
            "box_style": "",
            "children": [
              "IPY_MODEL_ecf8cdf77380456fac02d406215733e3",
              "IPY_MODEL_17c24079981241a6b252f5afe9f44d1e",
              "IPY_MODEL_122551c6e6e048f1b330399f6e674b2c"
            ],
            "layout": "IPY_MODEL_636f78ce905e45a38c9507fd1e83d17e"
          }
        },
        "ecf8cdf77380456fac02d406215733e3": {
          "model_module": "@jupyter-widgets/controls",
          "model_name": "HTMLModel",
          "model_module_version": "1.5.0",
          "state": {
            "_dom_classes": [],
            "_model_module": "@jupyter-widgets/controls",
            "_model_module_version": "1.5.0",
            "_model_name": "HTMLModel",
            "_view_count": null,
            "_view_module": "@jupyter-widgets/controls",
            "_view_module_version": "1.5.0",
            "_view_name": "HTMLView",
            "description": "",
            "description_tooltip": null,
            "layout": "IPY_MODEL_bc09bcff3a5a4055bec415d6645f8e14",
            "placeholder": "​",
            "style": "IPY_MODEL_3a54176cdeeb43fbb5a7a6ed4352e91a",
            "value": "model.safetensors: 100%"
          }
        },
        "17c24079981241a6b252f5afe9f44d1e": {
          "model_module": "@jupyter-widgets/controls",
          "model_name": "FloatProgressModel",
          "model_module_version": "1.5.0",
          "state": {
            "_dom_classes": [],
            "_model_module": "@jupyter-widgets/controls",
            "_model_module_version": "1.5.0",
            "_model_name": "FloatProgressModel",
            "_view_count": null,
            "_view_module": "@jupyter-widgets/controls",
            "_view_module_version": "1.5.0",
            "_view_name": "ProgressView",
            "bar_style": "success",
            "description": "",
            "description_tooltip": null,
            "layout": "IPY_MODEL_c4bdc75b10be4799988b369d34801b0f",
            "max": 346404948,
            "min": 0,
            "orientation": "horizontal",
            "style": "IPY_MODEL_82e29d0f65fc4e04b130857e58100113",
            "value": 346404948
          }
        },
        "122551c6e6e048f1b330399f6e674b2c": {
          "model_module": "@jupyter-widgets/controls",
          "model_name": "HTMLModel",
          "model_module_version": "1.5.0",
          "state": {
            "_dom_classes": [],
            "_model_module": "@jupyter-widgets/controls",
            "_model_module_version": "1.5.0",
            "_model_name": "HTMLModel",
            "_view_count": null,
            "_view_module": "@jupyter-widgets/controls",
            "_view_module_version": "1.5.0",
            "_view_name": "HTMLView",
            "description": "",
            "description_tooltip": null,
            "layout": "IPY_MODEL_454a9fa18e0545d78cf4988668a108b7",
            "placeholder": "​",
            "style": "IPY_MODEL_164497a6f0bf4c049eab3c9ede398f7c",
            "value": " 346M/346M [00:01&lt;00:00, 271MB/s]"
          }
        },
        "636f78ce905e45a38c9507fd1e83d17e": {
          "model_module": "@jupyter-widgets/base",
          "model_name": "LayoutModel",
          "model_module_version": "1.2.0",
          "state": {
            "_model_module": "@jupyter-widgets/base",
            "_model_module_version": "1.2.0",
            "_model_name": "LayoutModel",
            "_view_count": null,
            "_view_module": "@jupyter-widgets/base",
            "_view_module_version": "1.2.0",
            "_view_name": "LayoutView",
            "align_content": null,
            "align_items": null,
            "align_self": null,
            "border": null,
            "bottom": null,
            "display": null,
            "flex": null,
            "flex_flow": null,
            "grid_area": null,
            "grid_auto_columns": null,
            "grid_auto_flow": null,
            "grid_auto_rows": null,
            "grid_column": null,
            "grid_gap": null,
            "grid_row": null,
            "grid_template_areas": null,
            "grid_template_columns": null,
            "grid_template_rows": null,
            "height": null,
            "justify_content": null,
            "justify_items": null,
            "left": null,
            "margin": null,
            "max_height": null,
            "max_width": null,
            "min_height": null,
            "min_width": null,
            "object_fit": null,
            "object_position": null,
            "order": null,
            "overflow": null,
            "overflow_x": null,
            "overflow_y": null,
            "padding": null,
            "right": null,
            "top": null,
            "visibility": null,
            "width": null
          }
        },
        "bc09bcff3a5a4055bec415d6645f8e14": {
          "model_module": "@jupyter-widgets/base",
          "model_name": "LayoutModel",
          "model_module_version": "1.2.0",
          "state": {
            "_model_module": "@jupyter-widgets/base",
            "_model_module_version": "1.2.0",
            "_model_name": "LayoutModel",
            "_view_count": null,
            "_view_module": "@jupyter-widgets/base",
            "_view_module_version": "1.2.0",
            "_view_name": "LayoutView",
            "align_content": null,
            "align_items": null,
            "align_self": null,
            "border": null,
            "bottom": null,
            "display": null,
            "flex": null,
            "flex_flow": null,
            "grid_area": null,
            "grid_auto_columns": null,
            "grid_auto_flow": null,
            "grid_auto_rows": null,
            "grid_column": null,
            "grid_gap": null,
            "grid_row": null,
            "grid_template_areas": null,
            "grid_template_columns": null,
            "grid_template_rows": null,
            "height": null,
            "justify_content": null,
            "justify_items": null,
            "left": null,
            "margin": null,
            "max_height": null,
            "max_width": null,
            "min_height": null,
            "min_width": null,
            "object_fit": null,
            "object_position": null,
            "order": null,
            "overflow": null,
            "overflow_x": null,
            "overflow_y": null,
            "padding": null,
            "right": null,
            "top": null,
            "visibility": null,
            "width": null
          }
        },
        "3a54176cdeeb43fbb5a7a6ed4352e91a": {
          "model_module": "@jupyter-widgets/controls",
          "model_name": "DescriptionStyleModel",
          "model_module_version": "1.5.0",
          "state": {
            "_model_module": "@jupyter-widgets/controls",
            "_model_module_version": "1.5.0",
            "_model_name": "DescriptionStyleModel",
            "_view_count": null,
            "_view_module": "@jupyter-widgets/base",
            "_view_module_version": "1.2.0",
            "_view_name": "StyleView",
            "description_width": ""
          }
        },
        "c4bdc75b10be4799988b369d34801b0f": {
          "model_module": "@jupyter-widgets/base",
          "model_name": "LayoutModel",
          "model_module_version": "1.2.0",
          "state": {
            "_model_module": "@jupyter-widgets/base",
            "_model_module_version": "1.2.0",
            "_model_name": "LayoutModel",
            "_view_count": null,
            "_view_module": "@jupyter-widgets/base",
            "_view_module_version": "1.2.0",
            "_view_name": "LayoutView",
            "align_content": null,
            "align_items": null,
            "align_self": null,
            "border": null,
            "bottom": null,
            "display": null,
            "flex": null,
            "flex_flow": null,
            "grid_area": null,
            "grid_auto_columns": null,
            "grid_auto_flow": null,
            "grid_auto_rows": null,
            "grid_column": null,
            "grid_gap": null,
            "grid_row": null,
            "grid_template_areas": null,
            "grid_template_columns": null,
            "grid_template_rows": null,
            "height": null,
            "justify_content": null,
            "justify_items": null,
            "left": null,
            "margin": null,
            "max_height": null,
            "max_width": null,
            "min_height": null,
            "min_width": null,
            "object_fit": null,
            "object_position": null,
            "order": null,
            "overflow": null,
            "overflow_x": null,
            "overflow_y": null,
            "padding": null,
            "right": null,
            "top": null,
            "visibility": null,
            "width": null
          }
        },
        "82e29d0f65fc4e04b130857e58100113": {
          "model_module": "@jupyter-widgets/controls",
          "model_name": "ProgressStyleModel",
          "model_module_version": "1.5.0",
          "state": {
            "_model_module": "@jupyter-widgets/controls",
            "_model_module_version": "1.5.0",
            "_model_name": "ProgressStyleModel",
            "_view_count": null,
            "_view_module": "@jupyter-widgets/base",
            "_view_module_version": "1.2.0",
            "_view_name": "StyleView",
            "bar_color": null,
            "description_width": ""
          }
        },
        "454a9fa18e0545d78cf4988668a108b7": {
          "model_module": "@jupyter-widgets/base",
          "model_name": "LayoutModel",
          "model_module_version": "1.2.0",
          "state": {
            "_model_module": "@jupyter-widgets/base",
            "_model_module_version": "1.2.0",
            "_model_name": "LayoutModel",
            "_view_count": null,
            "_view_module": "@jupyter-widgets/base",
            "_view_module_version": "1.2.0",
            "_view_name": "LayoutView",
            "align_content": null,
            "align_items": null,
            "align_self": null,
            "border": null,
            "bottom": null,
            "display": null,
            "flex": null,
            "flex_flow": null,
            "grid_area": null,
            "grid_auto_columns": null,
            "grid_auto_flow": null,
            "grid_auto_rows": null,
            "grid_column": null,
            "grid_gap": null,
            "grid_row": null,
            "grid_template_areas": null,
            "grid_template_columns": null,
            "grid_template_rows": null,
            "height": null,
            "justify_content": null,
            "justify_items": null,
            "left": null,
            "margin": null,
            "max_height": null,
            "max_width": null,
            "min_height": null,
            "min_width": null,
            "object_fit": null,
            "object_position": null,
            "order": null,
            "overflow": null,
            "overflow_x": null,
            "overflow_y": null,
            "padding": null,
            "right": null,
            "top": null,
            "visibility": null,
            "width": null
          }
        },
        "164497a6f0bf4c049eab3c9ede398f7c": {
          "model_module": "@jupyter-widgets/controls",
          "model_name": "DescriptionStyleModel",
          "model_module_version": "1.5.0",
          "state": {
            "_model_module": "@jupyter-widgets/controls",
            "_model_module_version": "1.5.0",
            "_model_name": "DescriptionStyleModel",
            "_view_count": null,
            "_view_module": "@jupyter-widgets/base",
            "_view_module_version": "1.2.0",
            "_view_name": "StyleView",
            "description_width": ""
          }
        },
        "fd7f120ff6694056998e130186d210e1": {
          "model_module": "@jupyter-widgets/controls",
          "model_name": "HBoxModel",
          "model_module_version": "1.5.0",
          "state": {
            "_dom_classes": [],
            "_model_module": "@jupyter-widgets/controls",
            "_model_module_version": "1.5.0",
            "_model_name": "HBoxModel",
            "_view_count": null,
            "_view_module": "@jupyter-widgets/controls",
            "_view_module_version": "1.5.0",
            "_view_name": "HBoxView",
            "box_style": "",
            "children": [
              "IPY_MODEL_6859ea53c1894c38af5ecbc7dff39952",
              "IPY_MODEL_101bf99e541349239542b097331d4460",
              "IPY_MODEL_e9ca0491bd194c7e9339335c515842da"
            ],
            "layout": "IPY_MODEL_7310102b270243a4a03489d6aef066cd"
          }
        },
        "6859ea53c1894c38af5ecbc7dff39952": {
          "model_module": "@jupyter-widgets/controls",
          "model_name": "HTMLModel",
          "model_module_version": "1.5.0",
          "state": {
            "_dom_classes": [],
            "_model_module": "@jupyter-widgets/controls",
            "_model_module_version": "1.5.0",
            "_model_name": "HTMLModel",
            "_view_count": null,
            "_view_module": "@jupyter-widgets/controls",
            "_view_module_version": "1.5.0",
            "_view_name": "HTMLView",
            "description": "",
            "description_tooltip": null,
            "layout": "IPY_MODEL_55498a8bc129494caee298126721c8ab",
            "placeholder": "​",
            "style": "IPY_MODEL_1ca34769b81949b8acb67c941fb60906",
            "value": "Map: 100%"
          }
        },
        "101bf99e541349239542b097331d4460": {
          "model_module": "@jupyter-widgets/controls",
          "model_name": "FloatProgressModel",
          "model_module_version": "1.5.0",
          "state": {
            "_dom_classes": [],
            "_model_module": "@jupyter-widgets/controls",
            "_model_module_version": "1.5.0",
            "_model_name": "FloatProgressModel",
            "_view_count": null,
            "_view_module": "@jupyter-widgets/controls",
            "_view_module_version": "1.5.0",
            "_view_name": "ProgressView",
            "bar_style": "success",
            "description": "",
            "description_tooltip": null,
            "layout": "IPY_MODEL_1baf0c9279a1479bb9041d7e105171b4",
            "max": 1152,
            "min": 0,
            "orientation": "horizontal",
            "style": "IPY_MODEL_d1e21c70402d45aeb791944a1c256d18",
            "value": 1152
          }
        },
        "e9ca0491bd194c7e9339335c515842da": {
          "model_module": "@jupyter-widgets/controls",
          "model_name": "HTMLModel",
          "model_module_version": "1.5.0",
          "state": {
            "_dom_classes": [],
            "_model_module": "@jupyter-widgets/controls",
            "_model_module_version": "1.5.0",
            "_model_name": "HTMLModel",
            "_view_count": null,
            "_view_module": "@jupyter-widgets/controls",
            "_view_module_version": "1.5.0",
            "_view_name": "HTMLView",
            "description": "",
            "description_tooltip": null,
            "layout": "IPY_MODEL_fda3329541a54d2cad522536d616f38c",
            "placeholder": "​",
            "style": "IPY_MODEL_c8bc3a6944794af38e2633db3d3ace78",
            "value": " 1152/1152 [01:37&lt;00:00, 11.86 examples/s]"
          }
        },
        "7310102b270243a4a03489d6aef066cd": {
          "model_module": "@jupyter-widgets/base",
          "model_name": "LayoutModel",
          "model_module_version": "1.2.0",
          "state": {
            "_model_module": "@jupyter-widgets/base",
            "_model_module_version": "1.2.0",
            "_model_name": "LayoutModel",
            "_view_count": null,
            "_view_module": "@jupyter-widgets/base",
            "_view_module_version": "1.2.0",
            "_view_name": "LayoutView",
            "align_content": null,
            "align_items": null,
            "align_self": null,
            "border": null,
            "bottom": null,
            "display": null,
            "flex": null,
            "flex_flow": null,
            "grid_area": null,
            "grid_auto_columns": null,
            "grid_auto_flow": null,
            "grid_auto_rows": null,
            "grid_column": null,
            "grid_gap": null,
            "grid_row": null,
            "grid_template_areas": null,
            "grid_template_columns": null,
            "grid_template_rows": null,
            "height": null,
            "justify_content": null,
            "justify_items": null,
            "left": null,
            "margin": null,
            "max_height": null,
            "max_width": null,
            "min_height": null,
            "min_width": null,
            "object_fit": null,
            "object_position": null,
            "order": null,
            "overflow": null,
            "overflow_x": null,
            "overflow_y": null,
            "padding": null,
            "right": null,
            "top": null,
            "visibility": null,
            "width": null
          }
        },
        "55498a8bc129494caee298126721c8ab": {
          "model_module": "@jupyter-widgets/base",
          "model_name": "LayoutModel",
          "model_module_version": "1.2.0",
          "state": {
            "_model_module": "@jupyter-widgets/base",
            "_model_module_version": "1.2.0",
            "_model_name": "LayoutModel",
            "_view_count": null,
            "_view_module": "@jupyter-widgets/base",
            "_view_module_version": "1.2.0",
            "_view_name": "LayoutView",
            "align_content": null,
            "align_items": null,
            "align_self": null,
            "border": null,
            "bottom": null,
            "display": null,
            "flex": null,
            "flex_flow": null,
            "grid_area": null,
            "grid_auto_columns": null,
            "grid_auto_flow": null,
            "grid_auto_rows": null,
            "grid_column": null,
            "grid_gap": null,
            "grid_row": null,
            "grid_template_areas": null,
            "grid_template_columns": null,
            "grid_template_rows": null,
            "height": null,
            "justify_content": null,
            "justify_items": null,
            "left": null,
            "margin": null,
            "max_height": null,
            "max_width": null,
            "min_height": null,
            "min_width": null,
            "object_fit": null,
            "object_position": null,
            "order": null,
            "overflow": null,
            "overflow_x": null,
            "overflow_y": null,
            "padding": null,
            "right": null,
            "top": null,
            "visibility": null,
            "width": null
          }
        },
        "1ca34769b81949b8acb67c941fb60906": {
          "model_module": "@jupyter-widgets/controls",
          "model_name": "DescriptionStyleModel",
          "model_module_version": "1.5.0",
          "state": {
            "_model_module": "@jupyter-widgets/controls",
            "_model_module_version": "1.5.0",
            "_model_name": "DescriptionStyleModel",
            "_view_count": null,
            "_view_module": "@jupyter-widgets/base",
            "_view_module_version": "1.2.0",
            "_view_name": "StyleView",
            "description_width": ""
          }
        },
        "1baf0c9279a1479bb9041d7e105171b4": {
          "model_module": "@jupyter-widgets/base",
          "model_name": "LayoutModel",
          "model_module_version": "1.2.0",
          "state": {
            "_model_module": "@jupyter-widgets/base",
            "_model_module_version": "1.2.0",
            "_model_name": "LayoutModel",
            "_view_count": null,
            "_view_module": "@jupyter-widgets/base",
            "_view_module_version": "1.2.0",
            "_view_name": "LayoutView",
            "align_content": null,
            "align_items": null,
            "align_self": null,
            "border": null,
            "bottom": null,
            "display": null,
            "flex": null,
            "flex_flow": null,
            "grid_area": null,
            "grid_auto_columns": null,
            "grid_auto_flow": null,
            "grid_auto_rows": null,
            "grid_column": null,
            "grid_gap": null,
            "grid_row": null,
            "grid_template_areas": null,
            "grid_template_columns": null,
            "grid_template_rows": null,
            "height": null,
            "justify_content": null,
            "justify_items": null,
            "left": null,
            "margin": null,
            "max_height": null,
            "max_width": null,
            "min_height": null,
            "min_width": null,
            "object_fit": null,
            "object_position": null,
            "order": null,
            "overflow": null,
            "overflow_x": null,
            "overflow_y": null,
            "padding": null,
            "right": null,
            "top": null,
            "visibility": null,
            "width": null
          }
        },
        "d1e21c70402d45aeb791944a1c256d18": {
          "model_module": "@jupyter-widgets/controls",
          "model_name": "ProgressStyleModel",
          "model_module_version": "1.5.0",
          "state": {
            "_model_module": "@jupyter-widgets/controls",
            "_model_module_version": "1.5.0",
            "_model_name": "ProgressStyleModel",
            "_view_count": null,
            "_view_module": "@jupyter-widgets/base",
            "_view_module_version": "1.2.0",
            "_view_name": "StyleView",
            "bar_color": null,
            "description_width": ""
          }
        },
        "fda3329541a54d2cad522536d616f38c": {
          "model_module": "@jupyter-widgets/base",
          "model_name": "LayoutModel",
          "model_module_version": "1.2.0",
          "state": {
            "_model_module": "@jupyter-widgets/base",
            "_model_module_version": "1.2.0",
            "_model_name": "LayoutModel",
            "_view_count": null,
            "_view_module": "@jupyter-widgets/base",
            "_view_module_version": "1.2.0",
            "_view_name": "LayoutView",
            "align_content": null,
            "align_items": null,
            "align_self": null,
            "border": null,
            "bottom": null,
            "display": null,
            "flex": null,
            "flex_flow": null,
            "grid_area": null,
            "grid_auto_columns": null,
            "grid_auto_flow": null,
            "grid_auto_rows": null,
            "grid_column": null,
            "grid_gap": null,
            "grid_row": null,
            "grid_template_areas": null,
            "grid_template_columns": null,
            "grid_template_rows": null,
            "height": null,
            "justify_content": null,
            "justify_items": null,
            "left": null,
            "margin": null,
            "max_height": null,
            "max_width": null,
            "min_height": null,
            "min_width": null,
            "object_fit": null,
            "object_position": null,
            "order": null,
            "overflow": null,
            "overflow_x": null,
            "overflow_y": null,
            "padding": null,
            "right": null,
            "top": null,
            "visibility": null,
            "width": null
          }
        },
        "c8bc3a6944794af38e2633db3d3ace78": {
          "model_module": "@jupyter-widgets/controls",
          "model_name": "DescriptionStyleModel",
          "model_module_version": "1.5.0",
          "state": {
            "_model_module": "@jupyter-widgets/controls",
            "_model_module_version": "1.5.0",
            "_model_name": "DescriptionStyleModel",
            "_view_count": null,
            "_view_module": "@jupyter-widgets/base",
            "_view_module_version": "1.2.0",
            "_view_name": "StyleView",
            "description_width": ""
          }
        },
        "36ff0056af3c40b8b172bac67e6a4621": {
          "model_module": "@jupyter-widgets/controls",
          "model_name": "HBoxModel",
          "model_module_version": "1.5.0",
          "state": {
            "_dom_classes": [],
            "_model_module": "@jupyter-widgets/controls",
            "_model_module_version": "1.5.0",
            "_model_name": "HBoxModel",
            "_view_count": null,
            "_view_module": "@jupyter-widgets/controls",
            "_view_module_version": "1.5.0",
            "_view_name": "HBoxView",
            "box_style": "",
            "children": [
              "IPY_MODEL_721870633c754ce4aa507cd504cf209f",
              "IPY_MODEL_07bc74f4f48c4c8d9066a16b373bf9ae",
              "IPY_MODEL_908e28a7998940d390b5624da9783056"
            ],
            "layout": "IPY_MODEL_89dddef582ab42438bcb7c37844abf92"
          }
        },
        "721870633c754ce4aa507cd504cf209f": {
          "model_module": "@jupyter-widgets/controls",
          "model_name": "HTMLModel",
          "model_module_version": "1.5.0",
          "state": {
            "_dom_classes": [],
            "_model_module": "@jupyter-widgets/controls",
            "_model_module_version": "1.5.0",
            "_model_name": "HTMLModel",
            "_view_count": null,
            "_view_module": "@jupyter-widgets/controls",
            "_view_module_version": "1.5.0",
            "_view_name": "HTMLView",
            "description": "",
            "description_tooltip": null,
            "layout": "IPY_MODEL_aecdcdae990f400bb2e99adfe90652c2",
            "placeholder": "​",
            "style": "IPY_MODEL_6a49da4d5bac42448d58e5fe7370791a",
            "value": "Map: 100%"
          }
        },
        "07bc74f4f48c4c8d9066a16b373bf9ae": {
          "model_module": "@jupyter-widgets/controls",
          "model_name": "FloatProgressModel",
          "model_module_version": "1.5.0",
          "state": {
            "_dom_classes": [],
            "_model_module": "@jupyter-widgets/controls",
            "_model_module_version": "1.5.0",
            "_model_name": "FloatProgressModel",
            "_view_count": null,
            "_view_module": "@jupyter-widgets/controls",
            "_view_module_version": "1.5.0",
            "_view_name": "ProgressView",
            "bar_style": "success",
            "description": "",
            "description_tooltip": null,
            "layout": "IPY_MODEL_1604ba023c4f49839834236f93251ab7",
            "max": 288,
            "min": 0,
            "orientation": "horizontal",
            "style": "IPY_MODEL_3088d282d63d489096e2dec513d21ae5",
            "value": 288
          }
        },
        "908e28a7998940d390b5624da9783056": {
          "model_module": "@jupyter-widgets/controls",
          "model_name": "HTMLModel",
          "model_module_version": "1.5.0",
          "state": {
            "_dom_classes": [],
            "_model_module": "@jupyter-widgets/controls",
            "_model_module_version": "1.5.0",
            "_model_name": "HTMLModel",
            "_view_count": null,
            "_view_module": "@jupyter-widgets/controls",
            "_view_module_version": "1.5.0",
            "_view_name": "HTMLView",
            "description": "",
            "description_tooltip": null,
            "layout": "IPY_MODEL_5e930cda233841f8bf5f31c766d76965",
            "placeholder": "​",
            "style": "IPY_MODEL_e8c8430147af46e7bcbae10f80528b72",
            "value": " 288/288 [00:22&lt;00:00, 12.78 examples/s]"
          }
        },
        "89dddef582ab42438bcb7c37844abf92": {
          "model_module": "@jupyter-widgets/base",
          "model_name": "LayoutModel",
          "model_module_version": "1.2.0",
          "state": {
            "_model_module": "@jupyter-widgets/base",
            "_model_module_version": "1.2.0",
            "_model_name": "LayoutModel",
            "_view_count": null,
            "_view_module": "@jupyter-widgets/base",
            "_view_module_version": "1.2.0",
            "_view_name": "LayoutView",
            "align_content": null,
            "align_items": null,
            "align_self": null,
            "border": null,
            "bottom": null,
            "display": null,
            "flex": null,
            "flex_flow": null,
            "grid_area": null,
            "grid_auto_columns": null,
            "grid_auto_flow": null,
            "grid_auto_rows": null,
            "grid_column": null,
            "grid_gap": null,
            "grid_row": null,
            "grid_template_areas": null,
            "grid_template_columns": null,
            "grid_template_rows": null,
            "height": null,
            "justify_content": null,
            "justify_items": null,
            "left": null,
            "margin": null,
            "max_height": null,
            "max_width": null,
            "min_height": null,
            "min_width": null,
            "object_fit": null,
            "object_position": null,
            "order": null,
            "overflow": null,
            "overflow_x": null,
            "overflow_y": null,
            "padding": null,
            "right": null,
            "top": null,
            "visibility": null,
            "width": null
          }
        },
        "aecdcdae990f400bb2e99adfe90652c2": {
          "model_module": "@jupyter-widgets/base",
          "model_name": "LayoutModel",
          "model_module_version": "1.2.0",
          "state": {
            "_model_module": "@jupyter-widgets/base",
            "_model_module_version": "1.2.0",
            "_model_name": "LayoutModel",
            "_view_count": null,
            "_view_module": "@jupyter-widgets/base",
            "_view_module_version": "1.2.0",
            "_view_name": "LayoutView",
            "align_content": null,
            "align_items": null,
            "align_self": null,
            "border": null,
            "bottom": null,
            "display": null,
            "flex": null,
            "flex_flow": null,
            "grid_area": null,
            "grid_auto_columns": null,
            "grid_auto_flow": null,
            "grid_auto_rows": null,
            "grid_column": null,
            "grid_gap": null,
            "grid_row": null,
            "grid_template_areas": null,
            "grid_template_columns": null,
            "grid_template_rows": null,
            "height": null,
            "justify_content": null,
            "justify_items": null,
            "left": null,
            "margin": null,
            "max_height": null,
            "max_width": null,
            "min_height": null,
            "min_width": null,
            "object_fit": null,
            "object_position": null,
            "order": null,
            "overflow": null,
            "overflow_x": null,
            "overflow_y": null,
            "padding": null,
            "right": null,
            "top": null,
            "visibility": null,
            "width": null
          }
        },
        "6a49da4d5bac42448d58e5fe7370791a": {
          "model_module": "@jupyter-widgets/controls",
          "model_name": "DescriptionStyleModel",
          "model_module_version": "1.5.0",
          "state": {
            "_model_module": "@jupyter-widgets/controls",
            "_model_module_version": "1.5.0",
            "_model_name": "DescriptionStyleModel",
            "_view_count": null,
            "_view_module": "@jupyter-widgets/base",
            "_view_module_version": "1.2.0",
            "_view_name": "StyleView",
            "description_width": ""
          }
        },
        "1604ba023c4f49839834236f93251ab7": {
          "model_module": "@jupyter-widgets/base",
          "model_name": "LayoutModel",
          "model_module_version": "1.2.0",
          "state": {
            "_model_module": "@jupyter-widgets/base",
            "_model_module_version": "1.2.0",
            "_model_name": "LayoutModel",
            "_view_count": null,
            "_view_module": "@jupyter-widgets/base",
            "_view_module_version": "1.2.0",
            "_view_name": "LayoutView",
            "align_content": null,
            "align_items": null,
            "align_self": null,
            "border": null,
            "bottom": null,
            "display": null,
            "flex": null,
            "flex_flow": null,
            "grid_area": null,
            "grid_auto_columns": null,
            "grid_auto_flow": null,
            "grid_auto_rows": null,
            "grid_column": null,
            "grid_gap": null,
            "grid_row": null,
            "grid_template_areas": null,
            "grid_template_columns": null,
            "grid_template_rows": null,
            "height": null,
            "justify_content": null,
            "justify_items": null,
            "left": null,
            "margin": null,
            "max_height": null,
            "max_width": null,
            "min_height": null,
            "min_width": null,
            "object_fit": null,
            "object_position": null,
            "order": null,
            "overflow": null,
            "overflow_x": null,
            "overflow_y": null,
            "padding": null,
            "right": null,
            "top": null,
            "visibility": null,
            "width": null
          }
        },
        "3088d282d63d489096e2dec513d21ae5": {
          "model_module": "@jupyter-widgets/controls",
          "model_name": "ProgressStyleModel",
          "model_module_version": "1.5.0",
          "state": {
            "_model_module": "@jupyter-widgets/controls",
            "_model_module_version": "1.5.0",
            "_model_name": "ProgressStyleModel",
            "_view_count": null,
            "_view_module": "@jupyter-widgets/base",
            "_view_module_version": "1.2.0",
            "_view_name": "StyleView",
            "bar_color": null,
            "description_width": ""
          }
        },
        "5e930cda233841f8bf5f31c766d76965": {
          "model_module": "@jupyter-widgets/base",
          "model_name": "LayoutModel",
          "model_module_version": "1.2.0",
          "state": {
            "_model_module": "@jupyter-widgets/base",
            "_model_module_version": "1.2.0",
            "_model_name": "LayoutModel",
            "_view_count": null,
            "_view_module": "@jupyter-widgets/base",
            "_view_module_version": "1.2.0",
            "_view_name": "LayoutView",
            "align_content": null,
            "align_items": null,
            "align_self": null,
            "border": null,
            "bottom": null,
            "display": null,
            "flex": null,
            "flex_flow": null,
            "grid_area": null,
            "grid_auto_columns": null,
            "grid_auto_flow": null,
            "grid_auto_rows": null,
            "grid_column": null,
            "grid_gap": null,
            "grid_row": null,
            "grid_template_areas": null,
            "grid_template_columns": null,
            "grid_template_rows": null,
            "height": null,
            "justify_content": null,
            "justify_items": null,
            "left": null,
            "margin": null,
            "max_height": null,
            "max_width": null,
            "min_height": null,
            "min_width": null,
            "object_fit": null,
            "object_position": null,
            "order": null,
            "overflow": null,
            "overflow_x": null,
            "overflow_y": null,
            "padding": null,
            "right": null,
            "top": null,
            "visibility": null,
            "width": null
          }
        },
        "e8c8430147af46e7bcbae10f80528b72": {
          "model_module": "@jupyter-widgets/controls",
          "model_name": "DescriptionStyleModel",
          "model_module_version": "1.5.0",
          "state": {
            "_model_module": "@jupyter-widgets/controls",
            "_model_module_version": "1.5.0",
            "_model_name": "DescriptionStyleModel",
            "_view_count": null,
            "_view_module": "@jupyter-widgets/base",
            "_view_module_version": "1.2.0",
            "_view_name": "StyleView",
            "description_width": ""
          }
        }
      }
    }
  },
  "cells": [
    {
      "cell_type": "markdown",
      "source": [
        "# Emotion Classification\n",
        "- In this project i will do the emotion classification pooject.\n",
        "- The goal of this project is to classifiy emotion from `audio`."
      ],
      "metadata": {
        "id": "sEnWPCLiSkZ6"
      }
    },
    {
      "cell_type": "code",
      "execution_count": 2,
      "metadata": {
        "id": "tbrNl0bASa9m"
      },
      "outputs": [],
      "source": [
        "# !pip install --upgrade transformers datasets evaluate accelerate peft torch torchaudio"
      ]
    },
    {
      "cell_type": "code",
      "source": [
        "import torch\n",
        "from datasets import load_dataset\n",
        "import transformers"
      ],
      "metadata": {
        "id": "1Cyc7fLiUFDH"
      },
      "execution_count": 3,
      "outputs": []
    },
    {
      "cell_type": "markdown",
      "source": [
        "# Login to hugging face"
      ],
      "metadata": {
        "id": "uZlTvRzLUfKn"
      }
    },
    {
      "cell_type": "code",
      "source": [
        "# from huggingface_hub import notebook_login\n",
        "# notebook_login()"
      ],
      "metadata": {
        "id": "k8VDjj2ZUja2"
      },
      "execution_count": 4,
      "outputs": []
    },
    {
      "cell_type": "markdown",
      "source": [
        "# Load Dataset"
      ],
      "metadata": {
        "id": "ATBv5rb8UPF8"
      }
    },
    {
      "cell_type": "code",
      "source": [
        "emotions = load_dataset(\"xbgoose/ravdess\")"
      ],
      "metadata": {
        "id": "4y3BJdgjTGiN"
      },
      "execution_count": 5,
      "outputs": []
    },
    {
      "cell_type": "code",
      "source": [
        "emotions"
      ],
      "metadata": {
        "colab": {
          "base_uri": "https://localhost:8080/"
        },
        "id": "1bWYcEx0UZuD",
        "outputId": "406f0bdb-f566-4d72-bf84-3dca0376db6f"
      },
      "execution_count": 6,
      "outputs": [
        {
          "output_type": "execute_result",
          "data": {
            "text/plain": [
              "DatasetDict({\n",
              "    train: Dataset({\n",
              "        features: ['audio', 'modality', 'vocal_channel', 'emotion', 'emotional_intensity', 'statement', 'repetition', 'actor', 'gender'],\n",
              "        num_rows: 1440\n",
              "    })\n",
              "})"
            ]
          },
          "metadata": {},
          "execution_count": 6
        }
      ]
    },
    {
      "cell_type": "markdown",
      "source": [
        "# Observation\n",
        "- we can see that data contain multiple columns but we can only 2 columns `audio` and `emotion`"
      ],
      "metadata": {
        "id": "dNwcGkGlWiYw"
      }
    },
    {
      "cell_type": "code",
      "source": [
        "emotions=emotions.remove_columns(['modality','vocal_channel','emotional_intensity','statement','repetition','actor','gender'])"
      ],
      "metadata": {
        "id": "L2WVaul2U48-"
      },
      "execution_count": 7,
      "outputs": []
    },
    {
      "cell_type": "code",
      "source": [
        "emotions"
      ],
      "metadata": {
        "colab": {
          "base_uri": "https://localhost:8080/"
        },
        "id": "npYHT8JjW_Sr",
        "outputId": "61dd354c-21ed-4475-c5eb-447158ddf6d1"
      },
      "execution_count": 8,
      "outputs": [
        {
          "output_type": "execute_result",
          "data": {
            "text/plain": [
              "DatasetDict({\n",
              "    train: Dataset({\n",
              "        features: ['audio', 'emotion'],\n",
              "        num_rows: 1440\n",
              "    })\n",
              "})"
            ]
          },
          "metadata": {},
          "execution_count": 8
        }
      ]
    },
    {
      "cell_type": "markdown",
      "source": [
        "# Train test split"
      ],
      "metadata": {
        "id": "jPp7mB5mXgat"
      }
    },
    {
      "cell_type": "code",
      "source": [
        "emotions=emotions['train'].train_test_split(test_size=0.2)"
      ],
      "metadata": {
        "id": "ObMEddSyXHww"
      },
      "execution_count": 9,
      "outputs": []
    },
    {
      "cell_type": "code",
      "source": [
        "train_df=emotions['train']\n",
        "test_df=emotions['test']"
      ],
      "metadata": {
        "id": "LxkfJVkIXl2d"
      },
      "execution_count": 10,
      "outputs": []
    },
    {
      "cell_type": "code",
      "source": [
        "train_df"
      ],
      "metadata": {
        "colab": {
          "base_uri": "https://localhost:8080/"
        },
        "id": "Kc3MH5OKX0BU",
        "outputId": "9b120863-b9cb-4145-d9ec-24fb914bb981"
      },
      "execution_count": 11,
      "outputs": [
        {
          "output_type": "execute_result",
          "data": {
            "text/plain": [
              "Dataset({\n",
              "    features: ['audio', 'emotion'],\n",
              "    num_rows: 1152\n",
              "})"
            ]
          },
          "metadata": {},
          "execution_count": 11
        }
      ]
    },
    {
      "cell_type": "code",
      "source": [
        "test_df"
      ],
      "metadata": {
        "colab": {
          "base_uri": "https://localhost:8080/"
        },
        "id": "pmxDizPLX1Tf",
        "outputId": "1e374ac5-7bc0-4369-e748-2dc2f6628161"
      },
      "execution_count": 12,
      "outputs": [
        {
          "output_type": "execute_result",
          "data": {
            "text/plain": [
              "Dataset({\n",
              "    features: ['audio', 'emotion'],\n",
              "    num_rows: 288\n",
              "})"
            ]
          },
          "metadata": {},
          "execution_count": 12
        }
      ]
    },
    {
      "cell_type": "markdown",
      "source": [
        "# Take the look of data"
      ],
      "metadata": {
        "id": "nrTFFkLlX8Jm"
      }
    },
    {
      "cell_type": "code",
      "source": [
        "train_df[0]"
      ],
      "metadata": {
        "colab": {
          "base_uri": "https://localhost:8080/"
        },
        "id": "dOITAnEjX3Kn",
        "outputId": "5f0ea677-8015-4197-9ddd-2077bfbf0d75"
      },
      "execution_count": 13,
      "outputs": [
        {
          "output_type": "execute_result",
          "data": {
            "text/plain": [
              "{'audio': {'path': '03-01-06-02-01-02-03.wav',\n",
              "  'array': array([-0.01434326, -0.01327515, -0.01361084, ..., -0.00317383,\n",
              "         -0.00247192, -0.00164795]),\n",
              "  'sampling_rate': 48000},\n",
              " 'emotion': 'fearful'}"
            ]
          },
          "metadata": {},
          "execution_count": 13
        }
      ]
    },
    {
      "cell_type": "markdown",
      "source": [
        "# Observation\n",
        "- There are 2 fields `audio` and `emotion`\n",
        "  - `**Audio**`\n",
        "    - It's a 1-D array of the speech signal that must be called to load and resample the audio file.\n",
        "    - Audio contain the information of audio file.\n",
        "  - `**Emotion**`\n",
        "    - Emotion contain the emotion of audion file like `angry`,`disgust` etc"
      ],
      "metadata": {
        "id": "OBmPfssXYZ2d"
      }
    },
    {
      "cell_type": "markdown",
      "source": [
        "# play any of the file"
      ],
      "metadata": {
        "id": "xkPQze1WZqB8"
      }
    },
    {
      "cell_type": "code",
      "source": [
        "import pandas as pd\n",
        "import IPython.display as ipd\n",
        "import random\n",
        "\n",
        "sample=random.randint(0,len(train_df))\n",
        "print(\"Emption\",train_df[sample]['emotion'])\n",
        "ipd.Audio(train_df[sample]['audio']['array'],rate=train_df[sample]['audio']['sampling_rate'])"
      ],
      "metadata": {
        "colab": {
          "base_uri": "https://localhost:8080/",
          "height": 93
        },
        "id": "iXX5h3EGX_a7",
        "outputId": "ee34be2a-903c-4171-c446-9fe5be8dbba6"
      },
      "execution_count": 14,
      "outputs": [
        {
          "output_type": "stream",
          "name": "stdout",
          "text": [
            "Emption neutral\n"
          ]
        },
        {
          "output_type": "execute_result",
          "data": {
            "text/plain": [
              "<IPython.lib.display.Audio object>"
            ],
            "text/html": [
              "\n",
              "                <audio  controls=\"controls\" >\n",
              "                    <source src=\"data:audio/wav;base64,UklGRnguBQBXQVZFZm10IBAAAAABAAEAgLsAAAB3AQACABAAZGF0YVQuBQAAAAAAAAAAAAAAAAAAAAAAAAAAAAAAAAAAAAAAAAAAAAAAAAAAAAAAAAAAAAAAAAAAAAAAAAAAAAAAAAAAAAAAAAAAAAAAAAAAAAAAAAAAAAAAAAAAAAAAAAAAAAAAAAAAAAAAAAAAAAAAAAAAAAAAAAAAAAAAAAAAAAAAAAAAAAAAAAAAAAAAAAAAAAAAAAAAAAAAAAAAAAAAAAAAAAAAAAAAAAAAAAAAAAAAAAAAAAAAAAAAAAAAAAAAAAAAAAAAAAAAAAAAAAAAAAAAAAAAAAAAAAAAAAAAAAAAAAAAAAAAAAAAAAAAAAAAAAAAAAAAAAAAAAAAAAAAAAAAAAAAAAAAAAAAAAAAAAAAAAAAAAAAAAAAAAAAAAAAAAAAAAAAAAAAAAAAAAAAAAAAAAAAAAAAAAAAAAAAAAAAAAAAAAAAAAAAAAAAAAAAAAAAAAAAAAAAAAAAAAAAAAAAAAAAAAAAAAAAAAAAAAAAAAAAAAAAAAAAAAAAAAAAAAAAAAAAAAAAAAAAAAAAAAAAAAAAAAAAAAAAAAAAAAAAAAAAAAAAAAAAAAAAAAAAAAAAAAAAAAAAAAAAAAAAAAAAAAAAAAAAAAAAAAAAAAAAAAAAAAAAAAAAAAAAAAAAAAAAAAAAAAAAAAAAAAAAAAAAAAAAAAAAAAAAAAAAAAAAAAAAAAAAAAAAAAAAAAAAAAAAAAAAAAAAAAAAAAAAAAAAAAAAAAAAAAAAAAAAAAAAAAAAAAAAAAAAAAAAAAAAAAAAAAAAAAAAAAAAAAAAAAAAAAAAAAAAAAAAAAAAAAAAAAAAAAAAAAAAAAAAAAAAAAAAAAAAAAAAAAAAAAAAAAAAAAAAAAAAAAAAAAAAAAAAAAAAAAAAAAAAAAAAAAAAAAAAAAAAAAAAAAAAAAAAAAAAAAAAAAAAAAAAAAAAAAAAAAAAAAAAAAAAAAAAAAAAAAAAAAAAAAAAAAAAAAAAAAAAAAAAAAAAAAAAAAAAAAAAAAAAAAAAAAAAAAAAAAAAAAAAAAAAAAAAAAAAAAAAAAAAAAAAAAAAAAAAAAAAAAAAAAAAAAAAAAAAAAAAAAAAAAAAAAAAAAAAAAAAAAAAAAAAAAAAAAAAAAAAAAAAAAAAAAAAAAAAAAAAAAAAAAAAAAAAAAAAAAAAAAAAAAAAAAAAAAAAAAAAAAAAAAAAAAAAAAAAAAAAAAAAAAAAAAAAAAAAAAAAAAAAAAAAAAAAAAAAAAAAAAAAAAAAAAAAAAAAAAAAAAAAAAAAAAAAAAAAAAAAAAAAAAAAAAAAAAAAAAAAAAAAAAAAAAAAAAAAAAAAAAAAAAAAAAAAAAAAAAAAAAAAAAAAADAAAAAAAAAAAAAAAAAAAAAAAAAAAAAAADAAAAAAAAAAAAAAAAAAAAAAAAAAAAAAAAAAAAAAAAAAAAAAADAAAAAAAAAAAAAAAAAAAAAAAAAAAAAwAAAAAAAAAAAAAAAAAAAAAAAwAAAAMAAAAAAAAAAAAAAAAAAAAAAAAAAwAAAAMAAAAAAAAAAAAAAAAAAAAAAAAAAAAAAAAAAAAAAAAAAAAAAAMAAAAAAAAAAAAAAAAAAAAAAAAAAAAAAAAAAAAAAAAAAAAAAAAAAAAAAAAAAAAAAAAAAAAAAAAAAAAAAAAAAAAAAAAAAAAAAAAAAAAAAAAAAAAAAAAAAAAAAAAAAAAAAAAAAAAAAAAAAAAAAAAAAAAAAAAAAAAAAAAAAAAAAAAAAAAAAAAAAAAAAAAAAAAAAAAAAAAAAAAAAAAAAAAAAAAAAAAAAAAAAAAAAAAAAAAAAAAAAAAAAAAAAAAAAAAAAAAAAAAAAAAAAAAAAAAAAAAAAAAAAAAAAAAAAAAAAAAAAAAAAAAAAAAAAAAAAAAAAAAAAAAAAAAAAAAAAAAAAAAAAAAAAAAAAAAAAAAAAAAAAAAAAAAAAAAAAAAAAAAAAAAAAAAAAAAAAAAAAAAAAAAAAAAAAAAAAAAAAAAAAAAAAAAAAAAAAAAAAAAAAAAAAAAAAAAAAAAAAAAAAAAAAAAAAAAAAAAAAAAAAAAAAAAAAAAAAAAAAAAAAAAAAAAAAAAAAAAAAAAAAAAAAAAAAAAAAAAAAAAAAAAAAAAAAAAAAAAAAAAAAAAAAAAAAAAAAAAAAAAAAAAAAAAAAAAAAAAAAAAAAAAAAAAAAAAAAAAAAAAAAAAAAAAAAAAAAAAAAAAAAAAAAAAAAAAAAAAAAAAAAAAAAAAAAAAAAAAAAAAAAAAAAAAAAAAAAAAAAAAAAAAAAAAAAAAAAAAAAAAAAAAAAAAAAAAAAAAAAAAAAAAAAAAAAAAAAAAAAAAAAAAAAAAAAAAAAAAAAAAAAAAAAAAAAAAAAAAAAAAAAAAAAAAAAAAAAAAAAAAAAAAAAAAAAAAAAAAAAAAAAAAAAAAAAAAAAAAAAAAAAAAAAAAAAAAAAAAAAAAAAAAAAAAAAAAAAAAAAAAAAAAAAAAAAAAAAAAAAAAAAAAAAAAAAAAAAAAAAAAAAAAAAAAAAAAAAAAAAAAAAAAAAAAAAAAAAAAAAAAAAAAAAAAAAAAAAAAAAAAAAAAAAAAAAAAAAAAAAAAAAAAAAAAAAAAAAAAAAAAAAAAAAAAAAAAAAAAAAAAAAAAAAAAAAAAAAAAAAAAAAAAAAAAAAAAAAAAAAAAAAAAAAAAAAAAAAAAAAAAAAAAAAAAAAAAAAAAAAAAAAAAAAAAAAAAAAAAAAAAAAAAAAAAAAAAAAAAAAAAAAAAAAAAAAAAAAAAAAAAAAAAAAAAAAAAAAAAAAAAAAAAAAAAAAAAAAAAAAAAAAAAAAAAAAAAAAAAAAAAAAAAAAAAAAAAAAAAAAAAAAAAAAAAAAAAAAAAAAAAAAAAAAAAAAAAAAAAAAAAAAAAAAAAAAAAAAAAAAAAAAAAAAAAAAAAAAAAAAAAAAAAAAAAAAAAAAAAAAAAAAAAAAAAAAAAAAAAAAAAAAAAAAAAAAAAAAAAAAAAAAAAAAAAAAAAAAAAAAAAAAAAAAAAAAAAAAAAAAAAAAAAAAAAAAAAAAAAAAAAAAAAAAAAAAAAAAAAAAAAAAAAAAAAAAAAAAAAAAAAAAAAAAAAAAAAAAAAAAAAAAAAAAAAAAAAAAAAAAAAAAAAAAAAAAAAAAAAAAAAAAAAAAAAAAAAAAAAAAAAAAAAAAAAAAAAAAAAAAAAAAAAAAAAAAAAAAAAAAAAAAAAAAAAAAAAAAAAAAAAAAAAAAAAAAAAAAAAAAAAAAAAAAAAAAAAAAAAAAAAAAAAAAAAAAAAAAAAAAAAAAAAAAAAAAAAAAAAAAAAAAAAAAAAAAAAAAAAAAAAAAAAAAAAAAAAAAAAAAAAAAAAAAAAAAAAAAAAAAAAAAAAAAAAAAAAAAAAAAAAAAAAAAAAAAAAAAAAAAAAAAAAAAAAAAAAAAAAAAAAAAAAAAAAAAAAAAAAAAAAAAAAAAAAAAAAAAAAAAAAAAAAAAAAAAAAAAAAAAAAAAAAAAAAAAAAAAAAAAAAAAAAAAAAAAAAAAAAAAAAAAAAAAAAAAAAAAAAAAAAAAAAAAAAAAAAAAAAAAAAAAAAAAAAAAAAAAAAAAAAAAAAAAAAAAAAAAAAAAAAAAAAAAAAAAAAAAAAAAAAAAAAAAAAAAAAAAAAAAAAAAAAAAAAAAAAAAAAAAAAAAAAAAAAAAAAAAAAAAAAAAAAAAAAAAAAAAAAAAAAAAAAAAAAAAAAAAAAAAAAAAAAAAAAAAAAAAAAAAAAAAAAAAAAAAAAAAAAAAAAAAAAAAAAAAAAAAAAAAAAAAAAAAAAAAAAAAAAAAAAAAAAAAAAAAAAAAAAAAAAAAAAAAAAAAAAAAAAAAAAAAAAAAAAAAAAAAAAAAAAAAAAAAAAAAAAAAAAAAAAAAAAAAAAAAAAAAAAAAAAAAAAAAAAAAAAAAAAAAAAAAAAAAAAAAAAAAAAAAAAAAAAAAAAAAAAAAAAAAAAAAAAAAAAAAAAAAAAAAAAAAAAAAAAAAAAAAAAAAAAAAAAAAAAAAAAAAAAAAAAAAAAAAAAAAAAAAAAAAAAAAAAAAAAAAAAAAAAAAAAAAAAAAAAAAAAAAAAAAAAAAAAAAAAAAAAAAAAAAAAAAAAAAAAAAAAAAAAAAAAAAAAAAAAAAAAAAAAAAAAAAAAAAAAAAAAAAAAAAAAAAAAAAAAAAAAAAAAAAAAAAAAAAAAAAAAAAAAAAAAAAAAAAAAAAAAAAAAAAAAAAAAAAAAAAAAAAAAAAAAAAAAAAAAAAAAAAAAAAAAAAAAAAAAAAAAAAAAAAAAAAAAND/AAAAAAAAAAAAAAAAAAAAAAAAAAAAAAAAAAAAAAAAAAAAAAAAAAAAAAAAAAAAAAAAAAAAAAAAAAAAAAAAAAAAAAAAAAAAAAAAAAAAAAAAAAAAAAAAAAAAAAAAAAAAAAAAAAAAAAAAAAAAAAAAAAAAAAAAAAAAAAAA0P8AAAAAAAAAAAAAAAAAAAAAAAAAAAAAAAAAAAAAAAAAAAAAAAAAAAAAAAAAAAAAAAAAAAAAAAAAAAAAAAAAAAAAAAAAAAAAAAAAAAAAAAAAAAAAAAAAAAAAAAAAAAAAAAAAAAAAAAAAAAAAAAAAAAAAAAAAAAAAAAAAAAAAAAAAAAAAAAAAAAAAAAAAAAAAAAAAAAAAAAAAAAAAAAAAAAAAAAAAAAAAAAAAAAAAAAAAAAAAAAAAAAAAAAAAAAAAAAAAAAAAAAAAAAAAAAAAAAAAAAAAAAAAAAAAAAAAAAAAAAAAAAAAAAAAAAAAAAAAAAAAAAAAAAAAAAAAAAAAAAAAAAAAAAAAAAAAAAAAAAAAAAAAAAAAAAAAAAAAAAAAAAAAAAAAAAAAAAAAAAAAAAAAAAAAAAAAAAAAAAAAAAAAAAAAAAAAAAAAAAAAAAAAAAAAAAAAAAAAAAAAAAAAAAAAAAAAAAAAAAAAAAAAAAAAAAAAAAAAAAAAAAAAAAAAAAAAAAAAAAAAAAAAAAAAAAAAAAAAAAAAAAAAAAAAAAAAAAAAAAAAAAAAAAAAAAAAAAAAAAAAAAAAAAAAAAAAAAAAAAAAAAAAAAAAAAAAAAAAAAAAAAAAAAAAAAAAAAAAAAAAAAAAAAAAAAAAAAAAAAAAAAAAAAAAAAAAAAAAAAAAAAAAAAAAAAAAAAAAAAAAAAAAAAAAAAAAAAAAAAAAAAAAAAAAAAAAAAAAAAAAAAAAAAAAAAAAAAAAAAAAAAAAAAAAAAAAAAAAAAAAAAAAAAAAAAAAAAAAAAAAAAAAAAAAAAAAAAAAAAAAAAAAAAAAAAAAAAAAAAAAAAAAAAAAAAAAAAAAAAAAAAAAAAAAAAAAAAAAAAAAAAAAAAAAAAAAAAAAAAAAAAAAAAAAAAAAAAAAAAAAAAAAAAAAAAAAAAAAAAAAAAAAAAAAAAAAAAAAAAAAAAAAAAAAAAAAAAAAAAAAAAAAAAAAAAAAAAAAAAAAAAAAAAAAAAAAAAAAAAAAAAAAAAAAAAAAAAAAAAAAAAAAAAAAAAAAAAAAAAAAAAAAAAAAAAAAAAAAAAAAAAAAAAAAAAAAAAAAAAAAAAAAAAAAAAAAAAAAAAAAAAAAAAAAAAAAAAAAAAAAAAAAAAAAAAAAAAAAAAAAAAAAAAAAAAAAAAAAAAAAAAAAAAAAAAAAAAAAAAAAAAAAAAAAAAAAAAAAAAAAAAAAAAAAAAAAAAAAAAAAAAAAAAAAAAAAAAAAAAAAAAAAAAAAAAAAAAAAAAAAAAAAAAAAAAAAAAAAAAAAAAAAAAAAAAAAAAAAAAAAAAAAAAAAAAAAAAAAAAAAAAAAAAAAAAAAAAAAAAAAAAAAAAAAAAAAAAAAAAAAAAAAAAAAAAAAAAAAAAAAAAAAAAAAAAAAAAAAAAAAAAAAAAAAAAAAAAAAAAAAAAAAAAAAAAAAAAAAAAAAAAAAAAAAAAAAAAAAAAAAAAAAAAAAAAAAAAAAAAAAAAAAAAAAAAAAAAAAAAAAAAAAAAAAAAAAAAAAAAAAAAAAAAAAAAAAAAAAAAAAAAAAAAAAAAAAAAAAAAAAAAAAAAAAAAAAAAAAAAAAAAAAAAAAAAAAAAAAAAAAAAAAAAAAAAAAAAAAAAAAAAAAAAAAAAAAAAAAAAAAAAAAAAAAAAAAAAAAAAAAAAAAAAAAAAAAAAAAAAAAAAAAAAAAAAAAAAAAAAAAAAAAAAAAAAAAAAAAAAAAAAAAAAAAAAAAAAAAAAAAAAAAAAAAAAAAAAAAAAAAAAAAAAAAAAAAAAAAAAAAAAAAAAAAAAAAAAAAAAAAAAAAAAAAAAAAAAAAAAAAAAAAAAAAAAAAAAAAAAAAAAAAAAAAAAAAAAAAAAAAAAAAAAAAAAAAAAAAAAAAAAAAAAAAAAAAAAAAAAAAAAAAAAAAAAAAAAAAAAAAAAAAAAAAAAAAAAAAAAAAAAAAAAAAAAAAAAAAAAAAAAAAAAAAAAAAAAAAAAAAAAAAAAAAAAAAAAAAAAAAAAAAAAAAAAAAAAAAAAAAAAAAAAAAAAAAAAAAAAAAAAAAAAAAAAAAAAAAAAAAAAAAAAAAAAAAAAAAAAAAAAAAAAAAAAAAAAAAAAAAAAAAAAAAAAAAAAAAAAAAAAAAAAAAAAAAAAAAAAAAAAAAAAAAAAAAAAAAAAAAAAAAAAAAAAAAAAAAAAAAAAAAAAAAAAAAAAAAAAAAAAAAAAAAAAAAAAAAAAAAAAAAAAAAAAAAAAAAAAAAAAAAAAAAAAAAAAAAAAAAAAAAAAAAAAAAAAAAAAAAAAAAAAAAAAAAAAAAAAAAAAAAAAAAAAAAAAAAAAAAAAAAAAAAAAAAAAAAAAAAAAAAAAAAAAAAAAAAAAAAAAAAAAAAAAAAAAAAAAAAAAAAAAAAAAAAAAAAAAAAAAAAAAAAAAAAAAAAAAAAAAAAAAAAAAAAAAAAAAAAAAAAAAAAAAAAAAAAAAAAAAAAAAAAAAAAAAAAAAAAAAAAAAAAAAAAAAAAAAAAAAAAAAAAAAAAAAAAAAAAAAAAAAAAAAAAAAAAAAAAAAAAAAAAAAAAAAAAAAAAAAAAAAAAAAAAAAAAAAAAAAAAAAAAAAAAAAAAAAAAAAAAAAAAAAAAAAAAAAAAAAAAAAAAAAAAAAAAAAAAAAAAAAAAAAAAAAAAAAAAAAAAAAAAAAAAAAAAAAAAAAAAAAAAAAAAAAAAAAAAAAAAAAAAAAAAAAAAAAAAAAAAAAAAAAAAAAAAAAAAAAAAAAAAAAAAAAAAAAAAAAAAAAAAAAAAAAAAAAAAAAAAAAAAAAAAAAAAAAAAAAAAAAAAAAAAAAAAAAAAAAAAAAAAAAAAAAAAAAAAAAAAAAAAAAAAAAAAAAAAAAAAAAAAAAAAAAAAAAAAAAAAAAAAAAAAAAAAAAAAAAAAAAAAAAAAAAAAAAAAAAAAAAAAAAAAAAAAAAAAAAAAAAAAAAAAAAAAAAAAAAAAAAAAAAAAAAAAAAAAAAAAAAAAAAAAAAAAAAAAAAAAAAAAAAAAAAAAAAAAAAAAAAAAAAAAAAAAAAAAAAAAAAAAAAAAAAAAAAAAAAAAAAAAAAAAAAAAAAAAAAAAAAAAAAAAAAAAAAAAAAAAAAAAAAAAAAAAAAAAAAAAAAAAAAAAAAAAAAAAAAAAAAAAAAAAAAAAAAAAAAAAAAAAAAAAAAAAAAAAAAAAAAAAAAAAAAAAAAAAAAAAAAAAAAAAAAAAAAAAAAAAAAAAAAAAAAAAAAAAAAAAAAAAAAAAAAAAAAAAAAAAAAAAAAAAAAAAAAAAAAAAAAAAAAAAAAAAAAAAAAAAAAAAAAAAAAAAAAAAAAAAAAAAAAAAAAAAAAAAAAAAAAAAAAAAAAAAAAAAAAAAAAAAAAAAAAAAAAAAAAAAAAAAAAAAAAAAAAAAAAAAAAAAAAAAAAAAAAAAAAAAAAAAAAAAAAAAAAAAAAAAAAAAAAAAAAAAAAAAAAAAAAAAAAAAAAAAAAAAAAAAAAAAAAAAAAAAAAAAAAAAAAAAAAAAAAAAAAAAAAAAAAAAAAAAAAAAAAAAAAAAAAAAAAAAAAAAAAAAAAAAAAAAAAAAAAAAAAAAAAAAAAAAAAAAAAAAAAAAAAAAAAAAAAAAAAAAAAAAAAAAAAAAAAAAAAAAAAAAAAAAAAAAAAAAAAAAAAAAAAAAAAAAAAAAAAAAAAAAAAAAAAAAAAAAAAAAAAAAAAAAAAAAAAAAAAAAAAAAAAAAAAAAAAAAAAAAAAAAAAAAAAAAAAAAAAAAAAAAAAAAAAAAAAAAAAAAAAAAAAAAAAAAAAAAAAAAAAAAAAAAAAAAAAAAAAAAAAAAAAAAAAAAAAAAAAAAAAAAAAAAAAAAAAAAAAAAAAAAAAAAAAAAAAAAAAAAAAAAAAAAAAAAAAAAAAAAAAAAAAAAAAAAAAAAAAAAAAAAAAAAAAAAAAAAAAAAAAAAAAAAAAAAAAAAAAAAAAAAAAAAAAAAAAAAAAAAAAAAAAAAAAAAAAAAAAAAAAAAAAAAAAAAAAAAAAAAAAAAAAAAAAAAAAAAAAAAAAAAAAAAAAAAAAAAAAAAAAAAAAAAAAAAAAAAAAAAAAAAAAAAAAAAAAAAAAAAAAAAAAAAAAAAAAAAAAAAAAAAAAAAAAAAAAAAAAAAAAAAAAAAAAAAAAAAAAAAAAAAAAAAAAAAAAAAAAAAAAAAAAAAAAAAAAAAAAAAAAAAAAAAAAAAAAAAAAAAAAAAAAAAAAAAAAAAAAAAAAAAAAAAAAAAAAAAAAAAAAAAAAAAAAAAAAAAAAAAAAAAAAAAAAAAAAAAAAAAAAAAAAAAAAAAAAAAAAAAAAAAAAAAAAAAAAAAAAAAAAAAAAAAAAAAAAAAAAAAAAAAAAAAAAAAAAAAAAAAAAAAAAAAAAAAAAAAAAAAAAAAAAAAAAAAAAAAAAAAAAAAAAAAAAAAAAAAAAAAAAAAAAAAAAAAAAAAAAAAAAAAAAAAAAAAAAAAAAAAAAAAAAAAAAAAAAAAAAAAAAAAAAAAAAAAAAAAAAAAAAAAAAAAAAAAAAAAAAAAAAAAAAAAAAAAAAAAAAAAAAAAAAAAAAAAAAAAAAAAAAAAAAAAAAAAAAAAAAAAAAAAAAAAAAAAAAAAAAAAAAAAAAAAAAAAAAAAAAAAAAAAAAAAAAAAAAAAAAAAAAAAAAAAAAAAAAAAAAAAAAAAAAAAAAAAAAAAAAAAAAAAAAAAAAAAAAAAAAAAAAAAAAAAAAAAAAAAAAAAAAAAAAAAAAAAAAAAAAAAAAAAAAAAAAAAAAAAAAAAAAAAAAAAAAAAAAAAAAAAAAAAAAAAAAAAAAAAAAAAAAAAAAAAAAAAAAAAAAAAAAAAAAAAAAAAAAAAAAAAAAAAAAAAAAAAAAAAAAAAAAAAAAAAAAAAAAAAAAAAAAAAAAAAAAAAAAAAAAAAAAAAAAAAAAAAAAAAAAAAAAAAAAAAAAAAAAAAAAAAAAAAAAAAAAAAAAAAAAAAAAAAAAAAAAAAAAAAAAAAAAAAAAAAAAAAAAAAAAAAAAAAAAAAAAAAAAAAAAAAAAAAAAAAAAAAAAAAAAAAAAAAAAAAAAAAAAAAAAAAAAAAAAAAAAAAAAAAAAAAAAAAAAAAAAAAAAAAAAAAAAAAAAAAAAAAAAAAAAAAAAAAAAAAAAAAAAAAAAAAAAAAAAAAAAAAAAAAAAAAAAAAAAAAAAAAAAAAAAAAAAAAAAAAAAAAAAAAAAAAAAAAAAAAAAAAAAAAAAAAAAAAAAAAAAAAAAAAAAAAAAAAAAAAAAAAAAAAAAAAAAAAAAAAAAAAAAAAAAAAAAAAAAAAAAAAAAAAAAAAAAAAAAAAAAAAAAAAAAAAAAAAAAAAAAAAAAAAAAAAAAAAAAAAAAAAAAAAAAAAAAAAAAAAAAAAAAAAAAAAAAAAAAAAAAAAAAAAAAAAAAAAAAAAAAAAAAAAAAAAAAAAAAAAAAAAAAAAAAAAAAAAAAAAAAAAAAAAAAAAAAAAAAAAAAAAAAAAAAAAAAAAAAAAAAAAAAAAAAAAAAAAAAAAAAAAAAAAAAAAAAAAAAAAAAAAAAAAAAAAAAAAAAAAAAAAAAAAAAAAAAAAAAAAAAAAAAAAAAAAAAAAAAAAAAAAAAAAAAAAAAAAAAAAAAAAAAAAAAAAAAAAAAAAAAAAAAAAAAAAAAAAAAAAAAAAAAAAAAAAAAAAAAAAAAAAAAAAAAAAAAAAAAAAAAAAAAAAAAAAAAAAAAAAAAAAAAAAAAAAAAAAAAAAAAAAAAAAAAAAAAAAAAAAAAAAMAAAAAAAMAAAAAAAAAAAAAAAAAAAAAAAAAAAAAAAAAAAAAAAAAAAAAAAAAAAAAAAAAAAAAAAAAAAAAAAAAAAAAAAAAAAAAAAAAAAAAAAAAAAAAAAAAAAAAAAAAAAAAAAAAAAAAAAAAAAAAAAAAAAAAAAAAAAAAAAAAAAAAAAAAAAAAAAAAAAAAAAAAAAAAAAAAAAAAAAAAAAAAAAAAAAAAAAAAAAAAAAAAAAAAAAAAAAAAAAAAAAAAAAAAAAAAAAAAAAAAAAAAAAAAAAAAAAAAAAAAAAAAAAAAAAAAAAAAAAAAAAAAAAAAAAAAAAAAAAAAAAAAAAAAAAAAAAAAAAAAAAAAAAAAAAAAAAAAAAAAAAAAAAAAAAAAAAAAAAAAAAAAAAAAAAAAAAAAAAAAAAAAAAAAAAAAAAAAAAAAAAAAAAAAAAAAAAAAAAAAAAAAAAAAAAAAAAAAAAAAAAAAAAAAAAAAAAAAAAAAAAAAAAAAAAAAAAAAAAAAAAAAAAAAAAAAAAAAAAAAAAAAAAAAAAAAAAAAAAAAAAAAAAAAAAAAAAAAAAAAAAAAAAAAAAAAAAAAAAAAAAAAAAAAAAAAAAAAAAAAAAAAAAAAAAAAAAAAAAAAAAAAAAAAAAAAAAAAAAAAAAAAAAAAAAAAAAAAAAAAAAAAAAAAAAAAAAAAAAAAAAAAAAAAAAAAAAAAAAAAAAAAAAAAAAAAAAAAAAAAAAAAAAAAAAAAAAAAAAAAAAAAAAAAAAAAAAAAAAAAAAAAAAAAAAAAAAAAAAAAAAAAAAAAAAAAAAAAAAAAAAAAAAAAAAAAAAAAAAAAAAAAAAAAAAAAAAAAAAAAAAAAAAAAAAAAAAAAAAAAAAAAAAAAAAAAAAAAAAAAAAAAAAAAAAAAAAAAAAAAAAAAAAAAAAAAAAAAAAAAAAAAAAAAAAAAAAAAAAAAAAAAAAAAAAAAAAAAAAAAAAAAAAAAAAAAAAAAAAAAAAAAAAAAAAAAAAAAAAAAAAAAAAAAAAAAAAAADQ/wAAAAAAAAAAAAAAAAAAAAAAAAAAAAAAAAAAAAAAAAAAAAAAAAAAAAAAAAAAAAAAAAAAAAAAAAAAAAAAAAAAAAAAAAAAAAAAAAAA0P8AAAAAAAAAAAAAAAAAAAAAAAAAAAAAAAAAAAAAAAAAAAAAAAAAAAAAAAAAAAAAAAAAAAAAAAAAAAAAAAAAAAAAAAAAAAAAAAAAAAAAAAAAAAAAAAAAAAAAAAAAAAAAAAAAAAAAAAAAAAAAAAAAAAAAAAAAAAAAAAAAAAAAAAAAAAAAAAAAAAAAAAAAAAAAAAAAAAAAAAAAAAAAAAAAAAAAAAAAAAAAAAAAAAAAAAAAAAAAAAAAAAAAAAAAAAAAAAAAAAAAAAAAAAAAAAAAAAAAAAAAAAAAAAAAAAAAAAAAAAAAAAAAAAAAAAAAAAAAAAAAAAAAAAAAAAAAAAAAAAAAAAAAAAAAAAAAAAAAAAAAAAAAAAAAAAAAAAAAAAAAAAAAAAAAAAAAAAAAAAAAAAAAAAAAAAAAAAAAAAAAAAAAAAAAAAAAAAAAAAAAAAAAAAAAAAAAAAAAAAAAAAAAAAAAAAAAAAAAAAAAAAAAAAAAAAAAAAAAAAAAAAAAAAAAAAAAAAAAAAAAAAAAAAAAAAAAAAAAAAAAAAAAAAAAAAAAAAAAAAAAAAAAAAAAAAAAAAAAAAAAAAAAAAAAAAAAAAAAAAAAAAAAAAAAAAAAAAAAAAAAAAAAAAAAAAAAAAAAAAAAAAAAAAAAAAAAAAAAAAAAAAAAAAAAAAAAAAAAAAAAAAAAAAAAAAAAAAAAAAAAAAAAAAAAAAAAAAAAAAAAAAAAAAAAAAAAAAAAAAAAAAAAAAAAAAAAAAAAAAAAAAAAAAAAAAAAAAAAAAAAAAAAAAAAAAAAAAAAAAAAAAAAAAAAAAAAAAAAAAAAAAAAAAAAAAAAAAAAAAAAAAAAAAAAAAAAAAAAAAAAAAAAAAAAAAAAAAAAAAAAAAAAAAAAAAAAAAAAAAAAAAAAAAAAAAAAAAAAAAAAAAAAAAAAAAAAAAAAAAAAAAAAAAAAAAAAAAAAAAAAAAAAAAAAAAAAAAAAAAAAAAAAAAAAAAAAAAAAAAAAAAAAAAAAAAAAAAAAAAAAAAAAAAAAAAAAAAAAAAAAAAAAAAAAAAAAAAAAAAAAAAAAAAAAAAAAAAAAAAAAAAAAAAAAAAAAAAAAAAAAAAAAAAAAAAAAAAAAAAAAAAAAAAAAAAAAAAAAAAAAAAAAAAAAAAAAAAAAAAAAAAAAAAAAAAAAAAAAAAAAAAAAAAAAAAAAAAAAAAAAAAAAAAAAAAAAAAAAAAAAAAAAAAAAAAAAAAAAAAAAAAAAAAAAAAAAAAAAAAAAAAAAAAAAAAAAAAAAAAAAAAAAAAAAAAAAAAAAAAAAAAAAAAAAAAAAAAAAAAAAAAAAAAAAAAAAAAAAAAAAAAAAAAAAAAAAAAAAAAAAAAAAAAAAAAAAAAAAAAAAAAAAAAAAAAAAAAAAAAAAAAAAAAAAAAAAAAAAAAAAAAAAAAAAAAAAAAAAAAAAAAAAAAAAAAAAAAAAAAAAAAAAAAAAAAAAAAAAAAAAAAAAAAAAAAAAAAAAAAAAAAAAAAAAAAAAAAAAAAAAAAAAAAAAAAAAAAAAAAAAAAAAAAAAAAAAAAAAAAAAAAAAAAAAAAAAAAAAAAAAAAAAAAAAAAAAAAAAAAAAAAAAAAAAAAAAAAAAAAAAAAAAAAAAAAAAAAAAAAAAAAAAAAAAAAAAAAAAAAAAAAAAAAAAAAAAAAAAAAAAAAAAAAAAAAAAAAAAAAAAAAAAAAAAAAAAAAAAAAAAAAAAAAAAAAAAAAAAAAAAAAAAAAAAAAAAAAAAAAAAAAAAAAAAAAAAAAAAAAAAAAAAAAAAAAAAAAAAAAAAAAAAAAAAAAAAAAAAAAAAAAAAAAAAAAAAAAAAAAAAAAAAAAAAAAAAAAAAAAAAAAAAAAAAAAAAAAAAAAAAAAAAAAAAAAAAAAAAAAAAAAAAAAAAAAAAAAAAAAAAAAAAAAAAAAAAAAAAAAAAAAAAAAAAAAAAAAAAAAAAAAAAAAAAAAAAAAAAAAAAAAAAAAAAAAAAAAAAAAAAAAAAAAAAAAAAAAAAAAAAAAAAAAAAAAAAAAAAAAAAAAAAAAAAAAAAAAAAAAAAAAAAAAAAAAAAAAAAAAAAAAAAAAAAAAAAAAAAAAAAAAAAAAAAAAAAAAAAAAAAAAAAAAAAAAAAAAAAAAAAAAAAAAAAAAAAAAAAAAAAAAAAAAAAAAAAAAAAAAAAAAAAAAAAAAAAAAAAAAAAAAAAAAAAAAAAAAAAAAAAAAAAAAAAAAAAAAAAAAAAAAAAAAAAAAAAAAAAAAAAAAAAAAAAAAAAAAAAAAAAAAAAAAAAAAAAAAAAAAAAAAAAAAAAAAAAAAAAAAAAAAAAAAAAAAAAAAAAAAAAAAAAAAAAAAAAAAAAAAAAAAAAAAAAAAAAAAAAAAAAAAAAAAAAAAAAAAAAAAAAAAAAAAAAAAAAAAAAAAAAAAAAAAAAAAAAAAAAAAAAAAAAAAAAAAAAAAAAAAAAAAAAAAAAAAAAAAAAAAAAAAAAAAAAAAAAAAAAAAAAAAAAAAAAAAAAAAAAAAAAAAAA0P8AAAAAAAAAAAAAAAAAAAAAAAAAAAAAAAAAAAAAAAAAAAAAAAAAAAAAAAAAAAAAAAAAAAAAAAAAAAAAAAAAAAAA0P8AAAAAAAAAAAAAAAAAAAAAAAAAAAAAAAAAAAAAAAAAAAAAAAAAAAAAAAAAAAAAAAAAAAAAAAAAAAAAAAAAAAAAAAAAAAAA0P8AAAAAAAAAAND/0P8AAAAAAAAAAAAAAAAAAAAAAAAAAAAAAAAAAAAAAAAAAAAAAAAAAAAAAAAAAAAAAAAAAAAAAAAAAAAAAAAAAAAAAAAAAAAAAAAAAAAAAAAAAAAAAAAAAAAAAAAAAAAAAAAAAAAAAAAAAAAAAAAAAAAAAAAAAAAAAAAAAAAAAAAAAAAAAAAAAAAAAAAAAAAAAAAAAAAAAAAAAAAAAAAAAAAAAAAAAAAAAAAAAAAAAAAAAAAAAAAAAAAAAAAAAAAAAAAAAAAAAAAAAAAAAAAAAAAAAAAAAAAAAAAAAAAAAAAAAAAAAAAAAAAAAAAAAAAAAAAAAAAAAAAAAAAAAAAAAAAAAAAAAAAAAAAAAAAAAAAAAAAAAAAAAAAAAAAAAAAAAAAAAAAAAAAAAAAAAAAAAAAAAAAAAAAAAAAAAAAAAAAAAAAAAAAAAAAAAAAAAAAAAAAAAAAAAAAAAAAAAAAAAAAAAAAAAAAAAAAAAAAAAAAAAAAAAAAAAAAAAAAAAAAAAAAAAAAAAAAAAAAAAAAAAAAAAAAAAAAAAAAAAAAAAAAAAAAAAAAAAAAAAAAAAAAAAAAAAAAAAAAAAAAAAAAAAAAAAAAAAAAAAAAAAAAAAAAAAAAAAAAAAAAAAAAAAAAAAAAAAAAAAAAAAAAAAAAAAAAAAAAAAAAAAAAAAAAAAAAAAAAAAAAAAAAAAAAAAAAAAAAAAAAAAAAAAAAAAAAAAAAAAAAAAAAAAAAAAAAAAAAAAAAAAAAAAAAAAAAAAAAAAAAAAAAAAAAAAAAAAAAAAAAAAAAAAAAAAAAAAAAAAAAAAAAAAAAAAAAAAAAAAAAAAAAAAAAAAAAAAAAAAAAAAAAAAAAAAAAAAAAAAAAAAAAAAAAAAAAAAAAAAAAAAAAAAAAAAAAAAAAAAAAAAAAAAAAAAAAAAAAAAAAAAAAAAAAAAAAAAAAAAAAAAAAAAAAAAAAAAAAAAAAAAAAAAAAAAAAAAAAAAAAAAAAAAAAAAAAAAAAAAAAAAAAAAAAAAAAAAAAAAAAAAAAAAAAAAAAAAAAAAAAAAAAAAAAAAAAAAAAAAAAAAAAAAAAAAAAAAAAAAAAAAAAAAAAAAAAAAAAAAAAAAAAAAAAAAAAAAAAAAAAAAAAAAAAAAAAAAAAAAAAAAAAAAAAAAAAAAAAAAAAAAAAAAAAAAAAAAAAAAAAAAAAAAAAAAAAAAAAAAAAAAAAAAAAAAAAAAAAAAAAAAAAAAAAAAAAAAAAAAAAAAAAAAAAAAAAAAAAAAAAAAAAAAAAAAAAAAAAAAAAAAAAAAAAAAAAAAAAAAAAAAAAAAAAAAAAAAAAAAAAAAAAAAAAAAAAAAAAAAAAAAAAAAAAAAAAAAAAAAAAAAAAAAAAAAAAAAAAAAAAAAAAAAAAAAAAAAAAAAAAAAAAAAAAAAAAAAAAAAAAAAAAAAAAAAAAAAAAAAAAAAAAAAAAAAAAAAAAAAAAAAAAAAAAAAAAAAAAAAAAAAAAAAAAAAAAAAAAAAAAAAAAAAAAAAAAAAAAAAAAAAAAAAAAAAAAAAAAAAAAAAAAAAAAAAAAAAAAAAAAAAAAAAAAAAAAAAAAAAAAAAAAAAAAAAAAAAAAAAAAAAAAAAAAAAAAAAAAAAAAAAAAAAAAAAAAAAAAAAAAAAAAAAAAAAAAAAAAAAAAAAAAAAAAAAAAAAAAAAAAAAAAAAAAAAAAAAAAAAAAAAAAAAAAAAAAAAAAAAAAAAAAAAAAAAAAAAAAAAAAAAAAAAAAAAAAAAAAAAAAAAAAAAAAAAAAAAAAAAAAAAAAAAAAAAAAAAAAAAAAAAAAAAAAAAAAAAAAAAAAAAAAAAAAAAAAAAAAAAAAAAAAAAAAAAAAAAAAAAAAAAAAAAAAAAAAAAAAAAAAAAAAAAAAAAAAAAAAAAAAAAAAAAAAAAAAAAAAAAAAAAAAAAAAAAAAAAAAAAAAAAAAAAAAAAAAAAAAAAAAAAAAAAAAAAAAAAAAAAAAAAAAAAAAAAAAAAAAAAAAAAAAAAAAAAAAAAAAAAAAAAAAAAAAAAAAAAAAAAAAAAAAAAAAAAAAAAAAAAAAAAAAAAAAAAAAAAAAAAAAAAAAAAAAAAAAAAAAAAAAAAAAAAAAAAAAAAAAAAAAAAAAAAAAAAAAAAAAAAAAAAAAAAAAAAAAAAAAAAAAAAAAAAAAAAAAAAAAAAAAAAAAAAAAAAAAAAAAAAAAAAAAAAAAAAAAAAAAAAAAAAAAAAAAAAAAAAAAAAAAAAAAAAAAAAAAAAAAAAAAAAAAAAAAAAAAAAAAAAAAAAAAAAAAAAAAAAAAAAAAAAAAAAAAAAAAAAAAAAAAAAAAAAAAAAAAAAAAAAAAAAAAAAAAAAAAAAAAAAAAAAAAAAAAAAAAAAAAAAAAAAAAAAAAAAAAAAAAAAAAAAAAAAAAAAAAAAAAAAAAAAAAAAAAAAAAAAAAAAAAAAAAAAAAAAAAAAAAAAAAAAAAAAAAAAAAAAAAAAAAAAAAAAAAAAAAAAAAAAAAAAAAAAAAAAAAAAAAAAAAAAAAAAAAAAAAAAAAAAAAAAAAAAAAAAAAAAAAAAAAAAAAAAAAAAAAAAAAAAAAAAAAAAAAAAAAAAAAAAAAAAAAAAAAAAAAAAAAAAAAAAAAAAAAAAAAAAAAAAAAAAAAAAAAAAAAAAAAAAAAAAAAAAAAAAAAAAAAAAAAAAAAAAAAAAAAAAAAAAAAAAAAAAAAAAAAAAAAAAAAAAAAAAAAAAAAAAAAAAAAAAAAAAAAAAAAAAAAAAAAAAAAAAAAAAAAAAAAAAAAAAAAAAAAAAAAAAAAAAAAAAAAAAAAAAAAAAAAAAAAAAAAAAAAAAAAAAAAAAAAAAAAAAAAAAAAAAAAAAAAAAAAAAAAAAAAAAAAAAAAAAAAAAAAAAAAAAAAAAAAAAAAAAAAAAAAAAAAAAAAAAAAAAAAAAAAAAAAAAAAAAAAAAAAAAAAAAAAAAAAAAAAAAAAAAAAAAAAAAAAAAAAAAAAAAAAAAAAAAAAAAAAAAAAAAAAAAAAAAAAAAAAAAAAAAAAAAAAAAAAAAAAAAAAAAAAAAAAAAAAAAAAAAAAAAAAAAAAAAAAAAAAAAAAAAAAAAAAAAAAAAAAAAAAAAAAAAAAAAAAAAAAAAAAAAAAAAAAAAAAAAAAAAAAAAAAAAAAAAAAAAAAAAAAAAAAAAAAAAAAAAAAAAAAAAAAAAAAAAAAAAAAAAAAAAAAAAAAAAAAAAAAAAAAAAAAAAAAAAAAAAAAAAAAAAAAAAAAAAAAAAAAAAAAAAAAAAAAAAAAAAAAAAAAAAAAAAAAAAAAAAAAAAAAAAAAAAAAAAAAAAAAAAAAAAAAAAAAAAAAAAAAAAAAAAAAAAAAAAAAAAAAAAAAAAAAAAAAAAAAAAAAAAAAAAAAAAAAAAAAAAAAAAAAAAAAAAAAAAAAAAAAAAAAAAAAAAAAAAAAAAAAAAAAAAAAAAAAAAAAAAAAAAAAAAAAAAAAAAAAAAAAAAAAAAAAAAAAAAAAAAAAAAAAAAAAAAAAAAAAAAAAAAAAAAAAAAAAAAAAAAAAAAAAAAAAAAAAAAAAAAAAAAAAAAAAAAAAAAAAAAAAAAAAAAAAAAAAAAAAAAAAAAAAAAAAAAAAAAAAAAAAAAAAAAAAAAAAAAAAAAAAAAAAAAAAAAAAAAAAAAAAAAAAAAAAAAAAAAAAAAAAAAAAAAAAAAAAAAAAAAAAAAAAAAAAAAAAAAAAAAAAAAAAAAAAAAAAAAAAAAAAAAAAAAAAAAAAAAAAAAAAAAAAAAAAAAAAAAAAAAAAAAAAAAAAAAAAAAAAAAAAAAAAAAAAAAAAAAAAAAAAAAAAAAAAAAAAAAAAAAAAAAAAAAAAAAAAAAAAAAAAAAAAAAAAAAAAAAAAAAAAAAAAAAAAAAAAAAAAAAAAAAAAAAAAAAAAAAAAAAAAAAAAAAAAAAAAAAAAAAAAAAAAAAAAAAAAAAAAAAAAAAAAAAAAAAAAAAAAAAAAAAAAAAAAAAAAAAAAAAAAAAAAAAAAAAAAAAAAAAAAAAAAAAAAAAAAAAAAAAAAAAAAAAAAAAAAAAAAAAAAAAAAAAAAAAAAAAAAAAAAAAAAAAAAAAAAAAAAAAAAAAAAAAAAAAAAAAAAAAAAAAAAAAAAAAAAAAAAAAAAAAAAAAAAAAAAAAAAAAAAAAAAAAAAAAAAAAAAAAAAAAAAAAAAAAAAAAAAAAAAAAAAAAAAAAAAAAAAAAAAAAAAAAAAAAAAAAAAAAAAAAAAAAAAAAAAAAAAAAAAAAAAAAAAAAAAAAAAAAAAAAAAAAAAAAAAAAAAAAAAAAAAAAAAAAAAAAAAAAAAAAAAAAAAAAAAAAAAAAAAAAAAAAAAAAAAAAAAAAAAAAAAAAAAAAAAAAAAAAAAAAAAAAAAAAAAAAAAAAAAAAAAAAAAAAAAAAAAAAAAAAAAAAAAAAAAAAAAAAAAAAAAAAAAAAAAAAAAAAAAAAAAAAAAAAAAAAAAAAAAAAAAAAAAAAAAAAAAAAAAAAAAAAAAAAAAAAAAAAAAAAAAAAAAAAAAAAAAAAAAAAAAAAAAAAAAAAAAAAAAAAAAAAAAAAAAAAAAAAAAAAAAAAAAAAAAAAAAAAAAAAAAAAAAAAAAAAAAAAAAAAAAAAAAAAAAAAAAAAAAAAAAAAAAAAAAAAAAAAAAAAAAAAAAAAAAAAAAAAAAAAAAAAAAAAAAAAAAAAAAAAAAAAAAAAAAAAAAAAAAAAAAAAAAAAAAAAAAAAAAAAAAAAAAAAAAAAAAAAAAAAAAAAAAAAAAAAAAAAAAAAAAAAAAAAAAAAAAAAAAAAAAAAAAAAAAAAAAAAAAAAAAAAAAAAAAAAAAAAAAAAAAAAAAAAAAAAAAAAAAAAAAAAAAAAAAAAAAAAAAAAAAAAAAAAAAAAAAAAAAAAAAAAAAAAAAAAAAAAAAAAAAAAAAAAAAAAAAAAAAAAAAAAAAAAAAAAAAAAAAAAAAAAAAAAAAAAAAAAAAAAAAAAAAAAAAAAAAAAAAAAAAAAAAAAAAAAAAAAAAAAAAAAAAAAAAAAAAAAAAAAAAAAAAAAAAAAAAAAAAAAAAAAAAAAAAAAAAAAAAAAAAAAAAAAAAAAAAAAAAAAAAAAAAAAAAAAAAAAAAAAAAAAAAAAAAAAAAAAAAAAAAAAAAAAAAAAAAAAAAAAAAAAAAAAAAAAAAAAAAAAAAAAAAAAAAAAAAAAAAAAAAAAAAAAAAAAAAAAAAAAAAAAAAAAAAAAAAAAAAAAAAAAAAAAAAAAAAAAAAAAAAAAAAAAAAAAAAAAAAAAAAAAAAAAAAAAAAAAAAAAAAAAAAAAAAAAAAAAAAAAAAAAAAAAAAAAAAAAAAAAAAAAAAAAAAAAAAAAAAAAAAAAAAAAAAAAAAAAAAAAAAAAAAAAAAAAAAAAAAAAAAAAAAAAAAAAAAAAAAAAAAAAAAAAAAAAAAAAAAAAAAAAAAAAAAAAAAAAAAAAAAAAAAAAAAAAAAAAAAAAAAAAAAAAAAAAAAAAAAAAAAAAAAAAAAAAAAAAAAAAAAAAAAAAAAAAAAAAAAAAAAAAAAAAAAAAAAAAAAAAAAAAAAAAAAAAAAAAAAAAAAAAAAAAAAAAAAAAAAAAAAAAAAAAAAAAAAAAAAAAAAAAAAAAAAAAAAAAAAAAAAAAAAAAAAAAAAAAAAAAAAAAAAAAAAAAAAAAAAAAAAAAAAAAAAAAAAAAAAAAAAAAAAAAAAAAAAAAAAAAAAAAAAAAAAAAAAAAAAAAAAAAAAAAAAAAAAAAAAAAAAAAAAAAAAAAAAAAAAAAAAAAAAAAAAAAAAAAAAAAAAAAAAAAAAAAAAAAAAAAAAAAAAAAAAAAAAAAAAAAAAAAAAAAAAAAAAAAAAAAAAAAAAAAAAAAAAAAAAAAAAAAAAAAAAAAAAAAAAAAAAAAAAAAAAAAAAAAAAAAAAAAAAAAAAAAAAAAAAAAAAAAAAAAAAAAAAAAAAAAAAAAAAAAAAAAAAAAAAAAAAAAAAAAAAAAAAAAAAAAAAAAAAAAAAAAAAAAAAAAAAAAAAAAAAAAAAAAAAAAAAAAAAAAAAAAAAAAAAAAAAAAAAAAAAAAAAAAAAAAAAAAAAAAAAAAAAAAAAAAAAAAAAAAAAAAAAAAAAAAAAAAAAAAAAAAAAAAAAAAAAAAAAAAAAAAAAAAAAAAAAAAAAAAAAAAAAAAAAAAAAAAAAAAAAAAAAAAAAAAAAAAAAAAAAAAAAAAAAAAAAAAAAAAAAAAAAAAAAAAAAAAAAAAAAAAAAAAAAAAAAAAAAAAAAAAAAAAAAAAAAAAAAAAAAAAAAAAAAAAAAAAAAAAAAAAAAAAAAAAAAAAAAAAAAAAAAAAAAAAAAAAAAAAAAAAAAAAAAAAAAAAAAAAAAAAAAAAAAAAAAAAAAAAAAAAAAAAAAAAAAAAAAAAAAAAAAAAAAAAAAAAAAAAAAAAAAAAAAAAAAAAAAAAAAAAAAAAAAAAAAAAAAAAAAAAAAAAAAAAAAAAAAAAAAAAAAAAAAAAAAAAAAAAAAAAAAAAAAAAAAAAAAAAAAAAAAAAAAAAAAAAAAAAAAAAAAAAAAAAAAAAAAAAAAAAAAAAAAAAAAAAAAAAAAAAAAAAAAAAAAAAAAAAAAAAAAAAAAAAAAAAAAAAAAAAAAAAAAAAAAAAAAAAAAAAAAAAAAAAAAAAAAAAAAAAAAAAAAAAAAAAAAAAAAAAAAAAAAAAAAAAAAAAAAAAAAAAAAAAAAAAAAAAAAAAAAAAAAAAAAAAAAAAAAAAAAAAAAAAAAAAAAAAAAAAAAAAAAAAAAAAAAAAAAAAAAAAAAAAAAAAAAAAAAAAAAAAAAAAAAAAAAAAAAAAAAAAAAAAAAAAAAAAAAAAAAAAAAAAAAAAAAAAAAAAAAAAAAAAAAAAAAAAAAAAAAAAAAAAAAAAAAAAAAAAAAAAAAAAAAAAAAAAAAAAAAAAAAAAAAAAAAAAAAAAAAAAAAAAAAAAAAAAAAAAAAAAAAAAAAAAAAAAAAAAAAAAAAAAAAAAAAAAAAAAAAAAAAAAAAAAAAAAAAAAAAAAAAAAAAAAAAAAAAAAAAAAAAAAAAAAAAAAAAAAAAAAAAAAAAAAAAAAAAAAAAAAAAAAAAAAAAAAAAAAAAAAAAAAAAAAAAAAAAAAAAAAAAAAAAAAAAAAAAAAAAAAAAAAAAAAAAAAAAAAAAAAAAAAAAAAAAAAAAAAAAAAAAAAAAAAAAAAAAAAAAAAAAAAAAAAAAAAAAAAAAAAAAAAAAAAAAAAAAAAAAAAAAAAAAAAAAAAAAAAAAAAAAAAAAAAAAAAAAAAAAAAAAAAAAAAAAAAAAAAAAAAAAAAAAAAAAAAAAAAAAAAAAAAAAAAAAAAAAAAAAAAAAAAAAAAAAAAAAAAAAAAAAAAAAAAAAAAAAAAAAAAAAAAAAAAAAAAAAAAAAAAAAAAAAAAAAAAAAAAAAAAAAAAAAAAAAAAAAAAAAAAAAAAAAAAAAAAAAAAAAAAAAAAAAAAAAAAAAAAAAAAAAAAAAAAAAAAAAAAAAAAAAAAAAAAAAAAAAAAAAAAAAAAAAAAAAAAAAAAAAAAAAAAAAAAAAAAAAAAAAAAAAAAAAAAAAAAAAAAAAAAAAAAAAAAAAAAAAAAAAAAAAAAAAAAAAAAAAAAAAAAAAAAAAAAAAAAAAAAAAAAAAAAAAAAAAAAAAAAAAAAAAAAAAAAAAAAAAAAAAAAAAAAAAAAAAAAAAAAAAAAAAAAAAAAAAAAAAAAAAAAAAAAAAAAAAAAAAAAAAAAAAAAAAAAAAAAAAAAAAAAAAAAAAAAAAAAAAAAAAAAAAAAAAAAAAAAAAAAAAAAAAAAAAAAAAAAAAAAAAAAAAAAAAAAAAAAAAAAAAAAAAAAAAAAAAAAAAAAAAAAAAAAAAAAAAAAAAAAAAAAAAAAAAAAAAAAAAAAAAAAAAAAAAAAAAAAAAAAAAAAAAAAAAAAAAAAAAAAAAAAAAAAAAAAAAAAAAAAAAAAAAAAAAAAAAAAAAAAAAAAAAAAAAAAAAAAAAAAAAAAAAAAAAAAAAAAAAAAAAAAAAAAAAAAAAAAAAAAAAAAAAAAAAAAAAAAAAAAAAAAAAAAAAAAAAAAAAAAAAAAAAAAAAAAAAAAAAAAAAAAAAAAAAAAAAAAAAAAAAAAAAAAAAAAAAAAAAAAAAAAAAAAAAAAAAAAAAAAAAAAAAAAAAAAAAAAAAAAAAAAAAAAAAAAAAAAAAAAAAAAAAAAAAAAAAAAAAAAAAAAAAAAAAAAAAAAAAAAAAAAAAAAAAAAAAAAAAAAAAAAAAAAAAAAAAAAAAAAAAAAAAAAAAAAAAAAAAAAAAAAAAAAAAAAAAAAAAAAAAAAAAAAAAAAAAAAAAAAAAAAAAAAAAAAAAAAAAAAAAAAAAAAAAAAAAAAAAAAAAAAAAAAAAAAAAAAAAAAAAAAAAAAAAAAAAAAAAAAAAAAAAAAAAAAAAAAAAAAAAAAAAAAAAAAAAAAAAAAAAAAAAAAAAAAAAAAAAAAAAAAAAAAAAAAAAAAAAAAAAAAAAAAAAAAAAAAAAAAAAAAAAAAAAAAAAAAAAAAAAAAAAAAAAAAAAAAAAAAAAAAAAAAAAAAAAAAAAAAAAAAAAAAAAAAAAAAAAAAAAAAAAAAAAAAAAAAAAAAAAAAAAAAAAAAAAAAAAAAAAAAAAAAAAAAAAAAAAAAAAAAAAAAAAAAAAAAAAAAAAAAAAAAAAAAAAAAAAAAAAAAAAAAAAAAAAAAAAAAAAAAAAAAAAAAAAAAAAAAAAAAAAAAAAAAAAAAAAAAAAAAAAAAAAAAAAAAAAAAAAAAAAAAAAAAAAAAAAAAAAAAAAAAAAAAAAAAAAAAAAAAAAAAAAAAAAAAAAAAAAAAAAAAAAAAAAAAAAAAAAAAAAAAAAAAAAAAAAAAAAAAAAAAAAAAAAAAAAAAAAAAAAAAAAAAAAAAAAAAAAAAAAAAAAAAAAAAAAAAAAAAAAAAAAAAAAAAAAAAAAAAAAAAAAAAAAAAAAAAAAAAAAAAAAAAAAAAAAAAAAAAAAAAAAAAAAAAAAAAAAAAAAAAAAAAAAAAAAAAAAAAAAAAAAAAAAAAAAAAAAAAAAAAAAAAAAAAAAAAAAAAAAAAAAAAAAAAAAAAAAAAAAAAAAAAAAAAAAAAAAAAAAAAAAAAAAAAAAAAAAAAAAAAAAAAAAAAAAAAAAAAAAAAAAAAAAAAAAAAAAAAAAAAAAAAAAAAAAAAAAAAAAAAAAAAAAAAAAAAAAAAAAAAAAAAAAAAAAAAAAAAAAAAAAAAAAAAAAAAAAAAAAAAAAAAAAAAAAAAAAAAAAAAAAAAAAAAAAAAAAAAAAAAAAAAAAAAAAAAAAAAAAAAAAAAAAAAAAAAAAAAAAAAAAAAAAAAAAAAAAAAAAAAAAAAAAAAAAAAAAAAAAAAAAAAAAAAAAAAAAAAAAAAAAAAAAAAAAAAAAAAAAAAAAAAAAAAAAAAAAAAAAAAAAAAAAAAAAAAAAAAAAAAAAAAAAAAAAAAAAAAAAAAAAAAAAAAAAAAAAAAAAAAAAAAAAAAAAAAAAAAAAAAAAAAAAAAAAAAAAAAAAAAAAAAAAAAAAAAAAAAAAAAAAAAAAAAAAAAAAAAAAAAAAAAAAAAAAAAAAAAAAAAAAAAAAAAAAAAAAAAAAAAAAAAAAAAAAAAAAAAAAAAAAAAAAAAAAAAAAAAAAAAAAAAAAAAAAAAAAAAAAAAAAAAAAAAAAAAAAAAAAAAAAAAAAAAAAAAAAAAAAAAAAAAAAAAAAAAAAAAAAAAAAAAAAAAAAAAAAAAAAAAAAAAAAAAAAAAAAAAAAAAAAAAAAAAAAAAAAAAAAAAAAAAAAAAAAAAAAAAAAAAAAAAAAAAAAAAAAAAAAAAAAAAAAAAAAAAAAAAAAAAAAAAAAAAAAAAAAAAAAAAAAAAAAAAAAAAAAAAAAAAAAAAAAAAAAAAAAAAAAAAAAAAAAAAAAAAAAAAAAAAAAAAAAAAAAAAAAAAAAAAAAAAAAAAAAAAAAAAAAAAAAAAAAAAAAAAAAAAAAAAAAAAAAAAAAAAAAAAAAAAAAAAAAAAAAAAAAAAAAAAAAAAAAAAAAAAAAAAAAAAAAAAAAAAAAAAAAAAAAAAAAAAAAAAAAAAAAAAAAAAAAAAAAAAAAAAAAAAAAAAAAAAAAAAAAAAAAAAAAAAAAAAAAAAAAAAAAAAAAAAAAAAAAAAAAAAAAAAAAAAAAAAAAAAAAAAAAAAAAAAAAAAAAAAAAAAAAAAAAAAAAAAAAAAAAAAAAAAAAAAAAAAAAAAAAAAAAAAAAAAAAAAAAAAAAAAAAAAAAAAAAAAAAAAAAAAAAAAAAAAAAAAAAAAAAAAAAAAAAAAAAAAAAAAAAAAAAAAAAAAAAAAAAAAAAAAAAAAAAAAAAAAAAAAAAAAAAAAAAAAAAAAAAAAAAAAAAAAAAAAAAAAAAAAAAAAAAAAAAAAAAAAAAAAAAAAAAAAAAAAAAAAAAAAAAAAAAAAAAAAAAAAAAAAAAAAAAAAAAAAAAAAAAAAAAAAAAAAAAAAAAAAAAAAAAAAAAAAAAAAAAAAAAAAAAAAAAAAAAAAAAAAAAAAAAAAAAAAAAAAAAAAAAAAAAAAAAAAAAAAAAAAAAAAAAAAAAAAAAAAAAAAAAAAAAAAAAAAAAAAAAAAAAAAAAAAAAAAAAAAAAAAAAAAAAAAAAAAAAAAAAAAAAAAAAAAAAAAAAAAAAAAAAAAAAAAAAAAAAAAAAAAAAAAAAAAAAAAAAAAAAAAAAAAAAAAAAAAAAAAAAAAAAAAAAAAAAAAAAAAAAAAAAAAAAAAAAAAAAAAAAAAAAAAAAAAAAAAAAAAAAAAAAAAAAAAAAAAAAAAAAAAAAAAAAAAAAAAAAAAAAAAAAAAAAAAAAAAAAAAAAAAAAAAAAAAAAAAAAAAAAAAAAAAAAAAAAAAAAAAAAAAAAAAAAAAAAAAAAAAAAAAAAAAAAAAAAAAAAAAAAAAAAAAAAAAAAAAAAAAAAAAAAAAAAAAAAAAAAAAAAAAAAAAAAAAAAAAAAAAAAAAAAAAAAAAAAAAAAAAAAAAAAAAAAAAAAAAAAAAAAAAAAAAAAAAAAAAAAAAAAAAAAAAAAAAAAAAAAAAAAAAAAAAAAAAAAAAAAAAAAAAAAAAAAAAAAAAAAAAAAAAAAAAAAAAAAAAAAAAAAAAAAAAAAAAAAAAAAAAAAAAAAAAAAAAAAAAAAAAAAAAAAAAAAAAAAAAAAAAAAAAAAAAAAAAAAAAAAAAAAAAAAAAAAAAAAAAAAAAAAAAAAAAAAAAAAAAAAAAAAAAAAAAAAAAAAAAAAAAAAAAAAAAAAAAAAAAAAAAAAAAAAAAAAAAAAAAAAAAAAAAAAAAAAAAAAAAAAAAAAAAAAAAAAAAAAAAAAAAAAAAAAAAAAAAAAAAAAAAAAAAAAAAAAAAAAAAAAAAAAAAAAAAAAAAAAAAAAAAAAAAAAAAAAAAAAAAAAAAAAAAAAAAAAAAAAAAAAAAAAAAAAAAAAAAAAAAAAAAAAAAAAAAAAAAAAAAAAAAAAAAAAAAAAAAAAAAAAAAAAAAAAAAAAAAAAAAAAAAAAAAAAAAAAAAAAAAAAAAAAAAAAAAAAAAAAAAAAAAAAAAAAAAAAAAAAAAAAAAAAAAAAAAAAAAAAAAAAAAAAAAAAAAAAAAAAAAAAAAAAAAAAAAAAAAAAAAAAAAAAAAAAAAAAAAAAAAAAAAAAAAAAAAAAAAAAAAAAAAAAAAAAAAAAAAAAAAAAAAAAAAAAAAAAAAAAAAAAAAAAAAAAAAAAAAAAAAAAAAAAAAAAAAAAAAAAAAAAAAAAAAAAAAAAAAAAAAAAAAAAAAAAAAAAAAAAAAAAAAAAAAAAAAAAAAAAAAAAAAAAAAAAAAAAAAAAAAAAAAAAAAAAAAAAAAAAAAAAAAAAAAAAAAAAAAAAAAAAAAAAAAAAAAAAAAAAAAAAAAAAAAAAAAAAAAAAAAAAAAAAAAAAAAAAAAAAAAAAAAAAAAAAAAAAAAAAAAAAAAAAAAAAAAAAAAAAAAAAAAAAAAAAAAAAAAAAAAAAAAAAAAAAAAAAAAAAAAAAAAAAAAAAAAAAAAAAAAAAAAAAAAAAAAAAAAAAAAAAAAAAAAAAAAAAAAAAAAAAAAAAAAAAAAAAAAAAAAAAAAAAAAAAAAAAAAAAAAAAAAAAAAAAAAAAAAAAAAAAAAAAAAAAAAAAAAAAAAAAAAAAAAAAAAAAAAAAAAAAAAAAAAAAAAAAAAAAAAAAAAAAAAAAAAAAAAAAAAAAAAAAAAAAAAAAAAAAAAAAAAAAAAAAAAAAAAAAAAAAAAAAAAAAAAAAAAAAAAAAAAAAAAAAAAAAAAAAAAAAAAAAAAAAAAAAAAAAAAAAAAAAAAAAAAAAAAAAAAAAAAAAAAAAAAAAAAAAAAAAAAAAAAAAAAAAAAAAAAAAAAAAAAAAAAAAAAAAAAAAAAAAAAAAAAAAAAAAAAAAAAAAAAAAAAAAAAAAAAAAAAAAAAAAAAAAAAAAAAAAAAAAAAAAAAAAAAAAAAAAAAAAAAAAAAAAAAAAAAAAAAAAAAAAAAAAAAAAAAAAAAAAAAAAAAAAAAAAAAAAAAAAAAAAAAAAAAAAAAAAAAAAAAAAAAAAAAAAAAAAAAAAAAAAAAAAAAAAAAAAAAAAAAAAAAAAAAAAAAAAAAAAAAAAAAAAAAAAAAAAAAAAAAAAAAAAAAAAAAAAAAAAAAAAAAAAAAAAAAAAAAAAAAAAAAAAAAAAAAAAAAAAAAAAAAAAAAAAAAAAAAAAAAAAAAAAAAAAAAAAAAAAAAAAAAAAAAAAAAAAAAAAAAAAAAAAAAAAAAAAAAAAAAAAAAAAAAAAAAAAAAAAAAAAAAAAAAAAAAAAAAAAAAAAAAAAAAAAAAAAAAAAAAAAAAAAAAAAAAAAAAAAAAAAAAAAAAAAAAAAAAAAAAAAAAAAAAAAAAAAAAAAAAAAAAAAAAAAAAAAAAAAAAAAAAAAAAAAAAAAAAAAAAAAAAAAAAAAAAAAAAAAAAAAAAAAAAAAAAAAAAAAAAAAAAAAAAAAAAAAAAAAAAAAAAAAAAAAAAAAAAAAAAAAAAAAAAAAAAAAAAAAAAAAAAAAAAAAAAAAAAAAAAAAAAAAAAAAAAAAAAAAAAAAAAAAAAAAAAAAAAAAAAAAAAAAAAAAAAAAAAAAAAAAAAAAAAAAAAAAAAAAAAAAAAAAAAAAAAAAAAAAAAAAAAAAAAAAAAAAAAAAAAAAAAAAAAAAAAAAAAAAAAAAAAAAAAAAAAAAAAAAAAAAAAAAAAAAAAAAAAAAAAAAAAAAAAAAAAAAAAAAAAAAAAAAAAAAAAAAAAAAAAAAAAAAAAAAAAAAAAAAAAAAAAAAAAAAAAAAAAAAAAAAAAAAAAAAAAAAAAAAAAAAAAAAAAAAAAAAAAAAAAAAAAAAAAAAAAAAAAAAAAAAAAAAAAAAAAAAAAAAAAAAAAAAAAAAAAAAAAAAAAAAAAAAAAAAAAAAAAAAAAAAAAAAAAAAAAAAAAAAAAAAAAAAAAAAAAAAAAAAAAAAAAAAAAAAAAAAAAAAAAAAAAAAAAAAAAAAAAAAAAAAAAAAAAAAAAAAAAAAAAAAAAAAAAAAAAAAAAAAAAAAAAAAAAAAAAAAAAAAAAAAAAAAAAAAAAAAAAAAAAAAAAAAAAAAAAAAAAAAAAAAAAAAAAAAAAAAAAAAAAAAAAAAAAAAAAAAAAAAAAAAAAAAAAAAAAAAAAAAAAAAAAAAAAAAAAAAAAAAAAAAAAAAAAAAAAAAAAAAAAAAAAAAAAAAAAAAAAAAAAAAAAAAAAAAAAAAAAAAAAAAAAAAAAAAAAAAAAAAAAAAAAAAAAAAAAAAAAAAAAAAAAAAAAAAAAAAAAAAAAAAAAAAAAAAAAAAAAAAAAAAAAAAAAAAAAAAAAAAAAAAAAAAAAAAAAAAAAAAAAAAAAAAAAAAAAAAAAAAAAAAAAAAAAAAAAAAAAAAAAAAAAAAAAAAAAAAAAAAAAAAAAAAAAAAAAAAAAAAAAAAAAAAAAAAAAAAAAAAAAAAAAAAAAAAAAAAAAAAAAAAAAAAAAAAAAAAAAAAAAAAAAAAAAAAAAAAAAAAAAAAAAAAAAAAAAAAAAAAAAAAAAAAAAAAAAAAAAAAAAAAAAAAAAAAAAAAAAAAAAAAAAAAAAAAAAAAAAAAAAAAAAAAAAAAAAAAAAAAAAAAAAAAAAAAAAAAAAAAAAAAAAAAAAAAAAAAAAAAAAAAAAAAAAAAAAAAAAAAAAAAAAAAAAAAAAAAAAAAAAAAAAAAAAAAAAAAAAAAAAAAAAAAAAAAAAAAAAAAAAAAAAAAAAAAAAAAAAAAAAAAAAAAAAAAAAAAAAAAAAAAAAAAAAAAAAAAAAAAAAAAAAAAAAAAAAAAAAAAAAAAAAAAAAAAAAAAAAAAAAAAAAAAAAAAAAAAAAAAAAAAAAAAAAAAAAAAAAAAAAAAAAAAAAAAAAAAAAAAAAAAAAAAAAAAAAAAAAAAAAAAAAAAAAAAAAAAAAAAAAAAAAAAAAAAAAAAAAAAAAAAAAAAAAAAAAAAAAAAAAAAAAAAAAAAAAAAAAAAAAAAAAAAAAAAAAAAAAAAAAAAAAAAAAAAAAAAAAAAAAAAAAAAAAAAAAAAAAAAAAAAAAAAAAAAAAAAAAAAAAAAAAAAAAAAAAAAAAAAAAAAAAAAAAAAAAAAAAAAAAAAAAAAAAAAAAAAAAAAAAAAAAAAAAAAAAAAAAAAAAAAAAAAAAAAAAAAAAAAAAAAAAAAAAAAAAAAAAAAAAAAAAAAAAAAAAAAAAAAAAAAAAAAAAAAAAAAAAAAAAAAAAAAAAAAAAAAAAAAAAAAAAAAAAAAAAAAAAAAAAAAAAAAAAAAAAAAAAAAAAAAAAAAAAAAAAAAAAAAAAAAAAAAAAAAAAAAAAAAAAAAAAAAAAAAAAAAAAAAAAAAAAAAAAAAAAAAAAAAAAAAAAAAAAAAAAAAAAAAAAAAAAAAAAAAAAAAAAAAAAAAAAAAAAAAAAAAAAAAAAAAAAAAAAAAAAAAAAAAAAAAAAAAAAAAAAAAAAAAAAAAAAAAAAAAAAAAAAAAAAAAAAAAAAAAAAAAAAAAAAAAAAAAAAAAAAAAAAAAAAAAAAAAAAAAAAAAAAAAAAAAAAAAAAAAAAAAAAAAAAAAAAAAAAAAAAAAAAAAAAAAAAAAAAAAAAAAAAAAAAAAAAAAAAAAAAAAAAAAAAAAAAAAAAAAAAAAAAAAAAAAAAAAAAAAAAAAAAAAAAAAAAAAAAAAAAAAAAAAAAAAAAAAAAAAAAAAAAAAAAAAAAAAAAAAAAAAAAAAAAAAAAAAAAAAAAAAAAAAAAAAAAAAAAAAAAAAAAAAAAAAAAAAAAAAAAAAAAAAAAAAAAAAAAAAAAAAAAAAAAAAAAAAAAAAAAAAAAAAAAAAAAAAAAAAAAAAAAAAAAAAAAAAAAAAAAAAAAAAAAAAAAAAAAAAAAAAAAAAAAAAAAAAAAAAAAAAAAAAAAAAAAAAAAAAAAAAAAAAAAAAAAAAAAAAAAAAAAAAAAAAAAAAAAAAAAAAAAAAAAAAAAAAAAAAAAAAAAAAAAAAAAAAAAAAAAAAAAAAAAAAAAAAAAAAAAAAAAAAAAAAAAAAAAAAAAAAAAAAAAAAAAAAAAAAAAAAAAAAAAAAAAAAAAAAAAAAAAAAAAAAAAAAAAAAAAAAAAAAAAAAAAAAAAAAAAAAAAAAAAAAAAAAAAAAAAAAAAAAAAAAAAAAAAAAAAAAAAAAAAAAAAAAAAAAAAAAAAAAAAAAAAAAAAAAAAAAAAAAAAAAAAAAAAAAAAAAAAAAAAAAAAAAAAAAAAAAAAAAAAAAAAAAAAAAAAAAAAAAAAAAAAAAAAAAAAAAAAAAAAAAAAAAAAAAAAAAAAAAAAAAAAAAAAAAAAAAAAAAAAAAAAAAAAAAAAAAAAAAAAAAAAAAAAAAAAAAAAAAAAAAAAAAAAAAAAAAAAAAAAAAAAAAAAAAAAAAAAAAAAAAAAAAAAAAAAAAAAAAAAAAAAAAAAAAAAAAAAAAAAAAAAAAAAAAAAAAAAAAAAAAAAAAAAAAAAAAAAAAAAAAAAAAAAAAAAAAAAAAAAAAAAAAAAAAAAAAAAAAAAAAAAAAAAAAAAAAAAAAAAAAAAAAAAAAAAAAAAAAAAAAAAAAAAAAAAAAAAAAAAAAAAAAAAAAAAAAAAAAAAAAAAAAAAAAAAAAAAAAAAAAAAAAAAAAAAAAAAAAAAAAAAAAAAAAAAAAAAAAAAAAAAAAAAAAAAAAAAAAAAAAAAAAAAAAAAAAAAAAAAAAAAAAAAAAAAAAAAAAAAAAAAAAAAAAAAAAAAAAAAAAAAAAAAAAAAADQ/wAAAAAAAAAAAAAAAAAAAAAAAAAAAAAAAAAAAAAAAAAAAAAAAAAAAAAAAAAAAAAAAAAAAAAAAAAAAAAAAAAAAAAAAAAAAAAAAAAAAAAAAAAAAAAAAAAAAAAAAAAAAAAAAAAAAAAAAAAAAAAAAAAAAAAAAAAAAAAAAAAAAAAAAAAAAAAAAAAAAAAAAAAAAAAAAAAAAAAAAAAAAAAAAAAAAAAAAAAAAAAAAAAAAAAAAAAAAAAAAAAAAAAAAAAAAAAAAAAAAAAAAAAAAAAAAAAAAAAAAAAAAAAAAAAAAAAAAAAAAAAAAAAAAAAAAAAAAAAAAAAAAAAAAAAAAAAAAAAAAAAAAAAAAAAAAAAAAAAAAAAAAAAAAAAAAAAAAAAAAAAAAAAAAAAAAAAAAAAAAAAAAAAAAAAAAAAAAAAAAAAAAAAAAAAAAAAAAAAAAAAAAAAAAAAAAAAAAAAAAAAAAAAAAAAAAAAAAAAAAAAAAAAAAAAAAAAAAAAAAAAAAAAAAAAAAAAAAAAAAAAAAAAAAAAAAAAAAAAAAAAAAAAAAAAAAAAAAAAAAAAAAAAAAAAAAAAAAAAAAAAAAAAAAAAAAAAAAAAAAAAAAAAAAAAAAAAAAAAAAAAAAAAAAAAAAAAAAAAAAAAAAAAAAAAAAAAAAAAAAAAAAAAAAAAAAAAAAAAAAAAAAAAAAAAAAAAAAAAAAAAAAAAAAAAAAAAAAAAAAAAAAAAAAAAAAAAAAAAAAAAAAAAAAAAAAAAAAAAAAAAAAAAAAAAAAAAAAAAAAAAAAAAAAAAAAAAAAAAAAAAAAAAAAAAAAAAAAAAAAAAAAAAAAAAAAAAAAAAAAAAAAAAAAAAAAAAAAAAAAAAAAAAAAAAAAAAAAAAAAAAAAAAAAAAAAAAAAAAAAAAAAAAAAAAAAAAAAAAAAAAAAAAAAAAAAAAAAAAAAAAAAAAAAAAAAAAAAAAAAAAAAAAAAAAAAAAAAAAAAAAAAAAAAAAAAAAAAAAAAAAAAAAAAAAAAAAAAAAAAAAAAAAAAAAAAAAAAAAAAAAAAAAAAAAAAAAAAAAAAAAAAAAAAAAAAAAAAAAAAAAAAAAAAAAAAAAAAAAAAAAAAAAAAAAAAAAAAAAAAAAAAAAAAAAAAAAAAAAAAAAAAAAAAAAAAAAAAAAAAAAAAAAAAAAAAAAAAAAAAAAAAAAAAAAAAAAAAAAAAAAAAAAAAAAAAAAAAAAAAAAAAAAAAAAAAAAAAAAAAAAAAAAAAAAAAAAAAAAAAAAAAAAAAAAAAAAAAAAAAAAAAAAAAAAAAAAAAAAAAAAAAAAAAAAAAAAAAAAAAAAAAAAAAAAAAAAAAAAAAAAAAAAAAAAAAAAAAAAAAAAAAAAAAAAAAAAAAAAAAAAAAAAAAAAAAAAAAAAAAAAAAAAAAAAAAAAAAAAAAAAAAAAAAAAAAAAAAAAAAAAAAAAAAAAAAAAAAAAAAAAAAAAAAAAAAAAAAAAAAAAAAAAAAAAAAAAAAAAAAAAAAAAAAAAAAAAAAAAAAAAAAAAAAAAAAAAAAAAAAAAAAAAAAAAAAAAAAAAAAAAAAAAAAAAAAAAAAAAAAAAAAAAAAAAAAAAAAAAAAAAAAAAAAAAAAAAAAAAAAAAAAAAAAAAAAAAAAAAAAAAAAAAAAAAAAAAAAAAAAAAAAAAAAAAAAAAAAAAAAAAAAAAAAAAAAAAAAAAAAAAAAAAAAAAAAAAAAAAAAAAAAAAAAAAAAAAAAAAAAAAAAAAAAAAAAAAAAAAAAAAAAAAAAAAAAAAAAAAAAAAAAAAAAAAAAAAAAAAAAAAAAAAAAAAAAAAAAAAAAAAAAAAAAAAAAAAAAAAAAAAAAAAAAAAAAAAAAAAAAAAAAAAAAAAAAAAAAAAAAAAAAAAAAAAAAAAAAAAAAAAAAAAAAAAAAAAAAAAAAAAAAAAAAAAAAAAAAAAAAAAAAAAAAAAAAAAAAAAAAAAAAAAAAAAAAAAAAAAAAAAAAAAAAAAAAAAAAAAAAAAAAAAAAAAAAAAAAAAAAAAAAAAAAAAAAAAAAAAAAAAAAAAAAAAAAAAAAAAAAAAAAAAAAAAAAAAAAAAAAAAAAAAAAAAAAAAAAAAAAAAAAAAAAAAAAAAAAAAAAAAAAAAAAAAAAAAAAAAAAAAAAAAAAAAAAAAAAAAAAAAAAAAAAAAAAAAAAAAAAAAAAAAAAAAAAAAAAAAAAAAAAAAAAAAAAAAAAAAAAAAAAAAAAAAAAAAAAAAAAAAAAAAAAAAAAAAAAAAAAAAAAAAAAAAAAAAAAAAAAAAAAAAAAAAAAAAAAAAAAAAAAAAAAAAAAAAAAAAAAAAAAAAAAAAAAAAAAAAAAAAAAAAAAAAAAAAAAAAAAAAAAAAAAAAAAAAAAAAAAAAAAAAAAAAAAAAAAAAAAAAAAAAAAAAAAAAAAAAAAAAAAAAAAAAAAAAAAAAAAAAAAAAAAAAAAAAAAAAAAAAAAAAAAAAAAAAAAAAAAAAAAAAAAAAAAAAAAAAAAAAAAAAAAAAAAAAAAAAAAAAAAAAAAAAAAAAAAAAAAAAAAAAAAAAAAAAAAAAAAAAAAAAAAAAAAAAAAAAAAAAAAAAAAAAAAAAAAAAAAAAAAAAAAAAAAAAAAAAAAAAAAAAAAAAAAAAAAAAAAAAAAAAAAAAAAAAAAAAAAAAAAAAAAAAAAAAAAAAAAAAAAAAAAAAAAAAAAAAAAAAAAAAAAAAAAAAAAAAAAAAAAAAAAAAAAAAAAAAAAAAAAAAAAAAAAAAAAAAAAAAAAAAAAAAAAAAAAAAAAAAAAAAAAAAAAAAAAAAAAAAAAAAAAAAAAAAAAAAAAAAAAAAAAAAAAAAAAAAAAAAAAAAAAAAAAAAAAAAAAAAAAAAAAAAAAAAAAAAAAAAAAAAAAAAAAAAAAAAAAAAAAAAAAAAAAAAAAAAAAAAAAAAAAAAAAAAAAAAAAAAAAAAAAAAAAAAAAAAAAAAAAAAAAAAAAAAAAAAAAAAAAAAAAAAAAAAAAAAAAAAAAAAAAAAAAAAAAAAAAAAAAAAAAAAAAAAAAAAAAAAAAAAAAAAAAAAAAAAAAAAAAAAAAAAAAAAAAAAAAAAAAAAAAAAAAAAAAAAAAAAAAAAAAAAAAAAAAAAAAAAAAAAAAAAAAAAAAAAAAAAAAAAAAAAAAAAAAAAAAAAAAAAAAAAAAAAAAAAAAAAAAAAAAAAAAAAAAAAAAAAAAAAAAAAAAAAAAAAAAAAAAAAAAAAAAAAAAAAAAAAAAAAAAAAAAAAAAAAAAAAAAAAAAAAAAAAAAAAAAAAAAAAAAAAAAAAAAAAAAAAAAAAAAAAAAAAAAAAAAAAAAAAAAAAAAAAAAAAAAAAAAAAAAAAAAAAAAAAAAAAAAAAAAAAAAAAAAAAAAAAAAAAAAAAAAAAAAAAAAAAAAAAAAAAAAAAAAAAAAAAAAAAAAAAAAAAAAAAAAAAAAAAAAAAAAAAAAAAAAAAAAAAAAAAAAAAAAAAAAAAAAAAAAAAAAAAAAAAAAAAAAAAAAAAAAAAAAAAAAAAAAAAAAAAAAAAAAAAAAAAAAAAAAAAAAAAAAAAAAAAAAAAAAAAAAAAAAAAAAAAAAAAAAAAAAAAAAAAAAAAAAAAAAAAAAAAAAAAAAAAAAAAAAAAAAAAAAAAAAAAAAAAAAAAAAAAAAAAAAAAAAAAAAAAAAAAAAAAAAAAAAAAAAAAAAAAAAAAAAAAAAAAAAAAAAAAAAAAAAAAAAAAAAAAAAAAAAAAAAAAAAAAAAAAAAAAAAAAAAAAAAAAAAAAAAAAAAAAAAAAAAAAAAAAAAAAAAAAAAAAAAAAAAAAAAAAAAAAAAAAAAAAAAAAAAAAAAAAAAAAAAAAAAAAAAAAAAAAAAAAAAAAAAAAAAAAAAAAAAAAAAAAAAAAAAAAAAAAAAAAAAAAAAAAAAAAAAAAAAAAAAAAAAAAAAAAAAAAAAAAAAAAAAAAAAAAAAAAAAAAAAAAAAAAAAAAAAAAAAAAAAAAAAAAAAAAAAAAAAAAAAAAAAAAAAAAAAAAAAAAAAAAAAAAAAAAAAAAAAAAAAAAAAAAAAAAAAAAAAAAAAAAAAAAAAAAAAAAAAAAAAAAAAAAAAAAAAAAAAAAAAAAAAAAAAAAAAAAAAAAAAAAAAAAAAAAAAAAAAAAAAAAAAAAAAAAAAAAAAAAAAAAAAAAAAAAAAAAAAAAAAAAAAAAAAAAAAAAAAAAAAAAAAAAAAAAAAAAAAAAAAAAAAAAAAAAAAAAAAAAAAAAAAAAAAAAAAAAAAAAAAAAAAAAAAAAAAAAAAAAAAAAAAAAAAAAAAAAAAAAAAAAAAAAAAAAAAAAAAAAAAAAAAAAAAAAAAAAAAAAAAAAAAAAAAAAAAAAAAAAAAAAAAAAAAAAAAAAAAAAAAAAAAAAAAAAAAAAAAAAAAAAAAAAAAAAAAAAAAAAAAAAAAAAAAAAAAAAAAAAAAAAAAAAAAAAAAAAAAAAAAAAAAAAAAAAAAAAAAAAAAAAAAAAAAAAAAAAAAAAAAAAAAAAAAAAAAAAAAAAAAAAAAAAAAAAAAAAAAAAAAAAAAAAAAAAAAAAAAAAAAAAAAAAAAAAAAAAAAAAAAAAAAAAAAAAAAAAAAAAAAAAAAAAAAAAAAAAAAAAAAAAAAAAAAAAAAAAAAAAAAAAAAAAAAAAAAAAAAAAAAAAAAAAAAAAAAAAAAAAAAAAAAAAAAAAAAAAAAAAAAAAAAAAAAAAAAAAAAAAAAAAAAAAAAAAAAAAAAAAAAAAAAAAAAAAAAAAAAAAAAAAAAAAAAAAAAAAAAAAAAAAAAAAAAAAAAAAAAAAAAAAAAAAAAAAAAAAAAAAAAAAAAAAAAAAAAAAAAAAAAAAAAAAAAAAAAAAAAAAAAAAAAAAAAAAAAAAAAAAAAAAAAAAAAAAAAAAAAAAAAAAAAAAAAAAAAAAAAAAAAAAAAAAAAAAAAAAAAAAAAAAAAAAAAAAAAAAAAAAAAAAAAAAAAAAAAAAAAAAAAAAAAAAAAAAAAAAAAAAAAAAAAAAAAAAAAAAAAAAAAAAAAAAAAAAAAAAAAAAAAAAAAAAAAAAAAAAAAAAAAAAAAAAAAAAAAAAAAAAAAAAAAAAAAAAAAAAAAAAAAAAAAAAAAAAAAAAAAAAAAAAAAAAAAAAAAAAAAAAAAAAAAAAAAAAAAAAAAAAAAAAAAAAAAAAAAAAAAAAAAAAAAAAAAAAAAAAAAAAAAAAAAAAAAAAAAAAAAAAAAAAAAAAAAAAAAAAAAAAAAAAAAAAAAAAAAAAAAAAAAAAAAAAAAAAAAAAAAAAAAAAAAAAAAAAAAAAAAAAAAAAAAAAAAAAAAAAAAAAAAAAAAAAAAAAAAAAAAAAAAAAAAAAAAAAAAAAAAAAAAAAAAAAAAAAAAAAAAAAAAAAAAAAAAAAAAAAAAAAAAAAAAAAAAAAAAAAAAAAAAAAAAAAAAAAAAAAAAAAAAAAAAAAAAAAAAAAAAAAAAAAA0P8AAAAAAADQ/wAAAAAAAAAAAAAAAAAAAAAAAAAAAAAAAAAAAAAAAND/0P8AAAAA0P8AAAAAAAAAAAAAAAAAAAAAAAAAAAAAAAAAAAAAAAAAAND/AAAAAND/AAAAAAAA0P8AAAAAAAAAAAAA0P8AAAAAAAAAAAAAAAAAAAAAAAAAAAAAAAAAAAAAAAAAAAAAAAAAAAAAAAAAAAAAAAAAAAAAAAAAAAAAAAAAAAAAAAAAAAAAAAAAAAAAAAAAAAAAAAAAAAAAAAAAAAAAAAAAAAAAAAAAAAAAAAAAAAAAAAAAAAAAAAAAAAAAAAAAAAAAAAAAAAAAAAAAAAAAAAAAAAAAAAAAAAAAAAAAAAAAAAAAAAAAAAAAAAAAAAAAAAAAAAAAAAAAAAAAAAAAAAAAAAAAAAAAAAAAAAAAAAAAAAAAAAAAAAAAAAAAAAAAAAAAAAAAAAAAAAAAAAAAAAAAAAAAAAAAAAAAAAAAAAAAAAAAAAAAAAAAAAAAAAAAAAAAAAAAAAAAAAAAAAAAAAAAAAAAAAAAAAAAAAAAAAAAAAAAAAAAAAAAAAAAAAAAAAAAAAAAAAAAAAAAAAAAAAAAAAAAAAAAAAAAAAAAAAAAAAAAAAAAAAAAAAAAAAAAAAAAAAAAAAAAAAAAAAAAAAAAAAAAAAAAAAAAAAAAAAAAAAAAAAAAAAAAAAAAAAAAAAAAAAAAAAAAAAAAAAAAAAAAAAAAAAAAAAAAAAAAAAAAAAAAAAAAAAAAAAAAAAAAAAAAAAAAAAAAAAAAAAAAAAAAAAAAAAAAAAAAAAAAAAAAAAAAAAAAAAAAAAAAAAAAAAAAAAAAAAAAAAAAAAAAAAAAAAAAAAAAAAAAAAAAAAAAAAAAAAAAAAAAAAAAAAAAAAAAAAAAAAAAAAAAAAAAAAAAAAAAAAAAAAAAAAAAAAAAAAAAAAAAAAAAAAAAAAAAAAAAAAAAAAAAAAAAAAAAAAAAAAAAAAAAAAAAAAAAAAAAAAAAAAAAAAAAAAAAAAAAAAAAAAAAAAAAAAAAAAAAAAAAAAAAAAAAAAAAAAAAAAAAAAAAAAAAAAAAAAAAAAAAAAAAAAAAAAAAAAAAAAAAAAAAAAAAAAAAAAAAAAAAAAAAAAAAAAAAAAAAAAAAAAAAAAAAAAAAAAAAAAAAAAAAAAAAAAAAAAAAAAAAAAAAAAAAAAAAAAAAAAAAAAAAAAAAAAAAAAAAAAAAAAAAAAAAAAAAAAAAAAAAAAAAAAAAAAAAAAAAAAAAAAAAAAAAAAAAAAAAAAAAAAAAAAAAAAAAAAAAAAAAAAAAAAAAAAAAAAAAAAAAAAAAAAAAAAAAAAAAAAAAAAAAAAAAAAAAAAAAAAAAAAAAAAAAAAAAAAAAAAAAAAAAAAAAAAAAAAAAAAAAAAAAAAAAAAAAAAAAAAAAAAAAAAAAAAAAAAAAAAAAAAAAAAAAAAAAAAAAAAAAAAAAAAAAAAAAAAAAAAAAAAAAAAAAAAAAAAAAAAAAAAAAAAAAAAAAAAAAAAAAAAAAAAAAAAAAAAAAAAAAAAAAAAAAAAAAAAAAAAAAAAAAAAAAAAAAAAAAAAAAAAAAAAAAAAAAAAAAAAAAAAAAAAAAAAAAAAAAAAAAAAAAAAAAAAAAAAAAAAAAAAAAAAAAAAAAAAAAAAAAAAAAAAAAAAAAAAAAAAAAAAAAAAAAAAAAAAAAAAAAAAAAAAAAAAAAAAAAAAAAAAAAAAAAAAAAAAAAAAAAAAAAAAAAAAAAAAAAAAAAAAAAAAAAAAAAAAAAAAAAAAAAAAAAAAAAAAAAAAAAAAAAAAAAAAAAAAAAAAAAAAAAAAAAAAAAAAAAAAAAAAAAAAAAAAAAAAAAAAAAAAAAAAAAAAAAAAAAAAAAAAAAAAAAAAAAAAAAAAAAAAAAAAAAAAAAAAAAAAAAAAAAAAAAAAAAAAAAAAAAAAAAAAAAAAAAAAAAAAAAAAAAAAAAAAAAAAAAAAAAAAAAAAAAAAAAAAAAAAAAAAAAAAAAAAAAAAAAAAAAAAAAAAAAAAAAAAAAAAAAAAAAAAAAAAAAAAAAAAAAAAAAAAAAAAAAAAAAAAAAAAAAAAAAAAAAAAAAAAAAAAAAAAAAAAAAAAAAAAAAAAAAAAAAAAAAAAAAAAAAAAAAAAAAAAAAAAAAAAAAAAAAAAAAAAAAAAAAAAAAAAAAAAAAAAAAAAAAAAAAAAAAAAAAAAAAAAAAAAAAAAAAAAAAAAAAAAAAAAAAAAAAAAAAAAAAAAAAAAAAAAAAAAAAAAAAAAAAAAAAAAAAAAAAAAAAAAAAAAAAAAAAAAAAAAAAAAAAAAAAAAAAAAAAAAAAAAAAAAAAAAAAAAAAAAAAAAAAAAAAAAAAAAAAAAAAAAAAAAAAAAAAAAAAAAAAAAAAAAAAAAAAAAAAAAAAAAAAAAAAAAAAAAAAAAAAAAAAAAAAAAAAAAAAAAAAAAAAAAAAAAAAAAAAAAAAAAAAAAAAAAAAAAAAAAAAAAAAAAAAAAAAAAAAAAAAAAAAAAAAAAAAAAAAAAAAAAAAAAAAAAAAAAAAAAAAAAAAAAAAAAAAAAAAAAAAAAAAAAAAAAAAAAAAAAAAAAAAAAAAAAAAAAAAAAAAAAAAAAAAAAAAAAAAAAAAAAAAAAAAAAAAAAAAAAAAAAAAAAAAAAAAAAAAAAAAAAAAAAAAAAAAAAAAAAAAAAAAAAAAAAAAAAAAAAAAAAAAAAAAAAAAAAAAAAAAAAAAAAAAAAAAAAAAAAAAAAAAAAAAAAAAAAAAAAAAAAAAAAAAAAAAAAAAAAAAAAAAAAAAAAAAAAAAAAAAAAAAAAAAAAAAAAAAAAAAAAAAAAAAAAAAAAAAAAAAAAAAAAAAAAAAAAAAAAAAAAAAAAAAAAAAAAAAAAAAAAAAAAAAAAAAAAAAAAAAAAAAAAAAAAAAAAAAAAAAAAAAAAAAAAAAAAAAAAAAAAAAAAAAAAAAAAAAAAAAAAAAAAAAAAAAAAAAAAAAAAAAAAAAAAAAAAAAAAAAAAAAAAAAAAAAAAAAAAAAAAAAAAAAAAAAAAAAAAAAAAAAAAAAAAAAAAAAAAAAAAAAAAAAAAAAAAAAAAAAAAAAAAAAAAAAAAAAAAAAAAAAAAAAAAAAAAAAAAAAAAAAAAAAAAAAAAAAAAAAAAAAAAAAAAAAAAAAAAAAAAAAAAAAAAAAAAAAAAAAAAAAAAAAAAAAAAAAAAAAAAAAAAAAAAAAAAAAAAAAAAAAAAAAAAAAAAAAAAAAAAAAAAAAAAAAAAAAAAAAAAAAAAAAAAAAAAAAAAAAAAAAAAAAAAAAAAAAAAAAAAAAAAAAAAAAAAAAAAAAAAAAAAAAAAAAAAAAAAAAAAAAAAAAAAAAAAAAAAAAAAAAAAAAAAAAAAAAAAAAAAAAAAAAAAAAAAAAAAAAAAAAAAAAAAAAAAAAAAAAAAAAAAAAAAAAAAAAAAAAAAAAAAAAAAAAAAAAAAAAAAAAAAAAAAAAAAAAAAAAAAAAAAAAAAAAAAAAAAAAAAAAAAAAAAAAAAAAAAAAAAAAAAAAAAAAAAAAAAAAAAAAAAAAAAAAAAAAAAAAAAAAAAAAAAAAAAAAAAAAAAAAAAAAAAAAAAAAAAAAAAAAAAAAAAAAAAAAAAAAAAAAAAAAAAAAAAAAAAAAAAAAAAAAAAAAAAAAAAAAAAAAAAAAAAAAAAAAAAAAAAAAAAAAAAAAAAAAAAAAAAAAAAAAAAAAAAAAAAAAAAAAAAAAAAAAAAAAAAAAAAAAAAAAAAAAAAAAAAAAAAAAAAAAAAAAAAAAAAAAAAAAAAAAAAAAAAAAAAAAAAAAAAAAAAAAAAAAAAAAAAAAAAAAAAAAAAAAAAAAAAAAAAAAAAAAAAAAAAAAAAAAAAAAAAAAAAAAAAAAAAAAAAAAAAAAAAAAAAAAAAAAAAAAAAAAAAAAAAAAAAAAAAAAAAAAAAAAAAAAAAAAAAAAAAAAAAAAAAAAAAAAAAAAAAAAAAAAAAAAAAAAAAAAAAAAAAAAAAAAAAAAAAAAAAAAAAAAAAAAAAAAAAAAAAAAAAAAAAAAAAAAAAAAAAAAAAAAAAAAAAAAAAAAAAAAAAAAAAAAAAAAAAAAAAAAAAAAAAAAAAAAAAAAAAAAAAAAAAAAAAAAAAAAAAAAAAAAAAAAAAAAAAAAAAAAAAAAAAAAAAAAAAAAAAAAAAAAAAAAAAAAAAAAAAAAAAAAAAAAAAAAAAAAAAAAAAAAAAAAAAAAAAAAAAAAAAAAAAAAAAAAAAAAAAAAAAAAAAAAAAAAAAAAAAAAAAAAAAAAAAAAAAAAAAAAAAAAAAAAAAAAAAAAAAAAAAAAAAAAAAAAAAAAAAAAAAAAAAAAAAAAAAAAAAAAAAAAAAAAAAAAAAAAAAAAAAAAAAAAAAAAAAAAAAAAAAAAAAAAAAAAAAAAAAAAAAAAAAAAAAAAAAAAAAAAAAAAAAAAAAAAAAAAAAAAAAAAAAAAAAAAAAAAAAAAAAAAAAAAAAAAAAAAAAAAAAAAAAAAAAAAAAAAAAAAAAAAAAAAAAAAAAAAAAAAAAAAAAAAAAAAAAAAAAAAAAAAAAAAAAAAAAAAAAAAAAAAAAAAAAAAAAAAAAAAAAAAAAAAAAAAAAAAAAAAAAAAAAAAAAAAAAAAAAAAAAAAAAAAAAAAAAAAAAAAAAAAAAAAAAAAAAAAAAAAAAAAAAAAAAAAAAAAAAAAAAAAAAAAAAAAAAAAAAAAAAAAAAAAAAAAAAAAAAAAAAAAAAAAAAAAAAAAAAAAAAAAAAAAAAAAAAAAAAAAAAAAAAAAAAAAAAAAAAAAAAAAAAAAMAAAAAAAAAAAAAAAAAAAAAAAAAAAAAAAAAAAAAAAMAAAAAAAAAAAAAAAAAAAAAAAAAAAAAAAAAAAAAAAAAAAAAAAAAAAAAAAAAAAAAAAAAAAAAAAAAAAAAAAAAAAAAAAAAAAAAAAAAAAAAAAAAAAAAAAAAAAAAAAAAAAAAAAAAAAAAAAAAAAAAAAAAAAAAAAAAAAAAAAAAAAAAAAAAAAAAAAAAAAAAAAAAAAAAAAAAAAAAAAAAAAAAAAAAAAAAAAAAAAAAAAAAAAAAAAAAAAAAAAAAAAAAAAAAAAAAAAAAAAAAAAAAAAAAAAAAAAAAAAAAAAAAAAAAAAAAAAAAAAAAAAAAAAAAAAAAAAAAAAAAAAAAAAAAAAAAAAAAAAAAAAAAAAAAAAAAAAAAAAAAAAAAAAAAAAAAAAAAAAAAAAAAAAAAAAAAAAAAAAAAAAAAAAAAAAAAAAAAAAAAAAAAAAAAAAAAAAAAAAAAAAAAAAAAAAAAAAAAAAAAAAAAAAAAAAAAAAAAAAAAAAAAAAAAAAAAAAAAAAAAAAAAAAAAAAAAAAAAAAAAAAAAAAAAAAAAAAAAAAAAAAAAAAAAAAAAAAAAAAAAAAAAAAAAAAAAAAAAAAAAAAAAAAAAAAAAAAAAAAAAAAAAAAAAAAAAAAAAAAAAAAAAAAAAAAAAAAAAAAAAAAAAAAAAAAAAAAAAAAAAAAAAAAAAAAAAAAAAAAAAAAAAAAAAAAAAAAAAAAAAAAAAAAAAAAAAAAAAAAAAAAAAAAAAAAAAAAAAAAAAAAAAAAAAAAAAAAAAAAAAAAAAAAAAAAAAAAAAAAAAAAAAAAAAAAAAAAAAAAAAAAAAAAAAAAAAAAAAAAAAAAAAAAAAAAAAAAAAAAAAAAAAAAAAAAAAAAAAAAAAAAAAAAAAAAAAAAAAAAAAAAAAAAAAAAAAAAAAAAAAAAAAAAAAAAAAAAAAAAAAAAAAAAAAAAAAAAAAAAAAAAAAAAAAAAAAAAAAAAAAAAAAAAAAAAAAAAAAAAAAAAAAAAAAAAAAAAAAAAAAAAAAAAAAAAAAAAAAAAAAAAAAAAAAAAAAAAAAAAAAAAAAAAAAAAAAAAAAAAAAAAAAAAAAAAAAAAAAAAAAAAAAAAAAAAAAAAAAAAAAAAAAAAAAAAAAAAAAAAAAAAAAAAAAAAAAAAAAAAAAAAAAAAAAAAAAAAAAAAAAAAAAAAAAAAAAAAAAAAAAAAAAAAAAAAAAAAAAAAAAAAAAAAAAAAAAAAAAAAAAAAAAAAAAAAAAAAAAAAAAAAAAAAAAAAAAAAAAAAAAAAAAAAAAAAAAAAAAAAAAAAAAAAAAAAAAAAAAAAAAAAAAAAAAAAAAAAAAAAAAAAAAAAAAAAAAAAAAAAAAAAAAAAAAAAAAAAAAAAAAAAAAAAAAAAAAAAAAAAAAAAAAAAAAAAAAAAAAAAAAAAAAAAAAAAAAAAAAAAAAAAAAAAAAAAAAAAAAAAAAAAAAAAAAAAAAAAAAAAAAAAAAAAAAAAAAAAAAAAAAAAAAAAAAAAAAAAAAAAAAAAAAAAAAAAAAAAAAAAAAAAAAAAAAAAAAAAAAAAAAAAAAAAAAAAAAAAAAAAAAAAAAAAAAAAAAAAAAAAAAAAAAAAAAAAAAAAAAAAAAAAAAAAAAAAAAAAAAAAAAAAAAAAAAAAAAAAAAAAAAAAAAAAAAAAAAAAAAAAAAAAAAAAAAAAAAAAAAAAAAAAAAAAAAAAAAAAAAAAAAAAAAAAAAAAAAAAAAAAAAAAAAAAAAAAAAAAAAAAAAAAAAAAAAAAAAAAAAAAAAAAAAAAAAAAAAAAAAAAAAAAAAAAAAAAAAAAAAAAAAAAAAAAAAAAAAAAAAAAAAAAAAAAAAAAAAAAAAAAAAAAAAAAAAAAAAAAAAAAAAAAAAAAAAAAAAAAAAAAAAAAAAAAAAAAAAAAAAAAAAAAAAAAAAAAAAAAAAAAAAAAAAAAAAAAAAAAAAAAAAAAAAAAAAAAAAAAAAAAAAAAAAAAAAAAAAAAAAAAAAAAAAAAAAAAAAAAAAAAAAAAAAAAAAAAAAAAAAAAAAAAAAAAAAAAAAAAAAAAAAAAAAAAAAAAAAAAAAAAAAAAAAAAAAAAAAAAAAAAAAAAAAAAAAAAAAAAAAAAAAAAAAAAAAAAAAAAAAAAAAAAAAAAAAAAAAAAAAAAAAAAAAAAAAAAAAAAAAAAAAAAAAAAAAAAAAAAAAAAAAAAAAAAAAAAAAAAAAAAAAAAAAAAAAAAAAAAAAAAAAAAAAAAAAAAAAAAAAAAAAAAAAAAAAAAAAAAAAAAAAAAAAAAAAAAAAAAAAAAAAAAAAAAAAAAAAAAAAAAAAAAAAAAAAAAAAAAAAAAAAAAAAAAAAAAAAAAAAAAAAAAAAAAAAAAAAAAAAAAAAAAAAAAAAAAAAAAAAAAAAAAAAAAAAAAAAAAAAAAAAAAAAAAAAAAAAAAAAAAAAAAAAAAAAAAAAAAAAAAAAAAAAAAAAAAAAAAAAAAAAAAAAAAAAAAAAAAAAAAAAAAAAAAAAAAAAAAAAAAAAAAAAAAAAAAAAAAAAAAAAAAAAAAAAAAAAAAAAAAAAAAAAAAAAAAAAAAAAAAAAAAAAAAAAAAAAAAAAAAAAAAAAAAAAAAAAAAAAAAAAAAAAAAAAAAAAAAAAAAAAAAAAAAAAAAAAAAAAAAAAAAAAAAAAAAAAAAAAAAAAAAAAAAAAAAAAAAAAAAAAAAAAAAAAAAAAAAAAAAAAAAAAAAAAAAAAAAAAAAAAAAAAAAAAAAAAAAAAAAAAAAAAAAAAAAAAAAAAAAAAAAAAAAAAAAAAAAAAAAAAAAAAAAAAAAAAAAAAAAAAAAAAAAAAAAAAAAAAAAAAAAAAAAAAAAAAAAAAAAAAAAAAAAAAAAAAAAAAAAAAAAAAAAAAAAAAAAAAAAAAAAAAAAAAAAAAAAAAAAAAAAAAAAAAAAAAAAAAAAAAAAAAAAAAAAAAAAAAAAAAAAAAAAAAAAAAAAAAAAAAAAAAAAAAAAAAAAAAAAAAAAAAAAAAAAAAAAAAAAAAAAAAAAAAAAAAAAAAAAAAAAAAAAAAAAAAAAAAAAAAAAAAAAAAAAAAAAAAAAAAAAAAAAAAAAAAAAAAAAAAAAAAAAAAAAAAAAAAAAAAAAAAAAAAAAAAAAAAAAAAAAAAAAAAAAAAAAAAAAAAAAAAAAAAAAAAAAAAAAAAAAAAAAAAAAAAAAAAAAAAAAAAAAAAAAAAAAAAAAAAAAAAAAAAAAAAAAAAAAAAAAAAAAAAAAAAAAAAAAAAAAAAAAAAAAAAAAAAAAAAAAAAAAAAAAAAAAAAAAAAAAAAAAAAAAAAAAAAAAAAAAAAAAAAAAAAAAAAAAAAAAAAAAAAAAAAAAAAAAAAAAAAAAAAAAAAAAAAAAAAAAAAAAAAAAAAAAAAAAAAAAAAAAAAAAAAAAAAAAAAAAAAAAAAAAAAAAAAAAAAAAAAAAAAAAAAAAAAAAAAAAAAAAAAAAAAAAAAAAAAAAAAAAAAAAAAAAAAAAAAAAAAAAAAAAAAAAAAAAAAAAAAAAAAAAAAAAAAAAAAAAAAAAAAAAAAAAAAAAAAAAAAAAAAAAAAAAAAAAAAAAAAAAAAAAAAAAAAAAAAAAAAAAAAAAAAAAAAAAAAAAAAAAAAAAAAAAAAAAAAAAAAAAAAAAAAAAAAAAAAAAAAAAAAAAAAAAAAAAAAAAAAAAAAAAAAAAAAAAAAAAAAAAAAAAAAAAAAAAAAAAAAAAAAAAAAAAAAAAAAAAAAAAAAAAAAAAAAAAAAAAAAAAAAAAAAAAAAAAAAAAAAAAAAAAAAAAAAAAAAAAAAAAAAAAAAAAAAAAAAAAAAAAAAAAAAAAAAAAAAAAAAAAAAAAAAAAAAAAAAAAAAAAAAAAAAAAAAAAAAAAAAAAAAAAAAAAAAAAAAAAAAAAAAAAAAAAAAAAAAAAAAAAAAAAAAAAAAAAAAAAAAAAAAAAAAAAAAAAAAAAAAAAAAAAAAAAAAAAAAAAAAAAAAAAAAAAAAAAAAAAAAAAAAAAAAAAAAAAAAAAAAAAAAAAAAAAAAAAAAAAAAAAAAAAAAAAAAAAAAAAAAAAAAAAAAAAAAAAAAAAAAAAAAAAAAAAAAAAAAAAAAAAAAAAAAAAAAAAAAAAAAAAAAAAAAAAAAAAAAAAAAAAAAAAAAAAAAAAAAAAAAAAAAAAAAAAAAAAAAAAAAAAAAAAAAAAAAAAAAAAAAAAAAAAAAAAAAAAAAAAAAAAAAAAAAAAAAAAAAAAAAAAAAAAAAAAAAAAAAAAAAAAAAAAAAAAAAAAAAAAAAAAAAAAAAAAAAAAAAAAAAAAAAAAAAAAAAAAAAAAAAAAAAAAAAAAAAAAAAAAAAAAAAAAAAAAAAAAAAAAAAAAAAAAAAAAAAAAAAAAAAAAAAAAAAAAAAAAAAAAAAAAAAAAAAAAAAAAAAAAAAAAAAAAAAAAAAAAAAAAAAAAAAAAAAAAAAAAAAAAAAAAAAAAAAAAAAAAAAAAAAAAAAAAAAAAAAAAAAAAAAAAAAAAAAAAAAAAAAAAAAAAAAAAAAAAAAAAAAAAAAAAAAAAAAAAAAAAAAAAAAAAAAAAAAAAAAAAAAAAAAAAAAAAAAAAAAAAAAAAAAAAAAAAAAAAAAAAAAAAAAAAAAAAAAAAAAAAAAAAAAAAAAAAAAAAAAAAAAAAAAAAAAAAAAAAAAAAAAAAAAAAAAAAAAAAAAAAAAAAAAAAAAAAAAAAAAAAAAAAAAAAAAAAAAAAAAAAAAAAAAAAAAAAAAAAAAAAAAAAAAAAAAAAAAAAAAAAAAAAAAAAAAAAAAAAAAAAAAAAAAAAAAAAAAAAAAAAAAAAAAAAAAAAAAAAAAAAAAAAAAAAAAAAAAAAAAAAAAAAAAAAAAAAAAAAAAAAAAAAAAAAAAAAAAAAAAAAAAAAAAAAAAAAAAAAAAAAAAAAAAAAAAAAAAAAAAAAAAAAAAAAAAAAAAAAAAAAAAAAAAAAAAAAAAAAAAAAAAAAAAAAAAAAAAAAAAAAAAAAAAAAAAAAAAAAAAAAAAAAAAAAAAAAAAAAAAAAAAAAAAAAAAAAAAAAAAAAAAAAAAAAAAAAAAAAAAAAAAAAAAAAAAAAAAAAAAAAAAAAAAAAAAAAAAAAAAAAAAAAAAAAAAAAAAAAAAAAAAAAAAAAAAAAAAAAAAAAAAAAAAAAAAAAAAAAAAAAAAAAAAAAAAAAAAAAAAAAAAAAAAAAAAAAAAAAAAAAAAAAAAAAAAAAAAAAAAAAAAAAAAAAAAAAAAAAAAAAAAAAAAAAAAAAAAAAAAAAAAAAAAAAAAAAAAAAAAAAAAAAAAAAAAAAAAAAAAAAAAAAAAAAAAAAAAAAAAAAAAAAAAAAAAAAAAAAAAAAAAAAAAAAAAAAAAAAAAAAAAAAAAAAAAAAAAAAAAAAAAAAAAAAAAAAAAAAAAAAAAAAAAAAAAAAAAAAAAAAAAAAAAAAAAAAAAAAAAAAAAAAAAAAAAAAAAAAAAAAAAAAAAAAAAAAAAAAAAAAAAAAAAAAAAAAAAAAAAAAAAAAAAAAAAAAAAAAAAAAAAAAAAAAAAAAAAAAAAAAAAAAAAAAAAAAAAAAAAAAAAAAAAAAAAAAAAAAAAAAAAAAAAAAAAAAAAAAAAAAAAAAAAAAAAAAAAAAAAAAAAAAAAAAAAAAAAAAAAAAAAAAAAAAAAAAAAAAAAAAAAAAAAAAAAAAAAAAAAAAAAAAAAAAAAAAAAAAAAAAAAAAAAAAAAAAAAAAAAAAAAAAAAAAAAAAAAAAAAAAAAAAAAAAAAAAAAAAAAAAAAAAAAAAAAAAAAAAAAAAAAAAAAAAAAAAAAAAAAAAAAAAAAAAAAAAAAAAAAAAAAAAAAAAAAAAAAAAAAAAAAAAAAAAAAAAAAAAAAAAAAAAAAAAAAAAAAAAAAAAAAAAAAAAAAAAAAAAAAAAAAAAAAAAAAAAAAAAAAAAAAAAAAAAAAAAAAAAAAAAAAAAAAAAAAAAAAAAAAAAAAAAAAAAAAAAAAAAAAAAAAAAAAAAAAAAAAAAAAAAAAAAAAAAAAAAAAAAAAAAAAAAAAAAAAAAAAAAAAAAAAAAAAAAAAAAAAAAAAAAAAAAAAAAAAAAAAAAAAAAAAAAAAAAAAAAAAAAAAAAAAAAAAAAAAAAAAAAAAAAAAAAAAAAAAAAAAAAAAAAAAAAAAAAAAAAAAAAAAAAAAAAAAAAAAAAAAAAAAAAAAAAAAAAAAAAAAAAAAAAAAAAAAAAAAAAAAAAAADQ/wAAAAAAAAAAAAAAAAAAAAAAAAAAAAAAAAAAAAAAAAAAAAAAAAAAAAAAAAAAAAAAAAAAAAAAAAAAAAAAAAAAAAAAAAAAAAAAAAAAAAAAAAAAAAAAAAAAAAAAAAAAAAAAAAAAAAAAAAAAAAAAAAAAAAAAAAAAAAAAAAAAAAAAAAAAAAAAAAAAAAAAAAAAAAAAAAAAAAAAAAAAAAAAAAAAAAAAAAAAAAAAAAAAAAAAAAAAAAAAAAAAAAAAAAAAAAAAAAAAAAAAAAAAAAAAAAAAAAAAAAAAAAAAAAAAAAAAAAAAAAAAAAAAAAAAAAAAAAAAAAAAAAAAAAAAAAAAAAAAAAAAAAAAAAAAAAAAAAAAAAAAAAAAAAAAAAAAAAAAAAAAAAAAAAAAAAAAAAAAAAAAAAAAAAAAAAAAAAAAAAAAAAAAAAAAAAAAAAAAAAAAAAAAAAAAAAAAAAAAAAAAAAAAAAAAAAAAAAAAAAAAAAAAAAAAAAAAAAAAAAAAAAAAAAAAAAAAAAAAAAAAAAAAAAAAAAAAAAAAAAAAAAAAAAAAAAAAAAAAAAAAAAAAAAAAAAAAAAAAAAAAAAAAAAAAAAAAAAAAAAAAAAAAAAAAAAAAAAAAAAAAAAAAAAAAAAAAAAAAAAAAAAAAAAAAAAAAAAAAAAAAAAAAAAAAAAAAAAAAAAAAAAAAAAAAAAAAAAAAAAAAAAAAAAAAAAAAAAAAAAAAAAAAAAAAAAAAAAAAAAAAAAAAAAAAAAAAAAAAAAAAAAAAAAAAAAAAAAAAAAAAAAAAAAAAAAAAAAAAAAAAAAAAAAAAAAAAAAAAAAAAAAAAAAAAAAAAAAAAAAAAAAAAAAAAAAAAAAAAAAAAAAAAAAAAAAAAAAAAAAAAAAAAAAAAAAAAAAAAAAAAAAAAAAAAAAAAAAAAAAAAAAAAAAAAAAAAAAAAAAAAAAAAAAAAAAAAAAAAAAAAAAAAAAAAAAAAAAAAAAAAAAAAAAAAAAAAAAAAAAAAAAAAAAAAAAAAAAAAAAAAAAAAAAAAAAAAAAAAAAAAAAAAAAAAAAAAAAAAAAAAAAAAAAAAAAAAAAAAAAAAAAAAAAAAAAAAAAAAAAAAAAAAAAAAAAAAAAAAAAAAAAAAAAAAAAAAAAAAAAAAAAAAAAAAAAAAAAAAAAAAAAAAAAAAAAAAAAAAAAAAAAAAAAAAAAAAAAAAAAAAAAAAAAAAAAAAAAAAAAAAAAAAAAAAAAAAAAAAAAAAAAAAAAAAAAAAAAAAAAAAAAAAAAAAAAAAAAAAAAAAAAAAAAAAAAAAAAAAAAAAAAAAAAAAAAAAAAAAAAAAAAAAAAAAAAAAAAAAAAAAAAAAAAAAAAAAAAAAAAAAAAAAAAAAAAAAAAAAAAAAAAAAAAAAAAAAAAAAAAAAAAAAAAAAAAAAAAAAAAAAAAAAAAAAAAAAAAAAAAAAAAAAAAAAAAAAAAAAAAAAAAAAAAAAAAAAAAAAAAAAAAAAAAAAAAAAAAAAAAAAAAAAAAAAAAAAAAAAAAAAAAAAAAAAAAAAAAAAAAAAAAAAAAAAAAAAAAAAAAAAAAAAAAAAAAAAAAAAAAAAAAAAAAAAAAAAAAAAAAAAAAAAAAAAAAAAAAAAAAAAAAAAAAAAAAAAAAAAAAAAAAAAAAAAAAAAAAAAAAAAAAAAAAAAAAAAAAAAAAAAAAAAAAAAAAAAAAAAAAAAAAAAAAAAAAAAAAAAAAAAAAAAAAAAAAAAAAAAAAAAAAAAAAAAAAAAAAAAAAAAAAAAAAAAAAAAAAAAAAAAAAAAAAAAAAAAAAAAAAAAAAAAAAAAAAAAAAAAAAAAAAAAAAAAAAAAAAAAAAAAAAAAAAAAAAAAAAAAAAAAAAAAAAAAAAAAAAAAAAAAAAAAAAAAAAAAAAAAAAAAAAAAAAAAAAAAAAAAAAAAAAAAAAAAAAAAAAAAAAAAAAAAAAAAAAAAAAAAAAAAAAAAAAAAAAAAAAAAAAAAAND/AAAAAAAAAAAAAAAAAADQ/9D/AAAAAAAAAAAAAAAAAAAAAAAAAAAAAAAAAAAAAAAAAAAAAAAAAAAAAAAAAAAAAAAAAAAAAAAAAAAAAAAAAAAAAAAAAAAAAAAAAAAAAAAAAAAAAAAAAAAAAAAAAAAAAAAAAAAAAAAAAAAAAAAAAAAAAAAAAAAAAAAAAAAAAAAAAAAAAAAAAAAAAAAAAAAAAAAAAAAAAAAAAAAAAAAAAAAAAAAAAAAAAAAAAAAAAAAAAAAAAAAAAAAAAAAAAAAAAAAAAAAAAAAAAAAAAAAAAAAAAAAAAAAAAAAAAAAAAAAAAAAAAAAAAAAAAAAAAAAAAAAAAAAAAAAAAAAAAAAAAAAAAAAAAAAAAAAAAAAAAAAAAAAAAAAAAAAAAAAAAAAAAAAAAAAAAAAAAAAAAAAAAAAAAAAAAAAAAAAAAAAAAAAAAAAAAAAAAAAAAAAAAAAAAAAAAAAAAAAAAAAAAAAAAAAAAAAAAAAAAAAAAAAAAAAAAAAAAAAAAAAAAAAAAAAAAAAAAAAAAAAAAAAAAAAAAAAAAAAAAAAAAAAAAAAAAAAAAAAAAAAAAAAAAAAAAAAAAAAAAAAAAAAAAAAAAAAAAAAAAAAAAAAAAAAAAAAAAAAAAAAAAAAAAAAAAAAAAAAAAAAAAAAAAAAAAAAAAAAAAAAAAAAAAAAAAAAAAAAAAAAAAAAAAAAAAAAAAAAAAAAAAAAAAAAAAAAAAAAAAAAAAAAAAAAAAAAAAAAAAAAAAAAAAAAAAAAAAAAAAAAAAAAAAAAAAAAAAAAAAAAAAAAAAAAAAAAAAAAAAAAAAAAAAAAAAAAAAAAAAAAAAAAAAAAAAAAAAAAAAAAAAAAAAAAAAAAAAAAAAAAAAAAAAAAAAAAAAAAAAAAAAAAAAAAAAAAAAAAAAAAAAAAAAAAAAAAAAAAAAAAAAAAAAAAAAAAAAAAAAAAAAAAAAAAAAAAAAAAAAAAAAAAAAAAAAAAAAAAAAAAAAAAAAAAAAAAAAAAAAAAAAAAAAAAAAAAAAAAAAAAAAAAAAAAAAAAAAAAAAAAAAAAAAAAAAAAAAAAAAAAAAAAAAAAAAAAAAAAAAAAAAAAAAAAAAAAAAAAAAAAAAAAAAAAAAAAAAAAAAAAAAAAAAAAAAAAAAAAAAAAAAAAAAAAAAAAAAAAAAAAAAAAAAAAAAAAAAAAAAAAAAAAAAAAAAAAAAAAAAAAAAAAAAAAAAAAAAAAAAAAAAAAAAAAAAAAAAAAAAAAAAAAAAAAAAAAAAAAAAAAAAAAAAAAAAAAAAAAAAAAAAAAAAAAAAAAAAAAAAAAAAAAAAAAAAAAAAAAAAAAAAAAAAAAAAAAAAAAAAAAAAAAAAAAAAAAAAAAAAAAAAAAAAAAAAAAAAAAAAAAAAAAAAAAAAAAAAAAAAAAAAAAAAAAAAAAAAAAAAAAAAAAAAAAAAAAAAAAAAAAAAAAAAAAAAAAAAAAAAAAAAAAAAAAAAAAAAAAAAAAAAAAAAAAAAAAAAAAAAAAAAAAAAAAAAAAAAAAAAAAAAAAAAAAAAAAAAAAAAAAAAAAAAAAAAAAAAAAAAAAAAAAAAAAAAAAAAAAAAAAAAAAAAAAAAAAAAAAAAAAAAAAAAAAAAAAAAAAAAAAAAAAAAAAAAAAAAAAAAAAAAAAAAAAAAAAAAAAAAAAAAAAAAAAAAAAAAAAAAAAAAAAAAAAAAAAAAAAAAAAAAAAAAAAAAAAAAAAAAAAAAAAAAAAAAAAAAAAAAAAAAAAAAAAAAAAAAAAAAAAAAAAAAAAAAAAAAAAAAAAAAAAAAAAAAAAAAAAAAAAAAAAAAAAAAAAAAAAAAAAAAAAAAAAAAAAAAAAAAAAAAAAAAAAAAAAAAAAAAAAAAAAAAAAAAAAAAAAAAAAAAAAAAAAAAAAAAAAAAAAAAAAAAAAAAAAAAAAAAAAAAAAAAAAAAAAAAAAAAAAAAAAAAAAAAAAAAAAAAAAAAAAAAAAAAAAAAAAAAAAAAAAAAAAAAAAAAAAAAAAAAAAAAAAAAAAAAAAAAAAAAAAAAAAAAAAAAAAAAAAAAAAAAAAAAAAAAAAAAAAAAAAAAAAAAAAAAAAAAAAAAAAAAAAAAAAAAAAAAAAAAAAAAAAAAAAAAAAAAAAAAAAAAAAAAAAAAAAAAAAAAAAAAAAAAAAAAAAAAAAAAAAAAAAAAAAAAAAAAAAAAAAAAAAAAAAAAAAAAAAAAAAAAAAAAAAAAAAAAAAAAAAAAAAAADAAAAAAAAAAAAAAAAAAAAAAAAAAAAAAAAAAAAAAAAAAAAAAAAAAAAAAAAAAAAAAAAAAAAAAAAAAAAAAAAAAAAAAAAAAAAAAAAAAAAAAAAAAAAAAAAAAAAAAAAAAAAAAAAAAAAAAAAAAAAAAAAAAAAAAAAAAAAAAAAAAAAAAAAAAAAAAAAAAAAAAAAAAAAAAAAAAAAAAAAAAAAAAAAAAAAAAAAAAAAAAAAAAAAAAAAAAAAAAAAAAAAAAAAAAAAAAAAAAAAAAAAAAAAAAAAAAAAAAAAAAAAAAAAAAAAAAAAAAAAAAAAAAAAAAAAAAAAAAAAAAAAAAAAAAAAAAAAAAAAAAAAAAAAAAAAAAAAAAAAAAAAAAAAAAAAAAAAAAAAAAAAAAAAAAAAAAAAAAAAAAAAAAAAAAAAAAAAAAAAAAAAAAAAAAAAAAAAAAAAAAAAAAAAAAAAAAAAAAAAAAAAAAAAAAAAAAAAAAAAAAAAAAAAAAAAAAAAAAAAAAAAAAAAAAAAAAAAAAAAAAAAAAAAAAAAAAAAAAAAAAAAAAAAAAAAAAAAAAAAAAAAAAAAAAAAAAAAAAAAAAAAAAAAAAAAAAAAAAAAAAAAAAAAAAAAAAAAAAAAAAAAAAAAAAAAAAAAAAAAAAAAAAAAAAAAAAAAAAAAAAAAAAAAAAAAAAAAAAAAAAAAAAAAAAAAAAAAAAAAAAAAAAAAAAAAAAAAAAAAAAAAAAAAAAAAAAAAAAAAAAAAAAAAAAAAAAAAAAAAAAAAAAAAAAAAAAAAAAAAAAAAAAAAAAAAAAAAAAAAAAAAAAAAAAAAAAAAAAAAAAAAAAAAAAAAAAAAAAAAAAAAAAAAAAAAAAAAAAAAAAAAAAAAAAAAAAAAAAAAAAAAAAAAAAAAAAAAAAAAAAAAAAAAAAAAAAAAAAAAAAAAAAAAAAAAAAAAAAAAAAAAAAAAAAAAAAAAAAAAAAAAAAAAAAAAAAAAAAAAAAAAAAAAAAAAAAAAAAAAAAAAAAAAAAAAAAAAAAAAAAAAAAAAAAAAAAAAAAAAAAAAAAAAAAAAAAAAAAAAAAAAAAAAAAAAAAAAAAAAAAAAAAAAAAAAAAAAAAAAAAAAAAAAAAAAAAAAAAAAAAAAAAAAAAAAAAAAAAAAAAAAAAAAAAAAAAAAAAAAAAAAAAAAAAAAAAAAAAAAAAAAAAAAAAAAAAAAAAAAAAAAAAAAAAAAAAAAAAAAAAAAAAAADQ/wAAAAAAAAAAAAAAAND/AAAAAAAAAAAAAAAAAAAAAAAAAAAAAAAAAAAAAAAAAAAAAAAAAAAAAAAAAAAAAAAAAAAAAAAAAAAAAAAAAAAAAAAAAAAAAAAAAAAAAAAAAAAAAAAAAAAAAAAAAAAAAAAAAAAAAAAAAAAAAAAAAAAAAAAAAAAAAAAAAAAAAAAAAAAAAAAAAAAAAAAAAAAAAAAAAAAAAAAAAAAAAAAAAAAAAAAAAAAAAAAAAAAAAAAAAAAAAAAAAAAAAAAAAAAAAAAAAAAAAAAAAAAAAAAAAAAAAAAAAAAAAAAAAAAAAAAAAAAAAAAAAAAAAAAAAAAAAAAAAAAAAAAAAAAAAAAAAAAAAAAAAAAAAAAAAAAAAAAAAAAAAAAAAAAAAAAAAAAAAAAAAAAAAAAAAAAAAAAAAAAAAAAAAAAAAAAAAAAAAAAAAAAAAAAAAAAAAAAAAAAAAAAAAAAAAAAAAAAAAAAAAAAAAAAAAAAAAAAAAAAAAAAAAAAAAAAAAAAAAAAAAAAAAAAAAAAAAAAAAAAAAAAAAAAAAAAAAAAAAAAAAAAAAAAAAAAAAAAAAAAAAAAAAAAAAAAAAAAAAAAAAAAAAAAAAAAAAAAAAAAAAAAAAAAAAAAAAAAAAAAAAAAAAAAAAAAAAAAAAAAAAAAAAAAAAAAAAAAAAAAAAAAAAAAAAAAAAAAAAAAAAAAAAAAAAAAAAAAAAAAAAAAAAAAAAAAAAAAAAAAAAAAAAAAAAAAAAAAAAAAAAAAAAAAAAAAAAAAAAAAAAAAAAAAAAAAAAAAAAAAAAAAAAAAAAAAAAAAAAAAAAAAAAAAAAAAAAAAAAAAAAAAAAAAAAAAAAAAAAAAAAAAAAAAAAAAAAAAAAAAAAAAAAAAAAAAAAAAAAAAAAAAAAAAAAAAAAAAAAAAAAAAAAAAAAAAAAAAAAAAAAAAAAAAAAAAAAAAAAAAAAAAAAAAAAAAAAAAAAAAAAAAAAAAAAAAAAAAAAAAAAAAAAAAAAAAAAAAAAAAAAAAAAAAAAAAAAAAAAAAAAAAAAAAAAAAAAAAAAAAAAAAAAAAAAAAAAAAAAAAAAAAAAAAAAAAAAAAAAAAAAAAAAAAAAAAAAAAAAAAAAAAAAAAAAAAAAAAAAAAAAAAAAAAAAAAAAAAAAAAAAAAAAAAAAAAAAAAAAAAAAAAAAAAAAAAAAAAAAAAAAAAAAAAAAAAAAAAAAAAAAAAAAAAAAAAAAAAAAAAAAAAAAAAAAAAAAAAAAAAAAAAAAAAAAAAAAAAAAAAAAAAAAAAAAAAAAAAAAAAAAAAAMAAAAAAAAAAAAAAAAAAAAAAAAAAAAAAAAAAAAAAAAAAAAAAAAAAAAAAAAAAAAAAAAAAAAAAAAAAAAAAAAAAAAAAAAAAAAAAAAAAAAAAAAAAAAAAAAAAAAAAAAAAAAAAAAAAAAAAAAAAAAAAAAAAAAAAAAAAAAAAAAAAAAAAAAAAAAAAAAAAAAAAAAAAAAAAAAAAAAAAAAAAAAAAAAAAAAAAAAAAAAAAAAAAAAAAAAAAAAAAAAAAAAAAAAAAAAAAAAAAAAAAAAAAAAAAAAAAAAAAAAAAAAAAAAAAAAAAAAAAAAAAAAAAAAAAAAAAAAAAAAAAAAAAAAAAAAAAAAAAAAAAAAAAAAAAAAAAAAAAAAAAAAAAAAAAAAAAAAAAAAAAAAAAAAAAAAAAAAAAAAAAAAAAAAAAAAAAAAAAAAAAAAAAAAAAAAAAAAAAAAAAAAAAAAAAAAAAAAAAAAAAAAAAAAAAAAAAAAAAAAAAAAAAAAAAAAAAAAAAAAAAAAAAAAAAAAAAAAAAAAAAAAAAAAAAAAAAAAAAAAAAAAAAAAAAAAAAAAAAAAAAAAAAAAAAAAAAAAAAAAAAAAAAAAAAAAAAAAAAAAAAAAAAAAAAAAAAAAAAAAAAAAAAAAAAAAAAAAAAAAAAAAAAAAAAAAAAAAAAAAAAAAAAAAAAAAAAAAAAAAAAAAAAAAAAAAAAAAAAAAAAAAAAAAAAAAAAAAAAAAAAAAAAAAAAAAAAAAAAAAAAAAAAAAAAAAAAAAAAAAAAAAAAAAAAAAAAAAAAAAAAAAAAAAAAAAAAAAAAAAAAAAAAAAAAAAAAAAAAAAAAAAAAAAAAAAAAAAAAAAAAAAAAAAAAAAAAAAAAAAAAAAAAAAAAAAAAAAAAAAAAAAAAAAAAAAAAAAAAAAAAAAAAAAAAAAAAAAAAAAAAAAAAAAAAAAAAAAAAAAAAAAAAAAAAAAAAAAAAAAAAAAAAAAAAAAAAAAAAAAAAAAAAAAAAAAAAAAAAAAAAAAAAAAAAAAAAAAAAAAAAAAAAAAAAAAAAAAAAAAAAAAAAAAAAAAAAAAAAAAAAAAAAAAAAAAAAAAAAAAAAAAAAAAAAAAAAAAAAAAAAAAAAAAAAAAAAAAAAAAAAAAAAAAAAAAAAAAAAAAAAAAAAAAAAAAAAAAAAAAAAAAAAAAAAAAND/AAAAAAAAAAAAAAAAAAAAAAAAAAAAAND/AAAAAAAAAAAAAAAAAAAAAAAAAAAAAAAAAAAAAAAAAAAAAAAAAAAAAAAAAAAAAAAAAAAAAAAAAAAAAAAAAAAAAAAAAAAAAAAAAAAAAAAAAAAAAAAAAAAAAAAAAAAAAAAAAAAAAAAAAAAAAAAAAAAAAAAAAAAAAAAAAAAAAAAAAAAAAAAAAAAAAAAAAAAAAAAAAAAAAAAAAAAAAAAAAAAAAAAAAAAAAAAAAAAAAAAAAAAAAAAAAAAAAAAAAAAAAAAAAAAAAAAAAAAAAAAAAAAAAAAAAAAAAAAAAAAAAAAAAAAAAAAAAAAAAAAAAAAAAAAAAAAAAAAAAAAAAAAAAAAAAAAAAAAAAAAAAAAAAAAAAAAAAAAAAAAAAAAAAAAAAAAAAAAAAAAAAAAAAAAAAAAAAAAAAAAAAAAAAAAAAAAAAAAAAAAAAAAAAAAAAAAAAAAAAAAAAAAAAAAAAAAAAAAAAAAAAAAAAAAAAAAAAAAAAAAAAAAAAAAAAAAAAAAAAAAAAAAAAAAAAAAAAAAAAAAAAAAAAAAAAAAAAAAAAAAAAAAAAAAAAAAAAAAAAAAAAAAAAAAAAAAAAAAAAAAAAAAAAAAAAAAAAAAAAAAAAAAAAAAAAAAAAAAAAAAAAAAAAAAAAAAAAAAAAAAAAAAAAAAAAAAAAAAAAAAAAAAAAAAAAAAAAAAAAAAAAAAAAAAAAAAAAAAAAAAAAAAAAAAAAAAAAAAAAAAAAAAAAAAAAAAAAAAAAAAAAAAAAAAAAAAAAAAAAAAAAAAAAAAAAAAAAAAAAAAAAAAAAAAAAAAAAAAAAAAAAAAAAAAAAAAAAAAAAAAAAAAAAAAAAAAAAAAAAAAAAAAAAAAAAAAAAAAAAAAAAAAAAAAAAAAAAAAAAAAAAAAAAAAAAAAAAAAAAAAAAAAAAAAAAAAAAAAAAAAAAAAAAAAAAAAAAAAAAAAAAAAAAAAAAAAAAAAAAAAAAAAAAAAAAAAAAAAAAAAAAAAAAAAAAAAAAAAAAAAAAAAAAAAAAAAAAAAAAAAAAAAAAAAAAAAAAAAAAAAAAAAAAAAAAAAAAAAAAAAAAAAAAAAAAAAAAAAAAAAAAAAAAAAAAAAAAAAAAAAAAAAAAAAAAAAAAAAAAAAAAAAAAAAAAAAAAAAAAAAAAAAAAAAAAAAAAAAAAAAAAAAAAAAAAAAAAAAAAAAAAAAAAAAAAAAAAAAAAAAAAAAAAAAAAAAAAAAAAAAAAAAAAAAAAAAAAAAAAAAAAAAAAAAAAAAAAAAAAAAAAAAAAAAAAAAAAAAAAAAAAAAAAAAAAAAAAAAAAAAAAAAwAAAAAAAAAAAAAAAAAAAAAAAAAAAAMAAAADAAAAAwAAAAAAAAADAAAAAAAAAAAAAAAAAAAAAAAAAAAAAAAAAAAAAAAAAAAAAAAAAAAAAAAAAAAAAAAAAAAAAAAAAAAAAAAAAAAAAAAAAAMAAAAAAAAAAAAAAAAAAAAAAAAAAAAAAAAAAAAAAAAAAAAAAAAAAAAAAAAAAAAAAAAAAAAAAAAAAAAAAAAAAAAAAAAAAAAAAAAAAAAAAAAAAAAAAAAAAAAAAAAAAAAAAAAAAAAAAAAAAAAAAAAAAAAAAAAAAAAAAAAAAAAAAAAAAAAAAAAAAAAAAAAAAAAAAAAAAAAAAAAAAAAAAAAAAAAAAAAAAAAAAAAAAAAAAAAAAAAAAAAAAAAAAAAAAAAAAAMAAAADAAAAAAAAAAAAAAAAAAAAAAAAAAAAAAADAAAAAwAAAAMAAAAAAAAAAAAAAAAAAAAAAAAAAAAAAAAAAAADAAAAAAAAAAAAAAAAAAAAAAADAAAAAAAAAAAAAAAAAAAAAAAAAAAAAAAAAAAAAwAAAAAAAAAAAAAAAAAAAAAAAAAAAAAAAAAAAAAAAAAAAAAAAAAAAAAAAAAAAAAAAAAAAAAAAAAAAAAAAAAAAAAAAAAAAAAAAAAAAAAAAAAAAAAAAAAAAAAAAAAAAAAAAAAAAAAAAAAAAAAAAAAAAAAAAAAAAAAAAAAAAAAAAAAAAAAAAAAAAAAAAAAAAAAAAAAAAAAAAAAAAAAAAAAAAAAAAAAAAAAAAAAAAAAAAAAAAAAAAAAAAAAAAAAAAAAAAAAAAAAAAAAAAAAAAAAAAAAAAAAAAAAAAAAAAAAAAAAAAAAAAAAAAAAAAAAAAAAAAAAAAAAAAAAAAAAAAAAAAAAAAAAAAAAAAAAAAAAAAAAAAAAAAAAAAAAAAAAAAAAAAAAAAAAAAAAAAAAAAAAAAAAAAAAAAAAAAAAAAAAAAAAAAAAAAAAAAAAAAAAAAAAAAAAAAAAAAAAAAAAAAAAAAAAAAAAAAAAAAAAAAAAAAAAAAAAAAAAAAAAAAAAAAAAAAAAAAAAAAAAAAAAAAAAAAAAAAAAAAAAAAAAAAAAAAAAAAAAAAAAAAAAAAAAAAAAAAAAAAAAAAAAAAAAAAAAAAAAAAAAAAAAAAAAAAAAAAAAAAAAAAAAAAAAAAAAAAAAAAAAAAAAAAAAAAAAAAAAAAAAAAAAAAAAAAAAAAAAAAAAAAAAAAAAAAAAAAAAAAAAAAAAAAAAAAAAAAAAAAAAAAAAAAAAAAAAAAAAAAAAAAAAAAAAAAAAAAAAAAAAAAAAAAAAAAAAAAAAAAAAAAAAAAAAAAAAAAAAAAAAAAAAAAAAAAAAAAAAAAAAAAAAAAAAAAAAAAAAAAAAAAAAAAAAAAAAAAAAAAAAAAAAAAAAAAAAAAAAAAAAAAAAAAAAAAAAAAAAAAAAAAAAAAAAAAAAAAAAAAAAAAAAAAAAAAAAAAAAAAAAAAAAAAAAAAAAAAAAAAAAAAAAAAAAAAAAAAAAAAAAAAAAAAAAAAAAAAAAAAAAAAAAAAAAAAAAAAAAAAAAAAAAAAAAAAAAAAAAAAAAAAAAAAAAAAAAAAAAAAAAAAAAAAAAAAAAAAAAAAAAAAAAAAAAAAAAAAAAAAAAAAAAAAAAAAAAAAAAAAAAAAAAAAAAAAAAAAAAAAAAAAAAAAAAAAAAAAAAAAAAAAAAAAAAAAAAAAAAAAA0P8AAAAAAAAAAAAAAAAAAAAAAAAAAAAAAAAAAAAAAAAAAAAAAAAAAAAAAAAAAAAAAAAAAAAAAAAAAAAAAAAAAAAAAAAAAAAAAAAAAAAAAAAAAAAAAAAAAAAAAAAAAAAAAAAAAAAAAAAAAAAAAAAAAAAAAAAAAAAAAAAAAAAAAAAAAAAAAAAAAAAAAAAAAAAAAAAAAAAAAAAAAAAAAAAAAAAAAAAAAAAAAAAAAAAAAAAAAAAAAAAAAAAAAAAAAAAAAAAAAAAAAAAAAAAAAAAAAAAAAAAAAAAAAAAAAAAAAAAAAAAAAAAAAAAAAAAAAAAAAAAAAAAAAAAAAAAAAAAAAAAAAAAAAAAAAAAAAAAAAAAAAAAAAAAAAAAAAAAAAAAAAAAAAAAAAAAAAAAAAAAAAAAAAAAAAAAAAAAAAAAAAAAAAAAAAAAAAAAAAAAAAAAAAAAAAAAAAAAAAAAAAAAAAAAAAAAAAAAAAAAAAAAAAAAAAAAAAAAAAAAAAAAAAAAAAAAAAAAAAAAAAAAAAAAAAAAAAAAAAAAAAAAAAAAAAAAAAAAAAAAAAAAAAAAAAAAAAAAAAAAAAAAAAAAAAAAAAAAAAAAAAAAAAAAAAAAAAAAAAAAAAAAAAAAAAAAAAAAAAAAAAAAAAAAAAAAAAAAAAAAAAAAAAAAAAAAAAAAAAAAAAAAAAAAAAAAAAAAAAAAAAAAAAAAAAAAAAAAAAAAAAAAAAAAAAAAAAAAAAAAAAAAAAAAAAAAAAAAAAAAAAAAAAAAAAAAAAAAAAAAAAAAAAAAAAAAAAAAAAAAAAAAAAAAAAAAAAAAAAAAAAAAAAAAAAAAAAAAAAAAAAAAAAAAAAAAAAAAAAAAAAAAAAAAAAAAAAAAAAAAAAAAAAAAAAAAAAAAAAAAAAAAAAAAAAAAAAAAAAAAAAAAAAAAAAAAAAAAAAAAAAAAAAAAAAAAAAAAAAAAAAAAAAAAAAAAAAAAAAAAAAAAAAAAAAAAAAAAAAAAAAAAAAAAAAAAAAAAAAAAAAAAAAAAAAAAAAAAAAAAAAAAAAAAAAAAAAAAAAAAAAAAAAAAAAAAAAAAAAAAAAAAAAAAAAAAAAAAAAAAAAAAAAAAAAAAAAAAAAAAAAAAAAAAAAAAAAAAAAAAAAAAAAAAAAAAAAAAAAAAAAAAAAAAAAAAAAAAAAAAAAAAAAAAAAAAAAAAAAAAAAAAAAAAAAAAAAAAAAAAAAAAAAAAAAAAAAAAAAAAAAAAAAAAAAAAAAAAAAAAAAAAAAAAAAAAAAAAAAAAAAAAAAAAAAAAAAAAAAAAAAAAAAAAAAAAAAAAAAAAAAAAAAAAAAAAAAAAAAAAAAAAAAAAAAAAAAAAAAAAAAAAAAAAAAAAAAAAAAAAAAAAAAAAAAAAAAAAAAAAAAAAAAAAAAAAAAAAAAAAAAAAAAAAAAAAAAAAAAAAAAAAAAAAAAAAAAAAAAAAAAAAAAAAAAAAAAAAAAAAAAAAAAAAAAAAAAAAAAAAAAAAAAAAAAAAAAAAAAAAAAAAAAAAAAAAAAAAAAAAAAAAAAAAAAAAAAAAAAAAAAAAAAAAAAAAAAAAAAAAAAAAAAAAAAAAAAAAAAAAAAAAAAAAAAAAAAAAAAAAAAAAAAAAAAAAAAAAAAAAAAAAAAAAAAAAAAAAAAAAAAAAAAAAAAAAAAAAAAAAAAAAAAAAAAAAAAAAAAAAAAAAAAAAAAAAAAAAAAAAAAAAAAAAAAAAAAAAAAAAAAAAAAAAAAAAAAAAAAAAAAAAAAAAAAAAAAAAAAAAAAAAAAAAAAAAAAAAAAAAAAAAAAAAAAAAAAAAAAAAAAAAAAAAAAAAAAAAAAAAAAAAAAAAAAAAAAAAAAAAAAAAAAAAAAAAAAAAAAAAAAAAAAAAAAAAAAAAAAAAAAAAAAAAAAAAAAAAAAAAAAAAAAAAAAAAAAAAAAAAAAAAAAAAAAAAAAAAAAAAAAAAAAAAAAAAAAAAAAAAAAAAAAAAAAAAAAAAAAAAAAAAAAAAAAAAAAAAAAAAAAAAAAAAAAAAAAAAAAAAAAAAAAAAAAAAAAAAAAAAAAAAAAAAAAAAAAAAAAAAAAAAAAAAAAAAAAAAAAAAAAAAAAAAAAAAAAAAAAAAAAAAAAAAAAAAAAAAAAAAAAAAAAAAAAAAAAAAAAAAAAAAAAAAAAAAAAAAAAAAAAAAAAAAAAAAAAAAAAAAAAAAAAAAAAAAAAAAAAAAAAAAAAAAAAAAAAAAAAAAAAAAAAAAAAAAAAAAAAAAAAAAAAAAAAAAAAAAAAAAAAAAAAAAAAAAAAAAAAAAAAAAAAAAAAAAAAAAAAAAAAAAAAAAAAAAAAAAAAAAAAAAAAAAAAAAAAAAAAAAAAAAAAAAAAAAAAAAAAAAAAAAAAAAAAAAAAAAAAAAAAAAAAAAAAAAAAAAAAAAAAAAAAAAAAAAAAAAA0P8AAAAAAAAAAAAAAAAAAAAAAAAAAAAAAAAAAAAAAAAAAAAAAAAAAAAAAAAAAAAAAAAAAAAAAAAAAAAAAAAAAAAAAAAAAAAAAAAAAAAAAAAAAAAAAAAAAND/AADQ/wAAAAAAAAAAAAAAAAAAAAAAAAAAAAAAAAAAAAAAAAAAAAAAAAAAAAAAAAAAAAAAAAAAAAAAAAAAAAAAAAAAAAAAAAAAAAAAAAAAAAAAAAAAAAAAAAAAAAAAAAAAAAAAAAAAAAAAAAAAAAAAAAAAAAAAAAAAAAAAAAAAAAAAAAAAAAAAAAAAAAAAAAAAAAAAAAAAAAAAAAAAAAAAAAAAAAAAAAAAAAAAAAAAAAAAAAAAAAAAAAAAAAAAAAAAAAAAAAAAAAAAAAAAAAAAAAAAAAAAAAAAAAAAAAAAAAAAAAAAAAAAAAAAAAAAAAAAAAAAAAAAAAAAAAAAAAAAAAAAAAAAAAAAAAAAAAAAAAAAAAAAAAAAAAAAAAAAAAAAAAAAAAAAAAAAAAAAAAAAAAAAAAAAAAAAAAAAAAAAAAAAAAAAAAAAAAAAAAAAAAAAAAAAAAAAAAAAAAAAAAAAAAAAAAAAAAAAAAAAAAAAAAAAAAAAAAAAAAAAAAAAAAAAAAAAAAAAAAAAAAAAAAAAAAAAAAAAAAAAAAAAAAAAAAAAAAAAAAAAAAAAAAAAAAAAAAAAAAAAAAAAAAAAAAAAAAAAAAAAAAAAAAAAAAAAAAAAAAAAAAAAAAAAAAAAAAAAAAAAAAAAAAAAAAAAAAAAAAAAAAAAAAAAAAAAAAAAAAAAAAAAAAAAAAAAAAAAAAAAAAAAAAAAAAAAAAAAAAAAAAAAAAAAAAAAAAAAAAAAAAAAAAAAAAAAAAAAAAAAAAAAAAAAAAAAAAAAAAAAAAAAAAAAAAAAAAAAAAAAAAAAAAAAAAAAAAAAAAAAAAAAAAAAAAAAAAAAAAAAAAAAAAAAAAAAAAAAAAAAAAAAAAAAAAAAAAAAAAAAAAAAAAAAAAAAAAAAAAAAAAAAAAAAAAAAAAAAAAAAAAAAAAAAAAAAAAAAAAAAAAAAAAAAAAAAAAAAAAAAAAAAAAAAAAAAAAAAAAAAAAAAAAAAAAAAAAAAAAAAAAAAAAAAAAAAAAAAAAAAAAAAAAAAAAAAAAAAAAAAAAAAAAAAAAAAAAAAAAAAAAAAAAAAAAAAAAAAAAAAAAAAAAAAAAAAAAAAAAAAAAAAAAAAAAAAAAAAAAAAAAAAAAAAAAAAAAAAAAAAAAAAAAAAAAAAAAAAAAAAAAAAAAAAAAAAAAAAAAAAAAAAAAAAAAAAAAAAAAAAAAAAAAAAAAAAAAAAAAAAAAAAAAAAAAAAAAAAAAAAAAAAAAAAAAAAAAAAAAAAAAAAAAAAAAAAAAAAAAAAAAAAAAAAAAAAAAAAAAAAAAAAAAAAAAAAAAAAAAAAAAAAAAAAAAAAAAAAAAAAAAAAAAAAAAAAAAAAAAAAAAAAAAAAAAAAAAAAAAAAAAAAAAAAAAAAAAAAAAAAAAAAAAAAAAAAAAAAAAAAAAAAAAAAAAAAAAAAAAAAAAAAAAAAAAAAAAAAAAAAAAAAAAAAAAAAAAAAAAAAAAAAAAAAAAAAAAAAAAAAAAAAAAAAAAAAAAAAAAAAAAAAAAAAAAAAAAAAAAAAAAAAAAAAAAAAAAAAAAAAAAAAAAAAAAAAAAAAAAAAAAAAAAAAAAAAAAAAAAAAAAAAAAAAAAAAAAAAAAAAAAAAAAAAAAAAAAAAAAAAAAAAAAAAAAAAAAAAAAAAAAAAAAAAAAAAAAAAAAAAAAAAAAAAAAAAAAAAAAAAAAAAAAAAAAAAAAAAAAAAAAAAAAAAAAAAAAAAAAAAAAAAAAAAAAAAAAAAAAAAAAAAAAAAAAAAAAAAAAAAAAAAAAAAAAAAAAAAAAAAAAAAAAAAAAAAAAAAAAAAAAAAAAAAAAAAAAAAAAAAAAAAAAAAAAAAAAAAAAAAAAAAAAAAAAAAAAAAAAAAAAAAAAAAAAAAAAAAAAAAAAAAAAAAAAAAAAAAAAAAAAAAAAAAAAAAAAAAAAAAAAAAAAAAAAAAAAAAAAAAAAAAAAAAAAAAAAAAAAAAAAAAAAAAAAAAAAAAAAAAAAAAAAAAAAAAAAAAAAAAAAAAAAAAAAAAAAAAAAAAAAAAAAAAAAAAAAAAAAAAAAAAAAAAAAAAAAAAAAAAAAAAAAAAAAAAAAAAAAAAAAAAAAAAAAAAAAAAAAAAAAAAAAAAAAAAAAAAAAAAAAAAAAAAAAAAAAAAAAAAAAAAAAAAAAAAAAAAAAAAAAAAAAAAAAAAAAAAAAAAAAAAAAAAAAAAAAAAAAAAAAAAAAAAAAAAAAAAAAAAAAAAAAAAAAAAAAAAAAAAAAAAAAAAAAAAAAAAAAAAAAAAAAAAAAAAAAAAAAAAAAAAAAAAAAAAAAAAAAAAAAAAAAAAAAAAAAAAAAAAAAAAAAAAAAAAAAAAAAAAAAAAAAAAAAAAAAAAAAAAAAAAAAAAAAAAAAAAAAAAAAAAAAAAAAAAAAAAAAAAAAAAAAAAAAAAAAAAAAAAAAAAAAAAAAAAAAAAAAAAAAAAAAAAAAAAAAAAAAAAAAAAAAAAAAAAAAAAAAAAAAAAAAAAAAAAAAAAAAAAAAAAAAAAAAAAAAAAAAAAAAAAAAAAAAAAAAAAAAAAAAAAAAAAAAAAAAAAAAAAAAAAAAAAAAAAAAAAAAAAAAAAAAAAAAAAAAAAAAAAAAAAAAAAAAAAAAAAAAAAAAAAAAAAAAAAAAAAAAAAAAAAAAAAAAAAAAAAAAAAAAAAAAAAAAAAAAAAAAAAAAAAAAAAAAAAAAAAAAAAAAAAAAAAAAAAAAAAAAAAAAAAAAAAAAAAAAAAAAAAAAAAAAAAAAAAAAAAAAAAAAAAAAAAAAAAAAAAAAAAAAAAAAAAAAAAAAAAAAAAAAAAAAAAAAAAAAAAAAAAAAAAAAAAAAAAAAAAAAAAAAAAAAAAAAAAAAAAAAAAAAAAAAAAAAAAAAAAAAAAAAAAAAAAAAAAAAAAAAAAAAAAAAAAAAAAAAAAAAAAAAAAAAAAAAAAAAAAAAAAAAAAAAAAAAAAAAAAAAAAAAAAAAAAAAAAAAAAAAAAAAAAAAAAAAAAAAAAAAAAAAAAAAAAAAAAAAAA0P8AAAAAAAAAAAAAAAAAAAAAAAAAAAAAAAAAAAAAAAAAAAAAAAAAAAAAAAAAAAAAAAAAAAAA0P8AAAAAAAAAAAAAAAAAAAAAAAAAAAAAAAAAAAAAAAAAAAAAAAAAAAAAAAAAAAAAAAAAAAAAAAAAAAAAAAAAAAAAAAAAAAAAAAAAAAAAAAAAAAAAAAAAAAAAAAAAAAAAAAAAAAAAAAAAAAAAAAAAAAAAAAAAAAAAAAAAAAAAAAAAAAAAAAAAAAAAAAAAAAAAAAAAAAAAAAAAAAAAAAAAAAAAAAAAAAAAAAAAAAAAAAAAAAAAAAAAAAAAAAAAAAAAAAAAAAAAAAAAAAAAAAAAAAAAAAAAAAAAAAAAAAAAAAAAAAAAAAAAAAAAAAAAAAAAAAAAAAAAAAAAAAAAAAAAAAAAAAAAAAAAAAAAAAAAAAAAAAAAAAAAAAAAAAAAAAAAAAAAAAAAAAAAAAAAAAAAAAAAAAAAAAAAAAAAAAAAAAAAAAAAAAAAAAAAAAAAAAAAAAAAAAAAAAAAAAAAAAAAAAAAAAAAAAAAAAAAAAAAAAAAAAAAAAAAAAAAAAAAAAAAAAAAAAAAAAAAAAAAAAAAAAAAAAAAAAAAAAAAAAAAAAAAAAAAAAAAAAAAAAAAAAAAAAAAAAAAAAAAAAAAAAAAAAAAAAAAAAAAAAAAAAAAAAAAAAAAAAAAAAAAAAAAAAAAAAAAAAAAAAAAAAAAAAAAAAAAAAAAAAAAAAAAAAAAAAAAAAAAAAAAAAAAAAAAAAAAAAAAAAAAAAAAAAAAAAAAAAAAAAAAAAAAAAAAAAAAAAAAAAAAAAAAAAAAAAAAAAAAAAAAAAAAAAAAAAAAAAAAAAAAAAAAAAAAAAAAAAAAAAAAAAAAAAAAAAAAAAAAAAAAAAAAAAAAAAAAAAAAAAAAAAAAAAAAAAAAAAAAAAAAAAAAAAAAAAAAAAAAAAAAAAAAAAAAAAAAAAAAAAAAAAAAAAAAAAAAAAAAAAAAAAAAAAAAAAAAAAAAAAAAAAAAAAAAAAAAAAAAAAAAAAAAAAAAAAAAAAAAAAAAAAAAAAAAAAAAAAAAAAAAAAAAAAAAAAAAAAAAAAAAAAAAAAAAAAAAAAAAAAAAAAAAAAAAAAAAAAAAAAAAAAAAAAAAAAAAAAAAAAAAAAAAAAAAAAAAAAAAAAAAAAAAAAAAAAAAADAAAAAAAAAAAAAAAAAAAAAAAAAAAAAAAAAAAAAAAAAAAAAAAAAAAAAAAAAAAAAAAAAAAAAAAAAAAAAAAAAAAAAAAAAAAAAAAAAAAAAAAAAAAAAAAAAAAAAAAAAAAAAAAAAAAAAAAAAAAAAAAAAAAAAAAAAAAAAAAAAAAAAAAAAAAAAAAAAAAAAAAAAAAAAAAAAAAAAAAAAAAAAAAAAAAAAAAAAAAAAAAAAAAAAAAAAAAAAAAAAAAAAAAAAAAAAAAAAAAAAAAAAAAAAAAAAAAAAAAAAAAAAAAAAAAAAAAAAAAAAAAAAAAAAAAAAAAAAAAAAAAAAAAAAAAAAAAAAAAAAAAAAAAAAAAAAAAAAAAAAAAAAAAAAAAAAAAAAAAAAAAAAAAAAAAAAAAAAAAAAAAAAAAAAAAAAAAAAAAAAAAAAAAAAAAAAAAAAAAAAAAAAAAAAAAAAAAAAAAAAAAAAAAAAAAAAAAAAAAAAAAAAAAAAAAAAAAAAAAAAAAAAAAAAAAAAAAAAAAAAAAAAAAAAAAAAAAAAAAAAAAAAAAAAAAAAAAAAAAAAAAAAAAAAAAAAAAAAAAAAAAAAAAAAAAAAAAAAAAAAAAAAAAAAAAAAAAAAAAAAAAAAAAAAAAAAAAAAAAAAAAAAAAAAAAAAAAAAAAAAAAAAAAAAAAAAAAAAAAAAAAAAAAAAAAAAAAAAAAAAAAAAAAAAAAAAAAAAAAAAAAAAAAAAAAAAAAAAAAAAAAAAAAAAAAAAAAAAAAAAAAAAAAAAAAAAAAAAAAAAAAAAAAAAAAAAAAAAAAAAAAAAAAAAAAAAAAAAAAAAAAAAAAAAAAAAAAAAAAAAAAAAAAAAAAAAAAAAAAAAAAAAAAAAAAAAAAAAAAAAAAAAAAAAAAAAAAAAAAAAAAAAAAAAAAAAAAAAAAAAAAAAAAAAAAAAAAAAAAAAAAAAAAAAAAAAAAAAAAAAAAAAAAAAAAAAAAAAAAAAAAAAAAAAAAAAAAAAAAAAAAAAAAAAAAAAAAAAAAAAAAAAAAAAAAAAAAAAAAAAAAAAAAAAAAAAAAAAAAAAAAAAAAAAAAAAAAAAAAAAAAAAAAAAAAAAAAAAAAAAAAAAAAAAAAAAAAAAAAAAAAAAAAAAAAAAAAAAAAAAAAAAAAAAAAAAAAAAAAAAAAAAAAAAAAAAAAAAAAAAAAAAAAAAAAAAAAAAAAAAAAAAAAAAAAAAAAAAAAAAAAAAAAAAAAAAAAAAAAAAAAAAAAAAAAAAAAAAAAAAAAAAAAAAAAAAAAAAAAAAAAAAAAAAAAAAAAAAAAAAAAAAAAAAAAAAAAAAAAAAAAAAAAAAAAAAAAAAAAAAAAAAAAAAAAAAAAAAAAAAAAAAAAAAAAAAAAAAAAAAAAAAAAAAAAAAAAAAAAAAAAAAAAAAAAAAAAAAAAAAAAAAAAAAAAND/AAAAAAAAAAAAAAAAAAAAAAAAAAAAAAAAAAAAAAAAAAAAAAAAAAAAAAAAAAAAAAAAAAAAAAAAAAAAAAAAAAAAAAAAAAAAAAAAAAAAAAAA0P8AAND/0P8AAAAAAAAAAAAAAAAAAAAAAAAAAAAAAAAAAAAAAAAAAAAAAAAAAAAAAAAAAAAAAAAAAAAAAAAAAAAAAAAAAAAAAAAAAAAAAAAAAAAAAAAAAAAAAAAAAAAAAAAAAAAAAAAAAAAAAAAAAAAAAAAAAAAAAAAAAAAAAAAAAAAAAAAAAAAAAAAAAAAAAAAAAAAAAAAAAAAAAADQ/wAAAAAAAAAAAAAAAAAAAAAAAAAAAAAAAAAAAAAAAAAAAAAAAAAAAAAAAAAAAAAAAAAAAAAAAAAAAAAAAAAAAAAAAAAAAAAAAAAAAAAAAAAAAAAAAAAA0P8AAAAAAAAAAAAAAAAAAAAAAAAAAAAAAAAAAAAAAAAAAAAAAAAAAAAAAAAAAAAAAAAAAAAAAAAAAAAA0P8AAAAAAAAAAAAAAAAAAAAAAAAAAAAAAAAAAAAAAAAAAAAAAAAAAAAAAAAAAND/AAAAAAAAAAAAAAAAAAAAAAAAAAAAAAAAAAAAAAAAAAAAAAAAAAAAAAAAAAAAAAAAAAAAAAAAAAAAAAAAAAAAAAAAAAAAAAAAAAAAAAAAAAAAAAAAAAAAAAAAAAAAAAAAAAAAAAAAAAAAAAAAAAAAAAAAAAAAAAAAAAAAAAAAAAAAAAAAAAAAAAAAAAAAAAAAAAAAAAAAAAAAAAAAAAAAAAAAAAAAAAAAAAAAAAAAAAAAAAAAAAAAAAAAAAAAAAAAAAAAAAAAAAAAAAAAAAAAAAAAAAAAAAAAAAAAAAAAAAAAAAAAAAAAAAAAAAAAAAAAAAAAAAAAAAAAAAAAAAAAAAAAAAAAAAAAAAAAAAAAAAAAAAAAAAAAAAAAAAAAAAAAAAAAAAAAAAAAAAAAAAAAAAAAAAAAAAAAAAAAAAAAAAAAAAAAAAAAAAAAAAAAAAAAAAAAAAAAAAAAAAAAAAAAAAAAAAAAAAAAAAAAAAAAAAAAAAAAAAAAAAAAAAAAAAAAAAAAAAAAAAAAAAAAAAAAAAAAAAAAAAAAAAAAAAAAAAAAAAAAAAAAAAAAAAAAAAAAAAAAAAAAAAAAAAAAAAAAAAAAAAAAAAAAAAAAAAAAAAAAAAAAAAAAAAAAAAAAAAAAAAAAAAAAAAAAAAAAAAAAAAAAAAAAAAAAAAAAAAAAAAAAAAAAAAAAAAAAAAAAAAAAAAAAAAAAAAAAAAAAAAAAAAAAAAAAAAAAAAAAAAAAAAAAAAAAAAAAAAAAAAAAAAAAAAAAAAAAAAAAAAAAAAAAAAAAAAAAAAAAAAAAAAAAAAAAAAAAAAAAAAAAAAAAAAAAAAAAAAAAAAAAAAAAAAAAAAAAAAAAAAAAAAAAAAAAAAAAAAAAAAAAAAAAAAAAAAAAAAAAAAAAAAAAAAAAAAAAAAAAAAAAAAAAAAAAAAAAAAAAAAAAAAAAAAAAAAAAAAAAAAAAAAAAAAAAAAAAAAAAAAAAAAAAAAAAAAAAAAAAAAAAAAAAAAAAAAAAAAAAAAAAAAAAAAAAAAAAAAAAAAAAAAAAAAAAAAAAAAAAAAAAAAAAAAAAAAAAAAAAAAAAAAAAAAAAAAAAAAAAAAAAAAAAAAAAAAAAAAAAAAAAAAAAAAAAAAAAAAAAAAAAAAAAAAAAAAAAAAAAAAAAAAAAAAAAAAAAAAAAAAAAAAAAAAAAAAAAAAAAAAAAAAAAAAAAAAAAAAAAAAAAAAAAAAAAAAAAAAAAAAAAAAAAAAAAAAAAAAAAAAAAAAAAAAAAAAAAAAAAAAAAAAAAAAAAAAAAAAAAAAAAAAAAAAAAAAAAAAAAAAAAAAAAAAAAAAAAAAAAAAAAAAAAAAAAAAAAAAAAAAAAAAAAAAAAAAAAAAAAAAAAAAAAAAAAAAAAAAAAAAAAAAAAAAAAAAAAAAAAAAAAAAAAAAAAAAAAAAAAAAAAAAAAAAAAAAAAAAAAAAAAAAAAAAAAAAAAAAAAAAAAAAAAAAAAAAAAAAAAAAAAAAAAAAAAAAAAAAAAAAAAAAAAAAAAAAAAAAAAAAAAAAAAAAAAAAAAAAAAAAAAAAAAAAAAAAAAAAAAAAAAAAAAAAAAAAAAAAAAAAAAAAAAAAAAAAAAAAAAAAAAAAAAAAAAAAAAAAAAAAAAAAAAAAAAAAAAAAAAAAAAAAAAAAAAAAAAAAAAAAAAAAAAAAAAAAAAAAAAAAAAAAAAAAAAAAAAAAAAAAAAAAAAAAAAAAAAAAAAAAAAAAAAAAAAAAAAAAAAAAAAAAAAAAAAAAAAAAAAAAAAAAAAAAAAAAAAAAAAAAAAAAAAAAAAAAAAAAAAAAAAAAAAAAAAAAAAAAAAAAAAAAAAAAAAAAAAAAAAAAAAAAAAAAAAAAAAAAAAAAAAAAAAAAAAAAAAAAAAAAAAAAAAAAAAAAAAAAAAAAAAAAAAAAAAAAAAAAAAAAAAAAAAAAAAAAAAAAAAAAAAAAAAAAAAAAAAAAAAAAAAAAAAAAAAAAAAAAAAAAAAAAAAAAAAAAAAAAAAAAAAAAAAAAAAAAAAAAAAAAAAAAAAAAAAAAAAAAAAAAAAAAAAAAAAAAAAAAAAAAAAAAAAAAAAAAAAAAAAAAAAAAAAAAAAAAAAAAAAAAAAAAAAAAAAAAAAAAAAAAAAAAAAAAAAAAAAAAAAAAAAAAAAAAAAAAAAAAAAAAAAAAAAAAAAAAAAAAAAAAAAAAAAAAAAAAAAAAAAAAAAAAAAAAAAAAAAAAAAAAAAAAAAAAAAAAAAAAAAAAAAAAAAAAAAAAAAAAAAAAAAAAAAAAAAAAAAAAAAAAAAAAAAAAAAAAAAAAAAAAAAAAAAAAAAAAAAAAAAAAAAAAAAAAAAAAAAAAAAAAAAAAAAAAAAAAAAAAAAAAAAAAAAAAAAAAAAAAAAAAAAAAAAAAAAAAAAAAAAAAAAAAAAAAAAAAAAAAAAAAAAAAAAAAAAAAAAAAAAAAAAAAAAAAAAAAAAAAAAAAAAAAAAAAAAAAAAAAAAAAAAAAAAAAAAAAAAAAAAAAAAAAAAAAAAAAAAAAAAAAAAAAAAAAAAAAAAAAAAAAAAAAAAAAAAAAAAAAAAAAAAAAAAAAAAAAAAAAAAAAAAAAAAAAAAAAAAAAAAAAAAAAAAAAAAAAAAAAAAAAAAAAAAAAAAAAAAAAAAAAAAAAAAAAAAAAAAAAAAAAAAAAAAAAAAAAAAAAAAAAAAAAAAAAAAAAAAAAAAAAAAAAAAAAAAAAAAAAAAAAAAAAAAAAAAAAAAAAAAAAAAAAAAAAAAAAAAAAAAAAAAAAAAAAAAAAAAAAAAAAAAAAAAAAAAAAAAAAAAAAAAAAAAAAAAAAAAAAAAAAAAAAAAAAAAAAAAAAAAAAAAAAAAAAAAAAAAAAAAAAAAAAAAAAAAAAAAAAAAAAAAAAAAAAAAAAAAAAAAAAAAAAAAAAAAAAAAAAAAAAAAAAAAAAAAAAAAAAAAAAAAAAAAAAAAAAAAAAAAAAAAAAAAAAAAAAAAAAAAAAAAAAAAAAAAAAAAAAAAAAAAAAAAAAAAAAAAAAAAAAAAAAAAAAAAAAAAAAAAAAAAAAAAAAAAAAAAAAAAAAAAAAAAAAAAAAAAAAAAAAAAAAAAAAAAAAAAAAAAAAAAAAAAAAAAAAAAAAAAAAAAAAAAAAAAAAAAAAAAAAAAAAAAAAAAAAAAAAAAAAAAAAAAAAAAAAAAAAAAAAAAAAAAAAAAAAAAAAAAAAAAAAAAAAAAAAAAAAAAAAAAAAAAAAAAAAAAAAAAAAAAAAAAAAAAAAAAAAAAAAAAAAAAAAAAAAAAAAAAAAAAAAAAAAAAAAAAAAAAAAAAAAAAAAAAAAAAAAAAAAAAAAAAAAAAAAAAAAAAAAAAAAAAAAAAAAAAAAAAAAAAAAAAAAAAAAAAAAAAAAAAAAAAAAAAAAAAAAAAAAAAAAAAAAAAAAAAAAAAAAAAAAAAAAAAAAAAAAAAAAAAAAAAAAAAAAAAAAAAAAAAAAAAAAAAAAAAAAAAAAAAAAAAAAAAAAAAAAAAAAAAAAAAAAAAAAAAAAAAAAAAAAAAAAAAAAAAAAAAAAAAAAAAAAAAAAAAAAAAAAAAAAAAAAAAAAAAAAAAAAAAAAAAAAAAAAAAAAAAAAAAAAAAAAAAAAAAAAAAAAAAAAAAAAAAAAAAAAAAAAAAAAAAAAAAAAAAAAAAAAAAAAAAAAAAAAAAAAAAAAAAAAAAAAAAAAAAAAAAAAAAAAAAAAAAAAAAAAAAAAAAAAAAAAAAAAAAAAAAAAAAAAAAAAAAAAAAAAAAAAAAAAAAAAAAAAAAAAAAAAAAAAAAAAAAAAAAAAAAAAAAAAAAAAAAAAAAAAAAAAAAAAAAAAAAAAAAAAAAAAAAAAAAAAAAAAAAAAAAAAAAAAAAAAAAAAAAAAAAAAAAAAAAAAAAAAAAAAAAAAAAAAAAAAAAAAAAAAAAAAAAAAAAAAAAAAAAAAAAAAAAAAAAAAAAAAAAAAAAAAAAAAAAAAAAAAAAAAAAAAAAAAAAAAAAAAAAAAAAAAAAAAAAAAAAAAAAAAAAAAAAAAAAAAAAAAAAAAAAAAAAAAAAAAAAAAAAAAAAAAAAAAAAAAAAAAAAAAAAAAAAAAAAAAAAAAAAAAAAAAAAAAAAAAAAAAAAAAAAAAAAAAAAAAAAAAAAAAAAAAAAAAAAAAAAAAAAAAAAAAAAAAAAAAAAAAAAAAAAAAAAAAAAAAAAAAAAAAAAAAAAAAAAAAAAAAAAAAAAAAAAAAAAAAAAAAAAAAAAAAAAAAAAAAAAAAAAAAAAAAAAAAAAAAAAAAAAAAAAAAAAAAAAAAAAAAAAAAAAAAAAAAAAAAAAAAAAAAAAAAAAAAAAAAAAAAAAAAAAAAAAAAAAAAAAAAAAAAAAAAAAAAAAAAAAAAAAAAAAAAAAAAAAAAAAAAAAAAAAAAAAAAAAAAAAAAAAAAAAAAAAAAAAAAAAAAAAAAAAAAAAAAAAAAAAAAAAAAAAAAAAAAAAAAAAAAAAAAAAAAAAAAAAAAAAAAAAAAAAAAAAAAAAAAAAAAAAAAAAAAAAAAAAAAAAAAAAAAAAAAAAAAAAAAAAAAAAAAAAAAAAAAAAAAAAAAAAAAAAAAAAAAAAAAAAAAAAAAAAAAAAAAAAAAAAAAAAAAAAAAAAAAAAAAAAAAAAAAAAAAAAAAAAAAAAAAAAAAAAAAAAAAAAAAAAAAAAAAAAAAAAAAAAAAAAAAAAAAAAAAAAAAAAAAAAAAAAAAAAAAAAAAAAAAAAAAAAAAAAAAAAAAAAAAAAAAAAAAAAAAAAAAAAAAAAAAAAAAAAAAAAAAAAAAAAAAAAAAAAAAAAAAAAAAAAAAAAAAAAAAAAAAAAAAAAAAAAAAAAAAAAAAAAAAAAAAAAAAAAAAAAAAAAAAAAAAAAAAAAAAAAAAAAAAAAAAAAAAAAAAAAAAAAAAAAAAAAAAAAAAAAAAAAAAAAAAAAAAAAAAAAAAAAAAAAAAAAAAAAAAAAAAAAAAAAAAAAAAAAAAAAAAAAAAAAAAAAAAAAAAAAAAAAAAAAAAAAAAAAAAAAAAAAAAAAAAAAAAAAAAAAAAAAAAAAAAAAAAAAAAAAAAAAAAAAAAAAAAAAAAAAAAAAAAAAAAAAAAAAAAAAAAAAAAAAAAAAAAAAAAAAAAAAAAAAAAAAAAAAAAAAAAAAAAAAAAAAAAAAAAAAAAAAAAAAAAAAAAAAAAAAAAAAAAAAAAAAAAAAAAAAAAAAAAAAAAAAAAAAAAAAAAAAAAAAAAAAAAAAAAAAAAAAAAAAAAAAAAAAAAAAAAAAAAAAAAAAAAAAAAAAAAAAAAAAAAAAAAAAAAAAAAAAAAAAAAAAAAAAAAAAAAAAAAAAAAAAAAAAAAAAAAAAAAAAAAAAAAAAAAAAAAAAAAAAAAAAAAAAAAAAAAAAAAAAAAAAAAAAAAAAAAAAAAAAAAAAAAAAAAAAAAAAAAAAAAAAAAAAAAAAAAAAAAAAAAAAAAAAAAAAAAAAAAAAAAAAAAAAAAAAAAAAAAAAAAAAAAAAAAAAAAAAAAAAAAAAAAAAAAAAAAAAAAAAAAAAAAAAAAAAAAAAAAAAAAAAAAAAAAAAAAAAAAAAAAAAAAAAAAAAAAAAAAAAAAAAAAAAAAAAAAAAAAAAAAAAAAAAAAAAAAAAAAAAAAAAAAAAAAAAAAAAAAAAAAAAAAAAAAAAAAAAAAAAAAAAAAAAAAAAAAAAAAAAAAAAAAAAAAAAAAAAAAAAAAAAAAAAAAAAAAAAAAAAAAAAAAAAAAAAAAAAAAAAAAAAAAAAAAAAAAAAAAAAAAAAAAAAAAAAAAAAAAAAAAAAAAAAAAAAAAAAAAAAAAAAAAAAAAAAAAAAAAAAAAAAAAAAAAAAAAAAAAAAAAAAAAAAAAAAAAAAAAAAAAAAAAAAAAAAAAAAAAAAAAAAAAAAAAAAAAAAAAAAAAAAAAAAAAAAAAAAAAAAAAAAAAAAAAAAAAAAAAAAAAAAAAAAAAAAAAAAAAAAAAAAAAAAAAAAAAAAAAAAAAAAAAAAAAAAAAAAAAAAAAAAAAAAAAAAAAAAAAAAAAAAAAAAAAAAAAAAAAAAAAAAAAAAAAAAAAAAAAAAAAAAAAAAAAAAAAAAAAAAAAAAAAAAAAAAAAAAAAAAAAAAAAAAAAAAAAAAAAAAAAAAAAAAAAAAAAAAAAAAAAAAAAAAAAAAAAAAAAAAAAAAAAAAAAAAAAAAAAAAAAAAAAAAAAAAAAAAAAAAAAAAAAAAAAAAAAAAAAAAAAAAAAAAAAAAAAAAAAAAAAAAAAAAAAAAAAAAAAAAAAAAAAAAAAAAAAAAAAAAAAAAAAAAAAAAAAAAAAAAAAAAAAAAAAAAAAAAAAAAAAAAAAAAAAAAAAAAAAAAAAAAAAAAAAAAAAAAAAAAAAAAAAAAAAAAAAAAAAAAAAAAAAAAAAAAAAAAAAAAAAAAAAAAAAAAAAAAAAAAAAAAAAAAAAAAAAAAAAAAAAAAAAAAAAAAAAAAAAAAAAAAAAAAAAAAAAAAAAAAAAAAAAAAAAAAAAAAAAAAAAAAAAAAAAAAAAAAAAAAAAAAAAAAAAAAAAAAAAAAAAAAAAAAAAAAAAAAAAAAAAAAAAAAAAAAAAAAAAAAAAAAAAAAAAAAAAAAAAAAAAAAAAAAAAAAAAAAAAAAAAAAAAAAAAAAAAAAAAAAAAAAAAAAAAAAAAAAAAAAAAAAAAAAAAAAAAAAAAAAAAAAAAAAAAAAAAAAAAAAAAAAAAAAAAAAAAAAAAAAAAAAAAAAAAAAAAAAAAAAAAAAAAAAAAAAAAAAAAAAAAAAAAAAAAAAAAAAAAAAAAAAAAAAAAAAAAAAAAAAAAAAAAAAAAAAAAAAAAAAAAAAAAAAAAAAAAAAAAAAAAAAAAAAAAAAAAAAAAAAAAAAAAAAAAAAAAAAAAAAAAAAAAAAAAAAAAAAAAAAAAAAAAAAAAAAAAAAAAAAAAAAAAAAAAAAAAAAAAAAAAAAAAAAAAAAAAAAAAAAAAAAAAAAAAAAAAAAAAAAAAAAAAAAAAAAAAAAAAAAAAAAAAAAAAAAAAAAAAAAAAAAAAAAAAAAAAAAAAAAAAAAAAAAAAAAAAAAAAAAAAAAAAAAAAAAAAAAAAAAAAAAAAAAAAAAAAAAAAAAAAAAAAAAAAAAAAAAAAAAAAAAAAAAAAAAAAAAAAAAAAAAAAAAAAAAAAAAAAAAAAAAAAAAAAAAAAAAAAAAAAAAAAAAAAAAAAAAAAAAAAAAAAAAAAAAAAAAAAAAAAAAAAAAAAAAAAAAAAAAAAAAAAAAAAAAAAAAAAAAAAAAAAAAAAAAAAAAAAAAAAAAAAAAAAAAAAAAAAAAAAAAAAAAAAAAAAAAAAAAAAAAAAAAAAAAAAAAAAAAAAAAAAAAAAAAAAAAAAAAAAAAAAAAAAAAAAAAAAAAAAAAAAAAAAAAAAAAAAAAAAAAAAAAAAAAAAAAAAAAAAAAAAAAAAAAAAAAAAAAAAAAAAAAAAAAAAAAAAAAAAAAAAAAAAAAAAAAAAAAAAAAAAAAAAAAAAAAAAAAAAAAAAAAAAAAAAAAAAAAAAAAAAAAAAAAAAAAAAAAAAAAAAAAAAAAAAAAAAAAAAAAAAAAAAAAAAAAAAAAAAAAAAAAAAAAAAAAAAAAAAAAAAAAAAAAAAAAAAAAAAAAAAAAAAAAAAAAAAAAAAAAAAAAAAAAAAAAAAAAAAAAAAAAAAAAAAAAAAAAAAAAAAAAAAAAAAAAAAAAAAAAAAAAAAAAAAAAAAAAAAAAAAAAAAAAAAAAAAAAAAAAAAAAAAAAAAAAAAAAAAAAAAAAAAAAAAAAAAAAAAAAAAAAAAAAAAAAAAAAAAAAAAAAAAAAAAAAAAAAAAAAAAAAAAAAAAAAAAAAAAAAAAAAAAAAAAAAAAAAAAAAAAAAAAAAAAAAAAAAAAAAAAAAAAAAAAAAAAAAAAAAAAAAAAAAAAAAAAAAAAAAAAAAAAAAAAAAAAAAAAAAAAAAAAAAAAAAAAAAAAAAAAAAAAAAAAAAAAAAAAAAAAAAAAAAAAAAAAAAAAAAAAAAAAAAAAAAAAAAAAAAAAAAAAAAAAAAAAAAAAAAAAAAAAAAAAAAAAAAAAAAAAAAAAAAAAAAAAAAAAAAAAAAAAAAAAAAAAAAAAAAAAAAAAAAAAAAAAAAAAAAAAAAAAAAAAAAAAAAAAAAAAAAAAAAAAAAAAAAAAAAAAAAAAAAAAAAAAAAAAAAAAAAAAAAAAAAAAAAAAAAAAAAAAAAAAAAAAAAAAAAAAAAAAAAAAAAAAAAAAAAAAAAAAAAAAAAAAAAAAAAAAAAAAAAAAAAAAAAAAAAAAAAAAAAAAAAAAAAAAAAAAAAAAAAAAAAAAAAAAAAAAAAAAAAAAAAAAAAAAAAAAAAAAAAAAAAAAAAAAAAAAAAAAAAAAAAAAAAAAAAAAAAAAAAAAAAAAAAAAAAAAAAAAAAAAAAAAAAAAAAAAAAAAAAAAAAAAAAAAAAAAAAAAAAAAAAAAAAAAAAAAAAAAAAAAAAAAAAAAAAAAAAAAAAAAAAAAAAAAAAAAAAAAAAAAAAAAAAAAAAAAAAAAAAAAAAAAAAAAAAAAAAAAAAAAAAAAAAAAAAAAAAAAAAAAAAAAAAAAAAAAAAAAAAAAAAAAAAAAAAAAAAAAAAAAAAAAAAAAAAAAAAAAAAAAAAAAAAAAAAAAAAAAAAAAAAAAAAAAAAAAAAAAAAAAAAAAAAAAAAAAAAAAAAAAAAAAAAAAAAAAAAAAAAAAAAAAAAAAAAAAAAAAAAAAAAAAAAAAAAAAAAAAAAAAAAAAAAAAAAAAAAAAAAAAAAAAAAAAAAAAAAAAAAAAAAAAAAAAAAAAAAAAAAAAAAAAAAAAAAAAAAAAAAAAAAAAAAAAAAAAAAAAAAAAAAAAAAAAAAAAAAAAAAAAAAAAAAAAAAAAAAAAAAAAAAAAAAAAAAAAAAAAAAAAAAAAAAAAAAAAAAAAAAAAAAAAAAAAAAAAAAAAAAAAAAAAAAAAAAAAAAAAAAAAAAAAAAAAAAAAAAAAAAAAAAAAAAAAAAAAAAAAAAAAAAAAAAAAAAAAAAAAAAAAAAAAAAAAAAAAAAAAAAAAAAAAAAAAAAAAAAAAAAAAAAAAAAAAAAAAAAAAAAAAAAAAAAAAAAAAAAAAAAAAAAAAAAAAAAAAAAAAAAAAAAAAAAAAAAAAAAAAAAAAAAAAAAAAAAAAAAAAAAAAAAAAAAAAAAAAAAAAAAAAAAAAAAAAAAAAAAAAAAAAAAAAAAAAAAAAAAAAAAAAAAAAAAAAAAAAAAAAAAAAAAAAAAAAAAAAAAAAAAAAAAAAAAAAAAAAAAAAAAAAAAAAAAAAAAAAAAAAAAAAAAAAAAAAAAAAAAAAAAAAAAAAAAAAAAAAAAAAAAAAAAAAAAAAAAAAAAAAAAAAAAAAAAAAAAAAAAAAAAAAAAAAAAAAAAAAAAAAAAAAAAAAAAAAAAAAAAAAAAAAAAAAAAAAAAAAAAAAAAAAAAAAAAAAAAAAAAAAAAAAAAAAAAAAAAAAAAAAAAAAAAAAAAAAAAAAAAAAAAAAAAAAAAAAAAAAAAAAAAAAAAAAAAAAAAAAAAAAAAAAAAAAAAAAAAAAAAAAAAAAAAAAAAAAAAAAAAAAAAAAAAAAAAAAAAAAAAAAAAAAAAAAAAAAAAAAAAAAAAAAAAAAAAAAAAAAAAAAAAAAAAAAAAAAAAAAAAAAAAAAAAAAAAAAAAAAAAAAAAAAAAAAAAAAAAAAAAAAAAAAAAAAAAAAAAAAAAAAAAAAAAAAAAAAAAAAAAAAAAAAAAAAAAAAAAAAAAAAAAAAAAAAAAAAAAAAAAAAAAAAAAAAAAAAAAAAAAAAAAAAAAAAAAAAAAAAAAAAAAAAAAAAAAAAAAAAAAAAAAAAAAAAAAAAAAAAAAAAAAAAAAAAAAAAAAAAAAAAAAAAAAAAAAAAAAAAAAAAAAAAAAAAAAAAAAAAAAAAAAAAAAAAAAAAAAAAAAAAAAAAAAAAAAAAAAAAAAAAAAAAAAAAAAAAAAAAAAAAAAAAAAAAAAAAAAAAAAAAAAAAAAAAAAAAAAAAAAAAAAAAAAAAAAAAAAAAAAAAAAAAAAAAAAAAAAAAAAAAAAAAAAAAAAAAAAAAAAAAAAAAAAAAAAAAAAAAAAAAAAAAAAAAAAAAAAAAAAAAAAAAAAAAAAAAAAAAAAAAAAAAAAAAAAAAAAAAAAAAAAAAAAAAAAAAAAAAAAAAAAAAAAAAAAAAAAAAAAAAAAAAAAAAAAAAAAAAAAAAAAAAAAAAAAAAAAAAAAAAAAAAAAAAAAAAAAAAAAAAAAAAAAAAAAAAAAAAAAAAAAAAAAAAAAAAAAAAAAAAAAAAAAAAAAAAAAAAAAAAAAAAAAAAAAAAAAAAAAAAAAAAAAAAAAAAAAAAAAAAAAAAAAAAAAAAAAAAAAAAAAAAAAAAAAAAAAAAAAAAAAAAAAAAAAAAAAAAAAAAAAAAAAAAAAAAAAAAAAAAAAAAAAAAAAAAAAAAAAAAAAAAAAAAAAAAAAAAAAAAAAAAAAAAAAAAAAAAAAAAAAAAAAAAAAAAAAAAAAAAAAAAAAAAAAAAAAAAAAAAAAAAAAAAAAAAAAAAAAAAAAAAAAAAAAAAAAAAAAAAAAAAAAAAAAAAAAAAAAAAAAAAAAAAAAAAAAAAAAAAAAAAAAAAAAAAAAAAAAAAAAAAAAAAAAAAAAAAAAAAAAAAAAAAAAAAAAAAAAAAAAAAAAAAAAAAAAAAAAAAAAAAAAAAAAAAAAAAAAAAAAAAAAAAAAAAAAAAAAAAAAAAAAAAAAAAAAAAAAAAAAAAAAAAAAAAAAAAAAAAAAAAAAAAAAAAAAAAAAAAAAAAAAAAAAAAAAAAAAAAAAAAAAAAAAAAAAAAAAAAAAAAAAAAAAAAAAAAAAAAAAAAAAAAAAAAAAAAAAAAAAAAAAAAAAAAAAAAAAAAAAAAAAAAAAAAAAAAAAAAAAAAAAAAAAAAAAAAAAAAAAAAAAAAAAAAAAAAAAAAAAAAAAAAAAAAAAAAAAAAAAAAAAAAAAAAAAAAAAAAAAAAAAAAAAAAAAAAAAAAAAAAAAAAAAAAAAAAAAAAAAAAAAAAAAAAAAAAAAAAAAAAAAAAAAAAAAAAAAAAAAAAAAAAAAAAAAAAAAAAAAAAAAAAAAAAAAAAAAAAAAAAAAAAAAAAAAAAAAAAAAAAAAAAAAAAAAAAAAAAAAAAAAAAAAAAAAAAAAAAAAAAAAAAAAAAAAAAAAAAAAAAAAAAAAAAAAAAAAAAAAAAAAAAAAAAAAAAAAAAAAAAAAAAAAAAAAAAAAAAAAAAAAAAAAAAAAAAAAAAAAAAAAAAAAAAAAAAAAAAAAAAAAAAAAAAAAAAAAAAAAAAAAAAAAAAAAAAAAAAAAAAAAAAAAAAAAAAAAAAAAAAAAAAAAAAAAAAAAAAAAAAAAAAAAAAAAAAAAAAAAAAAAAAAAAAAAAAAAAAAAAAAAAAAAAAAAAAAAAAAAAAAAAAAAAAAAAAAAAAAAAAAAAAAAAAAAAAAAAAAAAAAAAAAAAAAAAAAAAAAAAAAAAAAAAAAAAAAAAAAAAAAAAAAAAAAAAAAAAAAAAAAAAAAAAAAAAAAAAAAAAAAAAAAAAAAAAAAAAAAAAAAAAAAAAAAAAAAAAAAAAAAAAAAAAAAAAAAAAAAAAAAAAAAAAAAAAAAAAAAAAAAAAAAAAAAAAAAAAAAAAAAAAAAAAAAAAAAAAAAAAAAAAAAAAAAAAAAAAAAAAAAAAAAAAAAAAAAAAAAAAAAAAAAAAAAAAAAAAAAAAAAAAAAAAAAAAAAAAAAAAAAAAAAAAAAAAAAAAAAAAAAAAAAAAAAAAAAAAAAAAAAAAAAAAAAAAAAAAAAAAAAAAAAAAAAAAAAAAAAAAAAAAAAAAAAAAAAAAAAAAAAAAAAAAAAAAAAAAAAAAAAAAAAAAAAAAAAAAAAAAAAAAAAAAAAAAAAAAAAAAAAAAAAAAAAAAAAAAAAAAAAAAAAAAAAAAAAAAAAAAAAAAAAAAAAAAAAAAAAAAAAAAAAAAAAAAAAAAAAAAAAAAAAAAAAAAAAAAAAAAAAAAAAAAAAAAAAAAAAAAAAAAAAAAAAAAAAAAAAAAAAAAAAAAAAAAAAAAAAAAAAAAAAAAAAAAAAAAAAAAAAAAAAAAAAAAAAAAAAAAAAAAAAAAAAAAAAAAAAAAAAAAAAAAAAAAAAAAAAAAAAAAAAAAAAAAAAAAAAAAAAAAAAAAAAAAAAAAAAAAAAAAAAAAAAAAAAAAAAAAAAAAAAAAAAAAAAAAAAAAAAAAAAAAAAAAAAAAAAAAAAAAAAAAAAAAAAAAAAAAAAAAAAAAAAAAAAAAAAAAAAAAAAAAAAAAAAAAAAAAAAAAAAAAAAAAAAAAAAAAAAAAAAAAAAAAAAAAAAAAAAAAAAAAAAAAAAAAAAAAAAAAAAAAAAAAAAAAAAAAAAAAAAAAAAAAAAAAAAAAAAAAAAAAAAAAAAAAAAAAAAAAAAAAAAAAAAAAAAAAAAAAAAAAAAAAAAAAAAAAAAAAAAAAAAAAAAAAAAAAAAAAAAAAAAAAAAAAAAAAAAAAAAAAAAAAAAAAAAAAAAAAAAAAAAAAAAAAAAAAAAAAAAAAAAAAAAAAAAAAAAAAAAAAAAAAAAAAAAAAAAAAAAAAAAAAAAAAAAAAAAAAAAAAAAAAAAAAAAAAAAAAAAAAAAAAAAAAAAAAAAAAAAAAAAAAAAAAAAAAAAAAAAAAAAAAAAAAAAAAAAAAAAAAAAAAAAAAAAAAAAAAAAAAAAAAAAAAAAAAAAAAAAAAAAAAAAAAAAAAAAAAAAAAAAAAAAAAAAAAAAAAAAAAAAAAAAAAAAAAAAAAAAAAAAAAAAAAAAAAAAAAAAAAAAAAAAAAAAAAAAAAAAAAAAAAAAAAAAAAAAAAAAAAAAAAAAAAAAAAAAAAAAAAAAAAAAAAAAAAAAAAAAAAAAAAAAAAAAAAAAAAAAAAAAAAAAAAAAAAAAAAAAAAAAAAAAAAAAAAAAAAAAAAAAAAAAAAAAAAAAAAAAAAAAAAAAAAAAAAAAAAAAAAAAAAAAAAAAAAAAAAAAAAAAAAAAAAAAAAAAAAAAAAAAAAAAAAAAAAAAAAAAAAAAAAAAAAAAAAAAAAAAAAAAAAAAAAAAAAAAAAAAAAAAAAAAAAAAAAAAAAAAAAAAAAAAAAAAAAAAAAAAAAAAAAAAAAAAAAAAAAAAAAAAAAAAAAAAAAAAAAAAAAAAAAAAAAAAAAAAAAAAAAAAAAAAAAAAAAAAAAAAAAAAAAAAAAAAAAAAAAAAAAAAAAAAAAAAAAAAAAAAAAAAAAAAAAAAAAAAAAAAAAAAAAAAAAAAAAAAAAAAAAAAAAAAAAAAAAAAAAAAAAAAAAAAAAAAAAAAAAAAAAAAAAAAAAAAAAAAAAAAAAAAAAAAAAAAAAAAAAAAAAAAAAAAAAAAAAAAAAAAAAAAAAAAAAAAAAAAAAAAAAAAAAAAAAAAAAAAAAAAAAAAAAAAAAAAAAAAAAAAAAAAAAAAAAAAAAAAAAAAAAAAAAAAAAAAAAAAAAAAAAAAAAAAAAAAAAAAAAAAAAAAAAAAAAAAAAAAAAAAAAAAAAAAAAAAAAAAAAAAAAAAAAAAAAAAAAAAAAAAAAAAAAAAAAAAAAAAAAAAAAAAAAAAAAAAAAAAAAAAAAAAAAAAAAAAAAAAAAAAAAAAAAAAAAAAAAAAAAAAAAAAAAAAAAAAAAAAAAAAAAAAAAAAAAAAAAAAAAAAAAAAAAAAAAAAAAAAAAAAAAAAAAAAAAAAAAAAAAAAAAAAAAAAAAAAAAAAAAAAAAAAAAAAAAAAAAAAAAAAAAAAAAAAAAAAAAAAAAAAAAAAAAAAAAAAAAAAAAAAAAAAAAAAAAAAAAAAAAAAAAAAAAAAAAAAAAAAAAAAAAAAAAAAAAAAAAAAAAAAAAAAAAAAAAAAAAAAAAAAAAAAAAAAAAAAAAAAAAAAAAAAAAAAAAAAAAAAAAAAAAAAAAAAAAAAAAAAAAAAAAAAAAAAAAAAAAAAAAAAAAAAAAAAAAAAAAAAAAAAAAAAAAAAAAAAAAAAAAAAAAAAAAAAAAAAAAAAAAAAAAAAAAAAAAAAAAAAAAAAAAAAAAAAAAAAAAAAAAAAAAAAAAAAAAAAAAAAAAAAAAAAAAAAAAAAAAAAAAAAAAAAAAAAAAAAAAAAAAAAAAAAAAAAAAAAAAAAAAAAAAAAAAAAAAAAAAAAAAAAAAAAAAAAAAAAAAAAAAAAAAAAAAAAAAAAAAAAAAAAAAAAAAAAAAAAAAAAAAAAAAAAAAAAAAAAAAAAAAAAAAAAAAAAAAAAAAAAAAAAAAAAAAAAAAAAAAAAAAAAAAAAAAAAAAAAAAAAAAAAAAAAAAAAAAAAAAAAAAAAAAAAAAAAAAAAAAAAAAAAAAAAAAAAAAAAAAAAAAAAAAAAAAAAAAAAAAAAAAAAAAAAAAAAAAAAAAAAAAAAAAAAAAAAAAAAAAAAAAAAAAAAAAAAAAAAAAAAAAAAAAAAAAAAAAAAAAAAAAAAAAAAAAAAAAAAAAAAAAAAAAAAAAAAAAAAAAAAAAAAAAAAAAAAAAAAAAAAAAAAAAAAAAAAAAAAAAAAAAAAAAAAAAAAAAAAAAAAAAAAAAAAAAAAAAAAAAAAAAAAAAAAAAAAAAAAAAAAAAAAAAAAAAAAAAAAAAAAAAAAAAAAAAAAAAAAAAAAAAAAAAAAAAAAAAAAAAAAAAAAAAAAAAAAAAAAAAAAAAAAAAAAAAAAAAAAAAAAAAAAAAAAAAAAAAAAAAAAAAAAAAAAAAAAAAAAAAAAAAAAAAAAAAAAAAAAAAAAAAAAAAAAAAAAAAAAAAAAAAAAAAAAAAAAAAAAAAAAAAAAAAAAAAAAAAAAAAAAAAAAAAAAAAAAAAAAAAAAAAAAAAAAAAAAAAAAAAAAAAAAAAAAAAAAAAAAAAAAAAAAAAAAAAAAAAAAAAAAAAAAAAAAAAAAAAAAAAAAAAAAAAAAAAAAAAAAAAAAAAAAAAAAAAAAAAAAAAAAAAAAAAAAAAAAAAAAAAAAAAAAAAAAAAAAAAAAAAAAAAAAAAAAAAAAAAAAAAAAAAAAAAAAAAAAAAAAAAAAAAAAAAAAAAAAAAAAAAAAAAAAAAAAAAAAAAAAAAAAAAAAAAAAAAAAAAAAAAAAAAAAAAAAAAAAAAAAAAAAAAAAAAAAAAAAAAAAAAAAAAAAAAAAAAAAAAAAAAAAAAAAAAAAAAAAAAAAAAAAAAAAAAAAAAAAAAAAAAAAAAAAAAAAAAAAAAAAAAAAAAAAAAAAAAAAAAAAAAAAAAAAAAAAAAAAAAAAAAAAAAAAAAAAAAAAAAAAAAAAAAAAAAAAAAAAAAAAAAAAAAAAAAAAAAAAAAAAAAAAAAAAAAAAAAAAAAAAAAAAAAAAAAAAAAAAAAAAAAAAAAAAAAAAAAAAAAAAAAAAAAAAAAAAAAAAAAAAAAAAAAAAAAAAAAAAAAAAAAAAAAAAAAAAAAAAAAAAAAAAAAAAAAAAAAAAAAAAAAAAAAAAAAAAAAAAAAAAAAAAAAAAAAAAAAAAAAAAAAAAAAAAAAAAAAAAAAAAAAAAAAAAAAAAAAAAAAAAAAAAAAAAAAAAAAAAAAAAAAAAAAAAAAAAAAAAAAAAAAAAAAAAAAAAAAAAAAAAAAAAAAAAAAAAAAAAAAAAAAAAAAAAAAAAAAAAAAAAAAAAAAAAAAAAAAAAAAAAAAAAAAAAAAAAAAAAAAAAAAAAAAAAAAAAAAAAAAAAAAAAAAAAAAAAAAAAAAAAAAAAAAAAAAAAAAAAAAAAAAAAAAAAAAAAAAAAAAAAAAAAAAAAAAAAAAAAAAAAAAAAAAAAAAAAAAAAAAAAAAAAAAAAAAAAAAAAAAAAAAAAAAAAAAAAAAAAAAAAAAAAAAAAAAAAAAAAAAAAAAAAAAAAAAAAAAAAAAAAAAAAAAAAAAAAAAAAAAAAAAAAAAAAAAAAAAAAAAAAAAAAAAAAAAAAAAAAAAAAAAAAAAAAAAAAAAAAAAAAAAAAAAAAAAAAAAAAAAAAAAAAAAAAAAAAAAAAAAAAAAAAAAAAAAAAAAAAAAAAAAAAAAAAAAAAAAAAAAAAAAAAAAAAAAAAAAAAAAAAAAAAAAAAAAAAAAAAAAAAAAAAAAAAAAAAAAAAAAAAAAAAAAAAAAAAAAAAAAAAAAAAAAAAAAAAAAAAAAAAAAAAAAAAAAAAAAAAAAAAAAAAAAAAAAAAAAAAAAAAAAAAAAAAAAAAAAAAAAAAAAAAAAAAAAAAAAAAAAAAAAAAAAAAAAAAAAAAAAAAAAAAAAAAAAAAAAAAAAAAAAAAAAAAAAAAAAAAAAAAAAAAAAAAAAAAAAAAAAAAAAAAAAAAAAAAAAAAAAAAAAAAAAAAAAAAAAAAAAAAAAAAAAAAAAAAAAAAAAAAAAAAAAAAAAAAAAAAAAAAAAAAAAAAAAAAAAAAAAAAAAAAAAAAAAAAAAAAAAAAAAAAAAAAAAAAAAAAAAAAAAAAAAAAAAAAAAAAAAAAAAAAAAAAAAAAAAAAAAAAAAAAAAAAAAAAAAAAAAAAAAAAAAAAAAAAAAAAAAAAAAAAAAAAAAAAAAAAAAAAAAAAAAAAAAAAAAAAAAAAAAAAAAAAAAAAAAAAAAAAAAAAAAAAAAAAAAAAAAAAAAAAAAAAAAAAAAAAAAAAAAAAAAAAAAAAAAAAAAAAAAAAAAAAAAAAAAAAAAAAAAAAAAAAAAAAAAAAAAAAAAAAAAAAAAAAAAAAAAAAAAAAAAAAAAAAAAAAAAAAAAAAAAAAAAAAAAAAAAAAAAAAAAAAAAAAAAAAAAAAAAAAAAAAAAAAAAAAAAAAAAAAAAAAAAAAAAAAAAAAAAAAAAAAAAAAAAAAAAAAAAAAAAAAAAAAAAAAAAAAAAAAAAAAAAAAAAAAAAAAAAAAAAAAAAAAAAAAAAAAAAAAAAAAAAAAAAAAAAAAAAAAAAAAAAAAAAAAAAAAAAAAAAAAAAAAAAAAAAAAAAAAAAAAAAAAAAAAAAAAAAAAAAAAAAAAAAAAAAAAAAAAAAAAAAAAAAAAAAAAAAAAAAAAAAAAAAAAAAAAAAAAAAAAAAAAAAAAAAAAAAAAAAAAAAAAAAAAAAAAAAAAAAAAAAAAAAAAAAAAAAAAAAAAAAAAAAAAAAAAAAAAAAAAAAAAAAAAAAAAAAAAAAAAAAAAAAAAAAAAAAAAAAAAAAAAAAAAAAAAAAAAAAAAAAAAAAAAAAAAAAAAAAAAAAAAAAAAAAAAAAAAAAAAAAAAAAAAAAAAAAAAAAAAAAAAAAAAAAAAAAAAAAAAAAAAAAAAAAAAAAAAAAAAAAAAAAAAAAAAAAAAAAAAAAAAAAAAAAAAAAAAAAAAAAAAAAAAAAAAAAAAAAAAAAAAAAAAAAAAAAAAAAAAAAAAAAAAAAAAAAAAAAAAAAAAAAAAAAAAAAAAAAAAAAAAAAAAAAAAAAAAAAAAAAAAAAAAAAAAAAAAAAAAAAAAAAAAAAAAAAAAAAAAAAAAAAAAAAAAAAAAAAAAAAAAAAAAAAAAAAAAAAAAAAAAAAAAAAAAAAAAAAAAAAAAAAAAAAAAAAAAAAAAAAAAAAAAAAAAAAAAAAAAAAAAAAAAAAAAAAAAAAAAAAAAAAAAAAAAAAAAAAAAAAAAAAAAAAAAAAAAAAAAAAAAAAAAAAAAAAAAAAAAAAAAAAAAAAAAAAAAAAAAAAAAAAAAAAAAAAAAAAAAAAAAAAAAAAAAAAAAAAAAAAAAAAAAAAAAAAAAAAAAAAAAAAAAAAAAAAAAAAAAAAAAAAAAAAAAAAAAAAAAAAAAAAAAAAAAAAAAAAAAAAAAAAAAAAAAAAAAAAAAAAAAAAAAAAAAAAAAAAAAAAAAAAAAAAAAAAAAAAAAAAAAAAAAAAAAAAAAAAAAAAAAAAAAAAAAAAAAAAAAAAAAAAAAAAAAAAAAAAAAAAAAAAAAAAAAAAAAAAAAAAAAAAAAAAAAAAAAAAAAAAAAAAAAAAAAAAAAAAAAAAAAAAAAAAAAAAAAAAAAAAAAAAAAAAAAAAAAAAAAAAAAAAAAAAAAAAAAAAAAAAAAAAAAAAAAAAAAAAAAAAAAAAAAAAAAAAAAAAAAAAAAAAAAAAAAAAAAAAAAAAAAAAAAAAAAAAAAAAAAAAAAAAAAAAAAAAAAAAAAAAAAAAAAAAAAAAAAAAAAAAAAAAAAAAAAAAAAAAAAAAAAAAAAAAAAAAAAAAAAAAAAAAAAAAAAAAAAAAAAAAAAAAAAAAAAAAAAAAAAAAAAAAAAAAAAAAAAAAAAAAAAAAAAAAAAAAAAAAAAAAAAAAAAAAAAAAAAAAAAAAAAAAAAAAAAAAAAAAAAAAAAAAAAAAAAAAAAAAAAAAAAAAAAAAAAAAAAAAAAAAAAAAAAAAAAAAAAAAAAAAAAAAAAAAAAAAAAAAAAAAAAAAAAAAAAAAAAAAAAAAAAAAAAAAAAAAAAAAAAAAAAAAAAAAAAAAAAAAAAAAAAAAAAAAAAAAAAAAAAAAAAAAAAAAAAAAAAAAAAAAAAAAAAAAAAAAAAAAAAAAAAAAAAAAAAAAAAAAAAAAAAAAAAAAAAAAAAAAAAAAAAAAAAAAAAAAAAAAAAAAAAAAAAAAAAAAAAAAAAAAAAAAAAAAAAAAAAAAAAAAAAAAAAAAAAAAAAAAAAAAAAAAAAAAAAAAAAAAAAAAAAAAAAAAAAAAAAAAAAAAAAAAAAAAAAAAAAAAAAAAAAAAAAAAAAAAAAAAAAAAAAAAAAAAAAAAAAAAAAAAAAAAAAAAAAAAAAAAAAAAAAAAAAAAAAAAAAAAAAAAAAAAAAAAAAAAAAAAAAAAAAAAAAAAAAAAAAAAAAAAAAAAAAAAAAAAAAAAAAAAAAAAAAAAAAAAAAAAAAAAAAAAAAAAAAAAAAAAAAAAAAAAAAAAAAAAAAAAAAAAAAAAAAAAAAAAAAAAAAAAAAAAAAAAAAAAAAAAAAAAAAAAAAAAAAAAAAAAAAAAAAAAAAAAAAAAAAAAAAAAAAAAAAAAAAAAAAAAAAAAAAAAAAAAAAAAAAAAAAAAAAAAAAAAAAAAAAAAAAAAAAAAAAAAAAAAAAAAAAAAAAAAAAAAAAAAAAAAAAAAAAAAAAAAAAAAAAAAAAAAAAAAAAAAAAAAAAAAAAAAAAAAAAAAAAAAAAAAAAAAAAAAAAAAAAAAAAAAAAAAAAAAAAAAAAAAAAAAAAAAAAAAAAAAAAAAAAAAAAAAAAAAAAAAAAAAAAAAAAAAAAAAAAAAAAAAAAAAAAAAAAAAAAAAAAAAAAAAAAAAAAAAAAAAAAAAAAAAAAAAAAAAAAAAAAAAAAAAAAAAAAAAAAAAAAAAAAAAAAAAAAAAAAAAAAAAAAAAAAAAAAAAAAAAAAAAAAAAAAAAAAAAAAAAAAAAAAAAAAAAAAAAAAAAAAAAAAAAAAAAAAAAAAAAAAAAAAAAAAAAAAAAAAAAAAAAAAAAAAAAAAAAAAAAAAAAAAAAAAAAAAAAAAAAAAAAAAAAAAAAAAAAAAAAAAAAAAAAAAAAAAAAAAAAAAAAAAAAAAAAAAAAAAAAAAAAAAAAAAAAAAAAAAAAAAAAAAAAAAAAAAAAAAAAAAAAAAAAAAAAAAAMAAAAAAAAAAAAAAAAAAAAAAAAAAAAAAAAAAAAAAAAAAAAAAAAAAAAAAAAAAAAAAAAAAAAAAAAAAAAAAAAAAAAAAAAAAAAAAAAAAAAAAAAAAAAAAAAAAAAAAAAAAAAAAAAAAAAAAAAAAAAAAAAAAAAAAAAAAAAAAAAAAAAAAAAAAAAAAAAAAAAAAAAAAAAAAAAAAAAAAAAAAAAAAAAAAAAAAAAAAAAAAAAAAAAAAAAAAAAAAAAAAAAAAAAAAAAAAAAAAAAAAAAAAAAAAAAAAAAAAAAAAAAAAAAAAAAAAAAAAAAAAAAAAAAAAAAAAAAAAAAAAAAAAAAAAAAAAAAAAAAAAAAAAAAAAAAAAAAAAAAAAAAAAAAAAAAAAAAAAAAAAAAAAAAAAAAAAAAAAAAAAAAAAAAAAAAAAAAAAAAAAAAAAAAAAAAAAAAAAAAAAAAAAAAAAAAAAAAAAAAAAAAAAAAAAAAAAAAAAAAAAAAAAAAAAAAAAAAAAAAAAAAAAAAAAAAAAAAAAAAAAAAAAAAAAAAAAAAAAAAAAAAAAAAAAAAAAAAAAAAAAAAAAAAAAAAAAAAAAAAAAAAAAAAAAAAAAAAAAAAAAAAAAAAAAAAAAAAAAAAAAAAAAAAAAAAAAAAAAAAAAAAAAAAAAAAAAAAAAAAAAAAAAAAAAAAAAAAAAAAAAAAAAAAAAAAAAAAAAAAAAAAAAAAAAAAAAAAAAAAAAAAAAAAAAAAAAAAAAAAAAAAAAAAAAAAAAAAAAAAAAAAAAAAAAAAAAAAAAAAAAAAAAAAAAAAAAAAAAAAAAAAAAAAAAAAAAAAAAAAAAAAAAAAAAAAAAAAAAAAAAAAAAAAAAAAAAAAAAAAAAAAAAAAAAAAAAAAAAAAAAAAAAAAAAAAAAAAAAAAAAAAAAAAAAAAAAAAAAAAAAAAAAAAAAAAAAAAAAAAAAAAAAAAAAAAAAAAAAAAAAAAAAAAAAAAAAAAAAAAAAAAAAAAAAAAAAAAAAAAAAAAAAAAAAAAAAAAAAAAAAAAAAAAAAAAAAAAAAAAAAAAAAAAAAAAAAAAAAAAAAAAAAAAAAAAAAAAAAAAAAAAAAAAAAAAAAAAAAAAAAAAAAAAAAAAAAAAAAAAAAAAAAAAAAAAAAAAAAAAAAAAAAAAAAAAAAAAAAAAAAAAAAAAAAAAAAAAAAAAAAAAAAAAAAAAAAAAAAAAAAAAAAAAAAAAAAAAAAAAAAAAAAAAAAAAAAAAAAAAAAAAAAAAAAAAAAAAAAAAAAAAAAAAAAAAAAAAAAAAAAAAAAAAAAAAAAAAAAAAAAAAAAAAAAAAAAAAAAAAAAAAAAAAAAAAAAAAAAAAAAAAAAAAAAAAAAAAAAAAAAAAAAAAAAAAAAAAAAAAAAAAAAAAAAAAAAAAAAAAAAAAAAAAAAAAAAAAAAAAAAAAAAAAAAAAAAAAAAAAAAAAAAAAAAAAAAAAAAAAAAAAAAAAAAAAAAAAAAAAAAAAAAAAAAAAAAAAAAAAAAAAAAAAAAAAAAAAAAAAAAAAAAAAAAAAAAAAAAAAAAAAAAAAAAAAAAAAAAAAAAAAAAAAAAAAAAAAAAAAAAAAAAAAAAAAAAAAAAAAAAAAAAAAAAAAAAAAAAAAAAAAAAAAAAAAAAAAAAAAAAAAAAAAAAAAAAAAAAAAAAAAAAAAAAAAAAAAAAAAAAAAAAAAAAAAAAAAAAAAAAAAAAAAAAAAAAAAAAAAAAAAAAAAAAAAAAAAAAAAAAAAAAAAAAAAAAAAAAAAAAAAAAAAAAAAAAAAAAAAAAAAAAAAAAAAAAAAAAAAAAAAAAAAAAAAAAAAAAAAAAAAAAAAAAAAAAAAAAAAAAAAAAAAAAAAAAAAAAAAAAAAAAAAAAAAAAAAAAAAAAAAAAAAAAAAAAAAAAAAAAAAAAAAAAAAAAAAAAAAAAAAAAAAAAAAAAAAAAAAAAAAAAAAAAAAAAAAAAAAAAAAAAAAAAAAAAAAAAAAAAAAAAAAAAAAAAAAAAAAAAAAAAAAAAAAAAAAAAAAAAAAAAAAAAAAAAAAAAAAAAAAAAAAAAAAAAAAAAAAAAAAAAAAAAAAAAAAAAAAAAAAAAAAAAAAAAAAAAAAAAAAAAAAAAAAAAAAAAAAAAAAAAAAAAAAAAAAAAAAAAAAAAAAAAAAAAAAAAAAAAAAAAAAAAAAAAAAAAAAAAAAAAAAAAAAAAAAAAAAAAAAAAAAAAAAAAAAAAAAAAAAAAAAAAAAAAAAAAAAAAAAAAAAAAAAAAAAAAAAAAAAAAAAAAAAAAAAAAAAAAAAAAAAAAAAAAAAAAAAAAAAAAAAAAAAAAAAAAAAAAAAAAAAAAAAAAAAAAAAAAAAAAAAAAAAAAAAAAAAAAAAAAAAAAAAAAAAAAAAAAAAAAAAAAAAAAAAAAAAAAAAAAAAAAAAAAAAAAAAAAAAAAAAAAAAAAAAAAAAAAAAAAAAAAAAAAAAAAAAAAAAAAAAAAAAAAAAAAAAAAAAAAAAAAAAAAAAAAAAAAAAAAAAAAAAAAAAAAAAAAAAAAAAAAAAAAAAAAAAAAAAAAAAAAAAAAAAAAAAAAAAAAAAAAAAAAAAAAAAAAAAAAAAAAAAAAAAAAAAAAAAAAAAAAAAAAAAAAAAAAAAAAAAAAAAAAAAAAAAAAAAAAAAAAAAAAAAAAAAAAAAAAAAAAAAAAAAAAAAAAAAAAAAAAAAAAAAAAAAAAAAAAAAAAAAAAAAAAAAAAAAAAAAAAAAAAAAAAAAAAAAAAAAAAAAAAAAAAAAAAAAAAAAAAAAAAAAAAAAAAAAAAAAAAAAAAAAAAAAAAAAAAAAAAAAAAAAAAAAAAAAAAAAAAAAAAAAAAAAAAAAAAAAAAAAAAAAAAAAAAAAAAAAAAAAAAAAAAAAAAAAAAAAAAAAAAAAAAAAAAAAAAAAAAAAAAAAAAAAAAAAAAAAAAAAAAAAAAAAAAAAAAAAAAAAAAAAAAAAAAAAAAAAAAAAAAAAAAAAAAAAAAAAAAAAAAAAAAAAAAAAAAAAAAAAAAAAAAAAAAAAAAAAAAAAAAAAAAAAAAAAAAAAAAAAAAAAAAAAAAAAAAAAAAAAAAAAAAAAAAAAAAAAAAAAAAAAAAAAAAAAAAAAAAAAAAAAAAAAAAAAAAAAAAAAAAAAAAAAAAAAAAAAAAAAAAAAAAAAAAAAAAAAAAAAAAAAAAAAAAAAAAAAAAAAAAAAAAAAAAAAAAAAAAAAAAAAAAAAAAAAAAAAAAAAAAAAAAAAAAAAAAAAAAAAAAAAAAAADAAAAAAAAAAAAAAAAAAAAAAAAAAAAAAAAAAAAAAAAAAAAAAAAAAAAAAAAAAAAAAAAAAAAAAAAAAAAAAAAAAAAAAAAAAAAAAAAAAAAAAAAAAAAAAAAAAAAAAAAAAAAAAAAAAAAAAAAAAAAAAAAAAAAAAAAAAAAAAAAAAAAAAAAAAAAAAAAAAAAAAAAAAAAAAAAAAAAAAAAAAAAAAAAAAAAAAAAAAAAAAAAAAAAAAAAAAAAAAAAAAAAAAAAAAAAAAAAAAAAAAAAAAAAAAAAAAAAAAAAAAAAAAAAAAAAAAAAAAAAAAAAAAAAAAAAAAAAAAAAAAAAAAAAAAAAAAAAAAAAAAAAAAAAAAAAAAAAAAAAAAAAAAAAAAAAAAAAAAAAAAAAAAAAAAAAAAAAAAAAAAAAAAAAAAAAAAAAAAAAAAAAAAAAAAAAAAAAAAAAAAAAAAAAAAAAAAAAAAAAAAAAAAAAAAAAAAAAAAAAAAAAAAAAAAAAAAAAAAAAAAAAAAAAAAAAAAAAAAAAAAAAAAAAAAAAAAAAAAAAAAAAAAAAAAAAAAAAAAAAAAAAAAAAAAAAAAAAAAAAAAAAAAAAAAAAAAAAAAAAAAAAAAAAAAAAAAAAAAAAAAAAAAAAAAAAAAAAAAAAAAAAAAAAAAAAAAAAAAAAAAAAAAAAAAAAAAAAAAAAAAAAAAAAAAAAAAAAAAAAAAAAAAAAAAAAAAAAAAAAAAAAAAAAAAAAAAAAAAAAAAAAAAAAAAAAAAAAAAAAAAAAAAAAAAAAAAAAAAAAAAAAAAAAAAAAAAAAAAAAAAAAAAAAAAAAAAAAAAAAAAAAAAAAAAAAAAAAAAAAAAAAAAAAAAAAAAAAAAAAAAAAAAAAAAAAAAAAAAAAAAAAAAAAAAAAAAAAAAAAAAAAAAAAAAAAAAAAAAAAAAAAAAAAAAAAAAAAAAAAAAAAAAAAAAAAAAAAAAAAAAAAAAAAAAAAAAAAAAAAAAAAAAAAAAAAAAAAAAAAAAAAAAAAAAAAAAAAAAAAAAAAAAAAAAAAAAAAAAAAAAAAAAAAAAAAAAAAAAAAAAAAAAAAAAAAAAAAAAAAAAAAAAAAAAAAAAAAAAAAAAAAAAAAAAAAAAAAAAAAAAAAAAAAAAAAAAAAAAAAAAAAAAAAAAAAAAAAAAAAAAAAAAAAAAAAAAAAAAAAAAAAAAAAAAAAAAAAAAAAAAAAAAAAAAAAAAAAAAAAAAAAAAAAAAAAAAAAAAAAAAAAAAAAAAAAAAAAAAAAAAAAAAAAAAAAAAAAAAAAAAAAAAAAAAAAAAAAAAAAAAAAAAAAAAAAAAAAAAAAAAAAAAAAAAAAAAAAAAAAAAAAAAAAAAAAAAAAAAAAAAAAAAAAAAAAAAAAAAAAAAAAAAAAAAAAAAAAAAAAAAAAAAAAAAAAAAAAAAAAAAAAAAAAAAAAAAAAAAAAAAAAAAAAAAAAAAAAAAAAAAAAAAAAAAAAAAAAAAAAAAAAAAAAAAAAAAAAAAAAAAAAAAAAAAAAAAAAAAAAAAAAAAAAAAAAAAAAAAAAAAAAAAAAAAAAAAAAAAAAAAAAAAAAAAAAAAAAAAAAAAAAAAAAAAAAAAAAAAAAAAAAAAAAAAAAAAAAAAAAAAAAAAAAAAAAAAAAAAAAAAAAAAAAAAAAAAAAAAAAAAAAAAAAAAAAAAAAAAAAAAAAAAAAAAAAAAAAAAAAAAAAAAAAAAAAAAAAAAAAAAAAAAAAAAAAAAAAAAAAAAAAAAAAAAAAAAAAAAAAAAAAAAAAAAAAAAAAAAAAAAAAAAAAAAAAAAAAAAAAAAAAAAAAAAAAAAAAAAAAAAAAAAAAAAAAAAAAAAAAAAAAAAAAAAAAAAAAAAAAAAAAAAAAAAAAAAAAAAAAAAAAAAAAAAAAAAAAAAAAAAAAAAAAAAAAAAAAAAAAAAAAAAAAAAAAAAAAAAAAAAAAAAAAAAAAAAAAAAAAAAAAAAAAAAAAAAAAAAAAAAAAAAAAAAAAAAAAAAAAAAAAAAAAAAAAAAAAAAAAAAAAAAAAAAAAAAAAAAAAAAAAAAAAAAAAAAAAAAAAAAAAAAAAAAAAAAAAAAAAAAAAAAAAAAAAAAAAAAAAAAAAAAAAAAAAAAAAAAAAAAAAAAAAAAAAAAAAAAAAAAAAAAAAAAAAAAAAAAAAAAAAAAAAAAAAAAAAAAAAAAAAAAAAAAAAAAAAAAAAAAAAAAAAAAAAAAAAAAAAAAAAAAAAAAAAAAAAAAAAAAAAAAAAAAAAAAAAAAAAAAAAAAAAAAAAAAAAAAAAAAAAAAAAAAAAAAAAAAAAAAAAAAAAAAAAAAAAAAAAAAAAAAAAAAAAAAAAAAAAAAAAAAAAAAAAAAAAAAAAAAAAAAAAAAAAAAAAAAAAAAAAAAAAAAAAAAAAAAAAAAAAAAAAAAAAAAAAAAAAAAAAAAAAAAAAAAAAAAAAAAAAAAAAAAAAAAAAAAAAAAAAAAAAAAAAAAAAAAAAAAAAAAAAAAAAAAAAAAAAAAAAAAAAAAAAAAAAAAAAAAAAAAAAAAAAAAAAAAAAAAAAAAAAAAAAAAAAAAAAAAAAAAAAAAAAAAAAAAAAAAAAAAAAAAAAAAAAAAAAAAAAAAAAAAAAAAAAAAAAAAAAAAAAAAAAAAAAAAAAAAAAAAAAAAAAAAAAAAAAAAAAAAAAAAAAAAAAAAAAAAAAAAAAAAAAAAAAAAAAAAAAAAAAAAAAAAAAAAAAAAAAAAAAAAAAAAAAAAAAAAAAAAAAAAAAAAAAAAAAAAAAAAAAAAAAAAAAAAAAAAAAAAAAAAAAAAAAAAAAAAAAAAAAAAAAAAAAAAAAAAAAAAAAAAAAAAAAAAAAAAAAAAAAAAAAAAAAAAAAAAAAAAAAAAAAAAAAAAAAAAAAAAAAAAAAAAAAAAAAAAAAAAAAAAAAAAAAAAAAAAAAAAAAAAAAAAAAAAAAAAAAAAAAAAAAAAAAAAAAAAAAAAAAAAAAAAAAAAAAAAAAAAAAAAAAAAAAAAAAAAAAAAAAAAAAAAAAAAAAAAAAAAAAAAAAAAAAAAAAAAAAAAAAAAAAAAAAAAAAAAAAAAAAAAAAAAAAAAAAAAAAAAAAAAAAAAAAAAAAAAAAAAAAAAAAAAAAAAAAAAAAAAAAAAAAAAAAAAAAAAAAAAAAAAAAAAAAAAAAAAAAAAAAAAAAAAAAAAAAAAAAAAAAAAAAAAAAAAAAAAAAAAAAAAAAAAAAAAAAAAAAAAAAAAAAAAAAAAAAAAAAAAAAAAAAAAAAAAAAAAAAAAAAAAAAAAAAAAAAAAAAAAAAAAAAAAAAAAAAAAAAAAAAAAAAAAAAAAAAAAAAAAAAAAAAAAAAAAAAAAAAAAAAAAAAAAAAAAAAAAAAAAAAAAAAAAAAAAAAAAAAAAAAAAAAAAAAAAAAAAAAAAAAAAAAAAAAAAAAAAAAAAAAAAAAAAAAAAAAAAAAAAAAAAAAAAAAAAAAAAAAAAAAAAAAAAAAAAAAAAAAAAAAAAAAAAAAAAAAAAAAAAAAAAAAAAAAAAAAAAAAAAAAAAAAAAAAAAAAAAAAAAAAAAAAAAAAAAAAAAAAAAAAAAAAAAAAAAAAAAAAAAAAAAAAAAAAAAAAAAAAAAAAAAAAAAAAAAAAAAAAAAAAAAAAAAAAAAAAAAAAAAAAAAAAAAAAAAAAAAAAAAAAAAAAAAAAAAAAAAAAAAAAAAAAAAAAAAAAAAAAAAAAAAAAAAAAAAAAAAAAAAAAAAAAAAAAAAAAAAAAAAAAAAAAAAAAAAAAAAAAAAAAAAAAAAAAAAAAAAAAAAAAAAAAAAAAAAAAAAAAAAAAAAAAAAAAAAAAAAAAAAAAAAAAAAAAAAAAAAAAAAAAAAAAAAAAAAAAAAAAAAAAAAAAAAAAAAAAAAAAAAAAAAAAAAAAAAAAAAAAAAAAAAAAAAAAAAAAAAAAAAAAAAAAAAAAAAAAAAAAAAAAAAAAAAAAAAAAAAAAAAAAAAAAAAAAAAAAAAAAAAAAAAAAAAAAAAAAAAAAAAAAAAAAAAAAAAAAAAAAAAAAAAAAAAAAAAAAAAAAAAAAAAAAAAAAAAAAAAAAAAAAAAAAAAAAAAAAAAAAAAAAAAAAAAAAAAAAAAAAAAAAAAAAAAAAAAAAAAAAAAAAAAAAAAAAAAAAAAAAAAAAAAAAAAAAAAAAAAAAAAAAAAAAAAAAAAAAAAAAAAAAAAAAAAAAAAAAAAAAAAAAAAAAAAAAAAAAAAAAAAAAAAAAAAAAAAAAAAAAAAAAAAAAAAAAAAAAAAAAAAAAAAAAAAAAAAAAAAAAAAAAAAAAAAAAAAAAAAAAAAAAAAAAAAAAAAAAAAAAAAAAAAAAAAAAAAAAAAAAAAAAAAAAAAAAAAAAAAAAAAAAAAAAAAAAAAAAAAAAAAAAAAAAAAAAAAAAAAAAAAAAAAAAAAAAAAAAAAAAAAAAAAAAAAAAAAAAAAAAAAAAAAAAAAAAAAAAAAAAAAAAAAAAAAAAAAAAAAAAAAAAAAAAAAAAAAAAAAAAAAAAAAAAAAAAAAAAAAAAAAAAAAAAAAAAAAAAAAAAAAAAAAAAAAAAAAAAAAAAAAAAAAAAAAAAAAAAAAAAAAAAAAAAAAAAAAAAAAAAAAAAAAAAAAAAAAAAAAAAAAAAAAAAAAAAAAAAAAAAAAAAAAAAAAAAAAAAAAAAAAAAAAAAAAAAAAAAAAAAAAAAAAAAAAAAAAAAAAAAAAAAAAAAAAAAAAAAAAAAAAAAAAAAAAAAAAAAAAAAAAAAAAAAAAAAAAAAAAAAAAAAAAAAAAAAAAAAAAAAAAAAAAAAAAAAAAAAAAAAAAAAAAAAAAAAAAAAAAAAAAAAAAAAAAAAAAAAAAAAAAAAAAAAAAAAAAAAAAAAAAAAAAAAAAAAAAAAAAAAAAAAAAAAAAAAAAAAAAAAAAAAAAAAAAAAAAAAAAAAAAAAAAAAAAAAAAAAAAAAAAAAAAAAAAAAAAAAAAAAAAAAAAAAAAAAAAAAAAAAAAAAAAAAAAAAAAAAAAAAAAAAAAAAAAAAAAAAAAAAAAAAAAAAAAAAAAAAAAAAAAAAAAAAAAAAAAAAAAAAAAAAAAAAAAAAAAAAAAAAAAAAAAAAAAAAAAAAAAAAAAAAAAAAAAAAAAAAAAAAAAAAAAAAAAAAAAAAAAAAAAAAAAAAAAAAAAAAAAAAAAAAAAAAAAAAAAAAAAAAAAAAAAAAAAAAAAAAAAAAAAAAAAAAAAAAAAAAAAAAAAAAAAAAAAAAAAAAAAAAAAAAAAAAAAAAAAAAAAAAAAAAAAAAAAAAAAAAAAAAAAAAAAAAAAAAAAAAAAAAAAAAAAAAAAAAAAAAAAAAAAAAAAAAAAAAAAAAAAAAAAAAAAAAAAAAAAAAAAAAAAAAAAAAAAAAAAAAAAAAAAAAAAAAAAAAAAAAAAAAAAAAAAAAAAAAAAAAAAAAAAAAAAAAAAAAAAAAAAAAAAAAAAAAAAAAAAAAAAAAAAAAAAAAAAAAAAAAAAAAAAAAAAAAAAAAAAAAAAAAAAAAAAAAAAAAAAAAAAAAAAAAAAAAAAAAAAAAAAAAAAAAAAAAAAAAAAAAAAAAAAAAAAAAAAAAAAAAAAAAAAAAAAAAAAAAAAAAAAAAAAAAAAAAAAAAAAAAAAAAAAAAAAAAAAAAAAAAAAAAAAAAAAAAAAAAAAAAAAAAAAAAAAAAAAAAAAAAAAAAAAAAAAAAAAAAAAAAAAAAAAAAAAAAAAAAAAAAAAAAAAAAAAAAAAAAAAAAAAAAAAAAAAAAAAAAAAAAAAAAAAAAAAAAAAAAAAAAAAAAAAAAAAAAAAAAAAAAAAAAAAAAAAAAAAAAAAAAAAAAAAAAAAAAAAAAAAAAAAAAAAAAAAAAAAAAAAAAAAAAAAAAAAAAAAAAAAAAAAAAAAAAAAAAAAAAAAAAAAAAAAAAAAAAAAAAAAAAAAAAAAAAAAAAAAAAAAAAAAAAAAAAAAAAAAAAAAAAAAAAAAAAAAAAAAAAAAAAAAAAAAAAAAAAAAAAAAAAAAAAAAAAAAAAAAAAAAAAAAAAAAAAAAAAAAAAAAAAAAAAAAAAAAAAAAAAAAAAAAAAAAAAAAAAAAAAAAAAAAAAAAAAAAAAAAAAAAAAAAAAAAAAAAAAAAAAAAAAAAAAAAAAAAAAAAAAAAAAAAAAAAAAAAAAAAAAAAAAAAAAAAAAAAAAAAAAAAAAAAAAAAAAAAAAAAAAAAAAAAAAAAAAAAAAAAAAAAAAAAAAAAAAAAAAAAAAAAAAAAAAAAAAAAAAAAAAAAAAAAAAAAAAAAAAAAAAAAAAAAAAAAAAAAAAAAAAAAAAAAAAAAAAAAAAAAAAAAAAAAAAAAAAAAAAAAAAAAAAAAAAAAAAAAAAAAAAAAAAAAAAAAAAAAAAAAAAAAAAAAAAAAAAAAAAAAAAAAAAAAAAAAAAAAAAAAAAAAAAAAAAAAAAAAAAAAAAAAAAAAAAAAAAAAAAAAAAAAAAAAAAAAAAAAAAAAAAAAAAAAAAAAAAAAAAAAAAAAAAAAAAAAAAAAAAAAAAAAAAAAAAAAAAAAAAAAAAAAAAAAAAAAAAAAAAAAAAAAAAAAAAAAAAAAAAAAAAAAAAAAAAAAAAAAAAAAAAAAAAAAAAAAAAAAAAAAAAAAAAAAAAAAAAAAAAAAAAAAAAAAAAAAAAAAAAAAAAAAAAAAAAAAAAAAAAAAAAAAAAAAAAAAAAAAAAAAAAAAAAAAAAAAAAAAAAAAAAAAAAAAAAAAAAAAAAAAAAAAAAAAAAAAAAAAAAAAAAAAAAAAAAAAAAAAAAAAAAAAAAAAAAAAAAAAAAAAAAAAAAAAAAAAAAAAAAAAAAAAAAAAAAAAAAAAAAAAAAAAAAAAAAAAAAAAAAAAAAAAAAAAAAAAAAAAAAAAAAAAAAAAAAAAAAAAAAAAAAAAAAAAAAAAAAAAAAAAAAAAAAAAAAAAAAAAAAAAAAAAAAAAAAAAAAAAAAAAAAAAAAAAAAAAAAAAAAAAAAAAAAAAAAAAAAAAAAAAAAAAAAAAAAAAAAAAAAAAAAAAAAAAAAAAAAAAAAAAAAAAAAAAAAAAAAAAAAAAAAAAAAAAAAAAAAAAAAAAAAAAAAAAAAAAAAAAAAAAAAAAAAAAAAAAAAAAAAAAAAAAAAAAAAAAAAAAAAAAAAAAAAAAAAAAAAAAAAAAAAAAAAAAAAAAAAAAAAAAAAAAAAAAAAAAAAAAAAAAAAAAAAAAAAAAAAAAAAAAAAAAAAAAAAAAAAAAAAAAAAAAAAAAAAAAAAAAAAAAAAAAAAAAAAAAAAAAAAAAAAAAAAAAAAAAAAAAAAAAAAAAAAAAAAAAAAAAAAAAAAAAAAAAAAAAAAAAAAAAAAAAAAAAAAAAAAAAAAAAAAAAAAAAAAAAAAAAAAAAAAAAAAAAAAAAAAAAAAAAAAAAAAAAAAAAAAAAAAAAAAAAAAAAAAAAAAAAAAAAAAAAAAAAAAAAAAAAAAAAAAAAAAAAAAAAAAAAAAAAAAAAAAAAAAAAAAAAAAAAAAAAAAAAAAAAAAAAAAAAAAAAAAAAAAAAAAAAAAAAAAAAAAAAAAAAAAAAAAAAAAAAAAAAAAAAAAAAAAAAAAAAAAAAAAAAAAAAAAAAAAAAAAAAAAAAAAAAAAAAAAAAAAAAAAAAAAAAAAAAAAAAAAAAAAAAAAAAAAAAAAAAAAAAAAAAAAAAAAAAAAAAAAAAAAAAAAAAAAAAAAAAAAAAAAAAAAAAAAAAAAAAAAAAAAAAAAAAAAAAAAAAAAAAAAAAAAAAAAAAAAAAAAAAAAAAAAAAAAAAAAAAAAAAAAAAAAAAAAAAAAAAAAAAAAAAAAAAAAAAAAAAAAAAAAAAAAAAAAAAAAAAAAAAAAAAAAAAAAAAAAAAAAAAAAAAAAAAAAAAAAAAAAAAAAAAAAAAAAAAAAAAAAAAAAAAAAAAAAAAAAAAAAAAAAAAAAAAAAAAAAAAAAAAAAAAAAAAAAAAAAAAAAAAAAAAAAAAAAAAAAAAAAAAAAAAAAAAAAAAAAAAAAAAAAAAAAAAAAAAAAAAAAAAAAAAAAAAAAAAAAAAAAAAAAAAAAAAAAAAAAAAAAAAAAAAAAAAAAAAAAAAAAAAAAAAAAAAAAAAAAAAAAAAAAAAAAAAAAAAAAAAAAAAAAAAAAAAAAAAAAAAAAAAAAAAAAAAAAAAAAAAAAAAAAAAAAAAAAAAAAAAAAAAAAAAAAAAAAAAAAAAAAAAAAAAAAAAAAAAAAAAAAAAAAAAAAAAAAAAAAAAAAAAAAAAAAAAAAAAAAAAAAAAAAAAAAAAAAAAAAAAAAAAAAAAAAAAAAAAAAAAAAAAAAAAAAAAAAAAAAAAAAAAAAAAAAAAAAAAAAAAAAAAAAAAAAAAAAAAAAAAAAAAAAAAAAAAAAAAAAAAAAAAAAAAAAAAAAAAAAAAAAAAAAAAAAAAAAAAAAAAAAAAAAAAAAAAAAAAAAAAAAAAAAAAAAAAAAAAAAAAAAAAAAAAAAAAAAAAAAAAAAAAAAAAAAAAAAAAAAAAAAAAAAAAAAAAAAAAAAAAAAAAAAAAAAAAAAAAAAAAAAAAAAAAAAAAAAAAAAAAAAAAAAAAAAAAAAAAAAAAAAAAAAAAAAAAAAAAAAAAAAAAAAAAAAAAAAAAAAAAAAAAAAAAAAAAAAAAAAAAAAAAAAAAAAAAAAAAAAAAAAAAAAAAAAAAAAAAAAAAAAAAAAAAAAAAAAAAAAAAAAAAAAAAAAAAAAAAAAAAAAAAAAAAAAAAAAAAAAAAAAAAAAAAAAAAAAAAAAAAAAAAAAAAAAAAAAAAAAAAAAAAAAAAAAAAAAAAAAAAAAAAAAAAAAAAAAAAAAAAAAAAAAAAAAAAAAAAAAAAAAAAAAAAAAAAAAAAAAAAAAAAAAAAAAAAAAAAAAAAAAAAAAAAAAAAAAAAAAAAAAAAAAAAAAAAAAAAAAAAAAAAAAAAAAAAAAAAAAAAAAAAAAAAAAAAAAAAAAAAAAAAAAAAAAAAAAAAAAAAAAAAAAAAAAAAAAAAAAAAAAAAAAAAAAAAAAAAAAAAAAAAAAAAAAAAAAAAAAAAAAAAAAAAAAAAAAAAAAAAAAAAAAAAAAAAAAAAAAAAAAAAAAAAAAAAAAAAAAAAAAAAAAAAAAAAAAAAAAAAAAAAAAAAAAAAAAAAAAAAAAAAAAAAAAAAAAAAAAAAAAAAAAAAAAAAAAAAAAAAAAAAAAAAAAAAAAAAAAAAAAAAAAAAAAAAAAAAAAAAAAAAAAAAAAAAAAAAAAAAAAAAAAAAAAAAAAAAAAAAAAAAAAAAAAAAAAAAAAAAAAAAAAAAAAAAAAAAAAAAAAAAAAAAAAAAAAAAAAAAAAAAAAAAAAAAAAAAAAAAAAAAAAAAAAAAAAAAAAAAAAAAAAAAAAAAAAAAAAAAAAAAAAAAAAAAAAAAAAAAAAAAAAAAAAAAAAAAAAAAAAAAAAAAAAAAAAAAAAAAAAAAAAAAAAAAAAAAAAAAAAAAAAAAAAAAAAAAAAAAAAAAAAAAAAAAAAAAAAAAAAAAAAAAAAAAAAAAAAAAAAAAAAAAAAAAAAAAAAAAAAAAAAAAAAAAAAAAAAAAAAAAAAAAAAAAAAAAAAAAAAAAAAAAAAAAAAAAAAAAAAAAAAAAAAAAAAAAAAAAAAAAAAAAAAAAAAAAAAAAAAAAAAAAAAAAAAAAAAAAAAAAAAAAAAAAAAAAAAAAAAAAAAAAAAAAAAAAAAAAAAAAAAAAAAAAAAAAAAAAAAAAAAAAAAAAAAAAAAAAAAAAAAAAAAAAAAAAAAAAAAAAAAAAAAAAAAAAAAAAAAAAAAAAAAAAAAAAAAAAAAAAAAAAAAAAAAAAAAAAAAAAAAAAAAAAAAAAAAAAAAAAAAAAAAAAAAAAAAAAAAAAAAAAAAAAAAAAAAAAAAAAAAAAAAAAAAAAAAAAAAAAAAAAAAAAAAAAAAAAAAAAAAAAAAAAAAAAAAAAAAAAAAAAAAAAAAAAAAAAAAAAAAAAAAAAAAAAAAAAAAAAAAAAAAAAAAAAAAAAAAAAAAAAAAAAAAAAAAAAAAAAAAAAAAAAAAAAAAAAAAAAAAAAAAAAAAAAAAAAAAAAAAAAAAAAAAAAAAAAAAAAAAAAAAAAAAAAAAAAAAAAAAAAAAAAAAAAAAAAAAAAAAAAAAAAAAAAAAAAAAAAAAAAAAAAAAAAAAAAAAAAAAAAAAAAAAAAAAAAAAAAAAAAAAAAAAAAAAAAAAAAAAAAAAAAAAAAAAAAAAAAAAAAAAAAAAAAAAAAAAAAAAAAAAAAAAAAAAAAAAAAAAAAAAAAAAAAAAAAAAAAAAAAAAAAAAAAAAAAAAAAAAAAAAAAAAAAAAAAAAAAAAAAAAAAAAAAAAAAAAAAAAAAAAAAAAAAAAAAAAAAAAAAAAAAAAAAAAAAAAAAAAAAAAAAAAAAAAAAAAAAAAAAAAAAAAAAAAAAAAAAAAAAAAAAAAAAAAAAAAAAAAAAAAAAAAAAAAAAAAAAAAAAAAAAAAAAAAAAAAAAAAAAAAAAAAAAAAAAAAAAAAAAAAAAAAAAAAAAAAAAAAAAAAAAAAAAAAAAAAAAAAAAAAAAAAAAAAAAAAAAAAAAAAAAAAAAAAAAAAAAAAAAAAAAAAAAAAAAAAAAAAAAAAAAAAAAAAAAAAAAAAAAAAAAAAAAAAAAAAAAAAAAAAAAAAAAAAAAAAAAAAAAAAAAAAAAAAAAAAAAAAAAAAAAAAAAAAAAAAAAAAAAAAAAAAAAAAAAAAAAAAAAAAAAAAAAAAAAAAAAAAAAAAAAAAAAAAAAAAAAAAAAAAAAAAAAAAAAAAAAAAAAAAAAAAAAAAAAAAAAAAAAAAAAAAAAAAAAAAAAAAAAAAAAAAAAAAAAAAAAAAAAAAAAAAAAAAAAAAAAAAAAAAAAAAAAAAAAAAAAAAAAAAAAAAAwAAAAAAAAAAAAAAAAAAAAAAAAAAAAAAAAAAAAAAAAAAAAAAAAAAAAAAAAAAAAAAAAAAAAAAAAAAAAAAAAAAAAAAAAAAAAAAAAAAAAAAAAAAAAAAAAAAAAAAAAAAAAAAAAAAAAAAAAAAAAAAAAAAAAAAAAAAAAAAAAAAAAAAAAAAAAAAAAAAAAAAAAAAAAAAAAAAAAAAAAAAAAAAAAAAAAAAAAAAAAAAAAAAAAAAAAAAAAAAAAAAAAAAAAAAAAAAAAAAAAAAAAAAAAAAAAAAAAAAAAAAAAAAAAAAAAAAAAAAAAAAAAAAAAAAAAAAAAAAAAAAAAAAAAAAAAAAAAAAAAAAAAAAAAAAAAAAAAAAAAAAAAAAAAAAAAAAAAAAAAAAAAAAAAAAAAAAAAAAAAAAAAAAAAAAAAAAAAAAAAAAAAAAAAAAAAAAAAAAAAAAAAAAAAAAAAAAAAAAAAAAAAAAAAAAAAAAAAAAAAAAAAAAAAAAAAAAAAAAAAAAAAAAAAAAAAAAAAAAAAAAAAAAAAAAAAAAAAAAAAAAAAAAAAAAAAAAAAAAAAAAAAAAAAAAAAAAAAAAAAAAAAAAAAAAAAAAAAAAAAAAAAAAAAAAAAAAAAAAAAAAAAAAAAAAAAAAAAAAAAAAAAAAAAAAAAAAAAAAAAAAAAAAAAAAAAAAAAAAAAAAAAAAAAAAAAAAAAAAAAAAAAAAAAAAAAAAAAAAAAAAAAAAAAAAAAAAAAAAAAAAAAAAAAAAAAAAAAAAAAAAAAAAAAAAAAAAAAAAAAAAAAAAAAAAAAAAAAAAAAAAAAAAAAAAAAAAAAAAAAAAAAAAAAAAAAAAAAAAAAAAAAAAAAAAAAAAAAAAAAAAAAAAAAAAAAAAAAAAAAAAAAAAAAAAAAAAAAAAAAAAAAAAAAAAAAAAAAAAAAAAAAAAAAAAAAAAAAAAAAAAAAAAAAAAAAAAAAAAAAAAAAAAAAAAAAAAAAAAAAAAAAAAAAAAAAAAAAAAAAAAAAAAAAAAAAAAAAAAAAAAAAAAAAAAAAAAAAAAAAAAAAAAAAAAAAAAAAAAAAAAAAAAAAAAAAAAAAAAAAAAAAAAAAAAAAAAAAAAAAAAAAAAAAAAAAAAAAAAAAAAAAAAAAAAAAAAAAAAAAAAAAAAAAAAAAAAAAAAAAAAAAAAAAAAAAAAAAAAAAAAAAAAAAAAAAAAAAAAAAAAAAAAAAAAAAAAAAAAAAAAAAAAAAAAAAAAAAAAAAAAAAAAAAAAAAAAAAAAAAAAAAAAAAAAAAAAAAAAAAAAAAAAAAAAAAAAAAAAAAAAAAAAAAAAAAAAAAAAAAAAAAAAAAAAAAAAAAAAAAAAAAAAAAAAAAAAAAAAAAAAAAAAAAAAAAAAAAAAAAAAAAAAAAAAAAAAAAAAAAAAAAAAAAAAAAAAAAAAAAAAAAAAAAAAAAAAAAAAAAAAAAAAAAAAAAAAAAAAAAAAAAAAAAAAAAAAAAAAAAAAAAAAAAAAAAAAAAAAAAAAAAAAAAAAAAAAAAAAAAAAAAAAAAAAAAAAAAAAAAAAAAAAAAAAAAAAAAAAAAAAAAAAAAAAAAAAAAAAAAAAAAAAAAAAAAAAAAAAAAAAAAAAAAAAAAAAAAAAAAAAAAAAAAAAAAAAAAAAAAAAAAAAAAAAAAAAAAAAAAAAAAAAAAAAAAAAAAAAAAAAAAAAAAAAAAAAAAAAAAAAAAAAAAAAAAAAAAAAAAAAAAAAAAAAAAAAAAAAAAAAAAAAAAAAAAAAAAAAAAAAAAAAAAAAAAAAAAAAAAAAAAAAAAAAAAAAAAAAAAAAAAAAAAAAAAAAAAAAAAAAAAAAAAAAAAAAAAAAAAAAAAAAAAAAAAAAAAAAAAAAAAAAAAAAAAAAAAAAAAAAAAAAAAAAAAAAAAAAAAAAAAAAAAAAAAAAAAAAAAAAAAAAAAAAAAAAAAAAAAAAAAAAAAAAAAAAAAAAAAAAAAAAAAAAAAAAAAAAAAAAAAAAAAAAAAAAAAAAAAAAAAAAAAAAAAAAAAAAAAAAAAAAAAAAAAAAAAAAAAAAAAAAAAAAAAAAAAAAAAAAAAAAAAAAAAAAAAAAAAAAAAAAAAAAAAAAAAAAAAAAAAAAAAAAAAAAAAAAAAAAAAAAAAAAAAAAAAAAAAAAAAAAAAAAAAAAAAAAAAAAAAAAAAAAAAAAAAAAAAAAAAAAAAAAAAAAAAAAAAAAAAAAAAAAAAAAAAAAAAAAAAAAAAAAAAAAAAAAAAAAAAAAAAAAAAAAAAAAAAAAAAAAAAAAAAAAAAAAAAAAAAAAAAAAAAAAAAAAAAAAAAAAAAAAAAAAAAAAAAAAAAAAAAAAAAAAAAAAAAAAAAAAAAAAAAAAAAAAAAAAAAAAAAAAAAAAAAAAAAAAAAAAAAAAAAAAAAAAAAAAAAAAAAAAAAAAAAAAAAAAAAAAAAAAAAAAAAAAAAAAAAAAAAAAAAAAAAAAAAAAAAAAAAAAAAAAAAAAAAAAAAAAAAAAAAAAAAAAAAAAAAAAAAAAAAAAAAAAAAAAAAAAAAAAAAAAAAAAAAAAAAAAAAAAAAAAAAAAAAAAAAAAAAAAAAAAAAAAAAAAAAAAAAAAAAAAAAAAAAAAAAAAAAAAAAAAAAAAAAAAAAAAAAAAAAAAAAAAAAAAAAAAAAAAAAAAAAAAAAAAAAAAAAAAAAAAAAAAAAAAAAAAAAAAAAAAAAAAAAAAAAAAAAAAAAAAAAAAAAAAAAAAAAAAAAAAAAAAAAAAAAAAAAAAAAAAAAAAAAAAAAAAAAAAAAAAAAAAAAAAAAAAAAAAAAAAAAAAAAAAAAAAAAAAAAAAAAAAAAAAAAAAAAAAAAAAAAAAAAAAAAAAAAAAAAAAAAAAAAAAAAAAAAAAAAAAAAAAAAAAAAAAAAAAAAAAAAAAAAAAAAAAAAAAAAAAAAAAAAAAAAAAAAAAAAAAAAAAAAAAAAAAAAAAAAAAAAAAAAAAAAAAAAAAAAAAAAAAAAAAAAAAAAAAAAAAAAAAAAAAAAAAAAAAAAAAAAAAAAAAAAAAAAAAAAAAAAAAAAAAAAAAAAAAAAAAAAAAAAAAAAAAAAAAAAAAAAAAAAAAAAAAAAAAAAAAAAAAAAAAAAAAAAAAAAAAAAAAAAAAAAAAAAAAAAAAAAAAAAAAAAAAAAAAAAAAAAAAAAAAAAAAAAAAAAAAAAAAAAAAAAAAAAAAAAAAAAAAAAAAAAAAAAAAAAAAAAAAAAAAAAAAAAAAAAAAAAAAAAAAAAAAAAAAAAAAAAAAAAAAAAAAAAAAAAAAAAAAAAAAAAAAAAAAAAAAAAAAAAAAAAAAAAAAAAAAAAAAAAAAAAAAAAAAAAAAAAAAAAAAAAAAAAAAAAAAAAAAAAAAAAAAAAAAAAAAAAAAAAAAAAAAAAAAAAAAAAAAAAAAAAAAAAAAAAAAAAAAAAAAAAAAAAAAAAAAAAAAAAAAAAAAAAAAAAAAAAAAAAAAAAAAAAAAAAAAAAAAAAAAAAAAAAAAAAAAAAAAAAAAAAAAAAAAAAAAAAAAAAAAAAAAAAAAAAAAAAAAAAAAAAAAAAAAAAAAAAAAAAAAAAAAAAAAAAAAAAAAAAAAAAAAAAAAAAAAAAAAAAAAAAAAAAAAAAAAAwAAAAAAAAAAAAAAAAAAAAAAAAAAAAAAAAAAAAAAAAAAAAAAAAAAAAMAAAAAAAAAAAAAAAAAAAAAAAAAAAAAAAAAAAAAAA0P8AAAAAAAAAAAAAAAAAAND/AAAAAAAAAAAAADAAMAAAAAAAAAAAAAAAAAAAAAAAAAAAAAAAAAAAAND/AAAAAAAAMAAwAAAAAADQ/9D/0P8AAAAAAAAAADAAAAAAAAAA0P/Q/wAAAAAwAAAAAAAAAAAAAAAAAAAAAAAAAAAAMAAAAAAAAAAAAAAAAAAAAAAAMAAwAAAAAAAAAAAAAAAAAAAAAAAAAAAAAAAAAAAAAAAAAAAAAAAAAAAAAAAAAAAAAAAAAAAAAAAAAAAAAAAAAAAAAAAAAAAAAAAAAAAAAAAAAAAAAAAAAAAAAAAAAAAAAAAAAAAAAAAAAAAAAAAAAAAAAAAAAAAAAAAAAAAAAAAAAAAAAAAAAAAAAAAAAAAAAAAAAAAAAAAAAAAAAAAAAAAAAAAAAAAAAAAAAAAAAAAAAAAAAAAAAAAAAAAAAAAAAAAAAAAAAAAAAAAAAAAAAAAAAAAAAAAAAAAAAAAAAAAAAAAAAAAAAAAAAAAAAAAAAAAAAAAAAAAAAAAAAAAAAAAAAAAAAAAAAAAAAAAAAAAAAAAAAAAAAAAAAAAAAAAAAAAAAAAAAAAAAAAAAAAAAAAAAAAAAAAAAAAAAAAAAAAAAAAAAAAAAAAAAAAAAAAAAAAAAAAAAADQ/wAAAAAwAGAAYAAwAGAAAAAAAAAA0P8AAAAAAAAAADAAMAAAAAAAAAAAAAAAAAAwADAAMAAAAAAAP/8O/2//0P+RAPIAIgHBAAAAoP8O/z//oP8AAAAAYABgAGAAAADQ/2//b/+g/wAAYADBAMEAkQAAAG//3v7e/m//AABgAMEAIgEwAAAAb/8//2//0P8AAJEAYAAwAAAAAAAAAKD/0P+g/wAAAAAwAAAAMAAAAND/b/+g/wAAAABgAGAAMAAwAAAA0P+g/6D/AAAAAAAAMAAwADAAAAAAAAAAAAAAAAAAAAAAADAAAAAAAAAA0P8AAAAAAAAAADAAAAAAAAAAAADQ/wAAAAAAAAAAAAAAAAAAAAAAAAAAAAAAAAAAAAAAAAAAAAAAAAAAAAAAAAAAAAAAAAAAAAAAAAAAAAAAAAAAAAAAAAAAAAAAAAAAAAAAAAAAAAAAAAAAAAAAAAAAAAAAAAAAAAAAAAAAAAAAAAAAAAAAAAAAAAAAAAAAAAAAAAAAAAAAAAAAAAAAAAAAAAAAAAAAAAAAAAAAAAAAAAAAAAAAAAAAAAAAAAAAAAAAAAAAAAAAAAAAAAAAAAAAAAAAAAAAAAAAAAAAAAAAAAAAAAAAAAAAAAAAAAAAAAAAAAAAAAAAAAAAAAAAAAAAAAAAAAAAAAAAAAAAAAAAAAAAAAAAAAAAAAAAAAAAAAAAAAAAAAAAAAAAAAAAAAAAAAAAAAAAAAAAAAAAAAAAAAAAAAAAAAAAAAAAAAAAAAAAAAAAAAAAAAAAAAAAAAAAAAAAAAAAAAAAAAAAAAAAAAAAAAAAAAAAAAAAAAAAAAAAAAAAAAAAAAAAMAAAAAAAAAAAAAAAAAAAAAAAAAAAAAAAAAAAAAAAAAAAAAAAAAAwADAAAAAAAAAAAAAAAAAAAAAAAAAAAAAAAAAAAAAAAAAAAAAAAAAAAAAAAAAAAAAAAAAAAAAAAAAAAAAAAAAAAAAAAAAAAAAAAAAAAAAAAAAAAAAAAAAAAAAAAAAAAAAAAAAAAAAAAAAAAAAAAAAAAAAAAAAAAAAAAAAAAAAAAAAAAAAAAAAAAAAAAAAAAAAAAAAAAAAAAAAAAAAAAAAAAAAAAAAAAAAAAAAAAAAAAAAAAAAAAAAAAAAAAAAAAAAAAAAAAAAAAAAAAAAAAAAAAAAAAAAAAAAAAAAAAAAAAAAAAAAAAAAAAADQ/9D/AAAAAAAAAAAAAAAAAAAAAAAAAAAAAAAAAAAAAAAAAADQ/wAAAAAAAAAAAAAAAAAAAAAAAAAAAAAAAAAAAAAAAAAAAAAAAAAAAAAAAAAAAAAAAAAAAAAAAAAAAAAAAAAAAAAAAAAAAAAAAAAAAAAAAAAAAAAAAAAAAAAAAAAAAAAAAAAAAAAAAAAAAAAAAAAAAAAAAAAAAAAAAAAAAAAAAAAAAAAAAAAAAAAAAAAAAAAAAAAAAAAAAAAAAAAAAAAAAAAAAAAAAAAAADAAMAAAAAAAAAAAAAAAAAAAAAAAAAAAAAAAAAAAAAAAAAAAAAAAAAAAAAAAAAAAAAAAAAAAAAAAAAAAAAAAAAAAAAAAAAAAAAAAAAAAAAAAAAAAAAAAAAAAAAAAAAAAAAAAAAAAAAAAAAAAAAAAAAAAAAAAAAAAAAAAAAAAAAAAAAAAAAAAAAAAAAAAAAAAAAAAAAAAAAAAAAAAAAAAAAAAAAAAAAAAAAAAAAAAAAAAAAAAAAAAAAAAAAAAAADQ/wAAAAAAAAAAAAAAAAAAAAAAAAAAAAAAAAAAAAAAAAAAAAAAAAAAAAAAAAAAAAAAAAAAAAAAAAAAAAAAAAAAAAAAAAAAAAAAAAAAAAAAAAAAAAAAAAAAAAAAAAAAAAAAAAAAAAAAAAAAAAAAAAAAAAAAAAAAAAAAAAAAAAAAAAAAAAAAAAAAAAAAAAAAAAAAAAAAAAAAAAAAAAAAAAAAAAAAAAAAAAAAAAAAAAAAAAAAAAAAAAAAYAAAAAAAAAAAAAAAAAAAAAAAAAAAAAAAAAAAAAAAAAAAAAAAAAAAAAAAAAAAAAAAAAAAAAAAAAAAAAAAAAAAAAAAAAAAAAAAAAAAAAAAAAAAAAAAAAAAAAAAAAAAAAAAAAAAAAAAAAAAAAAAAAAAAAAAAAAAAAAAAAAAAAAAAAAAAAAAAAAAAAAAAAAAAAAAAAAAAAAAAAAAAAAAAAAAAAAAAAAAAAAAAAAAAAAAAAAAAAAAAAAAAAAAAAAAAAAAAAAAAAAAAAAAAAAAAAAAAAAAAAAAAAAAAAAAAAAAAAAAAAAAAAAAAAAAAAAAAAAAAAAAAAAAAAAAAAAAAAAAAAAAAAAAAAAAAAAAAAAAAAAAAAAAAAAAAAAAAAAAAAAAAAAAAAAAAAAAAAAAAAAAAAAAAAAAAAAAAAAAAAAAAAAAAAAAAAAAAAAAAAAAAAAAAAAAAAAAAAAAAAAAAAAAAAAAAAAAAAAAAAAAAAAAAAAAAAAAAAAAAAAAAAAAAAAAAAAAAAAAAAAAAAAAAAAwAAAAAAAAAAAAAAAAAAAAAAAAAAAAAAAAAAAAAAAAAAAAAAAAAAAAAAAAAAAAAAAAAAAAAAAAAAAAAAAAAAAAAAAAAAAAAADQ/wAAAAAAAAAAAAAAAAAA0P/Q/wAAAAAAAAAAAAAAAAAA0P8AAAAAAAAAAAAAAAAAAND/0P/Q/wAAAAAAAAAAAAAAAAAAAAAAAAAA0P8AAND/AAAAAAAAAAAAAND/AAAAAAAAAAAAAAAAAAAAAAAA0P8AAAAAAAAAAAAAAAAAAAAAAAAAAAAAAAAAAAAAAAAAAAAAAAAAAAAAAAAAAAAAAAAAAAAAAAAAAAAAAAAAAAAAAAAAAAAAAAAAAAAAAAAAAAAAAAAAAAAAAAAAAAAA0P8AAAAAAAAAAAAAAAAAAAAAAAAAAAAAAAAAAAAAAAAAAAAAAAAAAAAAAAAAAAAAAAAAAAAAAAAAAAAAAAAAAAAAAAAAAND/0P8AAAAA0P8AAAAAAAAAAAAAAAAAAAAAAAAAAAAAAADQ/9D/AAAAAAAAAAAAAAAAAAAAAAAAAAAAAAAAAAAAAAAAAAAAAAAAAAAAAAAA0P8AAAAAAAAAAAAAAAAAAAAAAAAAAAAAAADQ/9D/AAAAAAAAAAAAAAAAAAAAAAAAAAAAAAAAAAAAAAAAAAAAAAAAAAAAAAAAAAAAAAAAAAAAAAAAAADQ/9D/AAAAAAAAAAAAAAAAAAAAAAAAAAAAAAAAAAAAAAAAAADQ/9D/AAAAAAAAAAAAAAAAAAAAAAAAAAAAAAAAAAAAAAAAAADQ/wAAAAAAAAAAAAAAAAAAAAAAAAAA0P8AAAAAAAAAAAAAAAAAAAAAAAAAAAAAAAAAAAAAAAAAAAAAAAAAAAAAAAAAAAAAAAAAAAAAAAAAAAAAAAAAAAAAAAAAAAAAAAAAAAAAAAAAAAAAAAAAAAAAAAAAAAAAAAAAAAAAAAAAAAAAAAAAAAAAAAAAAAAAAAAAAAAAAAAAAAAAAAAAAAAAAAAAAAAAAAAAAAAAAAAAAAAAAAAAAAAAAAAAAAAAAAAAAAAAAAAAAAAAAAAAAAAAAAAAAAAAAAAAAAAAAAAAAAAAAAAAAAAAAAAAAAAAAAAAAAAAAAAAAAAAAAAAAAAAAAAAAAAAAAAAAAAAAAAAAAAAAAAAAAAAAAAAAAAAAAAAAAAAAAAAAAAAAAAAAAAAAAAAAAAAAAAAAAAAAAAAAAAAAAAAAAAAAAAAAAAAAAAAAAAAAAAAAAAAAAAAAAAAAAAAAAAAAAAAAAAAAAAAAAAAAAAAAAAAAAAAAAAAAAAAAAAAAAAAAAAAAAAAAAAAAAAAAAAAAAAAAAAAAAAAAAAAAAAAAAAAAAAAAAAAAAAAAAAAAAAAAAAAAAAAAAAAMAAAAAAAAAAAAAAAAAAAAAAAAAAwAAAAAAAAAAAAAAAAAAAAAAAAAAAAAAAAAAAAAAAAAAAAAAAAAAAAAAAAAAAAAAAAADAAAAAAAAAAAAAAAAAAAAAAAAAAMABgAGAAAAAAAAAAAAAAAAAAMAAwAAAAYAAwAAAAYAAAAAAAAAAAADAAMAAwAAAAMAAAADAAMAAAADAAYAAwAAAAAAAwAAAAMABgAAAAAAAAADAAMAAAADAAMAAwADAAMAAAAAAAAAAwAAAAAAAAAAAAMAAwAAAAAAAAAAAAAAAAADAAMAAAAAAAAAAAAAAAMAAwAAAAAAAAAAAAAAAAAAAAAAAAAAAAAAAAAAAAAAAAADAAMAAAAAAAAAAAAAAAMAAAADAAAAAAADAAMAAAAAAAAAAAAAAAAAAAADAAMAAwAAAAMAAAAAAAAAAwAAAAAAAwADAAMAAwADAAAAAwAAAAAAAAAAAAMAAAAAAAAAAAAAAAAAAAADAAAAAwAAAAAAAAAAAAAAAAADAAMABgAAAAAAAAAAAAAAAwADAAAAAAAAAAAAAAAAAAAAAAAAAAAAAAAAAAAAAAAAAAAAAAAAAAAAAAAAAAMAAwADAAAAAAAAAAAAAAAAAAAAAwAGAAYAAAAAAA0P8AAAAAAABgAGAAAAAAAND/0P8AAAAAMAAAADAAYAAwAAAA0P8AAAAAAAAAADAAAAAAAAAAAAAAAND/AAAAAGAAYAAwAAAAAAAAAAAAAAAAAAAAAAAAADAAAAAAAAAAAAAAAAAAAAAAAAAAAAAAAAAAAAAAAAAAAAAAAAAAAAAAAAAA0P8AAAAAAAAAADAAMAAAAAAAAAAAAAAAAAAAAAAAAAAAAAAAAAAAAAAAAAAwAAAAAAAAAAAAAAAAAAAAAAAAAAAAAAAAAAAAAAAAAAAAAAAwAAAAAAAAAAAAAAAAAAAAAAAAAAAAAAAAAAAAAAAAAAAAAAAAAAAAAAAAAAAAAAAAAND/AAAwAAAAAAAAAAAAAAAAAAAAAAAAAAAAAAAAAAAAAAAAAAAAAAAAAAAAAAAAAAAAAAAAAAAAAAAAAAAAAAAAAAAAAAAAAAAAAAAAAND/AAAAAAAAAAAAAAAAAAAAAAAAAAAAAAAAAAAAAAAAAAAAAAAAAAAAAAAAAAAAAAAAAAAAAAAAAAAAAAAAAAAAAAAAAAAAAAAAAAAAAAAAAAAAAAAAAAAAAAAAAAAAAAAAAAAAAAAAAAAAAAAAAAAAAAAAAAAAAAAAAAAAAAAAAAAAAAAAAAAAAAAAAAAAAAAAAAAAAAAAAAAAAAAAAAAAAAAAAAAAAAAAAAAAAAAAAAAAAAAAAAAAAAAAAAAAAAAAAAAAAAAAAAAAAAAAAAAAAAAAAAAAAAAAAAAAAAAAAAAAAAAAAAAAAAAAAAAAAAAAAAAAAAAAAAAAAAAAAAAAAAAAAAAAAAAAAAAAAAAAAAAAAAAAAAAAAAAAAAAAAAAAAAAAAAAAAAAAAAAAAAAAAAAAAAAAAAAAAAAAAAAAAAAAAAAAAAAAAAAAAAAAAAAAAAAAAAAAAAAAAAAAAAAAAAAAAAAAAAAAAAAAAAAAAAAAAAAAAAAAAAAAAAAAAAAAAAAAAAAAAAAAAAAAAAAAAAAAAAAAAAAAAAAAAAAAAAAAAAAAAAAAAAAAAAAAAAAAAAAAAAAAAAAAAAAAAAAAAAAAAAAAAAAAAAAAAAAAAAAAAAAAAAAAAAAAAAAAAAAAAAAAAAAAAAAAAAAAAAAAAAAAAAAAAAAA0P8AAAAAAAAAAAAAAAAAAAAAAAAAAAAA0P8AAAAAAAAAAAAAAADQ/wAAAAAAAND/AAAAAAAAAAAAAAAAAAAAAAAAAAAAADAAAAAAAND/AAAAAAAAAAAwADAAYAAAAND/oP8AAAAAAAAAAGAAYAAAAND/b/9v/9D/AAAwAGAAFQI4AwAAKf3r/d7+Dv8AAPIAwQCRACIBAAAc/n3+AAAAAAAAwQC0ASIBAAAO/xz+TP5v/wAAAACRAIMB8gDQ/97+Dv9v/wAAkQBTAZEAYAAAAG//ff7e/gAAAAAAAGAA8gCRAAAAoP8//6D/AAAwAAAAYABgAAAA0P+g/z//b/8AAAAAMABgAAAAAAAAAAAA0P8AAAAAAAAAAAAAAADQ/9D/AADQ/9D/AAAAAAAAAAAAAAAAAAAAAAAA0P8AAAAAAAAAAAAAAAAAAAAAAAAAAAAAAAAAAAAAAAAAAAAAAAAAAAAAAAAAAAAA0P8AAAAAAAAAAAAAAAAAAAAAAAAAAAAAAAAAAAAAAAAAAAAAAADQ/wAAAAAAAAAAAAAAAAAAAAAAAAAAAAAAAAAAAAAAAAAAAAAAAAAAAAAAAAAAAAAAAAAAAAAAAAAAAAAAAAAAAAAAAAAAAADQ/wAAAAAAAAAAAAAAAAAAAAAAAAAAAAAAAAAAAAAAAAAAAAAAAAAAAAAAAAAAAAAAAAAAAAAAAAAAAAAAAAAAAAAAAAAAAAAAAAAAAAAAAAAAAAAAAAAAAAAAAAAAAAAAAAAAAAAAAAAAAAAAAAAAAAAAAAAAAAAAAAAAAAAAAAAAAAAAAAAAAAAAAAAAAAAAAAAAAAAAAND/AAAAAAAAAAAAAAAAAAAAAAAAAAAAAAAAAAAAAAAAAAAAAAAAAAAAAAAAAAAAAAAAAAAAAAAAAAAAAAAAAAAAAAAAAAAAAAAAAAAAAAAAAAAAAAAAAAAAAAAAAAAAAAAAAAAAAAAAAAAAAAAAAAAAAAAAAAAAAAAAAAAAAAAAAAAwAAAAAAAAAAAAAAAAAAAAAAAAAAAAAAAAAAAAAAAAAAAAAAAAADAAMAAAAAAAAAAAAAAAAAAAAAAAMAAAAAAAAAAAAAAAAAAAAAAAMAAAAAAAAAAAAAAAAAAwADAAMAAAAAAAAAAAAAAAMAAAAAAAAAAAAAAA0P8AAAAAAAAAAAAAMAAwADAAAAAAAAAAMAAAAAAAAAAAAAAAAAAAAAAAAAAAAAAAMAAAAAAAAAAAAAAAAAAAADAAAAAAAAAAAAAAAAAAAAAAAAAAAAAwADAAMAAAAAAAAAAAAAAAMAAwAAAAAAAAAAAAAAAAADAAAAAAADAAAAAAAAAAAAAAAAAAAAAAAAAAAAAAAAAAAAAAAAAAAAAAAAAAAAAAAAAAAAAAAAAAAAAwAAAAAAAAAAAAAAAAAAAAAAAAAAAAAAAAAAAAAAAAAAAAAAAAAAAAAAAAAAAAAAAAAAAAAAAAAAAAAAAAAAAAAAAAAAAAAAAAAAAAAAAAAAAAAAAAAAAAAAAAAAAAAAAAAAAAAAAAAAAAAAAAAAAAAAAAAAAAAAAAAAAAAAAAAAAAAAAAAAAAAAAAAAAAAAAAAAAAAAAAAAAAAAAAAAAAAAAAAAAAAAAAAAAAAAAAAAAAAAAAAAAAAAAAAAAAAAAAAAAAAAAAAAAAAAAAAAAAAAAwAAAAAAAAAAAAAAAAAAAAAAAAAAAAAAAAAAAAAAAAAAAAAAAAAAAAAAAAAAAAAAAAAAAAAAAAAAAAAAAAAAAAAAAAAAAAAAAAAAAAAAAAADAAAAAAAAAAAAAAAAAAAAAwAAAAAAAAAAAAAAAAAAAAMAAAAAAAAAAAAAAAAAAAAAAAAAAAAAAAAAAAAAAAAAAAAAAAAAAAAAAAAAAAAAAAAAAwAAAAAAAAAAAAAAAAAAAAAAAAAAAAAAAAAAAAAAAAAAAAAAAAAAAAAAAAAAAAAAAAAAAAAAAAAAAAAAAAAAAAAAAAAAAAAAAAAAAAAAAAAAAAAAAAAAAAAAAAAAAAAAAAAAAAAAAAAAAAAAAAAAAAAAAAAAAAAAAAAAAAAAAAAAAAAAAAAAAAAAAAAAAAAAAAAAAAAAAAAAAAAAAAAAAAAAAAAAAAAAAAAAAAAAAAAAAAAAAAAAAAAAAAAAAAAAAAAAAAAAAAAAAAAAAAAAAAAAAAAAAAAAAAAAAAAAAAAAAAAAAAAAAAAAAAAAAAAAAAAAAAAAAAAAAAAAAAAAAAAAAAAAAAAAAAAAAAAAAAAAAAAAAAAAAAAAAAAAAAAAAAAAAAAAAAAND/AAAAAAAAMAAwAAAAoP+g/9D/0P8AAAAAAAAwADAAAAAAAAAAAAAAAAAAAAAAAAAAAADQ/6D/oP/Q/wAAAABgADAAMAAAAAAA0P/Q/9D/AAAAAAAAAAAAAAAA0P/Q/9D/AAAAAAAAAAAwAAAAAACg/wAAAAAAAAAAAAAAAAAAAAAAAND/0P8AAAAAAAAAADAAAAAAAAAAAADQ/wAAAAAAAAAAAAAAAND/oP/Q/wAAAAAAAAAAAAAAAAAAAAAAAAAAAAAAAAAA0P/Q/wAAAAAAAAAAAAAAAAAAAAAAAAAAAADQ/9D/AAAAAAAAAADQ/9D/AADQ/wAAAAAAAAAAAAAAAAAAAAAAAAAAAAAAAND/AAAAAAAAAAAAAAAAAAAAAAAAAAAAAAAAAAAAAAAAAAAAAAAAAAAAAAAAAAAAAAAAAAAAAAAAAAAAAND/AAAAAAAAAAAAAAAAAAAAAAAAAAAAAAAAAAAAAAAAAAAAAAAAAAAAAAAAAAAAAAAAAAAAAAAAAAAAAAAAAAAAAAAAAAAAAND/AAAAAAAAAAAAAAAAAAAAAAAAAAAAAAAAAAAAAAAAAAAAAAAAAAAAAAAAAAAAAAAAAAAAAAAAAAAAAAAAAAAAAAAAAAAAAAAAAAAAAAAAAAAAAAAAAAAAAAAAAAAAAAAAAAAAAAAAAAAAAND/AAAAAAAAAAAAAAAAAAAAAAAAAAAAAAAAAAAAAAAAAAAAAAAAAAAAAAAAAAAAAAAAAAAAADAAAAAAAAAAAADQ/9D/0P/Q/zAAMAAAAND/AAAAAAAAAAAAAAAAwQB2AvIAff4O/z//3v7e/qD/8gDBAGAAAAAAAND/0P8AAAAAMAAwAGAAMAAAAG//3v4//9D/AAAwAMEAkQAwAND/AAAAAAAA0P8AADAAAAAAAAAAoP/Q/9D/AAAAADAAMAAwAAAAAAAAAND/AAAAAAAAAAAAAAAAAAAAAAAAAAAAAAAAAAAAADAAAAAAAAAAAAAAAAAAAAAAAAAAAAAAAAAAAAAAAAAAAAAAAAAAAAAAAAAAAAAAAAAAAAAAAAAAAAAAAAAAAAAAAAAAAAAAAAAAAAAAAAAAAAAAAAAAAAAAAAAAAAAAAAAAAAAAAAAAAAAAAAAAAAAAAAAAAAAAAAAAAAAAAAAAAAAAAAAAAAAAAAAAAAAAAAAAAAAAAAAAAAAAAAAAAAAAAAAAAAAAAAAAAAAAAAAAAAAAAAAAAAAAAAAAAAAAAAAAAAAAAAAAAAAAAAAAAAAAAAAAAAAAAAAAAAAAAAAAAAAAAAAAAAAAAAAAAAAAAAAAAAAAAAAAAAAAAAAAAAAAAAAAAAAAAAAAAAAAAAAAAAAAAAAAAAAAAAAAAAAAAAAAAAAAAAAAAAAAAAAAAAAAAAAAAAAAAAAAAAAAAAAAAAAAAAAAAAAAAAAAMAAAAAAAAAAAAAAAAAAAAAAAAAAAAAAAAAAAAAAAAAAAAAAAYABgAGAAMAAAAAAAAAAAAAAAAAAwADAAAAAAAAAAAAAAAAAAAAAAAAAAAAAAAAAAAAAAAAAAAAAAAAAAAAAAAAAAAAAAAAAAAAAAAAAAAAAwAAAAAAAAAAAAAAAAAAAAAAAAAAAAAAAAAAAAAAAAAAAAAAAAAAAAAAAAAAAAAAAAAAAAAAAAAAAAAAAAADAAAAAAAAAAAAAAAAAAAAAAAAAAAAAAAAAAAAAAAAAAAAAAAAAAAAAAAAAAAAAAAAAAAAAAAAAAAAAAAAAAAAAAAAAAAAAAADAAAAAAAAAAAAAAAAAAAAAAAAAAAAAAAAAA0P8AAAAAAAAAAAAAAAAAAAAAAAAAAAAAAAAAAAAAAAAAAAAAAAAAAAAAAAAAAAAAAAAAAAAAAAAAAAAAAAAAADAAAAAAAAAAAAAAAAAAAAAAAAAAAAAAAAAAAAAAAAAAAAAAAAAAAAAAAAAAAAAAAAAAAAAAAAAAAAAAAAAAAAAAAAAAAAAAAAAAAAAAAAAAAAAAAAAAAAAAAAAAAAAAAAAAAAAAAAAAAAAAAAAAAAAAAAAAAAAAAAAAAAAAAAAAAAAAAAAAAAAAAAAAAAAAAAAAAAAAAAAAAAAAAAAAAAAAAAAAAAAAAAAAAAAAAAAAAAAAAAAAAAAAAAAAAAAAAAAAAAAAAAAAAAAAAAAAMAAAAAAAAAAAAAAAAAAAAAAAAAAAAAAAAAAAAAAAAAAAAAAAAAAAAAAAAAAAAAAAAAAAAAAAAAAAAAAAAAAAAAAAAAAAAAAAAAAAAAAAAAAAAAAAAAAAAAAAAAAAAAAAAAAAAAAAAAAAAAAAAAAAAAAAAAAAAAAAAAAAAAAAAAAAAAAAAAAAAAAAAAAAAAAAAAAAAAAAAAAAAAAAAAAAAAAAAAAAAAAAAAAAAAAAAAAAAAAAAAAAAAAAAAAAAAAAAAAAAAAAAAAAAAAAAAAAAAAAAAAAAAAAAAAAAAAAAAAAAAAAAAAAAAAAAAAAAAAAAAAAAAAAAAAAAAAAAAAAAAAAAAAAAAAAAAAAAAAAAAAAAAAAAAAAAAAAAAAAAAAAAAAAAAAAAAAAAAAAAADQ/wAAAAAAAAAAAAAAAAAAAAAAAAAAAAAAAAAAAAAAAAAAAAAAAND/AAAAAAAAAAAAAAAAAAAAAND/AAAAAAAAAAAAAAAAAAAAAAAAAAAAAAAAAAAwAAAAAAAAAAAAAAAAAND/AAAAAAAAAAAAAAAAAAAAAAAAAAAAAAAAAAAAAAAAAAAAAAAAAAAAAAAAAAAAAAAAAAAAAAAAAAAAAAAAAAAAAAAAAADQ/wAAAAAAAAAAAAAAAAAAAAAAAAAAAAAAAAAAAAAAAND/0P8AAAAAAAAwAAAAAAAAAAAAAAAAAAAAAAAAAAAAAAAAAAAAAAAAAAAAAAAAAAAAAAAAAND/AAAAAAAAAAAAAAAAAAAAAAAAAAAAAAAAAAAAAAAAAAAAAAAA0P8AAAAAAAAAAAAAAAAAAAAAAAAAAAAAAAAAAAAAAAAAAAAAAAAAAAAAAAAAAAAAAAAAAAAAAAAAAAAAAAAAAAAAAAAAAAAAAAAAAAAAAAAAAAAAAADQ/wAAAAAAAAAAAAAAAAAAAAAAAAAAAAAAAND/AAAAAAAAAAAAAAAAAAAAAAAAMAAAAAAAAAAwAAAAAAAAAAAA0P+g/6D/0P/Q/wAAAAAwADAAYAAwADAAAAAAAND/oP+g/9D/0P8AAAAAAAAAAAAAMAAwADAAMAAwAAAAAACg/6D/AACg/6D/oP8AAAAAMAAAADAAMAAAAAAAAAAAAAAA0P8AAKD/AAAAAAAAAAAAAAAAAAAAAAAAAAAAAND/AAAAAAAAAAAAAAAAAAAAAAAAAAAAAAAAAAAAAAAAAAAAAAAAAAAAAND/AAAAAAAA0P8AAAAAAAAAAAAAMAAAAAAAAAAAAAAAAAAAAND/AAAAAAAAAAAAAAAAAAAAAAAAAAAAAAAAAAAAAAAAAAAAAAAAAAAAAAAAAAAAAAAAAAAAAAAAAAAAAAAAAAAAAAAAAAAAAAAAAAAAAAAAAAAAAAAAAAAAAAAAAAAAAAAAAAAAAAAAAAAAAAAAAAAAAAAAAAAAAAAAAAAAAAAAAAAAAAAA0P8AAND/AAAAAAAA0P8AAAAAAAAAAAAAAAAAAAAAAAAAAAAAAAAAAAAA0P/Q/wAAAAAAAAAAAAAAAAAAAAAAAAAAAAAAAAAAAAAAAAAAAAAAAAAAAAAAAAAAAAAAAAAAAAAAAAAAAAAAAAAAAAAAAAAAAAAAAAAAAAAAAAAAAAAAAAAAAAAAAAAAAAAAAAAAAAAAAAAAAAAAAAAAAAAAAAAAAAAAAAAAAAAAAAAAAAAAAAAAAAAAAAAAAAAAAAAAAAAAAAAAAAAAAAAAAAAAAAAAAAAAAAAAAAAAAAAAAAAAAAAAAAAAAAAAAAAAAAAAAAAAAAAAAAAAAAAAAAAAAAAAAAAAAAAAAAAAAAAAAAAAAAAAAAAAAAAAAAAAAAAAAAAAAAAAAAAAAAAAAAAAAAAAAAAAAAAAAAAAAAAAAAAAAAAAAABgADAAAAAAAAAAMAAAAAAAAAAAAAAAAAAAAAAAAAAAAAAAAAAAAAAAAAAAAAAAAAAAAAAAAAAAAAAAMAAAAAAAAAAAAAAAAAAAAAAAAAAAAAAAAAAAAAAAAAAAAAAAAAAAAAAAAAAAAAAAAAAwAAAAAAAwAAAAAAAwADAAYAAwAAAAAAAAAAAAAAAAAAAAAAAAAAAAAAAAAAAAAAAwAAAAAAAAAAAAAAAAAAAAAAAAAAAAAAAwADAAMAAAAAAAAAAwADAAAAAwAAAAMAAAAAAAAAAAAAAAMAAAAAAAAAAAAAAAAAAAAAAAAAAAAAAAAAAAADAAMAAwAAAAAAAAAAAAAAAAAAAAAAAwAAAAAAAAAAAAAAAAAAAAAAAAAAAAAAAAAAAA0P/Q/wAAAAAAAAAAMAAAAAAAAAAAAAAAAAAAAAAAAAAwAAAAAAAAAAAAAAAwADAAMAAwAGAAYAAwAAAAAAAAAAAAAAAAAAAAAAAAAAAA0P8AAAAAMAAwAAAAMAAAAAAAAAAAADAAAAAAAAAAAAAAADAAMAAAAAAAAAAAAAAAAAAAAAAAAAAAAAAAAAAAAAAAAAAAAAAAAAAAADAAMAAAADAAYAAwAAAAAAAwAAAAAAAAAAAAAAAAAAAAAAAwADAAAAAAAAAAMAAwADAAAAAAAAAAAAAAAAAAAAAAAAAAAAAwAAAAAAAAAAAAAAAAAAAAMAAAADAAYAAAAAAAAAAAAAAAMABgAAAAAAAAAAAAAAAAAAAAAAAAAAAAAAAAADAAAAAAAAAAAAAAAGAAYAAAAAAAAAAAAAAAAAAwADAAAAAwAAAAAAAAAND/AAAAADAAMAAAADAAAAAAAAAAAAAAAAAAAAAAAAAAAAAwAAAAMAAAAAAAAAAAAAAAAAAAAAAAAAAAAAAAAAAAAAAAAAAAAAAAAAAAAAAAAAAAAAAAAAAAADAAMAAAAAAAAAAAAAAA0P8AAAAAAAAAADAAAAAAAAAAAADQ/wAAAAAAAAAAAAAAAAAAAAAAAAAAAAAAAAAAMAAwAAAAAAAAAAAAAAAAAAAAAAAAAAAAAAAAAAAAAAAAAAAAAAAAAAAAAADQ/wAAAAAAAAAAAAAAAAAAAAAAAAAAAAAAAAAAAAAAAAAAAAAAAAAAAAAAAAAAAAAAAAAAAAAAAAAAAAAAAAAAAADQ/wAAAAAAAAAAAAAAAAAAAAAAAAAAAAAAAAAAYAAAAAAAMAAwAAAAAAAAAAAAAAAAAAAAAAAAAAAAAAAAAAAAAAAAAAAAAAAAAAAAAAAAAAAAAAAwADAAAAAwADAAMAAAAAAAAAAAAAAAMAAAAAAAAAAAAAAAAAAAAAAAAAAAAAAAAAAAAAAAAAAAAAAAAAAAAAAAAAAAAAAAAAAwADAAAAAAAAAAAAAAAAAAAAAAAAAAAAAAAAAAAAAAAAAAAAAAAAAAAAAAAAAAAAAAAAAAAAAAAAAAAAAAAAAAAAAAAAAAAAAAADAAAAAAAAAAAAAAAAAAAAAAAAAAAAAAAAAAAAAAAAAAAAAAAAAAAAAAAAAAAAAAAAAAAAAAAAAAAAAAAAAAAAAAAAAAAAAAAAAAAAAAAAAAAAAAADAAAAAAAAAAAAAAAAAAAAAAAAAAAAAAAAAAAAAAAAAAAAAAAAAAAAAAAAAAAAAAAAAAAAAAAAAAAAAAAAAAAAAAAAAAAAAAAAAAAAAAAAAAAAAAAAAAAAAAAAAAAAAAAAAAAAAAAAAAAAAAAAAAAAAAAAAAAAAAAAAAAAAAAAAAAAAAAAAAAAAAAAAAAAAAAAAAAAAAAAAAAAAAAAAAAAAAAAAAAAAAAAAAAAAAAAAAAAAAAAAAAAAAAAAAAAAAAAAAAAAAAAAAAAAAAAAA0P/Q/wAAAAAAAAAAAADQ/wAAAAAAAAAAAAAAAAAAAADQ/9D/AAAAAAAAAAAAAAAAAAAAAAAAAADQ/9D/0P8AAAAAAAAAAAAAAAAAAAAAAAAAAAAAAAAAAAAAAAAAAAAAAADQ/9D/AAAAAAAAAAAAAAAAAAAAAAAAAAAAAND/AAAAAAAAAAAAAAAA0P/Q/wAAMAAAAAAAAAAAAAAAAAAAADAAAAAAAAAAAAAAADAAAAAAAAAAAAAwAAAAAAAAAAAAAAAAAAAAAAAAAAAA0P8AAAAAAACg/wAA0P8AAAAAAAAAAAAAAAAAAAAAAAAAAKD/AAAAAND/AAAAAKD/0P8AAAAAAAAAAAAA0P8AAND/b/+g/wAAAAAAAAAAAAAAAAAA0P+g/9D/AAAAAAAAAAAAAAAAAADQ/9D/0P/Q/wAAAADQ/wAAAAAAAAAAAAAAAAAA0P8AAAAAAAAAAAAAAAAAAND/AAAAAAAAAAAAAAAAAAAAAAAAAABgADAAAAAAAAAAMAAAAAAAAAAAAAAAMAAwAAAAAAAAAAAAAAAAAAAAAAAAAAAAAAAAAAAAAAAAAAAA0P8AAAAAAAAAADAAMAAAAAAAAADQ/wAAAAAAADAAAAAAAAAAAAAAAAAAAADQ/wAAAACg/wAAAAAAAND/AAAAAAAAAAAAAAAAAAAAAAAAAAAAAAAAAAAAAAAAAADQ/9D/AAAAAAAAAAAAAAAAAAAAAAAAAADQ/wAAAAAAAAAAAAAAAND/AADQ/wAAAAAAAAAAAAAAAAAAAAAAAAAAAAAAAAAAAAAAAAAAAAAAAAAA0P8AAAAAAAAAAND/AAAAAND/AADQ/9D/AAAAAAAAAAAAAAAAAAAAAAAAAAAAAAAAAAAAAAAAMAAwAAAAMAAwAAAAAAAAAAAA0P8AAAAAAAAAAAAAAAAAAAAAAADQ/wAAAAAAAAAAAAAAAAAAAAAAAAAAAAAAAAAAAAAAAAAAAAAAAAAA0P/Q/wAA0P8AAAAAAAAAAAAAAAAAAAAAAADQ/wAAAAAAAAAAAAAAAAAA0P/Q/wAAAAAAAND/AAAAAAAAAADQ/wAAAAAAAAAAAAAAAND/0P8AAAAAAAAwAAAAAAAAAAAAAAAAAAAAAAAAAND/0P8AAAAA0P8AAAAAAAAAAAAAAAAAAAAAAAAAAKD/0P/Q/wAAAAAAAAAAAAAAAAAAMABgAGAAAADQ/wAAAAAAAAAAAAAAAAAAAAAAAAAAMAAwAAAAMAAAAAAA0P+g/wAAAAAAAAAAAAAAAAAAAAAAAAAAAAAAAAAAAAAAAAAAAAAAAND/oP8AAAAAAAAAAAAAAAAAAAAAAAAAAAAAAAAAAAAAAAAAAAAAAAAAAAAAAAAAAAAAAAAAAAAAAAAAAAAAAAAAAAAAAAAAAAAAAAAAAAAAAAAAAAAAAAAAAAAAAAAAAAAAAAAAAAAAAAAAAAAAAAAAAAAAAAAAAAAAAAAAAAAAAAAAAAAAAAAAAAAAAAAAAAAAAAAAAAAAAAAAAAAAAAAAAAAAAAAAAAAAAAAAAAAAAAAAAAAAAAAAAAAAAAAAAAAAAAAAAAAA0P8AAAAAAAAAAAAAAAAAAAAAAADQ/6D/0P8AAAAAAAAAAAAAoP/Q/wAAAADQ/9D/AAAAAAAAAAAAAAAAAADQ/wAAAAAAAAAAAAAAAAAAAAAAAAAAAAAAAAAAAAAAAAAAAAAAAAAAAAAAAAAAAAAAAAAAAAAAAAAA0P8AAAAAAAAAAAAAAAAAAAAAAAAAAAAAAAAwAAAAAAAAAAAAAAAAAAAAAAAAAAAAAAAAAAAAAAAAAAAA0P8AAAAAAAAAAAAAAADQ/6D/0P8AAAAA0P/Q/6D/oP+g/wAAAAAAAAAAAAAAAND/AAAAAAAAAADQ/wAAAADQ/wAAAAAAAAAAAAAAAAAAAAAAAAAAAAAAAAAAAAAAAAAA0P8AAAAAAAAAAAAAAAAAAAAAAAAAAAAAAAAAAAAAAAAAAAAAAAAAAAAAAAAAAAAA0P8AAAAAAAAAAAAAAAAAAAAAAAAAAAAAAAAAAAAAAAAAAAAAAAAAAAAAAAAAAAAAAAAAAAAAAAAAAAAAAAAAAAAAAAAAAAAAAAAAAAAAAAAAAAAAAAAAAAAAAAAAAAAAAAAAAAAA0P/Q/9D/AAAAAAAAAAAAAND/oP8AAAAAAAAAAAAAAAAAAAAAAAAAAND/AAAAAAAAAAAAAAAAAAAAAAAAAAAAAAAAAAAAAAAAAAAAAAAAAAAAAAAAAAAAAAAAAAAAAAAAAAAAAAAAAAAAAAAAAADQ/9D/0P/Q/wAAAAAAAAAAAAAAAAAAAAAAAAAAAAAAAAAAAAAAAAAAAAAAAAAAAAAAAAAAAAAAAAAAAAAAAAAAAAAAAAAAAAAAAND/0P8AAND/AAAAAND/0P8AAND/0P8AAAAAAAAAAAAAAAAAAAAAAAAAAAAAAADQ/wAA0P/Q/wAAAAAAAAAAMAAAAAAAAADQ/9D/0P/Q/9D/AAAAAAAAAAAAAAAAAAAAAAAAAADQ/9D/AAAAAAAAAAAAAAAAAAAAADAAMAAAAAAAAAAwAAAAAAAAAAAAAAAAAAAAMAAwAAAAAAAAAAAAMAAAAAAAAAAwAAAAAAAAAAAA0P8AADAAAAAAAAAA0P8AAAAAAAAAAAAAMAAAAAAAAAAwAAAAAAAAAAAAAAAAAAAAAAAAAAAA0P8AAAAAAAAAAND/0P8AAAAAAAAAAAAAAAAAAAAAAACg/wAAAAAAAAAAAAAAAAAAAAAAAAAAAAAAAAAAAAAAAAAAAAAAAAAAAAAAAAAAAAAAAAAAAAAAAAAAAAAAAAAAAAAAAAAAAAAAAAAAAAAAAAAAAAAAAAAAAAAAAAAAAAAAAAAAAAAAAAAAAAAAAAAAAAAAAAAAAAAAAAAAAAAAAAAAAAAAAAAAAAAAAAAAAAAAAAAAAAAAAAAAAAAAAAAAAAAAAAAAAAAAAAAAAAAAAAAAAAAAAAAAAAAAAAAAAAAAAAAAAAAAAAAAAAAAAAAAAAAAAAAAAAAAAAAAAAAAADAAMAAwADAAMAAwAAAAAAAAAAAAAAAAAAAAAAAAADAAAAAAAAAAAAAAAAAAAAAAADAAMAAwAAAAAAAAADAAAAAAAAAAAADQ/wAAAAAAAAAAAAAAAAAAoP8AAAAA0P/Q/wAAAAAAAAAAAADQ/wAAAAAAAAAAAAAAAAAAAAAAAAAAAAAAAND/AAAAAAAAAAAAAAAAAAAAAAAAAAAAAAAAAAAwAAAAAAAwADAAAAAAADAAAAAAAAAAAAAwAGAAMAAAADAAMAAwAAAAAABgAGAAYAAAAAAAYAAAAAAAAAAwAAAAAABgADAAYABgAAAAYABgADAAMAAwAAAAAAAwAAAAAAAAAAAAAAAAADAAAAAAAAAAAAAwAAAAAAAAAAAAAAAAAAAAAAAAAAAAAAAwADAAAAAwAAAAAAAAAAAAAAAAAND/AAAAAAAAAAAAAAAAAAAAAAAAAAAAAAAAAAAAAAAAAAAAAAAAAAAAAAAAAAAAAAAAAAAAAAAAAAAAAAAAAAAAAAAA0P8AADAAMAAAAAAAAAAAAAAAAAAAAAAAAAAAAAAAMAAAAAAAAAAAAAAAAAAAAAAAAAAAAAAAAAAAAAAAAAAAAAAAAAAAAAAAAADQ/wAAAAAwAAAAAAAAAAAAAAAAAAAAAAAAAAAAAAAAAAAAAAAAAAAAAAAAAAAAAAAAADAAAAAAAAAAAAAAAAAAAAAAAAAAAAAwAAAAMAAAAAAAAAAAAAAAAAAAAAAAAAAAAAAAAAAAAAAAAAAAAAAAAAAAAAAAAAAAADAAAAAAADAAYAAAADAAAAAAAAAAAAAwAAAAMAAAADAAMAAAAAAAAAAAADAAAAAAADAAMAAwAAAAAAAAAAAAAAAwAGAAMAAAAAAAAAAwADAAMABgADAAMAAwAAAAYAAAAAAAAAAAAAAAAAAAAAAAAAAAAAAAAAAAADAAAAAAADAAAAAAAAAAAAAAAAAAAAAAAAAAAAAAADAAAAAAAAAAAAAwADAAAAAAAAAAAAAAAAAAAAAAAAAAAAAAAAAAMAAAAAAAAAAAADAAAAAAADAAAADQ/wAAAAAAAAAAAAAAAND/AAAAAAAAAAAAADAAAAAAAAAAAAAwAND/AAAAAAAAAAAAAND/0P8AAND/AAAAADAAAAAAAAAAAAAAAAAAAAAAAAAAAAAAADAAAAAAAGAAAADQ/wAAAAAAAAAAAAAAAAAAMAAAAAAAAAAAAAAAMAAAAAAAAAAAAAAAAAAAAAAAAAAAAAAAAAAAAAAAAAAAAAAA0P8AAAAAAAAAAAAAMABgADAAYAAAAAAAMAAAAND/0P8AAAAAAABgADAAAAAAAAAAAAAAAAAAAAAAAAAAAAAAAAAAAAAAAAAAAAAAAAAAAAAAAAAAAAAAAAAAAAAAADAAMAAAAAAAAAAAAAAAAAAwADAAAAAAAAAAAAAAADAAAAAAAAAAAAAwAAAAAAAAAAAAAAAAAAAAAAAAAAAAAAAAAAAAAAAAAAAAAAAAAAAAAAAAAAAAAAAAAAAAAAAAAAAAAAAAAAAAAAAAAAAAAAAAAAAAAAAAAAAAAAAAAAAAAAAAAAAAMAAAADAAAAAAAAAAAAAAAAAAAAAAAAAAAAAAAAAAAAAwAAAAAAAAAAAAAAAAAAAAAAAAAND/AAAAAAAAAAAAAAAAAAAAAAAAAAAAAAAAAAAAAAAAAAAAAAAAAAAAAAAAAAAAAAAAAAAAAAAAAAAAAAAAAAAAAAAAAAAAAAAAAAAAAAAAAAAAAAAAAAAAAAAAAAAAAAAAAAAAAAAAAAAAAAAAAAAAAAAAAAAAAAAAAAAAAND/AAAAAAAAAAAAAAAAMAAAAAAAMAAAAAAAAAAAAAAAAAAAAAAAAAAAAAAAAAAAAAAAAAAAAAAAAAAAAGAAYAAAAAAAAAAAAAAAAAAAADAAAAAAAAAAAAAAAAAAMAAAAAAAMAAAAAAAAAAAAAAAAAAAAAAAAAAAAAAAAAAAAAAAAAAAAAAAAAAAAAAAAAAAAAAAAAAAAAAAAAAAAAAAAAAAAAAA0P8AAAAAAAAAAAAAAAAAAND/AADQ/wAAAAAAADAAAAAAAAAAAAAAAAAAAAAwAAAA0P8AAAAAAADQ/wAAAAAAAAAAAAAAAAAAAAAAAAAA0P8AAAAA0P8AAAAAAAAAAAAAAAAAAND/AAAAAAAA0P8AAAAAAAAAAAAAAAAAAAAAAADQ/6D/0P8AAAAAAAAAAAAAAAAAAAAAAAAwAAAAAAAAAAAAAAAAAAAAAAAAAAAAAAAAAAAAAAAAAAAAAAAAAAAAAAAAAAAAAAAAAAAAAAAAAAAAAAAAAAAAAAAAAGAAMAAAADAAAAAAAAAAMAAAAAAAAAAAAAAAAAAAAAAAAAAwAAAAAABgADAAMAAAAAAAAAAAAAAAAAAwAAAAAAAAAAAAAAAAAAAAAAAAAND/oP+g/wAAoP8AAAAAAAAAAAAAAAAAADAAAADQ/9D/AAAAAAAAAADQ/wAAAAAAAAAAAAAAAAAAoP8AAAAAAADQ/6D/AAAAAAAAAADQ/wAAAAAAAAAA0P8AAAAA0P8AAND/0P8AAAAAAAAAAAAAAAAAAAAAAAAAAND/AAAAAAAAoP9v/6D/AAAAAAAAoP/Q/wAAAAAAAAAAAAAAAAAAAAAAAAAAAAAAAAAAAAAAAAAAAAAAAAAAAAAAAAAAAAAAAAAAAAAAAAAAAAAAAAAA0P/Q/9D/AAAAAAAAAAAAAND/AAAAAAAAAAAAAAAAAACg/wAAAAAAAAAAAAAAAAAA0P8AAAAAAAAAAAAAAAAAAAAAAADQ/wAAAAAAAAAAAAAAAND/0P8AAAAAAAAAAAAAAAAAAAAA0P/Q/wAAAADQ/9D/AADQ/6D/oP/Q/wAAAADQ/wAAAADQ/wAAAABv/wAAAAAAAAAAAAAAAAAAAADQ/wAAAAAAAAAAAAAAAAAAAABgAAAAAAAwAAAAAAAAAAAAAAAAAKD/0P8wAGAAAAAAAAAAAAAAAAAAAAAAAAAAAAAAAAAAoP/Q/wAAAAAAAAAA0P8AAAAAAABgADAAAAAAAAAAAABv/6D/0P+g/2//oP8AAAAA0P8AAG//0P8AAKD/b/8//6D/0P+g/2//oP/Q/wAA0P+g/wAAAACg/2//0P8AAAAAAADQ/9D/oP9v/9D/oP/Q/zAA0P/Q/wAAAAAAAAAAAAAAAAAAAAAAAAAAAAAAAAAAAAAAAAAAAAAAAAAAAAAAAAAAAAAAAAAAAAAAAND/AAAAAAAAAAAAADAAAAAAAAAAAAAAAAAAAAAAAAAAAAAwAAAAAAAAAAAAAAAAAAAAAAAAAAAAAAAAAAAAAAAAAAAAAAAAAAAAAAAAAAAAAAAAAAAAAAAAAAAAAAAAAAAAAAAAAAAAAAAAAAAAAAAAAAAAAAAAAAAAAADQ/9D/AAAAAAAAAADQ/wAAAAAAAAAAAAAAAAAAAAAAAND/AAAAAAAAAAAAAAAAAAAAAAAAAAAAAAAAAAAwAAAAAAAAAAAAAAAwAAAAMAAAAAAAAAAAAAAAAAAAAAAAAAAAAAAAAAAAAAAAAAAAAAAAAAAAAND/0P8AAAAA0P8AAAAAAAAAAAAAAAAAAAAAAAAAAAAAAAAAAAAAAAAAAAAAAAAwAAAAAAAAAAAAAAAAAAAAAAAAAAAAAAAAAAAAAAAAAAAAAAAAAAAAAAAAAAAAAAAAAAAAAAAAAND/0P8AAAAAAAAAAAAAAAAAAAAAAAAAAAAAAAAwAAAAAAAAAAAAAAAAAAAAAAAAAAAAAAAAAAAAAAAAAND/AAAAAAAA0P/Q/wAAAAAAAAAAAAAAAAAA0P8AAAAA0P8AAAAAAAAAAAAAAAAAAAAAAAAAADAAAAAwADAAAADQ/wAAAAAAAAAAAAAAAAAAAAAAAAAAAAAAADAAAAAAAAAAAAAAAAAAAAAAAAAAMAAAAAAAAAAAAAAAMAAAAAAAAAAAADAAAAAAADAAAAAAAAAAMAAwAAAAAAAAADAAAAAwAMEAkQAAADAAYAAwADAAAAAwADAAAAAAAAAAAAAAADAAYAAAADAAAAAAAAAA0P8AADAAAAAwAAAAAAAwADAAAAAAAAAAAAAAADAAMAAAAAAAAAAAAND/0P8AAAAAAAAAAAAAb//Q/wAAMAAAAAAAAAAAAAAAMAAAAAAAAAAAAAAAAAAAAAAAAAAAAAAAAAAwAAAAAAAAAAAAAAAAAAAAAAAAAAAAAADQ/6D/AAAAAAAAAAAAAAAAAAAAAAAAAAAAADAAAAAwAAAAAAAAAAAAAAAwAAAAAAAAAAAAAAAAADAAAAAAAAAAAAAAAAAAAAAAAAAAAAAAAAAAAADQ/wAAAAAAAAAAAAAAAAAAAAAAAAAAAAAAAAAAAAAAAAAAAAAAADAAAAAAAAAAAAAAAGAAMAAAADAAAAAAAAAAAAAAAAAAMAAAAAAAAAAAAND/AAAAAAAAAAAAAAAAAAAAAAAAAAAAAND/oP8AAAAAoP9v/wAAAAAAAND/0P/Q/9D/oP8AADAAAAAAAAAAAAAAAAAAAAAwAAAAAAAAAAAA0P8AAAAAAAAAAKD/AAAwAAAAAADQ/6D/AADQ/9D/AACg/9D/0P8AAAAAP/8//6D/oP8AAAAA0P/Q/wAA0P8AADAAMAAAADAAMAAAAAAA0P8AAAAAAAAwAAAAAAAwAAAAAAAAADAAAAAAAAAAAAAAAAAAMAAAAAAAAAAAAAAAAAAAAAAAAACg/6D/0P8AAAAAAAAAAAAAAABv/9D/AADQ/9D/AAAAAAAAAAAAAAAAAAAAAAAAAAAAAAAAAAAAAAAAAAAAADAAYAAAADAAYAAwAAAAAAAAAAAAMAAAAND/0P/Q/wAA0P8AADAAAAAAAAAAAAAAAND/b//Q/wAAAAAAAAAAAAAwADAAAAAAADAAYAAAAAAAAAAAAAAAAAAAAAAAoP8AAAAA0P/Q/wAAAACRAGAAAABgAJEAAACg/6D/oP9v/wAAAAAAAAAAAAAAAAAAAAAAAAAAAAAAAAAAoP8//2//b/8O/wAAYAAwAAAAAAAAAAAAAAAwAGAAAAAAAND/0P/Q/9D/0P+g/wAAMAAAAAAAAAAAAAAAAAAAAAAAAACg/wAAAAA//6D/0P/Q/wAAAAAAAAAAAAAAADAAAAAAAAAA0P/Q/wAA0P8//wAAAADQ/9D/0P8AAKD/oP/Q/9D/AAAAAND/0P8AAAAA0P8AAAAA0P8AAAAAAAAAAAAAoP/Q/wAA0P+g/wAAoP8AAAAA0P/Q/9D/AAAAAAAA0P8AAAAAAADQ/wAAAADQ/wAAAAAAAAAA0P8wAJEAMAAwAJEAYAAwADAAYAAwAAAAMABgAGAAYAAAAAAAkQDBAAAAAACRAAAAAACRADAAkQAiATAAYACRADAAkQCRAGAAYABgACIB8gDBAMEAwQBgADAAkQAwAGAAkQBgAGAAwQCRAJEA8gDBAJEAYADyAFMBkQAwAJEAkQAAAND/AABgAAAAMACRAAAAAAAwADAAAAAAADAAAAAAAAAAAABgADAAkQCRAGAAMACRAAAAAAAAAKD/P/8AAAAA0P/Q/wAAAAAwAMEAkQDyAG//HP6g/zAAoP/e/m//AACg/2//b/8//+QBBwMAAH3+oP9v/0z+HP4AAAAA0P9gAAAAAABgADAAAAAAAGAAMAAAADAA0P8AAGAAAAAAAAAA0P8wAJEAkQDyAMEAoP+t/tD/0P8AAKD/7ASEKOo9bh+LBH0FAAAZ8Jvqxu6B80X7FQI4A/kD7ASDAQ7/tAHQBj8GwQCY/FHzCurZ6dPtj/I9+ND/YgcrC1wLqAlNBaD/Wv2g/zAAUvqd8YDssOxJ8F/y1fQw+Q7/BwM4A9cCyQNFAlr9e/d09IHz4vMF9Rr3kPmm+4r9oP/JAyQIwwcqBBUCtAHBAAAAHP5S+pD55Ppo/Bz+AADXAloE+QOYA6YCYAAwAGAAP//I/Cn9HP6t/j//IvqD+kcJOhF/DGgDqRBnQ/8/uwTDB0MbkQAu8vH5bvi59nYC3gXzBy0SlA5NBX8MQhTEDjkKCQq0AdvwsOzV9Cj2WPbB+fIAOQqhDUgQNhzlKM8fXAt3CagJUfPs3Xfi5+jS5k/sMPmDAYsERQKmAjkKQQ2FCGAArPcE7h3lRuJj52Xu2/A88Q347ARxDYwLTQVTAUUCWgTyACL6evBI6fzqevCB89z3+fyRAFwLqRCYA2b1LvJS+jAAff4p/fIAyQMwABT7PfjB+QAArgVaBGAA5AExB6AGAAB9/pEAdgJ2ApoKSx6RICUPFQK7/UX7//gN+G743v4eDHkQ5ggeDAIOpgJM/gAAfQXtC0cJff4i+j//5Po29XX7AACgBjoRVg9UCB4MhQis9xnw3PcAANcC1wJ9/m74ufbB+YP6rPeRAOYIHAVoAxUCpvtm9Z3x/vFm9XX7Wv1L97n2iv1a/bP6Kf1gAJEAP//W+274Dfhu+Hv3Gvc9+BT7Dv+DAVMBu/1o/GAAYACY/Af8u/1v/1MBMAAp/cj8iv1v/3YCtAEAABUC+QODAev9Wv3Q/+QBgwE//8EAaAODAQ7/HP59/gAAWgQPBq4FPwaYAzAADv/I/D//tAEiAZgDmAMiAfIAIgGYA5gDYADyAHAGuwRM/g7/kQCg/7QBfQViB/MHmAPI/Bz+mAP5A9D/Dv8HA1MB1vt9/osEOAMc/jAArgXyAJD51vut/uT6Kf3JA00FoP/x+eT6HP4AAK3+Rfum+zf81vu7/Yr9yPzBACoEdgLeBZgDifaB88/4pvsO/7QBWgRNBTAAMPmz+vIAMAD5/MEA7AQiAVL6e/cH/Nb7Uvq0AU0FUwFgAH3+mPze/uv91vt2AkcJBwMH/Kb75PoU+6D/KgRiB6AG+QMO/8/4N/x2AsEAwQC1CL0LWgQc/hz+AAAAAMEA5AEAABz+pgJpCgkKAADW+0UCyQMc/n3+1wJFAgAAiwTJA8j8rf6mAsEAdgKgBioEAAAAAAAADv99/tD/AAAAAGAA6/1M/nYCIgHW+7P6AAC1CNgJkQCK/cj8KPbH9cj8AAC0AZgD5AFoAxwF8gBv/wAAb/8AAMEA3v7r/Zj83Pdg+Q7/gwFNBfMHWgSmAuQB8fkT9Hv3s/qK/YMBtAE///n8iv1gAIMBAAB2ArsErf4N+EX7YABM/qb7oP8HA4MB0P+t/gAAWgRaBPIAkQAiASn9B/wAAG//B/z5/AAA5AFv/yn9tAEHA6D/wQD5A5gDwQAwALQBu/2K/XYCUwE//zAAmANaBDAAN/yK/cEARQJ2AuQBwQDQ/1MBTQWmAvn8g/r5/Ov9Dv8VAgcDP//I/K3+AACYA+wEYACt/lMBtAFM/n3+b/8c/j//Dv/5/DAA+QPQ/9b7rf4VAiIBb//XAhwFUwEc/oP6MPlF+8j8Wv3Q/00FYgc4A8EA3v6m+1r9iv27/bQByQPkAZEAYAC0ARUCMAA//4MB0AYcBYr9g/qt/oMB0P8U+/n8pgJaBLQB3v4O/wAAAABgAKYCBwPBAJj8FPvQ/yIBIgHQ/4r9UwH5AzgDWgS7BIMBAAAVAoMBKf1F+z//AADQ/6YCHAU4AwAAAABFAtcC5AFoA1oEYAAAABwFiwSY/Br3z/iY/GAA1wJFAuQBpgJTAQAAMAAAAAAAtAEAAKz3ifYp/dD/Wv03/MEAuwSLBPkDpgIAAGj8s/re/m//z/gF9TD5AAC0AQAAIgG7BD8GiwQHA6YCAADe/j//ff6K/Uz+ff7W+7P6AAD5A9cCtAHBACIBAABo/H3+Dv9F+w7/yQMVArQBAACm+4r90P8wABwFFgl3CZIHKgQAAPH51fT39d7+mAMVArQBdgL5A+wE1wIAAJEAmANiB9AGgwFv/5j8Pfhg+W//AABM/rQBOAMiAUUC+QODAQ7/kQDkAX3+Ivoi+rv9kQBTAdD/yPz5/DgDwweuBXYCkQC7/Qf8pvtF+8j8P/+g/2AAb/+z+hT7MADQ/yn95AGuBdD/mPxTAZEAdfuD+hT7s/rI/Kb76vZ796b7HP60AXcJJQ/DBz34bPEo9jf8b/83/D34rf53CfwRChHDB9D/3v52AiIBAACmAsEARfsU+9D/8gCRALQBmAPDB+0LqAkHAzAAUwFTAdD/6/2z+ur2UvqRABUC+QM/BioEtAFaBOwEpgIiATf8S/es93v36vYU+97+3v5gALsEPwauBQ8GtAFS+jD5dfuQ+Sj2S/em+wAAkQDyALsETQU//1L6g/p1+2j8N/zW+33+0P8p/Z74S/fk+iIBiwRFAgAATP5M/pEAkQDe/pj8yPxM/jf8B/xgALQBwQDXAloEpgIwACn9s/op/TAAIgGmAiIBYAAAAPn8+fwAAHYCRQKDAfkD0AYcBfIAkQA4A5gDFQJ9/gf86/3e/n3+MAC0AbQBFQI4A+wEWgSmAq3+//hg+Rz+tAHkAcEA8gA//8j8Dv+RADAARQIcBRwFIgFa/Wj8FPuz+rv9AAAAAPIAyQPXAmAATP7r/QAA5AF2AskD+QNgAFr9yPx1+3X7u/0O/2AABwPsBD8GKgSt/gf8TP7yAKD/aPy7/QAA5AGDATAAaAMPBpgDRQIiAVr93PeJ9jD5Ivoi+rv9yQOgBt4FaANTAYsEFgl3CXAGYAAU+274KPZD9Mf1g/ryABYJcQ1xDeAMCQoVAlL6nvgU+7P65PqY/Ir93v6g/z//b/8AANcCdwnKCt4FrgWuBUz+WPZD9Pf1IvoAAOwE7ARgAND/kQAVAhwF0AbzB/MHWgQ3/EP0gfNY9jD50P/5AxUCpgIPBosE0P/5/K3+5AE4A9cCRQIiAUz+kPmJ9tX0WPYH/BUCAQdcC+AMAQcO/7P6Pfi59s/4ff60AeQB8gAO/zf8oP/XAiIBtAGYA4MBYACg/5j8aPwAAIMBtAEVAsEATP4c/tD/AABv/w7/Dv9v/+QBcAZHCRwFu/2m+2j81vut/oMBMACg/3YCTQXXAn3+TP4AAG//gwHzB9AG0P/5/Af8s/oH/Ov9TP4iAXAGwwdNBUUCwQAAAAAAP/+t/or9kPmz+pEAwQAp/Sn9P/9M/hz+MAA4A0UCMACm+zb13gWCGncJQ/Qo9iL6z/gw+ZD5pvv5A+AM+wqLBH0FYgf5A0z+bvgw+Zj8kPms98j87ARpCmIHIgHJA4wLYgfBAAAAAAB9/gf8//hS+n3+AAAwADgDqAngDLsEUvpg+ev9AAAVAnYCrgUWCeQBifaq8Gb1TP5FAq4F0AagBhYJ8wfQ/6b76/1v/wAAgwFFAsEAoP9v//n88fmK/QcDKgRoAzgDwQCg/2AAoP+7/QAA5AEAAEz+0P8VAuwEcAYPBqYCoP/Q/9D/Wv0p/QAApgIPBiQI7ASDAUUCBwPQ/0X7g/pS+mD5yPwwAAAAUwF9BeYIFgkPBvIAHP7r/Sn9mPyg/xUCAADI/Cn9Dv/Q/xz+iv12AqAGKgTsBE0FtAHQ/wAADv/I/OT6//h79yL6RQJwBvIAAADXAvIAN/ww+YP66/1gANcCKgTXAoMBAADr/bP6kPkH/A7/0P8AAK3+Kf0c/jAAwQAAAMEAwQAO/z//ff6m+2j8Dv83/Nb75AE/BskDkQAAAD//0P9v/7v9ff4AAGAAoP99/rv9B/xa/fIA+QOYA30F3gVgAK3+Dv9g+bLz6vZ9/skDtQgeDJoKrgV2An3+UvpF+3X7z/iz+hz+iv35/ND/FQIHA4sEYgeFCKgJPwY3/Jf13Pfx+Q34e/fx+Qf8P/+0AfIAgwEqBMkDUwGg/yn9yPzW+5749/VY9pD5B/wc/uQBMQftC5QO+wquBQcDYACg/w7/IvpR80nw/vGX9fH5P/8cBSsLmxH8EWkK3gUqBAAAIvpY9ur2Pfj/+Df8Dv9TAXAGCQqhDRgQ4AzeBYMB0P91+8/4pvtM/pj8FPto/KD/+QMBB9gJTgzKCnAGwQA3/Af8ff6K/cj8ff7I/BT7AADDB2kKCQq9CzMOEA2FCKYC1vuJ9kP08PKk9HX75AHsBHAGwwdHCXcJoAZFAgAAiv1u+NX01fQN+FL6nvgo9tb7WgQBB8MHdwlcCwkKWgSt/p744vOy8+LznfFR83X78gAHAzEHOQoxB3YCFQLXAgAARfso9rLzKPbP+Ev3nvje/nYCWgS7BA8GdwnYCewEMAB9/nX7S/fV9In2yPzkAZgDRQKmAhwFfQUqBEUCwQAAACn98fme+G74bvh1+wAA7ATDBxwFMAA//zAAUwHkAYsE0AaYA9b7DfjB+cj8ff7e/tD/gwHJAz8GwwcxBxwFP//P+J74Dfj39ZD5rf4AAPIAfQVHCeYIwweSBxwFgwFv/4P61fTi89X0KPaD+gAAHAX7CkgQlA6uBd7+iv2Y/OT6z/gN+G74//gi+n3+BwPsBKAGqAkJCjEH1wIO/wf8//j39RP09/Wz+gAAuwSuBZgDaAN9BQ8GTQUxB2IH0P829Y/yZvU29RP0MPnyAJIHaQo5CvMHAQeSB7sEAAAO/97+pvsa9/f1z/ha/ZEAWgQBB5oKEA0JCuwE1wKmAtD/Uvq59lj2Dfh1+63+oP8iAewEJAj7CkEN7QtiB0UCAAAH/Pf14vPq9pj8dgJNBQcDMACg/9D/UwEqBNAGAQeYA6D/dftL90P0Q/Ss91r9FQLeBd4FmAMVAuQB8gAAAK3+HP4p/db7pvtF+274l/Ua99b7tAHYCSUPQQ19BUz+YPl798f1BfW59qb7AADBABUCWgQHA7QBKgTeBWgDAAC7/db7YPn/+Df80P9FAuwE0AYkCOYIDwYiAd7+3v7Q/33+yPy7/aD/P//r/fn86/0iAT8GCQpODO0LYgfkARz+Rfuz+mj8iv3e/gAAMAC0AaYCgwF2AnAGFglHCRYJ7ASY/In2x/W59p746/12AloE7ASgBjEH+QMiAfIAgwFFAloEpgKg/33+mPwa93T0e/dF+xz+dgKSBwEHRQJ9/jf8B/w3/Ir9kQBoA5EAUvpm9QX1//jI/K3+RQJUCNgJYgfeBaAG+QOY/Ev3nvjx+fH5FPta/T//AADBAMkDwweoCUcJAQdFAhz+5PrH9Y/yZvWz+q3+pgJiB2kKXAt3CZgDAADBALQBUwEwAOv9Uvpu+Nz3kPk3/DAAHAUxBz8G1wJgAD//pvue+MH5+fyRAAcDdgLXAqYCMACt/tD/kQAiAeQBb/9F+//4nviQ+Vr9YABgAGAA5AHkASIBMACt/sj8iv2g/zAATP51+wf8iv0p/Zj8Wv3BAIsEPwYHAw7/TP6t/j//AADQ/w7/rf5o/CL6mPwAABUCKgQ/BoUIJAg4A4r9wfmQ+XX7TP6g/wAAIgHXAmgDtAGDAckDyQNTASIB8gC7/ZD5z/hF+xz+gwE/BjEHKgSDAdD/HP51+574z/hS+pj8AAAVAsEAoP/BANcCkQBM/vn8N/z5/N7+oP/e/j//P/9M/qD/5AFFApEAAACRAG//dfuQ+Tf8MAAVAlMBYAA//4r9N/zr/QAAwQDyAPIARQI4A0UCAACg/wAAkQDkAdcCtAEAAOv93v4wAMEAAACg//IA5AEiAZEAMAAwAGAAAABM/j//tAH5A5gDaAPkAQ7/mPzI/Ir9P/92Ak0FPwbQBhwFwQBv/2//6/3r/aD/wQAHAxwFPwYcBTgD8gAAADAAwQAAAG//AAAAAGAAAADQ/8EABwO7BE0FiwQHA7QBAACg/9D/Dv/e/lr9aPw//+QBFQJFAhUCkQBv/w7/b//Q/9D/u/0U++T6iv2g/9D/Dv8//wAAAABv/z//P//r/Yr9rf6t/mj85Pp1+8j8u/2t/tD/YABgAND/Wv2m+9b7Wv0//2AAFQI4A3YC8gAO/33+0P9gAKD/ff5v/+QBmAP5A/kDBwPyAMEAUwF2AiIBAAAwAAAArf4p/fn8Dv+0AbsEMQckCKAGWgSDAbv91vuK/T//oP/kAYsEiwR2AtD/3v6t/g7/b//Q/zAAAACt/sj8UvoN+P/4mPzQ/9cCiwSLBNcCYAC7/SL6z/hS+pj8HP5M/vn8s/pu+D34pvvQ/0UC7ATeBaYCDv8H/PH5nvhu+BT7AAAHA8kDWgRoAwAAu/19/gAAIgHyAAAAb/9M/gf8mPwAAPIA8gB2AskDBwMiAfIAFQKDAQAAb/8AADAAb/+K/Zj8+fyK/X3+IgGuBcMHcAZoA5EA6/3W+5j8+fzI/Pn8rf4AAAAAAABgAFMBIgE4A3AG0AbJA1MB0P/k+rn2S/eD+tb7pvut/skD0AZNBckDDwYWCTEHgwFM/in9pvtg+c/4UvoU+1r9AAB2ArsEYgeSB+wEmAPJA9cCwQCt/vn8yPw3/Af8u/1gAAcDiwTeBaAGoAZaBLQBYADBAMEAAACg/+v9Wv3e/tD/AACRAOQB7ARiB2IHTQX5AzgDgwEwAKD/TP51+8/4MPkp/TAAkQBTARwFhQiFCE0FRQLyAAAA+fwH/Gj81vtS+iL6yPxv/wAAMAB2AhwF3gWLBIMBAAC7/ab7RfuK/W//ff6K/cj86/0AAGAAMADBAKYCKgQHA8EAAACt/rP6e/ca98H5aPwc/jAAOAO7BCoEFQJTAcEAAADQ/xz+N/yY/Ir9mPwU+8j8AAAHA+wEHAW7BAcD0P/r/d7+0P8AAGAAYADQ/97+aPyQ+SL6Wv0AAMEARQK7BH0FyQODAQAAAAAO/+v9+fzI/Ir9ff5v/33+Wv1v/0UCmAOmArQBFQLkAdD/6/1M/n3+Wv03/Fr9AAAiAQAAb/+g/wAA5AHkAfIAtAEVAsEATP4U+8/4kPmD+pj8Dv8AAAAAkQBTAWAAoP8AACIBtAHBAG//6/2Y/Kb7RftS+jD5Rftv/8EAkQAiAQcD1wLQ/33+AADBAND/+fw3/Pn8mPym+8j8ff5gAJgDfQVNBTgDIgHQ/1r91vvW+1r9oP9gALQBpgKDASIBUwEiAVMBFQJFAkUCIgFgAKD/u/1a/dD/FQI4A/kDKgRaBKYCAAAO/9D/AADyAAcD1wIiASIB8gDQ/33+rf6g/wAAMAAAAGAAAAAAAMEAgwG0AZEAAACg/wAAIgHyAAAA0P8AAKD/iv1o/K3+UwF2AskDuwR9BRwFaAODAQAAP/+g//IAYAAAAKD/AABgAOQBaAPsBD8GoAbeBWgDIgG0ASIBAACDAbsE3gWLBFoEDwagBn0FiwRaBEUCAAAAAPIAdgKLBKAG0AZ9BRwF3gVNBewEfQUqBPIA3v4c/tD/5AHXArsEMQfDB64F1wJTAeQBUwEAAND/AAAO/+v9iv2t/gAAAAAAAGAAtAHyAAAArf7e/jAAwQCg/33+3v6K/eT6FPu7/W//P/8//wAAYADQ/2//Dv99/hz+B/zB+VL6aPx1+//4wfl9/kUCFQLBAEUCpgI//0X7g/qz+oP6Rfto/Pn8mPxo/Gj8mPwp/ev9Kf03/K3+MAA//wf8B/yK/eT6S/d79zf8HP6z+jD5pvu7/db7z/gw+Tf8Wv3W+8H5kPki+nv3ZvUa9yL6Rfuz+mj8b//e/iL6e/dg+cH5e/fH9ff1ufYo9lj2Pfiz+rP6RftM/q3+mPx1+8j8aPz/+Pf1bvim+//43PdF+0z+HP7W+1r9b/9v/6D/wQBgAAAAoP8c/iL6e/ca90v3Dfim+/IAuwRaBH0FYgc/Bq4FPwa7BCIBAAAAAH3++fzr/QAAtAFNBcMHJAgJCn8M7QuFCJIHAQf5AxUCTQVwBtcCBwNiB7UIYgcJCpQOGBD1DucPSBACDisLCQrmCD8GrgUBByQItQiaChANlA5IEJsRLRKbESUPEA0eDIwLCQokCCQICQqaCowLlA7MEVATLRJWDxANXAu1CH0FKgRwBoUIdwk5Cr0LcQ31DgIOvQsrC2kKkgfJA2gD7ARaBAcD7ARUCOYIFgk5CgkKJAjeBbsEKgQHA2gDWgSLBIsEiwRoA0UC8gDyAFMBUwEVAjgDKgSLBLsEyQPyAKD/6/1a/Vr9iv2K/fn8iv1v/wAAAAAAAAAA3v7I/EX7Uvqe+Ln29/X39Xv3kPki+uT6s/rx+f/4bvhL91j2NvV09AX1pPRR84/y8PLw8gvxle4E7mXuNO7T7WXuh+/27oDsm+rZ6Wvq2emU50Dm9ecC55rjJOEk4XfiMeC73THg++MW4rvdi93Q3w7fmNzs3W/fKt2m25jcFNtL1zbVx9V818HZWt0/3w7f++Mz5wHgPdjW25LgKt2m25LgcebE5x3l3+UX6dnpJeh46cbuv/Js8Tzxl/WJ9i7y8PJo/AAA1vuK/U0FcAbBABUCOQolDwoR7xKIFl8ZPBhlFeETchSdGCgdex7WIncpyiqaKhAtlC7SLTMuhi8XMCUvcS1xLbYvzDHMMZsxxjVeOb85bDh6N9s36DawM74ygDNPM2sxVS8CLn4smir7Kr0r7SvtK70rHSwrK5In7CRoI7MhMCDqHTYcQxvAGdsXlRWVFZUVoxSjFEIU7xJrEVYPrwxpCkcJCQqaCtgJJAgxB3AGuwQHAxUCRQL5A4sE+QPJA+wEmAODAWAAkQCRAAAAAABgAGAAAADBAOQB8gAAADAAIgHyAAAA0P8AAAAAAADQ/2AARQIHA2gDBwN2AlMB0P+K/Qf8dftF+4P6s/pF+3X7RftF+6b7FPvB+c/4S/dD9AvxJ+9C7fzqF+lW6Bfphuhx5h3lfuW95FThHN753Jjc/9gh00rQetCVzgrKQcZjx2vKhsi9xO3EQcaowge8rLdLt6W0lq5Cremv1K3aqV6rxq41rqOtuK+ltKy3BrUhs5e1S7eltASujqttsWC5YLkGtWi8vsv2zpTH9cfV1MncrNfw0qbblOd+5d7e9edL96b7e/cH/EENVxYzDuAMwBkUIlkdPBjcHrUoryyMK04sVzaDQZhDzz8HQxBNtk8ISmlKH1NkVTJOvEssUgNVY05OTCxSuFaiVCxS01Q7WPZV508lT1VPp0kHQ/8/YEDqPfA5bDheOfA5STe+Mqkwhi9+LNAm8iBLHj0f6h08GF0S7xJlFfwRygrDBysL4AzDBxwFwwckCJgDAAAO/yn9s/o9+Hv3YPmm+8j8u/3Q/3YCmAPXAk0FhQjQBhUCIgFoA9cCUwGmAmIH7QvgDPUOgBPpFvYVJxZfGaQbghqdGPAZdBtRGmwY8BnHHIkdKB0bHvIgpiJFIhQi1iKmIvIgGx6kG/AZehcEFY4S/BH8EToRtw+UDgIOvQsBBwcDRQIwAAf8Pfj39YHz6O/h7O7rjusK6nHm++N34q3ebtiC053Rq9CAzMTHlMfSxkfCWr1FuzC5l7Uhs8Cyj7JRsy+yxq5QrDuqVqivpfSgW52Lneyd8pmKlnyXI5qRmSmWG5d2m92XzpGCk92XAJndl6CfBK7+sW2xDbjDwHa7iK9KsG64z7iPssi1acPGzs3RV8/q1vXnV++p6S3rMPkqBGAAPfjBAIYPeRDKCr4SfSW9KzEnFin2NXs+UTqPOd5F50/tS0ZJtk9BVAlRMk7uUtpXLlkFXPFgG2UOZq1lrWUGY85f/1+5XfBZLlmcWMVVvlLuUnJUvlKGT/ROJU8rS+tEzz/HPEk3OjGULt8sCCo/JvkjpiJuH+MaqheVFYATOhEzDsoKtQg/BmgDYAA//97+aPxS+pD53Pf39QX1E/Q29Tb1NvWs9574Gvf39ff19/WJ9hr3Pfh1+0z+3v5v/yIBOAO7BKAG5ggrC+AMxA6pEI4SgBOjFEoX/hhRGmYcGx6sHnseDR8wIFMh5CFFIpgjiyTJI5gjiyT5I3UiFCKmInUiIiFuH9weiR1DGzwYiBaVFR8TGBAzDk4MtQjsBLQBAAC7/SL6GvcT9C7yV++O61bor+Wn4ovdYNm61oLTV8+AzL7La8r1x73EysOawz+/DbhRs/CyerBIqSykoqa3qGqjP593ojOn+6PJnIudaqMBoEyX65aEmm6YuY8gjKuQwJL3jpyKJ4/lmq6e5ZoPn/2qgrMZsAOnO6p0tG2x7qSipny3VMEqvZm8c81N3qzXJ88c3ifv3+UU2y3rDv8H/F/yu/1dEh8TKwtyFMMnEC2gJncpjzkHQxo+XjlnQ4ZPfkz5Q/pKzVi/WZVVUVpaZLRo0GZMZbRo7GsIat1lTGUVaYRoFGI9X2dj62R7XpZcImGQYBJbGVdXVrBTY06ESN5Fu0TkQUs+pDuPOZU1qTArK0wl5CGeH5ccghqPGWwYVxY6EU4MaQokCAcDAAAAAG//dfsN+Ev3WPbw8knwPPEg853xle4n7+jvQu2+60LtV+8L8b/y6vbP+Br3bvim+1L6Dfjx+W//UwEAAEUC8wd3CfMHdwnSDToRjhKjFDwYshohGvAZ+BxuH9wezx/WIhwlHCWLJK0lYicxJzEnVCi1KLUohCgxJ+wkySNFIm4fex5uH6we4xo8GP4Yqhf8EZQOVg8zDuYIyQOmAiIBB/xY9rLzzfEE7kjpxOeh5jnjP9/53EXbbtjV1AvRQs15yU7FhcHsvQe8tLqRuc+4PrgNuKy3pbQ8sVevjqszp6+lTqUJozKgk6D7owmj7J28nVWhoJ8VmyOaRZu0mhuX1ZTrlkyX45OCk92XhJoVm1ud5qF/pYaoqanvq3qw27DbsFm217uRucG5TsUnz0LNLcvj097e0N+Y3Kficu3+8Sj2pvtgAPMHXRIEFUIUBRwxJ3cpMSczLoE6iT0gOv8/cU2wUxdQ/FHcXlpkDF+WXKVi12kxZwZjaWoRdI1yVW/gc4d2EXR4cCVvtm94cAJuK2sIaplqI2gGY9xee14oXVdW2VAJUbZPI0jWQqZCkEC/OYAzvjItMvsq1iIwIKwe6RaGD68MHgy1CIsEFQLBAND/mPye+Pf1v/IZ8NPtvuu26HHmTuX747XhkuBU4RbiheGn4lzkHeW95BDmVuhW6LboH+yV7jTuBO4u8lj2ifbH9TD5oP+0AbQB3gXgDKkQaxGAE6oXshrwGcAZZhwbHhseDR9FIhwlbybDJzkqryyhLdItYy5VLzMu7SsIKtgpRikxJ0wliyTJIxQi8iAwIHsedBudGFcW4RO3D/sKYgeYAwAAN/zP+Ln2Q/Tb8HLt/Oq26B3lteEc3lPa6tbw0pXOLcv1x+3Ed8KSwH2+aLx2u4O6Prjqtii21bTAsumvZa4SrampA6dBpqKmcabgpXGmhqjaqUipJqgDp6KmM6cepeah9KC1oRai9KDenryd3p6gn66eKp1Nnn+lqamGqAqqIbPBuWC5U7rRv2nDysNjx3nJOspf0mDZl9Wk1KDfxOcd5X7l8PIp/XX7oP8QDUgQCQq3DzYcPR9ZHZgjvjKXPIk9L0AWSV1SH1PETo1Sslq/WfZVUVqDYXViZ2M4aiVvLHI0dcV1cnQmdpx403QCbqhwJnaocCNomWqTbsJnzl+QYERiiV1XVpVVxVU6UadJ60SmQuo96DbZMN8stSiYI+odzRg0FY4Shg+9C7UIoAY4A0z+kPko9p3xH+xW6N/lyuMk4a3eKt3J3Nbbwdkw2TDZPdi61sfVl9WX1dXU1dQ21SjWDdiR2bTa+dzD4JrjfuX15y3r0+2H783xdPQa9yL6N/ze/t4FJQ+GD1YP2xesHhMblRWdGA0f6h2PGXseJCg5KvMnaSq2LzoxJS8zLkgwzDFjLvsqjCuvLFwrVCjDJ+Uo8yccJUUiUyHPH6QbnRh6F3oXBBXnD0ENrwyFCCIBDv+g/2j8WPZD9NX0IPME7grqhuiv5QHgtNrP2HzXQ9Q80dvQbNFK0ATOEs1zzfzKosaawwnDR8KSwHC/McDmwXfC88AxwMPA3r5Fu/K5tLqDus+4n7jkulq9Kr04vFq9rr4cvge8tLpTuny3BrXItWe1X7I8sbKzRLR6sB+sJ69Ztii2j7IwudLGVsh3wgrKWdYh03nJxs6m27TaX9Ju2PXnM+eY3HfigfO59nLtqvAwAHcJTQXJA2sRQxuyGtUbWiQrKyUvozQENUI0dDtaRDdDUkGMSyZWgFMyTrhW/19eWfxRIFr5Y4NhKF2YYx1sOGr5Y61lCGqSZ2BgZlyJXQVclVX8UQlRVU+8SyNIrUWKRPlDbj9JN/wxmzGhLdYiiR2sHhMbeRCaCowLkgdv/+T6mPx1+zb12/Cq8OjvSOma46fiheH53D3Yx9WJ1ijWgtOP0pfVS9c21cDS8NLw0nrQBM7Gzv7R49P41RTbMeBG4vvjY+c66pvqvuuV7v7x1fQa94P6ff7BAAcDcAb7CsQO/BFXFjYcwSDJI94l5SgdLE4smip3KTkqyioIKggqYy5yNOg2ejd0Oy9Abj/VO4E6XjmjNOcvMy5ALVwrmiq9K68sHSy9Kx0saSo/JtYiYCBZHS4Z0xQtEucPTgxUCN4FKgTyAH3+mPx1+//4KPbi853xNO7M6mPnaePQ36bb3Nco1nTUgtPw0hPUl9Uo1lnWidYb1zbVzdHGzqPNXcvSxvvDvcS9xKjCqMLgxbfIqck6yu/Lc80fzKnJJcivxYXBTb5avTi8YLnBuaa7prsVu9e7u71ovOq2RLT4tS+yean1p5auIbPOsSGz+bwzx1bIEMZ5yQTO/MoCx2vKJ880zvbOPdgq3brW8tnS5sTnTd7D4I/ys/o29WD5aQqAE70LygrbFz0f1RsuGT0fjCstMhcwBDWeP0xFTEWKRJJHHUxjTspK5UgXUHpXqlf2VbJag2E9X5xYIFoMX0Nb/FFdUklXgFOhTRBNoU3KSq1FdULxQEs+gTq4NvwxMy5cK2IngyFZHY8ZQhSGDysLrgVgAJj8wfms9yj2gfOd8bjvEe0X6e3kteFv38nckdn/2OTa5Nrc1/jVntj/2GbVgtPV1EvXidbV1M/Y3t4B4K3eRuIl6MzqzOof7FfvX/IT9Cj28fmK/QAAaAPQBncJMw78ER8ToxSdGAUcex7WIisrFzBIMIAzLjnwObAz2TAENWU1mzEfM7I6L0D/P2BATEWESJJHrUU/RtBGmENLPmY8lzxeOXI0gDPGNZU1TzOpMLYvYy6aKg4mKiTJI4MhNhwLGFcWHxPtC94FWgQHA9D/Wv3I/HX7rPe/8ofvH+wz59jib9+Y3DDZl9WC0yHTLtKr0HrQbNGP0s3RV880zrHMqcmixu3EOcPDwH2+u727vfm8Wr3RvxbCtcHmwZrDXMTmwX2+7L0Pv6a7DbistzC5G7fAsl+yBrWXtV+yq7BEtEu3/rGpqeeoLavupNebTZ5IqR+sGKmjrSq9K8SZvCK6qMJjx4XBi72GyCHTJ895yf7RmNye2I/SYNnt5N/lRuJP7Gj80P9o/HYCqRDbF5UVxhX/H4QoiyQHI34shzbNOF45/z+nSQJOr0yhTYBTJlZdUl1SUVqDYc5fNVzjYUZpTGXHXD1fDmbjYdpXC1gaXhJb50/tS6lQtk9vRuRBu0TIQ/A5zDEfM/wxVCgwIP8fbh8LGIYPTgx3CdcCpvsw+cH5S/df8ujvuO+V7kjpyuPY4uXhu90w2TDZFNvy2XzXfNfP2G7YfNfc157YrNd8157YU9rW25jc0N+M5GPntuhd6/bubPGP8hP0e/c3/Ez+P/92ArUI7QvgDOcPNBULGGwYZhzJI5InMSdpKmsx4TPMMU8zzTikO145IDrPP9ZCIkFSQVpEb0agRgBH5UgISrVIYUfQRt5FKUQUQj0/Gj4oPVE6STdlNeEzSDB+LMoqmipUKJgjMCCsHoIa4RPnDwIOCQrJA/IAAABo/Or28PKq8LDshuh+5Wnjw+DJ3MHZG9eC07jPEs1dy9rJ9cfgxVzE+8PKw6jChcGowozEXMTYwubB5sGgvwe8wbkAuQ24z7iDuqa7i72gv1TBw8Cuvq6+3r75vMG5MLmDusG5urbItQ24ALkotkS0ALlFu2e1GbAMscCy966Up0Gmsaw8sRmwxq6JtgnDXMTXuxy+scwnz2nDw8BK0FPaC9E0zrTacea95NjiCuoF9W74zfGB863+mAMAAAAAygoZF6QbQxt1IoYv/jg8OC0yPDiZSgJOnj97Pl1SiV2pUJJHqlfQZjVcy1FtX4xrrWVYXaViymrlaKtec1vjYdxegFO2T3JU01TRTYRIFkn6Sg5G6j2POeg2azFGKeQhPR//H+MaeRAzDswRvQsAADf8Wv1L93LtSOn86jrqyuOt3gHgheFa3azXutb/2HzXLtJ60HTUQ9RlzhLNj9I21avQZc6C027YidYT1J7YoN9U4W/fFuLn6BHtvuv86lfvE/T39az31vvyAIsEoAbYCZQO/BHhE8YVshpuHxQiHCX7KgoxsDMENXo3BTxuP6w+iT2QQIpEHEUpRN5FmUodTKdJFklOTBBNCErlSJlKykpUSNBG0EbeRUVCrD6XPFE6ZTVIMHEtKyvQJqYiPR8oHfAZxhVdEpQOmgpwBrQBWv0i+nv3UfPG7k/sCuqv5bXhfd4H3G7YNtXA0qvQNM78ysTHr8U5wyTBoL+uvlq9aLxava6+3r6gv1TBmsOMxPvDjMSMxDnDksAPvxy+u71wv+bBK8QzxwrKgMw0znPNUMxzzTTOUMxrypvKEs2AzHnJa8qjzRLN2sm+y/bO78tIye/L/MoQxlzE+8P7wx7F0savxaLG9s6X1ePTStDB2WvqY+co1jDZPPFR8xTbgtOA7D//H+wi2i7yEA27/b3kdPRrEQIO//h2Apgj8ydXFmwYMy7GNZInwSBALdU7jzktMqo33kU4SjdDkEAISptRjEs3QwBHF1DRTetEikRjTl1SmUpMRbxLjVJUSBM7ZjzkQVE6oS3fLEgw3yyYIw0fMCD4HIAT0g0YECUP0AaDAfkDWgRo/KT0NvUF9Y7rFuJp473ki91u2LTaydxT2s/YItq02g3Yx9Vm1RPULtJf0hPUgtNR00vX5Nry2W7YRdsO333e+dzD4NLmJej154Ds8PJm9Tb1rPdo/D//AAB2AtAGKwuUDvwRVxYFHIMhiyTQJsoqVS/MMY0y0zTNOAU8rD4UQt5Fd0mMS+1Lr0wyTvROY07fTEBNxE4CTn5MQE0yTq9MaUrYSdhJ80cpRORBkEBYPc04lTVdMtIthCg3I2AglxzbFxIUChGhDTkKcAYHAwAAB/wN+IHz9u4f7LboK+RU4W/fKt1T2urW1dSC06vQEs0ty6nJM8cexVzEK8QrxFzE7cSUxxjJ2smOyzTOJ89Xz1fP6c8Z0ErQJ89XzwvR/tFf0qTUrNfy2abbTd614Xfi2OJO5U7lRuIx4JLgMeBa3Qfc3t6F4T/fKt0x4AHgg9pu2EvXIdOxzPXHJchjx3fCMcBBxh/Mm8qAzHTU+NVZ1m7YIdPA0lPautY6yszKYNla3cDSV8+73bDsFuLA0kbi9/Ut6yrdOuq7/cj8UfPx+ZoKhg84AxwFNhx1IqMUlRUWKWsxYic9HyQolTVVLzAg0CYgOrI6oS3ELmBAp0kvQNs3YED6SuRB7jL2NQ0/2zc5KoQo2TByNN8srSUIKiUvfSWPGbIabh/+GBANygqOEvwR3gWg/00FPwbk+lHzwfkO/4n2H+xl7qT0GfBc5EbieOkK6oXhDt8Q5njpmuPD4KHmXevn6MrjXOQl6HHm8+CF4ZTnCupj53jp/vFu+Nz36vY3/IMBwQDQ/3YC8wfYCRYJKws6EekW/hiyGj0fbybKKh0slC4fM4c2STf+OIk9s0GzQXVC0EZ3SeVIRkntS9FN0U3fTEBNAk4dTKdJ80dvRt5FrUWKRGdDZ0N1QvFAGj4TOws4cjQlL8oqMSdFIvgczRiVFcwRlA7gDCsLtQh9BQcDMAAp/WD5ufZR8yfvvusK6sTnK+SF4cPgb9/s3WjcFNvy2azXZtVR083RetAnz/bOStA80V/SstPH1Q3Y/9jy2UXbKt2L3abbItrk2iLa3Nc21TbVrNdT2hTbmNyS4JrjjOQr5NjiFuK14Q7f8tm61pfVx9UT1BnQlc4L0cDS9s6byszKqckJwyq9prtguaW0PLEvsom23bfVtLq2P7/Ywj+/HL6SwGnDY8eFwQ24HL7Myi3L5sExwNvQ1tu4z2PHbtg66ivkntin4on28fk88arw5Pp2AmgDpgKgBhIUuh3VG5ccfSXELucvVCi1KO4yBDUzLtkwXjmyOgs4jzluP2dDs0ENP6ZCYUdvRshD+UO7RDdDDT/NOHo34joLOOcvAi5CNO4yCCqSJ5oqhCieH9Ubuh02HAQVSBDZEMQORwkkCHcJPwamAhUCtAEAANb7PfhY9pf18PI88Tzx/vGd8bjvo+3T7ejvh++w7LDsqvCB82zxqvCB8yj2dPTN8eLzrPdu+In2PfhM/oMBgwF2AsMHoQ0CDlwLoQ0EFYgWHxP2FWAgPybeJfMnti9lNV0yhi+AM3o3JjZyNAs4ZjxYPYk9ez4iQeRB/z+eP5BAwUANP7k9Gj57Ppc8LjkLOJ04uDa+Mjox/DEXMCsrtSjlKNAmUyE2HCEa2xf8Ea8MygoWCa4FpgKDASIB0P9o/JD5rPek9HrwEe0K6vXnfuV34pLgb9/53CLabthL18fVUdPb0HrQ6c/GznPNo82VzsbOxs6IzwvRzdEu0lHTgtPw0l/S/tFs0YjPo80EzvbONM5zzfbOPNFf0l/SgtP41VnWIdML0avQlc6Oy1bI0sb1x3HG2MJHwhDG4MUBwBy+hcE/v3y3BrWJtrKzH6yArA24Wr26trq2ccYnzxDGJMEty2zRzMrgxTTOU9pL1wvRbtgO3zfckdnJ3Dnj9ec66i7y5PoAAD8GCQoxB7UI/BEfE4YP/BGyGoskrSWSJ5U19zyHNpU1xzxYPXo3ozQuOQ0/uT25Pd5FTkynSWFH5Uj6SitLd0mnSWlKp0mMS/pK0EZaRGBAsjroNuEzzDGpMOcvlC4CLmMuEC1pKqAm5CHqHWwYgBMKEcQOKwtUCPMHJAgcBZEAff43/G74BfWk9OLzC/FX71fvJ+9P7ArqCupI6UDmjOTE5zrqqel46czqH+y+6wrqVuhW6PXnVuhI6fzqJ+/V9Hv33PcU+2//kQBgAPIAHAXYCcoKvQs6EScWuBZ6F6Qb8iBoIzcjTCWaKmMuJS9IME8zlTUENU8zETS4Nno39jX2NfA5KD33PMc83D6QQHs+sjouOf44xjUKMSUvhi8zLmkqkic/JrskwSA2HPAZnRjGFWsRMw6MC7UIWgRgAK3+B/ye+Gb14vOP8lfvsOz86njp3+W14d7emNxg2cfVgtOP0mzRuM+VzpXO9s40zuHMscwEzmXOlc6VzrjP/tHw0gvR29Dw0vDSq9Anz+nP/tEL0ZXOuM/w0lHTIdN01OrWG9eX1cfVWdYo1jbV49Pj0wXVl9Xj0zzRLtKC03rQ78uAzHrQZc7ExzPHXcsfzB7FYsC3yHrQscx5yZ3Ri92L3dXUG9fl4RDmaNzw0n3e7utc5GDZ7N3h7Bnw2OJi4AvxFPud8e7r1vv7Cj8G3v4PBh8TvhKFCCQIchR0GzQVchTWIjMuEC3zJ2kqXTJdMqcpoCYlL6M0hi9xLYc2/z8aPrg2LjkUQjdDlzxeOSJB3kXqPZ04Zjw9PyA6FzAQLcwxvjLKKgEnHSwCLuUo7CQ/JjEnsyELGGUVnRg0FaENjAszDuAMMQdaBH0FiwSg/4P6kPnx+er2X/I88dvw0+3M6grqeOn150DmfuWh5iXolOdA5mPnY+cQ5ozkK+RO5YzkJOHl4WPnCuqG6LboNO6P8p3x2/DH9ab7B/zk+q3+KgQPBn0FwwfgDLcPSBDvEmwYdBsFHKweySPQJqAmoCZpKq8sXCv7KpQuCjE6MV0ycjQZNzw4qjdJN9s3STeVNXI07jJrMdkwti+hLX4s7StpKpIn3iV9JWgjMCDqHWYc8BknFh8TOhEzDgkKwwcBB00FRQJgADAA3v51+574Gvdm9Wzxo+3u6/zq5+gQ5ivkCOPl4WLgb98/3xzeN9zk2rTa5Nry2Z7Y/9hg2WDZkdny2VPag9pg2f/Yntjc1+rWutZZ1jbVBdWX1erW6tZL127YYNlg2WDZU9pT2v/YPdjB2TDZG9c92FPa5Npu2LrWkdk33M/YstP41WDZS9ds0VfPl9UH3P/YQ9QU29LmM+eg3xbi/Oru65rjWt226LLzqek/31bopPRs8TPnSOkg86T0Ee0R7T34Wv1u+Mf1N/w4A7QB6/0VAg8GoAZiB4UI9Q7TFF0S5w+AE9sXShdQE5sRJxZ0GwsYchQ2HOwkySO6HQ0fhCh+LA4mdSIWKfUu2Ck3IzEn7SvQJnsebh9aJNYiiR02HCIh1iLqHWYc/x89H18ZJxa4FpUV/BH1DtINxA6hDcoKqAlHCfMHiwRTAQAAAABv/3X7z/iQ+YP6nvhm9RP09/WJ9rLz/vGB89X0UfOd8WzxnfEL8fbule727pXule4Z8DzxnfFR82b1rPdg+VL61vta/d7+MADkAQcD7ATzB0cJCQoeDCUPChGpEAoR4ROIFicWZRVKF1EaExuyGgUcSx6eH2AgUyHWIrskfSV9JW8mbyZ9JbskWiQ3I+QhgyHyIGAg/x89H1kd+BzHHHQbshrwGV8ZnRhXFjQVNBVyFI4SChFIEPUOQQ37CkcJ8wc/BvkDFQLyADAADv8p/Zj8B/yD+pD5//jc97n2NvXi81/yPPF68BnwGfCV7h/sa+pr6tPtj/I88QrqlOeA7NPta+q+67/y1fRX73jpCuon70nwo+1P7NPtle6+60jp7uu47xHtqell7tX0j/If7BHtzfHN8YfvsvO59s3xxu6/8sf1svOq8LjvSfA88Rnw6O+q8CfvT+yO6zTuGfCj7e7rJ+8L8bjvQu1C7SfvNO7T7TTusOzZ6YboeOmp6RDmK+Rx5q/lMeB93iThRuJv333eheE54/Pg8+Ca4yvk5eG14YzkQOaM5MrjxOfM6hfp9efZ6R/sQu1P7LDsJ+8Z8Krwv/I29Yn2KPas94P61vuY/D//pgKLBFoEcAbKCh4MmgrKCuAMoQ3tCx4MYw6GD5QOJQ/8EYATjhIfE5UV6Rb2FScWPBjNGBkX9hULGM0Y6Rb2FVcWuBbGFXIUBBUEFUIUgBPvEvwRqRDZEEgQxA5BDUEN0g0QDYwLjAtxDXENvQtcC04M7QtpCncJdwl3CRYJhQjmCBYJhQjzB7UI5gjzByQIRwl3CSQIYgdUCFQIYgdiB1QI8wckCBYJqAkJCjkK+wq9CysLygq9C68MygpHCdgJKwsrC2kKaQorC+0LjAtcC38M4Ax/DE4M4AyhDUENcQ0QDeAMYw4lD8QOVg+pENkQGBDnD0gQqRAKEakQqRCpEGsRmxHMEV0SjhL8ES0SjhL8EWsR2RDMEY4SXRKpEBgQqRAYEIYPGBA6EdkQ5w+3D+cPVg8lDxgQJQ+vDIwLTgy9C8oKmgo5CncJqAlHCaAGTQXQBgEHTQW7BOwEOANFAoMBAAAAAAAAoP+t/uv96/19/rv9Kf3I/Kb7UvrB+c/4GvfH9Zf1pPSB8yDzj/K/8v7xqvAZ8FfvBO5C7eHsH+yb6grqF+mU56HmEObt5Dnjp+Ll4fPgoN8c3vncRduR2TDZ/9h81/jV+NU21VHT/tGP0sDSC9Enz1fP29Cr0JXONM40zpXOo82xzBLNc81CzULNxs6Iz7jPndFD1HTU1dTq1jDZtNq02uTaWt1v3z/fw+Bp4x3lQOb150jpXetC7SfvC/GP8rLzWPb/+MH5pvtM/gAA8gAiAZgD3gWgBmIHRwnKCh4MQQ31DnkQqRA6EY4SgBMfE4ATJxbpFogW6RYLGM0Y8BnwGcAZshpDG3QbQxtDGzYcZhw2HAUclxwoHZccpBtDG9UbBRx0G0MbpBsTGxMbghqPGV8ZbBjpFrgW6RaIFicW9hVlFdMU4RPhExIU4RNQE74SLRLMEQoRGBD1DgIOMw7SDeAMrwyvDB4MKwtpCncJqAkWCcMHwwdUCIUItQiFCLUIFglHCXcJOQo5CmkKXAtODB4MHgwQDaEN0g1xDTMO9Q63DxgQ2RAtElATgBPhE0IUoxQEFScWGReqFzwY/hjwGSEaIRqCGuMadBvVG2YcZhzHHMccNhxmHMccWR3HHDYc1RvVG3QbExsTG7IaghohGi4ZnRjbF3oXiBZlFUIUsRPvEi0SChF5EOcPYw5BDeAMKwvYCUcJJAgPBloEOAMVApEAAAA//+v9mPyz+pD5bvi59gX1UfOd8UnwV+8E7uHsLevZ6efoM+ff5R3lveRp47XhkuA/333eWt3W2+TaYNnc13zXG9fH1QXV1dR01FHTj9Lw0o/SbNEZ0BnQetBK0OnPiM+4z/bONM6VzvbOV8/pz0rQC9Gd0c3RwNJ01KTUE9Sk1PjVfNdu2DDZItp12wfcmNwq3Vrdi93e3jHgw+Ak4XfiveQd5R3lxOfZ6TrqCuot66PtNO7G7nrwv/J09HT0NvV79274YPmz+tb7mPyK/a3+0P8AACIB5AE4A1oEHAWgBpIHtQhpCr0LQQ2UDrcPSBCpEDoR/BHMEV0SUBPvEh8TEhRCFKMUBBU0FZUVJxb2FScW6RaIFsYV9hXGFZUV9hX2FTQVBBWjFNMUNBU0FXIUchRyFLETUBOAEy0SzBFrEakQSBCpEEgQtw+GD+cPeRCpEHkQSBB5EEgQhg/1DoYPVg/1DvUOYw7EDrcPhg9WD0gQ2RAKEQoRaxHMEZsRmxH8EY4S7xJdEl0SUBMfE44SjhKOEu8SvhItEr4SgBNQE44SXRJQE74SjhK+Eh8TgBMfE1ATgBOAE+ET4ROxEx8TvhK+Er4SvhJdEo4SvhK+Er4S7xKxE+ETgBMfE+8SgBOAE+8SHxMfEx8THxOOEswRChGpEEgQGBD1DgIOcQ1/DFwL+wr7CtgJtQjzBzEHcAZNBVoEOAMVApEA0P8O/+v9Kf3I/Kb78fme+D34S/fH9aT0UfMu8tvwGfDG7nLtcu2A7I7r/Oqp6VboM+cC53HmHeW95IzkaePY4rXhVOEk4WLg0N8x4GLgkuDD4JLgMeCS4CThheEk4SThVOHl4Xfi2OL7407lEOZx5gLn9eeG6EjpeOmp6fzqLest677rEe3T7cbu9u727ofvqvA88f7xv/K/8iDz4vND9NX0BfU29dX0NvWJ9kv33Pc9+A34DfjB+VL6wfnB+SL6s/rk+uT6FPum+xT75PpF+6b7N/w3/Gj8+fxa/Yr9u/0c/or9yPz5/Pn8+fzI/Gj8B/w3/Gj8yPwp/cj8yPxa/Vr9+fyY/Df8B/w3/Gj8N/wH/Af81vvW+yn96/3r/Yr9Wv27/bv9HP6t/t7+3v59/t7+AAAwADAAYAAwADAA8gBFAqYCpgKmAqYCBwPJAyoEKgSLBE0F3gUBB2IHwweFCOYIdwkJCsoK+wqaCvsK7Qt/DOAMEA2hDTMOMw5jDpQOlA6UDpQOxA4zDqENAg5jDpQOAg7SDZQOJQ9WD/UOVg+GD1YPVg+UDqENYw5jDnENoQ1jDsQOlA6UDmMOlA7EDmMOcQ2hDQIOAg6hDRANcQ0QDX8M4AzSDQIO0g1jDmMOlA71DiUPxA5jDgIO0g1xDRAN4AyvDK8MTgweDL0L7QtODE4M4AwQDX8MHgy9C1wLjAv7CsoKygrKCjkKaQppCgkK2AmoCYUI8wdiBwEH0AZwBhwFiwQcBewEOAOmAtcC1wLkAbQBUwEiAcEAAADQ/97+TP7r/Vr9Wv2K/Qf8RfuY/Ir9mPx1+3X7pvt1+7P65Pqz+kX7dftF+7P6wfnx+fH5wflg+fH5Ivqe+Nz3Pfj/+P/4DfhL9+r2rPcN+Or2ifZL9+r2WPZY9on2ifZY9ij2l/U29Wb1BfXV9NX0NvWX9Zf1BfWk9KT0pPQT9BP0E/Sy8+Lz4vOB81HzE/Sk9Jf1NvXV9KT0dPTi81HzgfND9BP04vN09BP0UfO/8i7yLvJf8i7yj/JR87/yLvKd8Z3xzfH+8Z3xPPFs8WzxqvCq8GzxSfCH7+jv2/Bs8WzxnfHb8NvwqvAZ8HrwPPFf8vDyj/K/8lHzgfNR84HzQ/TV9HT0Q/Sk9Jf1ifa59kv3Dfhu+GD58fnx+fH55Pqm+5j8u/27/bv9ff6t/t7+oP9gAMEAwQDBAPIAIgG0ARUCRQLXAskDKgSYA5gD+QOLBOwETQXeBQ8GrgXeBXAGfQUPBnAG3gUPBgEHYgdiB5IHVAi1CCQIYgfDB8MH8wdUCBYJCQp3CeYIFgmoCTkKmgr7Cu0LfwxODE4MHgztC38MMw6GD5QOEA0QDdIN0g0zDucPzBEtEswROhE6EakQtw8YEC0S4RMSFI4SXRLvEu8SvhLhExIUchSjFHIUBBU0FdMUsRPhE9MUoxSxE0IUNBVyFL4SUBNCFLETLRLvEr4S2RDZEDoRGBBjDvUOqRAlDzMOeRCpEEENTgx/DCsLaQo5CjkKqAmoCeYIAQfeBT8GiwTJAxwFOAPyAOQBRQIO/+v9gwGDAQf8g/pv/xz+bvhS+pj8DfjH9az33PeJ9on2Q/Sd8bLzKPaP8lfv/vFR89vwSfBs8UnwV+8n7yfvh++H72Xucu1l7knw6O9C7YDsBO647yfv0+0Z8PDybPE07ofvbPEu8p3xevBs8V/yC/Ho7zzxzfGH76rwBfU29QvxevCB8wX14vNf8lHzWPaX9V/ysvNY9qT0zfGk9Cj21fRm9Yn2l/V09AX11fSk9Fj2rPdY9vf1ifbH9Zf1Pfgi+p74e/f/+Kb7aPyD+vH5RftS+s/4g/o3/BT7g/qK/X3+pvvk+uv9AAAAAAAAAADQ/z//ff6t/gAAYAAAAAAAAADQ/33+AABFAuQB8gBTATAA0P8wAAAAAAB2AjgDwQC7/Uz+kQC0ARUCpgJ2AiIBAAAAAND/oP/kAfkDgwEAALQBdgKDASIBFQJaBN4FmANTATgDHAWmArQBTQXDB94FyQO7BA8GrgW7BK4FhQh3CcMHoAYxB/MHhQjYCTkKCQp3CUcJVAioCR4MTgwJCrUImgq9CzkK5gh3CVwLHgyaCtgJ+wp/DCsLygq9C5oKaQrtC38MHgz7CjkKXAvgDAkK0AYWCX8MXAuFCIUIXAsQDXcJTQWSB/sKCQrDB0cJqAkBB8MHygpHCewEuwTzB0cJoAbJAw8GdwneBVMBOANwBrsEkQBTAT8GAQe0AfIAiwQ4A33+Dv/5A5gDiv35/EUCMACe+IP6dgKDAcH5S/do/AAAHP4w+c/4iv1o/Or2Gvd1+5j85PpS+v/4WPZY9iL65PoN+Or2Pfg9+Mf11fSJ9v/4IvoN+Ev3Dfh79yj2S/c9+In2e/em+8/44vPH9az31fRD9FL65PpD9OLzwfkw+dX0l/WQ+YP6Gvey8/f1Pfjc98/45Pq59vDyDfiY/G74KPam+5j89/VR82D5HP4U+z34s/oH/IP6kPnW+z//Dv8U+5D5B/x1+2j8IgFgADf8N/yK/fn8dfsO/4sEmAM//0z+8gCDAQ7/b/8qBIsEUwEiASoEiwQAAAAA7ATsBCIBtAFNBa4FBwMHA/kDpgKRABUCuwQqBBUC7ARUCLsEDv9v/+wE8wd9BQcD+QO7BEUCkQDXAjgD8gD5A6AGRQKg/5EAWgQWCdAGYAAAAIsEuwRv/wAAkgdUCBUCAAAiAXYC5AGDAckD3gWLBBUCmAN9BZgDYAAiAWgD5AF2AgEHMQc4A/IAAADBAJgDHAV9BdcC1wLsBFMB0P+YA00FFQIiAfkDfQXBALv9RQIBB2gDAAAVAskDAAB9/mgD8wdTAab7b//JAxUCAACDAWgDpgKDAaD/Kf0AANAGYgdTAaD/YAAAAJEAkQDkAT8GyQM//8EAWgRgAEz+mAN9BW//rf6uBT8GkQAc/hz+RQI/BtcCAAAHA/IAmPze/pEA8gCYAwcDoP8O/wAAN/yz+qD/BwO0AcEAP/+m+3X7pvt1+z//MAB1+1r97ASg/7/yx/Uc/uv9aPxM/or9B/wp/YP6WPYi+uv9u/2Y/JD5dfuK/az3ufYU+2D5YPn5/CL6E/Qa9+v9g/r+8RP0oP92Aur2Ze6J9gAADfgE7nv3MAAU+4n29/VD9BT7ff5D9HrwmPw4A9X0hui59mgDB/z/+Df8ifZf8p74TP51+zD5oP/5A7P6PPGz+j8GoP8o9sj8BwNM/tb7AAAwABz+b//Q/8kDjAuYA/f1dfuoCdAGB/wAAE4MCQowAAAApgJTAbsETgw5Cn3+pvu1CFYPBwNo/GIHYw59BSn9MABODHkQ5AF1+zkKUBOgBin9WgT7Cj8GmAPzBwkKDwYAABUC0g2MCwAAwQC1CA8GAAAcBcoKMQckCAEHyPzW+6gJlA59BTgD3gV2AoMBTQXeBVoEmAM4AyQI5gje/vn83gXmCEcJkgem+8/4TQUBB/IArgU5ChUC1vv5/D//WgQ/BtD/dgI5CvkD1vv5/A7/AADXAtAGmAMc/vIAcAaDART7mPxgAPIAuwS9C9AGs/qz+loE7AQAAGgDHAU//zAAkgcqBK3+pgJ2Aq3+7AQkCAAAgwHKCt4Fg/oi+osE0g3QBtb7AAA5CtAGIvrc96YC7ATXAtINAQcX6V3rrwyAExT7C/GK/RUCFPvq9rP6YAAcBQAAIPND9Gj8pvsH/GAAg/p68OLz5AFODM/4Td4u8h8TRQIq3crj7QtQE9X0SOlm9eT6FPto/Jj8ufYL8Q34AADx+YHzu/0WCYP6d+JW6EUCeRBgAK/l9eeuBcoKEe2h5hwF2RCs96fibPGvDBYJqekW4oMBUBMAAM3xe/ca9wX1wQAPBvf1v/IWCSQILvKk9AAAiv0c/hUCFPtD9H3+3gUAAIMB7ARY9mXu5AGAEzEHUfMg8wAAAQcAAJD5Ygc5ClHzrPceDGAAIPNv/yoEAAAxBxYJwfmB8/IAqAl2Ain9UwEBBwcDaPzB+T//oQ0KEQAApPQ3/AkKmgqK/c/4YADYCQkKwQB1+wAAtQgqBJ74AABCFPUOdPQZ8HAG4RNcC/H5IPMCDhwltAE33P7xCxiJHdAGIPOt/kIUaQqd8SDzjAv2FdgJAAAAAKYCFgl3Cdb7Ivp5EF8Z5AHb8Cn9LRKGD/f1gfMSFIIaZvUf7HIU5CHB+djiUvrNGJccWv0X6VoEdBvDB0P0KPYO/wIOgBMU+wvxQQ2dGDgDbPHh7CL6jxmeHz//bvj7CqD/BO6g/8AZXxnkAV/y6/1dErUIPPHr/S4ZXxmgBr/yLvIJCkoXMQdm9Q7/xhVQEwAAyPzkAXAGVAiz+s/4CxgNH7n22OIVAgUcFgkn7w34sRNCFFHzu91u+G8mrB4C53zXAACzIcwRfuUq3RUCXxk4AyXo6O8CDogWZvXH1d/llA5sGLLz0N+LBM0Y9u6Oy5TnpBuJHXLt3Ndg+V0SUvpo3KrwaxErC8bui90u8i0STQUW4qnpYw5BDfPgbNF2AvsqqAk0zlfPaQoOJgAAFuKJ9kcJ+fzn6BDmAAC6HSUPY+cC5/IAoAbQ/1L6SfAo9vUOTgzo73rw2AnZEDf85+hD9NINBBVwBoHzV+8wAE4M5AFS+n0FvhI4AyXoUfOvDPMHu/1oAysL8wfe/nT0h+9L93cJgBPsBM/4YgeMC+Hs5eG7BGYc0g2t/m74NO5g+aMUWgQk4QvxghrVG0P0oN8T9D8GAAAwAB4MYgeD+hnwxOc88YYP+Bwi+tDf0P8EFdz3w+DN8TwYuySm+8fVveQPBoYPMQeRAJEAAAC/8l3rtAGxEzAANO5FAigdgBO478rjIvqYA5EAqRBsGAEH3v7r/aT0le7N8TEH0CbyICL6V+9M/g7/kQDsBLsE4ROAE/bu/OoTGzAga+o5450YOjFIEN/l3t4H/MAZBRyoCcMHJxbzB37lAeBa/ZEgAi6CGur2HeVL99INgBNrEbUIb/99/mj88fmoCfgc7xK7/X3+PwYp/cburf6YIyoknvgk4Zj8wSAhGnrwmuOaCrUoHgxv30DmpBtIMAAA7N3kAXsemPz53OT6piLBICIBXOT86kENqhcO/+7rFPsSFH8MV+9Y9h8THAWa48zq0g09H8QO9u7e3gTuKwtIEJ74KPYkCCIBSfCs98oK+wrH9XHmm+re/oAT7QvV9Br3qAmYA4zkItqy80IU1RsO/3LtWgQWCWvqJOH/+H8M+wqmArUIYgf86vPgwfkQDZsRdwk9+CfvWv3ZELUIj/Jl7lr9zBFfGeQBTuXG7qkQ7xKk9L7r0AayGjgDLeuY/CUP5giX9cTnb/9LHhANgOyB86AGdgLP+F/y6vZODIATHP7o7zb1x/Vu+G//Wv0cBWsRmPyg3+fopvta/SQIUBMAAKHmr+U88Uv3g/ocBbcPuwT86lPaRuK0AVMh0xTD4IbIGfA2HBkXs/rt5LTanfEtEkcJv/Ja/XENMADn6Njixu6t/kgQ/higBrLzj/JX7yfvpvvsBJQOSx64Fr7rIdO47/YVeheuBXYCOQqYAxnwpPQtEiEaTP4E7tINXCu3Dw7f/9jJAzEn2xdM/iQIZRU4Azrqcu23D7MhXAuK/aENLhkiAfPgv/LDJ6M0Rwmh5jzxJAhcC8EAKgQ3I1wr8fnH1arwJxZyFFL6OAPfLFok5+gN2Jj8BBUrC5EAUBNFIgkK2ekk4f/4LhmGD6PtIvr7Kncpjuu3yGPnPBjBIK3+LeuLBCokMw673a3eAABjDtgJOAMqBBUCbvjN8Rr31wLsBDf8AAC9Cw8G4vMz55Xu8gABBysL4AwU+yfvFPvkAeLzXesAAHoXlA6k9PbuWgQCDknw1tt9/lokeRDK4wjj4AzPH4n2ndEw+XEtiBYW4j/ffQWPGUUCCurq9i0S5ggX6UP0uh1rEQ7f9eeOEkcJv/IAAO0L3gWD+rDsz/gKEagJGvcAAJ0YXAsX6XrwmxEEFc/4BO6gBlcWb/9r6gcDex5aBH3eJ+/VG7odUvpx5qT0ChHvElL6ZvU4A6D/UfPyAKoXRwnS5qPtNBWVFefoE9Sz+lQoGx5I6VHTbvgfE4P6VujsBIMh4Ax93iHT1fR5EPsK1vt1+wAAdPRA5rLzXAtWD1MB6O+p6YHzBfWw7CIBgyErCwHg2OL5/N4F0P9Y9qb7rwyoCbn2BfVg+az3tAFpCqD/g/rJA8kDYPk9+MEADwYcBYsEDwYPBgcD6/2s95D5VAj2FdINmPzQ/yUPHgwp/cH5WgRrEV0S8wcAAN4FcQ0AAMzq8fnyIDcj1wIT9K3+ChG3D4n2ZvXwGYQo5giq8GD5wwfgDIsEHP5pCs0Y/BF79/bugBMWKSn9G9fc94skghoa90nwkgexE1r9gOyoCewkcAZ+5Tb1vhLAGTAA++OD+gEnShem2xPUCQoUIg8GV++/8ioEFgm59o7rAADTFD//muOQ+fYVlA4a973kLeut/hwFWgQAAL/yTuUX6Q7/cQ12AtvwUfMcBckDle6H73AGFgn+8a3e4eybEUoX6vaa4zTuAABUCDf8a+p09JIHyQMZ8GLgcu1IEF8Z3v4R7bLz5PpY9vf16/3eBZQO7ASO66fiQ/RUCN4Fz/hM/n8M5ghD9H7lZvXNGJcc9/X744sEzx9HCczqLev5A5cc9Q5y7eLzSBCOEqD/3PcwADgDYADe/gAAYgfmCFr9GvcAAAEHwwcBB2gDRwnYCZXu5eFiB6AmqAnS5nX73B6AE8bu0uZgAJccHxPT7bjvNhzeJdX0081I6dweKiSY/L7rMQc8GM/4ddu47/YVNyO9CxP0IvrQ/8bur+X5/LIaURreBQX1C/GD+vn8wfloA80YwBl1+yvkBO5aBHkQcQ0xB7sE//jb8K3+RwlpCgoRAg4w+ZXu6vaLBFcW4xrzB5f16vbyAPkDUwGSB1EapBve/ujv+fzKCuAM5ggBB3YCff5NBQIOMw4WCSn9zfH/+AoRBBUAAOwEBRxIEC3rTd59/n0l+SMAAO7rB/y3D70LwfkZ8Fr9LRL8EYr9BO6J9hYJvQsHAw7/KPYa900F1wJa/TEHdwkO/274pPS59loETgzyAOLzGvdv/1L6X/JS+mIH5ggO/zzxSOk29TEHwwcAACj2gOzH9TAAPfgo9rsERwnk+oDsNO7P+AAArf7q9n3+xxzWIj34mNyP8vUORwmq8C7yfwyIFj8GdPSV7ur2MQczDowLmAOk9OjvRfvr/Qvxh+/Q/3ENiwTM6vXnbvhS+uLz/vFL96D/iv2s91HzXevn6JXuQ/TV9KrwBO429Rz+pvu/8r7rH+xJ8Ln2MADBAFL6dPTn6CXoRfuFCBwFrf5a/W//aPz39az3AABwBvMH+QPBAA7/z/go9j//vQsYEEcJgwHBAAAAAADJAyQIrwxBDYUIaAPJA94FPwaoCe0LoAbXAhwFwweoCXEN4AzyAIP6OANpCrsETQWbESUPB/wF9XYCSBAlD+wEAAA4A00FpgJFAkUCpgIcBQEH0AZFAgAAWgTKCgkKyPyy81MBqRCaCvIApgIWCYUI3v4i+q4FXRK9C/n83v5/DHENrf4N+FoE5w/7CuQB8gCgBgEHoP+Y/FoExA7tCwAAuwTnD5gD4vPk+kENqhd5EH0FfQVaBBT79/VTAYYP4RMlD8kDyPwH/PIA0AZwBpoKAg6mAvH5+QN5EPMH8fl1+64F+wqYAzf8P/8HA0UCTP7I/IUIaxGmAlHzaPxcC+YIu/3I/FQIHgzW+wTuUvpxDcoKYPkF9UUCMQfI/KT05PoqBKYCx/Vy7Sj2yQNoA/f1evB1+4sEb//w8hP0AAD5A1r9DfgU+6D/IgG7/er2rPdF+xT78fms9+r2Ivpa/Qf8l/X27tvwFPtTASn9nfEK6hnwS/eB8/7xpvu0AWj84vOV7gvx1vut/hP0Qu1f8p74ufZ79/n8ifYf7DTuNvWD+sj88flg+TD5X/Jl7lHz1vt9/hT7YPlo/A7/B/ye+HX7YAA4AwAA9/X+8cj8+QNF+2Xu2/C0AfsKyQMAAJEAkPmy8/f1RfvI/Df8YABiBwkKkQBm9Sj2aPwwALQBRQIVAsEAdgLeBcEA1vsp/cEAHAW7BIMBgwEVAq3+nviY/KgJBBX2FbUIFPtF+xUCfQU4A5gDoQ2OEqAGs/pS+sEA+woCDoUIwweSB2//g/quBR8THgzx+Zf1b/84A2AAMACuBSUPYw4AALLzwfm9C+8SYgdo/ND/iwQO//H5Dv9HCdkQVg8xB1MBtAGRAFr9BwNBDaENYgfJA+wEiwQVArQBgwF9BVYPHxMzDmIHpgJNBYwLHgwPBgcDJAi1CKYC3gXSDecPGBArC7QBIgExB/MHPwbeBZgDUwE/BpoKTQUAAMEAPwbKCmkK7AQiAewEYgeLBIsEWgS0ASIBMABgAKYCRQIc/rv9+QMWCTEH1wIwAAAAAAAwALv9B/xa/Rz+b/8iAQAAHP59/vn8+fwAAIMByPxS+tD/UwHe/or9iv3e/vIAAAB1+4P66/2RAAAAKf2m+7v9oP+t/uT65Po3/Ln2gfMw+QAAUwEc/lL6YPkU+1r9Ivqk9Br3b/8wACL6ifZS+or9IvpL94P6TP7r/ab7bvhu+Nb7pvs9+BT7+QMcBZD5C/Ea9w7/1vsa9zD50P8HA3v3Vuhy7ev98gCs9yDz3Pdg+VHzLetP7Kz3wQAAAG74x/VS+qD/wQBa/Yn2E/Sk9Pf1YPm7/bv9g/qz+gAAiv2P8qrwB/yLBHYCbvhD9Bz+3gXe/v7xLvJ9/qAG7ASRAG//Dv/r/ev9UwFaBGgD0P9g+Wb13PcU+/H5FPsAAOQBIgFgAGAAgwEwAAAARQL5AzAApvsc/k0FRwliB9cC+fyD+t7+aAM/BqgJygpNBcEA8gDBAMEA1wLkAQAAtAHXAgAAYAA/BrUI2AmvDOAMFgmYAzAAtAHXAvIAYAB2AtcCwQAAAKD/YABFAnYCIgFgAPIAIgEwAKD/0P8wACIBgwEAAGj8pvuK/a3+AAABB1wLrgVv/33+kQBTAdD/HP7Q/2AAKf2m+5EAYgeoCQ8GkQAAAMkDfQVaBIsE0AYxB2gDb/+g/2gDDwbeBT8GtQjYCVQIuwRaBMMH2AmSBxUCHP7e/tcC7ATXAkUCuwQBBw8GiwSgBvMHTQXsBOYIVAiLBFoEJAgeDBAN2AmgBq4FTQUqBA8GKwszDlwLoAYcBQ8GDwY4A/IAwQC0ATgDDwZ3CTkKkgfeBckDRQIqBJIH8wdaBIMBAABM/g7/UwE4AxwFHAW0ATAAb/+t/gAApgKLBIsEOAMVAmAAAAAwAA7/3v7yANcCFQJTAUUCgwGg/z//AAAAAD//+fzk+rP6Kf27/cj86/3Q/wAAff7e/mAAtAGRAN7+iv1o/Jj83v4AAJEAkQAwAAAAWv3k+tb7Dv8AAND/AAAp/YP6Ivrk+kX78fnP+J74nvhg+cH51vut/q3+B/xS+lL6//g29S7ygfNS+hz+8fmd8bDsGfAa96b7YPmB84/yWPb39WzxJ+8L8Zf1kPmm+yL6x/VR80P0S/cw+Uv3x/Vu+Nb78fni87jvV+8L8Y/ysvMT9HT0WPae+GD5bvis91j2BfUo9v/4wfnc98f1l/WX9UP04vPq9iL6Ivpg+fH5g/pL97/yIPOJ9ur2NvVY9vH5YPmy81Hzz/iD+sH5g/qK/a3+yPww+aT0bPF68M3x4vMT9I/ynfHw8jb19/UF9YHzgfMF9Zf1l/Vm9Tb1l/Ua99z3GvdL9zD58fk3/D//0P+g/2//MACDAYMBMAA//0z+Wv2Y/Ir90P8iAckDVAhODKENfwxODMQO9Q4eDO0Ltw+OEoYPCQqMC10SBBUSFNMUqheCGoIa2xf2FYgWURpZHdUbCxi4FqoXLhmCGmYcSx6RINYimCMOJhYpkieYI2AgDR8NHz0fnh9gIA0fuh0NH7Mh+SNMJd4lKiQ3I3UiIiFuH7odSx6eH1kdwBkhGuodkSA9HzYcIRqdGFcWlRWdGIIabBhCFBgQHgxHCdgJcQ0KEToRAg77CsoKTgwQDRANrwxBDX8MJAimAgAAIgGYAyoEyQPJA1oErgU/Bt4FyQMAAPn8TP7BAIMBoP83/OT61vs3/IP6kPlF+1L6rPdm9eLzv/Iu8mzxGfDT7YDsXeub6szqT+xy7e7rCupd60LtgOzn6MTnF+n155rjMeDQ34XhyuO95O3kjOR34g7fddvB2fLZU9p12zfcwdk21f7RwNKX1UvXidZD1NvQiM/GzlDMecnMyqPNXcuixsrDmsNpwwHAi71NvvPA2MKaw9jC0b8HvBW7U7pguc+4z7g+uN23wbmmu2i8D78exVDMZc4fzCfPkdkO3zDZ6tbY4hHtJei14YDsAAAPBlr9IvreBakQ0g1iB/sKlRWPGXIUOhEEFawefSXeJYQoVS/oNnQ7EzuyOj0/TEUORrNBkEDrRNBGWkTkQfFAnj+XPI85/jheOV458DlROkk32TAzLiUvvSscJXUiHCV9JSIhPR83I60lsyHVGwUc3B6PGYYPfwzEDhANkgf5AyoEuwRoA+QBRQKYA4sEcAYkCGIHoAZ3CX8MfwzKCmkKXAuvDBgQ/hj5IwEnKiRMJR0sQC19JXsenh9oI+Qhuh2eH5InryztK4wrlC4XMCUv5y9dMgQ1uDb2NRE0mzH1LjMuJS+pMMwxTzOAM6kwEC0QLaEtCCp9JQcjwSAbHsAZ7xJBDRANxA4YELcPtw/8EQQVUBNxDXcJJAiLBAAAmPzk+j34svOH78bu9u5P7NnpzOot6yXojORG4vPgAeBa3fLZWdaC01/SQ9Qb1w3YntiD2irdi93W29bb+dzW26zXwNJs0TzRiM+jzQTO9s6VzhLNQs3GzifPBM5QzI7La8r1x+DFHsV/xeDFf8W9xMrDmsOMxMrDFsIkwSTB0b+LvWi8IrrItfCyj7JtsdStnKrvqzWujqvgpcuj9aeOq2uqZKe/q7KzWbafuD+/M8c0zs3RndHpzzzRz9iS4FThAeCG6Kz3pvtm9dz30AbZEAEHAAAQDZcc/hgzDrET7CQrK9Yibh8dLFE6uT3/P5JHfkyMS5lK30yvTLVI5UivTIxL0EYpRJhD8UAFPGw4IDqJPTY82zd6N5042zdyNMQumiq1KH0lwSCJHf8fiyQqJBse8BmyGlEajhI5CjkKcQ0rCzgDDv8O/8j8MPnx+fn8yPwU+8j8wQDBAK3+MAD5AyoEUwG0AcMHXAuSB+wEqAmUDuAMaQpWD4gWURrVG5EgbyanKacpFimEKG8muyQOJrUovSsXMLAzBDWjNDQ1VzYmNnI0ozQ0NRE0azG2L1Uv0i3KKmkqvStcK+UokidGKacp3iXJIyok8iAhGlcWehfpFi0S0g29C3cJDwYqBH0FAQcPBosEiwQqBHYCAADe/sj8wfmJ9jb1dPSB8yDzE/QT9Gzx9u5y7aPtsOx46TPnAuff5crjp+JG4lThYuBU4fvjAue26LboJegz50DmEOZc5Hfid+II44Xh3t4q3Yvd7N353BTb8tnB2Z7YidZD1P7RStA0zr7L2sn1x+DF4MUQxlzEvcTgxX/FqMLRv7u9OLxTuny3srP3ri2rqakzpzmjtaHYojmjhaFwnzKghaGToFudRZugn9Km76tXry+yn7jzwFzEHsVQzA3YkuDl4THgVuiJ9s/48PIT9G//RwneBQAAVAj+GEsedBvyICsrcS2vLMwxUTr/P88/8UBUSK9Mr0xIUIdW/Vi4VklX6l1gYC5ZLFIfU8VVhk99RdZCb0ZnQ785BDUmNoc2TzMzLvsqfiwCLlwr0CZoIzAgZhzpFsQO5gjDB94FpgIAAA7/Wv3B+Rr3WPaJ9jb1v/I88cbusOyw7OHsjust62XudPQN+D34RfvkARwFpgIiAbsEqAkJCuYI+woCDvUOYw55EPYVURpmHJEgYiffLBAt0i0KMb4yzDEKMe4ycjSwM4Az9jU8OBk30zRlNSY2ozRdMtkwOjGbMTMupynDJ8MnfSXBIHseex5LHpccIRo8GOkWoxT8ERgQJQ+vDOYIrgVoAyIBDv/5/Mj8aPyD+p74kPnW+5j8mPyK/Yr9dfsN+Or2GvdY9nT04vND9HT0X/In7wTuBO7T7eHsXevM6njpM+ev5X7lveR+5WPntugK6mvq2ek66szqCurM6vzqOuqU537ljORp4znj8+Ba3eTarNfj04/SX9Kd0avQ6c+4z4jPlc6jze/L2sl5yYbI4MXmwQHAksBiwIu917umu5G5ibays6uw967Urcyqhqjgpfujy6P7o6+lQaZxplao2qmcqqOtgrPPuA+/58iP0onWU9r742vqhuh46c3xYPnx+TD50P9ODEgQvQtWD1kdHCXBIBQi3yyNMjoxSDBCNGY8dDujNOI6CEpjTghK0U3oVldWMk7fTIBTNFXtSz9G7UtjTsJHnj/PP/FAbDi2L4YvCjG2Lx0sJCjlKEYp1iIoHTYcwBlXFoATVg+vDJoKMQeLBNcC5AEAALv9aPxF++T6MPlm9VHz/vFJ8Cfvh+8L8S7ygfNY9mD5Rft1+xT7HP4iAeQBOAMPBuYI2Ak5CmMO7xJdEi0SiBYFHNwe3B7/Hzcj+SPkIeQhrSXlKKcp8yflKIwrKyvDJzEn2CmaKoQoMSfQJtAmHCX5I/kj1iLcHgUcQxtfGYgWBBVlFcYVQhSpEDMO4AxcC2kKmgr7CmkKhQjQBq4FuwT5AyoErgUPBosEFQIiAbQBFQKDAVMBgwHyAAAAP/+t/j//oP+g/6D/AAAAAD//ff5M/kz+u/11+zD5z/is98f1Q/SB8/Dyj/KP8p3xevCH7/buh++472XuEe0R7dPtBO7h7PzqLesf7PzqxOff5YzkVOE33P/YPdgb11/SEs3MymvKxMf7w/vDEMavxTnDacPgxU7FFsLDwEfC88C0uku3brg+uOOzq7DAsoKzZa6cqv2qXqsmqKiiYqAkoUeiqKIDpyevRLTPuJrDlc4T1JHZK+Q07hnwC/Hc98EAuwS7BGkKUBMZF5sReRCXHKYiZhyyGmgjQC29K30lvSu/OTY8qjfiOnVCb0agRhxFRkk6Ub5S508XUGpRvlK2T3dJWkSeP3Q7ejc6MbUo3iVUKIMhLhk8GI8ZghoEFS0SsRMYECUPEA3mCPkDtAGSBw8GTP7I/Af8Dfhf8kLtH+wf7JTnHeVW6KnpY+eh5sTnJei26KnpQu3i85f1gfNm9UX75AEkCGkKvQvnD+ETEhRyFAsYNhwTG9sXnRiCGnQblxzPH60lRilGKeUoyiqhLWMuti/MMeEz0zQfM3gw2TCbMVUvEC1xLe0rhCg/JuwkdSI9H4kdKB1DGzwYVxY0FXIUvhI6EY4SsRNdErcP9Q63D5sR/BEKEZsRzBG3DxAN+wp3CRYJAQfJA5gDuwTJA3YC1wL5A1oE+QOLBH0FPwbsBPkDKgT5AxUCAABv/+v9dfvB+Q34x/UT9P7xGfA07h/svutC7XLtsOyA7E/sjuub6jrqLetd66npJeiU52PnjOQk4RbimuOg38/YBdXj0y7Sxs78yhjJlMf7w4XB5sF3wgnDXMTgxR7FOcPKw8rD5sGuvsm8ybxguaW047OPsjWuGKlIqV6r4KUkoQmjQaZcpIudw6D9qhKtc63AsiTBEs24z8fVRuJd66PtLvLk+jf8g/oAAJIHdwnsBDEHjhL2FV0SNBWRIBYprSV9JVUvNDXuMqkwGTcvQEVC/z/5Q1VPF1AjSMpKqVAJUTJOoU0XUMROI0jWQqZCnj8mNrYvJS9OLK0lIiHBIP8flxw8GCcWJxY0FVATvhItEucPEA13CQ8GIgH5/OT6ifa/8v7xJ++A7LDsEe1d61boQOYQ5vXn9ecC5zrqo+327ujvgfOs9yL6FPta/YMBPwYBBzkKmxFCFIAToxQLGCEaShf2FZ0Y8BkuGS4ZZhyRIEUiByPQJq8sti+2L2sxQjRyNGsx0i1ALUAtpykBJ/MnpykxJ2gjpiJ1IpEgiR1DGxMb8BlXFuETsRPvEhgQlA6UDlYPGBBWD8QOtw+GDzMOcQ0zDjMOTgx3CWIHMQcPBosEKgTJA+QBAABgACIBUwG0AdcCuwQcBfkDdgKDAWAAHP7W++T6kPka9yDzqvC47zTuvuvZ6XjpeOmU56/lAudW6IboJej15yXoSOnn6GPnY+dW6JTnyuNi4GLgrd6D2onWdNSC02zRJ880zjTO4cxIyaLGlMe3yEHGOcP7wxDGK8TDwPPAHsVxxmnD5sGowjHAg7qst264BrVKsAyx/rHGrhKtDLGCs9StO6qjrcau/aprqqW00b8WwlzEwNJA5u7rqekT9KD/oP8//6YCdwn1DsQOJQ9CFC4ZXxnHHA4mVCjzJ/UulTWAM1UvxjW5PbI6bDg9P8JHfkxbS9FNqlekW0FUxE40VdpXCVGTTnhQ50+ZSvlD8UBYPTQ1QC2aKrUoFCLqHdweiR0hGi4Z8BnbF9MUsRO+EhgQfwzmCH0FAAAi+ur2BfUg80nwV+/o72Xu2enS5qHmfuXz4KDfmuOv5VzkY+eV7knwGfCk9FL6+fxM/gAAaAPDB6gJmgoCDjoRmxE6Ee8SoxRlFVcWGRdsGOMa1Rt0G4kdUyH5I94lkicWKR0sryw5KuUopyl3KQ4mNyOYIwcjUyFuHxseuh0TGwsYVxajFC0SqRBIEFYP0g1/DL0LjAvKCgkKaQpODE4MjAuMC/sKdwkBB94F3gXsBAcDFQKDAVMBwQAAAG//TP6K/Yr9iv27/Rz+Dv9v/xz+Kf3I/Kb78flL9wX1gfPb8GXugOw66pTnr+X743fiFuLl4RbiOeM54znjOeNG4jnjmuMI4wjjOeOa49jiMeB93rvdN9wN2KTUBdVm1cDSNM6jzVfPscwlyNLGJcjEx3/F4MX1x+fIxMd/xa/FJchWyBDGXMSvxYzE0b+7vSq9tLqst9W0srPwsm2xPLEZsCev27Bfso+ysrM+uHC/jMRryurWCON46ejv1vuLBOwE8wepEDwYjxk0FRkX3B7yIDYcwBnBIAgqQC0dLPUujzkiQW4/3D7WQuVIjEunSU5MXVKHVnpX9lW/WT1fllwDVfxRSVdsWFVPYUcWSZlKkEAfM7YvzDHfLDcjMCAHI+QhQxs8GBMb8BmxE9kQoxTTFHENhQhUCA8G0P+e+KT0LvKj7ZTnEOYz59/lCONG4k7lHeV34mnjY+ep6anpSOkf7HrwsvP39WD5Kf0AAEUCmAOgBowLMw6hDTMOzBFCFFATXRLTFP4YghqCGsccUyGmIlMhRSJvJggq2ClpKtIthi/tK/MnJCgWKdAmpiJTIbMhDR90G1EawBnpFhIUEhSjFC0SlA6hDVYPxA6vDL0LrwyvDMoK2Ak5CpoK2Am1CCQI0AYqBLQB8gBgAG//6/1o/Df8yPw3/Nb7N/yY/Gj8pvtF+3X75Pqz+rP6wfkw+az3NvVR89vwcu1r6oboAudc5OXh0N+t3lrdN9yY3K3e0N+S4BbiaeNp48rjjORc5Gnj2OL744zk2OIk4THgfd433PLZbtgb16TUPNGIzzTOvsvayTrKLcsty2vK58h5yTrKqcn1x0HGM8cYyTPHmsNpw+DFacNovDi8D7+0uoKzUbPItYKzZa7MqpauIbPpr2WuL7JFu6LGJcg6yhTbzOoR7bDsZvXBALsEgwHXAmMOEhRWDzoRLhmRIMkj8iB1IowrqTD1Lt8sLTKPOSg9QzvNOM8/RknKShZJW0uiVI9Zh1aVVc1Y4lomVl1SclThU1VPTkyvTCtLB0OPOcY10zT1LqAmdSIHI7Mhuh2kG/gcBRwLGIgWehf2FakQHgw5Cq4FoP8i+on28PKq8DTuOuoK6l3rqenS5tLmlOcC5x3lTuXn6C3rjus07s3xBfVL95D5B/wAAAcD+QPQBh4MeRDMEV0SBBXbFzwYnRhDG9weMCAwICIh1iIqJEwlASenKVwrryxxLZQuJS8zLt8s7St3Kd4lByOzIfIgbh9LHrodNhyPGRkX9hUEFeETmxEYEOcPxA4rC4UI2AlpCiQIrgUPBjEHPwZaBFoEHAWLBBUCkQDBAMEAoP9M/uv9u/35/Nb7N/z5/Nb78fki+hT75Prx+fH5Ivow+er21fQg8wvxle6A7PzqeOmU5x3lCOMW4sPgw+AW4vvj7eRO5U7lQOZA5u3k7eTf5XHm3+Wv5XHmoeZ+5afioN9N3ovdwdkT1P7RwNLb0O/LqckKytrJlMftxDnDd8Jpw8rD2MJHwgnDmsNHwnC/fb5wvw+/mbymu1O61bTOsYKz27B5qSaogKxCre6k0Z/Fp+GsoqavpY+yTb5pwxjJIdOn4r7rXetD9AAAgwEVAj8GoQ2jFIATVg+xE5ccZhyqF1EaIiF9JQEnVCgQLe4yPDgTO3s+yEMxR69M/FHLUXJUzVheWY9ZQ1sFXIFabFgZV2RVm1FOTPNHyEO5PWw44TNjLjkqMSdaJMEglxxmHFkdBRxRGo8ZghqPGVcWHxMYEE4MoAbBAFr9UvoF9dPtCuoz5znjoN/e3iTh2OLl4VThTuVI6WvqgOwL8Wb13PdS+vn8AACYA9AGqAn7CnEN2RAfE7ETNBXbF8AZExuXHCgdWR1uH0UiuyQ/JjEnKyslLxcwti9rMU8z4TOwM40yzDHMMbYvryxpKvMnTCWmIjAgWR3jGi4ZqhdKFycWBBVCFL4SLRL8EfwRChFIEAoRChGUDk4MXAvKCkcJAQcPBn0FaAPyAAAAAAAO//n8B/wH/HX7kPkw+bP6FPvk+hT7FPsU+1L6MPlu+Nz39/V09PDyGfAR7fzqeOlj50DmveSa4wjjp+J34tjiOeNc5H7l3+XS5sTnJegl6FboJegz50DmfuUr5OXhMeDQ333eU9rq1onWZtUL0Y7LzMpQzHnJf8UQxiXIY8dpw9jCHsWMxEfCFsJpwyvER8J9vna75Lryufi1PLFlrsaugKyipk6lA6cepRaiOaNOpa+lcaYtq1+yura0uozEZc5K0MfVr+VC7dnpxu7r/QEHtAFo/BYJwBkEFXAGCQpZHWAgSBDEDgcjJS9UKLskzDE9P88/Xjm5PStLF1BATZNOJlZzW81YZFUZV81YnFhXVuFTclSiVJtRcU2ESJhDrD6/ObAzhi8CLqcpuyTJI5gjzx9RGl8Z4xpXFqkQChEfEyUPMQeYAzgD3v7H9Yfvxu5y7U7lYuD74+3kfd433OXhr+XK42njqemd8fDyC/HV9Kb7Kf03/Bz+BwPzB0cJaQpjDl0SUBPvEnIUGRfbF/4Y1Rv/HxQi1iLeJYQo2CmMK98sMy7nL3gwCjGbMY0ysDP8MRcwFzAXMKEtaSoWKVQo7CSDIf8fbh9mHGwY2xdfGc0YiBbGFaoXPBjTFF0SjhJdEucPcQ1xDQIOHgx3CRYJdwkxB5gDtAFTAcEA0P9M/uv9ff7r/Vr9Wv35/Gj81vto/Mj81vsU+yL6bviJ9gX1svO/8v7x2/CH7zTucu0f7Drq5+j153HmHeW95E7l3+UQ5t/lAucX6RfpF+kK6mvqOuo66qnpVugz573kFuIB4Afcbtgo1iHTiM9CzbHMXcu3yGPHJcglyEHGjMQQxrfIhsjgxeDFxMf1xx7F5sHmwajCcL+RuZ+4PrjwsjWuZa4nr4CslKeipkipealWqMyqUKyWrvi1B7zmwZTHzMqC09DfCOOg39jih+9L91Hzv/Ic/sMHJAigBmIHAg7GFYATOhELGDAgwyckKD8mqTCXPCg9/jh0O/NHqVAdTCNIjVIvYNxeJlZkVfdcwWDNWJtRclToVl1SvEuESGFH1kJYPb85hzYfMxcwfiw5KkYpDiaDIRse8BkZFxIUMw6aClQIfQXyAFL6KPb39Wzxa+rE58TnfuW14Q7foN8B4BzeydwO33fi++Ov5VboXesE7gvxUfM29er2Ivre/oMBFQJaBKgJ0g2hDaEN/BHGFZUVBBXbF6Qb+BzHHA0faCMcJUwlDia1KCsrKyuaKowrcS1xLR0sfiwQLR0s+yrYKXcptShvJoskNyMUIv8fWR10G9UblxxmHIIawBnjGoIabBgZF7gW9hWjFO8SmxF5EPUO4Az7CkcJAQdaBDgDpgLkAZEAAAAAAG//6/3r/ev9+fym+7P6Ivqe+Br3ifYo9sf1x/XV9BP0E/RR87/y/vE88RnwJ+8n7wTuEe3u65vqm+pr6jrqCuqb6o7rT+yw7OHscu3G7vbule6V7pXuBO5P7GvqOurn6Cvk0N8/32/fddso1qTUutb41WzRV89f0qTU8NKIz3rQstOP0jTOUMxlzsbOecngxcTH9cfmwYu9D7+gvxW7Z7WltAC5l7WjrWWu47P+se+rNa66tlO6rLfdt8rD6c+xzIbIpNTf5RDmrd546cj8wQB79w34XAtrEUUC3v4CDsAZ2RAqBJsRASdoI5UVPR+HNrI6LTJlNQ5G508ISqBGLFLwWdNUXVILWNRbUVoZV0FUXVKNUqFNrUXWQv8/pDtJNy0yJS/1LlwrKiQiIRQiGx4LGPYVVxZyFEENMQeFCCQI0P8N+P/4//i478TnhugX6eXhtNo33MPgi92s1xTbmuOM5A7fkuD159np3+V+5e7revBX77jvl/Wz+vH5MPm7/ZEAMADQ/7QBDwaFCBYJ+wrEDi0SHxOjFNsXshoFHMcciR0NH2Agbh89H8EgdSIHIxQi1iLQJtgptSgkKH4s5y+vLIQo2ClALcoqfSUOJmkqtSj5I2gjDibeJVMhnh9TIcEgxxwhGnQbshq4FkIUBBWVFVATeRB5EDoRlA4eDIwLXAtUCK4F7AQqBEUCkQDQ/2//TP5o/BT7g/rx+cH5MPkw+YP65Prx+ZD58fnx+TD5Dfjc9z34rPco9kP04vNR8wvxNO6j7WXucu3u6x/so+1C7e7rgOzT7TTugOxd6xHtle5y7Y7rjuuj7bDslOd+5WPnceZi4NbbaNw33HzXIdMh0xPUndFlzjTOq9D+0cbO78tlzmzRxs5IybfIa8oCx5LAi72ZvCK6fLcGtUS0RLQTtMCyPLFKsDyxIbMMsbivWbYqvey9hcFdy9XUbtjP2Gjc++MK6mvqm+pJ8DD5TP4c/gAAAQeoCcMHFgnEDlATJxbjGhQiCCoCLmMuTzPiOqw+lzxmPExF0U0dTMJHW0tdUmpR2EnzRwJOEE0pRC9AdUIvQFc2xC5jLjMutSjBIP8fWiSRINsXZRV6F9MUoQ21CEcJ5ggqBJEAAADe/vH5BfUu8ujvcu2p6X7l3+XE537lteG14Tnjd+Ix4MPgyuNA5kDmjOQz547rjuvZ6YDsC/G/8l/yQ/TB+Wj85Prk+qD/BwMVAjAAOAOFCKgJwwcWCZQOLRI6EQoR9hWyGoIa/hiXHIMhYCBZHZ4fmCPWIjAg5CE/JsMnrSVvJisrYy6ULvUuzDFyNMY1ZTURNF0yqTDELlwrkidMJZgjsyHPH3se6h26HZccQxuCGsAZPBgLGDwYehe4FvYVZRUSFF0SChFIENINKwtHCVQIPwbXAvIAkQAAAEz+mPym+7P6Ivow+Z74//jB+fH58fmz+qb7mPxa/Uz+3v5M/vn8N/zk+s/4x/Vf8knwZe4f7MzqCup46UjpF+kK6u7rsOyj7fbuevDN8SDzQ/TV9EP0svMu8knwZe466nHmveQW4pjcDdh81xvX49M80cDSE9Q80YjPzdFR0+nPjsvhzPbOjstxxtLGt8jSxqjCw8AxwD+/B7zPuM+4Z7VXr9StSrBtsSevo60TtPm8cL+FwSXINM6k1Crd0N833Bbi/vHB+f7xBO4p/e0LaAOJ9gAAaxGUDj//8gAEFZ0YaQrYCVkdKysqJKQbpylYPaQ7SDBdMqw+u0RYPXI08DnIQ88/9jVXNlE6uDavLMMnvSsdLBQiExtgIA4mnh8nFjwYPR/4HLETGBA0FaoX5w9HCU4M9Q4WCYMBkQAHA8EAz/hD9Br3KPZl7rboqemO6zPnheEr5Hjp9ecr5ALn4eyA7CXoJeij7UnwH+xr6hnwQ/T+8ZXu2/Ck9BP0nfGP8on2MPlu+GD5TP7BAPIAtAHeBZoKTgxODIYPchSIFvYVPBgoHc8fDR+eHyokYicxJw4mJCj7KjkqJCjlKCsrHSyMK/sqryz1LqEtjCuvLKEtEC29K68sFzC2LxAtVS+wM10yQC29KwIu3yw/JuQhmCMqJA0fURrwGbIaPBjhE4AT0xTvEkgQVg8YECUPvQvYCQkKOQrDB64FDwY/BrsEpgK0AVMBAABM/in9iv0c/mj8g/p1+7v9aPzB+eT6+fzW+2D5z/jx+cH5Dfh79574nvis93v3Dfie+P/4Dfhu+MH5YPlu+DD5g/rx+SL65PoH/Df85Pqe+Kz3ifa/8hHt9edA5h3loN+R2TDZU9pL1/7RPNHV1KTUGdBXz1HTUdP2znPNGdCr0IDMqcmpyRjJHsUkwaC/D78HvJG5z7jqtme1RLTAstW0WbZ0tKW08rkBwBbCFsLSxnrQfNfH1ePTRdsQ5kDmMeAr5Pbu6O866jrq6O+y8wvx0+3N8Uv3bvhu+Af8YAAqBFQIjAslD7ET/hhLHp4fkSCLJKcpcS3tKysrSDCAM6kwcS1jLsQuyiqnKdgpDiaLJG8mTCXJIwcj1iKYIzcjYCDPH5EgxxzNGCEajxllFR8T/BGpEGMOdwmuBRwF8gCD+qz3e/e/8hHtsOwE7qPt/Orn6Drq7uvZ6WPn9efn6BfpF+lj5/Xn/Oof7I7rsOz27gvxzfEu8oHzpPQF9Wb1PfgU+6b7yPyRAIsETQUBB4wLJQ9IEPwRBBXNGLIaExu6HeQh1iIUIuwkhCiEKIQoaSoQLdItQC0zLrYvazGbMZsxsDMENaM0QjTTNGU10zSAM/wxLTJPM10y5y9VL+cv9S69K2In3iVaJDAgZhxDGwUcshoLGDwYjxnAGUoXVxbpFicWQhSOEpsRSBChDVwL2AmFCNAGHAUqBJgDdgIiAWAAYADBAJEAYADBAIMBdgLXAioEfQVNBRwFHAUcBRwF+QPXAhUCIgEAAA7/ff5a/XX7Uvoi+sH5nvga90v3Pfis9xr3rPcw+ZD5z/hu+GD5PfjH9RP0v/K47/zqY+e95FTh+dyR2dzXidYT1F/Sj9Lw0o/S/tEh03TUZtWX1aTUstPV1OPTuM++yzrKCsqUx/PAWr2gv3C/fLfwst23YLnwstSt/rFuuLKz1K3VtFq9g7pLt32+Y8eixhbC0sZ60KvQCsqxzCjWutY80SHT8tmY3Gjcu90r5JTnr+V46VHzsvM88XX7fQUqBBwFaxEhGgsYuBaeHzkqTCXqHSQosDOvLFokfixXNvwxOSrtKx8z7jKMKx0ssDMfM04sEC0fMwox7StcKx0saSrDJ6AmbyZFImYc1Rt0G0IUJQ8KEQoRygrDB9gJ2AlaBDAAUwGDAQf8Gvfx+XX7x/U88QX1bviy8/bunfFm9S7yBO568OLzevBP7IfvE/Qu8vbuj/IN+Kz3ifaD+tD/AACg/6YCMQckCCQIHgwYEOcPSBCxE+kWiBaIFv4YURqPGVEauh0NH4kd3B67JKAm7CRvJlwr3yyMKx0sti86MTMu3yzZMGsxryxcKzMuMy45KvMndynYKdAmWiSgJlQofSW7JGInhCg/Jrsk3iVvJmgjwSAiIYMh3B5mHGYcBRxfGQsYnRiqFzQVUBPvEr4SChHEDpQOAg6vDK8McQ3gDO0LTgzgDO0L+wr7CisLCQrzB6AG3gXJA4MBkQBgAK3+dftS+lL6nvgo9pf1x/Vm9aT0E/Sk9AX14vPw8vDyX/J68IfvV++V7k/s/Oo66hfplOdx5u3kCONU4THgHN6m22DZbtjc17rW+NXq1nzXutZZ1kvXrNco1kPUstPj0/7R081dy8zKCsq3yHHGEMZBxn/F+8PmwWLA0b/svbS6ALnPuDC5Irq0uqa7ksD7w5rDmsOUxy3LJcjKw8THo83vy6LG/MrH1brWPNHA0qbbMeCm21Pa2OI66grqhug07on2Ivoi+nX7mAP7CgkK5giGD8YVHxNIEGUVLhkLGHoXghoiIVok1iJoI4QovSsIKlQoOSpALcQu7Sv7KjoxETTELu0r5y/uMvUumiq9KzMuvStvJrskbybsJBseghpZHbodPBg0FYgWShexEyUPhg/ZEKEN5gjmCGkKwwfJAzgDKgRoA8EAoP9v/97++fzk+rP6s/qD+pD5nvjP+JD5//is90v3S/d797n2KPbc95D58flS+jf8rf4O/z//AADBAMEA8gCmAloEuwT5A30FkgfDB5IHRwn7Cr0LrwzSDVYPGBBIEC0SsROAE+ET9hVsGP4Y8BnHHD0fzx//H6YiHCVMJa0lwyc5Kmkq5SjlKAgqtSgOJiokmCN1IpEgnh+RIOQhpiIHIyokDiZiJwEnbyY/Jn0lySNFIvIgDR8oHXQbURqPGf4YGRfGFdMUgBP8EbcPAg4eDKgJMQccBckDRQKRAAAAAACRADAAAAAAAND/TP6Y/EX78fka9xP0/vF68DTugOyO6+7rjuvZ6UjpqekK6hfplOcC59LmEObt5L3kfuUd5R3l7eTK42njCOPl4WLgb9993irdB9zW25jcB9wU29bbDt/Y4q/lQOYQ5k7l7eRp4yThoN8/31rdItp81+rWG9ee2Dfc0N+F4bXh8+AO3wfcU9r/2FnWUdOP0qTUidZ813XbheHK45rjEOZI6Ybor+X748rj5eE/363eoN8/36DfteE548rjHeVx5lboa+q+6x/sgOw07mzx4vNY9pD5mPxM/kz+P/+RACIBkQBgAJEAdgIHAzgDuwTzB9gJ2AkJCnEN5w+UDqENVg8YEEENTgyGD+8S4ROjFM0YiR1LHokdPR/yIKweghqdGJ0YBBUYENINYw4zDh4MHgz1DnkQtw/nD0gQhg8QDSsL2Am1CAEHDwbeBa4FrgUPBqAGPwbeBd4FiwQHA4MBYAA//5j8g/qQ+Z74e/d79z34z/hg+SL6B/wp/Sn9Kf27/Uz+Wv27/a3+ff6t/m//kQDyAGAAYABFAtcCRQIHA+wE3gXeBaAG8we1CLUIdwkrC04MfwwCDucPqRDZEJsRvhIfE6MU6Rb+GCEaURp0G2YcKB1ZHeodex4bHqwe/x/BIIMhUyEiIYMh5CGmIrskPyYOJn0l3iXQJgEn3iV9JUwlWiTJIyokWiRaJPkjiyStJd4lNyMNHygdKB1mHP4YZRUSFEIUUBNdEvwROhGGDxANygq1CDEH+QMAAFr9aPxo/Jj8pvuD+lL6Uvoi+pD5MPnP+Br3UfN68HLtOuq26EjpSOnE56Hm0ubS5pTnF+nM6szqCup46YbolOfS5qHmceZ+5R3lTuVO5RDmlOdI6WvqjusR7dPt4ezh7BHtT+yb6tnpqel46anp/OqA7NPt9u5J8Gzxv/JD9Gb1l/XV9HT0E/Ti8/DyX/KP8vDy8PKy89X0x/VY9ur2Gvfq9lj2ZvV09FHzX/I88ejv9u6V7pXuJ+/o76rwnfGP8o/y8PJR8yDzX/LN8WzxqvDb8KrwSfB68KrwC/Fs8WzxzfGd8Z3xnfGd8WzxnfHN8WzxPPEL8Z3xLvKP8oHzdPTV9Gb19/Uo9lj2ifZY9ij2ifaJ9rn26vZL9w34nvhg+WD5IvqD+oP65PpF+wf8aPwp/bv9rf6g/wAAMAAiAbQBRQJ2AqYCyQNaBFoE7AQcBRwFrgXeBT8G0AZiB5IHAQcBBwEHMQcBBwEHAQdiB8MHVAjmCEcJCQo5CjkKOQo5CmkKCQqoCUcJtQi1CHcJdwnmCHcJOQo5CgkKygpcC1wLXAtcC1wLHgzgDHENMw4lD+cPqRCbES0SHxOxE3IUNBWVFfYVVxYZF9sXbBj+GMAZ4xp0GwUclxzHHPgciR1ZHccclxyXHMccZhzHHIkdex57HuodGx57HuodWR2XHAUcpBuyGl8ZCxjpFsYVZRWjFOET7xL8EQoRSBDnD5QOcQ2vDFwLOQq1CJIHAQfeBVoE+QM4A+QBUwGRAAAAP/8c/in91vtS+s/4rPe59sf1pPRD9IHz8PK/8r/y8PLw8r/y8PK/8vDyv/Jf8l/yj/Jf8v7xLvKd8WzxC/Hb8NvwqvA88S7yX/Lw8lHzdPQF9Zf19/VY9rn2WPa59hr3ifa59hr3Gve59lj2WPYo9vf1l/WX9ff19/X39Vj2WPaJ9ur26vZL99z3rPd799z3z/ie+J74z/hu+M/4Pfjc96z3Gve59lj2x/WX9Tb1pPRD9BP0E/Sy81HzgfMg8/Dyv/Jf8r/yj/K/8r/yv/KP8p3x/vHN8QvxqvBJ8Ljv9u407tPtEe1y7RHtQu0E7mXule727lfvuO+473rw2/AL8Z3xzfEu8vDygfOB8+LzNvUo9lj2Gves9w34PfjP+DD5YPnB+SL6UvoU+zf8mPz5/Lv9rf6g/wAAMACRAMEAwQDBAPIA8gDyACIB8gDBAPIA8gCRAMEA8gDyAPIA8gDyAFMBtAGDAYMBtAFTAYMB5AHkAUUCRQJ2AgcDpgJFAqYCpgJoA5gDmAMqBLsEiwQcBRwFHAXeBQ8GPwYxB8MHhQh3CagJCQppCsoK+wr7ClwLvQseDK8MEA2hDaENAg4CDgIOlA4lD4YPtw/nD6kQqRDZEDoROhE6EWsRmxHMEcwRzBFdEu8S7xLvEo4S/BH8EWsRChEKEdkQSBAYEOcPJQ+UDmMOMw4CDjMOcQ2vDE4MTgztC4wLaQo5CqgJtQjDB2IHAQcPBuwEWgSYA3YCRQKDASIBYAAAAAAA0P+g/w7/b//e/kz+ff5M/lr9+fxo/Kb7RftF++T6Ivrx+fH5YPme+D343Pfc93v3rPfc99z3e/es96z3rPes99z33Pc9+G74bvhu+M/4//gw+WD58fmQ+ZD5//j/+P/4MPlg+ZD58fnB+VL6s/p1+wf8N/zW+wf8aPw3/Gj8mPzI/Pn8iv35/Pn8Kf0p/Zj8yPyY/Df81vum+xT7FPsU+4P6s/qz+rP6FPuz+rP6FPvk+oP6UvqD+vH58fnx+fH5IvpS+vH5YPkw+TD5bvhu+G74z/j/+GD5kPmQ+TD5YPlg+TD5YPnx+VL6Uvqz+rP6FPum+zf8aPwp/cj8mPz5/Mj8yPyY/Mj8mPyY/Gj8aPxo/Jj8+fxa/Yr9Wv1a/bv9u/3r/Rz+TP5M/n3+rf4O/z//Dv8O/w7/Dv8O/z//Dv8O/w7/3v4//2//b/+g/2//Dv8O/w7/Dv8//9D/AAAAADAAwQAiAYMBtAHkARUC5AF2AqYCpgJoA/kDWgSLBH0F3gXeBXAGcAZwBnAGoAYxB5IHkgeSB1QItQh3CTkKmgrKCisLvQtcCysLKwsrC4wLKwtcC+0L7QseDB4MrwzgDOAMEA2vDOAM4AxODB4MHgy9C+0LTgztC+0LjAuMC+0LXAv7CisL+wr7CpoKCQoJCmkKOQoJCmkKOQrYCdgJaQo5CkcJFglHCRYJVAiSB9AGcAbeBbsE7AS7BPkDaANoAzgDOAPXAkUCtAGRAAAAAACg/w7/Dv8O/w7/P/8O/63+TP4c/or9aPw3/EX7g/rB+WD5//hu+D34PfgN+Kz3bvjP+G743PcN+Nz3e/dL9xr3S/dL97n29/Uo9vf1ZvU29QX1BfXV9KT0pPSk9KT0pPR09KT0pPRm9Sj2WPb39Yn2S/d796z3PfgN+Nz3//hg+TD58flS+lL6g/qz+rP65Prk+hT7FPvk+nX71vsH/Gj8Kf3r/Q7/b/8AAGAA8gCRAMEAwQDyACIBIgHyACIBgwFTAcEA8gBTAeQB5AG0AbQBtAG0AbQBtAG0AYMBgwGDAVMB5AFFAkUCdgJFAkUCFQLkAUUCtAHyAMEAMAAAAND/0P+g/6D/0P+g/9D/0P9v/w7/Dv/e/t7+3v5M/uv9TP59/kz+TP4c/uv9Kf1a/Vr9Kf1a/fn8yPzI/Jj8yPz5/Cn9+fxa/bv96/27/ev9TP6t/t7+Dv+g/9D/AAAAAAAAAAAwAJEA8gBTAbQB5AFFAnYC1wI4A8kDKgS7BOwE7AQcBX0FPwbQBgEHAQcBB6AGoAbQBtAGoAYBBwEHMQcxB5IH8wfzB8MH8wfzB/MH8wcxB2IHYgfQBjEHkgdiB/MH8weFCOYI5gi1CIUIhQjzB/MHwweSB5IHMQcBB5IH8weSB2IHwwfDB2IHAQcxBwEHoAbeBU0FiwSLBPkDaAOYA8kDaAMHA3YCtAGDAfIAkQAAAAAAMAAAAND/oP8O/97+3v4O/z//Dv/e/q3+rf4c/uv9Wv35/Jj8B/zW+9b7FPuz+oP6IvpS+vH5YPkw+TD5nvhu+G74Pfis90v3Gvfq9kv3GveJ9lj2x/Vm9dX0pPR09BP0gfNR8yDzv/KP8o/yj/K/8r/y8PJR87Lz4vPi8xP0dPSk9HT0pPQ29ff1WPaJ9hr3S/d796z3rPfc9w34nvgw+cH5UvoU+9b71vuY/Fr9iv19/t7+3v4//2//oP8AAAAAAABgAMEAwQDyAOQBFQJFAqYCpgKmAtcC1wI4A2gDyQNaBLsEHAXeBd4F3gUcBRwFTQW7BFoEWgRaBJgDOAM4A2gDaAMHAwcDaAM4A9cCdgJFAnYCFQK0AYMBIgFTAVMBtAGDAfIAIgHyAPIA8gBgADAAAAAAAAAAoP9v/2//b/9v/2//0P8AAAAAMAAAADAAwQAiAVMB5AFFAkUCdgKmAnYCdgIHA9cC1wLXAtcCOAPJAyoEWgS7BE0FfQXeBXAGoAagBqAGAQcBBzEHMQdiB2IHYgeSB2IHkgfzB/MH8wfzB/MHkgeSB8MHYgcBB2IHYgeSB8MHJAjzByQIhQi1CIUIVAiFCLUIVAiSB2IHMQfQBnAGDwauBX0FrgXsBFoEiwTsBFoE+QP5A2gDBwN2AhUC5AFTAWAAkQBgAAAAAABv/33+HP6K/cj8mPwH/Df8aPzW+9b71vum++T6s/qD+lL6Uvoi+iL68fki+iL6g/rk+uT65PpF+0X7dfsU+0X7dfvW+3X7pvsH/Jj8mPxo/Mj8Kf0p/Yr9Wv3I/Gj8aPw3/Af8B/zW+6b7dftF++T6FPtF+0X7UvpS+iL6Ivrx+ZD5MPkw+c/4nvgN+A343Pd793v3e/d793v3rPd79xr3e/dL90v3S/dL93v3rPd793v3rPd796z3DfgN+A34bvjP+J74z/gw+WD5wfnB+cH5s/oU+xT7dfsH/Af8B/wH/Jj8yPz5/Ir9iv27/ev9ff4O/2//b/8AAAAAkQDBAMEAwQDBAFMBgwEiAVMBUwGDAbQB5AFFAtcCdgJFAqYCdgLXAgcDdgIVAkUCFQJFAkUC5AG0AeQBtAHkAUUC5AG0AeQBtAHkAUUCRQJFAhUCtAHkARUCtAGDAVMBgwGDARUC5AEVAnYCpgKmAtcCBwNoAzgDaAPJA2gDmAMqBJgDaAOYA8kDmAOYA5gDKgRaBPkD+QOLBFoEyQPJAyoEWgS7BBwFfQV9BQ8GcAZwBqAGAQeSB5IHYgdiByQIhQgkCCQIJAiFCIUI5ghHCeYI5ggWCXcJFgkWCUcJdwnmCOYItQjmCBYJ5ggWCeYIJAiSBzEHYgcxBwEHPwbeBa4FTQW7BFoEOAN2AhUCtAFTAZEAkQAAAAAAAAAAAN7+TP6K/fn8+fyY/Nb7FPsU+7P6Uvoi+sH5MPmQ+WD5MPn/+J74z/j/+G74DfgN+G74Pfhu+M/4MPkw+ZD5wfnx+SL6s/rk+uT6Rfum+wf8N/wH/Gj8yPzI/Pn8iv2K/Yr96/27/Yr96/1M/hz+HP59/g7/Dv8O/2//3v6t/j//P/+t/q3+rf6t/t7+rf5M/uv9u/0p/cj8yPyY/Nb7pvum+9b7B/x1+xT75PqD+oP65PpF+0X7s/qD+vH58fki+lL6g/pS+iL68fnB+cH5MPlg+WD5YPlg+TD5wfki+rP65Pqz+hT7Rft1+6b7dfsH/Gj8mPxa/Rz+HP59/n3+3v7e/j//AADQ/wAAAAAAAAAAAAAAAAAAYACRACIBtAFFAhUC5AEVAqYCBwPXAtcC1wIHA9cCBwP5A/kD+QOYA5gDKgQqBCoE+QP5AyoEiwSLBIsEuwS7BLsEfQV9BRwFHAXsBLsEWgRaBMkD+QNoAwcDaANoA9cC1wIHA9cCpgLXAqYCFQIVAhUCFQIVAhUCFQIVAhUCtAGDAVMB5AEVAkUCRQJFAhUCRQJFAnYCBwM4AwcDBwNoA2gDBwPXAgcDOAOYA5gDyQMqBMkDKgSLBIsEKgRaBIsEKgT5A1oEKgTJA5gDOANoAwcDBwPXAqYCpgKmAqYCpgJFAkUCRQK0AbQBtAHBAGAAkQCRADAAkQCRAAAAAAAAAND/AAAAAD//b/8//z//ff4c/kz+HP67/Vr9Wv35/Jj8mPyY/Af8pvum+6b7dftF+0X7FPsU++T6RftF+0X75Pqz+hT7RftF+0X7pvt1+3X7dfto/Mj8yPxa/Yr9u/19/q3+ff6t/t7+Dv9v/2//0P8AAAAAAAAAAAAAAAAwAAAAAAAAAAAAAAAAAAAAAAAAAAAAMACRAPIAwQCRAGAAMAAAAAAAAAAAAAAAAAAAAAAAAADQ/6D/b/+g/6D/Dv/e/q3+TP5M/kz+HP67/Rz+HP59/t7+Dv+t/q3+3v5M/kz+ff6t/q3+ff4c/kz+HP6t/n3+TP6t/t7+rf7e/qD/oP9v/6D/AAAAAAAAAABgAGAAkQAiAYMBtAEVAkUCFQJFAkUCdgJFAkUCpgLXAqYCOAOYA5gDmAP5A4sE7ASLBOwE7ATsBE0F7AS7BLsEiwS7BIsEKgRaBIsEyQOYA5gDaANoA2gDpgLXAtcC1wLXAhUCRQJFArQB5AG0ASIBgwEiAfIAIgHyAPIA8gAiAfIAwQDyAMEA8gDyAMEAwQAwADAAYABgAAAAAAAAAAAAAAAwADAAMAAwADAAYAAAAAAAAADQ/6D/oP+g/9D/0P+g/6D/0P8AAG//Dv8//97+TP67/Rz+6/1a/Vr9Kf1a/Yr9iv2K/Vr9Kf0p/Vr9iv27/ev9HP7r/ev96/3r/ev9HP7r/ev96/27/ev9u/3r/ev96/27/ev9TP59/q3+rf4O/z//P/8//6D/oP8//2//oP/Q/wAAb//Q/z//oP+g/wAAAAAAAAAAAADQ/wAAYAAAAAAAMAAAAAAAkQDyACIBUwFTAYMBgwG0AYMBtAG0AYMB5AHkAeQB5AFFAkUCpgLXAqYCBwPXAqYCpgLXAtcCpgIHAzgD1wKmAnYC1wJFAkUCFQKDAbQBtAGDASIBwQCRAGAAMAAAAAAAAAAwAAAAAAAAAAAAoP8AAAAAAAAwAAAAMAAwAAAAAAAAAAAAAAAAAND/oP/Q/6D/b/8//z//3v4O/97+b/9v/z//oP8AADAAAAAAAAAAAABgAGAAkQDBAMEAwQBTAeQBRQIVAhUCpgLXAgcDOANoA5gDaAOYA1oEWgRaBIsEuwTsBBwFfQV9BRwFHAXsBBwF7AS7BFoEWgS7BIsEWgRaBJgDOAM4AwcDpgLkAbQBgwFTAVMBIgHBAGAAYACRAGAAAADQ/wAAAAAAAAAA0P8//z//3v59/kz+HP7r/bv9Wv2K/fn8yPwp/Vr9mPyY/Jj8aPw3/Df81vum+6b7dft1+0X7FPtF+7P6Uvoi+vH5Uvrx+ZD5YPlg+TD5//jP+M/4z/ie+J74nvhu+A343PcN+A34Pfjc96z3Dfis9+r2S/ca97n2ifaJ9on2ifa59ur2S/ca9+r26vZL9+r2e/fc93v3Dfie+J74Pfie+P/4z/gw+WD5wfki+vH5g/oU+0X7pvto/Df8aPwp/Vr9Kf0p/bv9TP59/t7+Dv9v/9D/oP/Q/wAAMABgAGAAYACRAMEA8gAiARUCdgJFAnYC1wI4A5gDKgT5A8kDWgSLBFoEWgRaBLsE7ATsBBwF7AQcBX0FfQVNBX0FfQV9BX0FTQVNBU0F7ATsBLsEuwRaBFoEiwRaBCoEKgT5A5gDaANoA2gDOAM4AzgD1wKmAqYCdgJFAuQBgwG0AeQB5AEiAcEAkQCRAPIAkQBgAGAAYACRAGAAAAAwAGAAAAAAAAAAAAAAAAAAAAAAAAAAAAAAADAAwQCRAJEAkQCRAMEAwQAiAcEA8gBTAVMBgwG0AUUCpgLXAjgDOAMHA2gDaAPJA5gDmAMqBPkDKgQqBCoEiwS7BLsEiwS7BBwFWgSLBBwFuwSLBLsEiwRaBFoE+QOYA2gDmAM4AzgD1wLXAuQBtAEVAoMBIgEiAcEAkQDBADAAkQCRAAAAAAAAAKD/0P8O/63+rf59/hz+u/27/Yr9Kf3I/Df8B/ym+0X7FPuD+lL6g/oi+iL6Ivoi+pD5wflg+WD5//jP+P/4bvg9+A34Dfjc96z3rPdL93v3e/ca90v3S/dL96z3S/e59hr3Gvca9xr36vbq9hr3Gvd796z3rPd796z3rPdL90v3S/dL96z3e/d799z33PcN+D34Pfg9+G74z/j/+P/4MPkw+TD5wfki+lL6g/qD+oP65PpF+9b7aPzI/Jj8Kf0p/Yr9Wv1a/Vr9Wv3r/ev9HP7e/q3+rf6t/j//0P8AAAAAAAAAAAAAMACRAJEAwQBTAbQB5AFFAnYCpgJ2AnYCOANoA5gDaAOYA/kDKgQqBCoEiwRaBLsETQVNBX0F3gUPBg8G3gXeBXAGcAYPBg8GcAbQBtAG0AYxB8MHkgeSB8MHwwfzB1QIhQhUCLUIhQgkCPMHwwfDB8MH8wcxBz8GoAYxB5IHJAhHCTkKmgorC4wLjAtcC4wLvQu9C68MxA4EFW4f2CkfM0k32TCtJZ0YVAhg+WXu9ed+5efoSfDP+IsE2RDbFzYcKB1sGEgQcAZa/Sj2v/L+8Wb1Kf27BH8MsRO4FnoXbBiVFR4MAACJ9qPtM+dA5kjpZe7H9X3+Ygd5EJUV7xIrC00F0P8N+CDznfHi8xr3nvjW++wE7xIwIAcj2xfQBs/4o+0t66T0MABNBbQBTP59BbETURrpFrcP7ATB+bLzE/Qo9hT7DwZdEnoXQhRBDTEHkQAi+qz3dfuLBOcPBBUfE50Y3iW1KMccvQtg+RnwMPmYA6AG8wdaBCL6IPOs900FQxtALWsx7StFIqoX2RDQBj34E/SY/DgDHgzbF5ccHxORAHT0Q/QH/IUILRKhDcj8/Orz4BzemNxF25jclOee+FMB8gDBADgDb/9X7xTbStAh0yjWj9Lw0hTboeZf8g34bvim+33+e/cK6pLg1tuD2vncOePG7uT6FQIkCHAGdfud8ULtOupy7az35AHKCisL5AFF+8/4ifY9+A7/YgebEScWzBH7Cg8GuwTzB5QOgBNCFI4SxA6SB1MBYACYAyQITgyUDkENrwwzDmMOJQ8YEEcJWv2m+5gDAQfXAuv9ufbV9DgD0xSVFRANDwat/tz3l/XN8bDsBO659rv93v6K/fn8iv1FAvsK4AzeBWj8E/S47yfvevDH9YP6x/XT7Tzxs/owAGAAe/fo79X0RftF++T6u/2K/T34j/Js8cf1B/ze/pEATQXeBa3+l/Ug88j8jAv1DtAGyPx09KT01vswALQBcAaaCn8MLRIEFdgJPfgZ8J74KgQJCpoKCQp/DIYPkgfW+7P6B/xL9574aAPDB/kD5AEVAgcDfQUHA2D5nfE9+BwFSBDvEjEHe/c88RP0YPmm+3X7HP7sBDkKcAZ9/s/4X/Kp6WvqDv/2FVATAAC59hr3z/gVAlYPHgzP+EDmP9+v5S7yYPkwAE4Mhg/eBQ7/wQA//+jvFuJA5tX0mPxo/JD5YPmY/Ez+3Pcn7xnwifYp/a3+dfsU+0X7gfMC5zHg8+DE5+jvufZa/QAAUwHJA5D5veS14aHmFuIx4L7r+fygBoMBBO433G/fgfOLBMoKwwfx+b3kptsr5IfvkPkWCVATjAvP+OfomuO14TPn//hiB8MHtAEAAD//ff5gAOT6NO7Z6cburPcc/uv9Kf1v/8EAdgIcBewEYABg+TzxvutI6R/smPz1DtINDv9m9Tb1FPtTAWAAz/jH9T34nviz+m//UwFTAWAAAABo/Ev3s/qDAXYCwQCRAOv9Pfjc9+v9PwYeDO0LHAVS+oHzl/V9/lwL7xJxDZIH7AS0Aev9N/yRAK4FPwYqBNcC1wIiAdcCMw5KFwoRHAVv/9b7YAB/DEgQYw7tC1MBHP4WCcoKAABTAbUIYgeoCfYVWR0ZF8oKrf659m74N/wU+0z+XAuPGS4Z0g3JAwAAIgGmAqYCfQVODIYPXAtNBWAARfsw+WAAwwd9BbsEMw6IFgQVygqY/In2oP9jDrETEA3QBj8GtQgJCuYIJAioCb0LQQ1cCz8G7ARpCvUO9Q4lD0EN+QOD+gX1Pfj7ClMhJCjPH8wR8gBL9+T6dgIcBQEHqAlwBrsEFgkQDX8MKwuMC04MMw6GDx4MfQXBAA8GJQ/tC6D/kPkAAFQIdwmgBuYIVg+pEMoK3gXsBE0FHAVFAm//TP7W+574FPtgAMEAWv0O/7UItw9BDYUIrgXkAWj8l/VX7zTusvP39aT0B/xUCLUIu/3q9r/ym+ro73AGzBFiB4P6qvB46cTnqemb6rjvs/q0AQAAP//eBRAN+wowACDzeOlI6TzxUvoH/D34rPdo/MEAMQdjDvUOKgTP+Or2ff5UCBYJyPwn76rwN/xgAAAAOAPDB+YIrgXkAQ7/Kf0c/gAADv+m+6z3E/SJ9m//KgQAAP/4rPfx+bv9TQV3Ca4Fb/8U+3v3IPNs8Yn2ff5TAev96/1oAxwFgwG7/SL6Dfga9+r2dft2AgEHkgc/BuQBz/iP8ur2MACuBbsEfQXeBbQBUwEJCr4SXRIJCtD/KPY29X3+8wevDLcPHxOxE+cPygpwBvkDWgR9BaYCMPmP8mD5kgddEtsXXxlCFBYJtAFgAMj89/UN+NcCAg46EdIN8weLBLsEPwb5A9D/+fw//4MBrf4U+w7/dgJgAFMB5ghIEKMUsROFCNb73Pem+9D/BwOgBiQI5gigBuQBRQK1CE4M+wqgBskDRQKDAfIA1wJ9BbsEtAEwAAAA3v59/qD/MAAAAGAAuwQeDNkQMw4xBzgDb/+59jzxUfMa90X7OAOhDZUV2xdCFJQOKwsxBz//GveJ9mD5bvjH9eT63gUeDPsKaQo5CgEHTQWuBYsEgwGRACIBYADkAQEHtQiLBD//yPwp/Yr9Wv27/a3+AABaBL0LMw5pChwFDv+J9i7yQ/Qa94n2S/fk+uQBmgoQDbUI5AFa/ZD5Q/Sj7TrqBO6k9Br3dPQu8on2TP6DAQAAMPls8ZXuevDi87n2//gN+CDzEe2b6vbux/XP+Ev3l/Wy8/Dyj/KP8oHzNvXH9eLz/vFR85f1l/W/8knwZe7u66PtdPRS+hT7FPvW+zD51fRs8WXuvust66Pt2/Ck9Ev3bvg9+D34YPl1+8j8pvum+9b7pvvr/d7+FPvH9aT0ifbx+W//yQOYA5EA3v6t/mAAaAMHAwAAmPzx+WD5Ivqe+Ev3Ivpv/0UCaANaBA8GVAioCUcJMQccBXYCb/+Y/Gj8ff7yAMkDyQOmAioE0AbDB8MHkgfQBt4FmAPBAAAAMADBAEUCuwSLBHYCdgKLBAEHkgfsBEUC5AGmAvkDKgS0Abv98fnP+CL61vvI/Nb7FPv5/OQBJAhcC9gJTQWRAMj8dft9/mAAtAHJA+wEuwS7BOwEaAPe/rP6Ivpo/G//AAAAAND/P/8O/wAAdgJNBX0FgwFa/Qf8Wv0O/yIBiwR9BX0FMQe1CIUIVAgkCA8GFQIAAGAA8gAAAA7/u/19/lMBuwTeBT8GfQXkAaD/P/+RAPkD3gUBBwEHuwS0AWAAFQKYA0UCDv/r/dD/UwFoA9AGRwlHCdAGBwPQ/1r9iv1v/6YCTQUcBRwFcAagBrsE+QP5AxUCAAAO/z//AAAiAaYCaAPJA/kDyQMVAgAAAADBALQBgwFFAloEfQXJA8kDcAYBByoEgwGg/6b7WPaB8/f1g/pM/mAAFQIiAa3+dfsi+iL68fmD+qb7aPwp/Rz+ff4c/q3+P//e/kz+N/wN+HT0Q/Qa92D5MPka90P0zfFs8bLzGvcw+fH5g/rx+az3KPYo9ij2ZvXH9f/4aPyt/gAAff5F+//4S/eJ9lj2Dfgi+qb7dfuD+kX7iv0//wAAAABv//n8pvuK/QAAAAAAAAAAAAAAADAAKgS1CHcJ0AY4AwAAff6t/j//MAAVApgDWgSuBXAGoAauBTgDwQDe/mj8B/wc/oMBWgTsBIsEmAN2ArQBRQJ2AuQBFQK0AVMBRQLJAxwF+QNTAZEA1wIPBoUIRwnzB7sE1wJTAQAAb/8AAAAAIgHXAk0FJAh3CRYJFgmFCN4F5AEwAND/AABTAdcCPwbmCPMHoAbDBxYJwwccBckDpgIAALv9TP4AAND/rf4//yIB1wJFAiIBYABgAJEAMAAAAAAAwQBoA4sEiwTsBPkDFQLkAdcCtAHyALQB1wJoA1oETQUxByQIrgXkAdD/ff6K/ev9AABTAdcCiwSSB0cJaQqMC5oKAQdFAkz+5Prx+Qf8AAAHA00FHAVaBMkDdgIAAMj8dftF+6b7mPwO/0UCPwYxB00FmANFAgAAu/2K/d7+AAAiAdcCBwO0AWAAYACRAAAAff67/Vr96/1v/2AA5AGYA5gD1wIHA8kDKgSYAxUCIgHQ/0z+Dv8iAckDKgQVAqD/Kf11+/H5wfnk+qb7N/wc/jAApgJaBBwF+QO0AaD/Kf0H/Af8B/yY/Fr9P/8AADAAAABv/7v9Rftg+f/4PfgN+DD5UvoH/Lv93v67/XX7Ivr/+MH5Uvrx+TD5kPmz+tb7+fzI/EX7wflu+G74YPnx+TD5Pfj/+IP6N/wc/qD/AAAAAAAAAAAAAAAAAACg/+v9pvtS+rP6FPvB+W74z/hg+f/4YPnB+bP6Kf0AACIBFQJ2AhUCdgI4A6YC1wIcBSQIRwkWCbUIkgccBTgDUwEAAA7/6/1a/Wj81vvr/SIBmAO7BH0FPwZiB6gJygppCowLEA2vDGkKYgfsBOQBAACg/wAA5AGLBIsEMAA3/HX7Rfvx+VL6aPxM/n3+u/35/Ov90P8AADAAFQIcBTEHwwcBB30FaAPBAKD/AAAiAUUC5AHBAKD/iv2Y/Fr9Kf2K/Q7/8gCmAskDHAUBB3AGiwSLBA8GDwbJA+QBwQAAAND/8gAqBH0FyQODAWAAb/+Y/HX7yPzr/bv9Kf3r/W//AACg//IAaAOLBIsEBwPyAAAAP/9a/fn8ff7Q/wAAgwHkASIBwQCDARUC1wKYA4sEiwR2AtD/iv35/Bz+3v6g/2AAtAFFAkUCUwFgAND/rf7e/tD/P/+Y/LP61vu7/Uz+Dv/BAPkDKgTJAxwFMQdiB1oE5AHyAAAAmPzB+cH5pvvr/a3+AADBAAAArf7r/bv9Wv1a/X3+0P/BALQBOANNBYsEIgGt/or9iv3r/Uz+0P/yAPIAAADQ/w7/ff4O/z//Kf1S+p74PfjP+CL6yPwO/5EA5AEiAQ7/HP5M/lr91vuY/K3+0P8AAG//+fyQ+er23Pc9+Fj2bvgp/QAAYACDAUUCFQLBAND/ff7I/Nb7Kf2g/zAAYAAAAAAAAAAAAAAA8gAHA/kDFQJ9/qb7s/qQ+T34s/oAAAcDWgR9BYsEFQIwAAAAAAAO/xz+HP4//zAAwQBgAAAAP//I/CL6wfkU+5j8+fzW+1L6g/pF+6b7pvvW+8j8u/27/Wj8N/yK/bv9mPy7/dD/kQCRAND/iv2m+1L6YPlu+Br3PfgH/D//AADBAIMB5AEVAoMBkQAAAND/oP8//63+AAD5A94FWgRoA7sEKgRTAQAA0P8c/qb7Uvrx+fH55Ppa/W//AABv/2//u/3k+oP6B/z5/Df8s/qz+hT7dfu7/ZEAUwHBAOQBaAPJA0UCUwHyAND/HP4p/Sn9Wv1M/gAAAABTAfkDHAUqBPkDrgXeBX0FuwQ4A1MBkQBTAXYCBwOYA7sETQUcBU0FPwaSB1QIdwnmCAEHMQeFCOYIDwaDAd7+Wv11+7P6HP7kAckDrgWFCFwLXAu1CLsEgwEwAKD/rf4AAFoEVAh3CagJmgpcC5oKqAlHCRYJMQfJA8EAu/3B+f/4yPzBAIsE8wc5CkcJTQUAAGj8pvsp/QAAKgQkCBYJAQeuBewEdgIwAJEA1wLsBBwFKgQ4A4MBiv1S+oP6Rft1+6b7dfvW+1r9TP4AAKYC7AQPBn0FdgIAABz+FPvP+MH5Rfum+5j8rf4AACIBdgLJA7sEyQNFAsEATP5S+s/4YPnx+UX7Kf2t/g7/Wv0U+zD5Dfjq9ij2GvfP+CL65Prx+dz3WPYo9on2e/fx+fn8Dv8O/w7/0P/Q/wAAAAAwAND/rf5M/or9B/xF+wf8N/yY/Cn9+fwp/cj8s/rc9/f16vbx+Sn9Dv8wALQBUwGg/wAAgwHXAmgDyQOmAlMBwQDQ/7v9TP4wADAAmPym+97+0P9a/ev9YAAiAcEAAABM/sj8RfvB+fH5mPyg/yIBOAMPBtAGrgXJA0UCUwHBAAAAAAAAAGAAYABv/97+b/8AAJEAIgGDAaYCmAM4A0UCdgJFAiIBYADBAFMB8gAAAK3++fxF+8H5g/op/QAApgJNBT8GHAXXAvIAb//I/OT6Ivrk+sj8mPwU+wf8HP7e/q3+oP8AAEz++fy7/X3+iv0p/a3+AAAAAAAAUwGLBKAGkgd3CU4MlA6UDn8MhQiLBFMB6/2z+hT7HP4AAFMBtAEiAQAA3v7r/d7+AACDATgDWgRFAgAAAAAiAWAAtAGgBisLHgxcC6gJAQfXAgAAMABTAUUCOAM4A6YCaAO7BBwFfQWSB6gJ2Ak5CqgJ8weuBWgDUwEAADAAwQDBAJEAYAAAADAAYAAAAA7/B/zP+Or26vas98/4UvrW+zf8B/yY/Fr9mPwH/Pn86/1M/kz+Dv+g//n8YPlu+M/4rPcN+Af8rf5o/JD58fkH/Lv9Dv9FAnAGMQeuBbsEWgRFAgAAoP/Q/5EAIgHkAckDiwQHA5EAMABTAeQBIgEiAfIAYAA//63+oP9gACIBaAOgBmIHoAYPBt4FfQUcBewEPwZiB3AGoAYBBw8GmANTAcEAAABM/q3+MAAiAUUCyQNaBMkDHAVUCNgJOQr7CpoKtQg/BhwFiwRaBOwEcAYkCIUIkgegBqAG3gUqBKYCpgLJA+wEfQWuBQ8GTQXJA0UC5AFoA5gDdgIVAjgDKgTJA2gDiwS7BAcDAAD5/LP6bviJ9sf1ifb/+Mj8AADyAAAAiv2m+0X7Rfuz+uT65PqD+pD5//is9z345Ppo/Mj8Kf3r/Yr9s/pL9yj2rPc9+M/4Rfu7/fn8s/r/+G743PcN+DD5g/rk+iL6kPn/+Or2UfPG7kLtBO6V7vbuqvBf8l/ynfHN8SDzsvNR87/y/vGq8Krwv/Jm9Sj2ifY9+GD5Gvd09C7ySfA07oDsOupr6kLth++d8aT0ifZY9vf1ifbH9eLzE/S59sH5yPxgAOwEYgc/BskD1wIVAtD/Kf2Y/Nb75PqD+mD5ufZm9Sj2S/dg+bv9RQKLBDgDwQDQ/0z+Kf1a/Q7/gwGLBNAGfQXkAW//Wv1F+1L6B/wAAMkD0AagBskDYAB9/or9yPz5/G//BwPsBD8GtQgrC38MMw5IEGsRqRDnDxgQ9Q4JCk0FuwTQBqAG3gViBzkKmgrmCLUIFgkkCHAG3gVwBt4FWgSLBNAGtQhHCQkK7QuhDTMOJQ86EaMUJxbGFZUVuBb2FV0SJQ8lD2sRvhJQEycWbBjNGDwYbBhsGBkX0xSOEnkQcQ1cC+AMxA5jDkEN4AwCDpQOoQ0eDL0LHgzKCkcJCQorC70LjAv7CqgJYgc/Bj8GcAagBnAGkgeoCfsKKwuMCx4MCQpwBvkDpgK0AUUCyQMqBGgDaAPsBN4FHAWYA6YCOAMVAqD/TP5M/in9pvsi+v/4e/ca93v3Dfis99z3Uvo3/Df81vs3/Lv9ff75/BT78fme+Hv3Dfie+DD5IvoU++T6YPnc95f1svOd8ZXu7uub6szq/Opr6pvq7utC7RHtQu1C7U/s2enS5u3kmuMW4vPgAeCg3w7fTd593m/fP98O3z/foN+g3z/fAeBG4prjmuOa4yvkyuOn4kbimuNO5QLnSOkR7UnwPPEn7+Hs4ezh7O7rOuoX6UjpOuo66oDs/vFL9z34kPkO/1MBP/+K/Uz+yPw9+Fj2wflo/Af8HP4iAYMB6/1S+rP6kPn39QX1z/hF+0X7B/ze/pEAAABv/wAAwQAAAPIArgXKCkENcQ1IEDQViBZyFBIUNBVlFRIUgBNQE+8SmxHMEb4SvhLZEPwRNBVXFicWGRchGjYcshrwGRMb+BzqHRseGx6JHaQbzRghGigd+BwoHWAgByMiIYkd1RsTGwsY4ROxE0IUEhQ0FRkXqhdXFvYVbBh0G6QbshpDG0MbLhnpFpUV9hUEFbETjhLvEl0SmxHZEEgQ9Q5jDucP/BG+Er4SUBNQE44SzBGOEoATHxOOElAT0xQ0FTQV9hWqF50YPBhKF2UVUBPZEBANCQq1CMMHPwYPBtAGoAZNBVoEWgSmAmAAP/9v/7v9Ivp794n2x/Wk9KT0x/WJ9hr3S/d799z3S/e59hr3bviQ+WD5MPkw+Z74ifb39Uv3MPmQ+fH5UvrB+az31fQg853xSfCV7hHtjutr6jrqqelW6KHmHeUr5Ajjp+J34hbi5eHD4K3eWt1o3OTaPdiJ1mbVE9Sk1CjWKNaX1WbVZtVm1TbVx9XH1UPU8NLw0iHTwNKy05fVida61g3Y8tmD2pHZg9r53CrdB9xa3QHgJOHD4Ajj0ub157boXesn72zx8PLH9Z74IvrW+1r9u/35/Pn8iv1M/n3+Dv8iAUUCIgGRAGgDfQUqBMkDcAYkCAEHVAhODHENrwwQDecPChEzDvsK2AlUCA8GfQXQBsMHVAjmCNgJmgpcCxAN4AztCx4MEA3gDK8MlA55EF0S9hXjGhseSx5uH9Yi+SN1ItYiuySYI/8fSx5ZHQUcpBuJHUsexxxmHLodWR0FHMcc/x/kIUUiByPJI6YiIiGeH8cc8BnwGYIaghp0G/gcGx74HOMajxkZFxIU7xIKERANaQqaCpoKCQrKCkEN5w86ES0SEhRlFdMUchQSFLETUBOAE7ETgBOAE7ETHxP8ES0SzBGpEOcPeRAYEGMOrwyMC9gJVAgkCJIHcAZ9BX0FuwRaBOwEDwYBBwEHMQcPBmgDIgFv/5j8MPm59mb1dPSy87LzE/Rm9Uv3bvg9+A34MPki+pD5Dfjc9574bvh790v36vbH9Tb1NvXH9cf1Q/Sd8Vfvcu0t68Tn7eRp41Thrd4c3qDfAeDe3q3eb9+t3vncKt1N3t7efd593k3e7N2Y3Kbbg9pg2ZHZItow2W7YS9eJ1gXVstNf0v7RC9EL0V/SUdPA0mzRzdFR04LTgtP41c/Ykdm02uzdDt+t3pLg7eTS5n7lAueO69Ptcu1X77Lz1fS/8r/y6vYU+8j83v7XAg8GAQfDB/sKoQ2hDXENtw9rEQoRGBDvErgWoxQ6Eb4SoxSGD+YI5giaCsMHWgR9BSQIfQW0AWgD0AYPBosEMQeMC4wLqAmMCwIOcQ3SDakQUBMSFGUVShfbF3oX2xfNGI8ZghrjGvAZwBkhGl8ZehcZF18Z1RuJHc8fpiL5I5gjySO7JPkjRSLkIWgjmCOmImgjWiSYI/Ignh/PH24f3B7qHfgcdBv+GIgWZRUSFAoRlA4CDmMOAg6hDTMOVg/nD/UOxA7EDsQOxA4zDjMOYw4lD3kQ2RCpEDoRvhJCFAQVlRWVFQQVUBOOEo4SLRKbEZsRLRI6EbcPxA6UDmMO0g0QDU4M+wqaCtgJVAiSB2IHoAbsBKYC8gAAAG//TP5a/Tf8pvtF++T6kPms9yj2BfWP8hnwZe4E7nLtEe1C7cbuqvDw8qT0NvVm9Wb1BfVD9BP0IPNf8v7xX/Jf8jzxSfC47yfvNO7h7L7rOurE56/lmuOS4H3e+dy02s/Y3Nd818fVQ9Qh0/DSUdNR01HT8NL+0dvQStCIz/bOiM/GzjTOBM4nz1fPiM+d0XTUx9XH1SjWPdj/2NzXutZ8127YfNdm1QXVidbP2LvdK+QC5xDmM+f27on2KPYT9GD58gDXAvIAaANHCX8M9Q7TFIIaLhnpFgUcdSLPHzwYShePGYgWOhHZEO8S2RArCw8GPwbzB3AGKgT5AxwF3gXzB2kKvQuaCiQIkgfDBzEHAQcWCYwLrwwCDqkQLRKbEQoRLRJQE0IUBBXGFZUVchQSFKMUNBU0FScWbBiCGgUc1RtDG+MadBtZHRserB7/HzAg/x+eHz0fiR02HKQbdBukGzYcxxzHHHQbIRpfGaoXZRVCFB8TaxEYEHkQChF5EIYPSBA6EXkQVg/nD9kQqRDnDxgQChFIELcPhg+3D7cPGBDnD4YPVg/1DpQOoQ1ODL0LHgwQDQIOAg7gDB4MTgyvDCsL2Ak5CmkKCQrYCdgJFgkkCCQIJAiFCLUIhQhiB3AGfQX5A5gDKgTJA0UCIgHBAGAAAAAO/w7/Dv9M/in9B/xS+qz3BfXw8gvxh++V7vbu6O8L8Wzx/vEu8l/y8PK/8l/ynfF68Cfvcu1d6wrqVuhj5wLnAudx5t/lfuWa42Lgu93W22DZ+NUh053RetAnzwTOo83GzsbOBM6jzfbOGdAZ0LjPStBK0CfPBM40zmXOo81zzZXOlc6VzrjPbNFs0c3RgtOk1BPUpNRu2AfcWt2S4DPngOwR7WXuv/KJ9lj2rPdM/mgDuwQBB0ENjhJQE7ETGRchGlEazRghGigdKB0hGo8ZQxuyGqoX6RYLGMYV/BHMEe8SSBC9C9gJOQqoCWIHDwbDByQITQUqBD8GMQc/BmIHygpBDfUOzBGjFNMUQhSjFMYVGRedGPAZ8BnAGSEadBvHHPgcxxyXHCgdWR2XHNUbpBuyGi4ZzRjAGcAZbBg8GF8ZghqCGsAZCxi4FogWJxYEFeETUBOOEpsReRCpEOcPAg4eDGkKFgm1CEcJ5gjzB7UImgpcC+0LEA0CDjMO5w9dEl0SmxGbER8T4RMSFNMUiBZKF7gWJxYnFvYVsRPMEcwRLRJrERgQ9Q4QDcoKqAk5CmkKdwm1CEcJdwlUCAEH0AYPBhwFuwQcBRwFuwRaBCoEWgR9BQEHYgfDB1QIJAjzBzEHoAZNBSoEaAOmArQB8gAAABz+pvsw+bn2svM88Sfvcu3u613rzOr86r7r4exy7XLtBO7h7C3rLetP7O7rzOr86mvqSOnn6CXoAucQ5srj0N+L3Yvd1tsN2FnWZtXw0jzRq9AZ0CfPgMypyTrK/MpWyODFosaGyPXHccbEx3nJVshOxVzETsUQxh7Fr8VWyPzKo81s0cfV/9im25LgTuVj55vqPPH39bn2IvoAALsEHAVwBq8MvhI0FekWpBvyILMh8iDJIwEnKiT/HzAgsyEwIPgcpBvjGsAZXxlfGTwYiBZyFF0S5w9BDVwLRwkPBpgDyQNNBQ8GcAZiBzEHoAYBB7UI5ggkCBYJvQtxDSUPeRBdEoATUBMEFWwYshqyGhMb6h0wIGAg8iAHIwcj5CGDIZgjNyPPH1kdiR2XHI8ZXxmJHRsezRhQE+8SgBMKERgQjhLMEXENqAkJCqEN2RDnD/sKrgUVAtcCdwn8EUIUVg8xB5gDDwb7CsQOAg45CvMH8weoCWMOsRMEFRgQ+wrtC2sR4RNIECsLRwlcC9INlA4lDxgQtw/gDHcJhQhpCisL5giuBYsErgWSB7UI8wfQBn0FWgSYA/kDTQUPBt4FTQWLBMkDmANaBOwE7AQqBJgDKgSLBDgDgwHBAMEA8gCRADAAAACg/1r9g/qe+Or2dPSd8VfvZe6A7JvqeOmG6DPnQOZA5gLn9ecl6PXnlOf15+fo2el46VboM+ff5e3k7eTt5DnjheGS4N7emNzk2s/Yl9Vf0nrQ9s6xzC3LCsqGyKLGTsWMxL3E+8PmwWLAJMHmwWLATb67vey9OLyDuiK6Rbs4vDi8Wr1HwkjJxs7A0g3YoN9O5fXn4ez39fn8MAAxB5sR2xdfGRseHCVUKOUo3yzuMhE07jLhM2U14TPnL+0rCCqEKH0lUyHcHlkdbBixE74S7xKGD4wLygpcCzkKRwnmCPMHcAYPBmIHRwk5CmkK+woQDfUOVg86EUIUxhUnFtsXshqXHNUbQxvHHPgcKB2sHjAg/x+eH2Ag5CGmInUidSIUIhQi1iIHIxQiIiGeH9weSx4oHXQbURouGQsYehdKF1cWoxTvEgoRVg8CDq8M7Qv7CncJwwegBt4F7AS7BK4FrgXsBGgDpgLXAjgD+QOLBLsEWgSYA+wEkgeoCcoKvQuvDNINlA7nD6kQeRBWD5QO9Q4lD/UOVg9IEBgQlA5xDa8MjAtpChYJJAjzB9AGfQVNBRwFWgRaBIsE7ATsBOwEDwbQBqAGDwYPBj8GDwagBjEHcAZ9BfkDBwNFAoMBwQAwAKD/TP6Y/OT6MPl79wX1LvKH77Ds2ekl6DPnr+W95CvkyuOa4/vjjORc5Gnjp+Ll4VThJOGF4YXhVOG14YXhkuDQ3zHgAeAq3SLaMNme2JfVIdPw0v7RJ88EzmXOQs2byufIhsgzx+3EK8SMxCvEFsJUwebBJMFwv02+Wr1FuyK6FbsHvLu9oL9UwWnDSMmr0PjV5NpU4cTno+3H9bv9dgIxB2MOiBYFHM8fTCUrKwIuti/hM504XjmqN+g2ejdlNQoxlC4dLDEnByOmIlMhKB1sGNMUvhJ5EOcP5w9jDisLqAk5CmkKdwliB3AGcAauBaAGCQrtC/sKHgx5EOETchRlFQsYzRi4FmwY+BzqHccciR0wIOQhRSJoI30lfSWYI1okfSXsJGgjaCNaJPkjByMUIlMhbh9ZHWYcBRwTG/4YShdKF7gWNBWjFLETChEzDk4MjAt3CdAGTQUcBU0FiwQHA4MB8gAAAKD/8gB2AvIAYAB2AjgDFQJaBMMHAQdiB8oK7QuMC3ENGBB5EEgQChGbEcwR7xIEFcYV0xRQE74SUBNrEfUOVg/EDh4MdwlHCagJwwdNBVoE+QN2AiIBUwG0AVMB8gCRADAAMACRAJEA8gDkATgDOAPXAgcDaAP5A8kDaAMHAwcDRQLBAJEAkQA//2j8s/r/+Ln2pPRf8rjvEe3M6pTn++Pl4fPgb9993lrdydyY3Nbb5NqD2oPag9qD2rTaU9oU2wfcddtT2oPaptvk2v/YS9fq1sfVUdPN0TzR6c9CzV3La8p5ySXIosbgxRDGr8VcxKjCqMLYwvPA3r7svey9B7zyuVO6IrpuuM+4drtNviTB0sYEzsDSx9V12znjF+lC7RP0aPw4AwkKjhJmHPkjFinSLRE0Xjk2PBo+L0DkQSJBDT8NP6w+LjldMsQuTiwxJxQinh+kGwQVChHZEPUOqAkcBQcDkQAO/63+3v6t/hz+rf7yAFoEPwaSB8oKYw55EF0SiBbwGbIapBtuH9YiWiR9JWInVCiSJ2Inpyn7KtgphChUKLUoMSdaJEUi8iANHygdlxx0G/AZbBjbF6oXShcEFYATjhItEvwROhG3D2MOrwzKCmkKCQpHCSQIAQcPBn0FHAV9BT8GTQX5A5gD+QOYA9cCBwOYA5gDKgR9BTEHhQjYCVwLoQ23D+cPSBDMEY4SXRK+EhIU0xSjFAQVVxYLGGwYCxgLGGwYPBgZF5UVEhSbEZQOQQ0QDSsLqAnmCBYJtQgkCCQI8wcxB6AGYge1CEcJFgl3CdgJaQrKCu0LrwwQDa8MrwzgDBANHgzKCqgJwwdNBQcDgwGg/2j8YPlY9vDyV++A7ArqlOcd5afiYuAc3gfcItpg2W7YfNe61lnW6tZ81z3YMNny2YPaptv53H3eb98k4eXh8+DQ38Pgw+De3lrdddv/2BvXKNY21fDSPNFK0ATOXct5yWPH7cSaw/PAWr12uzC5Z7Xwsl+y6a+jrdStBK41rtuwNrWst7S6ksAzxy3L6c/q1ovd++O+66T0rf5iBwIO9hVTIfsqVS+AM+I6PT97PmBArUWtRW4/KD1gQA0/6DY6MWMuwyd7HsAZnRgfE1wLwwc/BgcDP/9F+574ifbi84/yNvU9+A34//i7/RUCWgSgBowLJQ95EIATLhn4HFkdKB3PH2gjTCViJwgqKys5Kjkq7SvtK1Qo7CTJI6YiIiH/H54fKB0hGp0YSheVFR8Thg+vDPsK2AnmCOYIFgmFCDEH0AYBBz8GuwT5A8kD+QP5A+wEfQUcBU0F0AbzByQIMQc/BhwFiwRaBLsETQV9BX0F3gWSBxYJFgnmCBYJ5ghHCfsKQQ1WD3kQmxGxE5UVuBaIFrgW6Ra4FrgW2xdsGJ0YbBhsGDwYzRguGc0YCxiIFsYVlRVlFXIU4RPhExIUoxSVFbgWuBb2FZUV9hUnFlcWVxaVFaMUsROAEx8TLRJ5EMQOfwzYCcMH3gWYA/IAb/+7/RT7Pfg29WzxBO4t61boHeUW4j/fKt2m20Xb5Nry2TDZYNlT2uTaN9yL3a3eAeC14ZrjfuXS5hfpzOqO64Dso+1C7U/ssOzh7Pzq5+gz58rj0N9o3JHZKNaP0vbOLcsYySXIf8V3wvPAD79ovHa75Lrdt3S0UbMvsveuEq3UrTWuEq3UrZ2xyLXdtyK6cL8zx4DM9s6k1N7eY+fh7FHzb//mCK8MLRJLHggqlC6NMiA6PT/BQIpE5UigRs8/NjzVO4850zTnL/sqfSWRIMcczRhdEkcJUwGt/gf86vbN8fbule5C7YDs9u4u8o/yLvL39RT7TP7yAH0FFgkrC8QOBBUhGtUbNhw9H9YiDia1KJoq+yoIKggqmir7KhYpTCXkIc8f6h3jGukWHxN5EMQOrwz7CncJYgfsBNcCtAEiAWAAAAAAAAAAMACDAdcCmAP5A4sEDwa1CCsL7QuMC8oKKwu9C70L+wrYCUcJFgkWCXcJCQrYCUcJqAk5CgkKOQoJCncJ2An7Cu0LrwxxDcQOeRCbEe8S0xQnFicW9hUnFukWGRe4FkoXLhmyGhMbpBuJHW4f/x/BIIMh5CHyICIhdSJFIoMhUyGDISIhMCD/H/8fDR8oHaQbpBuCGjwY9hWjFL4S5w8QDcoKFgneBQcD8gDQ//n8Ivo9+Fj2Q/T+8Unwo+146QLnTuXK41ThoN993irdN9zW2zfcmNz53E3eMeDl4WnjTuWU5xfpm+pP7ATuh+888SDzUfOy86T0ZvVD9F/ySfAE7o7rJehc5JLgmNxu2EPUbNHGzl3LY8f7w7XBrr6mu5G5Dbgotga11bQTtI+yq7D3rsauo62/q46rEq2WrquwpbRTujHAf8WxzEPUYNlv39npx/U3/DAAygqdGCIhHCUdLGU1vzmyOi9A80eMS+VI0EYxRw5G8UDiOgQ1Ai59JYkdCxgSFOAMmAN9/qb7S/eP8nrw9u7u6zrqH+zT7dPtNO6H71/yufYH/FMBrgVHCWMOEhSdGHQbSx5gIEUiiySSJ7UoJCgxJw4m7CQ3I/IgGx5DG18ZGRdCFDoRAg6aCgEH7AQ4A0UCIgEAAKD/AAAAADAAkQBTAUUCmAPeBRYJXAt/DH8McQ2UDoYPSBAKEQoRSBA6EY4SChHSDe0LXAuMCzkKhQgxB00FaAO0AbQB1wJoA5gDiwQPBjEH5giaCowLmgrYCfsKYw7MEXIUGRf+GI8ZURqkG1kdDR89H3sePR9TIfkjPyaEKCsrfixOLFwrmiqnKSQoASc/Jq0l7CSLJCokaCPkIW4fBRxfGVcWHxMYEBANdwmgBioEtAEwAA7/Wv2z+tz3ZvXi82zxxu4R7U/s/Oqp6bbohuiU59/lHeVO5U7l7eTt5K/lEOah5gLn9ee26NnpLeuw7KPtle5X73rwbPG/8hP0pPQ29Wb1x/X39Zf1Q/TN8Unw0+3M6sTnfuWn4g7fRdue2JfV/tFlzl3LJcivxQnD0b8qvaa7Irrdt1m2l7VEtF+ybbF6sGWuXqtrql6r2qn1p16ruK+dsYm2ksBWyO/LstMB4JTnzOrw8j//PwZODBkXNyNpKqkwvzl1Qt5FhEihTRdQEE28S69M5UhuP7g2/DHSLW8m+BzTFJQOwwfBAGj8YPlR8x/s2elP7PzqoeZx5kjphujE50/sv/Kk9Jf1aPyuBfsKEA2OEs0YshpDG/8fKiQUIj0f8iCYI3UikSDBIG4fExs8GP4YnRjvEnENXAvYCaAGKgQHA4MBAAAAAFMBRQIVAkUCaAN9BSQI+wpBDSUPqRCOEkIU9hW4FrgWJxb2FVcWVxbGFUIUjhKpEPUOoQ0eDHcJcAZaBNcCUwEAAD//u/35/Fr9ff7Q/zAAMADyAKYCWgSgBiQIRwmMC5QOLRLGFV8ZxxysHpEgpiL5I7skbybzJ4QoRin7KowrXCuvLAIuoS0QLRAtfiw5KsMnrSXWIm4flxyCGgsYZRVQE8wRVg+vDAkKMQeLBOQBoP9a/bP6S/dD9M3x6O8E7k/sjutr6ufoxOcl6Ibo9ef15/Xn9ef151bo5+hI6efoqeld60/scu3G7knwzfGB88f1rPfP+DD5MPnx+fH5//ie+G74rPdL9xr3WPaX9RP0/vEn77DseOlO5Rbib9+m2+rWUdN60BLNSMnSxozEVMHevhy++bzkum64S7eJtvi1NrUhsy+yj7IMsSevlq64r1ev967Ast23drugv07FvssT1LvdHeVI6TzxmPx9BRAN0xRmHH0lcS0RNJc8ikQARz9Gp0mTTnFNtUhvRvlDWD2VNToxHSz5I48ZGBDKCg8GoP8w+Wb1C/GO6wrqvuvM6hDmmuMQ5kjpzOqA7Hrw1fTP+K3+fQU5Cq8MSBD2FbIaiR3/H4MhUyFTIYMhFCLkITAgiR02HKQbLhm4FgQVjhKUDr0LKwuaCrUITQUqBBwF3gU/BjEHhQioCZoKQQ3ZEL4SsRM0FTwYIRqyGhMbExuCGv4YPBjbF4gWsRPZECUPcQ37CsMHuwQVAgAAWv11+/H5DfiX9UP0Q/R09Db1WPbc92D5aPwAAEUCHAUkCPsKMw5dEukW4xqJHWAg+SPQJncp7SvSLSUvJS+GL7Yvti/ELtIt0i2hLa8sjCsIKrUooCb5I/IgSx5RGukWEhQ6EQIOvQuoCaAGyQODAQAAu/3x+Yn2gfML8ZXugOwt6wrqhugl6Ibohugl6CXoF+lr6o7rsOxl7rjvPPEg8wX1ifZL99z3nvjP+DD5YPlg+cH5IvqD+hT7Rfsi+s/4S/f39XT0j/IL8RnwV++V7nLtT+xd66npxOcQ5ozk5eGt3hTb3NfV1P7Rxs4fzArKM8dcxNjCFsIBwCq9dru0usG5n7ist0u3Z7XAsv6xL7JtsXqwiK96sES0YLm7vXfCt8gnz/jVP9/15+HszfGD+loEmgoYEF8ZySM5KlUvVzbqPbNBIkFFQqBGVEiKRPFA/z+5Peg2xC6EKIMhCxgYEH8MhQgiAZj8FPv/+AX1PPG479Pt/OoK6o7rcu2j7aPtuO9D9PH5HP6DAd4Fdwl/DGsRxhWqFwsYXxl0G5ccWR26HdUb8BnNGI8ZURr+GIgWchTTFDQVoxSxE10SaxFIEFYPJQ+GD5QOQQ0CDqkQUBNyFPYVqhedGMAZshrjGoIabBhXFpUVchQtEkgQMw6MC4UIPwaLBIMBff4U+z34ufYF9SDzbPHo71fv6O888f7xX/JR88f1YPnI/AAAOAOgBtgJ0g0tEvYV/hjjGlkdYCBoI0wlbyaSJ+Uo2CkrK+0rryyvLK8sfiyvLHEtYy4CLu0raSp3KTEniyTkIUseIRpKF6MUmxHEDr0L8weLBLQBP/83/P/4x/XN8TTu7usK6lboY+cz5yXoSOk66h/sZe6H7zzx4vO59p74s/rI/Ov9Dv+RALQB5AHkAbQBFQK0AZEA0P8//7v9N/wU+8H5GvcT9Avxxu5P7ArqJejS5q/l7eSM5L3kXOTY4uXhw+DQ397eKt2m25HZDdi61lnWKNak1MDSzdEL0enPxs4SzczK9cfgxU7FysMxwJm88rkbt4KzSrCjrZyqJqhWqF6rJ69Rs7q2Rbt3wlDM+NXW2yTh5+g29VMBKwtdEkMbkieNMrI6dULYSWNO2VADVY9Zj1lBVPROTkxhR24/CzjZMCQoex4ZF/wR+woVAnX7ufZf8kLt2ekl6N/lteEB4Hfi3+Vx5mPnzOro75f11vtTAbsEMQe9C5sRZRXpFqoXXxnjGgUciR0bHokd1RvVG5cclxyCGgsYehcZF2UVsRPhE4ATLRJrES0SHxNdEi0SHxMSFKMUlRWIFkoXGRe4FvYV9hWVFbETChGUDn8M2AkBB8kDYAD5/MH5S/ek9Avxcu2b6ufo9edj52PnlOcz51bo/Oqj7bjvLvKX9WD5Kf0AAIsECQqhDZsRiBZDG6we5CEcJfMnOSqvLPUuFzDZMDoxOjFIMIYvMy6vLMoqVCjeJZgjIiENH/gcghr+GHoXNBVdEhgQoQ37CrUIYgfeBYsEmAN2AlMBIgGRAAAArf67/Zj8s/pg+T34Gvdm9aT0BfVm9Wb1l/WX9Zf19/W59kv3e/fc98/4wflS+rP6s/qD+lL68fnB+WD5PfhL97n2WPYF9VHzX/I88Vfvcu2A7L7rzOrZ6Qrqm+ot647rXeuO647rCup46RfpM+e95KfiteHQ3/nctNow2erWstML0VfPUMyUx8rDtcGgv7S6yLXjs4+y1K2GqBCmvaS1oSSh7qT1p+eoQq0otru9tcG3yNXU7N0I4xHtpvveBVwLBBWYIyUvVzZLPjFHk05BVPBZZlzUWyBazVi4VoBT7UvkQVE6lTUCLmgjBRxlFb0LBwNv/5j8NvWw7CXo7eSF4W/fP9+t3uzd7N1U4TPnH+y47+Lznvha/aYChQhODJQOGBASFM0YpBuXHJccKB17Hv8fUyFTIc8fex7qHRse3B6JHV8ZGRdKF7gW0xRCFOETXRKpEAoRjhJdEtkQqRDZEKkQeRAYEGMOHgyoCSQIYgeuBXYCoP/5/LP6bvhm9V/yJ+8f7Gvqqem26MTnAudA5mPn5+jM6rDsxu7b8OLzbvha/cEAKgTmCAIOvhJKF3Qbbh9FIt4l5SiMK6Et9S4lLyUvJS+2L7YvMy6vLCsr2CnDJ0wldSKRIEse1RtRGi4ZqheIFmUV4RPvEswReRC3D5QOoQ1/DIwLmgqoCVQIkgcBB00FBwORAND/HP6m+5D5Pfga92b1dPRD9FHzj/Jf8v7x/vEu8lHz4vPV9Jf1ifZL93v3DfjP+MH5MPme+G74Pfjc9+r2ifZY9pf1E/RR81HzX/IL8UnwuO+H74fvV+/27pXuZe4E7uHsm+p46efo0uZ34tDfHN5F29zXpNT+0fbO/Mozx/vDw8D5vJ+4yLXjs6uwgKzMqreoLKRVobWhCaM5o+6kCqq4r6W0prvgxfbOQ9TW24boE/SD+vIAMw42HFokryx0O+VI0U06USBaN2MGY1hd91yeX7JaeFB+TIxLg0HhM3EtOSqeHxgQoAZoAwf8SfCb6grqjOTk2g3Y5Npg2cDSX9L/2NbbRdvD4Pzq2/Au8tz3FQLzB/MHKwvvErgWVxYuGZ4fRSL/H4Mh0CZUKBwlNyO7JFok/x+6HaweKB1KF0IUxhVlFWsRAg7EDiUPfww5CowLTgxpChYJdwkJChYJMQfQBtAGuwS0AQAAAADr/SL6Pfh795f1j/IZ8GXugOyb6qnp5+i26PXnhuib6oDsBO7o71Hz6vbx+cj8MABaBMMH+wpWD0IUPBh0Gz0faCPQJrUomioQLQIuMy71Lkgw2TDnL1UvJS+ULq8sKyvYKZIn+SPkISIhnh9ZHaQb4xrwGf4Y2xe4FgQVjhIYECUPlA5ODHcJ8wfQBhwFmANFAiIBDv+Y/Kb78fnc95f1Q/RR8y7yzfEu8o/yj/Jf8oHzBfWJ9g34//iD+mj86/3e/m//P/+t/hz+Kf2Y/Df8Rfvk+oP6Ivrx+WD5bvga92b1gfMu8qrw9u7T7RHtgOyw7BHtEe2O66npeOkX6UDmp+Ik4Q7fg9oo1tXUUdPGztrJxMdxxmnD0b/svcm8g7rqtsi1KLaCswSuLau/q5yqf6X7oxipc61Crfeun7g5w0jJZc7P2CvkzOr+8Uz+wwdxDfYVySMCLgQ1ez44SglRjVIDVb9ZQ1tsWOFTeFBxTTFHnj8gOh8z0CYTG7ETHgzkAf/48PIR7d/lheHD4N7ewdlZ1hvXPdh813zX5Nqg36filOfo7574Wv0iAQEHQQ2pEL4SJxYuGSEadBu6HTAgUyHBIMEgwSAwINweKB1RGtsX9hUSFF0SChElD+AMjAuaCqgJhQgBBw8GPwbQBlQIdwlpCjkKqAkJCjkKhQjeBVoEpgKRAG//ff4p/bP6rPco9gX1UfMZ8GXuEe3M6jrqXetC7ULtBO5s8Tb1Dfjk+j//dgJ9BagJhg80FZ0YpBv/H7skwyc5KgIuCjHMMV0yBDW4Nrg2lTXGNQQ1vjKpMFUv0i3KKoQokic/JkwlySM3I3Ui8iA9H+odlxxRGtsXxhUSFF0SqRD1DuAMXAsJCrUIPwbJA7QBAAAc/tb7Ivo9+Pf1dPSB87/yj/Iu8o/y8PJR86T06vZu+MH5Rfv5/Lv9TP4O/6D/Dv9M/q3+3v5M/in9aPym+7P6wfnP+Ev3NvW/8p3xGfAE7oDsvutd65vqeOnZ6TrqqelW6PXnY+cC56/lK+Tl4T/fHN5o3GDZWdak1MDSV8+xzJvK9ceMxIXBP7/5vIO6rLc2tcCyJ69eq6mpJqjLo7Wh7qQzpwOnv6uJtq6+acPhzBTbfuVr6v7xDv/mCJQOiBYUIqEtuDasPmFHhk+AU5VVO1hRWklXOlF+TFRIYEBJN8wxjCtuHxIUEA27BBT7/vH86vvju93B2W7YG9cF1V/SndFR05fVrNe02g7fyuMK6v7x8flv/7sEKwt5EKMUCxhDG/gc6h2eH/IgFCLWIrMh/x/cHnseNhz+GIgWoxQtEoYPxA6UDn8MaQp3CXcJdwkWCYUIFgkJCmkK+wp/DAIOAg5xDdINMw5/DAkKhQg/BgcDkQAAAK3+N/yQ+Q34WPZD9C7yqvC472XuBO5X783xUfMF9c/4+fwAAEUC0AaMC2MO/BFXFkMbex6DIX0lhCjKKhAtVS8KMWsxmzH8MV0yLTLZMLYvJS+hLcoqFikkKK0lpiLkIXUi1iKYI/kjHCWgJtAm3iUcJWgjYCCJHQUcURp6F5UVsRPMEYYPfwyoCd4FtAEc/vH5ifYu8mXuvus66ufo9edW6EjpOupd69PtnfEF9dz35PpM/jAAdgK7BKAGYgeSB8MHVAjzB3AG7ATJA3YCkQAO/4r9s/oa9xP02/DT7Qrq9eeh5t/lTuXf5dLmlOf15yXoVujn6LboxOeU5zPn3+Ur5AjjVOEO3zfckdmJ1i7S0806yqLGR8Icvqa7MLmXtW2xNa79qkGmVaG8nRWbrJeXld2XmZxwn/uj1K0NuAHAt8h01H3eceYZ8Fr9OQpCFMccpylJN/8/ikSvTM1Yx1yqVwtYDF+rXkFUEE0IShRCozT7KoskbBiSBzf8ifb27gjjg9rc16TUQs2pyRLNc80zxx7FzMqIz+nPstO73UDm2ekL8Yr9DwZ3CaENNBV0G7od/x+7JNAmKiTJIwEntSjsJDAgzx8wIJccnRg8GIgWChGhDWMOlA6aCqAGcAYBB94FuwTeBSQIFgmFCCsL5w86EbcPhg8YEMQO7Qs5ChYJoAY4AyIB8gAAAIr95Pr/+D346vaX9Zf1BfW/8r/yl/Ua9xr3S/dS+q3+UwFaBLUIQQ3nD4ATzRhZHTAg5CHsJLUoyirtK6Etti+pMAoxvjKjNDQ1cjSjNDQ10zRPMy0ymzG2LwIuryx+LFwr2ClUKMMnbyYqJLMhbh/HHP4Y9hWAExgQTgwWCXAGaAPyAA7/mPyD+g34KPak9PDyzfGq8Hrw2/Cd8V/yE/Qo9tz3wfk3/H3+AAAVArsEMQeFCEcJqAkJCjkKdwlUCJIHcAZaBHYC8gDQ/8j8wflL9zb1/vEn7+Hsa+pj537ljOQr5Pvj++Pt5KHmxOcX6S3rsOxP7PzqjutP7Drq0ua95CvkVOHJ3CLa3Nfw0nPNOsrEx9jCKr0iuny3UbPUrZyqqakDp/Sg7J1wn9Gf15vJnO6k/aotqyevWr2+y9vQstNN3hHtifZo/KAGQhQ2HIMhoS1DO9w+NjwiQfpKK0utRWFHfkxhR2Y8nTgZNxAtKB2+EkENaANL9wvxV++G6OzdItrJ3CLazdEnz/DSwNLb0GbV+dw/32/fAudR85D5RfswAEcJVg8tEnoXex7BIP8fNyOnKTkq3iWLJH0lySMNH/gcKB3jGlcWchTGFdMUaxH1DqENXAtHCbUIRwm1CMMHJAioCYwLEA0CDjMOlA6GD0gQeRCGD9INvQsJCuYIwwdNBaYCYAA//xz+yPxF+8H5Dfga9w34//ie+A34//h1+8j8Wv0AANcCuwSgBisLeRCxE4gWshrcHlMhByNvJggqjCsdLGMuOjGNMi0yHzOjNIAz/DGNMk8zOjHELgIuryzYKaAmuyQHI/8fWR02HOMabBgnFgQV4RPMEVYPAg5BDVwLFgmSBw8GyQMiAQAA0P9M/pj8N/wH/LP6wfkw+f/4z/ie+DD5kPlS+hT7B/xa/Uz+Dv8AAFMBRQIHAyoE7AQcBRwF7ARaBDgD5AGRAN7+aPyQ+Rr3dPTN8ejvBO6O6zrqF+nE56Hm3+V+5U7lEOaU5xfpzOru66PtJ+/o7yfvV+/27kLtm+qG6ALnK+Q/36bbrNcu0hLNt8gexTHAFbtLtwa1j7I1ro6rnKomqOClr6VkpzOnTqWipmWuKLYNuJG5qMIZ0OrWz9gk4dPtsvOs96YCGBCjFKoX1iICLtkweDD2NQU8sjqqN4856j0TO74ylC5jLtAmLhlrEfUO7AQa953xsvOV7qfiTd5i4Ivdidak1HzXWday09zXkuCM5O3kzOo29Qf8b//5A38MjhKxEwsYzx9oI+QhaCOnKU4spynzJ3cptShoIzAgnh9ZHY8Z6RYnFpUVUBNIEMQOcQ05CpIHkge1CCQIkge1CMoKjAu9C04MoQ3SDR4MjAtODE4MqAliBzEH8wc/BvkDBwPXAvIADv9M/kz+aPyD+uT6yPz5/Df8HP4AAAAAoP/yACoEoAYkCCsLVg9dEkIU2xfHHKweDR+zIX0lMSeSJ0Ypfix+LK8sJS86MUgw0i2hLTMu7SsWKSQoYieLJBQisyGDIW4fZhx0G+MazRhXFgQVHxN5ENINrwyMC0cJ0AY/BrsEFQKRADAAb//I/HX7pvvW++T6UvqD+lL68flS+tb7N/zW+8j83v6g/wAAIgFoA4sE7ATeBTEHAQd9BX0FrgW7BAcDFQIiAdD/u/2Y/EX7z/go9gX1svOd8YfvBO7h7F3rCup46dnpOurM6u7r4exC7SfvevB68Pbuo+3h7F3rxOeM5HfioN9129zXNtUL0YDMGMnSxmnDHL5FuyK6Dbg2tUS0E7RfsquwSrCIrzWuBK7pr86xNrXXu0fCxMf2zj3YkuDt5BfpSfA9+Fr9gwHKCo4S6RYFHFokXCtOLIwr0i22L5Quryz7KjEnByOeH3QbJxYlDyQIgwGD+uLzSfAR7efofuVc5FzkHeVO5a/l0ubS5hfpZe7N8eLzrPdo/PIAHAU5CqkQQhTGFY8ZrB5gIA0frB5uHzAgDR/cHm4fiR2yGo8ZzRgnFlATLRItEqkQJQ9IEMwRtw9xDQIOJQ8CDq8McQ1jDhAN7QtjDhgQYw5xDTMO9Q6hDYwL2AnDB1oEUwHBADAADv+7/Rz+Dv8c/mj8aPxo/OT65Pr5/Ez+rf6g//IAOAOLBHAGRwmMC38M9Q6bEUIU9hXpFv4YBRy6HZ4fRSL5I0wloCYxJ1QodykWKbUoRil3KRYpFinlKGInuySmItYisyENH7odWR0FHIIazRgLGBkXQhRrEXkQVg9ODKgJ8wc/BskDgwHBAGAADv+K/Yr9iv0H/FL6kPki+sH5MPmD+tb7N/zI/Ez+AABgAPIApgIcBXAG0AbmCJoKOQpHCRYJdwnzBxwFmAPkAQAAWv2m+5D56vZD9M3xqvCH70LtXetr6hfpJegC52PnJejn6NnpH+z27qrwv/Li8wX1x/UF9fDy2/C477DsxOf744XhydxZ1gvRNM46yu3EVMGgv/m8U7qRufK5ALnqtrq2YLnyuT64n7g4vOy9i72SwALHXcvTzbLTB9wW4q/lH+yB80v3Ivo//yoEoAbmCEENzBFyFPYVCxgTG6Qb8BkhGqQbshq4FrET4RPMEWkKaAPBAK3+UvpL9xr36vZD9L/y4vOk9I/yC/GP8pf1Pfgw+ab7rf4O/4r9b/9oA30FDwbmCDMOaxGbEe8S0xTTFO8SsRN6F8AZzRgZF3oXShfGFWUVuBYZF1cWuBaPGRMbCxijFHIUsRNrEdkQ/BHZEHENXAu9C2kKoAYqBFoEyQOmAuQBFQKDAaD/Wv0p/bv9N/x1+8j8HP7r/ev9AADyAJEAYAB2Ak0F0AZiB4UI2AlpCisL4Az1DlYPVg/ZEOETxhWIFhkXzRjwGRMbxxw9HzAgMCBTIWgj+SPWIkUipiJFIoMh5CEUIrMh8iBgIG4frB6JHWYcExvAGWwYShcnFnIULRJ5EIYPlA4QDYwLaQq1CDEHDwYcBfkDpgK0AVMBUwEiAZEAkQBgAMEAwQAiAVMBFQIHA8kDTQVwBnAG0AZiB8MHkgfQBnAGrgXsBJgDFQIiAQAAu/11+5D5Gvek9L/yPPHo75Xu0+007gTuo+1y7TTuxu727ofvSfDN8YHzpPQo9m74kPki+oP6Ivpu+Fj2pPSq8I7rxOdO5VThB9wN2MfVX9I0zvzKhshxxlzE2MIJwyvE7cS9xB7FccbSxkHG4MUQxqLG0saUx3nJH8wEzvbOzdHH1cHZFNv53CThTuUC5zrq2/Aa95D51vumAlwLQQ2MC9INsRNXFmUViBYhGi4ZchTvElATtw/zB6YCdgKDASn9wfnP+Pf1evCV7jzxIPOd8XrwQ/Tc90v3S/ci+qb7pvu7/QcDtQjYCZoKAg4KEfwR4ROIFtsXShc8GKQbuh10G50YXxkhGvAZ8BnjGhMb/hiIFhkXCxgEFWsR2RAKEakQJQ9BDe0L5ggPBq4F0AbQBrsEmAMqBIsE1wKDARUCwQCg/wAAtAGmArQBgwE4A4sEiwQcBdAGkgeSB+YIXAvgDH8MvQuhDYYPSBCbEbEToxRyFDQVGRdsGHoXiBZsGPAZwBlRGtUbZhykG6QbxxyXHOMaIRpDG0MbURqCGnQbQxvAGf4YwBlRGp0Y2xfbF+kWxhU0FTQVsRP8EToROhFIEPUOAg7gDFwLqAl3CRYJJAjQBnAGoAY/BuwE+QM4A3YCRQIHA/kDyQNaBOwErgXeBU0F7ATsBFoEKgQqBPkDaAPXAkUCIgEAAND/ff75/BT7YPlL95f14vNf8gvx6O9X7yfvV+/G7mXuV++477jvPPG/8uLz1fRY9s/4Ivrk+rP6g/qD+oP6bvj39dX0UfO47+7rOuol6CvkYuDe3irdbtjV1EPUwNL2zrHM082VzrHMXcuAzOHMXctdyxLNc82AzOHMV88L0WzR/tFm1Z7YItpo3GLgOeOM5MTnT+y4783xdPQa9w34nviD+mj8HP7e/m//wQB2AkUCkQBv/0z+yPx1+0X75Pqz+rP6IvoN+Or2ufZm9Tb1Gvdu+M/45Pr5/Ov9iv27/WAAaAMqBA8GdwnKCgkKCQq9CxANoQ2GD3IU2xdsGPAZ1RtDG/AZ8Bl0G8ccZhxmHBseuh0hGtsXCxgnFoATLRK+Ei0SlA4eDL0LtQiLBMkDWgQHA/IAYADyAGAAff5a/d7+P/8O/5EAyQOuBT8GAQeoCfsKygrgDLcPSBAYEMwRgBMSFLET4RNlFScWNBWVFVcWlRWxEx8TgBNQE8wRaxHvEi0SSBCpEGsRSBAlD4YPChEtEvwRHxNyFNMUZRWIFhkXGRdXFlcWuBZXFpUVZRWjFLETUBO+EswRaxEYECUP9Q4zDhANrwweDIwLKwtcCysLXAv7CpoKygqaCjkK2AmoCXcJqAl3CagJdwnmCJIH0AbeBYsEBwODAYMB8gBgAAAAAAA//0z+Kf03/EX7s/oi+pD5MPk9+Nz3rPd79xr3ufbq9ur2WPaJ9on2KPZY9hr3PfjP+P/4YPnx+fH5kPkw+Z74rPfq9on2WPaX9bLzLvLN8dvwZe4f7E/scu0X6VThP9+F4aDfaNxN3vPg0N+Y3GDZMNlg2c/YDdgb1yjWrNcN2JfVdNTV1NXU1dTV1LrWU9pa3ezdDt9G4ozkr+WU55vq4exC7cbunfFf8s3xsvMa9w34KPaX9Rr3DfiJ9vf16vaJ9kP0gfND9LLzLvL+8YHz8PJs8SDz1fSy87/yQ/Qo9qz3YPk3/K3+P/8AAIMB1wIHA+wEkgeoCYwL4AxjDkgQjhJCFPYVqhePGaQb+BwoHcccQxuyGnQbghouGcAZLhm4FnIUvhJ5ENINygq1CJIH0AauBYsEpgLyADAAAADQ/wAAAAAAAGAAUwEHA4sE3gXDBwkKfwxjDoYPGBA6ES0SUBPTFMYVJxZ6F2wYPBhKF+kWxhWjFLETUBMtEtkQ5w/1DmMOMw5jDpQOMw4zDpQOYw4zDqENoQ0CDpQOtw+pEHkQSBDZEBgQtw/nDxgQVg8lD1YPJQ/EDtINoQ1BDa8MTgyvDKENoQ1xDXEN0g0zDsQOJQ9WD4YPJQ/1DtINfwyMC2kKqAkWCeYIVAgxB6AGcAZ9BVoEmAPXAoMB8gDyAMEAAAAAAGAAwQCRADAAMAAAAG//rf4c/vn8mPzW++T6Ivr/+Hv39/Wk9EP0Q/Ti8xP0pPRm9Sj26vbc9274MPnB+VL65Prk+kX7dft1+xT7g/pS+iL6MPms9xr39/UT9P7x6O807oDszOpI6SXoAuff5R3lXOSa42nj2OJG4kbiRuLY4srj++PY4kbiteEk4VThmuOv5X7lK+TK4yvkTuUd5U7lAudW6FbolOep6bDs4ey+64Dsle4n79vwsvNm9XT04vN09IHz2/Do7wvx2/BX7yfvnfEg81/yPPGd8WzxSfCH7+jvnfG/8oHz1fRY9hr3nvim+xz+AABFAk0FkgcWCZoKvQtBDXENoQ15ELETQhSAE3IU0xRdEnkQeRDZEEgQqRAfE1ATmxFIEIYPfwzmCJIHYgdwBk0FiwS7BCoEOAPXAgcDBwNoA+wEfQUcBd4FoAbQBqAGkgfmCKgJygoQDWMOYw7nD5sRLRISFIgWShdKF2wYnRjbFxkX6Rb2FeETvhKOEtkQ5w9IECUPrwweDB4M+wp3CbUIwwdiB8MHJAgkCJIHYgfDB8MHtQhHCTkK7QsQDaENAg6UDsQOVg9WDyUPhg/nD7cPVg/1DsQOMw4zDsQOJQ/nD6kQ2RCpEOcP5w9WDyUPMw4QDX8MjAtpCncJhQiSB3AG3gV9BRwFWgSYA9cC5AFTAZEAAAAAAND/P/+t/kz+ff59/q3+HP4c/rv9iv2K/Vr9aPwH/Kb7Rfvk+vH5IvqD+iL6g/p1+8j8iv2t/qD/AABgAJEAMAAAAND/3v6K/T//AAAO/0z+u/03/IP6UvqQ+c/4Pfgo9nT0pPTV9OLzzfEL8QvxuO9l7mXuNO7T7RHtgOyA7B/sgOyw7LDsgOxC7aPt4eyw7BHtEe2w7LDso+007tPt0+1l7sbu9u6V7sbuV+/G7mXule4E7kLtT+xP7O7rXetd677rvutd6x/sle5X7+7rCuqw7ELtvuuw7GXuBO7G7hnwV+/27mzxUfPi8wX1e/cw+bP61vsH/Fr9AADyADAA5AFNBd4FuwQcBVoE+QMcBQEHtQgJCvsKCQq1CPMHAQfeBa4F3gVNBewEHAW7BDgDIgEAAAAAAADBAOQBRQKmAvkDiwQHAxUC1wJaBE0FPwagBn0FKgRaBK4FoAaFCPsKKwt/DNINQQ2hDVYPJQ8zDlYPtw/1DvUOtw8lD6EN0g2UDhANfwyvDIwL2AlHCSQIPwagBqAG7ASYAwcDFQKDAeQBBwOmAjgD7ARaBDgDcAYJCkcJJAhpChAN0g1ODO0LQQ0zDqENoQ0lDwoRaxG3DyUPVg+UDnENAg5jDtINQQ3gDH8MvQv7CpoKmgpHCSQIVAi1CPMHMQcBB9AGcAY/Bg8GTQWLBPkD1wJTAZEA8gDyAPIAMAAwADAAMAAAADAAYAAAAAAAMAAAAAAA0P8AADAAMAAwAJEA8gDBAGAAAAAwAPIAUwG0AbQBgwG0AYMB8gDyACIBkQBgADAAAAAwADAAYAAwAAAAgwGYA6D/dfut/vIArf5a/a3+3v5v/z//N/yQ+bP6yPwU+5D5FPsH/JD5//jW+9b7z/gN+MH5Uvr/+G74YPnB+W74ufa59qz33PdL9xr3e/dL91j29/Uo9pf1BfXV9HT0svMg87LzgfNf8tvwPPEL8ejvuO968AvxC/Hb8AvxPPEu8vDysvPV9NX0E/Sk9Pf1WPb39Sj2rPcN+Kz3rPcN+M/4nvg9+Nz3nvie+G74Pfhu+M/4//iQ+fH58flS+rP68fn/+M/4YPlg+cH5UvpS+sH5IvpF+1L6Gvf39WD5Rftu+Br3PfjP+P/4nvjP+BT7mPx1+xT76/0wAMEAUwF2AioE7AQPBqAGMQeoCYwLoAZTAXYC0AYPBtcCFQKDAfIA5AEVAmAA0P/e/vn8B/yK/X3+u/3r/fn8FPvI/G//0P/e/q3+0P8iAXYCgwGDAdcCaAMHA5gDiwQcBX0F7ARaBLsEcAbDByQIJAi1CKgJygoeDOAMEA3gDEENYw7EDjMOoQ2hDXENTgztC+0LXAtpCqgJRwm1CIUI8wcxB6AGPwauBbsEiwS7BOwEHAVaBE0F8wfQBnYCaAPDBxYJkgfQBmIHhQiFCMMHVAiFCJIH0AYxB8MHwwdiBwEHwweSBz8GcAaFCLUIkgdUCNgJhQgxByQIOQo5CgkKmgqaCsoKXAv7CqgJ5gi1CIUItQh3CXcJhQiSB5IHwwfzB5IH0AbQBqAGDwYPBqAGoAZwBt4F3gVwBqAG3gUcBRwFWgTJA5gDKgTJA6YCtAGDAcEAAADQ/w7/rf6t/hz++fwp/Vr9Kf3I/Pn8+fz5/Jj8aPw3/Df8N/wH/Df8aPw3/Af8Rfvk+uT6g/qz+rP6s/rk+qb7dfum+6b7Rfvk+lL6Ivoi+vH5IvpS+sH5z/g9+Kz3GveJ9lj2l/V09FHzj/LN8TzxqvAZ8IfvV+8n75XuNO6V7pXuxu7G7mXuNO727ujvGfBJ8KrwC/Hb8J3xX/K/8iDz4vN09HT0ZvUo9rn2S/fc9574IvpS+rP6pvto/Cn9u/3r/ev9HP7e/g7/rf5M/rv9Wv3I/Df8N/ym+xT7Ivow+f/4PfhL9+r2KPbH9bn2S/e59lj2ifYa90v33Pdu+DD5wfmD+hT71vu7/T//ff4c/gAA8gBgAPIAtAFTAeQByQNoA0UCpgKYA2gDyQPsBE0FuwTsBLsEHAUPBn0FKgSLBK4FDwYPBg8GPwY/Bj8GDwZ9BQ8GAQegBn0FuwQcBa4FrgVaBGgDyQO7BIsEaANaBE0FHAXsBLsEiwTsBHAGPwYcBT8GJAjzB9AGkgdHCRYJ5ggWCdgJmgqaCtgJqAmaClwLOQoJCsoKXAsrC2kKygq9C70LjAu9Cx4M7QseDH8MfwxODE4MTgyvDOAMrwx/DOAMQQ0QDRANoQ2hDaENEA0QDXENcQ1BDa8MTgztC70L+wqaCtgJ2AmoCRYJJAiSB6AGDwZ9BYsEKgSYA9cCFQJTAZEAAADQ/wAAMAAAAAAAAAAAAAAA0P/Q/zAAAAAAADAAMABgADAAMADBAFMBgwGDARUCpgKmAkUCRQJ2AkUCRQJFAoMBwQAwAKD/P//e/hz+yPzW+7P6kPn/+M/4Dfjq9ij2NvVD9IHzUfO/8mzxqvDo73rwqvDo77jvGfAZ8Ljv6O8Z8Bnw6O8Z8NvwnfHN8f7xX/Lw8vDyUfND9Db1l/WX9cf1S/cw+f/4ufY29Xv3kPnP+A34bviQ+TD5GveX9Sj2e/fq9jb1ZvW59rn21fSB87LzgfMg8/DyIPPi8+LzgfPw8lHzsvOy84HzE/Rm9ff19/Uo9ur2rPfc9w34//gi+hT7FPsH/Jj8yPxa/bv9HP7e/q3+ff7e/tD/MAAAAKD/oP/Q/6D/AAAwAJEAwQDyAIMBFQIHAzgDpgJ2AqYCOAOYA/kDyQM4AwcDOAM4A2gDOAMHA9cC1wLXAgcDBwMHA9cCdgJ2AkUC1wI4A2gDaAPJAyoEKgRaBOwEuwTsBK4FPwY/BtAGMQegBg8G3gU/BnAGoAbQBmIHkgfDByQIwwfDB/MHwweSB/MHVAhUCIUIhQgWCRYJtQjmCHcJqAlpCowLXAsrCysLjAvtC38McQ3SDQIO0g2hDTMOxA4zDqENoQ1jDgIOEA1/DE4MXAuaCtgJtQjzB5IHcAZNBU0FuwTJAzgDBwOmAoMBIgHyAJEAwQAiAYMBgwHkAdcC1wKmAgcDWgTsBFoEWgS7BOwEiwTsBH0FrgUPBn0FrgWuBU0FiwSLBCoEmAM4A9cC5AFFAoMBwQBgADAAoP+t/uv9+fxo/Af8FPvB+c/4z/j/+G74Dfh79xr3ufb39cf1l/Vm9QX1dPTi80P01fSk9BP04vMT9EP01fRm9cf1KPYo9hr3bvj/+P/4//hg+WD5YPlS+hT7dft1+3X7pvum+6b71vsH/Nb7RftF+7P68fmQ+WD5bvh79xr3ufYo9vf1WPZY9vf1l/Vm9Tb1x/Uo9lj29/Vm9Zf1WPbq9rn2ufYa90v33PfP+JD55Pp1+9b7N/zI/Fr9u/2K/Vr96/0c/kz+3v4O/w7/3v6t/g7/b/9v/2//P/8//6D/0P8//2//Dv/e/qD/AABgAJEA8gAiAfIAIgG0ARUCFQLkAeQB5AGmAqYC5AFTAYMB1wKYAxUCYACRAIMBYABv/wAAwQAiAcEAYACRAOQBBwM4A3YCOAO7BOwErgXeBVoEOAPJA8kDyQOLBOwEKgQ4AwcDyQO7BCoEOAM4A/kDWgSLBLsEiwQqBCoEWgS7BH0FcAYBBz8GPwYBB2IHkgeFCEcJRwlHCQkK+wrKCmkKOQrYCTkKOQqaCsoKygqaCtgJqAmoCUcJhQjzB2IHcAZ9BYsE+QM4A6YCtAHyAJEAkQBgADAAkQDyAMEA8gBFAqYCdgLXAioEHAV9Bd4FAQfQBnAGAQfDB1QIhQi1CLUIwwckCOYIdwkWCZIHoAbeBX0F7AS7BCoE1wKDAcEAMAAAAAAArf4c/lr9aPym+6b7Rfuz+vH5wfkw+c/4Pfis93v3e/ca97n2ifaJ9lj2WPa59hr36vbq9ur2e/es99z3z/hg+f/4nvjB+VL68fmz+gf8B/xF+wf8+fy7/Sn9Kf1a/Rz+ff4c/vn8aPxo/EX78fnB+cH5YPkN+Ev33Pfc9w343PcN+Br3WPbq9j34Pfhu+J743Pfc99z3Pfie+M/4MPkw+WD5wfnk+hT7s/qz+kX7dft1+wf8N/xo/Mj8Kf27/Rz+TP7e/q3+HP7e/qD/oP+g/9D/oP8O/0z+rf7e/t7+Dv8//97+3v7Q/wAAAAAAAND/0P/Q/wAAkQBgAGAAkQAAADAA8gCRADAAkQDBAFMBIgGRAMEAwQAAAAAAMADyAMEAwQDBAPIAIgHkAeQB5AHkAXYCBwPJA7sEHAUcBewEWgRaBIsEiwSLBMkDyQPJA/kDaAOYA5gDBwPXAjgDOAOYA5gDyQOLBCoEiwRNBXAGAQcBB2IHVAioCQkKCQrYCQkKmgoJCtgJCQrKCgkKFgkWCUcJ5ghUCJIH0AZwBnAGPwYPBhwFWgQ4A0UCFQJFAoMBYAAwAJEAwQAiAeQBpgK0AWAA8gBFAgcDBwMVAuQBBwPJA8kDKgQcBX0F7AQcBaAGYgfQBj8G3gVNBX0F3gXeBU0FWgRoA2gD+QOYA9cCRQIiAcEAkQDyAPIAkQCg/0z+6/19/q3+ff5a/ab75PoU+6b71vvk+vH5z/ie+M/4//gw+Z746vYo9on2rPfP+M/4Dfga97n2DfiQ+cH58fnx+f/4kPkU+8j8Kf1o/EX7dfsH/Pn86/1a/Sn9yPyY/Cn9TP5M/lr9aPx1+6b7yPyY/HX78fkw+c/4z/jB+SL6z/iJ9rn2Pfj/+DD5MPlu+Ev3GvfP+LP6FPtS+pD5//jB+XX7mPyY/Nb7FPsU+wf8Kf2K/Sn91vvk+nX7N/z5/Jj8dfsU+3X7N/yK/ev9Wv1o/Mj8iv2t/g7/P/99/or9HP6g/yIBpgJv/8H5Kf2YA2AAKf3BAAcDAAB9/jAAwQAAAKD/b/8AAJEAMAAAAG//rf4//wAAMADyAHYCFQIiAUUCBwPXAjgDdgJFAgcD7AR9BbsE1wIVAmgD+QMqBLsEWgSmAtcCBwMHA8kDBwODAVMBtAF2ApgDaAMHAwcDyQPsBHAGMQegBtAG0AbDB0cJ2AmoCbUI8wdUCKgJaQqaCmkKFgnmCKgJOQo5CqgJJAgxB9AG0AYBB6AGcAYcBZgDmAOYA8kDaAN2AhUCgwEiAbQBRQKDAWAAAAAAAGAAIgFTAbQBUwEiARUCKgQcBewEWgSYA8kDiwTeBaAG0AauBVoEiwSuBd4FHAVaBDgDpgJoAyoEiwQqBAcDgwFgAMEAUwHyAAAA0P/Q/2//0P8AAND/3v6K/Sn9iv3e/t7+HP7I/Kb7FPt1+6b75PrB+f/4bvgw+YP6FPuz+jD5nvhg+eT6dftF++T6Uvrx+RT7aPzI/Gj8FPvk+kX7aPxM/n3+Wv0H/Af8yPyK/Rz++fzW++T6FPto/Fr9+fzW++T6g/oU+5j8Kf1o/OT68fki+kX7B/ym+4P6YPn/+FL6pvum+xT7Uvrx+fH5FPvW++T68fkw+ZD5s/p1+3X75Poi+iL6s/po/Mj8N/ym+3X7pvuY/Fr9+fwH/Af8mPy7/X3+rf4O/63+TP6t/m//0P9v/w7/3v4//wAAAAAAAKD/3v4O/6D/AAAAAAAAAADe/t7+AAAAAAAAAAAAAAAAAACRAFMBUwHBAPIAgwF2AgcDOAMHA6YCpgJoAyoEWgTJAwcDpgIHA8kDiwQqBGgDpgJ2AkUCdgLXAnYCgwHyABUCaAM4AzgD+QPJA/kDiwQcBa4F3gV9BU0F3gXQBmIHkgcxB2IHkgfDB/MHtQiFCMMHMQcxB5IHkgeSBwEHcAYPBt4FDwZwBt4FuwQqBCoE+QNoA5gDBwNTAcEARQIHA9cCRQK0AfIAIgEVAtcCBwN2AlMB8gB2ApgD+QMqBKYCUwHkAQcDKgQqBGgD1wKmAmgDKgSLBMkDpgLkAYMBdgJoAzgDFQJgAJEAUwG0AYMBwQAAAG//oP8AADAAAAB9/or9u/3r/a3+rf67/Wj8N/zI/Cn9Kf1o/Kb7s/qD+kX7mPyY/HX7FPuD+lL6FPtF+xT7Rfvk+oP6FPum+9b7pvuD+oP6FPvW+9b7pvuz+uT6RfsU+4P6FPtF+7P6UvoU+6b7dft1+6b7pvt1+zf8yPw3/Df8aPw3/Gj8aPz5/Pn8N/wH/Df81vsH/Nb7B/wH/HX7RftF+xT7FPtF+0X7FPtF+0X7FPvk+rP6dfvW+9b71vto/Pn8yPxo/Mj8+fzr/Rz+HP7e/q3+TP6t/g7/Dv/e/t7+HP4c/n3+Dv+g/2//P/9v/2//P/+g/wAAAACg/wAAAAAAAAAAAAAAADAAMAAwAMEAwQDBACIBIgEiAVMBgwFTAbQBUwG0AXYCpgKmAhUCRQJ2AkUCdgKmAqYC5AG0ARUCdgKmAnYCpgIVAkUCpgKmAtcCaAM4A6YCBwOYA5gDOAMHA2gDaAM4AzgDyQMqBIsE7ATeBQ8GrgWuBQ8GPwY/BnAGcAY/Bg8G3gVwBtAGPwYPBq4FHAVNBd4FcAauBYsEyQNoA8kDmAOmAoMBgwEVAoMBtAFFAkUC8gCRAPIAUwHkARUCUwGRAPIAUwEVAhUCtAEiASIBFQJ2AtcCaANoAzgDBwPXAskDWgQqBAcDBwM4AzgDaAM4A9cCRQK0AYMBUwEiAcEAwQAiAWAAAAAAAAAAAAAAAG//b/9v/z//P/9v/z//TP5M/n3+TP7r/Vr9iv0p/Qf8aPzI/Gj8Rfvk+kX7g/rx+YP6RfuD+vH5s/rW+3X7RfsH/Jj8aPwH/Gj8N/w3/Df8N/w3/Gj8B/w3/Nb71vs3/Af81vt1+wf8pvt1+wf8aPwH/HX7dfs3/Af8FPt1+wf81vs3/Gj8mPzW+xT7B/xo/Af8B/w3/Af81vum+8j8Kf35/Df8B/xo/Mj8Wv27/Rz+HP6t/m//b/8//2//b/9v/w7/Dv9v/z//Dv8//2//Dv/e/m//P/9v/6D/AAAAAKD/oP8AAG//P/8AADAAMAAAAAAAAAAAAAAAYADyAPIAkQBgAGAAkQCRAMEAgwFTAVMBgwG0AeQB5AF2AjgD1wLXAjgDaAPXAmgDaAOmAkUCdgJ2AnYCRQJFAhUCtAFTAeQBRQKDAYMBtAFTAYMBgwG0AYMBUwEVAgcDaANoA5gDyQOYAzgDOANaBIsEWgSLBOwETQWuBQ8GPwY/Bj8GrgV9BQ8GcAauBbsE7ATsBLsEiwTsBBwFiwTJAzgDaAM4A0UC5AHkAbQBgwGDAYMBIgGRAGAAAACRAMEAIgEiASIBtAG0AeQBRQKDASIBgwHkAbQBtAGDAYMBtAG0AUUCpgJ2AqYCpgIVAkUCRQJFAkUCRQJFArQB8gAiAfIAkQDyAPIAYAAAAAAAAAAAAAAA0P+g/97+HP6t/t7+HP6K/fn8yPzI/Pn8Wv3I/Jj8Kf35/Pn8yPyY/Af8RftF+9b7pvtF+0X7dftF+xT7RfvW+6b7pvvW+5j8yPyY/Gj8mPzW+3X71vvW+3X7dft1+wf8mPyY/Gj8aPyY/Gj8+fyY/Jj8+fz5/Gj8aPzI/Gj81vum+2j8+fzI/Cn9iv2K/Yr9iv1a/Yr9HP5M/hz+ff59/uv9ff7e/g7/3v6t/j//0P+g/6D/AAAAAKD/oP8AAAAAoP/Q/wAAAAAAAGAAAAAAADAAMAAAAAAAMAAwAAAAAAAAAAAAAAAAAAAAAAAAAAAAAAAAAJEAUwFTAcEAwQCDARUCgwGDAXYCRQK0AUUCpgKmAgcDaAM4AzgDBwM4A2gDOAMHA9cCpgJ2AhUCtAEiAfIA8gCRADAAYAAAAAAAAAAAAAAAMAAAAAAAAABgAJEAYACRAPIAgwFFAnYCpgJFAgcDKgRaBCoEuwRNBVoEuwTsBFoEyQOYA5gDBwOYA8kDaAM4A3YCOAOYA9cCpgJ2AuQBtAFFAkUCUwFgAGAAAAAAAPIAtAHyAGAAAAAiAbQB8gAwAAAAMAAAAAAAwQCRADAAAAAAADAAkQAiAfIAYAAAAJEAIgFTAYMBgwHBADAAUwFFAnYCgwEiAcEAMABgAFMBIgGRADAAAAAAAAAAMAAwAG//rf5v/9D/P//e/t7+HP6K/X3+3v67/Sn9Kf0p/fn8yPz5/Gj8N/wH/Af8N/zW+6b7N/ym+9b7B/ym+6b71vsH/Nb7pvvW+2j8B/xo/Jj8yPyY/Ir9TP6K/ev9HP6K/Sn9iv1a/Vr9+fyY/Af8N/yY/Mj8aPym+xT71vsH/Gj8aPzI/Ov9Wv3I/Fr96/2K/Sn9u/1M/or9TP6t/q3+HP59/j//HP67/a3+rf4c/hz+rf5M/rv9rf4//z//b//Q/wAAAAAAAJEAwQCRAPIAUwFTAfIAwQBTASIBwQC0AUUC5AFTAeQBFQLkAbQBtAG0AbQBdgJFAoMB5AEVAkUCpgI4A8kD1wJ2AjgDWgQqBMkDKgSYAwcDaAMqBCoEOAOmAjgDBwOmAjgD1wLkAYMBdgJFAlMBRQIVAoMBgwGDAbQBgwHyAJEAwQDBACIBUwFTAfIA8gCDAVMBIgGDAYMBtAG0AXYC1wKmAqYCpgLXAgcDBwPXAqYCdgKmAtcC1wLXAnYC1wKmArQB5AGmAkUCgwG0AUUCtAFTAbQBIgHBAJEAkQAwADAAkQBTASIBkQAwAGAAkQCRAMEAwQCRAAAAMABgAMEAkQAAAAAAoP8AAAAAAAAAAKD/b//e/qD/AACg/z//0P8AAAAAAAAAAND/AACg/6D/YADBAAAAAAAAAAAAAAAAAGAAMAAAAAAAb/8O/z//P//e/kz+ff5M/or9u/19/hz+Kf35/Pn8yPwH/HX7Rfuz+uT6g/qz+nX71vtF+xT75PpF+3X75Pqz+uT6UvpS+uT6RfsU+xT7dfsH/Gj8N/xo/Cn9yPzI/Cn9+fyK/cj8yPzI/Kb7pvv5/Mj8mPzI/Ir9Wv35/Pn8Wv2K/Yr9iv0p/Tf81vsH/Kb7FPsH/Gj8RftF+6b7mPwp/Sn9+fz5/Af8aPzI/Jj8yPz5/Ir9TP6t/gAAAAA//wAAAACRACIBkQAwAAAAoP/e/kz+P/8AAMEAoP++EpBAdDuUDkcJoQ1Y9pjc+dwl6M3xoP/JAxYJVg/KClQIFgm1CCsLQQ0/Bin9kPnc97/yBO488Wj8wwdWD10SjhItEswRAg4PBgAAdfsa94Hzx/W59uLzBfX/+Ez+uwTSDS0SJQ+1CBUCMACt/qz3E/SJ9tz3dfswACIBwQD5A3AGYgdHCdgJPwbXAgcD5AHe/hz+AACRAGAAIgGLBCQItQgBBwkKEA13CQ8GiwSmAjAAYACmAoMBYACRADgDPwYPBt4FfQVaBGgDdgLyAAAAAAAO/1r96/0//2AAtAFTAa8MMCB3KdItJChlFckDPfhX7wjjAeAK6gX1P//JA3cJHgzmCOYIRwkkCA8GwQAw+VHz9u7u62vqvus88XX7JAg6EeETHxN5EAIOtQjBAM/4evAf7B/sgOyj7ejvsvP/+AAAwwceDL0LoAZgAJD5v/KH73LtH+xC7TzxDfiK/WAAIgHyAHYCKgQ4A2//N/zk+j34GvcN+A34Dfhg+db7Dv+RAIMBFQKmAmgDpgIAAFr9s/pL94n2Dfjx+bP6B/wc/tD/8gBFAkUCkQA//5j8kPnc90v36vbq9j34FPuK/ev9P/9gAMEAAABM/in91vuQ+az3KPZ795D5g/oU+zf8iv0c/m//YACRAEUCWgTkAX3+Rftu+Nz3bvjP+IP6+fwc/hz+ff59/qD/wQDyAAAAff4p/eT6kPki+oP6aPxM/gAAwQCRAIMB5AF2AuQBMAAAADAAMAAAAG//kQAHA1oE7ARaBOwEHAW7BN4FAQdNBWgD+QOuBbsE5AHBAFMBpgIqBCoE+QNaBH0FKgRFAnYCOAN2AjAA3v4wAPIAAACg/wAAUwGYA00FiwR2AnYCBwODATAAAACDAewEuwRFAoMB1wKYAzgDdgIQDbUoQjRFIlAToQ2uBVL6evBl7oHzff4kCOcPHxNxDdgJ+wrKCoUIMQfsBK3+9/Xi8574YPnV9HT0Wv3mCEgQoQ27BO0LGx64FjgDwQCmAhT7Q/Qa9274MPlo/ND/0AYzDoATHxMJCsEAyPxS+ij24vOX9SL60P+YAyoERQKg/5EAHAWgBnAGMQdNBW//z/hg+ab7FPv5/KD/AACK/Zj8mPwHAw0f7CTJA4HzwfkT9GLg7eT5A5sRJQ+xE+8SYgdg+cbu2emw7PH5AADx+dX0wfmg/2D54vPe/gEHHAVaBJgD5AEO/8/4v/I07ifvUfNm9ZD5gwHzB7sEiv2D+pD5ifaJ9j34BfX27u7rT+wn73T0z/g3/GAApgJFAgAA5PoT9Ifvcu007gX1//j39ff1YPmz+rv9IgEVAm//RfuQ+Z746vYw+d4Ftw+aCpIHtQhaBOQBUwHBALQBFQIAAD//dgIVAhz+Kf1M/t7+AAB2AhwFuwRgAH3+tAFoAzAATP75/BT7s/rI/GAAiwTzB8MH0AagBkUCs/oN+MH58fki+nX7N/xM/kUCHAWuBX0FFQJ9/pj8kPlu+LP6pvsH/K3+pgJNBYsEUwHQ/6D/rf75/Gj8Rfsi+qb7+fwAAIsEiwS0AVMBtAGDAZgDwwfmCDEHKgR2AvkDWgR2AqYCkgevDBANdwmSB7UIVAjeBSoE3gWFCNAGdgLkATgDOAO0AeQBrgW1CNgJtQgxB00FFQIAAGAAUwHkATgDiwTeBSQIhQiuBdcCRQLkAcEA0P8AAOQBdgJgADAABwMqBDAA6/1gAOQBAACt/jAAtAFM/pj8Wv1a/Tf8g/qm+2j8aPyK/W//wQBgAPIAAAA3/Cn9YAAAAGj8pvvI/Nb71vs//5gDMQfzB3AGyQPyADAAb/8c/g7/YAAiAfIAAAAwAJEAb/9M/m//8gAVAgcDdgKRAND/b/99/pj8B/x9/jAAwQB2AjgD8gDe/t7+b/+t/j//AABM/gf8pvs3/Af8mPw//2AArf5o/Mj8aPyz+hT7iv2m+3v3ufY9+M/4bviQ+eT6dfta/ev91vsi+rP6FPu59jb1YPmD+v/4kPnW+9b7YPms99z3Ivop/bv9Kf1a/Vr9RfsN+Hv33PdL93v3g/r5/Kb7Ivo3/K3+Wv3x+f/4wfnB+fH5s/qz+jD5PfiD+rv9HP7I/K3+gwEVApEAAADQ/0z+HP4c/m//5AEqBFoEgwHQ/9D/AACRABUCRQKmAioEHAU4A5EAwQBTAWAAAAC0AewEPwZNBU0FDwauBaYCYABgAPIAtAGmAjgDBwPXAnYCUwEiAbQBtAFFAloEmAMAAD//kQBTARUCKgSuBaAGrgXXAsEAwQCDAbQBFQLXAhUCgwHBADAAUwGmAvkDHAWuBa4FyQMiAW//0P8iAZEAoP8wABUCRQIAAKD/tAEVAhUCKgSuBbsEaAN2AlMBAAAwAHYCKgS7BCoEaANaBBwF7ARaBIsEiwT5AxwFoAZ9BSoEuwQPBrsERQJTAYMB1wLJAzgDmANNBT8G7AT5A00FHAUVAmAAtAGmAhUC5AGmAtcC5AEAAND/kQBFAvkDWgRaBKYCAACg/5EAwQDBAIMBtAHBAND/0P8AADAAYADyABUCBwMVAqD/rf7e/q3+iv1a/X3+3v4c/t7+AAAAAD//TP6t/gAA3v43/HX7N/wp/Sn9Kf27/d7+Dv/e/m//AAAAAG//ff5a/Yr9TP4c/t7+P/+g/w7/HP7r/Uz+Wv2Y/Pn83v5v/w7/TP43/FL6YPlS+hT7aPw///IAtAEAABz+mPyK/Rz+mPzW+4r9Dv8//63+6/3r/Yr9iv19/j//0P8O/0z+Wv2m+1L6s/rk+qb7Wv19/q3+ff59/or91vvW+xz+P/8c/gf8N/yY/Kb71vvr/aD/AADBAJEAoP99/g7/8gC0AYMB5AFFAvIA0P8AAJEAwQBgAMEA5AFFAhUCdgIHA3YC8gDyAOQBUwEwADAAgwFTATAAb/8O/2//MADkASoETQXeBX0FyQMHA6YCwQCg/6D/0P+g/z//AADkAYsEcAbzB6gJVAhaBPIAAADQ/0z+iv19/vIAaAPJA5gDKgQcBfkD1wI4A3YC8gCg/wAAAABM/or9HP4//6D/AADyAOQB1wL5A1oEKgTJA0UCAAA//w7/rf7e/kz+HP4//5EAtAGDAbQBtAEiAcEAwQDBAAAAb/99/q3+ff5a/cj8HP4AAKYC+QMqBBwFHAU4A9D/6/27/Sn9mPzI/Bz+0P/BAEUC+QPsBLsEyQOmAiIBb/8//9D/AAAAAGAAUwFFAjgDyQOYA8kDiwTsBE0FWgRFAvIA0P9M/hz+AABFAjgDRQIVAtcCFQIiAfIAtAHBAAAAP/8O/xz+N/xo/N7+oP8//6D/MAAAACn9dfvI/Ez+6/0p/Rz+Dv/5/LP6s/po/Cn9Wv0O/wAAoP99/in9aPwU+1L6s/o3/Cn9+fz5/Fr9+fy7/ev9TP6t/g7/rf4p/Tf81vtF+zf8HP4//6D/AABgAGAAoP/e/t7+3v4c/n3+3v5M/or9TP6t/hz+6/0//1MB8gDQ/wAAkQAAAK3+u/1M/hz+mPzI/K3+b/99/kz+oP9gAKD/ff7e/qD/b/8O/6D/AADQ/6D/AACg/97+3v5v/6D/0P8AAMEA8gAAAKD/0P+g/33++fwH/Gj8u/0c/q3+P//Q/8EAMADQ/wAAb/8c/in9Wv3e/jAAkQDyAPIA5AHXAnYCgwEiAbQBBwMHA0UCFQKDATAAAAAwAMEAtAEHAyoEiwS7BPkD5AEwAAAAAAAAAMEAgwEVAqYCpgIVAuQBpgIHAwcDpgKDAQAA3v6t/m//oP8AAMEARQJoA9cCpgLXAkUCFQLkAYMBwQAAAND/AAAAACIB1wI4AwcDdgKmAjgD5AGRAAAAMAAAAJEAUwFTAVMBdgKmAiIBAAAAAAAA0P/Q/zAAMAAwAPIAtAG0AWAAMAAwAAAAAAAwACIB8gDBAPIAUwFgAAAAAABgAAAAkQAVAtcCdgLkAVMBAADe/t7+P/8O/wAA5AHXAhUC5AHXAnYCYAA//63+HP4p/Sn93v6g/2//AABgAGAAAABv/6D/P/8p/fn8Wv1a/db7RfvI/H3+b/8//6D/YADyAGAAAABv/z//rf4c/kz+Dv/e/uv9Wv19/qD/oP8AAFMB1wKmAoMB8gBTAQAAB/xS+mj8HP5M/j//RQJ9BRwF1wIiAWAA0P8//63+HP5M/j//oP/e/g7/YAB2AkUCIgGmAtcC8gAAAGAAYAAO/7v9HP7e/g7/ff4O/zAAYAAwAAAAkQAiAQAAHP5a/Rz+iv11+zf8b//BAPIAgwG0AYMBkQBv/2//oP8O/33+P/8AAAAAAAAwAGAAwQAAAAAAb//r/Uz+b/8O/63+P/8AAAAAoP8AAFMBtAFTAVMBBwOmApEAAACg/w7/AADBAPIAMADyAEUCIgEwAAAAgwEVAiIB5AEHA/IA3v4c/lr9B/x1+8j8oP9gADAA8gBFAoMBAADQ/zAA0P/r/Wj8B/xo/Df81vsU+/n80P8wAKD/Dv8AADAAb/9M/qD/AAC7/Tf8dfum+xT7g/rW+97+AABv/6D/YAAwAAAA0P+g/w7/Kf0H/HX7UvqD+nX7yPxa/d7+YAAwAK3+Wv0O/63+dfvB+Zj8rf6m+/H5Wv0wAG//Wv19/pEAoP/I/Ir9oP8O/1r9P/+DAbQBkQAAAPIAUwFgAND/AABgAGAAMABgADAAkQDBAAAA3v4wAIMBYACg//IAyQMqBHYCFQKmAqYCgwHyADAAAAAwAMEAtAHXAk0FcAYcBfkDuwTeBewEBwPXAkUCUwG0AeQBFQLXAhwFoAbeBVoEfQU/BosEOAMcBXAG7AQ4A9cCBwOmAlMBUwEHAyoEHAXeBd4F3gWgBgEHHAWmAjgDdgLyAJEAwQBTAXYCyQOLBBwFTQXeBXAGfQX5A2gD1wJFAkUC1wJ2AjgDiwS7BFoEiwTQBgEHTQX5A7sE7ATXAhUCmAOYA8kDKgSYA5gDaAMHA9cCBwPXAskDWgTJA6YCRQLkASIBYAAwAIMBFQLkAaYCOAM4A+QB8gBTAZEA0P/e/n3+b//Q/z//0P9gAMEAMAAAAJEAAAAO/xz+6/1M/in9mPwp/cj8aPxo/Cn9yPxF++T6N/y7/Zj8pvto/Mj8UvoN+D348fki+p74z/jk+nX7YPkN+GD55Pow+Rr3rPfP+D346vYN+PH5MPl796z3bvgN+Fj29/VY9rn2WPaX9Rr3Dfhu+M/4S/f39ff1KPYF9YHzgfOB84Hzj/LN8f7xUfND9FHzv/Ky86T0v/In79Pt6O+q8DTule6d8TzxJ++V7pXuZe7h7E/s4eyw7O7rcu3G7pXuV+8Z8OjvqvAL8fbuQu0E7ujvqvBX71fvX/JD9FHzLvLi8/f1ifbH9bn2nvis9/f1S/cw+dz3ZvX/+Fr9N/w3/FMBfQV2AgAAOAMkCFoEMAAcBZoKMQccBYwLeRAzDqENvhKVFV0S2RDhEwQVvhJyFF8ZURpfGUMbKB2XHJccDR8wINwePR/kITcjUyH/H4MhByMHI2gjByMHI2gjySPJIwcjySMcJSok5CHBIPIgkSBuH2AgUyEiIYMhFCIiIRsexxyJHZccURqPGbIaIRoLGNsXPBiqF4gWVxaVFRIUHxPvEvwR2RDnD7cPhg+UDqENAg7SDeAMjAsJChYJVAgkCDEHAQcxB2IH0AagBj8GTQXJA/kDTQXJA/IAIgHkASIBAADQ/2AAwQAwAND/AAAAAN7+HP67/Vr9mPxF++T6s/oi+iL6Rfs3/BT78flg+WD5DfiX9RP0pPTV9L/y/vGB8+LznfF68DzxbPGH79PtQu1d61booeah5q/l2OK14djid+Kt3lrdrd4q3f/Y3Ndu2LrW49Od0Z3RiM+byvXH9cfSxu3EysOownfC2MLDwCq9drsHvIO66rbqtqa717vqtp+4AcA/vz64MLmFwWLAS7d8tyTBTsUcvkW74MUZ0LHM9cfpz8HZntjj027YteEI4+zdVOGA7CfvLevG7g34dftF+6D/qAkKEdkQgBN0Gxse4xpRGkse8iAiISokKysKMeEzGTfHPC9A8UDxQINBRUJ1QrNB8UCDQZhDmENFQlpEMUegRkxFoEbCR0xFg0EvQCJBSz4gOr85UTp6N/wxJS+GL8QuvSvKKn4sEC05KmInHCWmIkseIRrbF+kWZRWxExIUNBWAE9kQ5w95EPUOjAtHCagJqAkPBpgDKgTeBQ8G3gU/BjEHkgcxB94FuwTsBMMHOQpHCRYJ4Az1DisLMQfmCE4MfwxODHkQuBZsGLgWCxjVG2Yc/hidGOMashrbFycWCxjwGfAZpBswIFokHCUcJbskySN1IvIgSx4oHVkdiR1DGzwYPBj+GNsXGRc8GPAZjxk8GLgWQhRIEE4MqAmuBeQBAACg/w7/Kf03/Df8B/zB+az39/Xw8rjvH+wX6X7lRuLD4NDfTd4H3FPaYNl815fVdNSk1NXUpNTj04/S29A0zpvKlMdOxTnDFsK1wRbCR8LmwWnDvcTtxIzEXMSaw7XB0b+LvRW7kbnyubS6ALluuAe8D7+7vSK617vzwPPAg7puuHa7rr5avVO6Wr3Kw1zEacPSxqnJJchWyB/MGdDGzu/LGdBZ1jbV29Cy02jcMeDQ3/vjgOz+8QvxSfC/8nT0LvK/8mD5iv2K/bQBygpIELcP5w/pFrodpBt6F1kduyQ3I/IgPybSLcQu7SvSLUI0JjaNMhE04jrHPF45gTrBQINBWD10O4k9Sz7wORk3jzniOv44/jiyOuI6XjlJN2U1TzPZMJQurywrK6cphCjDJ94lKiRFIp4fZhx0G18Z9hVyFNMUNBUfE3kQJQ8zDsoKAQcBB3AGWgQ4A2gD+QPXAnYCRQKDAZEAAAAAAKD/TP6t/gAAwQAiAYMBUwFTAbQBFQK0AbQBKgRiBwEHoAa1CIwLygoWCWkKfwxxDeAMAg4KEb4S7xJQE3IUBBUEFfYVqhc8GKoXbBhRGqQbghrAGbIadBuCGl8ZwBnjGqQb1Rs2HJccZhwFHKQbwBnbF4gWZRUSFI4SjhIfE+8SmxF5EIYPMw7tCzkKFgmgBloE1wK0AWAAb/+7/Wj85Pow+az3KPZ09CDznfEn76PtsOzM6hfpAucQ5r3kd+KS4G/ffd6Y3FPaFNum20XbU9rB2ZHZPdj41cDSPNE80cbO78sfzDTONM6AzO/LJ8+r0PbOgMxQzIDM2slxxu3Ef8V/xVzEXMSixiXIf8X7w6LGccYWwjHACcNBxmPH0sZjx47Lc82pyZTH58h5yefI2sllziHTstPj057YWt3W26zXItrz4Ajj5eFc5LDs8PLo79PtBfWm+/f1SfCe+NcCOAPyANAGvhK4FpsRvhKkG7odnRjbFygdsyEHIyokVCh+LMQuVS/MMRE0ozSjNGU12ze/Oc04Jjb2Nds36Da+MpsxBDX2NRE07jJlNXo3BDUKMbYvYy45Kj8mmCNTIaweSx49H+od1Rt0G5ccpBs8GKMUXRJ5ENINOQokCCQI8wfQBhwFiwT5AwcDFQLyAGAA8gBTARUCIgFv/63+TP7I/FL6kPlS+tb76/2g/5EAtAHXAuwE7ASmAkUCWgSLBEUC5AHsBKAGDwbQBncJ4AxjDoYPzBFQE7ET4RMEFWUV0xRCFNMUlRUnFlcWShfAGfgcDR/cHvIgKiSLJIMhrB4NH3sedBvAGXQbiR26HYkdzx/yIJ4fDR9uHxseshr+GAsYlRXvEjoRSBC3D5QOAg4QDX8MHgz7ClQIDwbsBAcDYABM/jf8s/rP+Fj2x/Uo9gX1Q/Ti8/DyPPG472XugOwK6vXnEOaM5HfiJOEk4bXh5eHl4bXhVOHz4CThkuDe3lrdmNxo3CLa3NcN2MHZkdme2FPaN9y02pHZ5NpF22DZ3Nee2P/YS9eX1TbVx9UF1SHTQ9QF1dXUQ9Q21brWl9VR06vQiM+r0DzRGdD2zgvRidbc1yjWS9f/2KTUPNGX1RTbYNmy01nWb9+n4g7fFNto3GnjxOcd5eXhQOay8574o+0l6Ev3OAM9+JvqdPR9BewE1vsAAOAMzBGUDqkQlRUEFXIU2xeCGmwYghrBIHUi5CFMJacppylUKPsqYy5OLO0r/DE0NYYvXCsXMBE0Yy6SJyQoHSzfLAgqRin7Kq8s3yz7KtAmByPJI6Yi1RtKF/4YghpsGFcWZRUEFRIUjhIKEWMOjAv7CowLaQrQBosEWgSYAyIBDv/r/d7+oP99/mj8Kf19/hz+aPzx+f/4//ie+Kz3Gvfc9zD5s/pF+9b7mPyY/Ir9b/+g/63+AADkARUCkQAiAckD3gV9BQ8G5ggrC0ENJQ95ENkQmxGAE0IUvhKOEjQVPBg8GAsYghrcHrMhwSDBIMkjfSXJIzAgbh9gIJ4frB4wIAcjaCMHI1okPyZMJdYi1iKYI+Qhex6XHGYcshrpFgQVxhWVFUIUEhThE1ATXRIKEVYPEA05CvMHTQUVAmAAb//r/Wj8aPz5/Df8pvum+xT7z/hY9nT0X/Lo7xHt7utd69np5+iG6PXnY+eU55TnxOf152PnQObt5JrjVOE/31rdydzJ3OTag9r53BzeKt2L3T/fAeAc3nXbdduD2urWNtUb17rWIdNR0w3YntjA0qvQx9WR2UPUgMxCzSHT29DnyEjJbNHN0Y7LQs021VnWUMwlyKvQdNRCzRjJ080T1LrWzdFQzLjP1tti4AXViM8q3bDsM+fH1c/Y/Opl7iThHN715+jvPPEE7pXue/cO/97++fzQ/4sEcAZoAxUCwwdcC5IHRwlQExkXzBG+EigdNyO6HQsYuh0BJ/kjQxtZHewkKiTBIPIgdSJaJEwluyRaJFok7CQxJwEnpiJgIFMhUyEwIOodURouGQUcBRw8GHoXwBlDG1EaGReVFRkX9hWbEfUOoQ3tC04MTgx3CVQIaQq9Cx4MmgokCCQICQokCLsE+QN9BewEOAOmAn0FMQe7BPkDYgeFCE0FTQW1CDkKFgkJCtINGBAlD6ENVg86EXkQVg9IEC0S4RMEFZUVGRePGRMbExukG/gc6h2JHVkduh3qHVkdZhy6HW4fbh//H4MhdSKmInUiByMHIxQikSDPHz0f6h1ZHcccpBt0G9UbBRzjGrIashpfGXoXZRU0FeETeRBxDRANrwxpCoUI8weSB6AG3gXsBPkDRQIwAD//iv2m+1L6//jc9+r2l/Wk9BP0UfOd8arwevBJ8OjvNO6A7O7rvutr6oboxOcC50DmHeWM5B3l7eSM5Izk7eQr5DnjyuP740biMeCg35Lgb98H3OTaKt2L3XXbydyS4FThb98/32LgHN7y2Q3Y3Nco1tXUx9VZ1gXVidae2FnWQ9Qo1urW29ASzcDSl9X2zvzKwNLc14/SBM7A0mbVxs4EzpfVNtUSzXrQptvy2enP/tGL3U3eBdUb1znjr+Xe3uXh/Opx5rvdp+If7EjpFuLE59X0FPue+GD5rf4AAND/AADe/uv9dgK1CD8GFQK1CI4S2RAJCoYPWR3yILIashqzIUUixxzVG88fex7AGYIa1iIcJc8fYCABJ6cpMSdiJ7Uo5SjzJ4skwSD/Hz0f+ByCGo8Z1RuRIFMhex5LHv8f3B4FHOMaIRqqFwQVEhQfE6kQcQ3gDJQOMw4QDWMOeRCpEEgQxA7SDRAN7QvYCTEH3gUBB/MHAQd9BVQITgweDDkKygpxDWMOcQ3tC70LHgweDOAMEA0QDUENYw7EDvUOGBDZEGsRvhLTFCcWZRWjFNMU0xSOEnkQLRISFIATvhISFEoX/hgLGBkXbBj+GOkWuBYLGEoXlRWVFfYVZRXvEjoRzBGAE7ETUBOjFPYVlRWjFIAT/BFIECUPcQ0rC9gJ2AmoCYUI8wfmCGkKCQrmCOYIhQgBB64FTQUqBOQBYAAAAG//HP75/Ir96/3r/d7+AAAAAND/Dv+7/XX78fnP+Ev3x/WX9Yn2ifaX9dX0NvXH9RP0svOy8yDzUfO/8v7xqvBX73LtzOqp6Qrq2en15zPnqekf7I7rzOpd677r/OpW6E7lOeO14cPgfd7J3Ivd3t6g363eTd4B4AHgu93k2sHZ/9hZ1lHT/tGC0+PTq9BXz4/Sl9Uo1rLTC9Gy00vXE9S+y+/LzdEZ0FbICspL127YecmGyEXb5eHN0ULN7N3t5FnWStDz4HjprNdzzSvkNvVA5oPaT+z5/BP0SOmd8d7+1vud8az3uwSLBBz+AADmCL0LaQp/DAoRQhRyFDQVShdRGhMbLhkLGIIanh/yIFkdlxx1IuwkUyGRICokrSV1IjAgdSL5IyIhrB4wIOQh/x97Htwe/x/cHtUb4xrHHNUbbBiqFy4ZzRjGFRIU0xTTFO8SChFrEToRhg/SDdINMw7gDCsLKwu9C4wL2AlUCIUIRwnmCPMHJAgWCUcJwwdiB7UIFgmFCPMHRwmaCpoKmgrKCowL7QvtC3ENYw5jDjMOxA4YEKkQ5w+3DwoRvhKOEl0S7xKjFIgWlRWAE3IUehfbFycW0xS4Fv4YnRiIFkoXwBnjGqQbQxvwGaQbWR0FHGwYuBYuGVEanRgZF/4YpBt0G8AZ8BmCGsAZPBg8GEoXBBWjFAQVQhTMEbcPOhGAEy0Stw9IEMwRmxHnD6ENrwztC6gJkgc/BuwEyQMqBPkDyQMcBX0FHAVaBGgDRQIAAN7++fxS+qz3ufbq9lj2BfV09Mf1GveJ9pf1l/WX9RP0PPGV7k/sa+q26KHm3+Vx5nHmoebE51bo5+gX6RfpY+e95NjiVOEO3/ncg9rP2GDZ8tlg2WDZ8tm02rTawdn/2M/Yx9U80YjPZc7vyxjJY8cKyo7LJchIycbO083aybfIt8hIyVbI+8OFwSvEY8eixubBP7/txI7LLcu3yI7LIdO61rLTdNSJ1s3RStB817Ta3NcF1ZHZQOYt62njCOM88Z74LvJX7xr3ff43/A34Ivp9/gAAwQBoA30FYgdBDWUVbBgSFJUViR0NH6Qb/hg8GPAZlxykG7Ia+BxuH3UiWiRoIwcjYicWKa0lNyP5I60liyTPHygd6h1LHokdKB34HPgcbh/kIfIg+BykG5ccdBtKF3IU4RO+EpsRChHZEJsRqRB5EJsRqRCGDwoRLRJIEAIOQQ0CDjMOXAtUCOYIKwseDIwLvQtjDhgQtw8YEMwRmxFWD2MOhg/ZELcPVg86ER8TvhKOEuETZRX2FTQVxhVKFzwY2xd6F9sX/hguGdsXShdsGMAZ8BlfGVEaNhyXHNUbpBsoHcccshoTG1kduh2kGxMbWR0bHqQbXxnwGeMaIRr+GFEa1RukG4IaghohGv4YehdXFjQVEhSxE+ETvhI6ERgQhg9WD/UOMw7SDaEN4Ax/DL0LCQpUCGIHrgX5AwcD1wJ2ArQBIgG0AbQB8gAAAG//rf75/EX7g/rB+dz3KPYo9pf1E/SP8s3xnfGd8TzxqvCq8Bnwle4R7e7ra+pW6EDmr+XS5kDmCOMI43HmM+dp4/PgaeN+5djird4/31ThTd7/2GDZFNs92KTUKNaR2f/Y+NVZ1p7Yutad0QvR8NJXz3nJecmxzLHMGMnSxrfIH8yOyzPHEMYKyvzKQcb7w3HGVsjgxSTBOcNWyMTHCcNBxpXOiM/hzGXOX9I21aTUetDw0sHZz9gu0tXUb9+a44vdRdsC51HzJ+9+5aPtyPwi+ujvIPOK/T//Rfum+xUC0AauBQEHMw5dEjoR4RPwGUMbLhk8GI8ZiR17HiEajxlgIEwlNyNTIckjdymMK6AmuyRpKhAtVCitJWInkifsJKYiaCO7JGgjRSIcJVQooCY3I1okPybJIz0fxxy6HUseghoZF50Yghr+GBkXShc8GP4YnRiqFxkXJxZyFFATjhKpEMQOMw5jDmMOAg4CDoYPaxFrEbcP9Q55EKkQ9Q5BDUEN0g0QDRANEA0QDUENlA63D3kQqRCbEY4S/BEKEToRmxHMEXkQtw8YENkQmxH8EV0S7xKxExIUQhTTFNMU0xQEFUIUoxRlFQQVQhSjFGUVBBVCFNMUuBbbF+kWGRdfGY8ZeheIFhkXuBY0FRIUoxQEFXIU4RPhE0IUUBPvEuETchSxEx8T7xJdEgoRtw8zDqENQQ0eDFwLXAvtC70L+wppCgkKdwm1CAEHTQVaBDgDIgEAAND/Dv9a/Wj81vuz+vH5YPn/+A34ifZm9XT0X/J68Pbucu3h7L7rm+pI6UjpqemG6ALn3+UQ5hDmK+QW4uXhVOGg3+zdHN6L3RTbYNny2UXbbtjH1erW/9h810PUstM21aTUC9GVzlfPiM+AzGvKOsqOy47LGMkCxxjJjssYyRDGAsdIyTPHCcMJw2PHlMeFwbXBCspdy+3EHsWOy/bO4cx5yRLNE9Qh0zTOPNFm1WbVutYb19zX7N0k4QHgyuNW6Fbom+o07vbuevAg8wX1nvhF+xT7mPyDARwF7ASgBkcJAg4SFIATeRCVFdUbjxm4Fi4ZlxwNH4kdBRwwIMkjwSBTIQ4mDib5IxwlASeSJw4m1iJaJNAmySMiIdYiWiRoI7MhIiGmIvkjFCKeHz0fbh97HroddBuyGlEajxnNGNsXSheIFmUVBBX2FWUV7xKOEqMUUBMYELcPmxFdEvUOfwwlDzoR9Q5ODGMOOhEYENINYw6pEEgQMw71DkgQJQ8CDlYPChEYEJQOtw9rEZsROhHZEMwRUBMfEy0SjhJQE0IUgBNdElATlRWVFaMUZRVKF50YCxh6Fy4ZshqPGS4Z8BnjGkMbpBsFHGYciR3qHbod6h26HUsebh/PH9wePR/PHz0f3B7cHrodxxyXHJccxxykG7Ia4xp0GyEa/hjNGC4ZbBiIFjQVZRWjFI4S2RB5EFYPAg5xDa8MXAvKCmkKdwlUCKAG7AT5A9cCIgEAAA7/+fym+/H5rPeJ9sf1Q/Rf8qrwevAZ8JXugOz86grqVuhA5r3kOeMW4pLgb98/397ei9353JjcaNzW2+Tawdn/2NzXWdbV1AXVstOd0XrQ29Bs0QvRV8+VzlfPuM80zl3Lm8pdy77LSMmvxa/FccbgxYzECcOowprDf8UCx1zEYsAWwhDGjMQPv1q9FsJBxozEoL+SwNLGqcnSxr3EVshCzSfPZc6AzIjP49ND1FHTQ9Qo1nzXptuS4MPgoN+n4szquO+A7Ejple6s9w348PLH9Q7/5AHQ/wAAuwR3CVwLjAvSDToRUBOVFZ0YzRhKFxkXshpLHokdpBtLHgcjuyTWIuQh7CS1KGInySP5I1QoCCoBJ/kjiySgJj8mKiRaJA4mbyZ9JewkPyatJTcjByOLJNYiPR89H4MhgyF7HtUbKB09HxsepBukG7odiR3VG+Ma4xqCGi4ZCxjpFukW2xcLGAsY2xfpFogW2xc8GBkXVxb2FXoXzRgZF5UViBaqF1cWoxRyFFcWCxhKFycWShcuGV8ZbBhsGGwYPBhsGP4YwBmPGWwYLhmCGrIajxnAGXQbxxykG+Malxy6HfgcdBukG1kduh34HFkdGx7qHbod6h3qHfgclxwoHboduh1mHMcc+Bw2HKQb4xrAGY8ZXxlsGOkWJxb2FZUVsRNdEl0SLRI6EecP5w/nD5QOfwxcC2kKtQgBB30FuwQHA1MB8gBgAD//u/1o/Kb7Uvqe+Or2KPZD9M3xevDG7rDs/Oqp6VboY+eh5hDmjORp43fiheHQ3+zdKt3J3Kbbg9pg2TDZz9h81xvXWdbV1AXVx9UF1SHTLtLA0sDSq9A0zjTOV880zlDMscxzzRLN78sty13LzMoKyhjJJciUx9LGf8VOxeDF7cT7w8rDXMTgxe3EhcGFwdLGxMcxwLu94MVdy+3Ei72owhLNQs3txL3E6c9D1IDMm8qy057YpNT+0UvXydym24PaYuBA5vvjAeAQ5p3x8PJr6u7rnvit/s/4l/WY/CoE+QMAAMkDoQ1IEE4MrwyAExkX9hXpFhMblxxmHOodsyEcJQcj3B4UIlQoMSemIpgj2ClxLTkqPyblKJQuoS3zJwEnXCtxLfsqtSjKKlwr5ShiJyQoFinDJ28mMSe1KG8mNyOLJKAmmCM9H0se8iCmIp4fNhz4HKweiR1RGl8ZQxt0G18ZbBguGV8ZbBi4FogWGRdXFtMU9hULGEoX4RPTFHoXShdyFLETiBZsGCcW4RPGFWwYGRdyFAQV9hWVFcYVVxa4FrgW9hWIFgsYqheIFrgW2xdsGNsXqhfbF80YzRiqFxkXzRjwGf4YPBiPGRMbghr+GPAZshrAGdsXbBhRGiEanRg8GF8ZLhkZF7gWPBgLGIgWZRUnFlcWBBXhE74SLRKpECUP9Q5WD2MOEA1ODL0L+woJCuYIJAhiB9AG3gXsBFoEBwMiAdD/P/99/or9aPym++T68fms9yj2KPZ09P7x6O+478bu4exd65vq2ekl6HHmQOZx5ozkp+Kn4uXhkuAO303e7N3J3Nbb1ts33BTbYNkw2WDZ3NeJ1onWKNZm1aTUdNQT1C7SStDb0NvQ9s7TzZXO9s5zze/L78tQzGvKxMclyHnJlMftxFzEosYzx9jC0b+MxFbIqML5vCTBM8dcxFq9rr7SxrfIw8CLvfXHQs1/xTnDjsuVzl3L4czA0mbVbNG4z8HZoN+61tXUJOGU5/PgTd4l6Nvwle7Z6YfvPfj/+A34+fwiAdD/MABUCB4MVAjYCe8SVxabEcwRdBtTIdUbnRj/Hw4m+SMHI5InRinsJBwlEC1jLpInkiclL2sxHSw5KoYvvjLfLCQofizZMDMu+yoQLdItCCq1KMoq2CkOJn0lhCjlKG8muyR9JX0l5CF7Hj0fkSCeH6wePR9ZHXQbQxvjGv4YGReqF18Z/hjpFukW/hh6F1ATzBGAE3IUUBMfE9MUZRVQEy0SUBOAEzoRSBAtEkIUsRPvEkIU0xS+EucPOhGxE1ATXRKxE2UVZRVCFLET0xQEFeET4RP2FekW6RaqFwsY6RaIFrgWGRd6F9sXzRhRGrIa8BnAGYIaghouGZ0YLhmyGkMb4xqCGoIaXxk8GAsYzRidGAsYbBidGNsXVxbGFWUVEhT8EcwRHxNQE8wRqRB5EBgQ0g3tC70L7QuaCkcJFglHCSQIDwYqBNcCgwEAAND/0P8c/pj8pvuD+p749/VD9FHzLvKq8MbuBO5y7Y7rF+lj56Hm3+W95AjjRuK14VThMeDe3hzeaNzk2kXbRdsw2c/YYNkN2OrWl9Wk1MfVBdUu0l/SgtNf0nrQV8/TzdPNBM7vy9rJOsq+y/zKVshBxtLG9cczx8rDqMJpwwnDd8JHwiTBfb4/vwnDd8IHvDi8+8NxxtG/FbtUwefIK8RavUfCXctIyXfC0sYL0WzRm8rhzOrWz9gh05fV3t7D4NbbKt1x5grqoeav5eHsUfOd8Z3x8flM/nX7Kf2YA8MHtQjmCAkKAg78EVATQhR6F1EaKB1uHz0fMCBMJQEnaCNaJEYp+yo5Kn4sYy4QLfsqHSzELpQufixxLWsxXTJVL98s9S5VL1wr2CkrK34sfix+LIwrdynDJ30luySLJKYiFCL5I1okRSLPHz0fex4FHMAZzRhfGUMbdBtfGTwYehcnFkIUHxPvEkIUchSxE6MUBBWAE8wRChE6EdkQqRBdEkIUchS+Ei0SjhJdEmsRChEtErETQhRCFAQVJxYEFR8TvhLhE3IU0xQ0FekWCxgZF7gWGRdKF4gWJxZ6F8AZ4xqCGrIapBtmHEMbwBlRGjYcKB34HIkd3B7cHokd+BzHHDYcExtDG8cciR3HHGYcZhwFHCEabBidGGwYPBiqF7gWJxZlFbETLRJ5ECUPlA5jDgIO4Ax/DIwLaQrmCDEHTQVaBAcDpgJTATAAoP99/pj8Ivo9+Br3Gvco9qT0gfO/8mzxV+8R7V3rCupW6DPnAudx5k7lmuOn4rXh0N993hze7N3J3AfcB9xF28HZz9h81/jVNtVD1KTUNtXj04/SIdPw0qvQuM/pz5XOQs0SzdPNEs38yufIt8h5yYbIQcaMxB7FTsVOxSvEYsAPv4XBR8I/v1q9cL/mwZLAWr2uvoXBYsC7vXC/XMTKw1TBjMSGyALHOcOvxS3L081zzXPNzdHq1urWDdh12xTbtNoB4EDmY+eU55vqQu1s8UP0j/KP8qz3iv0wALQBaAMBBxAN0g29C/UOoxRlFcYVghrqHdwekSBoI5gjIiFTIW8m+yoWKaAm2CmULnEtOSr7Kt8sHSwrKx0sYy7ELqEtEC1+LMoqdymaKisrVChvJsMnFiliJxwlWiSYI+Qh8iDyIGAgbh8NH3seiR2yGo8Z4xrwGUoXiBaqF2wYGRfGFZUVoxTvEl0SHxMtEqkQaxEfE74SqRAKEVATUBMKEdkQvhKxEy0S/BGAE+ETXRKOEuETsRMfE0IUxhUnFqMUchS4Fp0YqhfGFScWbBhfGZ0YCxjNGCEa4xpRGoIaNhxZHWYcZhyJHboduh17Hv8fMCB7HhsewSBFIjAgGx5uH4Mh8iDcHg0fzx8bHtUb1RvHHKQbIRohGoIawBkLGHoX6RZlFYATLRK+El0SSBDEDpQO4AxcC5oKdwkkCGIH0AYPBhwFyQN2AlMBAAB9/hz+Kf1F+/H5MPk9+In2NvVD9CDzbPG478bu0+1P7MzqF+n15wLnTuVp4wjjd+KF4ZLg0N9v3w7fi9033Kbb1tu02v/Ybth811nWZtWX1dXUwNIu0o/S8NLN0bjPiM/pz2XOscwfzI7LqcnnyBjJ9cftxJrD4MWvxcPAHL4WwsrD7L0wucm8YsD5vN23brhNvmLAYLmJtuy9hcHXu1O6McBcxHfCfb61wZvKeckPv4XBuM/A0grKSMmX1cncutbN0cHZTuVG4iLaRuJs8S7yeOlC7W74wfni8wX1MAAxBwcDYACoCbETOhH7CpQOuBbbF1cWwBnPH8kjdSL/H7skRikxJ1okkievLAIu3yzfLOcvazEzLpoqHSzZMHgwjCsdLHgwCjFALfsqfizSLTkqYidpKnEtCCp9JdAmRikkKKYiYCCYI5gjMCAbHp4fgyEbHoIaURo2HHQbPBi4FjwY/hiIFgQV9hWIFjQVgBPhE8YVNBUfE7EToxSxE+8SgBOjFNMUgBPvEqMUVxaVFUIUZRWqF9sXGRd6F2wYLhkuGdsX2xfwGYIaIRrjGqQbNhyXHPgciR1ZHVkdWR3cHjAgYCCeH88fIiHyIGAgkSCzITcjaCPkIRQiiyS7JBQiwSBTIUUiUyH/H5Eg8iCeH4kdKB2JHdUbwBlfGfAZPBiIFicWZRUSFGsRhg9WD1YPcQ1cC5oK2Al3CZIH3gUcBZgDtAGRAAAAAABM/jf8FPvB+Q346vbH9aT0gfP+8dvwuO9l7rDsXesK6ufoM+dx5k7lK+QI4+Xh8+Ax4KDfDt9N3lrdaNwH3BTbYNlu2A3YrNfq1sfV1dTV1NXUIdML0XrQq9Dpz8bOlc7TzbHMzMpIyXnJSMlxxr3Er8VBxozE2MKownfCJMGuviq9i71avcG56rYwuUW7PrgTtAa1ALluuKW0NrWRuWi85LpguVq9R8IJw3C/JMHSxpTHY8ebysbOiM+4zyHTbti02mDZbtg/36HmTuUI49npSfAn7+jvdPTP+Cn9b/9gAD8GHgxBDfUOgBPGFVcWwBm6Hf8f8iDWIvkjfSXzJ7UoJCiaKq8srywlLwoxSDB4MGsxCjE6Mb4yXTJrMR8zozSwM10yXTJdMu4yjTJIMBcwmzHZMKEtvSsrKwgqFiliJw4mDiZ9JSokNyNFImAgSx49H54fuh2XHGYclxx0G48Z2xdKF3oXJxY0FYgWuBbGFdMUEhRQE1AT7xKOEh8TsRNQEx8TUBPhE44SmxHMEV0SgBNCFEIUBBXGFTQV0xQnFhkX9hVlFRkXnRjNGJ0YbBidGGwYLhmPGSEaExtDG0MbdBt0GwUcxxxmHKQbNhy6HQ0fDR8bHuod6h17Hg0fDR/cHg0f3B49Hw0fiR1mHDYcdBvwGWwYbBg8GBkXNBVQE74SLRKpEMQO0g1BDU4MXAsJClQIAQeuBckDBwNFAiIBYAAAAD//HP4p/ab7UvrP+Kz3WPaX9dX0UfNs8UnwV+9y7R/s/Oqb6njp9ecC5xDmHeUI44Xhw+Ak4ZLgoN8O397eTd6Y3KbbB9zW21Paz9gN2JHZz9iJ1sfVl9UT1C7SbNH+0WzR6c80zqPNo83vy5vKm8rayfXHEMYQxgLH4MUJw7XBR8JUwT+/i72Lvbu9drvdt923U7ryuVm247PItWC5IroNuN23prtNvru9fb4Wwk7FEMaixgrKZc5Xz3rQWdby2W7YItrl4ZTnoeb745Tn2/AT9NvwzfF794P6FPt9/hUC+QN9BYUIEA0YEF0SBBUuGdUbpBvqHWgjASetJUwl8ye9K6Et0i1jLngwazFIMGsxQjSAM9kwFzCbMb4yCjFIMNkweDBjLkAtMy4zLh0sOSrKKisr2CkkKCQoYifsJNYi5CGDIcEgPR97HrodKB2XHNUb4xouGXoXqhc8GEoXJxaVFWUVNBUSFL4SLRJrEakQ2RCbEakQhg+GD+cPVg8zDmMO9Q7EDmMOAg4lD4YP9Q7EDrcP5w/nD3kQ/BG+EvwRmxGOErETgBO+ElAT4RNyFGUVJxaIFukWGRfbF2wYnRj+GF8ZIRqCGrIa4xqkG2YcZhzVG2Ycuh1LHkseSx57HnseSx5LHhseKB02HNUb1Rt0G1Ea8BlfGWwYShe4FvYVBBWxE/wReRC3D8QOcQ3tC5oKRwmFCPMHYgdwBhwFKgSYAwcDRQLyAAAAoP99/lr9+fw3/BT78fn/+G743PdL9/f1NvXi8yDz/vHb8IfvNO7h7O7rLetr6tnpF+mG6MTn0uah5tLmQOYd5b3kjOQr5GnjCOMW4oXhJOHD4DHg0N8O3xzei90q3abb5NqD2jDZPdh817rW+NUF1UPU8NKd0avQetAZ0MbOQs1QzI7L/MqpySXIccYQxk7FjMQ5wxbCFsJHwoXBYsDDwBbC2MLYwtjCacPtxALHVsgYyXnJjsuVzqvQwNIF1erW/9gU2/nc0N+n4vvjveRx5ufovuvG7knwC/Eu8gX1DfiD+vn8Dv8AAIMB+QOgBuYIOQq9C9INVg86EUIU6RaqFwsYXxmkG+odrB7cHj0fMCDBIBQiNyPWIqYi1iI3I8kjKiSLJIsk7CQcJewk7CR9JRwl+SM3I9YiByNoI9YiRSKzISIhYCBgIP8fPR9LHuoduh1ZHZcclxzVG3QbghrwGSEa8BlfGf4YLhnNGGwY2xdKFxkXiBb2FZUVZRUEFaMUQhRyFEIUgBPhE+ETUBOxExIU4RPhE4ATUBNQE1ATUBNQEx8T7xIfEx8T7xJQE1ATvhKOEoAT4RPhE7ET4RMSFEIUQhQSFOETEhRyFDQVxhVXFukWGRfpFhkXqhdsGJ0Yqhd6F9sXzRidGJ0YCxgLGDwYnRjNGP4YXxlfGc0YzRjNGJ0YzRiqF4gWVxYnFsYVlRVlFdMUEhSxE4ATgBO+EpsRqRAYECUPYw7SDX8MKws5CncJJAhiB9AGfQUqBDgDFQLyAAAATP5o/BT7wfk9+Ln2ZvXi81/y2/C472Xu4exd69nptuhj59/lHeXK4xbiw+DQ363eu92Y3HXbItrP2NzXS9eJ1jbV49Mh083RC9FK0FfPlc5zzYDM78uOy8zKecmGyMTHosZOxVzEmsMJw0fCtcGSwKC/fb5avZm8B7x2u+S6g7q0ukW7drvkuhW7OLwqvSq9u73evpLAJMHmwdjCjMRxxjPHVshryhLNV8960C7SpNSJ1j3YU9po3H3eMeB34r3kAufZ6U/sxu6d8RP0S/ez+in9b//BAGgDDwa1CMoKrwwlD/wRchQnFs0YQxsoHW4f5CFoIxwlYie1KGkqKytOLKEt9S6GL7YvqTAtMk8zgDNCNAQ1lTU0NTQ1BDUENXI0gDPuMo0yLTKbMakwSDC2L5Qu0i0QLa8svStpKkYphCiSJ6AmfSVaJPkjByPkISIhIiHPH3seuh2JHfgc1RvjGsAZ/hg8GBkXVxZlFaMUsRPvEo4SLRLMEZsR2RAYELcPtw8lD5QOAg5BDUENQQ3gDH8MHgyMC1wLvQuMC4wLjAseDK8MrwweDK8MoQ0CDjMOYw7EDucPChEKEQoRzBGOElATsRNCFDQVxhUnFlcWiBZKF6oXShdKFzwYbBg8GDwYnRjNGM0YPBgLGDwY2xd6F0oXGRcZF7gWZRUEFaMU4RO+Ei0SOhGpELcPxA4zDkENXAvYCYUI8wfQBn0F+QOmAlMBAACt/vn8pvvx+Q34S/co9hP0j/Lb8Cfvcu2+6wrqtuiU59/l7eTK46fiVOHQ303eWt0H3BTbItpg2Q3YG9f41dXUE9TA0s3RPNGr0OnPxs40zqPNvstrynnJ58j1x9LGQcbgxX/FvcSaw9jC5sEkwdG/P7+uvhy+i72ZvDi8aLwHvHa7prs4vGi8ybyLvX2+0b8BwPPAd8LKw4zEQcZWyNrJXcsSzSfPC9Hw0pfVS9cN2JHZydzQ38PgteFp46/lhuhd66Pt6O9f8pf1MPlo/D//IgHXAioE0AaaCgIOtw86EeETuBbAGZccSx5uH1MhmCM/JrUoaSq9K68sQC2ULkgw2TDZMGsxXTKAM0I0lTVJN7g2xjX2NSY29jVlNXI0TzONMo0y/DGpMIYvxC7SLU4sHSyvLO0rmirlKCQoMSetJYskNyOzIWAg/x/PHz0fSx5ZHZccdBuyGiEajxlsGDwYehf2FQQVchQfE5sRqRB5EEgQ5w/nD1YPlA7SDXENrwy9CysLmgr7CpoKmgoJCncJFgmFCFQIhQi1CBYJRwlHCagJqAlHCUcJRwkWCagJmgpcC70LrwyhDTMOYw7EDlYPtw9IEAoRmxFdEr4SHxOxE1ATUBMSFAQV0xQ0FcYV9hX2FZUVNBXTFKMUQhRyFKMUEhRyFKMUEhRQE1ATHxNdEswRmxEKEXkQ5w8lDwIO4AztC/sKCQpHCVQIwwfQBn0FWgRoA4MBAADe/uv9aPwU+1L6//jq9mb1E/Rf8gvx6O+V7kLtvutr6ufoxOdx5ozkaeN34rXhkuBv363e7N3J3Kbbg9rB2f/Y3Ne61vjVZtVD1ILTj9Jf0mzR29AZ0FfPxs4EzkLN4cwfzJvKqckYybfIhsj1xwLH0sZBxq/FHsW9xO3EvcTtxB7F4MUCx2PHY8f1x7fIGMmpyfzK78sSzdPNJ8+r0C7SgtPV1FnWS9f/2HXbi91v3wHg8+Cn4u3kAudW6BfpzOrh7FfvnfGk9Br3bvjx+Wj8oP9TAWgDiwQPBiQIygqhDecP2RD8EdMUqhfwGdUbSx4NH/8fsyHJI0wlDiY/JtAm8yenKfsqvSuMK4wrfiwQLUAtMy6ULgIu3yyvLKEtoS29K2kq2Cl3KbUoVCiEKMMnoCbeJa0lTCWLJDcjgyFgIDAgbh/qHVkdxxykG4IaXxkuGS4ZbBjpFicWuBb2FaMUEhThE44SChF5EKkQSBCGD/UOYw4zDjMOQQ1/DE4M7Qu9C4wLXAtcC8oKdwlHCQkKqAkWCRYJqAkJCtgJqAkJCjkKCQqoCQkK+wpcC1wL7QseDE4MQQ3SDQIOYw4lD7cPqRAKEQoROhEKEWsR/BEtEi0SXRKOEu8SvhIfE1ATHxO+Eh8THxO+Er4SvhItEswRzBHMEWsRaxFrEQoROhEKEXkQeRC3D8QOAg7SDUEN4AweDCsLygppCkcJtQjzBwEHDwbsBPkDBwO0AZEA0P99/in9N/zk+vH5z/h791j2l/VD9L/ybPHo78buo+2w7O7rm+pI6bbo9ecC50DmHeUr5MrjCONG4iThMeAO3xzeWt2Y3Kbb5Noi2sHZz9gN2EvXutYo1tXUE9SC0yHTj9Kd0avQGdDpzyfPBM7TzULNgMxQzB/Mjsv8yszK/MqbygrKm8qOy13LLcsfzBLNc81zzfbOStAZ0ErQndGC06TUNtVm1SjWDdjB2eTaB9wq3d7eAeDz4NjiXOR+5XHmJegK6u7ro+2H783x8PLV9Hv3UvoH/Fr9oP+DAckDTQViB0cJ+wrtC3ENqRCAE9MUuBYuGbIapBsoHQ0fzx//H1MhaCOLJLskTCWtJQ4moCaSJ/Mn8yfzJ1QotSi1KBYptSgxJw4mrSUOJhwliyRaJMkjdSJFIgcjdSIiIWAgYCAwID0fSx7qHSgdBRxDG+MaURqPGf4YbBiqF9sXCxgZFzQVoxSjFOETjhLMEWsReRCGD/UOxA5jDqENEA1/DB4MHgyMCysLmgrYCdgJ5gjmCFQI8wfzByQItQjmCIUIhQhHCRYJtQgWCUcJFgm1COYI2Ak5CpoKKwtcC4wLHgzgDKENAg6hDTMOxA71DiUP5w/nD+cPGBBIENkQChFrEZsRaxGbES0SjhItEmsRaxH8EfwRmxH8EV0SzBGbEfwRzBFrEWsRaxEKEQoReRAYELcPlA7SDUENrwweDIwLygrYCUcJhQgBBw8GHAVaBAcDUwGRAGAAoP/r/fn8B/yD+mD5bvis91j2NvUT9PDyzfF68FfvNO4R7R/sjuub6jrqqelW6JTnAueh5hDmTuWM5CvkmuPY4hbiVOFi4G/frd593uzdKt0H3Kbb5Noi2iLawdlu2EvXG9cb14nW+NVm1QXVdNRD1KTUpNSk1EPUQ9RD1OPTUdMh07LT49Pj03TUZtX41YnWutYb19zXz9j/2MHZtNqm25jcmNxa3X3eDt+g38PgteEW4jnjveSv5UDmY+e26EjpCupd6+Hso+2V7hnwX/Li8wX16vb/+IP6dfuK/dD/8gDkAdcCiwQPBpIH2AmMC+AMMw7nD2sRUBNyFGUVVxZ6F80YwBnjGgUcNhxmHCgd6h2sHtwebh9uH88fzx+eH2AgMCA9H6webh+eH9weGx57HkseiR26HRse6h34HNUbBRw2HDYcdBuCGo8ZLhn+GP4YbBgZF4gWJxbGFQQVoxSAEy0SmxEKEakQeRCGD8QOoQ1BDeAMfwy9C8oKCQpHCUcJ2AkWCYUIwwdiB8MHYgcBB9AGoAY/BnAG0AbQBgEHoAY/BtAGYgfzB/MHtQhHCXcJqAlpCvsKKwvKClwLHgxODBAN0g3SDdINYw5WD4YPtw8YEKkQOhFrEfwRXRJdEi0SXRLvEoATgBOAE+ETchSjFHIU0xSjFNMUchRyFEIUQhRCFOETgBOAEx8TXRL8EZsRChFIEIYPJQ/1DtINfwweDCsLOQqoCeYI8wegBq4F7AQqBAcDRQIiAQAA0P8//33+Wv3W+0X7s/rx+f/4Dfga91j2NvXV9EP08PLN8Z3x2/CH7yfvxu4E7k/sjust6/zqOupI6bbolOcC56Hm3+Wv5U7lHeW95Fzk++PK45rjaeNp4znjp+LY4qfid+IW4lThw+Ak4SThw+DD4PPg8+Ak4VThVOFU4eXh5eHl4Ubid+LY4tjiCOMI42nj++Nc5L3k7eRO5d/l3+Vx5nHmoebS5tLmM+dj58TnVui26EjpCuqb6szqLevu6xHtQu0E7ifvh++H7xnwC/Eu8vDygfND9Db1KPa59kv33Pee+DD5kPlS+qb7aPxo/Mj86/19/t7+oP8AAGAAIgEVAjgDyQNaBE0FrgWuBXAGYgfzByQItQhHCXcJ2AmaCpoKaQr7Cr0LHgztC04MTgztC+0LfwzgDB4MHgx/DK8MfwzgDOAMEA1/DE4Mfwx/DH8MTgztC+0L7Qu9C70LXAuaCvsK+wrKCvsKjAtcC2kKmgorC/sKmgqaCsoK+wrKClwLjAuMC4wLjAseDB4MTgxBDUEN4AwQDUENcQ1xDXENoQ3SDaENMw7EDsQOlA7EDlYP5w8YEEgQqRAKEdkQChH8ES0S/BH8EfwRvhKAE7ETEhRyFKMUNBVlFWUV9hX2FZUVxhXGFVcWiBb2FcYVxhX2FfYVJxb2FcYVNBUEFTQVNBXTFLETgBOAE+8S7xKOEi0SzBEKEXkQGBC3DyUPlA7SDRANrwxODL0L+woJCkcJtQhUCMMHoAauBewEuwQqBGgDdgKDAfIAAADQ/6D/P/99/or9mPw3/Nb75Poi+mD5bvgN+Nz3GvdY9mb1pPR09BP0UfNf8p3xnfEL8dvwGfDo7+jv9u6V7pXuZe6j7RHtEe0R7YDsgOyA7O7rXeu+60/sT+zu60/sT+yA7BHt4eyA7E/ssOyw7BHtQu1y7dPtBO407jTuBO4E7jTule727lfvh+9X74fvh+8n71fvh+/o7xnwSfDb8J3xnfHN8S7yX/Jf8r/ygfND9KT0pPSk9NX0ZvXH9ff1KPbq9hr3e/es9z34Pfhu+D34Pfhu+J74Pfg9+G74nvjP+M/4//jP+P/4YPnB+SL6UvpS+oP6g/oi+vH5Uvoi+oP6FPtF+6b7Rft1+6b7pvsU+6b7B/w3/Df8yPzI/Pn8+fz5/Cn9Wv27/X3+3v7e/g7/b/9v/z//AAAAAAAAAAAAADAAYAAwAJEA8gBTAVMB5AFFAkUCdgIHAzgDaAPJAyoEKgRaBOwEfQUPBnAGcAagBjEHYgfDByQIJAi1CEcJqAk5CpoKKwtcC4wLHgyvDBANQQ2hDdINYw5jDsQO9Q71DlYPGBCpEKkQChFrEQoROhHMEfwRzBHMEcwRLRJdEl0SjhK+Er4SvhIfE+8S7xJQEx8T7xIfEx8THxMfE+8SHxO+Eo4SjhKOEi0S/BGbEcwROhF5EHkQSBC3D4YPVg/1DmMOMw7SDaENQQ3gDE4MHgyMC/sKygrKCgkKRwmFCOYIhQjzBzEH0AagBt4FTQW7BLsEmAOmArQBUwHBADAAAACg/w7/rf4c/uv9+fw3/Nb7FPuD+iL6kPme+A34S/fq9rn2KPZm9Tb1BfWk9EP0E/QT9IHzUfMg8/Dyj/Jf8i7yX/Jf8l/yLvJf8o/yj/Jf8o/y8PK/8r/ygfOB8yDzIPNR87LzE/RD9NX0NvU29Tb1l/XH9ff1ufbq9ur26vZL99z3bvjP+P/4z/hg+fH58fnx+bP6FPsU+xT7RftF+3X71vum+9b7aPwH/Kb7B/xo/Gj8B/w3/Df8B/xo/Df8N/w3/Nb71vsH/Df81vvW+wf81vvW+9b7dfum+xT7s/rk+hT7s/qD+lL6Ivoi+iL6YPlg+f/4nvgw+TD5z/jP+J74bvgN+A343Pd793v3e/d790v36va59on2ufa59vf1KPZY9ij2KPYo9ij2KPZY9lj2WPa59hr3rPfc99z3Dfie+J74nvgw+cH5UvqD+uT6Rfum+wf8mPzI/Ov9HP4c/q3+Dv9v/9D/AAAAAGAAAABgACIBgwGDAeQBpgJoA2gDaAP5A4sEHAUcBRwF3gUPBj8GoAYxB5IH8wdUCLUIRwl3CXcJ2Al3CXcJ2AnYCdgJCQoJCmkKOQo5CjkKaQrKCmkKaQppCpoKmgqaCjkKqAnYCdgJ2AnYCTkKOQo5CjkKaQoJCjkKmgo5CjkKygr7CpoKmgqaCsoK+wrKCpoK+wqaCjkKaQppCmkKCQqoCXcJFgmFCFQIVAgkCJIHAQfQBnAGPwauBX0F7ARaBMkDaANoA9cCFQK0AYMBUwGRAAAAAAAAAAAAoP8//97+TP67/Yr9Wv35/Gj8B/zW+3X7Rft1+0X75PoU+xT7s/oU+xT7s/oi+lL6Uvoi+iL6IvpS+lL6UvqD+lL6g/qD+lL65Prk+rP6g/qz+hT7FPsU+9b7B/zW+wf8mPzI/Cn9iv1a/bv9HP5M/q3+3v4O/w7/oP+g/9D/AAAAAAAAAAAwAGAAMABgADAAMAAwADAAMABgADAAMAAwAAAAAAAAAAAA0P/Q/9D/0P8//w7/P//e/kz+TP59/kz+HP6K/Vr9yPzI/Jj8N/zW+9b7pvtF+0X7FPuD+lL68fmQ+ZD5kPn/+M/4bvie+A34rPdL93v3e/d79xr3ifYa9xr3ifZY9ij2WPaJ9ij29/Uo9lj2WPZY9sf19/Uo9vf1WPZY9on2ifYa93v3e/es9w34nvjP+DD5wfnx+SL6s/qz+hT7dfvW+9b7aPz5/Cn9u/1M/uv9TP4//2//oP8AADAAYABgAPIAIgEiAVMB5AEVAkUCpgLXAjgD+QP5A/kDKgS7BLsEuwTsBE0FTQUcBX0FfQVNBa4FrgWuBQ8GDwYPBg8GPwY/BqAGoAagBgEH0AbQBtAGAQcxB2IHYgdiBzEHAQcxB2IHYgfDB/MH8wckCFQI8wfDB/MH8wdUCFQIVAjmCOYIJAjDByQIVAiFCCQIdwmUDvwRaxFBDeYICQqoCaAGAQdUCFQIYgegBqAGDwbeBRwF7ARNBbsEuwQcBfkDRQKDARUC1wLXAqYCpgLXAnYCIgEAAND/AADQ/z//b/9v/0z+6/0p/Tf8B/w3/Jj8N/zI/H3+ff75/Jj8mPx1+1L6s/qY/Lv9RfvBAJsR5w/BAGAA3gXJAwAAAABFAqYCIgGg/wAAIgHyADAAIgGYA+wEfQXeBRwFOAPJA3AGFgmMCysLfwxrEb4SqRDnD3kQJQ8CDvUOhg/SDb0LdwliBz8GoAZwBjEHqAlcC+0LEA0CDnENHgxcC2kKFgkkCMMHkgfQBhwFaAOmAgcDBwNFAuQB5AHBALv9IvrP+GD5e/dm9cf1S/ca90v3bvie+Nz3bvhu+Kz3e/e59rn2ufYo9sf1WPZ794n2BfVD9Gb1e/fc96z3z/j/+G74Dfg9+P/4kPlg+TD5Uvp1+wf8mPz5/Lv9rf4O/wAAAAAAAAAAAADQ/z//AACRAAAAAAAAAMEAIgEiAVMBkQAAADAAAABv/w7/Dv8O/63+Dv/e/rv9Wv0c/or91vto/Fr9Kf3W++T6Uvrx+c/4//gw+W74Dfga91j29/X39QX1NvUF9aT0pPR09AX11fRD9BP0pPR09BP0dPQF9dX0Q/QF9Rr3rPca9yj2WPZL93v3rPfP+JD58fnx+VL6FPum+9b7aPzI/Fr9HP4//2//b/+g/wAAwQBTAVMBFQJ2AnYCdgJ2AqYCOANoA6YCBwMqBFoEKgQqBLsE7ASLBGgDmAPJA5gDOAMHAwcDBwMHA0UC5AFTAfIA8gDyAFMBgwEwAG//rf59/j//AADyACIBUwHyAFMBtAG0ASIBYAC0AaYCdgJ2AtcCpgJ2AqYCBwP5A/kDaAPJA7sE7ATsBOwEHAUcBewETQUPBtAGMQcBB5IHhQgWCXcJ2An7Cu0LvQuMCx4MrwxODL0L7QseDO0LXAuMC04MjAs5CgkKaQoJCkcJ5ghUCPMHYgcBBwEHMQdiB6AGPwYPBt4FTQW7BBwFHAVaBMkDyQNoA6YC5AFFAtcCdgJFAnYC5AEiAVMBgwGDAbQBUwHyAJEAkQBgAAAAAAAAAAAAAADQ/wAAb/8c/lr9Wv2K/cj81vum+3X7g/pS+iL68fkw+Z74e/eJ9sf1l/XV9KT0E/Tw8o/ynfHb8KrwevCH7/buZe7T7ULtgOwt68zqm+oK6jrqOurZ6UjpF+kX6bboJehj5zPnQOav5U7lK+TY4hbiteGF4fPgAeBi4DHgrd673fncptsi2s/Y6tYF1UPU49Pw0p3RbNHN0UrQxs72zifP081QzHPNBM4ty6nJLcvvyzrKOsqAzATONM6VznrQj9Ih0zbVU9pa3ZLgoeYf7Krwl/UU+8EA3gVHCVYPiBZfGUMb5CGEKKcphCivLE8zQjQ6MbAzUTqPOQQ19jVeOQs4ozSVNf44bDhCNEI0qjc0NbYvhi/uMhE0mzHnLy0ygDMzLoQoYicBJxQiiR34HMccPBixE+8SmxFODCQIkgcxB4sEtAGRADAAoP8c/lr9iv3e/j//oP8iAWgDyQOYAxwFYgfmCDkK4Aw6EbET0xQnFqoXbBgLGKoXzRhDGygdiR2eHxQidSJTIUUiuyQcJSokrSW1KNgpdykIKowrQC31LlUv5y86MU8zsDOpMJQuVS/1LlwrhChGKcMn+SPkIW4fpBvbF9MUzBEzDowLmgrYCYUI0AaLBCoEyQPkAZEAUwEHAwcD5AGmAvkDOAMVApgDWgRoA6YCOANoA7QBoP/e/n3+6/0p/cj8Wv27/Tf85Pqz+vH5bvh799z33Pes9xr3GveJ9gX1Q/Sy81/ybPFJ8BnwGfAn76Pt4eyw7B/s/OrZ6TrqOuol6KHmfuUI4wHgi9033LTarNc21VHTetAfzLfIccbKwzHAi72ZvNe7MLm6tme1E7RtsSevo60Sre+rSKnSpnGmr6UWoj+fD58/nzicYZkHnOydkZmKlkWbD5/6nPqcf6VlrkqwdLQkwY7LStBg2fXnE/Sm+7sEHxNLHpgjmipCNNU7L0DIQxZJMk4JUctR7lLhUxFULFJIUAlR9E76SkZJCErCR2dDpkIHQy9AZjykOwU8Xjm4Nhk39jX8MYYvlC7KKhwl5CENH1Ea4RNWDx4MPwbQ/9b7bvjw8pXusOyb6rboM+eh5sTnJej150jpgOyH71/yl/Vg+bv9AADJA1QIXAszDo4SSheyGrodwSA3I+wkfSUOJqAmYieEKIQoJCiEKEYpdylUKIQodymnKUYpOSqMK+0rKyuaKvsqOSpUKGInMSc/JvkjRSKDIT0fNhzwGWwYJxZQE9kQVg8CDmkKMQd9BckDIgHQ/9D/AACg/63+b/8AAND/0P/yAPkDDwZiB2kKMw7EDmMOSBCOEr4SjhKjFDwY/hgLGJ0YwBk8GLgWiBYZF1cWQhRQE4ATXRK3D2MOlA4zDnENEA3SDdINHgw5CqgJ2AmFCNAG0AagBrsERQLBAAAAKf3x+Q346vak9J3xGfDG7u7rtuih5k7lmuMk4W/f3t4c3mjc5Noi2pHZbtis13zX3NdL11nWKNa61onWl9X41brWWdbV1ILTUdNf0ojPgMxryufIQcaowjHAP79Nvna7kbkAuW64ibaltES01bR0tBO01bRZtom2urbdtz64rLcbt7q26ra6tom2Z7WCsxO047P+sTyxIbP4tUu3g7pUwcTHvsv+0fncQOab6s3xiv3QBisLJQ8LGJ4fpiIcJcoqFzDhM4c22zfiOok9pDvNODw4qjejNEgwSDD8McQuaSodLMQuXCu1KMoqoS1+LNgpvStjLr0rASegJjEnySN7HgUcExvbF2sRfwzYCQ8GMAAH/IP6kPmX9V/yv/L+8ZXuQu1l7rjvuO8L8UP0bvhS+jf8AAAqBAEHtQivDJsRBBWIFjwYQxvHHPgcuh09H/IgUyGzIXUiNyOmIoMhsyGmIqYiFCLWIuwkPyZ9JRwlrSV9JfkjmCPsJLsk1iKzIYMhYCDHHFEaLhmqFzQVHxP8EWsRhg9ODMoKqAnDB94F7ARNBRwFaAPJA4sEWgT5AxwFwweoCcoKEA3nD5sRzBFQE2UVJxZ6F50Y8BkTG9UbBRwoHZ4fgyEHI7skFimvLK8svSsQLdItmioxJzEnMSf5I/8frB74HP4YoxQfE/wRoQ3YCRYJwwfJAwAArf5M/sj8g/rB+eT6g/r/+J74wflg+Q343Pee+M/4e/f39Zf14vO474Dsm+qG6B3ld+LD4D/fu91o3Jjcu93e3gHgteHK407lr+XS5oboqekK6pvqT+zT7XLtgOy+62vqY+ft5AjjMeDJ3PLZG9cT1BnQ4cxrymPHHsWaw3fCtcGFwVTBhcFHwprDHsVOxb3EHsX7w/PATb6muz648LIZsPeuzKoepWqjmqP0oFudfZ7Yoh6lcaaArPi1i73txATOPdin4pvqLvKm+1oE+wq3D4gWnh/eJTEn7StCNLg2ozTGNY85uDbnLyUvXTK2L6cpvSubMUgwHSwCLpsxOjGhLUAtCjE6MQIucS2ULkAt2ClvJosksyFDGzQVLRJjDvMHtAEO/yn9z/ji883xbPH27szqSOlr6mvq5+jn6E/sh+8L8eLzYPkc/qD/AACLBEcJqAkJCgIO/BFdEi0S4RO4FogWlRWIFs0YLhmdGF8Z1RvHHGYcuh3BIHUi5CGmIoskrSVaJMkjuyRMJckj1iKLJOwkaCOmIkUiUyE9H7odKB2kGy4Z2xd6F1cW0xQfE+8SUBO+El0SHxNyFKMUgBNQE3IUchThE+ETchTTFLETvhKAE1ATmxEKEV0S7xKOEi0SgBM0FZUV9hU8GHQbuh1LHm4fpiIcJRwlrSXzJ0Yp8yc/Jg4mTCWmIjAgDR9ZHbIaqheIFpUVjhJWD8QOxA6vDPsKmgr7CpoKqAkJCr0LvQtcC04MoQ1xDR4M7QvtC9gJMQdNBZgDwQCK/YP6rPdD9EnwEe2b6sTnTuVp46fiRuKF4VThheFG4nfip+Ka4yvkveTt5B3l7eRp47XhYuAc3tbbwdl810PUq9CjzTrKosaaw4XB3r5ovHa7tLqRuQC5wbmDurS65Lq7vQHAoL8xwNjCjMQ5w3fCacMWwk2+tLpLt1+y4awmqHei+px2mzicdpsjmludr6WOqxKtbbHXu3HG2snhzGDZOuoL8Y/yHP5jDoAThg8EFbMhRSJfGbIarSUcJSEaghrJI2gjzRjpFp4f/x/2FYATpBt7HjwYGRdgIPMnTCWLJK8s/DF+LD8m5Sj7KlokBRzVG7odehdxDXcJdwnXAjD51fSX9YHzsOxr6jTuh+++65vqSfDV9PDysvOD+gAA3v7e/rsEygpcC4wLChHbF2wYVxY8GDYcshoZF6oXpBuXHLIapBv/H4Mhzx/BIOwk0CbQJhYpxC46MXgwOjFCNMY1QjSAM8Y1GTewM3gweDBVL/sqoCZMJUwldSLqHQUc4xpKF7ET/BE6EVYPoQ3SDfUOVg8zDvUOqRA6EbcPqRBQExIU7xKOEtMUZRXhE1ATBBX2FZUVBBW4FgsY6Ra4FsAZNhwoHT0faCMxJxYppym9K9ItfiwrKx0srywrK3cptSiEKD8m+SNoI6YikSBLHsccdBtfGYgWNBVCFLETXRLMEV0SLRLMEdkQeRDnD8QOoQ0QDe0LOQpUCA8GOAMAAGj8kPko9i7yxu4f7Knp0uZp44XhMeAc3sncaNwH3BTbg9pT2iLawdmR2SLaddsH3DfcmNz53Gjc5NqR2W7Y6tYF1YLT8NIL0cbOo82xzC3LCsqpyUjJt8glyFbIt8j1xzPH9cfnyLfI58jayTrKt8gQxsrDJMHJvEu3X7Jlrgqqf6UkoU2emZxhmVmWl5VZlt2XkZlFm9Gfxaf3ro+yn7hcxNPNLtJg2dLm2/Di8yL67ASaCh4MSBBKFzYcExtmHNYiiySDIRQi7CSgJqAm3iUkKK8sYy5ALRAtCjHhM2sxhi9PMyY2sDM6MU8zvjJOLNAmfSXkIfAZUBN5EO0LWgTr/cH5ufZs8b7rOuqO6wrqlOcl6PzqH+yO66PtX/Io9ur2kPlv/9cC1wIcBdgJ4AyvDOAMSBDvEpsR2RBdEoATvhKbER8TxhWIFrgWjxkoHc8fwSDWIqAmFimnKfsq0i22L8QuAi6GL7YvEC05Kqcp5SiLJGAgPR9ZHTwY4RP8EUgQ4AzYCRYJtQjQBk0FrgUxBzEHMQdHCU4McQ0zDhgQzBEtEvwRLRK+Er4SLRKOEu8SHxOOEr4SsROjFAQV9hVKF/4Y8BmCGpcc/x9oIxwlVCihLcwxTzMENQs4IDqPOf44UTriOp04hza4NjQ1mzHELqEtjCuSJxwl+SOzIXseBRwTG18Z6RaVFTQVQhRdEqkQ5w/EDq8MygrYCVQIDwZaBGgDtAGg/5j8Uvrc96T0X/IZ8ATujusK6ufoAud+5U7lHeWM5FzkjOS95FzkXOSM5IzkveQd5U7lveT745rjd+Ji4H3eWt1o3CLaDdhL18fVgtP+0avQxs4Sze/LXctryrfIVshWyNLGHsVOxa/FvcQ5wznDOcPzwLu917uRuXS0V68tq/WnqKIjmuOT/pFDje6EAYDDgPuDF4J4glCMipZ2m6iiJ69Fu+bBzMry2crj9edD9LsEmgoJClATwSCzIfgc1iJOLE4shCivLB8zeDDtK9Itti+vLAgq0i14MKEtHSyULucvlC5xLbYvzDGbMQoxazFVL9gp+SN7HnoXhg8WCckDHP4a9wvx4eyU5+Xhb99N3gfcmNyg3+XhteEW4n7l5+hI6S3rJ+/w8ij2z/iY/AAAdgJaBPMHXAtxDUgQjhISFEIU4RNyFNMU0xQnFs0Y4xq6HeQhrSV3Kd8sqTDhM+g2jzmkO6Q71TtDO1E6qjcENb4y5y/tK/MnHCWDIfgcXxn2Fb4SJQ9/DJoK8wd9BVoEWgTJA9cCyQN9BdAGVAg5ChAN9Q55EI4SoxSVFfYVuBbpFrgW6Ra4FkoX2xdsGF8ZghqkG1kdMCBoI28mdynSLb4yuDbwOWY8nj8UQqZC1kKYQzdDFELPPxo+lzwgOno3ZTXhM2sxxC7fLMoqwycqJHUiIiENH5ccdBsTGy4ZbBjbF3oX6RbGFTQVQhTMEbcPYw6MC/MHKgQiAX3+s/pY9r/yuO/h7DrqxOdx5u3kaeNG4uXhJOFi4GLgoN/e3n3e7N2L3fncptu02rTag9qD2lPaItow2Q3YrNeJ1kPUj9Jf0i7S29Dpz0rQetBXz/bO9s6VzmXO9s5lztPNo80SzY7LqcnnyCXI4MU5w7XBP7+Duja1DLFCrQOn9KAdnnab+JXbkMaOo43oiO6EA4cti1CM1I34lZOgVqgEruq2ysOVzlnWrd4X6aT0HP4VAqAGhg96Fy4ZjxkNH/kj5CHcHp4fkSAbHjYc/x/5I1okbyZcK1UvlC4zLjox0zTTNB8zZTXbNwQ1FzBALd8sASd7HoIaehf1DhwFoP+D+v7xSOkd5Vzk8+CY3MncTd5N3hzeoN/K45TnOupX7zb1s/re/oMB7ARiByQIdwkrC+0LTgwQDTMOlA4lD4YPeRCOEqMU9hXNGAUczx+mIuwkRimULpsxETQLOHQ7xzyXPPc8Gj42PM04uDZlNWsxHSzzJ5gj6h3pFl0SxA6oCewERQKDAQAADv9v/zAA8gBTATgDTQWgBpIHhQhpChANAg4CDkgQgBNyFEIUNBW4FrgWlRXGFXoXCxhsGFEaKB2sHp4fRSLeJZIn5SgdLOcvXTIRNLg2vzmkO2Y8rD7BQP8/3D4aPmY8vzm4NgQ1sDMKMcQucS3tK0YpoCZaJEUizx+6HQUcIRo8GLgWBBVQEzoRhg/SDb0LqAkxBxwFOAPyAG//u/11+/H53PfH9bLznfEn73LtjutI6ZTn0ubf5R3lK+T748rjaePY4gjj2OKn4kbiFuIk4ZLgAeDQ3w7frd593k3e7N3J3NbbRdtT2m7YS9dZ1jbVstMu0gvR9s5CzVDMLctrykjJY8eixqLGf8U5w4XBFsLmwX2+FbuDum64X7LhrP2qlKf0oHabkZnrlhqQIIyxjL+LooZyhnONbZGIjxSUaqNzraOtBrXnyDbV49OD2tvwHP7B+d7+jhLHHMYVVxbeJdItbyb5I4Yv2zepMPsqzDGHNngwOSqULsY1vjIzLqM06j1mPEk3pDtnQ8FA2zf+OMc8ZTV3KbskByMTGzMO0AbsBKD/1fTT7U/slOeg38HZItpo3GDZfNfW27Xh2OIW4kDmo+0Z8Enwx/Up/QAAAABTAdAGdwlwBnAGKwtODLUI8wevDIYPoQ1jDpUV1RvHHP8ftSj1LrYvazELOPc8lzz3PPFAN0OQQCg9lzwTOwQ19S69KyQogyGyGicWjhKvDAEHiwQHA2AAu/0p/a3+u/3I/Lv9AACDARUCmAMBB0cJ5ghHCVwL7QuaCjkKXAtODIwLmgoeDAIOYw4zDtkQNBULGPAZex75IzEn2CljLoAz6DYuOSg9FEKKRA5G5UhbSx1MjEtpSthJI0jrRCJBSz5DO3o3TzPZMJQu+ypUKAEnTCXWIvIg/x8NH2YcghqPGQsYNBUfE/wRtw9/DOYIoAZaBPIA3v7I/IP6e/ek9F/yevA07r7rOup46VboM+dA5kDmr+W95L3kveS95Izk++Oa4znjd+KF4bXh8+DQ39DfAeAB4G/fP9/Q3wHgP9+t3t7efd7s3fncKt3J3HXbtNqR2T3Y+NVD1FHTC9HGztPNQs3MynnJGMljx1zER8KFwd6+Fbvdt/i18LI1rjuqZKfYoh2e8pnIlauQ74ucitqJsIUshAuKSpCrkCGTk6AEro+yrLeGyG7YTd5A5on21wLeBYwL2xc9H1kdSx4kKN8sJCigJh0sti/fLNgpMy5dMrYvQC2pML4yqTDELr4yCzhXNnI0jzk2PAs4gDP8MQoxjCt1IpccCxhWD+wEiv339WXuY+ck4bvdU9pZ1jbVZtU21cfVS9d12wHgCONA5vzqJ+8u8hP0l/X/+Nb7mPyK/WAApgJ2ApgDPwbzB8MHVAhODHkQaxFyFFEarB6zIX0lKyupMB8zZTWBOrk9KD33PEs+Gj6BOoc2xjXhM34soCZaJM8fnRgfE9kQAg6FCLsEuwTJA5EAAABTAaYCRQKmAhwFAQc/BnAGhQh3CSQIJAioCcoKqAmFCDkK7QtcC70L9Q4tEhIU9hWPGaweUyHJI7UooS06MaM0LjkaPiJBRULrROVIaUo4SvpK30wQTThKkkcORshDbj+kO145uDYfM4YvoS0dLOUobyatJX0lmCPyIGAgbh+XHJ0YJxajFJsREA05ClQI7ATBAOv91vsw+Wb1v/KP8gvxZe5y7XLt4ewt6wrqLeuO68zqm+pd647rm+oX6VbolOff5YzkmuMI4+XhAeCt3irdptvB2WDZkdlg2fLZ5Npo3OzdDt8x4LXh5eFU4YXhteHz4K3e+dzW25HZutbV1FHT29CjzS3L58jgxXfCw8AcvkW7n7jqtme1L7Inr7GsO6oDp9iicJ8HnKyXX5KWjr+L9YdPhSyE7oQDh9qJ4ozxkqabaqM7qlGzFsL2znzX2OJf8rv9UwG1CMYVdBsuGbodwyd3KVokYieGLzMuVCivLAQ1TzPELh8z4jqyOlc2sjoUQkVC/z/kQQ5GTEXcPuI6sjomNhAtbyamIqQbOhHzB0UCN/wL8bboEOaF4abbDdie2GDZG9es15jcYuBG4k7lm+rG7tvw8PJY9jD5YPnk+hz+P//Q/wAAwQBFAmgDuwRiBzkKcQ06EWUV8BluH8kjVCjSLY0yqjdDO9w+RUJnQ8hDKUTIQ0VCPT/VO/44ozT1LkYpKiRuH1EalRUfEwoRoQ3KCqgJVAigBhwFHAV9BX0FfQV9BXAGAQcPBj8GcAagBq4FTQWuBa4FiwQqBK4FMQdiBxYJrwwYEO8S6RZ0G88fWiTlKK8sSDARNKo3IDo2PHs+zz9gQGBAL0AvQGBAYECQQFJBg0GzQVJBYECsPjY8jzk8OPY1jTK2L2Mu7SuEKK0l+SPkIawelxyyGukW7xLnD+0LkgeYA5EA3v4H/GD5DfhY9lHzbPGH79PtsOy+68zqzOrZ6efoJehx5h3l++On4oXhw+Bv3+zdKt3W24PaItrB2YPa5Nrk2qbbN9z53Ivdi9193mLgFuL7407lEOZj58TnlOeh5n7ljOTY4iThrd5o3BTbYNko1qTU49P+0SfPo83hzMzKAsd/xU7Fd8Leviq9prtuuBO0DLEErkipvaRVofqc3ZdSk9uQc415iWSH4IV/heCFxYdriumPYZmFoXmp3bd5yaTUKt1y7TAAYgcWCYgWTCWtJSIh0CYKMdItTCV3KdkwcS13KRAtjTLuMhcwozQ2PIk9WD3BQFRIK0thR6BG7UuvTA5GFEI3Q8FAqjf1LvsquyQLGEENwwcAAJf1sOzE56fiN9wb15fV3Ndg2f/YydwI4wLnSOnu63rwsvM29Vj2//gU+7P6UvqD+oP6wfkN+M/45PpF+9b7rf7XAtAGdwn1DkoXWR3kIfMnxC4RNHo3jzlYPcFAL0DPP1JB8UBYPc049jVdMr0ruyRTIfgcJxbZECUP4Ay1CH0FTQWuBSoEOANoAyoEuwSYAzgDiwRaBHYCdgJ2AlMBAADe/j//ff7I/Ir9b/+RAIMBiwQkCL0LxA6OEogW4xoNHwcjoCbKKpQuazGjNHo3jzlDO8c86j2JPSg99zz3PIk9uT3qPf8/s0GzQSJBwUDBQD0/BTwgOl459jUtMhcwoS0WKYskFCKsHvAZZRXvEhgQjAvQBvkDdgLQ/5j8FPuD+m74NvWB81/yevCj7R/svusK6pTnceZ+5WnjJOFi4KDf7N2Y3AfcN9xF27TaFNsH3PncWt2t3iThCOP74x3l0uaG6OfoqemO6+Hscu007gTuBO4R7fzqVuhx5r3kRuLe3sncptsw2fjVBdV01LLT29CIz7jPQs3nyEHGjMTzwMm8IroNuKW0V69eq1aoCaPJnJ+YKZaQkgSO74uBjMyKA4czh2uKC4qcinuQTJcHnKiiDLHRv9LGC9H74/7xufZa/U4M4RPZEKMUsyF9JQ0fRSKULtkw5SiEKL4yxjW2LxAtxjV7PqQ7vzmmQk5MW0vCR69M/FEdTFpEfUUxR0s+jTIKMb4ykiedGGUVEhRUCAf8rPdm9QTufuW14RbiYuD53GjcJOEI4/PgOeMl6OfoY+eG6L7rle407tPtevAu8jzxh+/o70nw6O968P7xl/WD+kz+FQLmCOcPoxRRGhQiFikQLakwlTUgOqQ7gToFPHs+iT2/OQs4ejeAM98sFimSJ8kjGx5mHIkd8BlyFFATXRICDgkK2Ak5CrUIMQeSB1QIYgfsBPkD+QMHAyIBMABgAAAAP/8c/t7+AAAAAMEAuwRUCDkKcQ0KEeETGReyGkseNyPDJ1wrMy46MYAzETRCNJU1hzZJNws4UTr3PEs+6j3/P4pEb0beRTFH+kqhTU5MmUq8S69MVEjWQpBA9zxXNoYv+yp9JYkdehdCFOcP2AmuBVoEpgKg/wf8s/rx+Uv3Q/Qg8xP0X/JJ8HrwqvBl7l3rm+qp6aHmmuOn4uXhMeAc3vnc+dzJ3AfcaNxa3U3eDt8B4LXhaePt5NLmeOmO67Ds0+0Z8AvxSfAZ8KrwqvDo78buBO6w7C3rhui95HfikuC73WDZ6tZZ1nTUC9Hpz4jPc80ty/zKqcmixsrDqMKSwNe7fLeXteOziK/Mqhip9aeNpD+fmZx2m26YdJSQkm2RGpAEjuKM4ozijNSNq5BZlgecqKLhrM+4f8XTzdzX0uaB8//4yPw5CpUVQhTMEeodMScbHsAZfSVVL94lUyHhM0s+TzPfLOo9RkkTO08zHEVqUTFHB0PZUCBaxE5MRZlKK0sNP40yLTK+Mq0luBZCFI4STQVY9i7y8PLu6yThfd7Y4oXhItoi2mLgRuKg3yThJejM6sTn9efM6l3r5+ih5hfp7uub6rbom+py7QTucu3o79X0Uvq7/XYC+wq+EkoXZhy7JHEtCjFPMy453D57Ppc8uT1uP5c8CziqN+g2XTJ+LAgqMSfWIhsepBukG1EaiBZlFbgW9hUfE5sRjhJQE2sR5w9IEIYP4Aw5CtgJFglwBn0FrgVNBSoE1wLXArsEfQV9BSQIQQ15EF0SZRVRGnseYCBoIyQoTizELgoxozToNkk3CziPOVE6IDrwObI6dDsTO/A5sjooPUs+ez7xQClE3kXrRFpEyENSQcc8bDiVNcwxvStvJkUixxy4FjoRQQ3YCa4FUwEAAOv9UvpL98f1dPRf8gvxqvDo78buQu2O68zqCuq26MTnJeiU56Hm3+W95Jrjd+Ik4fPgteG14eXhCOP741zkveTf5ZTnhui26NnpLetd65vqa+rM6szq2emp6anp5+gC5+3kOePD4Mncz9iJ1tXUPNEEzhLNscz8yvXHVsjayYbI4MWvxdLG+8OSwHC/rr5Fuz64fLfItc6x1K0frAqq4KWFoZOgJKEdnlOaRZuZnJGZdJSllFOaKp1Fm2Kg1K2fuAe8msNm1U7l5+h46Xv30Aa1CAAARQJyFHoXjAuhDeQhoCZRGokdoS2NMkwlJCiBOnQ7zDEmNjhKTkwNP1JBLFLTVFpEFEKvTGlK1TvGNYE6Czg5Kv8fsyHcHsQOaAOmAgAAx/UR7ejvv/LT7Ujp7us88WXuSOnn6F3rSOkr5PvjY+ev5cPg8+D74znjkuDQ3znjfuVc5K/lLesZ8L/yKPbI/BwFXAvSDbETWR3WIhwlFimpMJU1QjQRNP44IDrTNJsxjTJrMX4s2ClcKysrbybJI6AmYidoIyIhySMcJbMhrB7PH/8fpBs8GDwYqhfhExgQlA5BDXcJ3gV9BSoEtAEwAMEAdgLXAgcDuwTzB6gJXAv1Dh8TJxY8GDYcYCCYI60lJCg5KisrTiyhLZQuJS+GL9kwLTKAMwQ1JjaHNgs4IDqkO4k9zz/xQKZC60Q/Rt5FikSmQp4/EzsmNjoxHSwOJp4fjxk0FdkQTgzzB00FBwPyAAAA3v4p/Qf8dfuz+vH5//gN+Ln2ZvXi81/yevAE7uHsLetI6VboY+cQ5ozkCOOn4kbiw+Ax4DHgAeDQ3zHgJOHl4djiyuPt5H7lTuV+5b3kmuNG4lTh8+DD4DHgkuCS4NDfrd6L3dbbPdhm1bLTX9KIz7HMQs1Cze/LXctCzQTOscxQzLHMUMwYyZTHosa9xLXBP7+uvmi8MLkotvCy27DGri2rVqhWqNKmy6OFoa6edpt8l4qWTJd0lEyXk6CipnmpL7KSwMzKc8261qnpv/J09Ov9ygrZEFYPjhKPGfgcwBl6F88frSX5I6YiaSpyNEI0gDOBOkxFrUXkQSNIF1D0TiNITkzuUqFNDkbeRYRI5EFXNgox2TD7KnseVxYEFToR7AQ3/Gj8kPlX7+fo7usR7ZTnTuV46b7rhuiv5ZTnqelx5hbiteHY4gHgRdu02uzdHN7k2lrd++Nx5k7l2ekg8xr3//hv/0cJtw8tEmwYzx/5I0wlMSeaKqEtoS2hLVUvmzF4MDMuYy71LnEtmir7Kt8sjCt3KQgqKys5KrUohCgkKAEn7CTWIiIhex5RGlcW4RObEWMOXAt3CSQITQUHA0UC1wLXAjgDTQUkCDkKvQtjDqkQjhLTFLgWLhnjGpcc6h1LHp4f/x/yIIMhpiLsJDEnwyenKU4soS3ELgoxcjSHNmw4pDt7Ps8/wUAUQkVC8UCeP6w+BTxsOBE0FzCMKz8msyHqHVEauBZCFJsRVg9xDYwL2AmFCJIH0AbeBRwFyQPkATAArf43/P/4WPay89vwcu2b6oboEOaa4yThYuAO3yrdN9zW23Xbwdkw2TDZntjc16zXDdgN2NzXG9cb1xvXutZZ1pfV+NWJ1rrWfNd81z3Yz9jB2WDZMNny2cHZkdkw2TDZ8tn/2P/YwdnP2A3Y/9iR2W7YS9cb1+rWE9Tb0KvQuM9dy+fISMljx6jCD78Pv+S6dLQvss6xQq3gpeClxae1oWGZtJq1oU2ekZkWomWuRLTdt+bBbNF1263eQOa47w34mPwU+1MBmgqoCSQIlA40FUoXiBZfGQcjASfsJDkqsDPbNyY2IDpaROVI3kXCRxdQjVIXUHFNOlG4VlVPkkdGSRZJDT+AM/UuHSzWIrgWzBEYEHcJtAEc/q3+HP6s9+LzWPbc9/Dyle6H7xnwa+rK407lcebD4Kbbptsq3SLapNTH1YPaYNl81zfcaeNx5qHmzOq/8qz3kPm7/U0F7QuhDXkQbBjqHYkdGx4UIoskByOzIXUi+SOzIW4fFCKLJJgjaCMOJiQokicBJ+UoCCrlKCQotSjlKKAmaCPkIWAg+BzAGTwYJxbhE5sR5w9WD7cPlA4CDoYPaxH8ES0SjhLhE9MUchSVFWwYwBnwGfAZdBtmHOMawBlDGwUcshoTG+od/x/cHkseIiHJI5gj+SMxJysr3yxjLi0yejePOS45gTrHPNU7PDgmNkI0FzCMK1QooCYqJPIg3B5LHigdURpsGBkXlRVQE2sRSBCGD+AMqAkkCA8G1wIAAOv9pvtu+Db18PI88ZXuH+wK6sTnHeWn4m/faNyD2g3Y+NWk1BPUIdOP0o/Sj9KP0v7RLtL+0TzRetAZ0CfPNM40zrjPbNHw0sfVntgH3JjcKt0/333emNwH3LTatNow2RvXMNnP2G7YwdlT2qbbN9xF25jci90i2pHZg9pu2PjVX9Lpz/bOhshHwjHAybyst+Oz8LKrsMyq9afFp72k7J3JnLWhd6J3oh6lQq26tqa7tcHvy4LTydz1513ro+3i85j80P9S+j//OQpxDQkKEA32FSEaSheqF/IgoCYxJ1wrJjasPok9nj/YSUhQ30zKSixSC1jZUGlKk062Tw5GpDtDO2Y8zDF9JaYi8iC4Fh4MygqaCrsEoP/r/Rz+N/zq9l/yX/LN8RHteOkK6qnpveQB4G/fi93/2KTUgtMh00rQxs6r0PDSE9SX1fLZoN9c5PXnH+yP8p74N/wAAD8GfwyUDrcPchRfGcAZCxguGcccGx4oHXsedSK7JIskfSXlKFwryiqMKwIuVS/SLTMu5y8lL68svSu9K5oqMScqJHUiYCCJHRMb/hhsGNsXVxa4FtsXqhdKFzwYCxg8GAsYnRiPGc0YCxiPGSEa/hj+GP4YPBh6F+kWGRcZF7gWCxhfGeMaKB09H/IgaCOtJbUofiwlL40yJjb+OOI6pDtmPNU7jzm4NmU1LTICLvsqtSigJskjpiKmIuQhkSDPH24f6h3HHLIa/hh6FycW4RP8EYYPrwx3CX0FdgJv/+T6ufay8+jvXev151zkYuD53GDZS9fV1C7SStD2zgTOo81zzaPNlc6Iz0rQetBK0LjPxs7TzaPNc83TzcbOetDA0oLTdNTq1m7YMNnP2MHZydyY3FPatNp129bbFNuD2lrdDt/e3qDfw+Ak4SThoN+g3zHgb99o3CLabtjV1MbOGMkCx3/FoL/BubS6IrqCs6OtQq2Oq42kcJ8spHmpR6JOpbKzPrjqtpm8m8r+0XrQUdO14fXnoebu6y7yPfgU+wf8oP+LBLsEfQUeDLcPQhRKF/gcwydpKtgp/DHVOwU8jzmsPrVIK0tvRoRI50/ZUE5MaUpOTAhKs0FDO485ozRcK+wkFCJ7Hp0Y7xLvEswR2Al9BdAGfQUAAMj85PrB+bn2nfH27rDshug5403eN9x127rWwNJR03TUstPw0gXVG9f41brWptsO35Lg7eQK6vbupPTB+X3+RQKuBUcJfwxWD8wR4RNlFbgWbBghGgUciR09H/8fdSLeJTEn5Si9K6EtYy4KMYAzjTJdMr4ymzHnL1UvMy6MKwgq2CnzJ9AmMSdvJiokdSJFIkUi/x/qHVkd+Bw2HBMb4xqCGvAZXxlsGDwYnRjbFxkX6RYZF0oXeheqFwsYbBiPGeMa1Rv4HEsewSD5Iz8mtSh+LFUvqTBrMcwxLTJrMSUvEC1OLMoqJCigJj8miyQHIwcj1iJ1IiIhwSBgID0fiR02HBMbzRiIFkIULRK3D04MRwnQBskDMADr/bP6rPey81fvjusl6Mrj0N/J3IPabtiJ1gXVpNTj08DSUdPw0p3R29BK0OnPZc6AzL7LjsvMyjrKXcsSzdPN9s7b0PDSQ9Sk1KTUl9Uo1ijWl9XH1erWWdbH1VnWfNdu2P/YwdnW2/ncHN593uzdHN4q3eTa8tnP2LrW49Or0LjPJ89WyL3EHsWSwHa7NrUhsyGzXqtBpsWnqamcqgqqzKqysyK6mbwrxIbI29DB2WjcteFj5x/s4ezu68bu8PK/8qrwS/dM/lMBdgLeBXkQBBWGD2sRiR0cJWgjiyT1LlE61TuPOfFAaUrlSIpEI0gyTvpKKUSmQqZCnj9JN9kwSDDtK2AgURpmHCEasRMlD0gQ0xTMESsLHgwzDvMHAAA//z//kPmd8aPt4eyp6crjAeBN3nXbrNdm1VnWWdZD1KTUidZg2fncrd6S4H7lJeip6QTuIPOX9Q34FPve/pgD3gUPBlQImgr7CowLAg7ZEPwRHxMnFkMbbh9TIfkjhCiMKxAtJS/8MY0yLTLuMoAzsDOAM10yCjEXMJQuQC2vLIwrFim1KHcpRinlKCQokidiJw4mHCXsJLskByOzIbMh5CGDIWAgPR+sHuodZhyyGrIa8Bl6F0oXnRguGS4ZURpZHf8fkSB1IgEn2Cl3KTkqEC3ELtItTixOLB0spynDJ9AmrSX5I6YipiJoI6YiRSJ1IoMhMCBuH+odlxwTGzwY9hWjFF0Shg9xDcoKRwnQBmgDwQA//wf83Pd09J3xBO6b6gLn7eQ542LgHN6L3fncptuD2pHZMNme2BvX+NXV1EPU8NLb0ErQGdAnz5XO6c8L0Z3RLtKC0wXVNtUF1cfV6tbq1sfVZtVZ1ijWNtUF1VnWutZZ1hvX/9iD2iLatNpF24PaMNkN2KzXZtXA0mzRuM8fzHnJhsivxUfCMcAcvqa73bdntf6xJ696sM6x8LLVtIm2Kr3txK/Ff8X1x83RN9z+0ZXOVOGp6djiB9wC5+T6pPSU57Lz+QM//xr3ff77CgoRYgdODMEg8iCkG2AgMy5XNucvlC5mPBZJbj/bNzdDHUx9RZ04vzmKRGBAVS9+LMY1cjTzJwcjyioCLnUiQxvkIckjwBnnD1ATqhcCDvkDfQVHCSIBGveX9bn2IPOp6crjQOZ+5X3eItpF28nc/9ik1LrWItqe2OrW8tnQ33fi5eFA5oDsle7T7ejvQ/Tq9ur2ufbx+X3+3v5v/3YCrgXzB2kKAg78EQQVuBayGkseMCCmIg4m5SjYKTkq3ywlL8QuYy6GL2sx/DEKMWsx/DE6MecvFzB4MOcvxC7ELlUvVS+ULtItYy7SLa8sHSxALRAt+yqnKdgpFiliJz8muySLJKYiYCCeHz0fiR2XHJccWR0NH/IggyGmIkwlPyZvJgEnASegJn0l7CSLJPkjFCKRIDAgSx6XHKQbExshGs0Y2xdKFxkXVxbTFOET7xKbEbcPAg5/DMoKRwnDB3AGfQXJAxUCYABM/nX7MPn39S7y9u6w7JvqVugQ5u3kCOO14ZLgDt/s3ZjcN9xF2/LZwdnB2f/YS9dZ1onWx9Wk1BPUstPj06TUZtUF1TbVKNZZ1ijWBdXV1JfVQ9Sy00PUdNQ21WbVutZu2KzX6tbP2J7YZtXV1CjWNtUh0zzR8NIh04jPBM4nzxLNeckCx6/FvcQ/vxW7prtTuuq2BrW6tvK5OLymu8m8ysMlyNrJvss0znTU6tZ01GDZB9xT2gfcKt2S4PvjveS26DTuIPN09D34u/3BAAcDFQJiB5QOtw/ZEJUVGx4UIskjtSj1LkI0ETQZN9U7dDvVO6Q7LjkLOBk3gDMXMOcv9S5xLR0sKyvfLL0rkidUKNgprSWDIbMh/x+CGmUVjhK3D5oKTQUVAtD/Wv1g+cf1v/KH73Ltm+pj507lveSn4mLgw+BU4fPgheEI473kQOb152vqvuty7WXuV+/b8GzxbPHN8S7yIPOk9Jf1KPbP+Jj8rf5gACoE5gjgDCUP/BG4FvAZ4xrHHG4fUyGzIUUiuyQOJg4mbyZUKNgppynYKSsrHSy9K04sQC2hLcQu5y9IMGsxgDM0NfY1xjWHNts32zfGNTQ19jURNAoxJS8zLh0sRiliJz8m7CRaJLskrSU/JgEntSjYKTkqKysrK5oqCCp3KcMnHCVoI0Uibh9mHLIa/hjpFkIUXRKpEJQOrwzKCuYIYgfQBk0FmAN2AvIAMACg/97+TP6Y/Nb7g/pu+Br3BfXw8qrwle5P7KnpY+dA5ozk2OLl4eXhheHD4DHgYuBi4JLgYuDQ39Df0N/Q3w7fP9/Q397efd4/3wHgAeCS4IXh2OKa45rj7eSh5gLnY+fn6KnpSOnZ6TrqXev86szqH+zh7IDsEe0E7gTuo+1y7XLtcu2A7E/scu2w7I7rvutd62vqeOkl6ALnr+Ur5BbioN8q3eTabtgF1c3RC9Hpz5XO082jzQTOiM+d0c3RLtJm1dzXDdg92GDZddvW22DZItpo3KbbtNoU25jcfd4q3fnckuAI4xbiaeMz58zqQu3T7Tzxe/eD+tb7b/+YA9AGhQg5CnEN2RDvEo4S4RO4FogWZRWjFJUVVxaxE10S4RMEFeETHxNyFFcWJxbTFCcWGRf2FaMUQhRyFLETaxEYELcPYw5cC+YIwwfeBckDFQKDAcEAMAAwADAA8gDyAPIAUwEiAVMBgwHkAeQBdgIHA2gDWgQqBPkDKgSLBMkDBwOYAyoE+QMqBLsEDwbQBgEH8wfYCZoKKwuvDDMOhg/nD3kQ/BFQEx8TjhIfEx8TXRL8EWsRLRItEl0S7xKjFPYV6RYLGPAZExsFHCgdSx4NH88fkSDyICIh8iCRIPIg8iBgIM8fnh9uH24fnh8wIDAgMCBTIRQipiLWIskjKiQcJa0l3iUBJ/MnJChUKPMnhCiSJ60lWiQHI/Igex7VGyEanRiVFbETXRLZEFYPMw4QDX8MvQtpCtgJdwlUCAEH3gW7BGgDgwHQ/33++fyz+p746vY29fDyqvD27mXu4ezM6tnpSOlW6DPn0uYC55TnJei26KnpOuqb6r7rgOzh7ELt0+3T7TTuZe407jTuNO4E7jTule5X7+jvevA88V/ygfN09Mf1ufZ79zD58fnk+nX71vv5/Cn96/3r/Rz+TP59/n3+6/27/fn8B/zk+lL6YPnc94n2ZvVD9L/ybPGq8Ffvle7T7ULtsOxd68zqCup46fXn0uZA5u3k++PY4hbiheEx4D/fP98O3xzefd7e3n3eTd5N3q3efd5N3g7fb98/36Df8+C14UbiaePt5ALnJeh46Y7rsOwE7ifvSfAL8c3xj/K/8lHzE/RD9NX0ZvWX9ff1WPZY9ur2ufbq9hr3Gvfq9ur26vbq9hr36va59hr36vYo9vf19/X39ff1x/Uo9on29/WJ9rn2S/dL96z3nviQ+bP6RfvI/Bz+rf5v/wAAkQCDAeQB1wLJA4sETQXeBQEHJAgWCQkKXAuvDHENMw7EDoYPeRA6EcwRvhKAE0IU0xQEFfYViBa4FhkXShdKF0oXShcZF+kWGRd6FwsYPBguGcAZ4xoFHJccuh17Hg0fzx+RIMEgYCAwIGAgMCCeH9weex7qHYkd+BzHHPgciR26HUse3B49HzAgIiGDIRQiByPJIyok7CQcJewkHCVMJbskySOmIuQhUyFuH7odZhwTG8AZCxi4FsYV0xThE+8SXRLMEcwRChF5EOcPJQ/1DqENfwyMC9gJJAigBrsEBwPyAKD/TP5o/IP6//h791j2BfWy8/DyLvKd8QvxevB68BnwGfBJ8BnwSfAZ8Enw2/B68AvxPPEL8TzxC/E88TzxPPGq8DzxzfGd8S7yLvIg87LzdPTH9Yn23PfP+JD5FPs3/Pn8u/2t/g7/P//Q/wAAAAAAADAAkQDBAPIAkQCRAJEAMAAAAG//Dv8c/sj8pvtS+mD5bvga91j2ZvUT9IHzv/L+8arwuO/27gTucu2A7C3rOuq26PXnM+eh5t/lveQr5JrjCOO14STh8+Ax4NDfb9+g3wHgYuCS4LXhd+I541zkfuUz5/XnSOmb6h/s4exC7TTuJ+/o7xnwSfCq8DzxbPE88c3xLvKP8o/yv/Ig8/DyIPOB8xP0E/R09NX0l/WX9Wb1l/WX9Zf11fSk9OLzQ/Ti84HzsvOB8yDzIPOB8xP01fRm9cf1ufZ79z34MPnB+eT61vs3/Mj8u/19/m//oP8AAJEA8gAVAqYCaAMqBH0FPwYBB8MHVAjmCAkKygpcC04M4AyhDWMOlA4lD+cPtw9IEKkQ2RB5EEgQChEKEdkQzBGOEu8SgBNyFKMUlRUnFogWGRd6F3oXqhdKF+kWiBbGFTQV0xSjFHIUEhThE7ETsROxExIUoxRyFNMUxhUnFhkXqhfbF/4YjxlfGV8ZLhn+GP4YnRgLGKoXuBbGFQQVchQSFL4SzBFrEWsR2RCpEKkQChE6EToRChE6EToROhF5EEgQhg+UDqENfwyMC6gJVAhiBw8GWgSmAoMBMACg/33++fzW+xT7g/qQ+f/4PfgN+Nz3S/fq9lj2WPbH9dX0dPTi84Hz8PKP8v7xzfGd8WzxPPEL8QvxnfEu8o/yj/JR83T01fSX9Yn2e/c9+DD5UvpF+2j8Wv1M/j//0P8AAGAA8gAiAbQBdgLXAjgDyQMqBFoEKgQqBCoEyQPXAqYCdgJTAcEAYAAAAND/Dv8c/or9mPym+7P6IvqQ+f/4PfhL9+r2KPY29XT0svOP8p3xqvDo7yfvxu4E7kLtgOwf7O7rXetd677rvuu+60/sgOxC7XLtNO4n77jv6O+q8Dzx/vG/8rLzE/Sk9AX1NvXH9cf1ZvWX9cf1x/XH9cf19/Uo9ij2l/Uo9on2WPa59on2ifaJ9on2ifZY9rn2KPbH9ff1x/X39Zf1NvVm9Zf1x/WX9cf19/Uo9on2Gves93v33Pdu+M/4MPnx+VL65Pp1+wf8yPzr/a3+P/+g/wAAYADyAIMBFQLXApgDiwRNBQ8GoAZiB/MHVAi1CHcJCQo5CpoKygorC+0L7QtODK8MoQ0CDjMOlA5WD+cPGBB5EAoRChEKEakQqRBIEEgQ5w+GDyUPxA4zDqEN0g3gDB4MTgweDIwLXAuMC+0LvQvtC+0LfwyvDEENQQ2hDdINoQ0CDjMOYw4zDgIOAg7SDaENEA0QDa8MTgweDO0LHgweDO0LTgx/DH8M4AyvDEENoQ2hDdIN0g2hDXENEA2vDO0L+wppCgkK5ggkCAEHDwYcBfkDOAN2AlMBAAAAAN7+6/1a/fn8B/x1+xT7s/pS+iL6YPlu+D34e/d790v3ifYo9sf1ZvWk9HT01fRD9KT0pPR09NX0BfVm9Zf1x/WJ9kv33Pee+DD58fmz+nX7N/z5/Bz+P/8AADAAwQDyABUCpgKmAjgDyQP5AyoE+QOYA5gDOAMHA3YCpgLkAVMBUwFTAZEAYAAAAAAAAAA//63+ff6K/fn8mPym+0X7Ivpg+c/4Dfga9+r2KPY29XT0E/Qg84/ynfFs8TzxC/EL8WzxPPGd8f7xv/KB8+Lz1fQ29Sj2Gvc9+M/4//iQ+VL68fki+oP6FPt1+xT7Rft1+3X7dfum+6b7pvsU+0X7RfsU+0X7Rfuz+hT75PpS+oP6g/oi+iL6wfmQ+WD5//j/+DD5nvie+G74bvhu+D34Pfg9+Nz3e/es9w34rPfc9274z/gw+cH5s/oU+9b7mPyK/Uz+Dv9v/9D/YADyALQBdgIHAzgDmAMqBLsErgXeBd4FoAagBgEHMQdiB/MHwwfzB1QI5ggWCRYJ2AlpCpoK+wrtC38MfwyvDK8M4AzgDOAMfwx/DL0LjAsrC5oKCQpHCYUIJAjDBzEHYgcBB6AGPwYPBnAGcAYPBgEHYgfDB/MHJAjmCHcJdwmoCdgJ2AkJCgkKqAnYCdgJFgnmCHcJqAlHCRYJRwl3CUcJ2AlpCsoKXAseDH8MQQ2hDTMOMw7EDpQOAg4zDqENQQ3gDE4MXAuaCtgJtQjzBwEHDwZNBSoEmAOmAuQBIgFgAAAAAAA//33+u/1a/cj8N/x1+4P6IvqQ+f/4bvhu+Hv3ufYo9sf1BfXV9KT01fSk9HT0dPTV9AX1ZvX39ff1ufZL9w34bvie+GD58flS+oP6Rfum+3X7B/zI/Pn8Kf1a/Yr96/1M/n3+rf59/hz+HP4c/uv9u/0p/Sn9aPw3/Gj81vt1+xT7FPvk+vH5YPlg+f/4Pfis9xr3ifZm9Tb11fTi87LzUfPw8vDyj/Iu8v7xnfFs8Z3xnfHN8Z3x/vGP8vDysvMT9NX0x/VY9on2e/du+M/4kPnx+VL6Rfum+2j8+fy7/Uz+TP5M/t7+P//Q/9D/b/8AAAAAAABgAGAAMAAAADAAAAAAAAAAAAAAAAAA0P/Q/wAAAACg/6D/oP+g/z//P/8//z//Dv/e/q3+3v7e/t7+3v6t/g7/Dv+g/wAAAABgAMEAUwEVAqYCOAPJA4sE7ARNBa4FcAYBB2IHwweFCLUIFgkWCXcJqAnYCdgJCQqaCmkKmgrKCsoKygqaCsoKygrKCisLvQtcC/sK+wrKCvsKygo5CtgJdwnmCIUIJAhiB3AGrgV9BewEKgSYA2gDOAN2AoMBgwG0ASIBwQDyACIB8gAiAcEAIgFTAVMBtAHkAXYCpgKmAqYC1wLXAtcCBwM4AzgDaAM4A8kDyQNaBOwETQWuBT8GcAYxB8MH8wdUCBYJRwmoCdgJqAkJCjkKCQrYCQkKRwnmCIUIJAgxBz8GfQW7BCoEmAOmAhUCgwEiAcEAYAAwADAA0P+g/6D/rf7r/ev9Wv35/Af8Rfvk+iL68fnB+TD5nvhu+D343Pes93v3S/es93v3e/es93v3rPcN+D34nvgw+TD58fmD+oP65Pp1+6b7B/wH/Gj8Kf3I/Pn8Wv0p/Vr9Wv0p/Yr9u/2K/Vr9Kf35/Pn8+fyY/Jj81vtF+xT7UvqD+iL6kPn/+G74rPfq9on2x/Vm9Tb11fR09IHz8PKP8l/yLvL+8Tzx2/Cq8HrwqvB68KrwPPE88Tzx/vEu8o/y8PKB8xP01fQF9cf1ifYa96z3bvjP+FL6+fyg/wAAAAAAAAAAAAAAAAAAAAAAAAAA0P8AAMEAUwHyAND/P/+g/9D/oP8AAAAAoP+t/kz+ff4c/in96/0c/hz+Dv+g/6D/oP/Q/wAAAACg/z//3v7e/q3+ff59/kz+TP59/g7/0P8AADAAwQBTAXYCpgJoA/kDyQP5A7sETQUPBtAGAQdiB5IH8wdUCOYI5gioCagJqAlpCjkK2AlpCjkK2AlpCisL+wpcC70LjAuMC70LXAuMC4wLKwvKCsoKCQqoCRYJJAiSBzEH0AZwBt4FTQXsBOwE7ATsBFoEyQOYAyoEWgTJA5gDmANoA5gDmAPJAyoEKgSYA8kDmAM4A9cCBwOmAnYC1wKmAgcDBwM4A5gD+QNaBOwErgWuBQ8GoAYxB8MHwwckCIUItQiFCLUIFgm1CIUIwweSB5IHMQdwBq4FHAWLBCoEmAPXAnYCRQLkAVMBwQDBAGAAAADQ/wAAoP+g/z//rf4c/uv9u/0p/Vr9yPyY/Df8pvum+3X7s/rk+hT7s/oi+sH5kPmQ+WD5MPkw+TD5MPkw+WD5kPnB+cH58fnx+fH5s/qz+rP6FPvk+uT6RftF++T6FPtF++T6g/pS+iL6Uvrx+fH5UvqD+iL6kPn/+M/4z/j/+DD5YPnP+Nz3e/fq9rn2WPb39Wb1dPSB8yDzX/Kd8Z3xbPE88TzxPPF68Ifv6O+q8C7yj/Io9ioE4AwBB4MBHP5M/gAArf59/jAAtAEO/4r93v6t/kz+Dv8AAAAAAADe/sj8TP5gAAAArf4wAJQOehehDagJhQgPBjEHyQN9Be0LhQjBAGAAtAEAABz+iv1v/yIBoP8p/ab7yPwAAEz+yPyg/wAAu/2m+zD5pvut/oP6z/iK/QAA+fwa9zb1rPdL97Lzl/Xx+cj81vvB+XX7ff5M/q3+YAAHAxwFOANgAPIApgIqBDgD1wIPBvMHHAUiAVMByQNaBDgDiwRpCqENvQuaCisLrwzEDmMOMw5rEeETUBOOEswRaxH8EdkQGBAtEu8Stw+MC4wLTgyaCmkK7QtjDucPYw6vDH8Mfwy9C+0L0g2pEC0SeRAzDnENoQ3gDCsLmgpcC8oK5ghiBwEHcAZ9BYsEPwa1CIUIAQegBpIHwwegBnAG5giMC70L+woJCuYI8wc/Bq4FDwY/Bj8GHAUHA6YCtAEAAND/YACRAPIAYAA//63+Dv+t/uv9P/9gAJEAMADQ/z//ff75/Nb7mPx9/uv91vtS+iL68fn/+A34bvgw+fH5YPn/+GD5z/g9+J74kPkU+9b7s/pS+lL6kPk9+J74s/pF+xT7FPsU+7P68fmQ+WD55PoH/Df8aPwp/Vr9yPw3/Df8mPzI/Ez+oP8O/1r9dfvx+cH5s/p1+9b7s/qe+Ev3KPY29aT01fTV9KT0svMg87/yzfHb8Ojv6O+q8AvxPPFs8Qvxh+8E7gTuV+/o7xnwSfAZ8FfvV+/o73rwzfEu8s3xv/KB81HzgfN09Fj2rPf/+JD5kPlS+hT7RfuD+hT71vtF+3X71vs3/HX7s/qm+zf8B/wH/Jj8Kf2K/Zj8N/yY/Gj81vvW+3X7N/wH/Af8aPz5/Cn9+fyY/Jj8yPxo/Af8pvuz+oP6FPsU+9b7mPwp/Zj8aPyK/ev9TP4//wAAYADBAGAAwQDyACIBgwFFAjgDKgT5A1oE7AQcBa4FcAYxB5IH8wfDB2IHAQcBB2IHhQjYCSsLjAu9C70LHgx/DOAMQQ3SDWMOAg5xDaENMw6hDRANAg7EDucPGBAlD9IN4AyvDH8MEA1BDa8MEA1BDRANHgxcC1wLHgxODH8MXAuaCsoKmgrYCQkK2AnYCTkKqAlUCJIHAQfQBqAGPwZwBnAGDwauBX0FrgWuBU0FTQXeBaAGPwZ9BYsE7ASuBd4FrgWuBa4FHAX5A2gDaANoAzgDFQJFAqYCgwEAAAAAIgHkASIBkQCDAeQBwQBgAJEAIgFgAAAAkQCRAAAAP/8//wAAAAAAAA7/3v7Q/wAArf6K/Rz+6/0c/uv9HP7e/g7/rf5M/hz+6/3r/Rz+TP5M/hz+mPxo/Ir9u/1a/bv9rf4O/97+P/9v/z//TP5a/bv9ff7e/j//P/8c/in9+fxo/Af8B/zW+wf8dfvx+c/4z/hu+Kz3e/d797n29/X39ff1ZvXV9Gb19/XH9QX11fQF9YHzbPGq8Hrw2/A88arw6O+473rwC/Hb8AvxLvK/8r/yv/JD9Mf1KPaJ9ur2GvdL9xr3rPee+G74rPc9+DD5//jP+JD5s/oi+s/4Dfhg+SL6Uvqz+hT7N/w3/Kb71vs3/Gj8dfsU+0X71vum++T65PoU+3X75Pqz+kX7dfuD+sH5YPnP+J74MPlS+gf8dfuz+rP61vs3/HX7FPum+5j8Wv35/Df8Wv0p/Wj8aPwp/Rz+TP7r/Uz+P//Q/6D/AADyABUCRQKmAkUCtAGDAeQBaAO7BCoEyQPsBE0F7AS7BLsE3gUxB6AGMQeFCOYIhQjmCDkKXAuaCncJmgrtCysLmgrKCowL7QseDK8M4AweDPsKjAvtC5oKygpODOAMfwweDBAN0g1xDQIOxA4lD8QOYw4zDgIOEA2MC5oKaQr7CmkKtQhUCOYIqAnmCOYIaQpcCysLmgoJCmkKOQrYCSsL7QsrC5oKygpcC1wLmgo5CsoKCQp3CXcJqAnmCAEHcAYkCOYIAQc/BvMHtQjDBwEH8wcWCeYIwwckCKgJJAgcBU0FPwZNBWgDdgI4AyoEaAPkAUUCOAN2AkUCaAP5A2gDBwPkAXYCBwNFAoMBtAGDAVMBIgHyAMEA8gAiAZEAwQDBAMEAUwFTAVMBIgEiAcEAwQBTAVMB8gBgAJEAkQCRAJEAYAAwAND/ff67/ev9Kf1o/Af8N/xo/Nb7RftF+7P68fmQ+WD5MPnP+P/4//hu+Hv3S/fq9jb1l/XH9Wb1E/Sy87LzUfNf8o/ysvPi84/yIPPi84HzX/Jf8vDygfMg8/DygfPi84HzsvND9OLzdPQF9Wb19/Uo9vf11fQF9Zf1x/UF9aT0NvU29aT0Q/TV9Db1Q/Sy8xP0E/Qg81/yIPOB8+LzIPOB8+LzE/Ti81HzIPP+8TzxqvCq8Ojv9u5l7gTuo+1C7eHsEe0R7eHs4exC7ULto+2j7aPto+3T7dPt0+007tPtQu1y7QTu0+0E7tPtxu4n7zTu0+2V7pXuBO4R7dPtNO5y7dPt9u6478bu9u488WzxbPGd8Y/ypPRR89vwj/JD9FHzC/E88eLz9/V09BP0bvh1+1L68fnI/ND/YADQ/wAABwMqBLQB1wKuBQEHoAbQBgkKlA7EDq8Mhg+xE1AT/BEfE2UVqhd6FwsYZhwNH+odrB5FIuwkrSWYI1okdylOLEYp5SivLDMufiz7KowrAi4QLQgqHSznLyUvryzELvwxCjGULjMuhi/nL34smip+LIwrtSi1KDkq5ShiJ28miySmImAgbh+eH7odpBsFHKQbjxnNGDwYuBY0FRIUHxO+El0SOhF5EKkQhg/EDkENHgyMCzkKtQiFCFQIYgcBBwEHwwfzBwEHoAYxB2IHoAbQBjEHkgfzB/MHVAgWCRYJJAjDB1QIkgcPBn0F3gV9BbsE+QP5A7sEWgQ4AwcDOAOmAuQB8gCRAMEAAADe/q3+rf5a/ab78fn/+A34WPZ09HT0Q/Rs8fbuZe5C7S3rF+kl6MTnEObK46fiOeM540biteGF4UbiFuLD4N7erd7s3XXbkdmR2WDZDdgo1mbVWdY21f7RPNGd0RnQ082AzB/MvstIyTPH9ceGyBDGmsNpw2nDOcPRv8m8Kr3kuqy3+LUTtBO0RLSdsQyxzrFfsv6xBK5QrIiv967aqYaogKyys4m247NFu0jJZc5Xz8DS5No545rj++Pn6ATuj/I29Rr35PrBALsEwwdpCkENZRX+GMAZzx/JI2InvSubMZU1ETTTNBo+N0P/PyJBd0kJUR9TSFDuUuJa2leGT4ZPtk8ISlpEkEANPxo+IDpJN6o3xjXhMy0yeDCULr0rpykxJ2gjsyE9H1EaCxiIFvwRoQ29C3cJMQcqBFMB5AG0Ad7+yPwH/LP6Dfhm9UP0Q/TV9Db1ZvXc9wf8rf6g/xUCrgXDB+YIOQp/DNINcQ0zDmsREhSAE+ETPBgTG4IapBvPHzcjWiSLJDEnmipcKysrryyULpQulC62LzoxazHMMR8zsDNPM08zTzNdMqkwhi/SLVwrRimSJz8mySODISIhUyFuH4kd6h0bHvgciR0bHokdGx7qHaQb8BlXFh8T2RAeDKgJFgmgBrsEBwPkAbQB0P8c/t7+rf5o/HX7dfuz+iL6MPn/+IP6g/qD+qb71vvk+sH5nvie+G74GvfH9dX04vNf8rjvNO6j7RHtgOxC7TTuuO9J8BnwqvAL8RnwV++H78buQu1d6xfpxOev5SvkCOPl4SThYuBv333eWt2m2+Tag9o92MfVstPA0tvQQs3MyjrK2smGyALHM8cCx3/FqMKSwKC/Kr1Fu1O6n7ist1m2NrXjs1+yPLFtsZ2xq7CjrVCsZa6WrtqpEKaGqASusazLo6+lDLFEtGWuNa4qvfzKecl/xTzR2OJG4jfcmuN68AX1C/EF9TgD8wcAAMkDqRDZEJoKaQr2FaweqhdKFwEnLTKULlwrxjUHQ54/STeeP2lKK0vCR3dJEVRsWOdP7Uv8UUhQb0ZgQAU8IDqHNjMujCsdLCQoByPyINweiR2CGsYVJxZXFoATtw9jDlYP0g1wBnYCBwMwAFL6BfUg8yDz9u4K6jrq7utI6RDmEOah5h3lOeOa4zPnOuqO65XupPQw+ab7iv2RAAcDmAOLBD8Gwwd3CSsLQQ31DqkQXRKjFDQVBBXbF6QbNhzHHPIgPyaEKJInaSpIMJsxxC4lLx8z0zQ6MbYvsDNlNfwxVS/ZMDoxQC21KPMn8ydMJeQhFCKYI6YiUyGDIXUi5CH/H0seSx4oHSEazRj+GJ0YGRc0FdMUEhT8EXkQ2RBrEUgQ9Q4YEC0SLRIYELcPSBD1DnENrwyvDK8MvQsrC38MrwztC38McQ1ODFwLmgoJChYJMQcPBqAGPwbsBK4FAQcBB3AGfQXsBIsEaAN2AoMBYABv//n8Uvo9+Jf1v/JJ8ATuT+wt6xfpxOcC507lyuOn4lThAeCL3dbb5NqR2W7Y3NdL1xvXG9f41dXU8NJ60GXOXcvnyJTH+8O1wcPA0b/Rv+y9i71iwFTBYsDmwZrDysNpw0fCK8R/xdjCJMFHwmnDYsAqvde7OLzXuz646rbyueS6S7cGtWe1ALn5vJG5YLlpw5vK4czGzkPU3t4d5R3l0+0N+Mf1NvUc/tD/FPsw+UX7BwPJAzf8gwFBDb0L8wevDJUVxxwhGsAZbyZOLCQoFikCLjQ1VzbuMp04DT9LPtU7Njz3PHQ7lTWNMqM0JS+SJwEnfSWRIAUcqhdfGRMblRWjFAsYqhdKF6oXBBWjFOETtw+vDOYIiwSYAwAARfuz+jD5e/e59rLzj/Jf8lfvBO6V7tPtZe4n72XuqvCB8xP0KPYw+RT7Kf3e/jAAdgLXAjgDiwR9Bd4F0AbDB+YIOQrKCn8MxA4KERIUehdfGZcczx9TIZgj7CRvJlQo8yeEKFwrXCvYKZoqEC1OLDkqmipOLE4stShiJ9gp5ShMJYskDiYcJXUiFCLJIzcjMCCeH4Mh8iC6HaQbxxyXHAsY0xQnFlcWgBPMEY4SgBNQE+ETiBZfGf4YPBhRGqQbnRgnFukWGRcEFVAT4RM0FdMU7xIfEzQVchQfE4ATchSxE+8SvhKOEu8SXRItEuET0xRCFBIUoxQSFIATHxMtEgoRhg8QDZoKhQh9BUUCAACt/or9dfvx+TD5Pfga95f1Q/Rf8knwNO6O67boHeVG4pLgi93k2sHZMNnP2HzXidYb14nWQ9Qh0zzRV89zzfzKSMmGyKLGEMbSxq/FosYCx9LGhsiGyDPHhsiGyKLGAseixr3EEMaixr3ETsVOxTnDR8LzwN6+u70HvDC5DbjPuA24BrX+sW2xwLJEtCGzX7IAuXfCJcjayVDMDdig31PawdlU4UDmOeNN3u3kZe5C7XjpuO8U+3X7GveK/XAGiwS0AbUIEA1BDbcPNBXyIAcjGx7KKts3LTJjLnI0UTrwOeEzvjLiOr85VS8CLkgwvSvsJP8fDR/PHwUcURqsHpEgzx/cHnse3B5mHFcWHxNrEaEN2AmSB/MH8wfJA/IAgwEAAAf8bvgo9tX0nfFl7jTuZe7T7dPt6O/N8Y/yE/S59s/4s/qK/QAAFQIqBDEHqAk5CjkKygr7CisLXAtODPUOChESFGwY1RvcHkUi+SNaJH0lYickKEYpOSpOLCUvFzAKMRE0ZTVyNOEzETRyNB8z2TBIMEgwMy6vLB0svSuaKuUoJCjDJ28mfSVMJYskKiT5IzcjFCLyIG4fWR1DG/4YShf2FdMUQhRQEx8TsROjFAQVQhRyFPYVuBb2FXIUQhQ0FdMUsRPhEwQV0xRCFBIU0xRyFLETEhTTFHIU4RMfE74SjhI6EUgQ5w+3D7cPJQ/1DsQOMw4CDqENEA2MC6gJVAgPBjgDYABM/tb7MPmJ9tX0gfM88SfvQu0t6xfp0uZc5Hfiw+De3vnctNoN2LrW1dRs0VfPZc40zqPNEs1zzZXOV88Ezu/Ljsv8ylbITsWawyvEmsPDwJLAacMexWnDacOvxdLGr8UrxFzEjMRpw2nDacPmwbXBqMJHwgHAfb6gv96+tLqRuSK6G7cTtCGzL7L3rr+rV6+Cs1evo60NuDnDvcQ5w/zKg9rz4Frdw+Cb6tPtgOyO647r/vFg+cf1ufZv/30FKwtwBoMBYw4SFAkKmgrwGdYiRSLJIyUv1TvwOY0y8DmgRlpE6j27RFVPY04ORphDDkbrRLI6OjFdMuEzTiwcJW8mRinDJ6YigyFiJ1QowSCJHZEgbh+qF6kQOhEfE68McAZiB8MHRQIH/G74ufZf8o7rVujM6jrqM+eU5zrqzOpr6grqLevG7mzxj/Io9tb7Dv+RAIMBgwE4A2gD5AFFApgDRQJFAloEoAaFCDkKEA0KEeETZRV6F4Ia+BwbHs8fsyFaJJIndykIKsoq+yr7KggqdylGKacphChiJ3cpCCrDJ30lTCWtJbskaCOmIoskHCXJI1okPyYOJq0lTCWLJJgj5CENH1kdNhzAGdsX6RYZF+kWxhX2FQsYLhlfGYIalxxuHzAgDR/PH+Qh8iBLHokd6h2JHUMbXxmPGYIa/hgLGM0YPBhXFsYV9hUEFYATjhItEu8SvhJdElATQhSAE74S/BHnDwIO7QuSB+wEdgLQ/8j8wflL96T0nfFX7xHtvusK6lbo0uZA5q/lveQI48PgDt/53CLa3NfH1fDSC9G4zyfPlc5zzeHMEs2xzJvKVsiUx/XHr8XmwXfC7cSMxObB5sFxxpTHK8TKwwLHJchOxUfC2MIexdjC3r6gv4XB0b99vg+/D7+LvTi8B7x2u2C5G7est5G5WbZfso+ynbFKsM6xUbPOseOz17vzwH2+Tb6GyFHTX9L+0ezdLevu68Tn6O+e+OLzle509Ir9Kf2e+JEA9Q7gDHAGLRL4HBMbShfAGd4lQC0xJ+UouDZeOeg2xzxSQaZCN0M3Q95FAEfWQuRBB0PcPo85uDajNAox+yrQJsMnTCWDIRQisyGRIJEg6h1mHMccCxibEbcP4AzDB5gDwQAc/kX7Pfj39XT0C/GA7L7rvuv1573kfuUl6GPnQOa26B/sle5J8KrwgfNL9//4UvrI/D//AABTAUUCtAFFAuQB5AGYA7sE3gV3CXEN5w+OElcWdBtuH2AgFCIOJncpOSoIKsoqxC5IMGMuJS9dMk8zmzF4MKkwzDEXMGMuhi8XMMQu9S5IMLYvcS0QLcQuxC4QLd8sYy62L2MufiyvLBAtOSrQJq0lHCV1Is8fSx66HcccdBukG9UbpBukG8ccWR0oHdwegyHkIVMhFCLJI+Qh6h0FHKQb8BmIFsYViBaVFRIUsRNyFOET/BGbEZsRtw8CDqEN0g3tC2kK+wqMC8oKRwkWCbUIDwYHA4MBAAC7/fH53PeX9Y/yGfBy7fzqVuiv5Svkp+KS4D/frd7s3TfcRdu02s/Yl9WC083RJ8+xzIDMscwSzaPNNM5Xz2XO4cyOy5vKecnSxk7Ff8W9xHfCR8Jpw/vD+8Npw4zEJcglyODFccYzx3/F+8MJw6jC2MKSwHC/oL8cvpm8OLzXu4O68rnyuWC5fLeltF+y6a8frOeoVqheq0Kt4azAsiq9hcHKwwrK9s7w0sfVrNda3WLgrd7K477r/OrE58zqLvIF9Y/ypPTkAXcJDwavDP4YZhzAGcAZRSJUKGgjWiTuMr85lTVROgBHfkwWSQBHcU3ZUMJHs0FaRAdDgTrhM/Y1qje+MvUuOjG+MucvQC1jLvUuKyvlKHcpJCgHI54f6h08GJsRoQ1pCpIH1wIwAPIA0P+Y/Kb7s/pL9/DyevBl7r7ra+qb6u7rQu3o77LzufY9+JD5FPs3/Df8N/xo/Nb7pvv5/Pn8yPy7/QAAUwEHAxwF8wdcCwIOaxGjFGwYNhxLHj0f5CHJIyokiyRvJlQo2CkrK2MuvjJCNL4ygDPGNQQ1/DGbMe4yTzPuMuEz6DaPOS45PDggOoE6CzjoNkk3uDYRNC0yXTJrMZQuTiyMK2kqVCigJj8mrSWYIzcjKiRoI6YiaCMqJGgjsyFgIM8fGx7VG/AZnRhKF5UVsRObERgQlA6vDMoKRwmSBz8GTQVNBU0FmANoA5gDBwN2AhUC8gBgAAAA3v67/fn8dfsi+m74WPZ09F/yuO/T7U/sOurn6PXnxOcz59/lveRp46fiheFv3+zdWt353DfcFNsi2mDZ3NeX1RPUUdMu0jzRndHA0vDSLtKd0WzRStDTzR/MjssKyiXIlMfEx3HGmsOaw4zEysNHwtjCysPKw+bBYsBwvxy+mbw4vEW7wblTuhW7briXtXS0NrVEtASujqsMsRmwVqhBphip2qnLo2KgealfsmWu1K2ZvODFOcM5w13Lntjy2QXVDt9C7dPtlOdr6lHzBfUn7xHtbvjBAAAABwO9CzQVdBvVG0seySNGKX4sAi7nLxE06j1nQ/8/60Q6UXJUxE4dTMtRLFKSR5BAu0QORsc8GTe5PRRCCzgXMFc2UTotMlwr2TC4No0yyir7KoYvFilDG+kWPBj8EQEHFQJaBGgDN/w9+CL6wfni81fvh+9l7qnpoeZj58TnlOep6U/sNO7o753xv/Iu8s3xj/IL8cbuuO/+8S7y2/DN8XT0x/Vm9dz3aPwAABUCcAavDF0SBBVXFoIa3B5LHlkd/x+YI1okmCMOJr0rYy7SLVUvgDOjNOEzZTXbN6o3STdROrk9Sz6sPkVC60RaRPlDHEWtRZhD8UAiQfFAiT3wOSA68DllNY0yvjL8MecvoS2hLSUvAi69K04sEC2aKoQo5SjlKK0l1iJ1IlMh+BzNGEoXNBX8EQIOTgztC+YIfQW7BCoEUwEAAAAAAAA//97+Dv+t/vn8FPvk+uT6nviJ9vf11fQu8nrwuO/T7R/sXetr6tnp5+gl6PXnlOcz53Hm0uah5t/l7eTK43fi8+Ax4KDfrd593q3eu90H3HXbg9qe2HzXG9d81w3Ybtgw2ZHZMNkN2BvXZtWC01HT8NJ60MbOuM9K0HPNzMrvy7HMOsqUx/XHSMmixjnDacMexTnDksAWwozER8LsvYu9P7/Xu6W0j7LVtOOzNa4KqkKtV695qeClqanvq/2qa6rUrci1Prjqtsm80sYlyE7FSMmy02DZLtL2zt7eqelv32DZxOe59lHzVugZ8IsE7ATq9pj8JQ++EowLGBCzIfsqVCi9Kxk31Tv2NYAzBTzBQLI6QzsxR4xLAEd9RaBGwkfWQs04bDgvQKw+jzm5PdZC8UBDO9s3qjcENfUuHSzSLUAttSgBJz8mMCBfGVcWjhKMCzEH7AQVAqD/B/yz+hT7//i59ur23Pe59rLz/vGd8arwNO7h7MbuqvBJ8PbuevAu8ifvXeuw7CfvZe407jzxufaQ+eT6aPzQ/6YCaAPJA2IHHgzEDswRlRWdGBMbex4wIIMh+SPJI4skVChpKisrQC0XMBE0STd6N785nj91QpBA8UCtReVIb0a7RJJHOEojSBxFP0YxR31Fs0HxQEVC/z/HPJc8KD0TO804bDgLOBk3BDWNMswxOjH1Ln4svSv7KlQobya7JNYi/x8FHGwYuBbvEhANqAkkCK4F5AEwAAAATP5o/HX75PqQ+Uv39/WX9UP0j/Lb8Enwxu7h7I7ra+rZ6bboVujE52PnM+dA5q/lfuUr5Dnj2OLY4uXhJOGS4FThheHz4IXhd+II43fid+JG4hbi8+AO34vdKt2Y3EXbg9q02gfc+dwq3RzeDt9v3w7fTd6L3Tfcg9r/2D3YS9dm1bLTUdNf0nrQJ8+Iz+nPiM/GzpXOlc7Tzb7Lm8o6yiXIr8XtxK/F+8MkwQHA88DRv2i88rm0upG5NrWPsjyxZa4frGuqt6h5qV6rEq3pr4KzYLmgv96+YsCbygTOCso6yrjP6tYo1s3R/9hG4hzemNzf5bbor+Vj5xnws/r/+Fj2cAaAExANtQgfE/8fSx7GFYkdFzByNLYv7jJYPchDGj64NoE6bj+POcY18DkaPm4/9zxYPWdDN0PVOyg9N0OzQYk9rD6YQ1pEGj7wOeI6/jipMEYp5Si1KNYi6h2sHg0fshq4FtMUQhT8EaENKwv7CuYIrgVNBYsEtAGRAPIAYAAc/kX7Uvow+Yn2v/I88S7ybPEn7yfvevB68Bnw2/Bs8S7y4vNY9mD5B/xM/vIAmAOYA8kDuwSLBFoEuwSuBfMH+wpjDtkQHxOIFrIaBRyXHG4fySNvJsMnyiqGL74yTzNlNTw4LjkLOJ04QzuXPHQ7NjwvQFJBez7cPuRBFEK5PRM7uT3BQIk9EzsNP9ZC8UBYPVg9ez5DOwQ1/DEtMsQuFikxJyQo3iWRIFkdGx4TGwQVzBEKESUPaQpwBnAGcAbXAtD/rf67/YP6ifYT9IHzbPGj7b7r7us66tLmXOQI44XhHN6m20XbRduR2Q3YntiR2Z7Yutb41VnWBdUh08DSUdOC04/SwNKy07LTUdNR01HT8NIh0+PT1dTH1erWntjB2VPaRdv53Ivdu91N3qDfJOHz4FThCOOM5FzkHeXf5UDmceYQ5t/lfuUd5dLmSOlW6PXnm+qO69np9eeU52PnAuff5R3lAudx5vvjaeMI44XhAeDs3fncKt033CLanthu2DDZntis1zDZg9pg2WDZYNme2KzX6tZ812DZkdkU22/f5eEk4QHgYuBU4X3eRdut3srjjOS95PXnsOz27oDsXeuH7zzxqvDi8+r2z/j5/G//oP8AAKD/8gBaBPkDWgSoCTMOhg8YEAoRgBOjFFATHxNyFIgWzRhfGY8ZZhzHHHQbNhxDG4Ia1RsFHBMb+BwbHokdex7qHdUbshqCGsAZPBh6F2wYwBnAGdsXSheqF/YV/BG3DxgQJQ8QDeAMEA1xDXENjAvKCgkKVAhiB3AGoAagBjEHVAjmCLUIJAiFCCQIoAauBQ8GMQckCOYIqAkrC04Mrwx/DB4MEA3SDcQOGBDMERIUJxbpFtsXLhlRGhMbQxtDGwUcxxwoHbodex6sHj0f/x/yILMhpiJ1IqYi1iLWIgcjmCNaJLskHCV9JRwl7CRaJGgjByOmIrMhkSAwIG4f3B5ZHTYc4xrAGZ0YqhdXFsYVoxQSFO8SzBE6EXkQ5w/EDqENEA1ODJoKtQgBB+wEaANFAsEAoP9M/rv9Kf2m+8H5nvhL95f1E/Tw8s3xqvAZ8PbuZe7T7RHtvuvM6qnp5+hW6JTnAudx5t/lfuWM5CvkyuNp4/vj++PK473k3+UC51boeOk66i3rH+zh7KPto+2V7lfvGfA88Y/ysvM29Vj26vas9574MPnB+VL6s/qm+5j8Kf27/X3+ff4c/n3+rf6t/q3+rf4O/z//rf59/rv9+fwH/BT7UvrB+f/4Dfjc90v3ifb39Tb1NvXV9HT04vNR87/yzfEZ8JXuo+2w7I7rzOpr6mvqa+o66tnpCup46Vbo9edW6IbohuiG6BfpSOl46UjpSOl46Xjpqek66szqXeuO677rT+xP7E/sgOwR7XLto+1l7ifv6O/b8M3xv/JR80P0BfXH9Yn2WPa59ur2ufZL90v3rPcN+G74bvj/+MH58flS+uT6dfto/Mj8Wv27/Uz+ff4O/2//b/8AAAAAMACRAPIA5AFFAkUCdgIHA2gDOANoA8kDyQM4A2gD+QMqBFoE7ATeBdAGkgfzB+YI2AnYCTkK+wqMC1wL7QvtCx4MHgztC68McQ3SDTMOVg95EJsR/BHvEoATEhSjFNMUBBUEFTQVJxa4FqoXPBj+GCEaghpDG3Qb1Rs2HDYclxzHHFkdiR0bHkserB7cHj0fPR89H88fnh8wIJEgMCAwIDAgzx8NH0seWR02HAUcQxuCGiEaghqCGvAZjxmPGc0Y2xe4FsYVNBUSFFAT/BFrERgQYw7gDFwLqAkkCD8GuwRoA4MBMACg/0z+mPx1+1L6MPl79yj2BfV09IHzLvJs8QvxGfAn79Pt4ey+68zqeOlW6DPnceah5nHmQOZx5mPn9edW6OfoSOnM6o7rH+xC7WXuh+968Dzxj/JR80P0E/QT9Db1l/Uo9rn2Gvdg+Qf8+fw3/Mj8b/9gAND/Dv8wANcCaAMVAkUCiwQPBk0FuwS7BE0FuwQ4AwcDBwN2AuQBgwEiAZEAAADQ/9D/oP/e/kz+rf59/lr9mPzW+xT7g/pg+Q34Gve59jb1E/RR87/ynfHb8BnwuO8Z8Ljvxu4n78bule7T7eHscu2j7ULtBO5J8L/y/vER7Y7rcu1d647rZe4R7XLtnfFf8jzxcu2G6HrwBfW26LboS/eY/D34dPQo9gf8RfsT9LLz//gw+Uv3bviz+mj8aPwH/Gj8B/xF+xT7Rfum+0X75Pqm++v9rf4p/Qf8iv1M/vn8mPxa/Rz+b//Q/9D/AACRAAAAAACg/w7/Dv9v/6D/0P8AAGAA8gBTAeQB5AEVAkUCdgLXApgDKgS7BLsETQUPBnAGoAYxB5IHVAjmCHcJOQr7CvsKKwuMC70LXAtcC1wLvQvtC38M4AzgDHENcQ3SDZQOlA4lD4YP5w8YENkQOhH8EY4SvhK+Eh8TsRPhExIUchTTFAQV0xQ0FWUVNBWjFBIUEhQSFOETgBOxE+ETEhQSFEIUchSAEx8THxMfE44SzBGbEToRqRBWD2MOAg6vDJoKqAnmCJIHcAZNBVoEaANFApEAb/99/lr9mPym+4P6kPlg+W74e/eJ9mb1pPSy8/7x2/BJ8BnwJ+8E7kLtgOy+65vqa+o66tnp2ek66pvqzOrM6l3rT+yw7BHto+3G7rjvqvBs8Y/yUfPi89X0l/Uo9rn23Pcw+fH5RfvI/Ir9ff4O/wAAAADBALQBpgKYAyoETQUPBgEHMQeSB/MHJAhUCIUItQgWCagJOQoJCjkKaQp3CbUIVAjzB8MHYgcBBwEH0AagBg8GfQW7BCoEmAOmAqYCFQK0AVMBwQAAAAAAb/9v/6D/P//e/t7+ff4c/or9+fzI/Gj8dfsU+xT7FPsU+xT7s/qD+hT75PqD+rP6s/pF+0X7FPsU+3X7pvt1+6b7B/w3/Jj8Kf35/Pn8iv27/Vr9+fz5/Cn9iv35/Cn9iv2K/Yr9HP59/t7+3v4O/w7/Dv8O/z//Dv8O/w7/Dv8O/w7/3v5v/w7/3v4O/w7/Dv9v/6D/oP9v/wAAAAAAAAAAAAAAAAAAAAAwAJEA8gAiAVMBgwGDAVMBUwHyAPIAIgGRAIMBgwG0AXYCpgLXAtcCpgIHA2gDaAMHA5gDyQPJA2gD1wI4AzgDOAPXAtcCaAMqBMkDmAOYA/kDWgQqBIsE7AQcBU0F3gWgBtAGYgckCOYItQgkCIUI5gi1CFQIVAiFCIUI8wckCPMH8wfzB8MHJAgkCFQIVAjmCOYIhQiFCMMHYgeSBwEHcAYPBn0FHAX5A9cCtAHBAAAAoP/e/uv9Wv3I/Kb75PrB+f/4nvh79+r2ifYo9mb1pPR09IHzv/Jf8p3x2/Do71fvxu7T7XLtEe2A7E/sjuuO6+7rH+wf7E/ssOwR7dPtBO4n7xnwqvA88f7xv/KB8+LzZvUo9hr3DfjP+JD58flS+kX7aPyK/Rz+Dv8wAJEAIgEVAqYCaANaBFoEfQU/BtAGkgfzB1QIFglHCRYJRwl3CRYJFglHCRYJFgl3CYUItQi1CCQIwwfDB2IHkgcxB6AGcAY/Bt4FPwYPBq4FfQUcBU0FHAW7BLsEiwS7BFoEyQMqBFoEmAPXAgcDaAM4A3YCFQJFAnYCtAGDAbQBgwFTAbQBtAHkAbQBgwG0AbQBgwHyACIBIgHBAMEA8gDyAJEAwQAiAfIAwQBgAPIAwQBgADAAMAAwAGAAMAAwADAAMAAAADAAMAAAAGAAYACRAGAAMAAwAGAAMAAAAAAAAAAAAAAA0P8AAGAAYAAwAGAAYABgAMEAYAAwAGAAwQDBAJEAYADBAMEA8gCRAMEAkQDyAJEAwQDBAMEAkQCRAGAAMAAwADAAYAAwAGAAYABgAGAAYAAwADAAMABgAAAAAAAwADAAAADQ/9D/oP8O/w7/Dv8//z//P//Q/wAA0P8AAGAAMAAwAAAAMADyAMEAwQBTARUCFQIVAkUCpgKmAqYCFQJ2AnYCpgJFAnYCpgLXAqYCpgI4A5gDaAOYAyoE+QMqBCoEWgSLBFoEyQOYAzgDBwMVAuQBtAGDAZEAAAAwAAAAAABv/w7/ff67/cj8aPwH/Kb7pvsU+4P6UvpS+iL68fnB+c/4bvgN+Hv36vaJ9vf1l/XV9HT0E/QT9BP0Q/Sk9EP0Q/RD9NX0ZvVm9Wb19/VY9rn2e/cN+G74//jx+UX7FPvk+pj8u/3I/Kb71vta/Yr9RfsU+33+Dv+K/ev9P/8AAND/P/+g/8EAwQAAAMEAgwFTAVMBgwFTAYMBIgHBAMEA8gAiAZEAYADBAJEAMAAAAAAAAAAAAND/b/+g/wAAoP9v/2//0P9v/z//b/+g/2//Dv8//z//P/9v/6D/oP9v/z//P//e/q3+Dv8//w7/b/+g/z//P/8O/97+3v7e/j//P/8O/97+oP+g/9D/0P/Q/wAAMAAAAAAAYACRACIBIgHyAPIAIgHBAJEAkQDBAJEAwQAiAYMBgwGDARUCFQJFAqYCpgI4A5gD+QOLBOwETQXeBd4F3gUPBqAGAQcBB2IHwwckCLUI5ggWCbUIhQjmCLUIJAhUCCQIJAi1CLUItQgWCXcJRwl3CRYJ5ghHCRYJtQiFCIUIJAjzByQI8weSB2IHYgdiB9AGoAbQBg8GrgV9BYsEKgT5A2gDpgJFAhUC5AGDASIB8gDyAMEA8gDBAJEAwQCRAMEAkQAwAGAAYAAwAGAAkQAwAGAAYABgAGAAAAAAAAAA0P8//z//P/8//w7/P//Q/9D/0P8AADAAkQBgAGAAMABgAGAAkQBgAGAAkQBgAAAAAAAAAG//P/8//97+TP5M/hz+6/2K/Yr9Kf35/Mj8aPw3/Df8aPwH/Df8N/w3/Af8pvvW+0X7FPvk+rP6UvqQ+WD5//ie+D34rPd793v3GvdL96z3rPd796z33Pes9w34Dfg9+J74z/gw+ZD58fnx+YP6g/qz+kX7FPt1+6b71vsH/Af8B/w3/Jj8aPw3/Jj8+fwp/Vr9iv3r/Uz+TP6t/q3+Dv99/kz+3v5M/hz+HP7r/ev96/1a/bv9iv3I/Mj8aPwH/Af8pvum+3X7RftF+xT7s/qz+kX75PpS+oP6g/rk+uT6FPt1+9b71vs3/Df81vsH/Af8N/ym+6b7B/wH/Df8yPxo/Gj8N/xo/Jj8mPxo/Mj8+fwp/Yr9iv1a/bv9u/27/Rz+HP59/t7+3v4O/z//P/9v/z//0P8AAAAAAAAAAAAAYACRAGAAkQDyAIMBRQJFAtcCmAMqBFoEHAV9Ba4FPwagBgEHkgeSB/MHtQiFCEcJqAmoCTkKygorC4wLvQvtC04M4AwQDUENcQ3SDQIOMw4zDgIOAg6UDiUP9Q71DvUO9Q4lD1YPhg+3D1YP9Q4lD/UOxA7SDXENcQ0QDU4MvQsrC8oKOQp3CbUIVAiSBzEH0AZwBj8GrgUcBewEiwTJAzgD1wJ2AhUCtAG0AfIAkQAwAAAA0P9v/w7/rf5M/or9Wv1a/fn8mPwH/Gj8aPzW+9b7N/yY/Jj8aPyY/Cn9Wv1a/Sn9Kf2K/Yr9iv2K/Yr9yPzI/Jj8mPzI/Mj8+fwp/fn8yPz5/Pn8yPz5/Pn8Wv2K/bv9u/27/Yr9iv1a/Yr9u/27/Rz+ff4c/rv9u/1a/Yr9yPxo/Df8B/zW+9b71vvW+0X7Rft1+xT7FPtF+0X7FPtF+0X7FPuz+oP65PoU++T65PpF+3X7pvum+3X7dftF++T6FPvk+rP6s/qz+oP6Uvoi+iL6s/qz+oP6s/oU+7P6IvqD+oP6UvrB+ZD5kPnB+TD5z/ie+G74Pfie+G74rPfc9w343Pes9xr3Gvfq9on2ifaJ9on2ufYa9xr3Gvfc9z34nvie+P/4kPnB+ZD5kPnB+SL6wflS+oP6s/oU++T6dfum+6b71vvW+wf8N/wH/Df8yPzI/Pn8+fwp/fn8Kf2K/Vr9u/3r/Uz+3v7e/q3+3v7e/t7+3v6t/t7+Dv8//9D/0P+g/wAAAAAwADAAMAAAAMEA8gDyALQB5AEVAqYC1wJoA5gDmAMqBOwEfQUPBnAGAQdiBzEHkgfDB8MH8wfzB4UIdwnYCTkK+worC1wL7QvtC04MrwwQDdINYw5jDmMOlA5WD/UOxA7EDlYPtw+3D4YPhg+GD1YPJQ8lD5QOAg7SDXENEA2vDE4M7QvtC70LjAv7CjkKOQoJCncJtQiFCCQIYgcBB3AGDwZ9BU0FWgSYA2gDpgIVAhUCtAHyACIBwQBgADAAMAAwAAAAoP+g/6D/P/8O/z//3v7e/t7+ff6t/kz+6/1M/kz+6/0c/hz+6/27/ev96/3r/X3+TP6t/t7+TP59/n3+TP5M/kz+TP59/n3+TP4c/q3+ff7r/bv9u/3r/bv9u/27/bv96/1M/uv9iv0p/Sn9Kf1a/fn8+fwp/fn8+fxa/fn8yPz5/Cn9+fw3/Af8B/ym+9b71vvW+9b7B/zW+6b7FPuz+uT6g/qD+oP6UvrB+fH5wfn/+P/4bvg9+G74bvhu+A34rPd796z3S/dL9+r2WPbH9Zf1l/WX9Wb1pPR09HT0Q/RD9HT0dPR09HT0gfOB80P0Q/Sy84HzE/QT9BP0Q/R09NX01fQF9Wb1x/VY9lj2KPaJ9nv3rPfc9w34bvie+DD5YPnB+cH5IvpS+uT6g/rk+nX7dft1+3X7dfs3/Jj8yPz5/Fr9Kf1a/Rz+6/1M/n3+TP6t/t7+ff59/n3+rf59/hz+ff59/t7+Dv8O/w7/P//e/g7/b//Q/wAAMAAwAGAAkQBgAPIAUwG0AbQBpgKmAgcDaAP5AyoEKgQqBIsEfQWuBX0FDwbQBmIHkgckCLUIdwl3CagJaQorC1wLvQseDK8MEA1xDaENAg4zDpQOxA4lDyUPhg+3DxgQSBB5EEgQeRB5EEgQSBBIEHkQSBAYELcPtw+GD4YPVg8lD2MOYw4zDqENQQ0QDa8M7QuMCysL+wppCtgJdwlHCbUI8wfDB2IHAQdwBt4FrgV9BewEKgSYA8kDmAM4AwcDBwPXAqYCFQK0AYMBgwEiAfIA8gDBAMEAkQBgAGAAYAAAAAAAYAAwAAAAAAAAAAAA0P/Q/wAAAADQ/wAAAAAAAAAA0P8AAAAAAAAAAAAAAADQ/wAAAAAAAAAAAADQ/9D/AADQ/6D/0P8AAND/0P8//2//b//e/t7+3v6t/n3+rf5M/hz+HP4c/hz+HP67/Yr9Wv0p/Sn9+fyY/Gj8mPwH/Nb71vum+3X7FPuz+oP6s/pS+sH5kPmQ+TD5z/ie+D34Dfjc96z3rPdL97n26vbq9ij2l/XH9Wb1BfU29Tb11fR09EP04vPi84HzUfOB8+LzsvOB87LzsvOB8xP0Q/RD9EP0dPSk9Db1ZvWX9ff1WPa59hr3S/d79w34DfgN+D34z/ie+J74MPmQ+cH58fnx+VL6s/qz+uT6Rft1+0X7dfs3/Gj8mPyY/Pn8Wv1a/Yr9iv2K/ev96/27/bv9Wv3r/Uz+TP5M/hz+HP59/kz+TP59/n3+rf4O/w7/b/+g/wAAAADQ/9D/0P8AAAAAAABgAJEA8gDyAFMBtAGDAeQBFQJFAnYC1wI4AzgDyQP5A4sEuwRNBX0FfQUPBqAGMQeSB/MH8we1COYItQhHCagJdwnYCWkKaQqaClwLjAsrC+0L7Qu9C+0LfwzgDOAM4AwQDeAM4AzgDEENQQ0QDa8MrwyvDH8Mfwx/DK8MHgweDO0LvQsrC/sKygrKCtgJqAl3CRYJFgm1CIUItQhUCMMHwwfDB5IHMQcBB3AGcAY/Bg8GTQVNBewE7ATsBE0FuwSLBIsEiwTJA5gDaAM4AwcDBwMHAwcDdgJ2AtcCdgJFArQBFQK0AeQBtAGDAeQBtAEiAVMBIgGRAPIA8gDyAFMBwQCRAMEAMAAAAAAAAAAAAAAAoP9v/2//b/9v/2//b/9v/2//b/8//97+3v6t/n3+TP5M/rv9HP67/Sn9Kf3I/Gj8aPzW+9b71vum+0X7FPtS+iL68fnB+f/4//jP+J74Pfjc96z3e/dL90v3Gve59on2KPbH9Zf1l/U29QX11fTV9EP04vOy87LzUfNR81HzgfMg8yDzUfOB84HzgfOB8+LzsvOB87LzsvOy80P0pPQF9Tb1x/XH9Sj2ufbq9ur2e/cN+D34//hg+ZD5Ivqz+oP6s/oU+6b7pvs3/Jj8mPyY/Mj8Wv27/ev9TP5M/q3+3v4//w7/P/9v/z//P/9v/2//b//Q/wAAAAAAAAAAAAAAAAAAAADQ/wAAYACRADAAkQBgAJEA8gDyACIB8gDyACIBIgHyAPIAUwFTAVMBIgFTAYMBUwFTAVMBtAFFAnYCRQJFAuQBFQIHAzgDOAP5A1oEuwS7BBwFrgXeBd4FPwY/BqAGoAagBgEHoAbQBgEHkgfDB8MHwwfzByQIhQjmCLUIhQgWCagJ2AmoCdgJ2AlpCtgJRwlHCdgJqAl3CXcJFgkWCbUIJAjzB8MH8wfzB/MH8weSB8MHwwcxB2IHYgfQBtAGYgdiB/MH8wdiBwEH0AbQBgEHAQegBqAGoAZwBj8GPwY/Bj8GDwY/BnAGcAY/BnAGDwY/Bj8GoAagBj8GrgWuBX0FTQXsBOwEHAWLBFoEKgTJA2gDmANoAwcDBwM4A6YCpgKmAkUC5AEVAlMBwQDyAPIAwQCRADAA0P8AAKD/P/8O/z//rf5M/hz+6/1a/Sn9yPxo/Df8pvt1+3X7Rfvk+rP6g/oi+pD5MPme+D343Pfc93v3Gvfq9lj2WPb39Wb1l/WX9Wb1NvUF9aT0dPR09BP0E/Ti84HzUfO/8o/y8PKP8v7xj/KP8v7x/vFf8v7xzfEu8i7yj/Jf8r/y8PKP8o/yX/Jf8vDysvPi8xP0pPSk9AX1NvVm9cf1KPa59ur2Gvfc9274nvhg+cH5UvqD+uT6FPt1+9b71vto/Mj8+fwp/bv96/0c/n3+ff7e/m//b//Q/wAAAAAAADAAAAAAADAAAAAAAGAAkQCRAGAAMABgADAAAAAwAGAAYADBADAAAAAAAAAAMADBAMEAYACRACIBtAHyAPIA8gDBAJEAYABgAGAAkQAiAcEA8gDyACIBgwGDASIBgwHkAUUCpgLXAtcCOAOYA5gDyQNaBFoEiwS7BLsEuwSLBOwE7AQcBU0FTQV9BRwFTQV9BX0FrgV9Bd4FPwYPBj8GPwYPBg8GcAYPBg8GPwYPBt4FcAYPBg8GDwauBU0F7AS7BLsEHAXsBLsEWgQqBIsEKgT5AyoE+QPJA8kDaAMHAzgDaAM4A2gDaAOYA9cCpgLXAgcDOANoAzgDBwOmAgcDOAMHA2gDaANoAzgDOANoA5gDmAPJA8kDmAP5AyoE+QOYA2gDmAMqBCoEmAM4AwcDBwOYA5gDaANoAwcDOAOYA5gD1wKmAqYCpgJFArQBRQIVAuQB5AG0AfIAwQDyADAAYADBAJEAkQDBAGAAAACg/6D/oP9v/6D/P//e/t7+3v5M/kz+HP4p/Zj8Wv2Y/Af8B/wO/8MHqRBrEfwRaxGFCJEAUwGg/7P6mPymAj8G8wceDNINrwzKCjEHgwF9/vn88flY9tX0dPTV9Or2z/ie+A34rPd79xr3x/Wy8yDz8PIu8oHzx/UN+GD5YPnq9p3xQu3h7DTu6O/+8S7yV+/G7hnwo+2G6KnpE/Sg/+QBmPzw8gTuUfNL98f18PKH73rwz/i7/W//PwY/BoP6z/hv//IABwMAACL6yPx2AuQBAABNBRANLRJrEUcJAABF++T6P/8WCcAZVChPMzY8gDPqHS0S8wdR8znjCOPw8rcPvSuPOXI0mCPTFIUI+fw9+Gb16vZ/DN4lxC72NUk3ryyDIYATiwQVAhUC5AFBDaoXxxynKUAt2xeDAbv9AACQ+ZXu4ewu8iL6HAUCDmsR7xLSDSIBsvMK6k7lEOZW6JvqqvCe+Jj85Pq59vDyzfEF9aT0juv74wjjoeZP7Krw3PccBecPVg8kCBz+/vHM6grqCupd64/yHP7DB4wL7Qt/DKgJFQLx+arwm+on78j8+woLGNYikid9Jeod7xKSB63+wfnW+yIB3gVjDrIa5CH/H2wYoQ12Amj8wfme+HX7UwEkCCUPlRXNGHoXhg99BQAA3v4c/sj8g/qm+wAARQJFAm//1vsU+8H5E/TT7e7r0+1s8Uv31vuK/ev9Wv2D+g34e/co9oHzv/Li80P0dPTH9Xv3e/ey81fv0+327p3x6O8l6DnjF+mP8sf14vMu8jb1RfvI/A34X/IE7oDsJ+/+8S7y1fR1+4r9MPkg85Xucu0Z8M3x9u6V7uLznvie+Ev3z/hM/mAARftD9Dzx/vEF9Z74RfvI/Ir9Kf0p/Qf8Gvd68MzqxOdI6RnwrPcU+6b7RfvB+cH5MPnH9XT0WPbB+fn8Kf0i+s/4MPn/+J74bvhg+Zj8wQBTAbv9g/rx+T34ZvVm9W74+fy0Aa4FKgRv/7P63Pdu+Pn8gwGuBagJmgpHCXAGgwEp/YP6IvrW+z//tAEHA30FwwdUCKAGmANFAtcCOAMHAxUCmAMJCq8MYge0ATAAdgLJA0UCdgJNBaAGVAg5CmIH1wKDAYMBAAAc/qD/OAO7BFoEoAZiB00FHAWSB+YI2AkrC8oKCQqoCQ8G8gCg/2AAMABgAEUCoAaMCzMOoQ37CiQI7ARFAuQBUwHBABUCTQWSB5IHVAhUCAEHHAWLBN4FkgfQBskDRQIVArQBIgF2AioEyQNTAW//AABFAhwFoAZiB/MHhQjzB2IHHAUAAAf81vt9/sEAOANoAwcD+QPXAgAAAACmAgcDIgFgALQBgwHQ/z//MACDAbQB5AFTAWAA0P8O/w7/oP8AAAAAb/8//z//TP4p/fn8Wv35/HX75PoH/Ov9Dv8AAIMB5AHQ/1r9FPvx+bP6pvtF+zD53Pes93v3kPnW+9b7s/qQ+dz3ifb39dX0gfND9Gb19/XH9ff1GvdL98f1dPTi84HzQ/T39az3z/gN+Jf1Q/R09FHz/vG/8sf1rPdL96z3s/o3/MH5rPfx+Zj8Rfv/+P/4MPnq9pf1e/fx+eT6pvsp/a3+rf4c/kz+HP75/Pn86/0//2//AAAVAosE+QPkAcEAAAAO/xz+rf6RAPkDrgViB6gJqAkxB7sE+QN2AmAAAACYA/MHFgmFCJoKoQ1ODLUI8wfmCPMHoAaSB3cJRwlUCPMHJAiSB3AGcAaSB1QIVAi1CHcJCQq9CzMOJQ9WD0gQOhGpEMQOcQ1xDWMOAg4CDiUPSBDnD+cP2RCpEDMO4AyvDH8MfwzgDKENxA4YEJsRsRMEFUIUvhI6EbcPxA6UDlYPSBBQE/YVVxYSFPwReRDnD5QOrwyhDecPzBFQE7ETEhQSFB8TmxGpEBgQtw9IEKkQzBG+Er4SvhLvEswRqRB5EBgQJQ9ODHcJ8wdiB/MHRwmaCpoK2AnmCGIHDwYcBckDpgKmAjgDmAO7BBwFKgQ4AxUCYADr/SL6rPdL99z3//jx+VL6FPsU+8H5Pfhm9QvxuO+d8V/yLvJR80P0Q/QF9Yn2WPay8zzxh+807rDsT+wR7Vfv2/AL8Xrw2/Do70Lta+qU56/lTuWv5aHmlOdI6czqLeup6WPnTuUI42LgTd753PncaNxF24PaItow2T3YPdi61jbVZtUb1/jVwNIu0hPUstOd0TzR49O61vjVZtWs127Yl9Wy0zbVZtUT1JfVtNqg32Lgw+Ch5gTuvutx5jrqGfDb8LjvLvLx+aD/Dv/e/nYC7ARaBN4FFgk5Ch4MxA63D/wRgBPvEo4SUBM0FQsYjxmkGyIhoCYBJ60lMSfzJw4mKiRMJQEn3iVaJBwlrSVFIkseKB2JHSEa9hUnFmwYjxn+GHoXlRVCFB8T/BEKEecP2RC+EvwRqRAKEZsRVg+MC6gJtQjQBrsE+QM4AyIB0P8O/w7/HP6Y/Cn9b/8AAAAARQJoA+wEcAYBB2IHMQdwBnAGYge1CFwLEA2vDL0LTgxODH8McQ1WD8wRgBO4FjYcPR8bHpccKB1ZHeMazRhRGlkdbh//H7Mh+SNaJNYiIiHPH3seiR34HCgdKB3HHDYcpBukG6Qb4xqyGqQbxxxZHcccQxvwGaoXchT8EecPrwyoCVQIAQd9BYsEWgQqBMkDFQIAAND/oP/r/Wj8aPyY/Nb7s/rP+Ln2x/Wk9PDyzfFJ8MbuBO4R7U/svuub6grqSOm26OfoeOlI6YbohugX6Rfp5+i26BfpSOmG6JTnxOeU50DmjORp44Xhrd6Y3Dfc1tuR2erWutZL15fVgtPV1AXV8NJf0kPU1dSy04/S8NKy053Rlc5CzVDMOsolyHHGtcHsvU2+0b/svYO6IrrsvWLAP78Pv0fC0sbMyrHMxs6C0zfcaeM541zkcu1m9XT0/vE9+DAAb//B+X3+JAgPBj//FQIrC04M0AbmCBIU8Bn2FQsYpiKSJ94lDibtKy0y/DEXMNM0BTy5PVE6/jg9P0VCUTq+MmU1uDYzLkwlrSU5Kt4lURouGTAglxwSFBIUqheqFxIUjhKAE+8S9Q6vDOAM+wpiB4sE1wJTAQAAyPz/+Or2rPc29fbuo+1X72XuzOol6ArqH+yb6kjp7uvo753xsvPc9+T61vs3/Ir9HP7r/d7+b/8AAKYCPwbDB+YIKwsCDmMOjAs5Cq8MQQ0eDJQOEhQ8GPAZdBusHlMhwSDPH4MhySMqJMkjDianKfsq2CnlKEYpRimgJiokWiTeJfkjYCD/H+Qh5CH/H/8f5CGDIZ4fnh/yIP8fKB10G5ccNhxfGc0YExsFHI8ZJxZCFIATOhHSDb0LaQrYCRYJYgeuBbsEBwPyAAAAP//r/cj8Wv1v/5EAkQAiAaYCFQIwAG//Dv/r/Wj8mPyK/Rz+iv03/Kb7UvpL96T08PKd8Z3xX/JD9Mf1ifbq9on2x/Xi8/7xPPGq8Ffvle5X7/buZe7G7vbuZe6w7F3rqelW6EDmp+Kt3vncN9wi2nzXutY92J7Yx9UT1DbVdNR60KPNlc64z2XOEs2VzrjP080ty/zK58g5w3C/McAxwGi8RbtNvgHA3r44vNe7fb4BwH2+D7+MxFDMzdGC07rWrd5O5e3k3+Ut6y7yGvcw+ab75AG1CDkKYgfDB9INChFBDU4MEhTVG0MbxhXNGNYiRSI2HDAghCj7Kqcp+yrZMMY14TPhM785gTpJN0k3Ljn+OJU1SDBjLtIt5SjkIXsePR9LHjwYjhKOEi0S7QuLBJEA5AEiART7bvho/Lv98fko9vf13Pf39RnwBO5J8OjvEe2+6+7rvuu26K/lveRc5Kfiw+Bi4EbiyuPK473kJeib6u7rcu2471Hzx/XH9az3Rfu7/T//IgEcBQkKTgxBDfUOOhH8EWsRaxFQEwQV0xQ0FTwYIRpRGnQbiR3/H2AgPR8wIHUiNyPJI+wkbyaSJ8MnoCYBJ2InoCZMJYskKiTJI+Qh/x8wIJEgbh/4HAUc+BwoHVEazRj+GAsYiBZlFQQVlRX2FZUVxhX2FTQVQhQfE2sRqRBIEFYPlA4QDYwLCQrzB3AGrgV9BewE3gViB2IHcAZwBqAGfQXJA9cCaANaBCoEfQUkCBYJ8wdiB5IHYgc/BioEmAOYA9cCUwEAAND/3v4p/Tf81vtF+xT7FPt1+0X7Uvr/+M/4PfhL9/f1pPQF9Wb1gfNs8QvxqvD27oDsLest69npM+cd5ZrjteE/32jcz9hm1UPUQ9QT1MDSQ9Q92A3YNtVm1SjWstPGzo7Lvsv8ytLGHsWUx/XHK8SFwcPAYsDJvLq26ramu1q9prtavb3EgMwSzTrKiM8i2ovdU9r53Ibo8PIu8tvw1vtwBskDYADzB6kQVg85CvUOzRjbFzoRVxb/H88fpBtLHm8myioxJ2Inhi/uMoYvMy46MRk3zThPM/wxUTq5Pao3HzM0Nf44ZTWMKzkqoS05Kjcj/x/cHtUbxhVIEAIOygpwBtcCkQCg/+v9kPmJ9pf1UfPo7xHtH+yj7U/shujn6F3ra+r15xDm0ubE5x3lteGn4k7lXORG4qfi3+Vx5u3k7eQl6Jvq2emp6bDsqvDw8kP0rPf5/AAAkQB2AtAG2AkJClwLhg/hE8YV9hXbF9Ub6h34HJccex7PH9weiR0NH3UimCOmIqYiuyQOJkwlHCWSJ0YpwyegJsMnRiliJ7skuySgJhwlFCKzIQcjIiFmHI8ZIRpfGWUVXRLvElATeRD1DucPeRBWDwIOEA1BDeAM7QuMC+0LQQ3SDa8M7Qu9C70LKwvYCdgJCQoWCYUIFgnYCagJqAmoCdgJRwlUCGIHhQjYCQkKaQq9CxANcQ3tCwkK2AkJChYJ8wfDB5IHcAYcBbsEWgSmAvIAAACt/pj8iv1a/f/46vbc90v34vO477jvV+8t67boxOcC53Hmr+W95Nji8+CS4GLgmNxL1wXV49Od0R/MqcnGzsbOxMczxx/MLcu9xKjCf8VxxlTB3r4JwyvEw8AxwDnDvcTmwT+/hcFHwvm88rnXu+y9HL52u7S6JMGixq/FvcS3yErQ49Mu0tXU1tu14aHmCurh7EP0iv0iAQAAdgJxDZUV/BElD2wYRSI9HzwYiR0kKDEnSx4wIGkq+ypaJN4lMy7ZMEAtryyNMpU1HzMtMgQ12zcmNh8z0zQmNnI0jTLnL2MuYy7KKn0lRSLBIFkdShfMEUgQVg/YCaYCMAAwAOv9z/g29Wb11fQ88TTuxu6472XuXev86k/sLesX6anpjuvh7O7rjuvT7bjvJ+807ujv/vGP8s3x/vE29er2NvXV9G741vto/Cn9AAAqBK4FrgXDB4wLlA6GD6kQHxP2FQsYXxmyGpcc3B5uHzAgpiK7JH0lDiaSJ4QoJChvJg4mbya7JDcjByNFIoMhwSDcHqweex66HQUcIRrNGNsXxhVQE44SvhI6EVYPhg+3DzMOHgztCwIOoQ0eDO0L4AzgDIwLqAnKCisLdwnzByQI8wcxBw8GPwYBB3AGHAXsBH0FrgVNBbsE7ASuBX0FDwYxB/MHtQioCQkKmgq9C4wL7Qt/DB4MjAtcC4wLvQuaCkcJVAhwBloE5AEAAD//HP4H/CL6MPme+Ln24vNs8YfvEe1r6ufoJejS5q/lr+Wv5b3k2OIW4oXhMeAc3vncHN6Y3GDZG9fH1bLT6c9QzI7LOsrEx6LGosZxxq/F+8NHwnfChcGgvwHAMcBiwGLA0b9iwIXB0b/evpLAJMFwv66+ksBcxCvEksDYwgrK4cwlyK/FiM/y2TbViM9F247r4exA5k/su/1oA2j8u/3tC+8ScQ2MC9MU3B6sHoIakSCMK9ItdynYKfwxCzhdMu0rOjH+OMY1lC7MMYE6pDuVNcY1rD7BQDw4cjSBOpc8JjaGLwox9jUtMlQooCaaKiQozx8uGZ0YjxnhE4wLdwkrC4UI1wKg/9D/AADx+XT0dPR09Nvwcu3T7UnwevDh7B/suO8L8TTuvuty7arwV+9P7HLt/vHw8knwSfB09D34WPbV9MH5ff4c/lr9MAAcBX0FOAMcBdgJHgyaCr0LGBBQE4AT0xT+GPgc+ByXHD0fFCIUIpEg8iCYIyoksyGzIVokTCX5I9YimCMcJckjkSDPH/8f6h10G48ZjxmPGUoXoxQEFdMUmxH1DlYPeRCGD6ENoQ3nD7cPrwztC0ENEA0JCuYImgq9CzkKFglpClwLmgqoCWkKXAvKChYJdwn7CqgJwwfzB4UIFglHCXcJaQpcC4wLXAvtC+AMQQ2vDH8MEA0CDjMOoQ2hDZQOxA5BDe0LTgweDAkKJAjDBwEH7AQVAvIAkQCt/tb78flu+Jf1X/Lo78bugOxI6dLmceYd5djiMeDQ39Df+dxg2Z7YbtiJ1iHTC9E80dvQo83MymvKOsqUx1zECcM5w8PAu70cvuy9B7xTuiK65Loiuj64YLkHvBW7ALmRuVO6wbmfuM+4kbmRuZG5tLpovBy+w8B3wozEhshQzCfPndH41fncJOG14aHmuO9m9Vj2dfscBYwL7Qt5ELIanh9mHLodoCYrKwEnPybELrAzti/fLL4yqjfhM1UvCjFyNHI0eDDnLxE0xjUtMkgwsDMENWsxAi5VLy0yJS93KdgpryzYKYskFCI3I0UiNhxKF2UVXRKUDqgJWgTXAlMBWv1S+mD53PeX9Z3xZe407k/sxOcC5xfp2enn6MTnzOqV7gTu7utP7MbuevDo7xnwdPQw+ZD5Uvpa/QAAkQAAAMEAKgRNBVoEDwbKCtINcQ3gDNkQlRUEFb4SoxQ8GC4ZShfbF6QbPR8NH6weFCLeJT8m7CRMJTEnPya7JK0lkidUKPMnYickKLUobyb5I5gj5CGeH+odZhx0G7Ia2xeVFXIU7xJIEHENvQtcC5oKRwkkCCQIhQiFCMMHwweoCWkKRwkWCdgJmgppCtgJXAvgDH8MfwwzDrcPtw9WDyUPlA4QDa8MrwxODL0LHgztC70LvQuMC70L7Qt/DBAN4AxxDQIOYw6UDgIOcQ0QDe0L+worCzkKRwmFCGIHfQVoA7QBAAA///n8wfnq9kP0bPEE7vzqtuhA5tji0N9a3RTb/9i61gXVdNQh06vQxs5CzfzKVsgQxq/Ff8V3wpLAtcFHwqC/Wr0/v9G/mbzyuaa7i70Vu923kbkHvMG5urZLtwC5fLdEtLKzBrVEtG2x27Cys1m2WbbItYO6JME5w+bB+8Pvy53R6c+4z2DZ7eQz50DmV+8p/TgD5AFNBfwRwBnpFkoXMCBiJ0wlRSKnKV0yFzDtK0gwbDgLODoxOjEuOUM7HzOULtM0zTiwM2Muhi/GNSY29S5+LF0yETSGLysrfiwXMEAtbyYOJjkqkic9HxMbWR1ZHScWhg8KEY4S7QtaBJgDHAVTAfH5ifbP+Br32/DT7SfvuO+A7EjpzOoE7r7rhuip6aPtV+8E7mXuUfOs93v3GveD+m//AABv/2AAfQXmCLUI2AmUDl0S7xItEqMUqhcZF1cWnRh0G6Qb4xoFHHse3B6XHJccSx49H0seSx7PH7Mh5CFFIpgjKiS7JFokmCMqJFokmCMHIwcjNyPWInUisyGzIf8fKB2kG+ManRhlFR8TzBG3D+AM+wqaCncJwwdiB6AGfQV9BewEiwSLBIsEiwTsBE0FrgU/BpIHFgk5CvsKXAtBDTMOlA5WD+cPSBAYEEgQ2RA6EdkQSBBIENkQOhEYELcPSBBIEFYPxA4lDyUP0g1/DO0LXAvYCeYI8wdwBn0FiwSYAxUCYAAAAKD/TP5o/FL6DfjH9fDyGfBC7czqF+kC573kp+Ik4dDf7N3k2g3Y+NWy09vQc81rykjJhshBxgnDhcGFwWLA7L04vMm8Kr0Vu5G5U7rkujC53bfPuDC5brh8tz64z7huuEu3S7c+uKy3KLZntci1urYotja1Z7Ubt5G5drsHvFq9FsIzxyXIhshzzbrWFNuR2ezdH+xD9J3xdPSmAn8MtQjzB2UVYCCXHI8ZWiQlL6EtOSqbMYE6CziAMxk3sjoLONM0xjX+OJ04xjWHNv44bDiVNe4yXTKNMkgw3yyvLHEtQC0rK8Mn8ycIKmInNyOzISIhYCC6HS4Z2xdKFx8TlA4eDPsKhQhaBIMBIgE//9b7z/go9oHz2/A07nLtsOwt65vqzOrZ6XjpSOnn6Arqvusf7ELth+9f8jb1WPae+Cn9AAAAAIMBrgWoCVwLHgznD+ETQhSjFDwYQxukG+MalxysHrodZhz4HBse+BwFHCgd3B6sHokduh2sHhseiR0oHVkdiR2JHbodSx7cHj0fnh/PHzAgMCANH6weGx7HHBMbwBkuGWwYVxZyFOETUBMKEVYPAg5BDe0Lmgr7CowLOQpHCXcJqAm1CPMH5gh3CUcJdwlcC68McQ0CDlYP2RD8ES0SUBNCFHIUBBVlFTQVlRVXFlcWVxZXFogWVxYnFjQV0xSjFOETXRI6EakQVg9BDb0LmgpHCTEHfQWLBDgDUwEAAH3+mPyD+p74GveX9eLzbPFX70LtzOol6B3lmuPl4dDffd5a3dbbkdnq1tXULtJXz3PNLcu3yNLGf8VcxKjCJMHzwAHAu73JvMm8OLymuxW7RbsVu4O6U7pTupG5wbnkukW7drs4vMm8ybzXu3a7FbtTusG5U7q0una7i72gv4XBFsL7w8THOsqOy/bOstMb19bbJOFO5dnpSfD39ZD56/2uBR4MYw5dEuMawSBgILMh2CmGLxAt3yxlNdU7zTiHNqQ7kEDHPOg2PDjHPEM7uDYmNl458DlyNMwxvjI6Md8sFilUKHcpYicHI0Ui1iLcHrIaCxi4FicWvhKUDsQOhg+vDIUIfQUcBfkD0P+Y/Bz+HP4i+rn2l/WX9V/yQu0f7BHt7ut46YboOur86rbolOdI6Trqa+r86rDsevBf8r/yNvVu+IP6yPw//4MBHAWSB9gJMw5rEY4S7xIEFWwYIRrwGQUcbh8iIWAgYCAUImgjRSLBICIhRSKmIhQiRSJoI/kj1iJFInUiRSIiITAg8iBFIiIhnh9uH/8frB74HGYcKB34HKQb4xpDGxMb/hi4FicWxhWjFOET4ROjFLETzBFrEWsRtw8CDnEN0g2hDUEN0g31DlYPxA6UDlYPJQ+UDiUP5w95EJsR/BGOEu8S7xIfE+8SHxOAE4ATUBNQE1ATvhLMEakQSBAYEMQO0g1BDU4MaQqFCAEHHAV2AjAADv+7/ab7kPms91j2gfOq8JXuEe2b6lbo0uYd5TnjVOGg3xzeydzk2jDZS9f41aTU8NL+0dvQiM9zzV3La8pIyXHGXMRcxJrDhcHRvzHAksB9vji8yby7vTi8tLqmu2i8RbsVu2i8OLwVu6a7mbyDum64z7jBuT64KLZLt2C5kblTusm8fb4/v9jCQcYCx/XHc82C00PUQ9S02srjceYC50LtGvdo/H3+OAPtC2sR4RM8GIkdIiFFIiok5ShOLE4sMy5CNAs42zcLOCA6KD2JPXQ74jo2PGY8dDsuOao3STeVNe4ySDD1LvUucS0rK5oqyiqEKBwlFCI9HygdXxknFsYVBBUtEiUPMw7gDNgJ3gXJA2gDFQIAAEz+Kf0U+9z3dPT+8ejvo+0f7C3rLeu+6y3r/Oot6y3rm+o66l3rQu1l7vbubPEF9Xv3z/hS+vn8AABFArsEwwdcC5QOChGAE5UVShfNGIIaNhwoHT0fUyFFIqYiaCOYI2gj+SO7JBwliyQcJQEnMSccJfkjiyRaJKYiFCIHIwcjdSJ1IgcjFCLBIDAgzx/cHigdKB2JHWYcghpRGlEanRjpFvYVNBXTFEIU4ROAE74SmxGpELcP9Q4zDgIO0g3SDdIN0g3SDdINQQ3gDBAN0g0zDmMOxA4lDyUPYw4zDtINoQ0QDXENAg7EDrcPhg+GD1YPYw5xDe0LygoJCncJhQhUCJIHcAZNBZgDgwEAAK3+yPwU+2D5S/dm9bLzC/E07r7reOlj507lOePz4D/fi92m2/LZ3Ndm1RPUgtOd0SfP082AzGvKJcjSxkHGf8XKw9jCmsNpw7XBJMEkwcPAD7+7vRy+fb75vDi8Wr3svfm8aLzJvFq9ybxovDi8RbsiujC5ALl8tyi2+LUbt3y3n7i0uji83r6FwZrDvcRxxi3LGdBs0ePTRdun4n7l5+hJ8A34mPxv/00FoQ0tEvYVBRyzIVokASeMK4YvazEfM+g24jr3PEs+zz8iQYNBs0FSQS9Anj/BQPFAGj50O9U7QztJN4Az7jK+MhcwQC0QLa8spylvJhwlmCNuH6QbshrAGVcWgBOOEi0S5w/gDGkK5ggxB4sE5AFgAG//HP5o/JD56vaX9RP0/vF68Ffvxu5l7hHtsOxy7ULtsOxy7cbuh+8Z8Gzx4vM29Tb1ifbB+Wj8u/0AAMkDMQfYCX8Mhg8KEfwRHxPTFIgW2xdfGaQbKB3qHQ0fMCCRIMEggyHkIUUi1iLJIyokySM3I9YigyGRIGAgMCCeH54fMCBgIP8fbh9uHz0fGx4oHSgdNhyyGvAZjxk8GBkXJxbGFQQVQhSAE4ATUBOOEmsR2RCpEIYPAg5xDQIO0g1ODO0LEA1xDe0LKwseDBANEA3gDKENxA6UDgIOAg4CDqENEA3gDEENcQ3SDTMOYw6UDsQOYw4CDnENfwxcC9gJRwmFCDEHrgVaBDgDgwHQ/xz++fx1+//4ifbV9PDySfCj7Y7rSOkz51zk5eEB4LvdptuR2T3YidZ01FHTj9Js0YjPBM7hzO/LqcmUx2PH0sbgxU7F7cS9xL3E+8PKw5rD2MKowtjCqMIWwoXBtcGFwZLAAcAxwAHAD7+uvq6+rr4cvlq917uDuoO6g7rPuHy3kblovAe8tLr5vIXBqMIkwZrDqclCzTTOLtLP2Pncw+Df5b7revCX9cj8RQIPBowL7xJ6F48Z3B7sJPMn+ypIMJU1PDgLOEM7UkHxQLk98UDeRX1FN0P5Q9BGkkcpRMFAIkFgQPc8gTouOds3ZTWwM8wxFzACLu0rdynQJlok5CENHwUcwBkLGNMUmxF5EFYPQQ3YCSQIYgdNBbQBb//r/Qf8z/j39QX1pPS/8hnwh+/27hHtzOo66l3rLetI6anpH+yj7bDsQu0Z8M3xzfHw8pf1DfiQ+eT6iv0AACIBpgLeBVQIqAmMC2MOGBAtEhIUlRW4Fp0YURqkGwUcWR09H/IgwSCRIEUimCN1IiIhpiLJI8kjNyP5I0wluyQqJFokWiT5I8kjNyMHI/kjNyOzIUUiRSIiIZ4fPR89Hz0fuh3HHFkd+ByCGmwY2xd6F1cW0xRyFGUVZRXhE+8SUBPvEnkQ9Q71DvUOAg4QDUENxA6UDnENQQ1BDX8M7Qv7CvsKKwsrC/sK+wqMC1wL+wqaCpoKCQpHCbUItQgkCDEH3gUcBVoEaAO0AQAAb/+t/pj88fk9+Fj24vNs8YfvBO4f7Nnp9ecQ5srjheE/38ncwdl81yjWpNRR01/SPNF60IjPBM6xzO/L/MoKykjJ58hIyYbIJcjnyKnJqclIyUjJ2snayefIVsi3yCXIY8dxxhDGEMbgxR7F+8M5w9jCFsJwv/m817tFuzC5KLYGtbq2S7fjsy+yWbbyuXy3NrUiulTBYsBavfvDNM6Iz9PNBdVi4FzkveSA7Ev3B/wc/rsE0g1dEvYV6h1aJGInfizuMmU1qjc2PMFARUKYQzFH+kqnSbVI30z0ToxLtUgISvpKwkdnQ9ZCZ0OQQDY88DkuOao3ETR4MPUuQC1pKsMnuyR1ImAg+BzwGf4YuBaxE5sRJQ9BDVwLJAhNBSoE1wIAACn9N/ym+274E/Tw8vDy2/By7b7rsOxP7ArqeOlr6jrq5+iG6IboF+kK6tnp/OpC7Yfv2/CP8nT0WPbc9zD51vtM/gAAtAHJA9AG2Am9C6ENGBCOEhIUZRWqF4IaBRwFHCgdzx+DIVMhRSLsJKAm0CYxJ1QodykWKVQohCgWKRYp5Sh3KdgpCCrYKacppykWKVQokifQJqAmrSXsJCok+SNoI3UigyGRIGAgPR+JHfgcZhykGyEanRg8GBkXlRVyFLET7xJrEecPhg+UDhANXAsrC2kKRwm1CFQIwwcBB3AGTQWLBJgD1wK0AVMB8gCRAJEAYAAwAAAAb/99/hz+Kf3W+7P68fn/+A34ufbH9aT0UfMu8nrwxu5C7b7r2en153HmjOSn4lThoN+L3dbbg9rP2EvXx9VD1CHTX9Js0UrQ6c+4z1fPJ8/GzpXOBM5zzXPN4cxQzIDMQs2jzdPNNM7GzpXO080SzbHM78ubytrJqclWyGPHosbgxfvDR8IkwQHATb5ovIO6MLl8t5e1dLRRs86xbbHOsQyxnbFEtDa1Z7XPuPm8cL/zwH/F78uIzzzRG9eg3/vjceZl7jD53v7BALUI7xJ6F8AZYCBGKdItlC6NMuI6/z//P+RBwkcdTB1MHUyTTptRy1GGT/RO2VDnTx1M2ElpSkZJTEUUQsFAzz9YPc049jXGNe4yoS0IKrUoMSc3I+odpBukGzwYvhIYEOcPAg53CdAGoAZNBYMBDv8c/sj88fnq9sf1BfW/8qrw6O9X7zTuT+wt6y3rXeub6tnpCurM6szqm+ot6x/sgOxy7ZXuh+/N8RP0BfVY9v/4FPto/Bz+AABFAosEDwaFCO0LMw5WD5sRoxQZFwsYIRr4HG4fIiF1Iosk0CbDJyQoCCrtK04sryxxLcQuti+GL+cv2TDMMWsxCjGbMb4y7jLMMdkwazF4MGMuQC3fLB0sOSpGKXcpRimSJ60lTCVaJBQibh9LHigdExv+GHoXuBb2FRIUXRLMEWsRGBAzDq8M7QvKCuYIMQc/Bk0FmAO0AfIAMABv/0z+u/2K/fn8RftS+iL6kPlu+Ev36vaJ9jb1svO/8l/yzfF68LjvuO9X7wTu0+1y7b7rOuoX6cTnoeYd5Zrjd+IW4iThMeBv397eHN753GjcN9ym21Pawdkw2Z7Yntis1xvXuta61rrWuta61onWWdaX1dXU1dR01LLTj9Jf0i7SPNF60LjPlc6jzVDMLcsKyobIM8cQxr3EacOFwaC/HL6ZvJG5WbaltES0j7L3rnOt6a8MsWWuc63OsQa1srNfsrq2Kr1Nvvm8hcGOy0rQV8901GLgY+dj50/sPfhgALQBuwRWD/4Ygho2HCok3yxIMJsx6DbqPXVC60QxR5lKVU9qURdQ2VByVPZVgFP8UbBTZFWbUUBN0U0lT1tLDkZaRLtEdULHPGw4ejc0NecvyipUKAEn1iKJHXQbwBlXFi0SxA4QDZoKYgcqBBUCAADe/gf8PfhY9sf1IPOH7wTu9u407pvqhug66mvqM+dO5RDmAuev5Svk7eSh5tLmEObS5hfpzOqO60/s9u6P8oHz4vPH9f/4s/qz+jf8AACmAuwE0AbYCQIO2RDMEbETGRfwGeMalxwwIPkjfSXeJbUoHSwQLaEt5y+NMoAzsDNlNUk32zcLOGw4LjkuOS45zTidOAs4GTf2NdM0ETRPM40yazF4MCUv0i1OLGkqhChvJrskpiL/H3seiR02HFEabBh6F8YVUBNrEecPAg6MC+YIMQeuBZgDtAGRAAAArf4p/XX7Uvr/+Br31fSy8y7y2/An72XuNO6j7YDsjutd68zqqem26IbohujE5wLn0uYC55TnY+eh5tLmoebf5a/lfuV+5X7lr+Xf5d/lfuV+5U7lXOSa4wjjFuK14SThkuDQ3z/fTd593uzdydxo3DfcpttT2jDZMNlu2LrWx9Uo1lnWBdWy07LTQ9Tw0qvQStBK0GXO78sty13La8olyGPHM8d/xTnDhcExwBy+OLzkugC5S7fqtuq2NrUhs4KzZ7UGtcCy47MNuPK5MLlTuqC/+8NOxdLGUMwh01nWnthN3hDmLesn71j23v75A8MH9Q7pFhMbSx4cJU4sSDCAM785YED5QzFHfkzZUPxRgFNJV49ZC1jaV4Fa4loLWPZVh1aHVrBTeFD0TgJOK0sAR/lD8UAoPf44BDXZMNItaSpvJtYi/x9mHJ0YBBVrEZQO+woBB1oEBwORACn9s/oi+m74E/R68BnwGfBy7czq/OpP7DrqY+cl6BfpAud+5RDmY+cC5xDmoea26Ofohuip6b7rQu3T7ZXuqvCP8lHzQ/T39dz3YPmz+lr9AABFArsEYgcJCu0LAg7ZEB8T0xR6F7IaKB2eH6Yi7CTQJrUoyip+LAIuVS8KMb4ygDOjNCY26DZJNws4nThsOGw4zTidOKo3STdJN4c2BDVCNLAzXTKpMPUuMy7fLGkqhCiSJz8mySNTIf8f3B5mHCEaPBhXFrET2RCUDn8MCQpiB00FmAO0AdD/HP5o/CL63Pf39UP0/vHo7wTusOxd6zrqF+n155TnAudx5t/lr+V+5e3kjOTt5B3lTuV+5RDm0ubE51bo5+h46dnpa+ot6y3rXeu+6+7rvuvu6+7rjust65vq2enn6FbolOcz59LmEOYd5fvjmuMI4xbiYuCg3w7f7N2Y3KbbptsU25HZPdg92KzX6tZm1QXV1dSC02zRGdC4zyfPQs1dy13LH8xryvXHxMe3yGPHXMQ5w/vDCcOgv7u9Tb59vji8IrqDuqa7Rbu0uhW717u7vQ+/0b/zwMrDAsd5yfzKo83A0p7YmNzQ3x3lH+xR8z34N/yDARYJhg+xE9sXrB6tJcoqxC4RNCA6nj+mQq1FCEpjTkhQalERVOhW6FbFVRlXj1naV7BTT1OVVU9TEE1pSoxLp0k3Q0s+6j02PIc22TACLh0swydFIhseExtKF4AThg9ODNgJ0AamAmAAb/+Y/P/4WPY29bLz2/D27jTuo+3u6zrqqel46RfplOeh5gLnY+fS5n7lTuVx5nHmr+UQ5tLmY+f157boSOmb6l3rT+yj7cbuqvAg8xP0l/Vu+LP6mPwc/gAAdgKLBDEHCQpxDbcPjhI0FXoXIRo2HBse8iCYI94lwyc5Kt8s9S4XMJsx4TM0NYc22zcuOYE6pDs2PDY8ZjyXPJc8pDuyOuI6sjouOQs4STeHNqM0/DFIMPUuTiynKfMn3iVoI/IgrB4oHbIaehcEFb4SGBCvDDkKwweuBTgDwQA//1r9dfsw+bn2NvWB883xGfCV7nLtsOyO62vqCuoK6njpF+nn6EjpeOkX6efoeOnZ6dnpa+r86r7r7uvu6x/sT+yA7E/sT+yw7BHtsOyA7E/sT+zu613rm+o66qnpVujE59Lm3+Ud5SvkOePY4kbiVOEx4AHgoN993irdaNxo3KbbU9qR2cHZYNkN2OrW3Nc92LrWx9Uo1urWl9Xj03TUBdVD1F/Sj9JR0/DS29AZ0KvQV88SzY7LXcubyobIEMbtxCvEOcOFwQHAcL/RvzHAP799vjHAOcP7w2nDf8UKynPNNM7pz5fV1tsc3jHgQOaV7oHz9/V1+5gDaQpxDQoRbBg9HxQiuyRpKmsxZTXoNrI6RUIxR9BGkkcdTBdQJU+vTGNOLFI6UXFNfkxjTnFNFkk/Rm9GfUVSQYk9pDteOcY12TB+LDkqMSd1InsepBtfGScWOhHSDb0LtQi7BLQBYABv/5j8Ivo9+Or2pPT+8bjvNO7T7eHsLevM6szqa+oX6SXoVuiG6NLmr+Wh5gLnY+cz5wLn9ee26IbotujZ6V3rsOxy7fbuPPFR8xP0pPTq9s/4wfkU+1r9AAB2AioE3gVHCeAMAg5WD44SiBbNGPAZlxzBIDcjWiQOJncpfiwzLlUv/DE0Neg22zfNOFE61TsFPNU79zzqPbk9iT0oPbk9KD0TO/A5jznNOOg20zSAM74ySDAQLSsrpynQJgcj/x/cHvgc8BkZF2UVEhR5EOAMmgq1CK4FRQJgAND/HP6m+/H5z/h79/f1E/S/8s3xevAn7wTu0+1y7R/s/Or86i3rzOo66mvqa+oK6qnpqel46efotuhW6IbotuhW6CXoJejE55TnAudx5q/lTuUd5e3kXOQr5MrjOePY4uXh8+CS4KDfDt+t3n3eTd593n3eTd7s3U3erd4c3rvd7N2t3uzdu90c3t7efd593j/foN8/397eP9/e3hzei9353DfcFNvy2WDZ/9is11nWZtUF1ePTndFXz2XOo83MysTHAsczx3/F5sHzwDnDjMTmwWLAmsNjx9LGXMQCxxLNxs4SzUrQbtjJ3JjcoN/n6IfvGfDw8jf8mAOLBD8G5w9sGFEapBsHI70rMy7ELrAzQzuJPcc8zz8cRdBGP0aSR/pKHUz6SitLHUxbS7VI0EZ9RflDIkHcPvc84jqdOCY2vjJVL34sRinsJIMhex6kGzwYchT8EYYPvQuFCN4FmAPyAN7+yPwU+2749/UT9L/y2/An75Xuo+0f7C3r/OoK6oboM+fS5jPnEOa95H7l0uZA5q/lceaU55TnoeYC57boSOlI6Zvqo+1X7+jvPPET9Ln2e/du+LP66/2g/2AABwMBB6gJvQtjDvwRNBUZF48ZiR3BIEUiiyTzJ5oqHSwCLgoxgDNlNRk3/jgTO2Y89zy5Pdw+bj9uPz0/bj+ePz0/ez6JPWY84jr+OBk3lTURNC0yeDDELk4s2CmSJ7skFCJuH8ccURqqF2UVHxMKEcQOHgxpClQI3gWYA+QBMADe/in95PrP+Nz39/VD9CDzX/Kq8Ljv9u407hHtH+xd6y3rOuoX6YbotuiG6MTnxOdj5zPnoeZA5t/lr+Wv5U7lHeVO5U7lveRc5MrjyuMI4+XhFuJ34uXhteG14eXhteEk4fPgJOHD4JLgYuCS4CThVOEk4VThd+II49ji2OKa44zkyuNp48rjXOQr5JrjK+Rc5CvkK+Qr5PvjOeOn4nfiteFi4NDfDt9a3abbRdvk2jDZS9co1tXUX9IZ0GXOUMzayefIY8d/xe3EHsVcxJrDmsPKw1zEK8RcxEHGt8jMynPNStCy0z3YaNzQ3/vj2ekn74/yWPZa/WgDAQdpCnkQqhc2HKweaCMrK0gwCjGwMyA6DT8NP9w+mENUSIRIb0ZUSB1M7UthRw5G5UjzR9ZCkECzQSJBlzwLOEk3VzabMe0rdymEKOwkDR/VG0MbnRiAE4YPcQ29C1QIKgS0AcEA3v4U+274e/eX9Y/ySfAn75XusOwt6wrqSOnn6DPnQOZx5q/lXOT744zk7eSM5FzkjOQd5R3lfuVA5gLnJehI6fzqgOzT7ejvzfEg8wX16vYw+UX7Kf0//4MBWgQBB6gJ4Ax5EL4S0xQ8GNUbGx5uH+QhrSVUKNgpvSv1LjoxjTJCNIc2bDheOfA5EztmPMc8BTw2PMc89zzVO3Q7QztDO485eje4NiY2QjTMMdkweDAlL98saSrlKJIn7CSzIW4f6h0FHF8ZShcnFgQVvhIYEJQOQQ05CgEHrgUqBOQBAAAc/vn8FPue+Ln2l/VD9J3xuO+V7kLtjut46SXoM+dA5h3lyuM54znjd+K14STh8+CS4GLg0N+g3zHgMeCg39DfkuCS4JLgYuDD4CTh8+BU4eXhd+I542njaePK4/vj++P74yvkXOQd5e3kHeXf5XHmoebS5sTnVuiG6PXnhuhI6XjphuiG6EjpSOkl6MTnVujn6FboxOfE5/XnoeYd5YzkyuN34mLgDt/s3Qfc8tlu2OrWNtXA0nrQxs5QzHnJlMd/xTnDVMGSwD+/u72LvRy+HL5avd6+tcEJwznDEMabynPNxs7A0p7Y+dyg34zk7us88Tb1UvqRAA8G2AnnD/YVgho9H7skpynfLNkwlTWdOLI66j2DQZhDmEMcRcJHhEhvRt5F0EbeRQdDRUJ1Qp4/lzxROmw4xjVrMaEtKysWKRwlsyHPH1kdXxnGFe8SGBCvDEcJcAbJA4MB0P+K/Qf8wfnq9pf1pPS/8qrw6O+V7qPtgOxd6zrqeOmG6PXnxOeU5zPnY+fE52PnY+f154boVuhW6Knpm+qO6+Hso+2V7knwzfFR85f1Gvf/+Kb7TP4AAEUC7AQxBxYJvQvEDpsR4RO4FiEa+BxuH0UiHCXzJ3cp7SslL2sxHzMENXo3/jiPOVE6BTxYPYk96j3cPv8/zz89Pz0/DT97Prk9xzzVO4E6jzk8OLg2NDWAM2sxVS8QLVwrpykBJ7skByMiIawelxyyGjwYNBWOEkgQMw6MC7UIPwa7BHYCMADe/vn8FPvP+Br3BfXw8nrwZe4R7fzqeOlW6DPnQOYd5e3k++M543fi5eFU4SThw+DD4CThJOFU4bXhFuJG4tji2OI54/vjjORO5UDm0uYz55TnhuiG6IboVuj158Tn9ecl6PXnJehW6CXoVuhW6CXoVugl6Ibotujn6OfotuhW6IboJej157bo5+j158TntuhI6VboAucz58Tn0ubt5FzkveRp4yTh0N8B4N7e1tv/2A3YfNcF1c3RuM/GzhLNGMngxR7FmsNwv6a7Rbvkuj64urZuuMG5YLnyuYu988DzwLXBEMbvywTOxs7j00Xb0N+n4pTnSfDc90X70P/zB6kQ0xQZF1kdfSXlKKcpMy7TNNs3PDjVO7NBfUV9RYpEAEdpShZJDkatRTFH0EamQs8/YEANP145cjSwM40yAi61KNAmbyYHI6weNhzwGfYV/BGUDk4MqAkPBqYC8gAAAEz+1vuQ+Z74Gvdm9dX0E/Qg82zxh+9l7hHt7uv86grqF+lI6TrqOurZ6Trqm+qb6jrqCurM6o7rXevu63LtJ+9J8NvwzfET9Fj2Pfgi+lr9AAC0ASoEMQc5Cu0LcQ1IEBIUiBb+GJccMCB1IkwlVCgrK0AtJS+bMaM0uDYLOPA51TtmPMc8WD2sPm4/bj/PP8FAs0HkQSJBL0DPP9w+xzziOoE6XjkZNwQ1sDPuMgoxAi69K/sqtSitJckjByPyIOoddBvAGXoXchQ6EVYPAg5cC4UIPwa7BKYCAADr/Zj8FPs9+Jf1svOP8gvxle6w7L7rCur15wLnQOZ+5b3kjOS95IzkXOT748rjyuPK45rj++Mr5IzkHeUQ5nHmAudj5yXoVuiG6BfpSOmp6Qrq2ek66jrqCuo66mvqCuqp6anpeOlI6Rfptugl6PXnxOfE58TnxOf15/XnlOdj52PnY+cz59/lQObE52Pn7eQr5EDmoeb74+XhOePK48Pgu91N3t7e1tsN2HzXbtgo1mzRiM9Xz3PNecngxSvEmsPDwAe8ALnPuG641bTbsNuwUbMTtP6xbbF0tN23z7gwucm8qMJ/xfXHEs0T1MHZi93Y4mvqqvBm9db7iwRpChAN7xI2HAcjuyTzJzMusDMmNjw4lzyQQINBg0GKRMJHAEe7RExF0EbrRPFA8UCzQdw+/jhXNhk3NDX1LsoqOSqSJzcj8iCeH9UbqhdlFbETChGhDfsKhQjeBckDOANTAaD/iv03/OT6kPlu+Kz3ZvUg8yDzIPP+8XrwJ+8E7tPtQu2w7OHssOy+613rgOxy7XLtsOyj7WXuV+/b8PDysvMT9Mf1z/hF+wf8HP7yAJgDfQWFCBANSBD8EbETShcTG8ccSx6DIewkkid3KX4s5y/ZMNkw7jImNkk3uDYLOFE6EztROuI6xzz3PHQ74jp0OwU8BTziOr85vzleOTw4uDbGNQQ1ETQtMtkwSDD1Ln4syiqnKcMnfSX5I0UiYCCsHpccghr+GIgW4RObEVYP4AzKCiQIfQWYA+QBYAB9/jf8Uvqe+Ln2Q/SP8p3xGfCj7R/s7utd63jphui26Lbo9eeU51bo5+i26IboF+k66pvqa+r86oDsQu1C7RHt0+3G7pXuo+1l7vbuZe6j7aPto+1C7R/sjuvu6y3r2enn6IboJegC5xDm3+V+5YzkmuNp42nj2OLl4Rbip+LY4nfi2OKa4wjj5eHl4djip+Lz4JLg5eG14THgfd4/39Df7N3k2lPag9r/2JfVUdPA0s3RZc6bynnJGMngxfPA3r7evpm8S7dEtAa1RLRKsEKtxq5tsQyxxq4ZsGe1z7huuJG5cL9BxgrKscwh09bbp+IQ5szqUfNF+2//BwPYCcwRLhl7Hjcj5SglL4Az0zToNqQ7bj/cPqw+dUKgRt5FRUJ1Qt5FKUSsPpc8ez4oPds3sDOAM0I0JS/zJ94lASdaJA0fNhyXHOMaVxbhE4ATXRL1DlwLaQorCwkKYgccBSoE1wIiAd7+Wv2Y/EX7z/is9//4MPmJ9oHzj/KP8p3xV+9y7aPtZe5C7YDs0+327gTuEe0E7nrwj/KP8iDzx/XP+OT6mPwO//IAOAOuBbUITgxIEB8ToxQZF3Qbex4wILMh7CQkKDkqvStjLgoxOjFIMJsx4TNCNB8zvjLTNPY1ZTUENWU19jVCNI0yjTJPMy0ySDC2L+cvFzD1LtItryy9K/sq2CkWKbUo8yegJq0lHCVaJNYiIiHPHw0f6h2XHOMajxnbF8YVsRMtEtkQJQ9ODMoKaQp3CQEHiwSYA0UCAABM/sj8B/yz+p743PcN+Ev3x/XV9BP0gfPw8l/yX/KP8s3xPPH+8S7yzfFs8Qvx2/AL8dvwSfBJ8Bnwh+8n7zTu0+1C7YDsXeub6mvqqenn6PXnAuff5R3lXOT742nj2OJG4hbiFuK14VThkuAx4DHgMeAB4GLgVOG14YXh5eHY4jnjd+K14Ubip+JU4WLg8+DD4D/f7N0q3cnc5Npu2BvXKNZ01C7S6c/GztPNm8rEx0HGjMTmwey9drtTus+41bQ8sauwSrBCrdqp2qm/q16r2qnvq+mvzrFRs7q2drsxwIzE2sknz3TU1tua43jp0+1m9Rz+mAPDB5QOuBbVG24f3iUdLOcvzDEENb85ZjwoPaw+IkF1QrNBYEDBQBRCwUAFPPA5ZjwoPds34TPTNGU1ti85KmkqmipMJT0fDR9TIawenRhKFy4ZuBb8ERgQOhFWD/sKVAioCdgJrgWDAfIA8gAO/wf8g/oi+m74ZvXi8xP0IPPb8Mbuo+3T7QTu0+3h7O7rH+yw7HLt0+1l7lfvevC/8mb1bvgU+/n8b/+0AYsEYgdHCb0LlA7MEdMUnRg2HA0f8iAHI60lJCjYKZoq+yp+LPUuSDB4MDoxvjIfMy0yjTIRNHI0XTI6MY0yQjS+Mtkw2TAtMmsx5y9IMJsxOjH1LjMuhi8XMDMuHSwdLBAtHSw5KtgpOSrlKA4m+SPJI6Yi/x/HHEMb4xouGScW4RNdEtkQcQ1pCuYIwwdNBaYCgwG0AfIAP/8c/rv9iv1o/OT6s/oU+7P6wfnx+RT75Pqz+iL6s/pF+0X7s/rk+rP6UvrB+f/4nvjc9+r2KPaX9dX0E/SP8jzx6O/G7hHtXes66ufoxOeh5k7lveQr5Nji8+Bi4GLg0N+t3hzerd4/303eWt273ezdi93J3Pncu92L3Vrdu92t3k3eu9273bvdmNx126bbFNtg2XzX+NXH1XTU/tFK0ErQ9s7vy2vKa8oYyeDFmsMJw0fCcL/Xu4O65LrPuAa18LKCs86xo639qo6rH6ypqVaoLavGrhmw/rHItbS63r5HwqLG78uP0v/Yi90544DsNvXP+Pn8PwZWD8wREhQoHWInRinzJ/UuLjmyOoc2/jhgQHVCuT0TO54/pkJLPl45sjp7Ppc89jVyNAs4ejfZMEAthi8lL+UoiyR9JT8mUyH4HIkdex6kGwsYGRd6F/YVHxMKEUgQxA5/DDkK8wd9BZgDgwEAACn9s/rB+dz3dPQu8l/yzfEn7+Hso+1l7hHtXesf7ATu0+0R7cbuzfGy87Lz1fRg+fn8rf4AADgDwwfKCr0LlA7vEicWuBY8GKQbPR8iIbMhNyMBJxYp5SjlKPsq3yx+LPsqTixjLpQuQC1xLSUvVS/SLa8scS0CLt8sfixALWMuMy5xLQIuVS/nLyUvYy4lL+cvJS8CLgIuYy6hLU4sjCu9K1wrpymSJ6AmfSVoI8EgGx7HHIIaPBiIFqMUvhLZEJQOfwzKCuYIkgeuBVoEmANoAwcDdgLkAeQBFQJTAZEAwQDBAGAAMABgAJEAMAAAAAAAMAAAAA7/rf6t/hz+B/yz+iL6MPka92b1dPTi84/yqvCH72XusOzM6njpxOdx5h3lmuPY4kbiheHz4JLgAeA/3w7f3t5N3rvdKt353GjcB9zW23Xbg9oi2vLZkdk92KzXDdg92OrWl9XH1YnWZtVR08DSUdPA0rjPZc4nz8bO78sKypvK/Mq3yDPHxMfEx6/FmsOawznDJMEcvsm8aLy0up+4KLZ0tHS0IbNXr1Csc62Wrv2q9actq/6xgrMMsWe13r4rxO3E58g80Q3YaNxG4o7rsvMw+aD/YgdjDr4SzRhTIQEntSgQLWU14jqBOlE63D6mQlJBbj9SQQdDzz+JPW4/DT+BOhk3PDhJN/wxti/MMS0yTiySJ0YpjCsBJyIhzx8UIvIglxyCGgUcpBvbFzQVxhVlFfwRYw5BDR4MRwlwBosEpgLQ/wf8kPkN+Pf1LvJl7uHsQu0f7Nnp9ecl6HjpF+lW6Arq4ewE7mXuqvBD9Hv3z/iz+uv9FQK7BMMHjAu3D44S0xTbF0MbWR2sHiIhaCPeJWInRik5KjkqmirKKsoqaSo5Kjkqpyl3KWkqyio5KhYp5ShGKXcp5ShUKEYpOSoIKjkqKyu9Kysr+yq9K68s3yzfLN8sQC2hLRAt3yx+LCsrpykWKVQo0CYcJTcjUyFuHygdExudGLgWNBWAEy0S2RC3D2MOcQ1ODCsLygo5CqgJdwl3CdgJCQoJCqgJRwm1COYIFgm1CLUIhQhUCMMHAQc/BuwEBwO0AZEA0P/r/db7g/ow+er21fQg853xuO807hHtH+xd6wrqtujE59LmfuWM5CvkOeNG4uXhRuIW4lThkuBi4DHgoN/e3g7frd5N3uzdu90q3abbg9qR2azXWdZm1UPU8NL+0Z3RPNEZ0CfP9s6VznPNgMyAzLHMvsuOyx/M78vMygrK/MqbyrfI9cd5yXnJAsdOxUHGEMZpw5LAksABwAe8brhuuJ+4pbS4r5auSrD3rsyqnKonr/6xzrGCs+S65sFpw+DF9s6R2RzeYuBW6Gb1HP6g/2gD9Q7wGZccxxxaJBcwQjT8MRE0NjyzQc8/lzw9P1pEdUKJPcc8PT8aPmw4BDUmNug2LTJ+LO0rAi4dLGInHCViJ5InmCPBIBQiNyPBIJccdBu6HYkd/hiVFScWiBa+EqEN7QvgDNgJmAMAAAAAAAAU+2b1UfNR8zzx7uuG6Ofo5+hA5ozkr+X15yXoM+e26BHtSfDb8L/yrPeY/KD/YAAqBNgJQQ0zDtkQxhXwGeMa4xqJHbMhByOzIRQi7CQ/JkwliyTQJuUowyd9JQ4m8ydiJ7skaCPsJN4luyT5I0wlYieSJzEn8yc5KlwrKyuMK6Et9S7ELpQuhi94MCUvAi4zLjMufiw5KuUoFimSJ7skRSJTITAgWR3jGsAZPBjGFeETjhI6EYYPlA5jDiUP9Q4lDwoRvhKAE74SUBPTFMYVchQSFFcWPBiqF4gWCxhfGXoXQhQSFEIUmxHSDU4M7Qt3CQ8GmAPXApEAWv0U+yL6Pfg29b/yzfF68ATuH+y+647rzOoK6tnpCup46efo5+jE5wLnoeZx5n7lveSM5FzkOePl4fPgMeDs3abbkdk92LrW1dQh0/7RC9Hpz8bOc82xzO/LLcubyl3LH8wfzIDMBM6Iz7jPiM9s0ePTstMu0lHT+NX41YLTX9Ky00PULtKIz1fP6c8EzmvKVsgCx4zEJMF9viq9drufuIm2Z7XAsoiv4awtqxipxacDpyaoCqpzrTyxRLQAucPAAscKyrjPRdt+5efoQu2z+lQI+wppCuETdSKtJcEgiySbMbg2mzEKMfA5ez4uOQQ1LjlmPKo3TzPGNds3cjQXMBcwazH1Lmkq2CnfLN8sCCqnKVwrfixcK3cpRimnKeUoYifQJg4m7CSYI5EgNhzAGQsY4RNxDUcJwweuBZEApvtg+dz3v/Kj7b7r/Orn6N/lveR+5X7l++OM5HHmlOeG6Mzqxu7w8pf1Pfho/JEAyQNwBuYIrwzZEIATZRULGBMbxxzHHPgc6h3cHhseKB26HT0fnh/cHg0fMCAwIM8fzx9TIaYi1iIHI7sk0CZiJ/Mn5SjKKr0rrywzLngw/DEfM0I0ZTX2NfY1lTUENTQ1ETSNMmsxeDAzLowrRikxJ1okgyE9H+odxxzjGi4ZnRhsGLgWBBWjFJUVNBXhExIUZRX2FdMU0xSVFTQVchSxExIUoxQSFFATgBOxE44SChEYEIYPlA4QDYwLOQq1CAEHuwR2AjAAP/9M/pj85Poi+vH5MPkN+Nz3S/co9jb11fSk9LLzj/L+8c3xC/En73Lt4ewt6xfpM+ff5Yzk2OLD4KDffd753EXbYNk92OrWx9V01PDSLtJs0XrQuM/GzpXOlc6VzgTONM72zrjPStBK0NvQX9KC01HTgtPV1JfVBdV01EPU49Mu0tvQetBXz7HMOsoKygrKM8crxGnD+8PmwX2+Kr1Nvlq9wbluuIO6U7r4teOz+LWJtv6xlq7OsaW0nbFKsLq2i73svd6+xMeP0vjVDdgW4jTuQ/Qa963+dwnZEOETzRjyIGInKyvSLQoxETT2NVc2hzZJN/44CzjGNbg2zThJN4AzLTKjNNM0JS+9K8QuOjEQLeUoKyuULt8s8yfzJysrmioOJoskbybeJbMhSx7qHfgcnRixEwoRhg9cC94FFQLQ/3X7Gvfi8wvxBO4t66nptujE5zPnM+fS5qHm9eep6QrqjuvG7vDyZvWJ9lL60P9FAgcDDwZcCyUPSBBdElcW8BlRGuMaWR2eHw0fex49H5EgYCCsHkserB5LHlkdiR2sHj0fYCCDITcjHCVvJjEnJCh3KSsr3yxALdIt5y+bMZsxmzFdMu4yjTJrMXgwCjF4MJQuoS0QLSsrdynDJ94lmCPyINwe6h2kG/4Yehe4FgQVsROxExIUEhSjFFcWPBj+GF8ZshqXHCgdlxxmHOodSx7HHEMbpBtDG/4YuBaVFaMU7xLZEFYPAg5ODKgJkgfeBckDgwEAAN7+Wv3W+/H5PfhL91j2BfUT9OLzQ/QT9OLzE/R09HT0gfOP8v7xbPHo7zTusOwt60jp0uZc5Bbib9/J3FPaDdhZ1qTUIdPN0QvRetCIzyfPV88nz1fPuM960AvRndHN0S7Sj9Ih0xPU49PV1CjWS9es1z3YkdlT2iLaYNlg2cHZPdiJ1lnWl9Xw0qvQGdAnz77L58jnyFbIr8XKwznD2MJUwQHAcL/evk2+HL67vQe85LqDuvK5G7dEtOOzpbTjsy+y47PPuAe8Kr0kwXnJ29AT1M/YOeME7oHzS/cwAL0L2RD8ETwYdSIxJz8m5Sh4MNM0CjFVLzQ1nTiAM4Yv4TM8ODQ1qTAtMrg2ZTUXMPUuazHMMfUurywzLrYvYy69K1wrvSvKKrUoMScBJ6Am7CSmImAgex42HJ0YEhR5ENINaQocBTAAu/3k+sf1SfDT7bDsSOkQ5hDm9edj507loeY66o7rzOqA7DzxpPQo9m74Kf1gAEUCWgSSB/sKQQ0lD10SBBXpFs0Y4xrHHIkduh1LHg0fPR/cHj0fbh8NH3seDR9uHz0fbh8iIQcjWiTeJYQoyiqMK68sxC4KMQoxOjG+MgQ1ZTWwM+EzozSwMzox5y+GLzMujCunKacpVCh9Jckj1iKDIQ0fxxykG7IazRgZF/YVBBVyFOETHxMfE7ETQhTTFGUVShcuGfAZIRoFHKwe6h3VGwUciR0FHJ0YSheqF/YVLRK3D4YP0g2oCaAGoAauBXYCkQBgAAAAu/11+9b71vvx+Q34Pfhu+Br3NvV09KT0IPNs8Tzx2/CH72Xuo+2A7C3reOn156/lCONU4dDfHN5125HZPdhZ1kPUj9Kd0TzRStDpz6vQPNFs0f7RgtND1KTUZtUo1rrW6tbq1hvXG9dL1+rWutZZ1onW6taJ1ijWutYb1yjW1dSk1DbVQ9Rf0p3RzdE80SfPscwfzB/MCsozx6LG0sZOxTnDqMI5w6jCJMExwMPAYsDsvTi8aLwVuw24+LXqtku3pbR0tGC5u70cvg+/4MX2zrLTl9X53BfpLvJL9yn9MQe+EmwYExsiIUYpQC2ULtkw0zQZN/Y1lTVJN4c2sDP8Mb4yHzN4MGMuti+bMbYvEC0QLfUuVS/fLFwrQC22L/UujCs5Kr0rTiyEKLskKiQOJvkjSx50G9Ub8BnhE2MOvQvYCSoEff6m+2D5pPS470/szOqG6H7lyuO95B3l7eRA5kjpjuuj7Unw4vNu+Kb7rf52AtAGOQqvDCUPmxGAEwQVxhXpFmwY8BkTG3QbpBuXHIkdWR02HAUc+ByJHcccWR2sHs8fYCAiITcjuyStJWInCCodLBAtlC4KMV0yvjKAM2U1JjaVNTQ1xjVlNR8z2TC2LzMujCu1KNAmfSWYI1Mhnh8bHmYcghouGWwYqhcZFxkXCxj+GF8ZwBnwGRMbdBt0GxMbBRzHHGYcZhwFHHQb4xrAGQsYiBYEFR8TChElD3ENXAu1CKAGHAVoA7QBkQAwAAAAb/+g/2//TP4p/cj8+fwH/BT7Rfs3/Kb7g/qQ+c/43PfH9bLzX/Js8VfvQu2A7PzqtuhA5ozkCOPD4E3eaNx121Pantgb14nW+NXV1HTUpNQF1TbVl9W61g3Yz9j/2MHZg9q02rTaFNtF20XbFNuD2iLaYNnc1+rWidYo1sfVBdUF1cfVZtVD1OPTdNRR053R29A80XrQlc5CzaPNQs38yhjJ58i3yNLGvcT7w8rD2MLzwDHAoL8cvpm8druRuXy3l7V0tFGzwLLAsvCy1bQwuVq9AcArxNPNrNf53PPg7usi+sEApgLKCl8Z8iCeHzcjhi+VNakw9S5sOFg9gDNcK40yLjmGL7skmipyNOcv3iVGKU8zzDHlKDkqTzNyNN8sfixlNds3eDBxLe4yQjRxLVQoRil3KSok3B74HBMbxhXZENINaQrsBMEADv8U+/f1j/K47y3r0uYQ5nHmjOQW4ivk5+ip6VboXets8eLzIPMa963+FQJ2At4FEA3ZEBgQqRBlFTwY9hVlFf4Y4xrwGc0YghoFHBMb8BmkG8ccpBukGxsezx/cHnseIiFoIwcjySPzJ5oq+yq9K8QumzEKMbYvazEfM10y2TDMMe4ymzElLwIucS2aKjEnTCXJIyIhSx74HMccQxv+GNsXCxh6F4gWJxaIFukW6RaqF2wYnRj+GF8Z8BnwGcAZURqCGo8ZbBgLGKoX9hUSFLETQhThE44SjhLvEl0SSBDSDRANfwzKCoUIJAgWCeYIYgdwBg8G7AR2AjAAMAAAAH3+aPwH/Af8UvoN+In29/V09P7xSfDo72Xuvuup6VboAuft5Dnjp+Ll4fPgb98c3rvdmNy02m7Y3Nc92A3YS9es1zDZkdkw2ZHZU9pT2sHZYNlT2rTaRdtF23XbB9ym2+Tag9pT2vLZwdkw2TDZU9qD2pHZwdnW2/ncRdtT2mjcHN4U29zXz9i02kvXLtLN0bLTbNHvy2vKgMybyivEJMEJw6jCybxguQe87L2RuWe1urY+uHS0965lrquwuK8SrQSuE7Qiupm83r4Cx4/SMNk33GnjevBF+wAATQUYECEaDR8HI+Uo0i1VL1UvOjGwMzoxoS1ALWMuEC0IKiQodym9K04s+yrKKt8shi+GL2MueDByNIc2JjaHNiA6dDuqN0I0cjSAMwIu8ydvJgEnRSJ0G6oX9hX8EfsKHAWmAqD/IvqX9YHzC/Hh7KnpF+lI6fXnlOfn6C3rEe3G7tvwsvNY9mD5yPwwADgDMQf7CnENJQ8KES0S/BHMEb4SUBOxE7EToxT2FVcWxhX2FRkXqheqF50YghrHHKweMCBFIlokbyYkKNgp7SvSLYYvazHuMoAzsDOwM4AzHzO+Mr4y/DEKMbYv9S5xLZoq8ycOJlokFCL/Hz0fDR9ZHaQbExuCGi4Z2xfbF2wY/hj+GCEa1Rv4HPgc+BzqHdwe6h34HCgd+Bx0G48ZCxi4FqMU/BEYEJQOrww5CrUIMQdNBTgD5AHyAGAAAAAAAGAAwQAiAbQB5AEVAuQB5AGDAfIAkQCRAAAAP/99/in9FPvP+In2dPRf8rjv0+1P7Jvq9edA5n7lXOSn4lThJOGS4KDfrd7e3t7e7N0q3bvdfd593uzdfd5v36Df3t6t3m/frd6L3Yvd7N1a3Tfc1tum27Tantjq1vjV1dTw0i7S/tEu0vDS8NLw0lHTpNRZ1onWQ9RD1KzXPdjj053RdNRZ1p3RXctQzIjPLctpw0fCEMa9xPm8kbmuvgHAYLkGtWC5ybxuuPCyE7Qbt2e1zrEvsqW0urbPuDi888DSxkLNpNSD2kbiEe1Y9gf8OANWD4Ia3B4iIRYpHzMRNIYvzDHNOOg2Yy4dLKkwhi/eJSIhbyZGKdYiDR8cJYwrdynQJh0s4TNCNI0yGTfqPeo9IDqkO3s+dDs0NS0y2TDtK+wkwSC6HdsXaxEzDpoKiwSg//n8s/r39f7x2/B68HLtjuuA7ATusOwf7MbuLvK/8r/yufbW+yn9HP60AXAG5gg5CnENaxGOEi0SsRNlFTQVsROjFJUVNBVCFAQVVxYnFgQVVxadGM0YnRhDGz0fIiGDIVokhChpKisrcS0XMDoxCjEtMuEzHzM6MQoxmzHnL98s7SuMKwgqASdMJYskpiKeH0seuh1mHIIaURrjGo8ZzRguGY8ZzRgLGM0YIRohGiEaBRy6HeodGx4NH88f3B7qHeod6h02HFEajxmdGIgWgBObEUgQoQ2aCuYIwwd9BZgD1wJ2AuQBIgEVAmgDyQPJA7sEPwZwBn0FfQUPBhwFOAMVAlMBAACK/RT7nvgo9oHzSfCj7V3rSOmU50Dm7eQr5MrjyuPY4nfiRuIW4uXhteEk4VThJOHD4AHg0N9v3w7fTd7s3YvdmNwH3DfcN9zW23XbptvW20XbFNsU2xTb8tn/2G7Y3Nfq1lnW+NUo1ijWWdZZ1vjVWdYb13zXidaX1UvXnti61nTUNtUo1rLTuM+VzifPsczSxozEf8UrxN6+drvJvIu9kbn4tXy3n7hntY+ygrNEtF+y27Ahs8i1Z7W6tmi8tcHKw8THetCR2Q7fTuXo7xT7FQJHCb4SlxwHIwEn3yywM/Y1ZTUmNgs42zewM/Uu0i2ULisrWiR1It4lbyYUIjAgrSVOLL0raSqpMF45EzuqN1E68UB1Qig9IDpmPNU7ozSvLHcpoCasHpUVqRACDlQIIgG7/UX7PfgT9BnwZe7G7tPt7utP7NPt9u5X71fvevCy8zb1NvWs96b7ff6g/8EAuwS1CKgJOQoCDi0SUBOAE2UVbBjNGEoXehfAGfAZbBidGIIaQxtRGlEaZhx7HnsePR+mIkwlPyYkKGkqryxjLvUuFzA6MQox2TA6MakwVS+hLb0rOSrzJxwlNyODIQ0fiR2XHHQb8BlfGf4YCxhKF0oXbBjNGAsYzRghGvAZLhmPGSEaIRr+GP4YLhnNGKoX6RbpFsYVQhQSFAQVBBVQE7ET9hX2FV0S2RD8EfwRxA5ODBAN0g29CxYJhQi1CHAGOANFAmgDBwMiAfIA1wKYA6YCgwHkARUCUwFgAAAAff4p/db7YPlY9hP0/vEn7+7rCuqG6N/l2OKF4cPgP99a3Zjcu90c3ovd7N1v3wHgb98/3wHgMeA/333e0N9i4KDf3t5v3wHgDt8c3hze7N1a3ZjcaNxo3EXbU9pT2oPaYNk92D3Yz9g92HzXDdjP2J7YDdg92DDZMNk92HzXDdg92InW1dR01FHTC9GVzrHMjstIyaLGjMQJwyTBrr44vOS6YLndtyi2BrV0tLKzX7IMsQyxnbFfsvCyBrUiut6+d8Jjx7jPbtit3u3kle7x+fIAMQepEBMbwSAqJAgqOjEfM8wxgDN6N8Y1VS9xLbYvEC1aJPIgTCVvJmAgex5MJcoqhCjQJhAtNDX2NQQ1IDoiQeRBzz+QQHVCnj+POWU1HzOhLUwl/x+kGzQVAg4kCAcD6/3B+bn2svN68Mbuh+8n73Lto+0Z8DzxPPGP8vf1z/j/+FL6ff6RADAAIgEcBcMHVAgWCa8MSBAYELcPXRJCFO8SLRKxE2UVBBWAE3IUGRfpFmUVJxYLGDwYLhmkG6wezx8iIYskJCjlKEYpTixVL0gwSDBrMe4yXTKpMOcv9S5OLEYpJCgBJ1oksyFgIA0flxyyGvAZLhnbF6oXzRiPGf4YXxkTG6QbExtDG5ccKB2XHCgdrB4NH7odKB26HVkdQxsuGf4Y/hgZFzQVchSxE2sRJQ+hDX8MaQqFCMMH0AbeBbsE+QPJA5gDOAM4A8kD7ATeBXAGoAYxB5IH0AbeBRwFWgSYA4MB0P+t/mj8nvgF9Y/y6O+w7HjplOdx5u3kOeOn4qfid+JG4hbiCOMr5PvjXORO5d/l3+Xt5PvjmuOn4oXhMeBv303eWt0H3EXbU9rB2f/Y/9j/2GDZkdlg2ZHZkdlg2c/YDdhL1xvXG9co1jbVNtU21bLTj9Ih04LTndFK0NvQLtLb0GXONM6Iz8bOvsupyXnJqckzx/vDCcO1waC/u704vPK5brg+uEu3WbZntZe1KLaltC+yRLTdt+q2yLV2u8rDY8djx9PNFNs54znjVug9+PkDTQWSB9MUpiKLJLMhpyn2NVc2SDAfM+I6IDrZMNItTzNdMoQouyTKKn4sASe7JAgqVS+vLAgq2TB6N8Y1BDWyOs8/3D4FPAU8iT0gOoAz5y9ALdAmMCBDG/YVtw8WCYsEMAAU+3v3x/Ug87jvJ++47yfvo+2V7i7ysvO/8gX1wfl1+4P6B/yg/8EAMADyAOwE8wfDB7UI4AznD1YPVg+OEgQVchQSFLgWjxlfGTwYXxk2HDYcshrVG6wePR/qHdwe5CE3I3UiNyOgJuUo5Sh3Kb0rQC0QLU4s3yzfLIwr2CnlKGInTCU3I4Mhbh+JHdUbshr+GHoXuBYnFvYV9hWIFkoX2xedGMAZQxsTG3QbBRw2HKQbExsTG+MaXxnbF9sXqhcnFmUVlRVlFRIUHxOxE7ET/BHZEGsR/BHZEFYPJQ/nDwIOKwtpCgkKJAgPBn0FrgUcBSoEmAPJA2gDFQKDAYMBIgEwAKD/Dv+7/Tf88fk9+Pf1gfNs8Yfv4exr6oboQOZc5AjjRuJG4rXh5eEI45rjaeP744zkK+Sa42njOePY4kbiheGS4G/fHN7J3Kbbg9qR2f/Y/9jP2M/YwdmD2uTaRds33MncKt0q3Yvdi9353GjcN9x127TaItry2c/YfNcb16zXWdbj07LT1dSC09vQStD+0c3RZc6xzNPNQs1IyeDF4MVOxYXBTb59vk2+prsAuW64DbhZtnS0srPjs3S0+LXdt8G5aLy1wZTH78sZ0HzXAeCv5V3rNvUO/5gDwwd5EOMazx+eH1okoS14MKEtTiwXMHgwKysBJ4Qo5SgcJTcjPya1KMMnMScIKqEtlC5VL+4yejcgOpc8zz8UQnVCs0GQQBo+vzn2Nb4yTiytJcEgpBvTFNINVAjsBDAA5Pp793v3BfVs8dvwzfH+8Z3xj/LH9c/4z/jx+Yr93v7r/Uz+oP+RAJEAwQA4A64FfQU/BoUIqAl3CdgJjAtxDWMOJQ+bEUIUoxSVFQsYXxmPGVEaNhy6HeodSx5gIBQiFCIUIiokPybQJtAmhCiaKsoq2ClpKowrmioWKRYpRilUKD8mTCW7JDcjYCCsHksexxyyGrIaExuyGvAZURoTG3QbExtDG2Yc+Bz4HFkdGx5LHlkdxxyXHKQb8Bn+GAsYVxajFLETjhLZECUPMw4CDuAMXAuMC+0LmgqoCXcJqAlHCfMHwwe1CPMHAQfQBtAGDwaLBMkDOAN2AiIBYAAAAKD/3v7r/Sn91vsi+s/4rPco9nT0v/I88bjvNO6A7F3r2enn6CXoM+eh5kDmEOZ+5R3lTuXf5RDmTuWv5RDm3+Ud5YzkK+TK4xbi8+Bi4NDfrd6L3SrdKt1o3KbbFNsU24Pa8tnB2cHZ8tki2vLZwdny2fLZwdlg2c/Ybthu2A3YG9dZ1hvXutak1CHTstMT1GzRZc40zrjPNM4KylbIqcmpyUHGmsMrxFzER8Kgvz+/ksDRv1q9OLxavYu9B7xTuhW7Wr1Nvru90b9/xfzKEs24z27YRuKh5jrqsvNv/z8GCQrZEDYcaCMqJDEnVS+jNC0yVS9dMvY1mzHKKjkqryzYKbskaCN9JW8miyRaJMMn2CmaKtIt/DFyNOg28DmXPLk9KD3HPDY8nTjTNL4y9S6SJyIhiR3+GGsROQoPBmgDrf5g+Uv36vYT9GzxzfGB84Hz8PI29T34kPmQ+db7rf7Q/9D/IgFoA1oEiwQ/BlQItQi1CNgJKwuMC+0LrwwzDvUOhg95EMwR/BG+EkIUZRUEFfYVPBguGS4ZURpmHBseex6eHxQiySPJI+wkkicWKYQoVCgIKvsqdynDJ5InYidMJUUiUyFTIQ0fBRxDG0Mb8Bk8GKoXzRguGWwYnRjjGgUcBRxmHBsePR9uHz0fbh/PH3seWR1mHBMb/hgZF5UVsRP8EXkQxA7gDIwLmgqoCbUIJAgkCCQIFgkJCmkKmgq9C9IN0g0eDL0L4AwQDcoKFgl3CagJkgdaBAcD5AFv/xT7kPn/+Pf1nfGq8KrwV+9P7MzqLevM6hfphuh46anptui26Knpqenn6BfpCuo66kjphuj159LmHeXK46fiJOEB4AHgb98O333erd7e3t7eDt8B4JLgheF34srjHeV+5X7l3+Vx5k7lyuPY4kbiYuAc3mjcddvB2XzXKNb41aTUUdPw0kPUdNSP0s3RpNSJ1uPTPNGy0+rWdNT2zsbOzdFXz4bI4MXEx9LGksD5vHC/McDkuhu3YLkVu3y3IbM2tc+4n7hZtp+43r7Kw3/FY8c0ztzXWt1i4GPnj/JF+wAA3gXnD18Z6h2DIVQooS1jLoYv7jJyNDoxYy7ZMPwxfiySJ6cpvStUKLskoCaaKsoqpykCLnI0BDU0NRM7kED/Pxo+/z8HQ5BAUTp6N3o3jTKnKSoksyHjGl0SEA1HCfkDTP7x+W74ifYg8y7ygfOy8yDzpPQa9274z/hS+lr9TP7r/aD/8gBTASIBdgL5A/kDpgKYA64FHAUqBD8GhQgWCUcJygpxDcQOMw63D+8SQhSAE6MUGRdsGM0YzRhRGjYc+Bz4HHseYCCDIRQiNyPsJN4lrSU/JvMntSgkKJIn8ye1KJInrSW7JLskmCPkISIhwSAwIA0fex4NH24f6h3qHT0fnh+sHtweDR89H6weuh0oHccc4xr+GGwYGRdlFbETzBE6EUgQxA5BDU4MvQv7CgkKdwmoCXcJ5gjzB/MHwwdwBn0FiwQqBAcDgwFgAJEAAABM/lr9Wv3I/Kb7s/qD+oP68fnP+D34bvg9+Or2l/XV9EP0IPM88bjvxu4R7Y7rOupI6bboY+dx5gLn0uZx5qHmAueU51boJegl6EjpeOmp6dnpOupr6grqF+lW6FboY+ff5U7lXOTK43fiheFU4cPgoN993ovdKt2Y3NbbFNsU27TaItry2ZHZkdme2NzXrNcN2KzXl9Wk1PjV+NWC0wvR/tFR00rQscwSzcbO4cxWyJTHOsoYyb3EK8QzxwLHOcPmwU7FQcbYwvPA+8N/xXfCw8ArxGPHQcZBxvzKq9BR0zbVU9qF4ZTn7uv+8cH5kQDDB/UOQhRRGlMhfSWgJrUoryyULn4s+ypxLdItRikBJ0Yp5Sj5I1MhiyRUKN4ldSLzJ0gw2TAzLl0y8DlDO8048DnqPbk9nTgmNkk3ETQdLD8muyRgINsXOhECDjkKKgSg/7v9B/xu+Ln2S/fc90v33PdS+gf8B/y7/QAAYACRAKYCuwQcBbsEfQViB8MH3gUcBdAGAQfeBd4FYgckCFQIRwlcC68MHgzgDLcP2RAKES0SgBM0FYgWShdsGI8ZghqkG/gcuh17Hs8f8iBFIqYipiIqJBwl7CRaJEwlrSUcJckjNyM3I3UiwSDPHzAgMCBuH6webh8wIG4fex4NH/8fzx89H24f/x9gINweiR0oHcccshr+GEoXJxY0FYATmxFIECUPAg7gDB4MvQu9C/sKOQppCpoKqAkkCJIHwwdwBrsEKgQ4A1MBoP9M/in9dfsw+dz33PdL91j2l/Uo9sf1NvWk9NX0dPQT9LLzUfMg883x2/Do78buEe1d6wrqSOlW6DPnQOav5a/lfuUd5e3kr+Wh5tLmAucl6KnpOuoK6mvqXeu+68zqa+pr6jrqeOmG6JTnM+eh5q/lHeW95PvjaeNp4znjp+J34uXhVOHz4JLgAeAO37vdydw33BTb/9hL17rWidYF1fDSwNJR08DS29C4z0rQPNEZ0MbO9s4Z0BnQ9s4EzmXOlc7hzPzKCsraybfIcca9xMrDacNHwgHAoL/zwKjCqMIrxBjJBM6r0BPURdsI4yXosOyk9Lv9pgLQBsQOVxadGMAZzx8OJq0lRSIqJNgphCjkIeQh3iVaJG4fPR83Iyokzx8wIIQoTiySJxYpXTI8OJU1QjS/OZ4/WD2dOIE6ZjwLOF0yeDD1LkYpsyFZHUMbVxb1DsoK8weLBIMBAAB9/sj81vv5/Ir9aPzI/D//AAAAAMEA1wI4A6YCBwPeBdAGKgSYA6AGMQcqBJgDrgXQBt4FHAViB0cJ8wdUCCsLEA1/DOAMhg9rEZsRLRJyFPYV9hWIFs0Y8BmPGSEaZhy6HSgdiR1uH88fbh//H1MhwSDPH5Eg5CEiIQ0fPR/BIGAgSx66HW4fzx97Hhsebh//H24fbh+RIPIgMCD/H5EgwSCeH3seWR1mHEMbXxlKF/YVgBP8EakQlA6vDFwLOQoWCcMHMQfQBj8GfQVNBa4F7AQqBJgDyQMHA+QB8gCRAAAArf67/Vr9N/wU+4P68fkw+dz36vYa9xr39/WX9Sj2KPYF9XT0E/Ti84/y2/Do7+jvxu5C7YDsH+wt6wrqF+kX6efohugl6IboqenZ6anp2en86l3rjutP7OHsEe0R7ULtQu0R7bDsT+xP7IDsT+zu677rXest62vq2elI6RfpVujE55TnlOcC56/lHeWM5AjjVOGS4AHgDt+73fncydxo3NbbddsU2xTbFNtT2pHZItqm2xTbPdgN2LTag9qJ1kPUutas17LTJ8+r0PDSuM86yszKlc4SzcTH0sbvy1DMY8dOxQrKNM4fzBjJo81Z1v/YutbB2YzkT+y+60/s9/UAAIMBwQCSB44SlRWOEmUVDR+zITYcExvyIFokbh8TG0sesyGeH/gcex5gICIhFCL5Iw4mkicIKnEthi94MB8zJjaHNvY1STedOMY1CjG2L1Uv+yrJI2Agex6CGnIUGBAzDvsKPwaYA2gDFQKg/2//wQCDAZEA8gBoA+wEiwQcBWIHwwfQBpIHRwnmCNAG0AbDB2IH3gW7BBwFTQUqBJgDWgRaBMkDKgSuBXAGoAbzB3cJaQqMC0EN9Q7nDzoRsRNlFVcWqhfwGdUb1RtmHHseMCCeH24f8iBFIoMhkSCDIXUi5CHyIIMhByPWIkUi1iIqJCokySMqJOwk7CQqJIskuyQqJKYiUyGRIG4fiR3VG4Ia/hgZF2UVchS+EgoR5w8lD6ENHgxcC/sK2Am1CPMHYgcPBosEBwMVApEADv+K/Qf8IvoN+In2BfWB8y7ynfFs8Xrw6O/o70nwSfAZ8HrwPPEL8arwnfGd8Xrw6O/o74fvNO7h7B/s7uvM6njpF+m26CXoxOf154botugX6dnpvuuw7LDsBO6479vwzfFf8iDzE/R09HT0pPQT9LLzgfPw8v7xbPF68Ljvxu7T7bDsH+wt6zrqeOlW6DPnceZO5fvjd+KF4ZLg0N993vncN9zW23Xb8tnP2P/Ywdn/2KzXDdhg2TDZS9es15HZYNlZ1vjV/9j/2KTUUdOJ1qzXgtN60CHTx9XA0pXO29A21cDSZc4L0SjW1dTpz2zRz9iD2jbVidYx4E7lp+J34vzq4vPi81/yYPnXAt4FHAVHCWsRGRcnFsYVURqeH88fuh34HKwe8iBuHxMb4xq6HVkdURpRGlkdDR8oHQUczx+LJMkjFCLQJnEtMy5cK04seDBIMIwrRimaKncp+SPPH24f+By4FmsRtw/SDagJcAYcBRwF+QOmAtcC+QOYA8kD0AbmCKgJygrgDGMOxA6UDmMOMw4zDtIN0g0QDe0LjAtcC9gJJAiSB5IHAQfQBmIHtQh3CdgJXAuhDaENcQ31DjoRXRJdEoATNBVXFogW6RbbF80YLhlfGSEashrjGqQbZhyXHJcciR1LHqwePR//H8EgwSDBIFMhsyFTIcEg8iAiIZEgzx89Hw0frB6JHZccBRx0G4IawBn+GAsY6RYnFgQV4RMfE5sR5w/1DqENvQvYCYUIMQfeBfkDgwFgAND/HP5o/EX78fnP+Nz3S/dY9mb1pPQT9IHz8PIu8p3xbPHb8EnwuO/27pXuBO4R7bDs7utd65vqa+o66njpF+m26PXnxOf15/Xn9edW6LboSOnZ6Wvqm+pd6+7rEe0E7sbuuO/b8M3xLvKP8vDy4vOk9HT01fQF9Tb1dPTi84Hz8PJf8mzx2/B68Ljv9u407hHtvuvM6grqtuj152Pn0uYQ5q/lHeUr5JrjCOOn4hbiFuLl4YXhVOGF4RbiteHz4FThRuK14cPg8+CF4WLg3t5N3g7ffd433Kbb+dz53LTakdny2VPaYNme2DDZ8tmD2nXbN9zJ3Lvdrd4O36Df8+AI4/vjjOTS5o7rZe6V7nrwx/XB+VL6FPvQ//kDfQU/BgkKJQ+pEOcPzBFXFnoXchRyFDwYwBlKFzQVShchGp0Y9hVsGDYcdBuCGvgc/x/yIGAgYCCYI0wlaCPJI9Am0CaLJPkjmCMiIXseBRzAGdsXxhWxE/wRSBBjDhAN7Qs5CkcJdwnYCUcJdwkrC68MrwweDEEN9Q4lD2MOVg95EEgQJQ8lD1YP0g2vDB4MTgxODMoKOQpcC1wLdwlHCQkKCQoJCjkKXAuvDBANcQ0lD+cPGBA6Eb4S7xKxEzQViBZ6F9sXbBjwGYIashqkG5ccxxzHHIkdex57Hroduh0NH6weGx66HUseuh2XHDYclxwFHIIaIRrjGsAZbBiqFxkXiBY0FbETUBNdEqkQhg/1DqENjAs5CncJtQgBB00FWgSYA7QBAABv/xz++fzW+7P6kPlu+Ev3KPY29eLzv/LN8Tzx2/AZ8IfvJ+9l7gTuBO6j7eHs4ezh7OHssOyA7IDsgOzu677rT+xP7L7r7uvu6x/sH+y+60/ssOxC7XLt0+327rjvGfDb8J3xj/KB8xP0pPSX9Yn2ifaJ9nv3rPca94n2ufa59ij2NvUF9QX1Q/Qg81/yX/L+8Tzx6O+H71fvBO5y7RHtgOy+613r/Oqb6qnp2ekK6hfptujn6Hjp5+hW6Ofo2emp6UjpOuot68zqCupr6vzqzOqp6Ujpa+rZ6SXolOfE52Pnr+Vc5O3kHeXK4wjj++PK45rjmuOM5E7lHeVO5XHmlOcC59Lmhuh46dnpa+q+60Ltxu647wvxUfOk9Cj2bviD+tb76/3Q/yIBaAMcBX0FMQcJClwLKwu9C9INVg+UDjMOSBC+EvwRChEfEycWiBZyFNMUzRjwGQsYqhchGkMbwBnNGPAZURoLGIgW6RaIFhIUjhKOEpsReRC3D7cPhg/EDiUPeRAYEPUOeRD8EZsR2RCbEVATUBM6EToRjhJ5ENINMw7EDhAN+woJCisLmgokCGIHhQiFCGIHwwdHCdgJ2Ak5Cu0L4Ax/DK8MAg7EDsQO9Q5WD1YPVg+3DxgQ5w/nD3kQOhFrEfwRvhLhE3IUBBWIFnoXCxj+GFEashqCGoIaQxt0G4Ia8BkhGsAZPBjpFukWiBYEFYATHxPvEmsReRC3D4YPJQ8zDgIOAg7gDO0L7QuMCzkKFgkkCDEHDwa7BDgD5AHBAND/TP4p/XX7IvrP+Kz3ifZm9QX1E/SB81Hzv/Iu8s3xbPEL8QvxqvB68KrwqvBJ8BnwGfCH7yfvxu407pXuNO407mXuZe5l7pXu9u4n74fv6O968DzxzfGP8vDygfPi86T01fQ29Zf1x/XH9cf19/WX9Wb1BfUF9QX1dPRD9HT0dPR09KT0Q/TV9AX11fQ29Wb1ZvWX9Zf1l/WX9Wb1pPSk9OLzIPOP8i7ybPHb8KrwGfC477jvh+/o7xnwGfB68Gzx/vGP8iDzE/QF9QX1ZvWX9cf1x/WX9Tb1BfUT9LLz8PKP8v7xbPF68Enw6O+474fvV++47xnwSfDb8J3xX/K/8r/yUfND9HT0Q/TV9Mf19/Uo9on2ufZ793v3Dfgw+SL65PrW+1r9rf6g/wAAwQDkAdcCaANaBOwErgUPBj8GcAbQBnAGoAZwBqAGAQeSB5IHhQhHCdgJOQpcCx4MrwyvDHENlA7EDgIOYw6GDyUPMw4zDjMOcQ3tC1wL+wppCuYIJAhUCCQIkgdiB/MH5ggWCUcJaQqMC70LHgzgDHENoQ0QDRANEA1/DFwLaQrYCbUIkgc/Bk0FuwTJAzgDaAM4A2gDiwRNBT8GAQeFCKgJmgpcC68M0g31DrcPqRBrEWsRmxH8EWsRqRCGD1YPJQ9jDqENcQ1xDXENoQ3SDTMOlA5WD+cP2RA6EcwRjhLvEh8TUBNQE74S/BHMEToRGBCUDnENHgz7CncJJAgxB3AGTQUqBPkDOAO0ASIBIgHBAAAAAADQ/9D/P/+t/uv9Kf0H/HX7s/rB+Z74DfhL94n2l/UF9aT0E/Sy84HzsvNR8/Dyv/K/8o/yj/K/8l/yj/KP8o/yj/Jf8i7yj/K/8r/yIPOB87LzE/Sk9AX1ZvXH9bn2S/d799z3bvie+G74bvhu+A343PcN+J74Pfjc9z34z/jP+M/4YPnB+VL65PpF+wf8+fz5/Fr9TP6t/t7+rf4O/z//Dv8c/uv9u/2K/cj81vs3/Af8Rfuz+oP6UvpS+iL6Ivoi+oP6s/qz+rP65Prk+rP6g/rB+fH5wfmQ+TD5YPlg+f/4z/jP+J74Dfis93v3Gvfq9ur2ufa59ur2WPa59rn2WPYo9ij2ifZY9rn2ifbq9nv3bvjP+DD58fmz+kX7pvto/Cn9iv1M/q3+oP8AAAAAkQCRAPIAIgFTAfIAIgG0AXYC1wLXAjgDiwRNBd4FDwbQBiQItQgWCdgJygqaCvsKXAuMC/sKaQppCmkKCQoWCVQIJAiSB2IHcAYPBt4FfQUcBbsEKgRaBOwEiwSLBH0F3gXeBX0FrgXeBX0F7AQcBa4FTQWLBCoEiwTJA0UCgwGDASIBkQDBAPIAUwEiAVMBgwEiAZEAIgGDASIBIgFTARUCpgJ2AnYCaAPJA/kDuwRNBX0FPwbQBmIHwwckCLUIRwmoCdgJaQppCtgJqAmoCXcJtQgkCPMHJAjzB5IHkgfDBzEH0AYPBg8G3gV9Ba4F3gXeBa4FrgUcBewEuwT5AwcDpgJFArQBwQAAAKD/P/99/lr9mPw3/HX7g/rB+TD5bvh79xr3S/ca97n2ifYa96z3e/d79w34bvie+J74z/gw+ZD5wfnB+ZD5MPnP+D34rPfq9lj2x/UF9dX01fQ29Tb1l/WJ9tz3Pfie+PH5pvsH/Pn8HP4O/6D/AAAAADAAAACg/z//rf6K/cj8B/wU+yL6MPme+J74//j/+MH5FPsH/Pn8TP5v/wAA8gCDAaYCaAMqBFoEiwRaBMkD1wJ2AoMBkQAAAKD/Dv8O/63+rf4O/z//oP8AADAA8gDkAXYC1wLJA1oEuwQcBRwFuwS7BCoEmAMHAxUCUwGRAAAAoP8O/33+HP5M/hz+TP59/t7+3v4//6D/0P/Q/wAAAAAwAPIAgwG0ARUCRQLkAVMBUwEiAcEAwQDBAMEAwQDBAPIAUwEiAVMBgwHkAUUCpgJoA1oEuwRNBQ8GAQdiB5IHVAjmCBYJFgm1CIUIVAgkCJIHoAYPBn0FuwTJA9cCFQKDAfIAwQCRAJEAwQBTAbQBdgKmAjgDyQOLBIsEWgQqBMkDaAPXAkUCUwGRAAAAb/99/or9N/x1+0X75Pqz+rP6pvuY/Pn8u/2t/j//P/+g/wAAYADBAMEAUwG0AVMBkQAwAGAAAACg/2//b/8//z//0P8AAAAAkQC0AaYC1wJoAyoE7ARaBCoEiwRaBPkDmAOYAzgD1wLkAYMB8gBgADAAMAAAADAAYADyACIBUwFTARUCRQIVAuQBtAFTAcEAkQAAAD//TP6K/Sn9aPx1+7P68fmQ+f/4nvie+G74DfgN+G74Pfjc93v3S/ca91j2x/Vm9Tb1NvV09EP0dPRD9BP0E/RD9KT0dPTV9Gb1NvU29Zf19/Uo9on2ifYa9xr36va59kv3Gve59ur2e/es99z3bvhg+fH5UvpS+hT7pvt1+6b7aPyY/Gj8yPyY/Pn8+fxo/Mj8mPw3/Nb7aPyY/Pn8Wv1M/q3+Dv+g/wAAkQDyAIMB5AEVAnYC1wIHA9cC1wIHAzgDOAMHAzgDyQOYAzgDaAPJA/kDKgQqBLsETQVNBRwFrgVNBU0FfQVNBRwFiwSLBIsE7ARaBFoEuwTsBFoEKgRaBIsEuwSLBIsE7ATsBBwFuwSLBFoE+QOYA2gDOAMHAwcDBwMHAwcDBwM4A8kDiwTsBH0FAQfzB4UIRwmaClwLvQseDH8M4AzgDH8M4AzgDE4MjAsrC/sKaQrYCUcJtQiFCIUItQgWCUcJdwnYCdgJOQppCpoK+worC4wLjAu9C4wL+wppCqgJRwkkCJIHoAbeBRwFWgSYA9cCRQK0ASIBIgHBAMEAwQDBAJEAkQCRAJEAMAAwAAAAAAA//97+TP6K/Sn9yPwH/Kb7Rfvk+lL6UvrB+cH5kPnB+cH5wfnx+SL6s/rk+hT7pvt1+9b7N/wH/Af81vsH/Gj8yPz5/Cn96/19/kz+HP4c/hz+6/1a/Vr9u/27/bv9u/2K/Yr9+fxo/Af81vum+9b71vsH/Jj8+fxa/bv9TP5M/n3+TP4c/or9yPw3/Nb7s/qQ+c/4bvis91j2NvUF9aT0svNR8+LzdPTV9Db1x/Uo9rn2Gvca9xr3S/dL9xr3Gvfq9on2KPbH9QX1Q/Sy81HzIPO/8vDy8PIg87LzdPTV9Jf19/WJ9nv3Pfhu+DD5Ivqz+uT6FPvk+hT7Ivpg+TD5MPnP+G74bvjP+J74bvg9+J74MPnB+VL6FPs3/Pn8iv3r/X3+3v4//6D/0P/Q/wAAAAAAAAAAAAAAAAAAMABgAJEAwQAiAYMB5AFFAnYCOAPJA8kDWgTsBBwFHAXsBOwEHAUcBewE7ATsBLsEiwS7BLsEWgSLBIsEuwS7BLsETQV9Bd4FfQWuBQ8GDwauBU0FfQV9BRwFuwSLBFoEKgT5A8kD+QNaBFoEKgSLBOwETQV9Bd4FcAYBB5IH8weFCOYIdwmoCdgJCQppCsoK+wr7CisLjAu9C+0LHgweDH8M4AzgDK8MEA0QDRANEA3gDBANEA0QDRAN4AzgDOAMrwyvDH8MTgweDL0LvQu9CysL+wr7CsoKmgoJCqgJRwkWCVQIYgcxB9AG3gVNBbsEWgSYA9cCFQK0ASIBkQAAAAAAoP+g/6D/b/8O/z//b/8//97+Dv8//z//Dv/e/j//P/8O/97+Dv/e/q3+rf7e/n3+ff4c/rv9iv0p/fn8Kf3I/Mj8mPz5/Pn8yPz5/Pn8+fxa/Vr9Wv1a/Vr9iv27/bv9HP6t/q3+rf6t/q3+ff4c/rv9Kf0p/Zj8B/x1+0X7s/oi+sH5//hu+A34rPca91j2KPZY9on2WPaJ9ur2e/fc99z33Pfc90v3Gvfq9rn2KPbH9cf1ZvUF9UP0svOB8/Dyj/KP8o/yj/Ig81HzgfOy80P0pPQF9QX1NvU29Zf1ZvU29QX1NvVm9cf19/X39cf19/X39Zf1ZvWX9cf1KPZY9on2e/fc9w34PfjP+GD5MPnB+fH58fki+iL6s/qz+rP65PpF+3X7dfvW+2j8+fwp/Vr9u/19/g7/Dv9v/6D/AAAAAAAAYADyACIBUwG0AeQBRQKmAqYC1wLXAjgDyQOYA5gDmAPJA2gDaAMHAzgDmAMHAwcDaANoAzgDBwM4A5gDyQOYA8kD+QNaBFoEWgSLBBwFTQV9Ba4FfQV9BU0FHAW7BIsEiwS7BOwEuwS7BOwEHAV9Bd4FoAYBB8MHhQh3CQkKygqMCx4MrwxBDQIOYw7EDpQOlA5jDgIOoQ0QDUEN4AyvDK8MrwxODB4Mfwx/DO0LHgx/DBANEA0QDUENoQ0CDtIN0g0CDgIO0g1BDRANfwztCysLygqaCtgJRwnmCIUIwwcxB6AGfQVNBU0FiwQqBCoEiwRaBPkDyQOYA2gDaAPXAtcC1wIVAoMBgwEiATAAAAAAAG//b/8//z//3v7e/n3+TP4c/uv96/27/bv9HP7r/Rz+HP7r/Rz+TP5M/uv9u/3r/Uz+6/3r/Rz+6/3r/ev96/0c/uv9Kf35/Pn8mPwH/Nb71vvW+0X75Prk+hT7g/pS+vH58fnx+SL6wfki+lL6Uvoi+iL6IvrB+ZD5YPkw+c/4Pfis9xr3ifYo9vf19/XH9Wb1ZvWX9Zf1NvU29Zf19/Uo9ij2ufZL96z3rPes96z3S/fq9rn2WPZY9vf1x/XH9cf1ZvWX9Wb1ZvVm9cf1KPb39Sj2ufZL93v3S/d79z34bvgN+A343Pc9+A34rPes9z34bvg9+J74//j/+GD5kPki+rP65PrW+zf8yPz5/Ir96/0c/kz+TP59/n3+rf7e/j//b/+g/wAAMAAwAJEA8gBTAbQB5AFFAgcDaAOYAyoEWgQqBCoE+QNoAwcD1wJ2AkUC5AG0AYMBtAHkAeQB5AHkARUCRQJ2AtcCBwMHA2gDOAPJA5gDmANoA5gDmAM4AwcDBwM4AwcD1wLXAqYCdgJ2AqYC1wIHA9cCBwM4A8kDyQMqBLsE7AR9BQ8GoAYxB8MHVAi1CEcJdwkJCmkKOQqaCvsK+wqaCmkKaQoJCqgJqAnYCdgJ2AmoCdgJCQrYCQkKOQppCmkK+worC70LHgweDB4MHgy9C1wL+wqaCgkKdwnmCIUIVAjzBzEH0AagBg8GDwY/Bj8G3gXeBQ8GPwYPBq4FrgUPBn0F7AS7BIsEyQM4A0UCFQKDAcEAkQAwAAAAAADQ/6D/P/8O/63+rf7e/t7+Dv9v/6D/oP+g/2//b/9v/z//rf59/n3+TP67/Yr9iv0p/cj8mPz5/Mj8mPyY/Mj8yPxo/Af8B/ym+3X7FPuz+iL6kPkw+Z74Pfjc93v3e/dL9xr3GvdL96z3Dfg9+D34nvgw+ZD5YPmQ+cH5kPmQ+TD5YPn/+J74PfgN+Hv3Gve59vf1x/Vm9Wb1NvWX9cf1KPa59hr3rPfc9w34nvjP+P/4MPmQ+ZD5kPmQ+cH5YPn/+G74Pfis93v3Gvca97n2ufa59rn26vZL9xr3rPcN+A34bvhg+cH58fmD+uT6RfvW+zf8mPyY/Jj8+fzI/Pn8+fxa/Yr9iv27/Uz+ff7e/m//0P8AADAAwQAiAYMBtAEVAnYCpgLXAmgDyQPJA/kD+QP5A2gDmANoA2gDOAM4A2gDaAM4AzgDaANoA5gDOAOYA8kDyQNoA2gDmAM4A9cCdgLXAkUCRQLkARUC5AGDAYMBgwGDAYMBUwGDAbQB5AG0ARUCdgKmAtcCOAOYA8kDmAP5A/kD+QP5A/kDKgRaBLsEuwTsBIsEuwS7BLsE7AQcBRwFfQXeBT8GcAbQBjEHYgdiB2IHYgeSB2IHkgeSB5IH8wfzB/MH8wckCMMHYgcxB6AGcAZwBj8GPwbeBT8GcAY/Bg8GDwYPBq4FrgWuBX0FrgWuBX0F3gXeBU0FTQVNBewEiwQqBMkDyQNoA6YC1wLXAtcCpgKmAgcD1wKmAnYCdgJ2AuQBgwG0ASIBkQCRAGAAAAAAAAAA0P8AAND/P/+g/2//P/8O/2//oP/Q/9D/AAAAAAAAAAAAAAAA0P9v/2//Dv+t/kz+HP67/Vr9mPxo/Af8pvvk+rP6s/pS+oP6g/rk+hT7FPvW+wf8N/w3/Af8B/w3/Af8B/w3/Df8aPwH/Nb7B/zW+0X7s/oi+iL6wflg+Z74nvjP+G74Pfg9+D34Pfg9+G74nvie+G74bvie+DD5MPkw+ZD5wfnx+fH5Ivrx+ZD5YPlg+ZD5YPlg+WD5MPn/+M/4z/hu+A34PfgN+Nz33Pfc9z34Pfj/+JD58flS+rP6dfvW+9b7B/w3/Jj8yPyY/Fr9iv27/bv9u/2K/Vr9Wv2K/ev9u/3r/X3+Dv8//6D/AABgAPIAUwG0ARUCRQLXAmgDaANoA8kD+QP5AyoE+QP5A8kDmANoA5gDaAM4A2gDOAMHAzgDaANoA2gDOAMHAzgDaAMHAwcDBwM4A9cCOAMHAzgDOAPXAgcDaANoA2gDaAOYA/kD+QPJAyoEiwQqBCoEKgSLBIsEiwS7BLsEuwS7BLsEWgSLBLsEiwSLBIsEiwRaBCoE+QP5A/kDyQP5AyoEWgQqBIsE7ATsBLsE7AR9Bd4FPwZwBgEHYgfDByQIVAgkCPMH8weSBwEHoAagBj8GrgVNBRwFiwRaBIsEiwRaBCoE+QMqBIsEWgS7BLsEuwSLBIsEiwSLBMkDmAOYAzgD1wLXAnYC5AGDAVMBwQCRAGAAAAAAAAAAMAAwAAAAMAAwAGAAYABgAPIAwQDBAJEAkQCRAGAAAAAAAAAAAAAAAAAA0P/Q/6D/P/8//97+rf59/kz+HP4c/hz+HP4c/uv96/0c/kz+TP7r/bv9u/1a/Vr9Wv3I/Jj8aPw3/Af8B/ym+3X7dftF+0X7RfvW+zf8aPxo/Jj8mPzI/Pn8+fzI/Jj8mPwH/Kb7dfuz+iL6wfmQ+WD5//hu+G74bvg9+A34bvjP+M/4YPnB+SL6s/oU++T6FPtF+xT7FPsU++T6s/pS+iL6Ivrx+TD5MPlg+WD5kPmQ+ZD5wfnB+fH5IvpS+oP6s/rk+hT7dfum+6b71vsH/Df8aPyY/Pn8Kf1a/Yr9u/3r/Rz+HP59/n3+rf7e/t7+Dv8O/z//P/9v/6D/AAAAAAAAkQDBACIBgwEVAnYC1wJoA8kDyQNaBFoEWgSLBCoE+QPJA5gD1wJ2AkUC5AG0AYMBUwFTAVMBIgEiAVMBUwGDAbQBFQJFAnYC1wLXAgcDOANoA5gD+QPJA8kDmAPJA/kDmAOYA5gDmANoA2gDyQOYA8kDyQP5A/kD+QMqBCoEWgRaBCoEWgSLBCoEKgTJA8kDmAM4A9cCBwPXAqYCpgLXAqYCpgKmAqYC1wLXAtcCOAOYA/kD+QNaBIsEiwSLBIsEiwRaBFoEiwSLBFoEKgT5A8kDyQOYA5gDmANoA2gDOAM4AwcD1wKmAqYCpgKmAkUCdgJFAhUCFQLkAbQBtAG0AYMBUwGDAVMBIgHyAPIAkQCRAGAAYABgADAAMAAAAAAAAAAAAAAAAADQ/2//oP9v/2//b/+g/6D/0P8AAAAAAAAAAAAAAAAAAND/oP+g/9D/0P9v/2//P/9v/z//Dv+t/q3+3v6t/kz+TP6t/t7+rf7e/j//P/8//63+Dv/e/t7+ff4c/hz+TP5M/hz+6/3r/ev96/2K/Vr9iv0p/Sn9Wv0p/Sn9Kf3I/Cn9yPyY/Jj8yPxo/Df8pvvW+3X7RftF+xT7dftF+3X7dfvW+6b71vvW+9b7B/zW+9b7B/w3/Nb7dfum+3X7RfsU++T6s/qz+rP65Pqz+rP6FPsU+6b7pvvW+zf8mPzI/Pn8Kf35/Ir9iv2K/bv9u/27/bv9u/3r/ev9HP7r/Rz+u/3r/ev9TP59/t7+Dv8//9D/AAAAADAAYACRAMEA8gBTAbQB5AHkAXYCRQJ2AtcCpgKmAnYCdgJFAkUCFQJ2AqYCdgKmAqYC1wJ2AqYCRQJFAhUCtAG0AbQBgwFTAbQBtAG0AbQBtAG0AbQBtAHkAeQB5AFFAnYCdgJ2AtcCBwPXAtcC1wIHAwcD1wKmAtcC1wLXAtcC1wLXAjgDBwMHAzgDOAM4AwcDOAM4AzgDaAOYA8kDmAOYA8kDmAPJA8kDyQPJA5gDmAPJA8kDmANoA5gDmAOYAzgDBwPXAgcDdgJ2AkUC5AHkAUUCFQK0AeQB5AHkAbQBtAHkAeQBgwG0ARUCgwFTASIBIgHBAJEAkQBgADAAAAAAAAAAb/8O/w7/3v6t/n3+TP59/n3+HP7r/ev9HP7r/ev9HP5M/kz+TP5M/kz+TP5M/kz+TP5M/n3+ff59/n3+ff4c/kz+TP5M/kz+ff59/n3+TP5M/q3+ff5M/q3+3v7e/t7+rf6t/q3+3v7e/t7+3v7e/q3+rf6t/kz+HP5M/q3+TP4c/kz+TP4c/hz+HP5M/kz+6/3r/a3+rf5M/n3+ff59/hz+TP5M/kz+ff7r/Rz+HP4c/uv9HP4c/hz+6/3r/Rz+6/3r/ev9HP5M/hz+6/0c/rv9u/27/ev96/27/bv9u/0c/uv9u/27/bv9iv2K/bv9u/2K/Sn9Kf2K/Vr9Wv35/Ir9u/27/bv96/19/n3+rf6t/g7/Dv9v/6D/0P8AAAAAAAAAAAAAAAAwADAAYABgAGAAkQCRAGAAYACRAJEAkQBgAMEAkQCRAJEAwQDBAMEAIgFTAYMB5AHkAUUCdgKmAnYCpgKmAqYCpgLXAjgDOAOmAnYCRQJ2AuQBgwGDAYMBUwEiAfIA8gAiASIB8gDyAPIAIgEiAVMBgwG0AYMBtAHkARUCRQJ2AkUCRQJ2AnYCRQIVAhUCRQJFAkUCRQJFAhUCdgJFAnYCRQJ2AnYCpgKmAqYC1wLXAtcCOAM4A2gDBwMHAzgDaAM4AwcDOANoAwcDBwM4AwcDdgJFAkUCRQIVArQBUwFTAVMB8gCRAGAAkQCRAAAAAAAAAAAAAAAAAAAAAAAAAAAAAAAAAAAAAAAAAAAAAAAAAAAAAAAAAND/AACg/z//b/8//z//3v59/n3+HP7r/bv9Wv1a/Vr9Wv1a/fn8yPzI/Mj8yPzI/Mj8+fwp/Yr9iv27/bv9iv27/Yr9u/3r/Yr9u/2K/Yr9iv2K/Sn9Wv0p/Sn9Kf35/Cn9Kf1a/bv9iv3r/Rz+TP59/n3+ff6t/q3+3v7e/g7/P/9v/2//b/8//z//Dv/e/q3+rf59/kz+TP5M/n3+6/2K/ev96/27/bv9HP4c/rv96/19/n3+rf7e/g7/P/9v/2//b/+g/2//b/+g/6D/b/+g/2//b/9v/2//P/9v/2//b/9v/2//oP+g/6D/oP8AAAAAAAAAAAAA0P/Q/6D/oP+g/2//oP8AAAAAAAAAAAAAAAAAAAAAAAAAAAAAYABgAJEAkQBgAJEAwQCRAJEAYABgAMEA8gCRAJEA8gAiAfIAIgG0AeQBFQJFAkUCpgIHA9cCpgIHAzgDOAPXAtcC1wLXAqYCRQJFAkUCRQIVAhUCFQIVAkUC5AEVArQB5AEVAkUCRQJFAkUCpgJ2AnYCFQIVAkUCFQLkARUCRQIVArQB5AG0AbQBtAG0AYMBtAG0ARUC5AHkARUCFQIVAhUCFQJFAkUCFQIVAkUCRQJFAnYCdgJFAqYCpgJ2AkUCFQLkAUUCFQLkAeQB5AHkAYMBgwG0AbQBUwGDAYMBgwGDAVMBUwEiASIBIgGDASIBwQDBAJEAMAAwAAAAAAAAAND/0P+g/6D/b/8O/w7/Dv8O/z//3v4//z//oP+g/6D/oP+g/6D/oP+g/z//P/8//w7/rf6t/n3+HP4c/rv9Wv0p/cj8mPyY/Gj8mPyY/Mj8Kf0p/Sn9Kf0p/Sn9Kf0p/Sn9Kf0p/fn8+fz5/Mj8mPxo/Gj8aPw3/Af8N/xo/Df8B/w3/Df8mPzI/Mj8+fz5/Pn8Wv2K/Yr9Wv2K/bv9u/0c/uv9u/0c/hz+TP4c/hz+TP4c/hz+6/1M/hz+HP7r/X3+TP59/n3+ff59/n3+ff59/t7+3v4//z//P/+g/6D/b/+g/2//oP+g/6D/oP+g/9D/oP+g/6D/0P/Q/wAAAAAAAAAAAAAAAAAAAAAAAAAAMAAAADAAMAAwAAAAAAAAAAAAAAAAAAAAAAAAADAAMAAwADAAMABgAGAAYABgAGAAYADBAPIA8gDyAFMBIgEiAYMBgwFTAVMBUwGDAVMBUwFTAVMBgwHkAeQBtAEVAhUC5AFFAnYCdgLXAgcDBwM4A2gDmAOYA5gDmANoA2gDOANoAzgDOAPXAgcD1wKmAnYCFQJFAhUCtAG0AeQB5AHkAeQB5AFFAkUCRQJ2AtcCpgKmAqYCBwMHA9cC1wI4AwcD1wLXAtcCpgJ2AnYCRQJFAhUCFQLkAeQB5AG0AbQBgwGDAbQB5AHkAbQB5AEVAuQBtAG0AbQBtAGDAVMBgwGDAVMBIgFTAVMBUwEiAfIA8gDyAPIA8gDyAMEAwQDyAPIAwQDBAJEAwQDBAGAAYABgADAAAAAAAND/oP+g/w7/rf7e/q3+ff59/n3+TP59/kz+TP5M/hz+TP4c/hz+HP7r/Rz+6/3r/Yr9u/27/Yr9Kf35/Mj8mPyY/Df8N/wH/Af8B/zW+6b71vum+6b7pvum+6b7B/zW+6b7B/zW+wf81vsH/Nb7pvum+9b7pvt1+3X71vum+0X7dfvW+9b7pvum+6b7N/wH/Nb7N/xo/Gj8mPyY/Pn8Kf1a/Sn9Wv2K/Yr9Wv2K/fn8+fz5/Pn8yPyY/Mj8yPzI/Jj8mPzI/Pn8+fz5/Fr9u/27/Rz+HP5M/n3+ff4O/w7/b/8O/z//b/+g/2//oP+g/6D/0P/Q/6D/0P8AAAAAAAAAAAAAMAAwAGAAYABgADAAYACRAJEAkQCRAMEA8gDyAPIA8gDyAMEA8gAiAVMBUwGDAbQB5AEVAhUCRQJ2AqYC1wIHAwcDBwMHA9cCBwM4AzgDOAMHAzgDOAM4AzgDBwM4A2gDOANoA5gDmANoA2gDmAOYA5gDmAPJA8kDmAOYA5gDyQOYA5gDmAPJA5gDaAOYA5gDaANoA2gDOAM4A6YC1wLXAtcCpgKmAqYC1wKmAqYC1wKmAqYCpgKmAqYCpgKmAqYCpgLXAqYC1wLXAnYCpgKmAnYCRQJFAhUCRQJFAuQB5AEVAhUCtAG0AbQBtAGDAbQBtAGDAVMBgwHkAYMBUwGDAbQB5AGDAYMBtAG0AVMBgwFTAVMBUwHyAMEAwQDBAJEAYAAwADAAMAAAAAAAAAAAAAAAAAAAAND/oP9v/2//b/9v/z//P/9v/w7/Dv/e/g7/3v6t/q3+rf6t/n3+TP5M/hz+6/3r/bv9Wv1a/Yr9Wv35/Mj8+fz5/Gj8N/zW+wf81vvW+9b71vvW+9b71vvW+9b7B/wH/Kb71vvW+wf8B/wH/Af81vum+9b71vt1+3X7Rft1+0X7dftF+0X7RftF+3X7RftF+3X7pvvW+6b71vs3/Df8B/w3/Jj8yPzI/Mj8yPzI/Mj8yPzI/Mj8yPzI/Jj8mPzI/Mj8+fz5/Pn8Kf0p/Vr9Wv2K/Rz+6/0c/n3+rf59/q3+3v7e/t7+Dv8O/z//P/9v/2//oP8//z//oP8AAKD/oP8AAND/0P/Q/wAAAAAAAAAAAAAwAGAAYADBAMEA8gDyAPIA8gAiASIBIgFTAYMBgwGDAVMBgwGDAeQB5AHkARUCRQJFAnYC1wIHAwcDBwMHA5gDyQOYA5gDyQP5A8kDyQPJA8kD+QPJA8kDyQOYA8kDyQPJA5gDyQP5A/kD+QP5AyoE+QNaBFoEiwRaBFoEWgRaBCoEyQPJA5gDaANoAzgDBwPXAqYCBwPXAtcC1wLXAgcD1wLXAtcC1wIHAzgDBwM4AzgDOAM4AzgDBwM4AwcD1wIHA6YCBwPXAnYCpgJ2AhUCFQLkARUC5AHkAeQBtAHkAbQBtAG0AbQB5AHkAeQBtAG0AbQB5AG0AeQBtAHkAeQB5AG0AYMBUwFTASIBUwEiAfIA8gCRAJEAwQCRADAAMAAwADAAAAAAAAAAAADQ/9D/0P/Q/6D/oP+g/6D/b/8//97+3v6t/q3+rf7e/q3+rf59/n3+TP5M/kz+TP4c/uv96/27/bv9iv0p/Vr9+fz5/Jj8mPyY/Gj8N/w3/Df8N/wH/Af8N/w3/Df8B/w3/Df8N/wH/Af8aPw3/Df8N/xo/Gj8N/wH/Df8B/ym+6b7pvum+6b7dft1+3X7dfum+9b7B/ym+9b7B/w3/Af8N/w3/Jj8mPyY/Mj8mPzI/Mj8+fz5/Mj8+fz5/Mj8+fz5/Pn8yPz5/Cn9Kf35/Cn9Kf0p/Sn9Kf1a/bv9u/3r/Rz+TP5M/q3+rf6t/q3+Dv8O/w7/P/9v/6D/oP+g/6D/0P+g/6D/oP/Q/9D/0P/Q/wAAAAAAAAAAAAAAAGAAMABgAGAAkQDyAMEAkQDBACIBIgFTAYMBgwG0AeQB5AFFAkUCRQJ2AqYCpgKmAgcDOAM4AzgDaAPJA5gDyQNoA8kDyQOYA8kD+QP5A/kDKgQqBCoEKgT5AyoEWgT5A/kDKgRaBCoE+QP5AyoE+QPJA8kDyQPJA5gDmANoA5gDaANoA2gDmANoA5gDaANoAzgDOANoA2gDBwMHAzgDOAM4AwcDBwMHAwcDBwMHAzgDOAMHAwcDBwMHA9cCBwOmAnYCpgKmAnYCRQIVAhUC5AG0AYMBtAG0AYMBgwFTAVMBUwFTASIBUwGDAbQBgwGDAbQBtAGDAYMBtAG0AYMBgwG0AVMBUwHyACIBIgHyAJEAYACRAGAAMAAwAAAAMAAAADAAAAAAAAAAAADQ/6D/b/9v/2//P/9v/z//P/8//z//P//e/q3+3v4O/63+3v6t/n3+rf59/hz+ff4c/uv96/0c/rv9iv1a/Vr9iv0p/fn8+fz5/Pn8yPzI/Jj8mPyY/Jj8mPw3/Df8N/xo/Df8N/wH/Af81vum+wf81vum+3X71vum+6b7pvvW+9b7B/zW+9b7B/wH/Af8aPw3/Gj8N/xo/Gj8aPxo/Jj8mPyY/Gj8mPyY/Jj8yPz5/Pn8+fz5/Pn8Kf0p/Sn9Kf1a/Sn9Kf2K/Yr9u/27/bv9iv27/ev96/27/ev96/1M/kz+TP59/q3+3v7e/t7+P/9v/2//oP+g/6D/AAAAAAAA0P/Q/9D/AADQ/wAAAAAAAAAAAAAAAAAAMAAAADAAYABgAJEA8gDyAPIA8gDyACIBIgFTAVMBgwHkAeQB5AFFAhUCRQJ2AnYCpgLXAtcCBwMHAzgDOANoAwcDBwM4AzgDOAM4AwcDOAM4AzgDOAMHAzgDOANoAzgDaANoA5gDyQPJA8kDmAOYA/kDyQOYA5gDmAOYA5gDmANoA5gDaAM4A2gDaANoAzgDaANoAwcDOAM4AwcDOAMHAwcDOAM4AzgD1wIHA9cCpgKmAqYCpgKmAkUCFQJFAhUCtAEiASIBUwEiAcEA8gDyAPIA8gDyAMEA8gCRAMEA8gDyAPIAwQAiASIBIgHyAPIAIgHyAMEAwQDyAMEAkQBgAMEAkQBgAGAAMABgADAAMAAwAGAAMAAwADAAAAAAAAAAAAAAAND/AADQ/9D/oP+g/z//b/8//z//P/8//97+Dv8O/w7/rf59/t7+ff6t/n3+ff6t/n3+TP5M/kz+TP7r/ev9HP4c/hz+u/2K/Vr9Wv2K/Sn9+fz5/Cn9Kf35/Mj8mPzI/Mj8yPyY/Jj8mPyY/Mj8aPxo/Jj8mPzI/Pn8yPzI/Pn8+fzI/Mj8yPzI/Mj8+fz5/Mj8+fzI/Mj8mPzI/Gj8mPz5/Cn9+fz5/Ir9Wv1a/Yr9iv27/Yr9Wv27/ev9u/2K/bv9HP7r/ev9u/3r/Rz+HP4c/kz+HP5M/kz+ff5M/kz+ff6t/q3+3v4O/w7/Dv8//6D/oP9v/6D/AADQ/9D/0P/Q/wAAAAAAAAAAAAAAAAAAAAAAAAAAAAAwAAAAAAAAADAAYACRAJEAkQCRAMEAwQDyACIBIgHyAFMBUwFTASIBgwG0AVMBUwFTAYMBgwG0AeQB5AEVAhUC5AHkAeQBFQIVAnYCdgJ2AqYCpgLXAqYCpgKmAqYCpgKmAqYC1wLXAtcC1wLXAgcD1wIHAwcDBwMHA9cC1wIHA9cC1wKmAgcD1wLXAtcCpgLXAqYCdgJ2AnYCFQIVAhUC5AG0AYMBtAG0AYMBUwGDAYMBIgHyAFMBUwEiASIBIgFTAYMBUwHyAPIAIgHyACIBUwHBAPIA8gDyAMEAwQDBAPIAwQDBAJEAwQDBAJEAkQBgAJEAMAAwAJEAYAAwAGAAYABgADAAMAAwAAAAMAAwAAAAAAAwAAAAAAAAAAAAAADQ/9D/AAAAAAAAAAAAAAAAAADQ/9D/0P+g/9D/AAAAAND/0P+g/9D/b/+g/2//P/8//z//b/8//w7/3v7e/t7+rf59/q3+rf6t/n3+rf5M/kz+ff5M/uv96/27/Rz+6/3r/ev96/27/bv9u/27/bv9u/3r/bv9u/3r/ev9u/27/ev9HP4c/uv9u/3r/bv9u/27/bv9u/27/bv96/27/ev9HP4c/uv96/3r/ev96/27/ev9TP5M/kz+HP59/n3+TP59/kz+TP5M/kz+rf5M/n3+rf7e/t7+3v7e/g7/P/9v/z//P/8//z//b/9v/2//oP/Q/6D/oP+g/9D/AAAAAND/0P8AAAAAAAAAAAAAAAAAAAAAAAAAAAAAAAAAAAAAAAAAAAAAMAAAAAAAMABgAGAAYABgAJEAwQDBAJEAwQDyAPIA8gAiAVMBIgEiASIBUwEiAVMBIgGDAVMBIgEiASIBgwGDAVMBIgFTAbQBUwFTAVMBUwGDAVMBgwGDAYMBUwGDAVMBtAHkAYMBtAHkAeQBtAHkARUCFQLkARUCRQJFAhUCFQLkARUCFQJFAuQB5AHkAeQB5AG0AeQB5AHkAeQBgwG0AYMBUwEiAVMBUwEiAfIAIgFTASIBIgEiAVMBIgHyACIB8gAiAfIAwQDBAMEAkQCRAMEAkQBgAJEAkQBgAGAAkQAwAGAAYABgAGAAkQBgADAAYABgAGAAMAAwADAAYAAAAAAAMAAwAAAAAAAAAAAAAADQ/6D/0P/Q/6D/oP8AAND/0P/Q/6D/oP+g/6D/oP+g/6D/oP/Q/6D/oP+g/9D/oP+g/9D/b/+g/9D/oP9v/2//oP+g/6D/b/9v/6D/b/8O/w7/Dv8O/97+3v4O/97+3v59/t7+Dv+t/n3+rf7e/q3+ff59/t7+rf6t/t7+3v7e/t7+rf7e/t7+3v6t/q3+3v7e/g7/rf7e/t7+3v6t/q3+3v4O/97+rf7e/g7/Dv/e/g7/Dv8O/z//Dv8O/z//Dv8O/w7/P/9v/z//P/9v/2//P/8//z//P/9v/z//P/+g/2//b/9v/9D/oP+g/9D/0P8AAND/0P/Q/wAAAAAAAAAAAAAAAAAAAAAAAAAAAAAAAAAAAAAAAAAAAAAAAAAAAAAwAAAAAAAwAGAAYABgADAAYABgAJEAYADBAMEAwQDBAJEAwQDBAJEAwQDyAMEAwQDyAMEAIgHBAPIA8gDyAPIAIgEiAfIAIgHyAPIAIgEiASIBIgHyAPIA8gDyAMEA8gDBAMEAwQDBAPIAwQDyAPIA8gDBAMEA8gDyAPIA8gAiASIBIgHyAFMB8gDyACIBIgHyAMEAwQDBAMEAwQBgAJEAYABgAGAAMAAwAAAAAABgAGAAMAAAAAAAAAAwAAAAMAAwADAAMAAAAAAAMAAAADAAMAAAAAAAAAAAAAAAAAAAAAAAAAAAAAAAAAAAAAAAAAAAAAAAAAAAAAAAAAAAAAAAAAAAAAAAAAAAAAAAAAAAAAAAAAAAAAAAAAAAAAAAAAAAAAAAAAAAAAAAAAAAAAAAAADQ/9D/oP+g/6D/oP9v/2//b/9v/z//Dv8O/w7/Dv8O/2//b/8//z//P/8//z//P/8//w7/Dv8O/z//Dv8O/w7/3v7e/q3+3v7e/t7+rf59/q3+rf59/q3+rf6t/t7+rf6t/q3+rf7e/t7+3v7e/t7+3v4O/w7/P/9v/2//P/9v/2//b/8//z//P/8//2//oP9v/2//P/8//z//P/8O/z//P/8//2//oP/Q/6D/oP+g/6D/oP/Q/9D/AAAAAAAAAAAAAAAAAAAAAAAAAAAAAAAAAAAAAAAAAAAAAAAAAAAAAAAAAAAAAAAAAAAAAAAAAAAAAAAAMAAwADAAMABgAAAAMAAwAAAAMABgAJEAwQCRAGAAkQDBAMEAkQBgAJEAkQDBAMEA8gAiASIBIgEiAfIAUwHyACIBIgFTAVMBgwGDAYMBtAGDAYMBtAGDAYMBtAGDAbQBgwGDAVMBgwGDAVMBUwFTAYMBgwFTAVMBUwEiASIBIgEiAVMBIgEiAfIAIgEiAfIAIgEiASIB8gDBAPIAIgHBAMEA8gDBAJEAYACRAGAAYAAwAGAAkQBgAGAAMABgADAAAAAAAAAAAAAAAAAAAAAAAAAAAAAAAAAAAAAAAAAAAAAAAAAAAAAAAAAAAAAAAAAAAAAAAAAA0P/Q/9D/AADQ/6D/oP9v/6D/oP9v/2//b/9v/2//b/9v/6D/oP+g/9D/0P/Q/2//0P+g/2//b/+g/6D/b/+g/2//b/8//z//P/8//z//P/8O/z//P/8//w7/3v7e/q3+rf7e/q3+3v7e/t7+rf6t/n3+rf7e/t7+3v7e/t7+3v7e/g7/3v7e/q3+3v7e/q3+3v6t/t7+3v7e/q3+rf7e/t7+rf6t/q3+rf6t/n3+ff7e/q3+rf7e/t7+3v7e/g7/Dv/e/j//P/9v/z//P/8//2//P/8O/2//P/+g/6D/b/9v/6D/b/9v/2//oP+g/2//oP+g/9D/0P/Q/9D/AADQ/6D/0P/Q/wAA0P8AAAAAAAAAAAAAAAAAAAAAAAAAAAAAAAAAADAAYAAwAJEAkQBgADAAYABgAGAAMAAwAGAAYAAwADAAMAAwAGAAYABgAJEAYACRAMEA8gDBAPIAIgEiASIBUwHyACIBUwGDAVMBgwFTAbQBtAG0AbQBtAHkAbQB5AG0AeQB5AG0AeQBRQLkAbQBtAHkARUCtAHkARUCFQIVAhUCFQIVAuQB5AHkAeQBgwG0AbQB5AG0AYMBUwGDAYMBIgFTAVMBIgEiASIBUwFTAVMBUwGDAVMBUwEiAVMBIgEiASIBIgEiASIB8gDBAMEAwQDBAGAAkQAwADAAMAAAAAAAAAAAAAAAAAAAADAAAAAAAAAAAAAAAAAAAAAAAAAAAAAAAAAAAAAAAND/0P/Q/6D/oP+g/9D/oP+g/6D/b/9v/2//b/8//w7/P/8O/w7/3v4O/w7/3v7e/t7+3v7e/g7/Dv/e/t7+Dv+t/t7+3v7e/t7+rf7e/t7+ff6t/q3+ff6t/n3+TP6t/q3+ff6t/q3+rf59/n3+TP4c/hz+TP5M/hz+HP4c/kz+6/0c/hz+6/3r/ev9TP5M/kz+TP5M/n3+ff5M/n3+ff59/n3+rf6t/q3+3v6t/q3+rf7e/t7+rf59/q3+ff6t/q3+rf6t/t7+rf6t/g7/3v6t/t7+3v7e/t7+P/8O/97+Dv/e/j//P/8O/z//P/8//2//b/9v/6D/oP9v/6D/AADQ/9D/AAAAAAAAAAAAAAAAAAAAAAAAAAAwADAAMABgAGAAMABgAGAAYAAwADAAYACRAJEAYAAwAJEAkQAwAGAAYABgAGAAkQDBAMEAwQBgAMEAwQDBAMEAwQDBAPIAwQDyAPIA8gDyACIBIgEiAfIAIgFTAVMBUwGDAYMBtAG0AbQBtAHkAbQBgwG0AbQBtAHkAbQB5AG0AbQBtAHkAeQB5AG0AbQBtAHkAeQB5AG0AbQB5AHkAeQB5AEVAhUC5AEVAuQBFQIVAhUCtAG0AeQB5AG0AbQBtAHkAYMBtAGDAeQBtAGDAVMBtAG0AVMBUwGDAYMBUwFTASIBIgHyAPIA8gDBAPIAwQDBAMEAYABgAGAAMABgAGAAYAAAADAAAAAwADAAYAAwAGAAMAAAAAAAAAAAAAAAAAAAAAAA0P/Q/wAAoP+g/2//oP9v/2//P/8//z//P/8O/w7/3v7e/q3+rf6t/q3+ff59/kz+ff59/kz+ff5M/kz+TP4c/hz+ff59/kz+ff5M/n3+TP4c/hz+TP5M/hz+TP59/hz+HP4c/kz+HP7r/ev9HP5M/kz+6/0c/hz+6/27/ev9u/27/ev96/27/ev9HP7r/ev9HP4c/kz+ff59/n3+ff6t/kz+TP59/n3+TP59/kz+ff59/n3+TP59/n3+TP5M/q3+ff59/t7+Dv8O/w7/P/8//2//P/8//2//P/8//z//P/9v/z//P/8O/2//b/9v/2//b//Q/6D/b/9v/9D/oP/Q/9D/AAAAAAAAAAAAAAAAAAAAAAAAAAAAAAAAAAAwADAAMAAwAAAAYAAwADAAAAAwADAAAAAwADAAMAAwAGAAYABgAJEAYABgAGAAYADBAJEAwQDBAMEA8gDyAPIAwQDyACIBIgEiASIBIgFTASIBUwFTAVMBUwGDAbQBtAGDAYMBgwFTAYMBUwFTAbQBtAG0AYMBgwG0AbQBgwGDAYMBtAGDAbQBgwGDAVMBtAG0AeQB5AHkAeQB5AHkAbQB5AHkAeQBtAEVAhUC5AHkAeQB5AHkAeQB5AG0AbQBtAGDAYMBtAG0AYMBgwFTAVMBUwEiAfIA8gDyAMEAwQDBAMEAwQDBAJEAwQCRAGAAkQDBAGAAkQCRAJEAYACRAGAAkQCRAGAAYABgAGAAYABgADAAMAAwAAAAAAAAAAAAAAAAAAAAAAAAAAAA0P8AAKD/oP+g/2//b/9v/6D/b/9v/w7/Dv8//w7/ff6t/q3+ff59/t7+3v6t/q3+rf59/q3+rf59/q3+rf7e/q3+ff6t/q3+rf59/q3+rf59/kz+HP6t/hz+TP5M/kz+HP4c/hz+HP4c/hz+6/0c/uv9HP4c/uv9HP7r/Rz+HP4c/hz+6/3r/Rz+HP7r/ev9HP4c/hz+HP5M/hz+TP4c/hz+TP59/kz+HP59/q3+ff5M/n3+ff59/kz+ff59/q3+ff5M/n3+rf59/n3+ff6t/q3+rf6t/t7+Dv8O/97+Dv8//w7/3v4//2//P/8//2//oP9v/2//b//Q/9D/oP+g/9D/0P/Q/9D/AADQ/wAA0P8AAAAAAAAAAAAAAAAAAAAAAAAAAAAAAAAAAAAAAAAAAAAAMAAwADAAYABgAJEAYACRAMEAwQDyAMEA8gAiASIBIgEiAVMBUwGDAYMBgwGDAYMBgwGDAbQBtAG0AbQBtAG0AbQBtAG0ARUCFQLkAeQBFQIVAuQBFQJFAhUC5AHkAeQBFQLkAeQB5AEVAuQB5AFFAhUC5AEVAkUCRQJFAkUCRQJFAnYCFQJFAkUCRQJFAkUCRQJFAkUCFQIVAhUC5AHkAbQBgwG0AYMBgwG0AbQBgwGDAYMBgwGDAVMBUwFTAVMBtAFTAVMBUwFTASIBIgEiAfIAwQCRAJEAkQBgAGAAkQBgAJEAYACRADAAYABgADAAAAAwADAAYABgAAAAAAAAADAAAAAAAND/0P/Q/6D/b/9v/z//P/8O/z//P/8//z//b/8O/z//P/8//z//P/8//w7/Dv8//2//P/8O/z//P/8O/97+Dv/e/g7/3v4O/w7/Dv/e/g7/Dv/e/q3+rf7e/t7+rf6t/q3+rf6t/n3+rf59/kz+ff59/n3+ff59/kz+ff6t/n3+ff6t/q3+rf6t/q3+3v6t/t7+rf6t/q3+rf6t/n3+rf7e/n3+ff7e/t7+3v7e/q3+Dv/e/t7+rf7e/q3+3v6t/t7+3v59/n3+3v7e/q3+3v7e/g7/rf6t/g7/Dv8//w7/b/8//z//P/9v/z//P/9v/z//b/9v/z//b/9v/2//b/+g/6D/oP+g/9D/0P8AAAAAAAAAAAAAAAAAAAAAAAAAAAAAAAAwAAAAAAAwAAAAMAAwADAAYABgAJEAkQDyAMEA8gDyAMEAwQDyAMEA8gDBAPIA8gAiASIB8gDyAPIAIgFTAYMBUwG0AYMBgwG0AYMBtAGDAbQB5AG0AbQBtAG0AeQBtAG0AeQBFQLkAeQB5AEVAuQBtAHkAeQBtAHkAeQB5AHkARUC5AHkAeQB5AHkAbQB5AHkAeQB5AG0AbQB5AG0AeQBtAG0AbQBtAGDAYMBUwGDAVMBIgFTAfIA8gDBAPIAIgHyAMEA8gDyAPIAkQDBAMEAwQCRAJEAwQDBAMEAkQCRAMEAkQBgAGAAkQCRAJEAMAAwAGAAYABgADAAMABgAAAAAAAAADAAAAAAAAAAAAAAAND/AAAAAAAAAADQ/wAA0P/Q/9D/AAAAAND/0P8AAND/0P8AAAAA0P/Q/9D/0P/Q/6D/oP/Q/6D/b/+g/9D/oP9v/6D/oP+g/2//P/8//z//P/8//z//Dv/e/g7/Dv/e/t7+3v4O/97+3v7e/t7+3v7e/t7+3v7e/q3+rf6t/n3+rf6t/q3+ff6t/t7+3v6t/q3+3v4O/97+3v7e/g7/rf6t/t7+3v7e/q3+3v7e/t7+rf7e/t7+rf6t/q3+rf6t/n3+ff6t/q3+3v6t/t7+3v7e/t7+3v4O/63+rf7e/g7/3v7e/t7+Dv8O/z//b/9v/z//P/9v/6D/b/9v/6D/oP+g/9D/0P+g/9D/oP8AAAAAAAAAAAAAAAAAAAAAMAAAAAAAAAAwAAAAAAAAAAAAAAAwAAAAAAAAAAAAAAAwADAAAAAAAAAAMABgADAAYABgAJEAwQDBAJEAkQDBAJEAkQDBAMEAkQDyAPIAwQCRAJEA8gDBAJEAwQDBAMEAwQCRACIBwQDBAMEAIgHyAPIA8gBTAfIAIgHyAPIAIgEiAfIAIgEiAfIA8gAiASIBIgEiASIBIgEiASIBIgEiAfIAIgFTAVMB8gAiASIBIgHyAPIA8gDyAPIA8gAiAcEAwQDBAMEA8gDBAMEA8gDBAMEAwQCRAGAAkQBgAJEAYABgAGAAYABgAGAAYABgADAAYAAwADAAAAAwADAAMAAwADAAYAAwADAAMAAAAAAAMAAwAAAAAAAwADAAAAAAAAAAAAAAAAAAAAAAAAAAAAAAAAAAAAAAAAAAAADQ/9D/0P/Q/9D/oP/Q/wAAAADQ/9D/AACg/9D/0P+g/9D/oP+g/9D/0P/Q/9D/0P+g/6D/b/+g/z//P/8//2//Dv8//w7/3v7e/t7+3v7e/g7/Dv/e/t7+3v7e/t7+rf4O/w7/rf7e/j//Dv8O/97+b/8//z//Dv9v/2//b/8//z//P/8//z//P/8//z//P/8//z//b/8//2//b/9v/2//P/9v/2//b/8//2//b/9v/z//b/9v/z//b/9v/2//b/9v/z//b/+g/2//oP/Q/wAAAADQ/9D/AAAAAAAAAADQ/9D/AAAAAAAAAAAAAND/AAAAAAAA0P/Q/wAA0P8AAAAAAAAAAAAAAAAAAAAAAAAAAAAAAAAAAAAAAAAAAAAAAAAAAAAAAAAwAGAAAAAAAAAAMAAwAAAAAAAwAGAAAAAwAGAAMAAwAGAAYABgADAAYACRAJEAYABgAGAAkQCRAJEAkQCRAJEAkQCRAJEAkQCRAJEAkQDBAMEAkQDBAPIA8gDyAPIA8gDyAPIA8gDyACIB8gDyAPIA8gDyAPIA8gDyACIB8gDyAPIAwQDyAPIA8gDBAPIAIgEiAfIA8gDyACIB8gAiAfIA8gDyAPIA8gDBAPIA8gDBAMEAkQCRAJEAYACRAGAAMAAwAGAAkQBgADAAYACRADAAAAAAADAAAAAAADAAAAAAAAAAAAAAAAAAAAAAAAAAAAAAAAAAAAAAAND/AAAAAAAA0P8AAAAAAADQ/6D/0P+g/9D/oP/Q/9D/0P+g/9D/0P/Q/9D/0P/Q/9D/0P/Q/9D/0P+g/9D/oP/Q/9D/0P/Q/9D/oP+g/9D/oP/Q/6D/oP+g/6D/0P+g/6D/0P+g/6D/b/+g/9D/b/+g/2//oP+g/6D/oP+g/6D/b/8//2//b/9v/2//b/+g/6D/oP9v/6D/0P+g/6D/oP+g/9D/0P/Q/9D/0P/Q/6D/oP/Q/9D/0P/Q/9D/0P+g/6D/oP/Q/9D/oP/Q/9D/0P/Q/9D/oP/Q/6D/0P+g/9D/oP+g/wAA0P/Q/9D/0P8AAND/0P/Q/9D/0P/Q/wAA0P8AAAAA0P8AAAAA0P/Q/9D/AAAAAAAAAAAAAAAAAAAAAAAAAAAAAAAAAAAAAAAAAAAAAAAAAAAAAAAAAAAAAAAAAAAAAAAAAAAwADAAMAAwADAAMABgAGAAYABgAJEAwQAwAGAAkQCRAGAAYACRAJEAkQCRAGAAkQCRAGAAkQCRAGAAYACRAJEAwQDBAMEAwQBgAMEAwQCRAMEAkQDBAMEAkQDBAPIA8gDBAMEAwQDBAPIAwQDyAMEA8gDyAMEAwQDBAMEAwQCRAMEAkQCRAJEAkQBgAJEAkQBgAGAAYABgADAAMACRADAAMABgAGAAMABgADAAMAAwAAAAAAAwADAAMAAAAAAAMABgADAAMAAAAAAAAAAAAAAAAADQ/wAAAAAAAAAAAADQ/9D/AADQ/9D/AAAAAAAAAAAAAAAAAAAAAAAA0P/Q/wAAAAAAAAAAAADQ/wAAAADQ/6D/AAAAAAAAoP/Q/6D/oP+g/9D/0P+g/6D/0P/Q/6D/0P+g/9D/oP+g/9D/0P9v/6D/oP/Q/6D/b/+g/6D/b/9v/6D/b/+g/6D/b/+g/6D/b/+g/6D/oP+g/6D/0P+g/6D/P/9v/2//b/9v/2//b/9v/6D/b/8//2//b/9v/2//b/9v/6D/b/+g/6D/oP+g/6D/oP/Q/6D/oP+g/9D/0P+g/9D/oP/Q/6D/0P/Q/wAAAAAAAND/AAAAAAAAAAAAAAAAAAAAAAAAAAAAAAAAAAAAAAAAAAAAAAAAAAAAAAAAAAAAAAAAAAAAAAAAAAAwAAAAAAAwAAAAAAAAAAAAMAAAAAAAMAAwAAAAAAAAAAAAAAAwADAAMAAAADAAAAAwADAAMAAwADAAMAAwAGAAMAAwADAAYABgADAAMAAwAGAAYABgAGAAMABgAGAAYABgADAAMABgADAAYABgAGAAMABgADAAYAAwAGAAYAAwADAAMABgAGAAYABgAGAAYACRAGAAMABgAJEAYACRAJEAkQBgAGAAYABgAGAAMAAwAGAAYABgAGAAMAAwAGAAYABgADAAMAAwAGAAYAAwAGAAMAAwADAAMAAwAGAAMAAwADAAMAAwADAAMAAwAAAAMAAwADAAAAAwADAAAAAAADAAMAAAAAAAAAAAAAAA0P8AAAAAAAAAAAAAAAAAAND/AADQ/wAA0P/Q/wAA0P/Q/9D/oP+g/9D/0P+g/6D/oP9v/6D/b/9v/6D/oP+g/6D/oP+g/z//P/8//z//P/8//2//oP8//z//P/9v/z//P/8O/w7/P/8O/z//P/8//z//3v4//2//P/8O/w7/P/9v/z//P/8//2//b/9v/2//b/9v/2//b/9v/z//b/8//2//P/9v/2//b/9v/2//P/9v/z//b/8//6D/b/9v/2//oP/Q/6D/b/9v/2//b/9v/2//Dv9v/6D/b/9v/6D/oP+g/2//oP+g/6D/0P+g/wAAAADQ/wAAAADQ/wAA0P8AAND/AAAAAAAAAAAAAAAAAAAAAAAAAAAAAAAAAAAAAAAAAAAAAAAAAAAAAAAAAAAAAAAAAAAAAAAAAAAAAAAAAAAwADAAMABgADAAYACRAJEAkQBgAJEAkQDBAGAAkQBgAGAAYABgAJEAkQCRAGAAkQCRAMEAwQDBAMEAkQCRAJEAwQDBAMEA8gDBAMEAwQDBAMEAwQDBAMEAkQDBAJEAwQDyAPIAwQDBAPIAwQDBAMEAwQDyAMEA8gDBAJEAwQDBAMEAkQDBAJEAwQCRAJEA8gDBAGAAwQCRAGAAMABgAGAAYABgAGAAMAAwAAAAAAAAAAAAAAAAAAAAAAAAADAAAAAAAAAAAAAAADAAMAAAAAAAAAAAAAAAAAAAAAAAAAAAAND/AADQ/wAA0P/Q/9D/AAAAAND/AAAAAND/0P/Q/6D/b/9v/6D/oP9v/2//oP9v/2//P/9v/2//Dv8O/w7/P/8O/w7/Dv8//w7/Dv8//z//Dv/e/j//b/8O/w7/P/9v/z//Dv8O/97+3v7e/t7+3v7e/t7+Dv/e/t7+3v4O/z//3v4//z//P/8//z//b/8O/w7/b/9v/2//b/8//z//P/8O/w7/P/8O/w7/Dv8O/z//P/8O/w7/b/8//z//b/8//2//b/+g/2//P/9v/6D/b/+g/2//oP9v/6D/oP+g/6D/0P+g/9D/oP+g/6D/0P+g/6D/0P+g/6D/oP/Q/wAAAADQ/wAAAAAAAAAAAAAAAAAAAAAAAAAAAAAwADAAAAAAAAAAAAAAADAAAAAAAAAAAAAAAAAAAAAAAAAAAAAAAAAAAAAAAAAAMAAAAAAAAAAwAGAAYABgAJEAYACRADAAYACRAMEAYACRAJEAkQDBAMEAwQDBAMEAwQDBAMEAwQDBAPIA8gDBAMEAwQDBAMEAwQDBAMEAwQCRAPIAwQBgAJEAwQDBAPIAwQDyAPIA8gDBAMEA8gDyAMEAwQDyAPIA8gDyAPIA8gDyAMEA8gDyACIB8gDyAPIAIgHyAMEA8gAiAfIAkQDBAMEAwQCRAMEAwQDBAMEAkQDBAMEAkQCRAGAAYACRAJEAYAAwADAAYAAwADAAMAAwAAAAMAAwADAAMAAAAAAAAAAAAAAAMAAwAAAAAAAAAAAAAAAAAAAAAAAAAAAAAAAAAAAA0P8AAAAAAADQ/9D/b/+g/6D/oP9v/2//oP/Q/6D/0P/Q/9D/oP+g/6D/oP+g/wAA0P+g/9D/0P9v/6D/b/9v/2//b/9v/z//P/9v/z//P/8//2//b/8//z//b/9v/2//b/9v/z//b/9v/2//b/9v/z//P/9v/z//b/8//z//b/9v/z//P/8//2//b/9v/2//P/9v/2//b/9v/z//b/8//2//b/8//z//b/9v/z//b/8//6D/b/9v/2//b/9v/2//b/9v/6D/oP+g/2//b/+g/6D/0P+g/9D/AAAAAAAA0P8AAAAA0P/Q/wAAAAAAAND/AAAAAAAAAAAAAAAAAAAAAAAAAAAAAAAAMAAwAAAAAAAAADAAMAAAAAAAAAAAADAAAAAAADAAMAAAAAAAMAAwADAAAAAwADAAMAAwADAAMABgAGAAkQCRAJEAYACRAJEAwQCRAMEAwQDBAMEAkQCRAJEAkQCRAGAAkQDBAJEAkQCRAMEAkQCRAJEAwQCRAMEAwQDBAMEA8gDyACIBwQDBAPIAwQDyAMEA8gDyAPIA8gDyAPIAwQDyAPIAIgHyACIBUwEiASIBIgFTAVMBIgFTASIB8gBTAfIAIgHyAPIAIgEiAfIAwQDBAMEAkQCRAGAAkQBgAGAAkQCRAGAAkQBgAGAAYAAwADAAYAAwAGAAYABgAGAAMAAwADAAMAAwAAAAMAAAAAAAAAAAAAAAAAAAAAAAAAAAAAAAAAAAAAAAAAAAAAAAAAAAAAAAAAAAAAAAAADQ/9D/0P/Q/6D/oP/Q/6D/oP+g/6D/oP+g/6D/oP+g/6D/oP+g/6D/b/+g/6D/oP+g/9D/oP+g/2//oP+g/2//b/+g/2//b/+g/6D/b/+g/2//b/+g/6D/b/+g/2//b/+g/6D/b/9v/6D/b/9v/2//b/+g/6D/oP+g/2//oP+g/6D/oP+g/6D/oP+g/6D/oP+g/6D/oP+g/2//b/+g/6D/oP9v/6D/b/9v/6D/b/+g/6D/oP9v/6D/0P+g/6D/oP+g/6D/oP+g/6D/oP+g/2//oP+g/9D/0P/Q/9D/oP/Q/9D/0P+g/9D/oP/Q/9D/0P/Q/wAAAAAAAAAAAAAAAAAAAAAAAAAAAAAAAAAAAAAAAAAAAAAAAAAAAAAAAAAAAAAAAAAAAAAAAAAAAAAAADAAMAAwADAAAAAwAAAAAAAAAAAAMAAwADAAMABgAGAAMAAAAGAAMABgADAAYABgAGAAkQBgAGAAkQBgAJEAkQBgAGAAYABgAGAAkQDBAMEAkQCRAJEA8gDBAMEA8gDBAPIA8gDyACIB8gDyAPIA8gDyAPIA8gDyAPIAIgHBAPIAwQDyAMEAwQDBAMEAwQCRAMEAkQDBAMEAkQCRAMEAkQBgAJEAYABgAGAAYABgAGAAYABgAGAAYABgAAAAAAAwADAAMAAwAGAAMAAAADAAMAAwAAAAAAAAAAAAAAAAAAAAAAAwAAAAAAAAAAAAAAAAAAAAAAAAAAAAAAAAAAAAAAAAAAAAAAAAAAAAAAAAAAAAAAAAAAAAAAAAAAAAAAAAAAAAAAAAAND/AAAAAND/0P8AAND/AADQ/9D/oP+g/6D/oP+g/2//oP+g/z//b/9v/6D/b/9v/2//b/8//2//oP9v/z//b/9v/2//b/9v/2//b/8//z//P/9v/z//b/9v/6D/b/8//2//oP9v/z//b/9v/6D/P/9v/6D/oP9v/z//b/+g/z//P/9v/2//P/9v/z//oP8//z//b/9v/2//P/9v/2//oP+g/6D/b/+g/9D/0P+g/6D/oP/Q/6D/oP+g/6D/oP+g/6D/0P/Q/6D/oP/Q/9D/oP/Q/wAA0P/Q/wAAAAAAAAAA0P8AAAAA0P8AAAAAAAAAAAAAAAAAAAAAAAAAAAAAAAAAAAAAMAAwAAAAAAAAAAAAAAAAAAAAMAAAAAAAAAAwADAAMAAAADAAMAAwAAAAAAAAADAAAAAwAAAAMAAwAAAAMABgADAAAAAwADAAAAAwADAAMABgADAAMABgADAAYABgAGAAkQBgAGAAkQCRAMEAkQDyAMEAwQCRAJEAYABgAGAAMABgADAAMAAwADAAMAAwADAAMABgAGAAMAAwAGAAYAAwAGAAYAAwAGAAYAAwAGAAYAAwAGAAYABgADAAYAAwAGAAYAAwAGAAMABgAGAAMAAwAGAAYABgAGAAYABgAGAAMABgAGAAMABgADAAMAAAADAAMAAAAAAAMAAwADAAMAAAAAAAAAAAAAAAAAAAAAAAAAAAAAAAAAAAAAAAAAAAAAAAAAAAAAAAAAAAAAAAAAAAAAAA0P8AAND/0P/Q/wAA0P9v/9D/0P+g/9D/AAAAAAAA0P8AAKD/oP+g/9D/oP/Q/2//0P/Q/6D/b/9v/6D/b/9v/6D/oP/Q/2//oP/Q/9D/oP+g/9D/0P+g/6D/0P/Q/6D/oP+g/9D/0P+g/6D/0P/Q/9D/oP/Q/9D/oP+g/6D/b/9v/6D/oP+g/2//b/9v/2//b/9v/z//b/9v/2//b/8//z//b/9v/z//P/8//z//P/9v/2//P/9v/2//b/8//2//b/9v/6D/oP/Q/6D/oP/Q/6D/oP/Q/9D/0P/Q/9D/0P/Q/9D/0P/Q/wAAoP/Q/9D/0P8AAAAA0P8AAAAAAAAAAAAAAAAAAAAAAAAwADAAMAAwADAAMAAwADAAAAAwADAAYABgADAAMAAwADAAMABgAGAAMAAwADAAMAAwADAAAAAwAGAAMAAAADAAAAAwAAAAMAAwAAAAMAAAAAAAAAAwADAAAAAwAAAAMAAwADAAAAAwADAAMAAwAAAAYABgAAAAAAAwADAAAAAwADAAAAAwADAAMAAwAAAAAAAAADAAAAAAAAAAYAAwAAAAMAAwADAAMAAAAGAAYABgAGAAYABgAGAAMABgAGAAYACRAJEAkQCRAGAAkQBgAJEAYAAwAGAAYAAwAGAAMAAwADAAMAAwADAAMAAwADAAMAAwADAAMAAwAAAAAAAAAAAAAAAwAAAAAAAAAAAAAAAAAAAAAAAAAAAAAAAAAAAAAAAAAAAAAAAAAAAAAAAAAAAAAAAAAAAAAAAAAAAAAAAAAAAAAAAAAAAAAAAAAAAAAAAAAAAAAAAAAAAAAADQ/9D/0P8AAND/AAAAAND/oP/Q/wAAAAAAAAAA0P8AAND/0P8AAND/0P/Q/9D/oP/Q/6D/oP+g/6D/oP+g/9D/oP+g/6D/oP+g/6D/b/9v/2//b/9v/2//b/8//2//P/8//z//P/9v/2//b/9v/2//b/9v/2//b/9v/2//b/+g/6D/0P+g/9D/oP+g/6D/0P+g/6D/0P/Q/9D/0P8AAKD/oP8AAAAA0P8AAAAAAAAAAAAAAAAAAAAAAAAAAAAAAAAAAAAAAAAAAAAAAAAAAAAAAAAAAAAAAAAAAAAAAAAAAAAAAAAAAAAAAAAAAAAAAAAAAAAAAAAAAAAAAAAAAAAAAAAAAAAAAAAAAAAAAAAAAAAAAAAAAAAAAAAAAAAAAAAAAAAAAAAAAAAAAAAwAAAAAAAwADAAMACRAGAAYACRAGAAkQBgAJEAkQCRAGAAkQCRAJEAkQBgAGAAkQAwAGAAMABgAJEAkQAwAGAAYABgADAAMABgADAAMAAwADAAYABgADAAkQCRAJEAMACRAGAAYAAwADAAYABgADAAAAAwADAAAAAwAAAAAAAwAAAAAAAAAAAAAAAAADAAMAAwAAAAAAAwADAAMAAwAAAAMAAwADAAMABgAAAAAAAwADAAAAAAADAAAAAwADAAMAAwADAAAAAwAAAAAAAAAAAAAAAAAAAAMAAAAAAAAAAAAAAAAAAAAAAAAAAAAAAAAAAAAAAAAAAAAAAAAAAAAAAAAAAAAND/AADQ/wAA0P8AAAAA0P+g/9D/0P/Q/9D/AAAAAND/0P8AAAAAAADQ/9D/AAAAAAAA0P/Q/9D/AADQ/9D/0P/Q/9D/oP/Q/9D/0P/Q/9D/0P/Q/9D/0P/Q/9D/0P/Q/6D/0P+g/wAA0P/Q/9D/0P/Q/9D/oP+g/6D/0P/Q/6D/0P+g/9D/0P/Q/6D/AACg/6D/oP8AAAAA0P8AAAAAAADQ/9D/AAAAAND/0P8AAND/0P8AAAAAAAAAAAAAAAAAAAAAAAAAAND/AAAAAAAAAAAAAAAA0P8AAAAAAAAAAAAAAAAAAAAAAAAAAAAAAAAAAAAAAAAAAAAAAAAAAAAAAAAAADAAAAAAAAAAAAAAAAAAAAAAADAAAABgADAAYAAwAGAAYABgAGAAYACRAJEAMABgAGAAYABgAGAAYABgAJEAYABgAGAAMAAwADAAYABgAGAAMABgADAAMABgADAAMABgAGAAMABgAGAAYABgAGAAMAAwADAAMAAwADAAYABgADAAMAAwADAAMAAAAAAAAAAAAAAAAAAAADAAMAAAAGAAMAAwAAAAMAAwAAAAAAAwADAAAAAwAAAAAAAAAAAAMAAAAAAAAAAAAAAAAAAAAAAAAAAAAAAAAAAAAAAAAAAAAAAAAAAAAAAAAAAAAAAAAAAAAAAAAAAAAAAAAAAAAAAAAAAAAAAAAAAAAAAAAAAAAAAAAAAAAAAAAAAAAAAAAAAAAAAAAAAAAAAAAAAAAAAAAAAAAAAAAAAAAAAAAADQ/wAAAAAAAND/AAAAAND/AAAAAAAAAAAAAAAAAADQ/9D/AAAAAAAA0P8AAAAAAAAAAAAAAAAAAND/AAAAAAAA0P/Q/wAAAADQ/9D/0P/Q/9D/b//Q/6D/oP+g/6D/oP+g/wAA0P/Q/9D/0P/Q/6D/0P+g/9D/oP/Q/9D/0P/Q/6D/oP/Q/6D/oP+g/9D/AADQ/9D/AAAAAND/0P+g/9D/0P+g/6D/AADQ/9D/0P/Q/9D/0P+g/9D/0P/Q/9D/AAAAAAAAAAAAAAAAAAAAAAAAAAAAAAAAAAAAAAAAAAAAAAAAAAAAAAAAAAAAAAAAAAAAAAAAAAAAAAAAAAAAAAAAAAAAAAAAAAAAAAAAAAAAAAAAAAAAAAAAAAAAAAAAMAAAAAAAAAAAAGAAMAAwAGAAMAAwAGAAMABgAGAAYAAwADAAMABgADAAMAAwADAAMAAwADAAAAAwAAAAAAAAAAAAMAAAADAAMAAwADAAAAAAADAAMAAwADAAMAAAADAAAAAAADAAAAAwADAAAAAwAAAAAAAAAAAAMAAAAAAAAAAAAAAAAAAAAAAAAAAAAAAAAAAAAAAAAAAAAAAAAAAAAAAAAAAAAAAAAAAAAAAAAAAAAAAAAAAAAAAAAAAAAAAAAAAAAAAAAAAAAAAAAAAAAAAAAAAAAAAAAAAAAAAAAAAAAAAAAAAAAAAAAAAAAAAAAAAAAAAAAAAAAAAAAAAAAND/AAAAAAAAAAAAAAAAAAAAAAAAAAAAAAAA0P8AAAAAAAAAAND/0P/Q/wAA0P/Q/9D/0P/Q/wAAAAAAAAAAAAAAAND/AAAAAAAA0P8AAAAAAAAAAAAA0P8AAAAAAADQ/9D/AAAAAAAAAAAAAAAA0P8AAAAAAAAAAND/0P8AAAAAAAAAAAAA0P/Q/wAAAADQ/9D/0P/Q/9D/AAAAAAAAAAAAAAAAAAAAAND/0P8AAAAAAAAAAND/AAAAAAAAAAAAAAAAAAAAAAAAAAAAAND/AAAAAAAAAAAAAAAAAAAAAAAAAAAAAAAAAAAAAAAAAAAAAAAAAAAAAAAAAAAAAAAAAAAAAAAAAAAAAAAAAAAAAAAAAAAAAAAAAAAwAAAAAAAAAAAAMAAAADAAAAAwADAAMABgADAAYAAwADAAYABgAGAAYAAwAGAAYABgAGAAYABgAGAAYAAwADAAYABgAGAAYABgAGAAMABgADAAYABgAGAAYACRAGAAYAAwAGAAYAAwAGAAMABgAGAAYAAwAGAAMABgAGAAYABgAGAAMAAwAGAAMABgADAAYAAwAAAAAAAAAAAAAAAAAAAAAAAAAAAAAAAAAAAAAAAAAAAAAAAAAAAAAAAAAAAAAAAAAAAAAAAAAAAAAAAAAAAAAAAAAAAAAAAAAAAAAAAAAAAAAAAAAAAAAAAAAAAAAAAAAAAAAAAAAAAAAAAAAAAAAADQ/wAA0P/Q/wAA0P+g/9D/0P8AAAAAAAAAAAAAAAAAAND/AAAAAAAAAAAAAAAAAAAAAND/0P8AAAAA0P/Q/9D/0P/Q/6D/oP/Q/9D/0P+g/6D/oP+g/6D/oP+g/9D/b/+g/6D/oP+g/6D/oP+g/6D/oP/Q/6D/oP+g/9D/oP/Q/9D/0P/Q/6D/0P8AAKD/AAAAAAAAAAAAAAAA0P8AAAAAAADQ/wAAoP8AAND/0P/Q/9D/0P+g/9D/0P/Q/9D/AAAAAAAAAADQ/wAAAAAAAAAAAAAAAAAAAAAAAAAAAAAAAAAAAAAAAAAAAAAAAAAAAAAAAAAAAAAAAAAAAAAAAAAAAAAAAAAAAAAwAAAAAAAAAAAAAAAAAAAAAAAAAAAAAAAAAAAAAAAAAAAAAAAAAAAAAAAAAAAAAAAAAAAAAAAAAAAAMABgAGAAkQBgAJEAkQCRAJEAYABgAGAAMABgADAAYAAwADAAMAAAADAAMAAwAAAAMAAwADAAMAAwADAAMAAwADAAYACRAJEAkQBgAJEAkQBgAGAAYABgAGAAMAAwADAAMAAAAAAAMAAAAAAAAAAAADAAMAAAADAAAAAAAAAAAAAAAAAAAAAAAAAAAAAAAAAAAAAAAAAAAAAAAAAAAAAAAAAAAAAAAAAAAAAAAAAAAAAAAAAAAAAAAAAAAAAAAAAAAAAAAAAAAAAAAAAAAAAAAAAAAAAAAAAAAAAAAAAAAAAAAAAAAAAAAAAAAAAAAAAAAAAAAAAAAAAAAND/AADQ/wAAAAAAAND/AAAAAAAAAAAAAAAAAAAAAAAAAAAAAND/0P/Q/wAA0P8AAND/0P/Q/wAA0P+g/6D/0P/Q/9D/0P/Q/9D/oP/Q/9D/oP/Q/9D/oP+g/9D/oP/Q/9D/oP/Q/6D/0P/Q/6D/0P/Q/wAA0P/Q/wAA0P8AAND/0P/Q/9D/0P/Q/9D/0P/Q/9D/0P8AAAAA0P/Q/9D/0P/Q/9D/0P/Q/9D/0P/Q/6D/0P/Q/6D/0P/Q/9D/AACg/wAAAAAAAND/0P/Q/9D/0P/Q/9D/AADQ/wAAAAAAAAAA0P8AAAAAAAAAAAAAAAAAAAAAAAAAAAAAAAAAAAAAAAAAAAAAAAAAAAAAAAAAADAAAAAAADAAMAAwADAAMAAAAGAAMAAwADAAYABgADAAYABgAJEAkQBgAGAAkQCRAGAAkQCRAJEAMABgAJEAkQBgAGAAYACRAGAAMABgAGAAYAAwADAAMAAwAGAAMAAwADAAYAAwADAAYABgADAAMABgADAAYABgADAAMAAwADAAAAAAADAAMAAAADAAMABgAAAAAAAwADAAMAAAADAAMAAwADAAMAAwADAAMAAwADAAMAAwADAAMAAAAAAAAAAAAAAAAAAAAAAAAAAAAAAAAAAAAAAAAAAAAAAAAAAAAAAAAAAAAAAAAAAAAAAAAAAAAAAAAAAAAAAAAAAAAAAAAAAAAAAAAAAAAAAAAAAAAAAAAAAAAAAAAAAAAAAAAAAAAAAAAAAAAAAAAAAAAAAAAAAAAAAAAAAAAAAAAAAAAAAAAAAAAAAAAAAAAAAAAAAAAAAA0P/Q/9D/0P/Q/9D/oP+g/6D/oP9v/6D/oP+g/6D/oP/Q/wAAoP+g/6D/0P/Q/6D/oP+g/6D/oP+g/9D/0P/Q/6D/oP+g/9D/oP+g/6D/oP+g/wAAoP+g/9D/oP+g/6D/b/9v/6D/b/9v/6D/oP9v/2//b/+g/2//b/9v/2//b/9v/6D/oP9v/2//b/9v/6D/b/9v/6D/b/9v/6D/0P/Q/9D/oP+g/9D/0P/Q/wAA0P8AAAAAAAAAAAAAAAAAAAAAAAAAAAAAAAAAAAAAAAAAAAAAAAAAAAAAAAAAAAAAAAAAAAAAAAAAAAAAAAAAAAAAAAAwAAAAMABgAGAAMAAwAGAAMAAwAGAAYAAwAGAAYAAwADAAAAAwADAAMABgAAAAMAAwADAAMAAwADAAMAAwADAAMAAwAGAAYABgADAAMABgADAAMAAwADAAAAAwADAAMAAwADAAMAAAADAAYAAwADAAYAAwADAAAAAwADAAMAAwADAAMABgAAAAMAAAADAAMAAAADAAAAAwADAAAAAAADAAAAAAAAAAAAAAAAAAAAAAAAAAAAAAAAAAAAAAAAAAAAAAAAAAAAAAAAAAAAAAAAAAAAAAAAAAAAAAAAAAAAAAAAAAAAAAAAAAAAAAAAAAAAAAAAAAAAAAAAAAAAAAAAAAAAAAAAAAAAAAAAAAAAAAAAAAAAAAAAAAAAAAAAAAAAAAAAAAAAAAAAAAAAAAAAAAAAAAAAAAAAAAAAAAAAAAAAAAAAAAAAAAAADQ/wAAAAAAAAAAAAAAAAAA0P8AAAAA0P/Q/9D/0P+g/6D/oP/Q/9D/oP/Q/wAA0P/Q/wAAAADQ/9D/0P/Q/9D/oP/Q/9D/0P/Q/9D/0P8AAND/AAAAAAAA0P/Q/wAAAAAAAAAAAADQ/6D/0P/Q/wAA0P/Q/9D/0P/Q/wAAAADQ/wAA0P/Q/wAAAADQ/wAAAADQ/wAAAAAAAAAAAAAAAAAAAAAAAAAAAAAAAAAAAAAAAAAAAAAAAAAAAAAAAAAAAAAAAAAAAAAAAAAAAAAAAAAAAAAAAAAAAAAAAAAAAAAAAAAAAAAAAAAAAAAAAAAAAAAAAAAAAAAAAAAAAAAAAAAAAAAAAAAAAAAAAAAAAAAAAAAAAAAAAAAAAAAAAAAAAAAAAAAAAAAAADAAAAAAAAAAAAAAAAAAAAAAAAAAMAAwADAAYAAwAGAAMABgAJEAMABgAGAAYAAwAJEAYACRAGAAMAAwADAAYAAwADAAMABgAGAAMAAwAGAAkQBgADAAMAAwADAAMAAwAGAAMAAAADAAAAAAAAAAAAAAAAAAAAAAAAAAAAAAAAAAMAAAAAAAAAAAAAAAAAAAAAAAAAAwAAAAAAAAAAAAAAAAAAAAAAAAAAAAAAAAAAAAAAAAAAAAAAAAAAAAAAAAAAAAAAAAAAAAAAAAAAAAAAAAAAAAAAAAAAAAAAAAAAAAAAAAAAAAAAAAAAAAAAAAAAAAAADQ/wAAAAAAAAAAAAAAAAAAAAAAAAAAAAAAAAAAAAAAAAAAAAAAAAAAAAAAAAAAAAAAAAAAAAAAAAAAAADQ/9D/0P/Q/wAA0P/Q/9D/AADQ/9D/AADQ/9D/AADQ/9D/0P/Q/9D/AADQ/6D/oP+g/9D/0P/Q/9D/AAAAAAAAAAAAAAAAAAAAAAAAAAAAAAAAAAAAAAAAAAAAAAAAAAAAAAAAAAAAAAAAAAAAAAAAAAAAAAAAAAAAAAAAAAAAAAAAAAAAAAAAAAAAAAAAAADQ/wAAAAAAAAAAAAAAAAAAAADQ/wAAAAAAAAAAAAAAAAAAAAAAAAAAAAAAAAAA0P8AAAAAAADQ/wAA0P8AAAAAAAAAAAAAAAAAAAAAAAAAAAAAAAAAAAAAMAAAAAAAMAAAAAAAAAAAAAAAAAAAAAAAAAAAAAAAAAAAAAAAAAAAAAAAAAAAADAAMAAAADAAMAAwADAAMAAwADAAMAAwADAAYABgADAAMAAwADAAYAAwADAAYAAwADAAYABgAGAAYABgAGAAYABgAGAAYABgAGAAYABgAGAAYABgADAAMAAwAAAAAAAAAAAAAAAAAAAAAAAAAAAAAAAAAAAAAAAAAAAAAAAAAAAAAAAAAAAAAAAAAAAAAAAAAAAAAAAAAAAAAAAAAAAAAAAAAAAAAAAAAAAAAAAAAAAAAAAAAAAAAAAAAAAAAAAAAAAAAAAAAAAAAAAAAAAAAAAAAAAAAAAAAAAAAAAAAAAAAAAAAAAAAAAAAAAAAAAAAAAAAAAAAAAAAAAAAAAAAAAAAAAAAAAAAAAAAAAAAAAAAAAAAAAAAAAAAAAAAAAAAAAAAAAAAAAAAAAAAAAAAAAAAAAAAAAAAAAAAAAAAAAA0P8AAAAAAAAAAAAAAADQ/wAAAAAAAAAAAAAAAAAAAAAAAAAAAAAAAAAAAAAAAAAAAAAAAAAAAAAAAAAAAAAAAAAA0P8AAAAAAADQ/wAAAAAAAND/AAAAAAAAAADQ/wAAAAAAAAAAAAAAAAAAAAAAAAAAAAAAAAAAAAAAAAAAAAAAAAAAAAAAAAAAAAAAAAAAAAAAAAAAAAAAAAAAAAAAAAAAAAAAAAAAAAAAAAAAAAAAAAAAAAAAAAAAAAAAAAAAAAAAAAAAAAAAAAAAAAAAAAAAAAAAAAAAAAAAAAAAAAAAAAAAAAAAAAAAAAAAAAAAAAAAAAAAAAAAAAAAAAAAAAAAAAAAAAAAAAAAAAAAAAAAAAAAAAAAAAAAAAAAAAAAMAAwAAAAMAAwADAAAAAAADAAAAAAAAAAAAAAAAAAAAAAAAAAMAAwADAAYAAwADAAMAAwADAAMAAwADAAMAAwAAAAMAAwAAAAAAAAADAAAAAAAAAAMAAAAAAAAAAAAAAAAAAAAAAAAAAAAAAAAAAwADAAMAAAADAAMAAAAAAAAAAAAAAAAAAAAAAAAAAAAAAAAAAAAAAAAAAAAAAAAAAAAAAAAAAAAAAA0P8AAAAAAAAAAAAAAAAAAAAAAAAAAAAAAAAAAAAAAAAAAAAAAAAAAAAAAAAAAAAAAAAAAAAAAAAAAAAAAAAAAAAAAAAAAAAAAAAAAAAAAAAAAAAAAAAAAAAAAAAAAAAAAAAAAAAAAAAAAAAAAAAAAAAAAAAAAAAAAAAAAAAAAAAAAAAAAAAAAAAAAAAAAAAAAAAAAAAAAAAAAAAAAAAAAAAAAAAAAAAAAAAAAAAAAAAAAAAAAAAAAAAAAAAAAAAAAAAAAAAAAAAAAAAAAAAAAAAAAAAAAAAAAAAAAAAAAAAAAAAAAAAAAAAAAAAAAAAAAAAAAAAAAAAAAAAAAAAAAAAAAAAAAAAAAAAAAAAAAAAAAAAAAAAAAAAAAADQ/wAAAAAAAAAAAAAAAAAAAAAAAAAAAAAAAAAAAAAAAAAAAAAAAAAAAAAAAAAAAAAAAAAAAAAAAAAAAAAAAAAAAAAAAAAAAAAAAAAAAAAAAAAAAAAAAAAAAAAAAAAAAAAAAAAAAAAAAAAAAAAAAAAAAAAAAAAAAAAAAAAAAAAwAAAAMAAAAAAAAAAAADAAAAAAAAAAAAAAAAAAAAAAAAAAAAAAAAAAAAAAAAAAAAAAAAAAAAAAAAAAAAAAAAAAAAAAAAAAAAAAAAAAAAAAAAAAAAAAAAAAAAAAAAAAAAAAAAAAAAAAAAAAAAAAAAAAAAAAAAAAAAAAAAAAAAAAAAAAAAAAAAAAAAAAAAAAAAAAAAAAAAAAAAAAAAAAAAAAAAAAAAAAAAAAAAAAAAAAAAAAAAAAAAAAAAAAAAAAAAAAAAAAAAAAAAAAAAAAAAAAAAAAAAAAAAAAAAAAAAAAAAAAAAAAAAAAAAAAAAAAAAAAAAAAAAAAAAAAAAAAAAAAAAAAAAAAAAAAAAAAAAAAAAAAAAAAAAAAAAAAAAAAAAAAAAAAAAAAAAAAAAAAAAAAAAAAAAAAAAAAAAAAAAAAAAAAAAAAAAAAAAAAAAAAAAAAAAAAAAAAAAAAAAAAAAAA0P8AAAAAAADQ/wAAAAAAAND/AAAAAAAA0P/Q/wAAAAAAAND/AAAAAAAAAADQ/9D/AADQ/wAA0P/Q/wAAAADQ/wAAAADQ/wAAAAAAAAAAAAAAAAAAAAAAAAAAAAAAAAAAAAAAAAAAAAAAAAAAAAAAAAAAAAAAAAAAAAAAAAAAAAAAAAAAAAAAADAAMAAwADAAAAAAAAAAMAAAAAAAMAAwADAAAAAwAAAAAAAAAAAAMAAAADAAAAAAAAAAAAAAAAAAAAAAAAAAAAAAAAAAAAAAAAAAAAAAAAAAAAAAAAAAAAAAAAAAAAAAAAAAAAAAAAAAAAAAAAAAAAAAAAAAAAAAAAAAAAAAAAAAAAAAAAAAAAAAAAAAAAAAAAAAAAAAAAAAAAAAAAAAAAAAAAAAAAAAAAAAAAAAAAAAAAAAAAAAAAAAAAAAAAAAAAAAAAAAAAAAAAAAAAAAAAAAAAAAAAAAAAAA0P8AAAAAAAAAAAAAAAAAAAAA0P8AAAAAAAAAAND/AAAAAAAAAAAAAAAAAAAAAAAAAAAAAAAAAAAAAAAAAAAAAAAAAAAAAAAAAAAAAAAAAAAAAAAAAAAAAAAAAAAAAAAAAADQ/wAAAAAAAAAAAAAAAAAAAAAAAAAAAAAAAAAAAAAAAAAAAAAAAAAAAAAAAAAAAAAAAAAAAAAAAAAAAAAAAAAAAAAAAAAAAAAAAAAAAAAAAAAAAAAAAAAAAAAAAAAAAAAAAAAAAADQ/wAAAAAAAAAA0P8AAAAAAAAAAAAAAAAAAAAAAAAAAAAAAAAAAAAAAAAAAAAAAAAAAAAA0P8AAAAA0P8AAAAAAAAAAAAAAAAAAAAAAAAAAAAAAAAAAAAAAAAAAAAAAAAAAAAAAAAAAAAAAAAAAAAAAAAAAAAAAAAAAAAAAAAAAAAAAAAAAAAAAAAAAAAAAAAAAAAAAAAAAAAAAAAAAAAAAAAAAAAAAAAAAAAAAAAAAAAAAAAAAAAAAAAAAAAAAAAAAAAAAAAAAAAAAAAAAAAAAAAAAAAAAAAAAAAAAAAAAAAAAAAAAAAAAAAAAAAAAAAAAAAAAAAAAAAAAAAAAAAAAAAAAAAAAAAAAAAAAAAAAAAAAAAAAAAAAAAAAAAAAAAAAAAAAAAAAAAAAAAAAAAAAAAAAAAAAAAAAAAAAAAAAAAAAAAAAAAAAAAAAAAAAAAAAAAAAAAAAAAAAAAAAAAAAAAAAAAAAAAAAAAAAAAAAAAAAAAAAAAAAAAAAND/AAAAAAAAAAAAAAAAAAAAAAAAAAAAAAAAAAAAAAAAAAAAAAAAAAAAAAAAAAAAAAAAAAAAAAAAAAAAAAAAAAAAAAAAAAAAAND/AADQ/wAAAACg/wAAAADQ/9D/0P/Q/9D/0P/Q/9D/AACg/9D/0P/Q/9D/0P/Q/9D/0P/Q/9D/0P/Q/9D/oP/Q/9D/0P/Q/wAA0P/Q/wAAAAAAAAAAAAAAAAAAAAAAAAAAAAAAAAAAAAAAAAAAAAAAAAAAAAAAAAAAAAAAAAAAAAAAAAAAAAAAAAAAAAAAAAAAAAAAAAAAAAAAAAAAAAAAAAAAAAAAAAAAAAAAAAAAAAAAAAAAAAAAAAAAAAAAAAAAAAAAAAAAAAAAAAAAAAAAAAAAAAAAAAAAAAAwAAAAAAAAAAAAAAAAAAAAAAAAAAAAAAAAAAAAAAAAAAAAAAAAAAAAAAAAAAAAAAAAAAAAAAAAAAAAAAAAAAAAAAAAAAAAMAAAAAAAMAAwAGAAAAAAADAAMAAwAAAAMAAwADAAMAAwADAAMAAwAAAAAAAwADAAMAAwADAAMAAwADAAAAAwAAAAMAAwADAAMAAAAAAAAAAAAAAAMAAAAAAAAAAAAAAAAAAwAAAAAAAAAAAAAAAAADAAAAAAADAAAAAAAAAAAAAAAAAAAAAAAAAAAAAAAAAAAAAAAAAAAAAAAAAAAAAAAAAAAAAAAAAAAAAAAAAAAAAAAAAAAAAAAAAAAAAAAAAAAAAAAAAAAAAAAAAAAAAAAAAAAAAAAAAAAAAAAAAAAAAAAAAAAAAAAAAAAAAAAAAAAAAAAAAAAAAAAAAA0P8AAAAAAAAAAND/0P/Q/9D/0P8AAND/0P8AAAAAAAAAAAAAAAAAAAAAAAAAAAAAAAAAAND/0P/Q/wAA0P/Q/6D/0P/Q/9D/0P/Q/9D/0P/Q/9D/0P/Q/9D/AAAAAAAA0P8AAAAAAAAAAND/AAAAAAAAAAAAAAAAAAAAAAAAAADQ/wAAAAAAAAAAAAAAAAAAAAAAAAAAAAAAAAAAAAAAAAAAAAAAAAAAAAAAAAAAAAAAAAAAAAAwAAAAAAAAAAAAAAAwAAAAAAAAADAAMAAAAAAAAAAAADAAAAAAADAAAAAAAAAAAAAAAAAAAAAAAAAAAAAwAAAAAAAAAAAAAAAAAAAAMAAwADAAAAAwADAAYAAwADAAMABgADAAYABgADAAMAAwADAAMAAwADAAAAAwADAAMAAwADAAAAAAAAAAMAAwADAAAAAwADAAMABgADAAYACRAJEAkQBgAGAAYACRAGAAkQCRAGAAYABgAGAAYAAwADAAMAAwADAAMAAwADAAAAAAAAAAMAAAADAAAAAwADAAAAAwAAAAMAAAAAAAAAAAAAAAAAAAAAAAMAAAAAAAAAAAAAAAAAAAAAAAAAAAAAAAAAAAAAAAAAAAAAAAAAAAAAAAAAAAAAAAAAAAAAAAAAAAAAAAAAAAAAAAAAAAAAAAAAAAAAAAAAAAAAAAAAAAAAAAAAAAAAAAAAAAAAAAAAAAAAAAAAAAAAAAAAAAAAAAAAAAAAAAAAAAAAAAAAAAAAAAAAAAAAAAAAAAAAAAAAAAAAAA0P8AAAAAAAAAAND/AAAAAAAAAAAAAAAA0P/Q/wAAAAAAAAAAAAAAAAAAAADQ/wAA0P/Q/9D/0P8AAAAA0P8AAAAA0P/Q/wAA0P/Q/wAAAAAAAAAAAAAAAAAA0P8AAAAAAAAAAAAAAAAAAAAA0P8AAAAA0P8AAAAAAAAAAAAAAAAAAAAAAAAAAAAAAAAAAAAAAAAAAAAAAAAAAAAAAAAAAAAAAAAAAAAAAAAAAAAAAAAAAAAAAAAAADAAAAAAADAAAAAwAAAAAAAAAAAAAAAAAAAAAAAAAAAAAAAAAAAAAAAAADAAAAAAADAAAAAAAAAAMAAwAAAAMAAAADAAMAAwADAAMABgADAAYAAwADAAYAAwADAAMAAAAAAAMAAwAAAAAAAAAAAAAAAAAAAAAAAAAAAAAAAAAAAAAAAAAAAAMAAwADAAYABgAAAAMAAwAGAAYABgADAAMAAwADAAYABgAGAAMAAwADAAYABgAAAAMAAAADAAAAAAAAAAAAAAAAAAAAAAAAAAAAAAAAAAAAAAAAAAAAAAAAAAAAAAAAAAAAAAAAAAAAAAAAAAAAAAAAAAAAAAAAAAAAAAAAAAAAAAAAAAAAAAAAAAAAAAAAAAAAAAAAAAAAAAAAAAAAAAAAAAAAAAAAAAAAAAAAAAAAAAAND/AADQ/wAA0P8AAAAAAADQ/9D/0P/Q/wAA0P/Q/9D/AAAAAAAAAAAAAAAAAAAAAAAAAAAAAAAAAADQ/wAA0P/Q/wAA0P/Q/9D/0P8AAAAAAAAAAND/AAAAAAAAAAAAAAAA0P8AAAAAAAAAAAAAAAAAAND/0P8AAAAAAADQ/wAA0P8AAND/0P/Q/wAA0P8AAAAAAAAAAAAAAAAAAAAAAADQ/9D/0P/Q/wAAAAAAAAAAAAAAAAAAAADQ/wAAAAAAAAAAAADQ/wAAAAAAAAAAAAAAAAAAAAAAAAAAAAAAAAAAAAAAAAAAAAAAAAAAAAAAAAAAAAAAAAAAAAAAAAAAAAAAAAAAAAAAAAAAAAAAAAAAAAAAAAAAAAAAAAAAAAAAAAAAAAAAAAAAAAAAAAAAAAAAAAAAAAAAAAAAAAAAAAAAAAAAAAAAAAAAAAAAAAAAAAAAAAAAAAAAAAAAAAAAAAAAAAAAAAAAAAAAAAAAAAAAAAAAAAAAAAAAAAAAAAAAAAAAAAAAADAAAAAwAGAAAAAwADAAMAAwADAAAAAwAGAAMAAwADAAMAAAADAAMAAwADAAAAAwADAAMAAwAAAAAAAwAAAAMAAAAAAAAAAAAAAAAAAAAAAAAAAAAAAAAAAAAAAAAAAAAAAAAAAAAAAAAAAAAAAAAAAAAAAAAAAAAAAAAAAAAAAAAAAAAAAAAAAAAAAAAAAAAAAAAAAAAAAAAAAAAND/0P8AAAAAAAAAAND/0P/Q/wAAAAAAAAAAAADQ/9D/0P/Q/9D/AACg/9D/0P/Q/9D/oP+g/9D/oP+g/6D/AADQ/9D/AAAAAAAAAAAAAAAA0P8AAAAAAAAAAND/AAAAAAAA0P8AAND/AAAAAAAAAAAAAND/AAAAAAAAAAAAAAAAAAAAAAAAAAAAAND/AAAAAND/0P/Q/9D/AADQ/9D/AADQ/9D/AAAAAND/AAAAAAAAAAAAAAAAAAAAAAAAAAAAAAAAAAAAAAAAAAAAAAAAAAAAAAAAAAAAAAAAAAAAAAAAAAAAAAAAAAAAAAAAAAAAAAAAAAAAAAAAAAAAAAAAAAAAAAAAAAAAAAAAAAAAAAAAAAAAAAAAAAAAAAAAAAAAAAAAAAAAAAAAAAAAAAAAAAAAAAAAAAAAAAAAAAAAAAAAAAAAAAAAAAAAAAAAAAAAAAAAAAAAAAAAAAAAAAAAAAAAAAAAAAAAAAAAAAAAAAAAAAAAAAAAAAAAAAAAAAAAAAAAAAAAAAAAAAAAAAAAAAAwAAAAAAAAAAAAAAAwADAAMAAwADAAMAAwADAAMAAwADAAYAAwADAAMAAwAAAAMAAAADAAAAAAAAAAAAAwAAAAAAAAAAAAAAAAAAAAAAAAAAAAAAAAAAAAAAAAAAAAAAAAAAAAAAAAAAAAAAAAAAAAAAAAAAAAAAAAAAAAAAAAAAAAAAAAAAAAAAAAAAAAAAAAAAAAAAAAAAAAAAAAAAAAAAAAAAAAAAAAAAAAAAAAAAAAAAAAAAAAAAAAAAAAAAAAAAAAAAAAAAAAAAAAAAAAAAAAAAAAAAAAAAAAAAAAAAAAAAAAAAAAAAAAAND/AAAAAAAAAAAAAAAAAAAAAAAAAAAAAAAAAAAAAAAAAAAAAAAAAAAAAAAAAAAAAAAAAAAAAAAAAAAAAAAAAAAAAND/AAAAAAAAAAAAAAAAAAAAAAAAAAAAAAAAAAAAAAAAAAAAAAAAAAAAAAAAAAAAAAAAAAAAAAAAAAAAAAAAAAAAAAAAAAAAAAAAAAAAAAAAAAAAAAAAAAAAAAAAAAAAAAAAAAAAAAAAAAAAAAAAAAAAAAAAAAAAAAAAAAAAAAAAAAAAAAAAAAAAAAAAAAAAAAAAAAAAAAAAAAAAAAAAAAAAAAAAAAAAAAAAAAAAAAAAAAAAAAAAAAAAAAAAAAAAAAAAAAAAAAAAAAAAAAAAAAAAAAAAAAAAAAAAAAAAAAAAAAAAAAAAAAAAAAAAAAAAAAAAAAAAAAAAAAAAAAAAAAAAAAAAAAAAAAAAAAAAAAAAAAAAAAAAAAAAAAAAAAAAAAAAAAAAAAAAAAAAAAAAAAAAAAAAAAAAAAAAAAAAAAAAAAAAAAAAAAAAAAAAAAAAAAAAAAAAAAAAAAAAAAAAAAAAAAAAAAAAAAAAAAAAAAAAAAAAAAAAAAAAAAAAAAAAAAAAAAAAAAAAAAAAAAAAAAAAAAAAAAAAAAAAAAAAAAAAAAAAAAAAAAAAAAAAAAAAAAAAAAAAAAAAAAAAAAAAAAAAAAAAAAAAAAAAAAAAAAAAAAAAAAAAAAAAAAAAAAAAAAAAAAAAAAAAAAAAAAAAAAAAAAAAAAAAAAAAAAAAAAAAAADQ/wAAAADQ/wAAAAAAAAAAAAAAAAAAAAAAAAAAAAAAAAAAAAAAAAAAAAAAAAAA0P/Q/wAAAADQ/wAAAAAAAAAAAAAAAAAAAADQ/wAAAAAAAAAAAAAAAAAAAAAAAAAAAADQ/wAAAAAAAAAAAAAAAAAAAAAAAAAAAAAAAAAAAAAAAAAAAAAAAAAAAAAAAAAAAAAAAAAAAAAAAAAAAAAAAAAA0P8AAAAAAAAAAAAAAAAAAAAAAAAAAAAA0P8AAAAAAAAAAND/AAAAAAAAAAAAAAAAAAAAAAAAAAAAAAAAAAAAAAAAAAAAAAAAAAAAAAAAAAAAAAAAAAAAAAAAAAAAAAAAAAAAAAAAAAAAAAAAAAAAAAAAAAAAAAAAAAAAAAAAAAAAAAAAAAAAAAAAAAAAAAAAAAAAAAAAAAAAAAAAAAAAAAAAAAAAAAAAAAAAAAAAAAAAAAAAAAAAAAAAAAAAAAAAAAAAAAAAAAAAAAAAAAAAAAAAAAAAAAAAAAAAAAAAAAAAAAAAAAAAAAAAAAAAAAAAAAAAAAAAAAAAAAAAAAAAAAAAAAAAAAAAAAAAAAAAAAAAAAAAAAAAAAAAAAAAAAAAAAAAAAAAAAAAAAAAAAAAAAAAAAAAAAAAAAAAAAAAAAAAAAAAAAAAAAAAAAAAAAAAAAAAAAAAAAAAAAAAAAAAAAAAAAAAAAAAAAAAAAAAAAAAAAAAAAAAAAAAAAAAAAAAAAAAAAAAAAAAAAAAAAAAAAAAAAAAAAAAAAAAAAAAAAAAAAAAAAAAAAAAAAAAAAAAAAAAAAAAAAAAAAAAAAAAAAAAAAAAAAAAAAAAAAAAAAAAAAAAAAAAAAAAAAAAAAAAAAAAAAAAAAAAAAAAAAAAAAAAAAAAAAAAAAAAAAAAAAAAAAAAAAAAAAAAAAAAAAAAAAAAAAAAAAAAAAAAAAAAAAAAAAAAAAAAAAAAAND/0P8AAAAAAAAAAAAAAADQ/wAA0P8AAAAAAAAAAAAAAADQ/wAAAAAAAAAAAAAAAAAAAADQ/wAAAAAAAAAAAAAAAAAAAAAAAAAAAAAAAAAAAAAAAAAAAAAAAAAAAAAAAAAAAAAAAAAAAAAAAAAAAAAAAAAAAAAAAAAAAAAAAAAAAAAAAAAAAAAAAAAAAAAAAAAAAAAAAAAAAAAAAAAAAAAAAAAAAAAAAAAAAAAAAAAAAAAAAAAAAAAAAAAAAAAAAAAAAAAAAAAAAAAAAAAAAAAAAAAAAAAAAAAAAAAAAAAAAAAAAAAAAAAAAAAAAAAAAAAAAAAAAAAAAAAAAAAAAAAAAAAAAAAAAAAAAAAAAAAAAAAAAAAAAAAAAAAAAAAAAAAAAAAAAAAAAAAAAAAAAAAAAAAAAAAAAAAAAAAAAAAAAAAAAAAAAAAAAAAAAAAAAAAAAAAAAAAAAAAAAAAAAAAAAAAAAAAAAAAAAAAAAAAAAAAAAAAAAAAwAAAAAAAAAAAAAAAAAAAAAAAAAAAAAAAAAAAAMAAAADAAMAAwAAAAAAAAAAAAAAAAAAAAAAAAAAAAAAAwADAAAAAwAAAAAAAAAAAAAAAAAAAAAAAAAAAAAAAAAAAAAAAAAAAAAAAAAAAAAAAAAAAAAAAAAAAAAAAAAAAAAAAAAAAAAAAAAAAAAAAAAAAAAAAAAAAAAAAAAAAAAAAAAAAAAAAAAAAAAAAAAAAAAAAAAAAAAAAAAAAAAAAAAAAAAADQ/wAAAAAAAAAAAAAAAAAAAAAAAAAAAAAAAAAAAAAAAAAAAAAAAAAAAAAAAAAAAAAAAAAAAAAAAAAAAAAAAAAAAAAwAAAAAAAAAAAAAAAAAAAAAAAAAAAAAAAAAAAAAAAAAAAAAAAAAAAAAAAAAAAAAAAAAAAAAAAAAAAAAAAAAAAAAAAAAAAAAAAAAAAAAAAAAAAAAAAAAAAAAAAAAAAAAAAAAAAAAAAAAAAAAAAAAAAAAAAAAAAAAAAAAAAAAAAAAAAAAAAAAAAAAAAAAAAAAAAAAAAAAAAAAAAAAAAAAAAAAAAAAAAAAAAAAAAAAAAAAAAAAAAAAAAAAAAAAAAAAAAAAAAAAAAAAAAAAAAAAAAAAAAAAAAAAAAAAAAAAAAAAAAAAAAAAAAAAAAAAAAAAAAAAAAAAAAAAAAAAAAAAAAAAAAAAAAAAAAAAAAAAAAAAAAAAAAAAAAAAAAAAAAAAAAAAAAAAAAAAAAAAAAAAAAAAAAAAAAAAAAAAAAAAAAAAAAAAAAAAAAAAAAAAAAAAAAAAAAAAAAAAAAAAAAAAAAAAAAAAAAAAAAAAAAAAAAAAAAAAAAAAAAAAAAAAAAAAAAAAAAAAAAAAAAAAAAAAAAAAAAAAAAAAAAAAAAAAAAAAAAAAAAAAAAAAAAAAAAAAAAAAAAAAAAAAAAAAAAAAAAAAAAAAAAAAAAAAAAAAAAAAAAAAAAAAAAAAAAAAAAAAAAAAAAAAAAAAAAAAAAAAAAAAAAAAAAAAAAAAAAAAAAAAAAAAAAAAAAAAAAAAAAAAAAAAAAAAAAAAAAAAAAAAAAAAAAAAAAAAAAAAAAAAAAAAAAAAAAAAAAAAAAAAAAAAAAAAAAAAAAAAAAAAAAAAAAAAAAAAAAAAAAAAAAAAAAAAAAAAAAAAAAAAAAAAAAAAAAAAAAAAAAAAAAAAAAAAAAAAAAAAAAAAAAAAAAAAAAAAAAAAAAAAAAAAAAAAAAAAAAAAAAAAAAAAAAAAAAAAAAAAAAAAAAAAAAAAAAAAAAAAAAAAAAAAAAAAAAAAAAAAAAAAAAAAAAAAAAAAAAAAAAAAAAAAAAAAAAAAAAAAAAAAAAAAAAAAAAAAAAAAAAAAAAAAAAAAAAAAAAAAAAAAAAAAAAAAAAAAAAAAAAAAAAAAAAAAAAAAAAAAAAAAAAAAAAAAAAAAAAAAAAAAAAAAAAAAAAAAAAAAAAAAAAAAAAAAAAAAAAAAAAAAAAAAAAAAAAAAAAAAAAAAAAAAAAAAAAAAAAAAAAAAAAAAAAAAAAAAAAAAAAAAAAAAAAAAAAAAAAAAAAAAAAAAAAAAAAAAAAAAAAAAAAAAAAAAAAAAAAAAAAAAAAAAAAAAAAAAAAAAAAAAAAAAAAAAAAAAAAAAAAAAAAAAAAAAAAAAAAAAAAAAAAAAAAAAAAAAAAAAAAAAAAAAAAAAAAAAAAAAAAAAAAAAAAAAAAAAAAAAAAAAAAAAAAAAAAAAAAAAAAAAAAAAAAAAAAAAAAAAAAAAAAAAAAAAAAAAAAAAAAAAAAAAAAAAAAAAAAAAAAAAAAAAAAAAAAAAAAAAAAAAAAAAAAAAAAAAAAAAAAAAAAAAAAAAAAAAAAAAAAAAAAAAAAAAAAAAAAAAAAAAAAAAAAAAAAAAAAAAAAAAAAAAAAAAAAAAAAAAAAAAAAAAAAAAAAAAAAAAAAAAAAAAAAAAAAAAAAAAAAAAAAAAAAAAAAAAAAAAAAAAAAAAAAAAAAAAAAAAAAAAAAAAAAAAAAAAAAAAAAAAAAAAAAAAAAAAAAAAAAAAAAAAAAAAAAAAAAAAAAAAAAAAAAAAAAAAAAAAAAAAAAAAAAAAAAAAAAAAAAAAAAAAAAAAAAAAAAAAAAAAAAAAAAAAAAAAAAAAAAAAAAAAAAAAAAAAAAAAAAAAAAAAAAAAAAAAAAAAAAAAAAAAAAAAAAAAAAAAAAAAAAAAAAAAAAAAAAAAAAAAAAAAAAAAAAAAAAAAAAAAAAAAAAAAAAAAAAAAAAAAAAAAAAAAAAAAAAAAAAAAAAAAAAAAAAAAAAAAAAAAAAAAAAAAAAAAAAAAAAAAAAAAAAAAAAAAAAAAAAAAAAAAAAAAAAAAAAAAAAAAAAAAAAAAAAAAAAAAAAAAAAAAAAAAAAAAAAAAAAAAAAAAAAAAAAAAAAAAAAAAAAAAAAAAAAAAAAAAAAAAAAAAAAAAAAAAAAAAAAAAAAAAAAAAAAAAAAAAAAAAAAAAAAAAAAAAAAAAAAAAAAAAAAAAAAAAAAAAAAAAAAAAAAAAAAAAAAAAAAAAAAAAAAAAAAAAAAAAAAAAAAAAAAAAAAAAAAAAAAAAAAAAAAAAAAAAAAAAAAAAAAAAAAAAAAAAAAAAAAAAAAAAAAAAAAAAAAAAAAAAAAAAAAAAAAAAAAAAAAAAAAAAAAAAAAAAAAAAAAAAAAAAAAAAAAAAAAAAAAAAAAAAAAAAAAAAAAAAAAAAAAAAAAAAAAAAAAAAAAAAAAAAAAAAAAAAAAAAAAAAAAAAAAAAAAAAAAAAAAAAAAAAAAAAAAAAAAAAAAAAAAAAAAAAAAAAAAAAAAAAAAAAAAAADAAAAAAAAAAAAAAAAAAAAAAAAAAMAAAAAAAMAAAAAAAAAAAAAAAAAAAADAAAAAAAAAAAAAAAAAAAAAAAAAAAAAAAAAAAAAAAAAAAAAAAAAAAAAAAAAAAAAAAAAAAAAAAAAAAAAAAAAAAAAAAAAAAAAAAAAAAAAAAAAAAAAAAAAAAAAAAAAAAAAAAAAAAAAAAAAAAAAAAAAAAAAAAAAAAAAAAAAAAAAAAAAAAAAAAAAAAAAAAAAAAAAAAAAAAAAAAAAAAAAAAAAAAAAAAAAAAAAAAAAAAAAAAAAAAAAAAAAAAAAAAAAAAAAAAAAAAAAAAAAAAAAAAAAAAAAAAAAAAAAAAAAAAAAAAAAAAAAAAAAAAAAAAAAAAAAAAAAAAAAAAAAAAAAAAAAAAAAAAAAAAAAAAAAAAAAAAAAAAAAAAAAAAAAAAAAAAAAAAAAAAAAAAAAAAAAAAAAAAAAAAAAAAAAAAAAAAAAAAAAAAAAAAAAAAAAAAAAAAAAAAAAAAAAAAAAAAAAAAAAAAAAAAAAAAAAAAAAAAAAAAAAAAAAAAAAAAAAAAAAAAAAAAAAAAAAAAAAAAAAAAAAAAAAAAAAAAAAAAAAAAAAAAAAAAAAAAAAAAAAAAAAAAAAAAAAAAAAAAAAAAAAAAAAAAAAAAAAAAAAAAAAAAAAAAAAAAAAAAAAAAAAAAAAAAAAAAAAAAAAAAAAAAAAAAAAAAAAAAAAAAAAAAAAAAAAAAAAAAAAAAAAAAAAAAAAAAAAAAAAAAAAwAAAAAAAAAAAAMAAAAAAAMAAAAAAAAAAwAAAAMAAAAAAAAAAwAAAAAAAAAAAAAAAAAAAAAAAAAAAAAAAAAAAAAAAAAAAAAAAAAAAAAAAAAAAAAAAAAAAAAAAAAAAAAAAAAAAAAAAAAAAAAAAAAAAAAAAAAAAAAAAAAAAAAAAAAAAAAADQ/wAAAAAAAND/AAAAAAAA0P8AAAAAAAAAAAAAAAAAAAAAAAAAAAAAAAAAAAAAAAAAAAAAAAAAAAAAAAAAAAAAAAAAAAAAAAAAAAAAAAAAAND/AADQ/9D/0P8AAAAAAAAAAAAAAAAAAAAAAAAAAAAAAAAAAAAAAAAAAAAAAAAAAAAAAAAAAAAAAADQ/wAA0P8AAAAAAAAAAND/AAAAAND/0P8AAAAA0P8AAAAAAAAAAAAAAAAAAAAAAAAAAAAAAAAAAAAAAAAAAAAAAAAAAAAAAAAAAAAAAAAAAAAAAAAAAAAAAAAAAAAAAAAAAAAAAAAAAAAAAAAAAAAAAAAAAAAAAAAAAAAAAAAAAAAAAAAAAAAAAAAAAAAAAAAAAAAAAAAAAAAAAAAAAAAAAAAAAAAAAAAAAAAAAAAAAAAAAAAAAAAAAAAAAAAAAAAAAAAAAAAAAAAAAAAAAAAAAAAAAAAAAAAAAAAAAAAAAAAAAAAAADAAAAAwAAAAMAAAADAAAAAwADAAMAAAAAAAAAAwADAAAAAwAAAAAAAAAAAAAAAAAAAAAAAAAAAAAAAAAAAAAAAAAAAAAAAAADAAMAAAADAAMAAwADAAAAAwAAAAMAAAADAAMAAAADAAAAAAAAAAAAAAAAAAAAAAAAAAAAAAAAAAAAAAAAAAAAAAAAAAAAAAADAAAAAAAAAAAAAAAAAAAAAAAAAAAAAAAAAAAAAAAAAAAAAAAAAAAAAAAAAAAAAAAAAAAAAAAAAAAAAAAAAAAAAAAAAAAAAAAAAAAAAAAAAAAAAAAAAAAAAAAAAAAAAAAAAAAAAAAAAAAAAAAAAAAAAAAAAAAAAAAAAAAAAAAAAAAAAAAAAAAAAAAAAAAAAAAAAAAADQ/wAAAAAAAAAAAAAAAAAAAAAAAAAAAAAAAAAAAAAAAAAAAAAAAAAAAAAAAAAAAAAAAAAAAAAAAAAAAAAAAAAAAAAAAAAAAAAAAAAAAAAAAAAAAAAAAAAAAAAAAAAAAAAAAAAAAAAAAAAAAAAAAAAAAAAAAAAAAAAAAAAAAAAAAAAAAAAAAAAAAAAAAAAAAAAAAAAAAAAAAAAAAAAAAAAAAAAAAAAAAAAAAAAAAAAAAAAAAAAAAAAAAAAAAAAAAAAAAAAAAAAAAAAAAAAAAAAAAAAAAAAAAAAAAAAAAAAAAAAAAAAAAAAAAAAAAAAAAAAAAAAAAAAAAAAAAAAAAAAAAAAAAAAAAAAAAAAAAAAAAAAAAAAAAAAAAAAAAAAAAAAAAAAAAAAAAAAAAAAAAAAAAAAAAAAAAAAAAAAAAAAAAAAAAAAAAAAAAAAAAAAAAAAAAAAAAAAAAAAAAAAAAAAAAAAAAAAAAAAwAAAAAAAAAAAAMAAwADAAMAAwAAAAAAAAAAAAAAAAAAAAAAAAAAAAAAAAAAAAAAAAAAAAAAAAAAAAAAAAAAAAAAAAAAAAAAAAAAAAAAAAAAAAAAAAAAAAAAAAAAAAAAAAAAAAAAAAAAAAAAAAAAAAAAAAAAAAAAAAAAAAAAAAAAAAAAAAAAAAAAAAAAAAAAAAAAAAAAAAAAAAAAAAAAAAAAAAAAAAAAAAAAAAAAAAAAAAAAAAAAAAAAAAAAAAAAAAAAAAAAAAAAAAAAAAAAAAAAAAAAAA0P8AAND/0P8AAAAA0P/Q/wAAAAAAAAAAAAAAAAAAAAAAAAAAAAAAAAAAAAAAAAAAAAAAAAAAAAAAAAAAAAAAAAAA0P8AAAAAAAAAAAAAAAAAAAAAAAAAAAAAAAAAAAAAAADQ/wAAAAAAAAAAAADQ/9D/0P8AAND/AADQ/wAAAADQ/wAAAAAAAAAA0P8AAAAAAAAAAND/AAAAAAAAAAAAAAAAAADQ/9D/AAAAAND/0P8AAAAAAAAAAAAAAAAAAAAAAAAAAAAAAAAAAAAAAAAAAAAAAAAAAAAAAAAAAAAAAAAAAAAAAAAAAAAAAAAAAAAAAAAAAAAAAAAAAAAAAAAAAAAAMAAAAAAAAAAAAAAAAAAAAAAAAAAAAAAAAAAAAAAAAAAAAAAAAAAAAAAAAAAAAAAAAAAAAAAAAAAAAAAAAAAAAAAAAAAAAAAAAAAAAAAAAAAAAAAAAAAAAAAAAAAAAAAAAAAAAAAAAAAAAAAAAAAAAAAAAAAAAAAAAAAAAAAAAAAAAAAAAAAAAAAAAAAAAAAAAAAAAAAAAAAAAAAAAAAAAAAAAAAAAAAAAAAAAAAAAAAAAAAAAAAAAAAAAAAAAAAAAAAAAAAAAAAAAAAAAAAAAAAAAAAAAAAAAAAAAAAAAAAAAAAAAAAAAAAAAAAAAAAAAAAAAAAAAAAAAAAAAAAAAAAAAAAAAAAAAAAAAAAAAAAAAAAAAAAAAAAAAAAAAAAAAAAAAAAAAAAAAAAAAAAAAAAAAAAAAAAAAAAAAAAAAAAAAAAAAAAAAAAAAAAAAAAAAAAAAAAAAAAAAAAAAAAAAAAAAAAAAAAAAAAAAAAAAAAAAAAAAAAwAAAAAAAAAAAAAAAAAAAAAAAAAAAAAAAAAAAAAAAAAAAAAAAAAAAAAAAAAAAAAAAAAAAAAAAAAAAAAAAAAAAAAAAAAAAAAAAAAAAAAAAAAAAAAAAAAAAAAAAAAAAAAAAAAAAAAAAAAAAAAAAAAAAAAAAAAAAAAAAAAAAAAAAAAAAAAAAAAAAAAAAAAAAAAAAAAAAAAAAAAAAAAAAAAAAAAAAAAAAAAAAAAAAAAAAAAAAAAAAAAAAAAAAAADAAAAAAADAAAAAAADAAMAAwAAAAAAAAAAAAMAAAAAAAAAAAAAAAAAAAAAAAAAAAAAAAAAAAAAAAAAAAAAAAAAAAAAAAAAAAAAAAAAAAAAAAAAAAAAAAAAAAAAAAAAAAAAAAAAAAAAAAAAAAAAAAAAAAAAAAAAAAAAAAAAAAAAAAAAAAAAAAAAAAAAAAAAAAAAAAAAAAAAAAAAAAAAAAAAAAAAAAAAAAAAAAAAAAAAAAAAAAAAAAAAAAAAAAAAAAAAAAAAAAAAAAAAAAAAAAAAAAAAAAAAAAAAAAAAAAAAAAAAAAAAAAAAAAAAAAAAAAAAAAAAAAAAAAAAAAAAAAAAAAAAAAAAAAAAAAAAAAAAAAAAAAAAAAAAAAAAAAAAAAAAAAAAAAAAAAAAAAAAAAAAAAAAAAAAAAAAAAAAAAAAAAAAAAAAAAAAAAAAAAAAAAAAAAAAAAAAAAAAAAAAAAAAAAAAAAAAAAAAAAAAAAAAAAAAAAAAAAAAAAAAAAAAAAAAAAAAAAAAAAAAAAAAAAAAAAAAAAAAAAAAAAAAAAAAAAAAAAAAAAAAAAAAAAAAAAAAAAAAAAAAAAAAAAAAAAAAAAAAAAAAAAAAAAAAAAAAAAAAAAAAAAAAAAAAAAAAAAAAAAAAAAAAAAAAAAAAAAAAAAAAAAAAAAAAAAAAAAAAAAAAAAAAAAAAAAAAAAAAAAAAAAAAAAAAAAAAAAAAAAAAAAAAAAAAAAAAAAAAAAAAAAAAAAAAAAAAAAAAAAAAAAAAAAAAAAAAAAAAAAAAAAAAAAAAAAAAAAAAAAAAAAAAAAAAAAAAAAAAAAAAAAAAAAAAAAAAAAAAAAAAAAAAAAAAAAAAAAAAAAAAAAAAAAAAAAAAAAAAAAAAAAAAAAAAAAAAAAAAAAAAAAAAAAAAAAAAAAAAAAAAAAAAAAAAAAAAAAAAAAAAAAAAAAAAAAAAAAAAAAAAAAAAAAAAAAAAAAAAAAAAAAAAAAAAAAAAAAAAAAAAAAAAAAAAAAAAAAAAAAAAAAAAAAAAAAAAAAAAAAAAAAAAAAAAAAAAAAAAAAAAAAAAAAAAAAAAAAAAAAAAAAAAAAAAAAAAAAAAAAAAAAAAAAAAAAAAAAAAAAAAAAAAAAAAAAAAAAAAAAAAAAAAAAAAAAAAAAAAAAAAAAAAAAAAAAAAAAAAAAAAAAAAAAAAAAAAAAAAAAAAAAAAAAAAAAAAAAAAAAAAAAAAAAAAAAAAAAAAAAAAAAAAAAAAAAAAAAAAAAAAAAAAAAAAAAAAAAAAAAAAAAAAAAAAAAAAAAAAAAAAAAAAAAAAAAAAAAAAAAAAAAAAAAAAAAAAAAAAAAAAAAAAAAAAAAAAAAAAAAAAAAAAAAAAAAAAAAAAAAAAAAAAAAAAAAAAAAAAAAAAAAAAAAAAAAAAAAAAAAAAAAAAAAAAAAAAAAAAAAAAAAAAAAAAAAAAAAAAAAAAAAAAAAAAAAAAAAAAAAAAAAAAAAAAAAAAAAAAAAAAAAAAAAAAAAAAAAAAAAAAAAAAAAAAAAAAAAAAAAAAAAAAAAAAAAAAAAAAAAAAAAAAAAAAAAAAAAAAAAAAAAAAAAAAAAAAAAAAAAAAAwAAAAAAAAAAAAAAAwAAAAAAAAAAAAAAAAAAAAMAAAAAAAAAAAAAAAAAAAAAAAAAAAAAAAAAAAAAAAAAAAAAAAAAAAAAAAAAAAAAAAAAAAAAAAAAAAAAAAAAAAAAAAAAAAAAAAAAAAAAAAAAAAAAAAAAAAAAAAAAAAAAAAAAAAAAAAAAAAAAAAAAAAAAAAAAAAAAAAAAAAAAAAAAAAAAAAAAAAAAAAAAAAAAAAAAAAAAAAAAAAAAAAAAAAAAAAAAAAAAAAAAAAAAAAAAAAAAAAAAAAAAAAAAAAAAAAAAAAAAAAAAAAAAAAAAAAAAAAAAAAAAAAAAAAAAAAAAAAAAAAAAAAAAAAAAAAAAAAAAAAAAAAAAAAAAAAAAAAAAAAAAAAAAAAAAAAAAAAAAAAAAAAAAAAAAAAAAAAAAAAAAAAAAAAAAAAAAAAAAAAAAAAAAAAAAAAAAAAAAAAAAAAAAAAAAAAAAAAAAAAAAAAAAAAAAAAAAAAAAAAAAAAAAAAAAAAAAAAAAAAAAAAAAAAAAAAAAAAAAAAAAAAAAAAAAAAAAAAAAAAAAAAAAAAAAAAAAAAAAAAAAAAAAAAAAAAAAAAAAAAAAAAAAAAAAAAAAAAAAAAAAAAAAAAAAAAAAAAAAAwAAAAAAAAAAAAAAAAAAAAAAAwAAAAAAAAAAAAAAAAAAAAAAAAAAAAAAAAAAAAAAAAAAAAAAAAAAAAAAAAAAAAAAAAAAAAAAAAADAAAAAAAAAAAAAAAAAAAAAAAAAAAAAAAAAAAAAAAAAAAAAAAAAAAAAAAAAAAAAAAAAAAAAAAAAAAAAAAAAAAAAAAAAAAAAAAAAAAAAAAAAAAAAAAAAAAAAAAAAAAAAAAAAAAAAAAAAAAAAAAAAAAAAAAAAAAAAAAAAAAAAAAAAAAAAAAAAAAAAAAAAAAAAAAAAAAAAAAAAAAAAAAAAAAAAAAAAAAAAAAAAAAAAAAAAAAAAAAAAAAAAAAAAAAAAAAAAAAAAAAAAAAAAAAAAAAAAAAAAAAAAAAAAAAAAAAAAAAAAAAAAAAAAAAAAAAAAAAAAAAAAAAAAAAAAAAAAAAAAAAAAAAAAAAAAAAAAAAAAAAAAAAAAAAAAAAAAAAAAAAAAAAAAAAAAAAAAAAAAAAAAAAAAAAAAAAAAAAAAAAAAAAAAAAAAAAAAAAAAAAAAAAAAAAAAAAAAAAAAAAAAAAAAAAAAAAAAAAAAAAAAAAAAAAAAAAAAAAAAAAAAAAAAAAAAAAAAAAAAAAAAAAAAAAAAAAAAAAAAAAAAAAAAAAAAAAAAAAAAAAAAAAAAAAAAAAAAAAAAAAAAAAAAAAAAAAAAAAAAAAAAAAAAAAAAAAAAAAAAAAAAAAAAAAAAAAAAAAAAAAAAAAAAAAAAAAAAAAAAAAAAAAAAwAAAAAAAAAAAAAAAAADAAMAAAAAAAAAAwAAAAAAAAAAAAMAAAAAAAYAAwADAAAAAAADAAMAAwADAAMAAwADAAMAAwADAAYAAwAAAAMAAAAAAAAAAAAAAAMAAAAAAAAAAAADAAAAAAAAAAAAAAADAAAAAAAAAAAAAAAAAAAAAAAAAAAAAAAAAAAAAAAAAAAAAAADAAAAAAAAAAAAAAAAAAAAAAAAAAAAAAAAAAAAAAAAAAAAAAAAAAAAAAAAAAAAAAAAAAAAAAAAAAAAAAAAAAAAAAAAAAAAAAAAAAAAAAAAAAAAAAAAAAAAAAAAAAAAAAAAAAAAAAAAAAAAAAAAAAAAAAAAAAAAAAAAAAAAAAAAAAAAAAAAAAAAAAAAAAAAAAAAAAAAAAAAAAAAAAAAAAAAAAAAAAAAAAAAAAAAAAAAAAAAAAAAAAAAAAAAAAAAAAAAAAAAAAAAAAAAAAAAAAAAAAAAAAAAAAAAAAAAAAAAAAAAAAAAAAAAAAAAAAAAAAAAAAAAAAAAAAAAAAAAAAAAAAAAAAAAAAAAAAAAAAAAAAAADQ/wAAAAAAAAAAAADQ/9D/AADQ/wAAAAAAAAAAAAAAAAAA0P8AAAAAAAAAAAAAAAAAAAAAAAAAAAAAAAAAAAAAAAAAAAAAAAAAAND/0P8AAAAAAADQ/wAAAAAAAAAAAAAAAAAAAAAAAAAAAAAAAAAAAAAAAAAAAAAAAAAAAAAAAAAAAAAAAAAAAAAAAAAAAAAAAAAAAAAAAAAAAAAAAAAAAAAAAAAAAAAAAAAAAAAAAAAAAAAAAAAAAAAAAAAAAAAAAAAAAAAAAAAAAAAAAAAAAAAAAAAAAAAAAAAAAAAAAAAAAAAAAAAAAAAAAAAAAAAAAAAAAAAAAAAAAAAAAAAAAAAAAAAAAAAAAAAAAAAAAAAAAAAAAAAAAAAAAAAAAAAAAAAAAAAAAAAAAAAAAAAAAAAAAAAAAAAAAAAAAAAAAAAAAAAAAAAAAAAAAAAAAAAAAAAAAAAAAAAAAAAAAAAAAAAAAAAAAAAAAND/AAAAAAAAAAAAAAAAAAAAAAAAAAAAAND/AAAAAAAAAAAAAAAA0P8AAAAAAAAAAAAAAAAAAAAAAAAAAAAAAAAAAAAAAAAAAND/AAAAAAAAAAAAAAAAAAAAAAAA0P/Q/wAA0P8AAAAA0P8AAAAAAADQ/wAA0P/Q/wAAAADQ/9D/AAAAAAAAAAAAAAAAAAAAAAAAAAAAAAAAAAAAAAAAAAAAAAAAAAAAAAAAAAAAAAAAAAAAAAAAAAAAAAAAAAAAAAAAAAAAAAAAAAAAAAAAAAAAAAAAAAAAAAAAAAAAAAAA0P8AAAAAAAAAAAAAAAAAAND/AAAAAAAAAAAAAAAAAAAAAAAAAAAAAAAAAAAAAAAAAAAAAAAAAAAAAAAAAAAAAAAAAAAAAAAAAAAAAAAAAAAAAAAAAAAAAAAAAAAAAAAAAAAAAAAAAAAAAAAAAAAAAAAAAAAAAAAAAAAAAAAAAAAAAAAAAAAAAAAAAAAAAAAAAAAAAAAAAAAAAAAAAAAAAAAAAAAAAAAAAAAAAAAAAAAAAAAAAAAAAAAAAAAAAAAAAAAAAAAAAAAAAAAAAAAAAAAAAAAAAAAAAAAAAAAAAAAAAAAAAAAAAAAAAAAAAAAAAAAAAAAAAAAAAAAAAAAAAAAAAAAAAAAAAAAAAAAAAAAAAAAAAAAAAAAAAAAAAAAAAAAAAAAAAADQ/wAAAAAAAAAAAAAAAAAAAAAAAAAAAAAAAAAAAAAAAAAAAAAAAAAAAAAAAAAAAAAAAAAAAAAAAAAAAADQ/wAAAAAAAND/AAAAAAAAAAAAAAAAAAAAAAAAAAAAAAAAAAAAAAAAAADQ/wAAAAAAAND/AAAAAAAAAAAAAND/AAAAAAAAAAAAAAAAAAAAAAAAAAAAAAAAAAAAAAAAAAAAAAAA0P8AAAAA0P/Q/wAAAAAAAAAA0P8AAAAAAAAAAAAAAAAAAAAAAAAAAAAAAAAAAAAAAAAAAAAAAAAAAAAAAAAAAAAAAAAAAAAAAAAAAAAAAAAAAAAAAAAAAAAAAAAAAAAAAAAAAAAAAAAAAAAAAAAAAAAAAAAAAAAAAAAAAAAAAAAAAAAAAAAAAAAAAAAAAAAAAAAAAAAAAAAAAAAAAAAAAAAAAAAAAAAAAAAAAAAAAAAAAAAAAAAAAAAAAAAAAAAAAAAAAAAAAAAAAAAAAAAAAAAAAAAAAAAAAAAAAAAAAAAAAAAAAAAAAAAAAAAAADAAAAAAAAAAAAAAAAAAAAAAAAAAAAAAAAAAAAAAAAAAAAAAAAAAAAAAAAAAAAAAAAAAAAAAAAAAAAAAAAAAAAAAAAAAAAAAAAAAAAAAAAAAAAAAAAAAAAAAAAAAAAAAAAAAAAAAAAAAAAAAAAAAAAAAAAAAAAAAAAAAAAAAAAAAAAAAAAAAAAAAAAAAAAAAAAAAAAAAAAAAAAAAAAAAAAAAAAAAAAAAAAAAAAAAAAAAAAAAAAAAAAAAAAAAAAAAAAAAAAAAAAAAAAAAAAAAAAAAAAAAAAAAAAAAAAAAAAAAAAAAAAAAAAAAAAAAAAAAAAAAAAAAAAAAAAAAAAAAAAAAAAAAAAAAAAAAAAAAAAAAAAAAAAAAAAAAAAAAAAAAAAAAAAAAAAAAAAAAAAAAAAAAAAAAAAAAAAAAAAAAAAAAAAAAAAAAAAAAAAAAAAAAAAAAAAAAAAAAAAAAAAAAAAAAAAAAAAAAAAAAAAAAAAAAAAAAAAAAAAAAAAAAAAAAAAAAAAAAAAAAAAAAAAAAAAAAAAAAAAAAAAAAAAAAAAAAAAAAAAAAAAAAAAAAAAAAAAAAAAAAAAAAAAAAAAAAAAAAAAAAAAAAAAAAAAAAAAAAAAAAAAAAAAAAAAAAAAAAAAAAAAAAAAAAAAAAAAAAAAAAAAAAAAAAAAAAAAAAAAAAAAAAAAAAAAAAAAAAAAAAAAAAAAAAAAAAAAAAAAAAAAAAAAAAMAAAAAAAAAAAAAAAAAAAAAAAAAAAAAAAAAAAAAAAAAAAAAAAAAAAAAAAAAAAAAAAAAAAAAAAAAAAADAAAAAAAAAAAAAAAAAAAAAAAAAAAAAAAAAAAAAAADAAAAAAAAAAAAAwAAAAAAAAAAAAAAAAAAAAAAAAAAAAAAAAAAAAAAAAAAAAAAAAAAAAAAAAAAAAAAAAAAAAAAAAAAAAAAAAAAAAAAAAAAAAAAAAAAAAAAAAAAAAAAAAAAAAAAAAAAAAAAAAAAAAAAAAAAAAAAAAAAAAAAAAAAAAAAAAAAAAAAAAAAAAAAAAAAAAAAAAAAAAAAAAAAAAAAAAAAAAAAAAAAAAAAAAAAAAAAAAAAAAAAAAAAAAAAAAAAAAAAAAAAAAAAAAAAAAAAAAAAAAAAAAAAAAAAAAAAAAAAAAAAAAAAAAAAAAAAAAAAAAAAAAAAAAAAAAAAAAAAAAAAAAAAAAAAAAAAAAAAAAAAAAAAAAAAAAAAAAAAAAAAAAAAAAAAAAAAAAAAAAAAAAAAAAAAAAAAAAAAAAAAAAAAAAAAAAAAAAAAAAAAAAAAAAAAAAAAAAAAAAAAAAAAAAAAAAAAAAAAAAAAAAAAAAAAAAAAAAAAAAAAAAAAAAAAAAAAAAAAAAAAAAAAAAAAAAAAAAAAAAAAAAAAAAAAAAAAAAAAAAAAAAAAAAAAAAAAAAAAAAAAAAAAAAAAAAAAAAAAAAAAAAAAAAAAAAAAAAAAAAAAAAAAAAAAAAAAAAAAAAAAAAAAAAAAAAAAAAAAAAAAAAAAAAAAAAAAAAAAAAAAAAAAAAAAAAAAAAAAAAAAAAAAAAAAAAAAAAAAAAAAAAAAAAAAAAAAAAAAAAAAAAAAAAAAAAAAAAAAAAAAAAAAAAAAAAAAAAAAAAAAAAAAAAAAAAAAAAAAAAAAAAAAAAAAAAAAAAAAAAAAAAAAAAAAAAAAAAAAAAAAAAAAAAAAAAAAAAAAAAAAAAAAAAAAAAAAAAAAAAAAAAAAAAAAAAAAAAAAAAAAAAAAAAAAAAAAAAAAAAAAAAAAAAAAAAAAAAAAAAAAAAAAAAAAAAAAAAAAAAAAAAAAAAAAAAAAAAAAAAAAAAAAAAAAAAAAAAAAAAAAAAAAAAAAAAAAAAAAAAAAAAAAAAAAAAAAAAAAAAAAAAAAAAAAAAAAAAAAAAAAAAAAAAAAAAAAAAAAAAAAAAAAAAAAAAAAAAAAAAAAAAAAAAAAAAAAAAAAAAAAAAAAAAAAAAAAAAAAAAAAAAAAAAAAAAAAAAAAAAAAAAAAAAAAAAAAAAAAAAAAAAAAAAAAAAAAAAAAAAAAAAAAAAAAAAAAAAAAAAAAAAAAAAAAAAAAAAAAAAAAAAAAAAAAAAAAAAAAAAAAAAAAAAAAAAAAAAAAAAAAAAAAAAAAAAAAAAAAAAAAAAAAAAAAAAAAAAAAAAAAAAAAAAAAAAAAAAAAAAAAAAAAAAAAAAAAAAAAAAAAAAAAAAAAAAAAAAAAAAAAAAAAAAAAAAAAAAAAAAAAAAAAAAAAAAAAAAAAAAAAAAAAAAAAAAAAAAAAAAAAAAAAAAAAAAAAAAAAAAAAAAAAAAAAAAAAAAAAAAAAAAAAAAAAAAAAAAAAAAAAAAAAAAAAAAAAAAAAAAAAAAAAAAAAAAAAAAAAAAAAAAAAAAAAAAAAAAAAAAAAAAAAAAAAAAAAAAAAAAAAAAAAAAAAAAAAAAAAAAAAAAAAAAAAAAAAAAAAAAAAAAAAAAAAAAAAAAAAAAAAAAAAAAAAAAAAAAAAAAAAAAAAAAAAAAAAAAAAAAAAAAAAAAAAAAAAAAAAAAAAAAAAAAAAAAAAAAAAAAAAAAAAAAAAAAAAAAAAAAAAAAAAAAAAAAAAAAAAAAAAAAAAAAAAAAAAAAAAAAAAAAAAAAAAAAAAAAAAAAAAAAAAAAAAAAAAAAAAAAAAAAAAAAAAAAAAAAAAAAAAAAAAAAAAAAAAAAAAAAAAAAAAAAAAAAAAAAAAAAAAAAAAAAAAAAAAAAAAAAAAAAAAAAAAAAAAAAAAAAAAAAAAAAAAAAAAAAAAAAAAAAAAAAAAAAAAAAAAAAAAAAAAAAAAAAAAAAAAAAAAAAAAAAAAAAAAAAAAAAAAAAAAAAAAAAAAAAAAAAAAAAAAAAAAAAAAAAAAAAAAAAAAAAAAAAAAAAAAAAAAAAAAAAAAAAAAAAAAAAAAAAAAAAAAAAAAAAAAAAAAAAAAAAAAAAAAAAAAAAAAAAAAAAAAAAAAAAAAAAAAAAAAAAAAAAAAAAAAAAAAAAAAAAAAAAAAAAAAAAAAAAAAAAAAAAAAAAAAAAAAAAAAAAAAAAAAAAAAAAAAAAAAAAAAAAAAAAAAAAAAAAAAAAAAAAAAAAAAAAAAAAAAAAAAAAAAAAAAAAAAAAAAAAAAAAAAAAAAAAAAAAAAAAAAAAAAAAAAAAAAAAAAAAAAAAAAAAAAAAAAAAAAAAAAAAAAAAAAAAAAAAAAAAAAAAAAAAAAAAAAAAAAAAAAAAAAAAAAAAAAAAAAAAAAAAAAAAAAAAAAAAAAAAAAAAAAAAAAAAAAAAAAAAAAAAAAAAAAAAAAAAAAAAAAAAAAAAAAAAAAAAAAAAAAAAAAAAAAAAAAAAAAAAAAAAAAAAAAAAAAAAAAAAAAAAAAAAAAAAAAAAAAAAAAAAAAAAAAAAAAAAAAAAAAAAAAAAAAAAAAAAAAAAAAAAAAAAAAAAAAAAAAAAAAAAAAAAAAAAAAAAAAAAAAAAAAAAAAAAAAAAAAAAAAAAAAAAAAAAAAAAAAAAAAAAAADQ/wAAAAAAAAAAAADQ/wAAAAAAAAAAAAAAAAAAAAAAAAAAAAAAAAAAAAAAAAAAAAAAAAAAAAAAAAAAAAAAAAAAAAAAAAAAAAAAAAAAAAAAAAAAAAAAAAAAAAAAAAAAAAAAAAAAAAAAAAAAAAAAAAAAAAAAAAAAAAAAAAAAAAAAAAAAAAAAAAAAAAAAAAAAAAAAAAAAAAAAAAAAAAAAAAAAAAAAAAAAAAAAAAAAAAAAAAAAAAAAAAAAAAAAAAAAAAAAAAAAAAAAAAAAAAAAAAAAAAAAAAAAAAAAAAAAAAAAAAAAAAAAAAAAAAAAAAAAAAAAAAAAAAAAAAAAAAAwAAAAAAAAAAAAAAAAAAAAAAAAAAAAAAAAAAAAAAAAAAAAAAAAAAAAAAAAAAAAAAAAAAAAAAAAAAAAAAAAAAAAAAAAAAAAAAAAAAAAAAAAAAAAAAAAAAAAAAAAAAAAAAAAAAAAAAAAAAAAAAAAAAAAAAAAAAAAAAAAAAAAAAAAAAAAAAAAAAAAAAAAAAAAAAAAAAAAAAAAAAAAAAAAAAAAAAAAAAAAAAAAAAAAAAAAAAAAAAAAAAAAAAAAAAAAAAAAAAAAAAAAAAAAAAAAAAAAAAAAAAAAAAAAAAAAAAAAAAAAAAAAAAAAAAAAAAAAAAAAAAAAAAAAAAAAAAAAAAAAAAAAAAAAAAAAAAAAAAAAAAAAAAAAAAAAAAAAAAAAAAAAAAAAAAAAAAAAAAAAAAAAAAAAAAAAAAAAAAAAAAAAAAAAAADQ/wAAAAAAAAAA0P8AAND/0P8AAAAAAADQ/wAAAAAAAAAAAAAAAAAAAAAAAAAAAAAAAAAAAAAAAAAAAAAAAAAAAAAAAAAAAAAAAAAAAAAAAAAAAAAAAAAAAAAAAAAAAAAAAAAAAAAAAAAAAAAAAAAAAAAAAAAAAAAAAAAAAAAAAAAAAAAAAAAAAAAAAAAAAAAAAAAAAAAAAAAAAAAAAAAAAAAAAAAAAAAAAAAAAAAAAAAAAAAAAAAAAAAAAAAAAAAAAAAAAAAAAAAAAAAAAAAAAAAwAAAAAAAwAAAAAAAAAAAAAAAwADAAAAAAAAAAAAAAADAAAAAAAAAAAAAAAAAAMAAAAAAAAAAAAAAAAAAAAAAAAAAAAAAAAAAAADAAAAAAAAAAAAAAAAAAAAAAAAAAAAAAAAAAAAAAAAAAAAAAAAAAAAAAAAAAAAAAAAAAAAAAAAAAAAAAAAAAAAAAAAAAAAAAAAAAAAAAAAAAAAAAAAAAAAAAAAAAAAAAAAAAAAAAAAAAAAAAAAAAAAAAAAAAAAAAAAAAAAAAAAAAAAAAAAAAAAAAAAAAAAAAAAAAAAAAAAAAAAAAAAAAAAAAAAAAAAAAAAAAAAAAAAAAAAAAAAAAAAAAAAAAAAAAAAAAAAAAAAAAAAAAAAAAAAAAAAAAAAAAAAAAAAAAAAAAAAAAAAAAAAAAAAAAAAAAAAAAAAAAAAAAAAAAAAAAAAAAAAAAAAAAAAAAAAAAAAAAAAAAAAAAAAAAAAAAAAAAAAAAAAAAAAAAAAAAAAAAAAAAAAAAAAAAAAAAAAAAAAAAAAAAAAAAAAAAAAAAAAAAAAAAAAAAAAAAAAAAAAAAAAAAAAAAAAAAAAAAAAAAAAAAAAAAAAAAAAAAAAAAAAAAAAAAAAAAAAAAAAAAAAAAAAAAAAAAAAAAAAAAAAAAAAAAAAAAAAAAAAAAAAAAAAAAAAAAAAAAAAAAAAAAAAAAAAAAAAAAAAAAAAAAAAAAAAAAAAAAAAAAAAAAAAAAAAAAAAAAAAAAAAAAAAAAAAAAAAAAAAAAAAAwAAAAAAAAAAAAAAAAAAAAAAAAAAAAAAAAAAAAAAAAAAAAAAAAAAAAAAAAAAAAAAAAAAAAAAAAAAAAAAAAAAAAAAAAAAAAAAAAAAAAAAAAAAAAAAAAAAAAAAAAAAAAAAAAAAAAAAAAAAAAAAAAAAAAAAAAAAAAAAAAAAAAAAAAAAAAAAAAAAAAAAAAAAAAAAAAAAAAAAAAAAAAAAAAAAAAAAAAAAAAAAAAAAAAAAAAAAAAAAAAAAAAAAAAAAAAAAAAAAAAAAAAAAAAAADQ/wAAAAAAAND/AAAAAAAAAAAAAAAAAAAAAAAAAAAAAND/AAAAAAAAAAAAAAAAAAAAAAAA0P8AAAAAAAAAAAAAAAAAAAAA0P8AAAAAAADQ/wAAAADQ/wAAAAAAAAAAAAAAAAAAAAAAAAAAAAAAAAAAAAAAAAAAAAAAAAAAAAAAAAAAAAAAAAAAAAAAAAAAAAAAAAAAAAAAAAAAAAAAAAAAAAAAAAAAAAAAAAAAAAAAAAAAAAAAAAAAAAAAAAAAAAAAAAAAAAAAAAAAAAAAAAAAAAAAAAAAAAAAAAAAAAAAAAAAAAAAAAAAAAAAAAAAAAAAAAAAAAAAAAAAAAAAAAAAAAAAAAAAAAAAAAAAAAAAAAAAAAAAAAAAAAAAAAAAAAAAAAAAAAAAAAAAAAAAAAAAAAAAAAAAAAAAAAAAAAAAAAAAAAAAAAAAAAAAAAAAAAAAAAAAAAAAAAAAAAAAAAAAAAAAAAAAAAAAAAAAAAAAAAAAAAAAAAAAAAAAAAAAAAAAAAAAAAAAAAAAAAAAAAAAAAAAAAAAAAAAAAAAAAAAAAAAAAAAAAAAAAAAAAAAAAAAAAAAAAAAAAAAAAAAAAAAAAAAAAAAAAAAAAAAAAAAAAAAAAAAAAAAAAAAAAAAAAAAAAAAAAAAAAAAAAAAAAAAAAAAAAAAAAAAAAAAAAAAAAAAAAAAAAAAAAAAAAAAAAAAAAAAAAAAAAAAAAAAAAAAAAAAAAAAAAAAAAAAAAAAAAAAAAAAAAAAAAAAAAAAAAAAAAAAAAAAAAAAAAAAAAAAAAAAAAAAAAAAAAAAAAAAAAAAAAAAAAAAAAAAAAAAAAAAAAAAAAAAAAAAAAAAAAAAAAAAAAAAAAAAAAAAAAAAAAAAAAAAAAAAAAAAAAAAAAAAAAAAAAAAAAAAAAAAAAAAAAAAAAAAAAAAAAAAAAAAAAAAAAAAAAAAAAAAAAAAAAAAAAAAAAAAAAAAAAAAAAAAAAAAAAAAAAAAAAAAAAAAAAAAAAAAAAAAAAAAAAAAAAAAAAAAAAAAAAAAAAAAAAAAAAAAAAAAAAAAAAAAAAAAAAAAAAAAAAAAAAAAAAAAAAAAAAAAAAAAAAAAAAAAAAAAAAAAAAAAAAAAAAAAAAAAAAAAAAAAAAAAAAAAAAAAAAAAAAAAAAAAAAAAAAAAAAAAAAAAAAAAAAAAAAAAAAAAAAAAAAAAAAAAAAAAAAAAAAAAAAAAAAAAAAAAAAAAAAAAAAAAAAAAAAAAAAAAAAAAAAAAAAAAAAAAAAAAAAAAAAAAAAAAAAAAAAAAAAAAAAAAAAAAAAAAAAAAAAAAAAAAAAAAAAAAAAAAAAAAAAAAAAAAAAAAAAAAAAAAAAAAAAAAAAAAAAAAAAAAAAAAAAAAAAAAAAAAAAAAAAAAAAAAAAAAAAAAAAAAAAAAAAAAAAAAAAAAAAAAAAAAAAAAAAAAAAAAAAAAAAAAAAAAAAAAAAAAAAAAAAAAAAAAAAAAAAAAAAAAAAAAAAAAAAAAAAAAAAAAAAAAAAAAAAAAAAAAAAAAAAAAAAAAAAAAAAAAAAAAAAAAAAAAAAAAAAAAAAAAAAAAAAAAAAAAAAAAAAAAAAAAAAAAAAAAAAAAAAAAAAAAAAAAAAAAAAAAAAAAAAAAAAAAAAAAAAAAAAAAAAAAAAAAAAAAAAAAAAAAAAAAAAAAAAAAAAAAAAAAAAAAAAAAAAAAAAAAAAAAAAAAAAAAAAAAAAAAAAAAAAAAAAAAAAAAAAAAAAAAAAAAAAAAAAAAAAAAAAAAAAAAAAAAAAAAAAAAAAAAAAAAAAAAAAAAAAAAAAAAAAAAAAAAAAAAAAAAAAAAAAAAAAAAAAAAAAAAAAAAAAAAAAAAAAAAAAAAAAAAAAAAAAAAAAAAAAAAAAAAAAAAAAAAAAAAAAAAAAAAAAAAAAAAAAAAAAAAMAAAAAAAAAAAAAAAAAAAAAAAAAAAAAAAAAAAAAAAAAAAAAAAAAAAAAAAAAAAAAAAAAAAAAAAAAAAAAAAAAAAAAAAAAAAAAAAAAAAAAAAAAAAAAAAAAAAAAAAAAAAAAAAAAAAAAAAAAAAAAAAAAAAAAAAAAAAAAAAAAAAAAAAAAAAAAAAAAAAAAAAAAAAAAAAAAAAAAAAAAAAAAAAAAAAAAAAAAAAAAAAAAAAAAAAAAAAAAAAAAAAAAAAAAAAAAAAAAAAAAAAAAAAAAAAAAAAAAAAAAAAAAAAAAAAAAAAAAAAAAAAAAAAAAAAAAAAAAAAAAAAAAAAAAAAAAAAAAAAAAAAAAAAAAAAAAAAAAAAAAAAAAAAAAAAAAAAAAAAAAAAAAAAAAAAAAAAAAAAAAAAAAAAAAAAAAAAAAAAAAAAAAAAAAAAAAAAAAAAAAAAAAAAAAAAAAAAAAAAAAAAAAAAAAAAAAAAAAAAAAAAAAAAAAAAAAAAAAAAAAAAAAAAAAAAAAAAAAAAAAAAAAAAAAAAAAAAAAAAAAAAAAAAAAAAAAAAAAAAAAAAAAAAAAAAAAAAAAAAAAAAAAAAAAAAAAAAAAAAAAAAAAAAAAAAAAAAAAAAAAAAAAAAAAAAAAAAAAAAAAAAAAAAAAAAAAAAAAAAAAAAAAAAAAAAAAAAAAAAAAAAAAAAAAAAAAAAAAAAAAAAAAAAAAAAAAAAAAAAAAAAAAAAAAAAAAAAAAAAAAAAAAAAAAAAAAAAAAAAAAAAAAAAAAAAAAAAAAAAAAAAAAAAAAAAAAAAAAAAAAAAAAAAAAAAAAAAAAAAAAAAAAAAAAAAAAAAAAAAAAAAAAAAAAAAAAAAAAAAAAAAAAAAAAAAAAAAAAAAAAAAAAAAAAAAAAAAAAAAAAAAAAAAAAAAAAAAAAAAAAAAAAAAAAAAAAAAAAAAAAAAAAAAAAAAAAAAAAAAAAAAAAAAAAAAAAAAAAAAAAAAAAAAAAAAAAAAAAAAAAAAAAAAAAAAAAAAAAAAAAAAAAAAAAAAAAAAAAAAAAAAAAAAAAAAAAAAAAAAAAAAAAAAAAAAAAAAAAAAAAAAAAAAAAAAAAAAAAAAAAAAAAAAAAAAAAAAAAAAAAAAAAAAAAAAAAAAAAAAAAAAAAAAAAAAAAAAAAAAAAAAAAAAAAAAAAAAAAAAAAAAAAAAAAAAAAAAAAAAAAAAAAAAAAAAAAAAAAAAAAAAAAAAAAAAAAAAAAAAAAAAAAAAAAAAAAAAAAAAAAAAAAAAAAAAAAAAAAAAAAAAAAAAAAAAAAAAAAAAAAAAAAAAAAAAAAAAAAAAAAAAAAAAAAAAAAAAAAAAAAAAAAAAAAAAAAAAAAAAAAAAAAAAAAAAAAAAAAAAAAAAAAAAAAAAAAAAAAAAAAAAAAAAAAAAAAAAAAAAAAAAAAAAAAAAAAAAAAAAAAAAAAAAAAAAAAAAAAAAAAAAAAAAAAAAAAAAAAAAAAAAAAAAAAAAAAAAAAAAAAAAAAAAAAAAAAAAAAAAAAAAAAAAAAAAAAAAAAAAAAAAAAAAAAAAAAAAAAAAAAAAAAAAAAAAAAAAAAAAAAAAAAAAAAAAAAAAAAAAAAAAAAAAAAAAAAAAAAAAAAAAAAAAAAAAAAAAAAAAAAAAAAAAAAAAAAAAAAAAAAAAAAAAAAAAAAAAAAAAAAAAAAAAAAAAAAAAAAAAAAAAAAAAAAAAAAAAAAAAAAAAAAAAAAAAAAAAAAAAAAAAAAAAAAAAAAAAAAAAAAAAAAAAAAAAAAAAAAAAAAAAAAAAAAAAAAAAAAAAAAAAAAAAAAAAAAAAAAAAAAAAAAAAAAAAAAAAAAAAAAAAAAAAAAAAAAAAAAAAAAAAAAAAAAAAAAAAAAAAAAAAAAAAAAAAAAAAAAAAAAAAAAAAAAAAAAAAAAAAAAAAAAAAAAAAAAAAAAAAAAAAAAAAAAAAAAAAAAAAAAAAAAAAAAAAAAAAAAAAAAAAAAAAAAAAAAAAAAAAAAAAAAAAAAAAAAAAAAAAAAAAAAAAAAAAAAAAAAAAAAAAAAAAAAAAAAAAAAAAAAAAAAAAAAAAAAAAAAAAAAAAAAAAAAAAAAAAAAAAAAAAAAAAAAAAAAAAAAAAAAAAAAAAAAAAAAAAAAAAAAAAAAAAAAAAAAAAAAAAAAAAAAAAAAAAAAAAAAAAAAAAAAAAAAAAAAAAAAAAAAAAAAAAAAAAAAAAAAAAAAAAAAAAAAAAAAAAAAAAAAAAAAAAAAAAAAAAAAAAAAAAAAAAAAAAAAAAAAAAAAAAAAAAAAAAAAAAAAAAAAAAAAAAAAAAAAAAAAAAAAAAAAAAAAAAAAAAAAAAAAAAAAAAAAAAAAAAAAAAAAAAAAAAAAAAAAAAAAAAAAAAAAAAAAAAAAAAAAAAAAAAAAAAAAAAAAAAAAAAAAAAAAAAAAAAAAAAAAAAAAAAAAAAAAAAAAAAAAAAAAAAAAAAAAAAAAAAAAAAAAAAAAAAAAAAAAAAAAAAAAAAAAAAAAAAAAAAAAAAAAAAAAAAAAAAAAAAAAAAAAAAAAAAAAAAAAAAAAAAAAAAAAAAAAAAAAAAAAAAAAAAAAAAAAAAAAAAAAAAAAAAAAAAAAAAAAAAAAAAAAAAAAAAAAAAAAAAAAAAAAAAAAAAAAAAAAAAAAAAAAAAAAAAAAAAAAAAAAAAAAAAAAAAAAAAAAAAAAAAAAAAAAAAAAAAAAAAAAAAAAAAAAAAAAAAAAAAAAAAAAAAAAAAAAAAAAAAAAAAAAAAAAAAAAAAAAAAAAAAAAAAAAAAAAAAAAAAAAAAAAAAAAAAAAAAAAAAAAAAAAAAAAAAAAAAAAAAAAAAAAAAAAAAAAAAAAAAAAAAAAAAAAAAAAAAAAAAAAAAAAAAAAAAAAAAAAAAAAAAAAAAAAAAAAAAAAAAAAAAAAAAAAAAAAAAAAAAAAAAAAAAAAAAAAAAAAAAAAAAAAAAAAAAAAAAAAAAAAAAAAAAAAAAAAAAAAAAAAAAAAAAAAAAAAAAAAAAAAAAAAAAAAAAAAAAAAAAAAAAAAAAAAAAAAAAAAAAAAAAAAAAAAAAAAAAAAAAAAAAAAAAAAAAAAAAAAAAAAAAAAAAAAAAAAAAAAAAAAAAAAAAAAAAAAAAAAAAAAAAAAAAAAAAAAAAAAAAAAAAAAAAAAAAAAAAAAAAAAAAAAAAAAAAAAAAAAAAAAAAAAAAAAAAAAAAAAAAAAAAAAAAAAAAAAAAAAAAAAAAAAAAAAAAAAAAAAAAAAAAAAAAAAAAAAAAAAAAAAAAAAAAAAAAAAAAAAAAAAAAAAAAAAAAAAAAAAAAAAAAAAAAAAAAAAAAAAAAAAAAAAAAAAAAAAAAAAAAAAAAAAAAAAAAAAAAAAAAAAAAAAAAAAAAAAAAAAAAAAAAAAAAAAAAAAAAAAAAAAAAAAAAAAAAAAAAAAAAAAAAAAAAAAAAAAAAAAAAAAAAAND/AAAAAAAAAAAAAAAAAAAAAAAAAAAAAAAAAAAAAAAAAAAAAAAA0P8AAAAAAAAAAAAAAAAAAAAAAAAAAAAAAAAAAAAAAAAAAAAAAAAAAAAAAAAAAAAAAAAAAAAAAAAAAAAAAAAAAAAAAAAAAAAAAAAAAAAAAAAAAAAAAAAAAAAAAAAAAAAAAAAAAAAAAAAAAAAAAAAAAAAAAAAAAAAAAAAAAAAAAAAAAAAAAAAAAAAAAAAAAAAAAAAAAAAAAAAAAAAAAAAAAAAAAAAAAAAAAAAAAAAAAAAAAAAAAAAAAAAAAAAAAAAAAAAAAAAAAAAAAAAAAAAAAAAAAAAAAAAAAAAAAAAAAAAAAAAAAAAAAAAAAAAAAAAAAAAAAAAAAAAAAAAAAAAAAAAAAAAAAAAAAAAAAAAAAAAAAAAAAAAAAAAAAAAAAAAAAAAAAAAAAAAAAAAAAAAAAAAAAAAAAAAAAAAAAAAAAAAAAAAAAAAAAAAAAAAAAAAAAAAAAAAAAAAAAAAAAAAAAAAAAAAAAAAAAAAAAAAAAAAAAAAAAAAAAAAAAAAAAAAA0P8AAAAAAAAAAAAAAAAAAAAAAAAAAAAAAAAAAAAAAAAAAAAAAAAAAAAAAAAAAAAAAAAAAAAAAAAAAAAAAAAAAAAAAAAAAAAAAAAAAAAAAAAAAAAAAAAAAAAAAAAAAAAAAAAAAAAAAAAAAAAAAAAAAAAAAAAAAAAAAAAAAAAAAAAAAAAAAAAAAAAAAAAAAAAAAAAAAAAAAAAAAAAAAAAAAAAAAAAAAAAAAAAAAAAAAAAAAAAAAAAAAAAAAAAAAAAAAAAAAAAAAAAAAAAAAAAAAAAAAAAAAAAAAAAAAAAAAAAAAAAAAAAAAAAAAAAAAAAAAAAAAAAAAAAAAAAAAAAAAAAAAAAAAAAAAAAAAAAAAAAAAAAAAAAAAAAAAAAAAAAAAAAAAAAAAAAAAAAAAAAAAAAAAAAAAAAAAAAAAAAAAAAAAAAAAAAAAAAAAAAAAAAAAAAAAAAAAAAAAAAAMAAAAAAAAAAAAAAAAAAAAAAAAAAAAAAAAAAAAAAAAAAAAAAAAAAAAAAAAAAAAAAAAAAAAAAAAAAAAAAAAAAAAAAAAAAAAAAAAAAAAAAAAAAAAAAAAAAAAAAAAAAAAAAAAAAAAAAAAAAAAAAAAAAAAAAAAAAAAAAAAAAAAAAAAAAAAAAAAAAAAAAAAAAAAAAAAAAAAAAAAAAAAAAAAAAAAAAAAAAAAAAAAAAAAAAAAAAAAAAAAAAAAAAAAAAAAAAAAAAAAAAAAAAAAAAAAAAAAAAAAAAAAAAAAAAAAAAAAAAAAAAAAAAAAAAAAAAAAAAAAAAAAAAAAAAAAAAAAAAAAAAAAAAAAAAAAAAAAAAAAAAAAAAAAAAAAAAAAAAAAAAAAAAAAAAAAAAAAAAAAAAAAAAAAAAAAAAAAAAAAAAAAAAAAAAAAAAAAAAAAAAAAAAAAAAAAAAAAAAAAAAAAAAAAAAAAAAAAAAAAAAAAAAAAAAAAAAAAAAAAAAAAAAAAAAAAAAAAAAAAAAAAAAAAAAAAAAAAAAAAAAAAAAAAAAAAAAAAAAAAAAAAAAAAAAAAAAAAAAAAAAAAAAAAAAAAAAAAAAAAAAAAAAAAAAAAAAAAAAAAAAAAAAAAAAAAAAAAAAAAAAAAAAAAAAAAAAAAAAAAAAAAAAAAAAAAAAAAAAAAAAAAAAAAAAAAAAAAAAAAAAAAAAAAAAAAAAAAAAAAAAAAAAAAAAAAAAAAAAAAAAAMAAAADAAAAAAAAAAMAAAAAAAAAAAAAAAAAAAAAAAAAAAAAAAAAAAAAAAAAAAAAAAAAAAAAAAAAAAAAAAAAAAAAAAAAAAAAAAAAAAAAAAAAAAAAAAAAAAAAAAAAAAAAAAAAAAAAAAAAAAAAAAAAAAAAAAAAAAAAAAAAAAAAAAAAAAAAAAAAAAAAAAAAAAAAAAAAAAAAAAAAAAAAAAAAAAAAAAAAAAAAAAAAAAAAAAAAAAAAAAAAAAAAAAAAAAAAAAAAAAAAAAAAAAAAAAAAAAAAAAAAAAAAAAAAAAAAAAAAAAAAAAAAAAAAAAAAAAAAAAAAAAAAAAAAAAAAAAAAAAAAAAAAAAAAAAAAAAAAAAAAAAAAAAAAAAAAAAAAAAAAAAAAAAAAAAAAAAAAAAAAAAAAAAAAAAAAAAAAAAAAAAAAAAAAAAAAAAAAAAAAAAAAAAAAAAAAAAAAAAAAAAAAAAAAAAAAAAAAAAAAAAAAAAAAAAAAAAAAAAAAAAAAAAAAAAAAAAAAAAAAAAAAAAAAAAAAAAAAAAAAAAAAAAAAAAAAAAAAAAAAAAAAAAAAAAAAAAAAAAAAAAAAAAAAAAAAAAAAAAAAAAAAAAAAAAAAAAAAAAAAAAAAAAAAAAAAAAAAAAAAAAAAAAAAAAAAAAAAAAAAAAAAAAAAAAAAAAAAAAAAAAAAAAAAAAAAAAAAAAAAAAAAAAAAAAAAAAAAAAAAAAAAAAAAAAAAAAAAAAAAAAAAAAAAAAAAAAAAAAAAAAAAAAAAAAAAAAAAAAAAAAAAAAAAAAAAAAAAAAAAAAAAAAAAAAAAAAAAAAAAAAAAAAAAAAAAAAAAAAAAAAAAAAAAAAAAAAAAAAAAAAAAAAAAAAAAAAAAAAAAAAAAAAAAAAAAAAAAAAAAAAAAAAAAAAAAAAAAAAAAAAAAAAAAAAAAAAAAAAAAAAAAAAAAAAAAAAAAAAAAAAAAAAAAAAAAAAAAAAAAAAAAAAAAAAAAAAAAAAAAAAAAAAAAAAAAAAAAAAAAAAAAAAAAAAAAAAAAAAAAAAAAAAAAAAAAAAAAAAAAAAAAAAAAAAAAAAAAAAAAAAAAAAAAAAAAAAAAAAAAAAAAAAAAAAAAAAAAAAAAAAAAAAAAAAAAAAAAAAAAAAAAAAAAAAAAAAAAAAAAAAAAAAAAAAAAAAAAAAAAAAAAAAAAAAAAAAAAAAAAAAAAAAAAAAAAAAAAAAAAAAAAAAAAAAAAAAAAAAAAAAAAAAAAAAAAAAAAAAAAAAAAAAAAAAAAAAAAAAAAAAAAAAAAAAAAAAAAAAAAAAAAAAAAAAAAAAAAAAAAAAAAAAAAAAAAAAAAAAAAAAAAAAAAAAAAAAAAAAAAAAAAAAAAAAAAAAAAAAAAAAAAAAAAAAAAAAAAAAAAAAAAAAAADQ/wAAAAAAAAAAAADQ/wAAAAAAAND/AAAAAAAAAAAAAAAAAAAAAAAAAADQ/wAAAAAAAAAAAAAAAAAAAADQ/wAAAAAAAAAAAAAAAAAAAAAAAAAAAAAAAAAAAAAAAAAAAAAAAAAAAAAAAAAAAAAAAAAAAAAAAAAAAAAAAAAAAAAAAAAAAAAAAAAAAAAAAAAAAAAAAAAAAAAAAAAAAAAAAAAAAAAAAAAAAAAAAAAAAAAAAAAAAAAAAAAAAAAAAAAAAAAAAAAAAAAAAAAAAAAAAAAAAAAAAAAAAAAAAAAAAAAAAAAAAAAAAAAAAAAAAAAAAAAAAAAAAAAAAAAAAAAAAAAAAAAAAAAAAAAAAAAAAAAAAAAAAAAAAAAAAAAAAAAAAAAAAAAAAAAAAAAAAAAAAAAAAAAAAAAAAAAAAAAAAAAAAAAAAAAAAAAAAAAAAAAAAAAAAAAAAAAAAAAAAAAAAAAAAAAAAAAAAAAAAAAAAAAAAAAAAAAAAAAAAAAAAAAAAAAAAAAAAAAAAAAAAAAAAAAAAAAAAAAAAAAAAAAAAAAAAAAAAAAAAAAAAAAAAAAAAAAAAAAAAAAAAAAAAAAAAAAAAAAAAAAAAAAAAAAAAAAAAAAAAAAAAAAAAAAAAAAAAAAAAAAAAAAAAAAAAAAAAAAAAAAAAAAAAAAAAAAAAAAAAAAAAAAAAAAAAAAAAAAAAAAAAAAAAAAAAAAAAAAAAAAAAAAAAAAAAAAAAAAAAAAAAAAAAAAAAAAAAAAAAAAAAAAAAAAAAAAAAAAAAAAAAAAAAAAAAAAAAAAAAAAAAAAAAAAAAAAAAAAAAAAAAAAAAAAAAAAAAAAAAAAAAAAAAAAAAAAAAAAAAAAAAAAAAAAAAAAAAAAAAAAAAAAAAAAAAAAAAAAAAAAAAAAAAAAAAAAAAAAAAAAAAAAAAAAAAAAAAAAAAAAAAAAAAAAAAAAAAAAAAAAAAAAAAAAAAAAAAAAAAAAAAAAAAAAAAAAAAAAAAAAAAAAAAAAAAAAAAAAAAAAAAAAAAAAAAAAAAAAAAAAAAAAAAAAAAAAAAAAAAAAAAAAAAAAAAAAAAAAAAAAAAAAAAAAAAAAAAAAAAAAAAAAAAAAAAAAAAAAAAAAAAAAAAAAAAAAAAAAAAAAAAAAAAAAAAAAAAAAAAAAAAAAAAAAAAAAAAAAAAAAAAAAAAAAAAAAAAAAAAAAAAAAAAAAAAAAAAAAAAAAAAAAAAAAAAAAAAAAAAAAAAAAAAAAAAAAAAAAAAAAAAAAAAAAAAAAAAAAAAAAAAAAAAAAAAAAAAAAAAAAAAAAAAAAAAAAAAAAAAAAAAAAAAAAAAAAAAAAAAAAAAAAAAAAAAAAAAAAAAAAAAAAAAAAAAAAAAAAAAAAAAAAAAAAAAAAAAAAAAAAAAAAAAAAAAAAAAAAAAAAAAAAAAAAAAAAAAAAAAAAAAAAAAAAAAAAAAAAAAAAAAAAAAAAAAAAAAAAAAAAAAAAAAAAAAAAAAAAAAAAAAAAAAAAAAAAAAAAAAAAAAAAAAAAAAAAAAAAAAAAAAAAAAAAAAAAAAAAAAAAAAAAAAAAAAAAAAAAAAAAAAAAAAAAAAAAAAAAAAAAAAAAAAAAAAAAAAAAAAAAAAAAAAAAAAAAAAAAAAAAAAAAAAAAAAAAAAAAAAAAAAAAAAAAAAAAAAAAAAAAAAAAAAAAAAAAAAAAAAAAAAAAAAAAAAAAAAAAAAAAAAAAAAAAAAAAAAAAAAAAAAAAAAAAAAAAAAAAAAAAAAAAAAAAAAAAAAAAAAAAAAAAAAAAAAAAAAAAAAAAAAAAAAAAAAAAAAAAAAAAAAAAAAAAAAAAAAAAAAAAAAAAAAAAAAAAAAAAAAAAAAAAAAAAAAAAAAAAAAAAAAAAAAAAAAAAAAAAAAAAAAAAAAAAAAAAAAAAAAAAAAAAAAAAAAAAAAAAAAAAAAAAAAAAAAAAAAAAAAAAAAAAAAAAAAAAAAAAAAAAAAAAAAAAAAAAAAAAAAAAAAAAAAAAAAAAAAAAAAAAAAAAAAAAAAAAAAAAAAAAAAAAAAAAAAAAAAAAAAAAAAAAAAAAAAAAAAAAAAAAAAAAAAAAAAAAAAAAAAAAAAAAAAAAAAAAAAAAAAAAAAAAAAAAAAAAAAAAAAAAAAAAAAAAAAAAAAAAAAAAAAAAAAAAAAAAAAAAAAAAAAAAAAAAAAAAAAAAAAAAAAAAAAAAAAAAAAAAAAAAAAAAAAAAAAAAAAAAAAAAAAAAAAAAAAAAAAAAAAAAAAAAAAAAAAAAAAAAAAAAAAAAAAAAAAAAAAAAAAAAAAAAAAAAAAAAAAAAAAAAAAAAAAAAAAAAAAAAAAAAAAAAAAAAAAAAAAAAAAAAAAAAAAAAAAAAAAAAAAAAAAAAAAAAAAAAAAAAAAAAAAAAAAAAAAAAAAAAAAAAAAAAAAAAAAAAAAAAAAAAAAAAAAAAAAAAAAAAAAAAAAAAAAAAAAAAAAAAAAAAAAAAAAAAAAAAAAAAAAAAAAAAAAAAAAAAAAADQ/wAAAAAAAAAAAAAAAAAAAAAAAAAAAAAAAAAAAAAAAAAAAAAAAAAAAAAAAAAAAAAAAAAAAAAAAAAAAAAAAAAAAAAAAAAAAAAAAAAAAAAAAAAAAAAAAAAAAAAAAAAAAAAAAAAAAAAAAAAAAAAAAAAAAAAAAAAAAAAAAAAAAAAAAAAAAAAAAAAAAAAAAAAAAAAAAAAAAAAAAAAAAAAAAAAAAAAAAAAAAAAAAAAAAAAAAAAAAAAAAAAAAAAAAAAAAAAAAAAAAAAAAAAAAAAAAAAAAAAAAAAAAAAAAAAAAAAAAAAAAAAAAAAAAAAAAAAAAAAAAAAAAAAAAAAAAAAAAAAAAAAAAAAAAAAAAAAAAAAAAAAAAAAAAAAAAAAAAAAAAAAAAAAAAAAAAAAAAAAAAAAAAAAAAAAAAAAAAAAAAAAAAAAAAAAAAAAAAAAAAAAAAAAAAAAAAAAAAAAAAAAAAAAAAAAAAAAAAAAAAAAAAAAAAAAAAAAAAAAAAAAAAAAAAAAAAAAAAAAAAAAAAAAAAAAAAAAAAAAAAAAAAAAAAAAAAAAAAAAAAAAAAAAAAAAAAAAAAAAAAAAAAAAAAAAAAAAAAAAAAAAAAAAAAAAAAAAAAAAAAAAAAAAAAAAAAAAAAAAAAAAAAAAAAAAAAAAAAAAAAAAAAAAAAAAAAAAAAAAAAAAAAAAAAAAAAAAAAAAAAAAAAAAAAAAAAAAAAAAAAAAAAAAAAAAAAAAAAAAAAAAAAAAAAAAAAAAAAAAAAAAAAAAAAAAAAAAAAAAAAAAAAAAAAAAAAAAAAAAAAAAAAAAAAAAAAAAAAAAAAAAAAAAAAAAAAAAAAAAAAAAAAAAAAAAAAAAAAAAAAAAAAAAAAAAAAAAAAAAAAAAAAAAAAAAAAAAAAAAAAAAAAAAAAAAAAAAAAAAAAAAAAAAAAAAAAAAAAAAAAAAAAAAAAAAAAAAAAAAAAAAAAAAAAAAAAAAAAAAAAAAAAAAAAAAAAAAAAAAAAAAAAAAAAAAAAAAAAAAAAAAAAAAAAAAAAAAAAAAAAAAAAAAAAAAAAAAAAAAAAAAAAAAAAAAAAAAAAAAAAAAAMAAAAAAAAAAAAAAAAAAAAAAAAAAAAAAAAAAAAAAAMAAAAAAAAAAAAAAAMAAAADAAAAAAAAAAAAAAAAAAAAAAAAAAAAAAAAAAAAAAAAAAAAAAAAAAAAAAAAAAAAAAAAAAAAAAAAAAAAAAAAAAAAAAAAAAAAAAAAAAAAAAAAAAAAAAAAAAAAAAAAAAAAAAAAAAAAAAAAAAAAAAAAAAAAAAAAAAAAAAAAAAAAAAAAAAAAAAAAAAAAAAAAAAAAAAAAAAAAAAAAAAAAAAAAAAAAAAAAAAAAAAAAAAAAAAAAAAAAAAAAAAAAAAAAAAAAAAAAAAAAAAAAAAAAAAAAAAAAAAAAAAAAAAAAAAAAAAAAAAAAAAAAAAAAAAAAAAAAAAAAAAAAAAAAAAAAAAAAAAAAAAAAAAAAAAAAAAAAAAAAAAAAAAAAAAAAAAAAAAAAAAAAAAAAAAAAAAAAAAAAAAAAAAAAAAAAAAAAAAAAAAAAAAAAAAAAAAAAAAAAAAAAAAAAAAAAAAAAAAAAAAAAAAAAAAAAAAAAAAAAAAAAAAAAAAAAAAAAAAAAAAAAAAAAAAAAAAAAAAAAAAAAAAAAAAAAAAAAAAAAAAAAAAAAAAAAAAAAAAAAAAAAAAAAAAAAAAAAAAAAAAAAAAAAAAAAAAAAAAAAAAAAAAAAAAAAAAAAAAAAAAAAAAAAAAAAAAAAAAAAAAAAAAAAAAAAAAAAAAAAAAAAAAAAAAAAAAAAAAAAAAAAAAAAAAAAAAAAAAAAAAAAAAAAAAAAAAAAAAAAAAAAAAAAAAAAAAAAAAAAAAAAAAAAAAAAAAAAAAAAAAMAAAAAAAMAAAAAAAAAAAAAAAAAAAAAAAMAAAAAAAAAAAAAAAAAAAAAAAAAAAAAAAAAAAADAAAAAAAAAAMAAAADAAAAAAAAAAAAAAAAAAAAAAAAAAAAAAAAAAAAAAAAAAAAAAAAAAAAAAAAAAAAAAAAAAAAAwAAAAAAAAAAAAAAAAAAAAAAAAAAAAAAAAAAAAAAAAAAAAAAAAAAAAAAAAAAAAAAAAAAAAAAAAAAAAAAAAAAAAAAAAAAAAAAAAAAAAAAAAAAAAAAAAAAAAAAAAAAAAAAAAAAAAAAAAAAAAAAAAAAAAAAAAAAAAAAAAAAAAAAAAAAAAAAAAAAAAAAAAAAAAAAAAAAAAAAAAAAAAAAAAAAAAAAAAAAAAAAAAAAAAAAAAAAAAAAAAAAAAAAAAAAAAAAAAAAAAAAAAAAAAAAAAAAAAAAAAAAAAAAAAAAAAAAAAAAAAAAAAAAAAAAAAAAAAAAAAAAAAAAAAAAAAAAAAAAAAAAAAAAAAAAAAAAAAAAAAAAAAAAAAAAAAAAAAAAAAAAAAAAAAAAAAAAAAAAAAAAAAAAAAAAAAAAAAAAAAAAAAAAAAAAAAAAAAAAAAAAAAAAAAAAAAAAAAAAAAAAAAAAAAAAAAAAAAAAAAAAAAAAAAAAAAAAAAAAAAAAAAAAAAAAAAAAAAAAAAAAAAAAAAAAAAAAAAAAAAAAAAAAAAAAAAAAAAAAAAAAAAAAAAAAAAAAAAAAAAAAAAAAAAAAAAAAAAAAAAAAAAAAAAAAAAAAAAAAAAAAAAAAAAAAAAAAAAAAAAAAAAAAAAAAAAAAAAAAAAAAAAAAAAAAAAAAAAAAAAAAAAAAAAAAAAAAAAAAAAAAAAAAAAAAAAAAAAAAAAAAAAAAAAAAAAAAAAAAAAAAAAAAAAAAAAAAAAAAAAAAAAAAAAAAAAAAAAAAAAAAAAAAAAAAAAAAAAAAAAAAAAAAAAAAAAAAAAAAAAAAAAAAAAAAAAAAAAAAAAAAAAAAAAAAAAAAAAAAAAAAAAAAAAAAAAAAAAAAAAAAAAAAAAAAAAAAAAAAAAAAAAAAAAAAAAAAAAAAAAAAAAAAAAAAAAAAAAAAAAAAAAAAAAAAAAAAAAAAAAAAAAAAAAAAAAAAAAAAAAAAAAAAAAAAAAAAAAAAAAAAAAAAAAAAAAAAAAAAAAAAAAAAAAAAAAAAAAAAAAAAAAAAAAAAAAAAAAAAAAAAAAAAAAAAAAAAAAAAAAAAAAAAAAAAAAAAAAAAAAAAAAAAAAAAAAAAAAAAAAAAAAAAAAAAAAAAAAAAAAAAAAAAAAAAAAAAAAAAAAAAAAAAAAAAAAAAAAAAAAAAAAAAAAAAAAAAAAAAAAAAAAAAAAAAAAAAAAAAAAAAAAAAAAAAAAAAAAAAAAAAAAAAAAAAAAAAAAAAAAAAAAAAAAAAAAAAAAAAAAAAAAAAAAAAAAAAAAAAAAAAAAAAAAAAAAAAAAAAAAAAAAAAAAAAAAAAAAAAAAAAAAAAAAAAAAAAAAAAAAAAAAAAAAAAAAAAAAAAAAAAAAAND/AAAAAAAAAAAAAAAAAAAAAAAAAAAAAAAAAAAAAAAAAAAAAAAAAAAAAAAAAAAAAAAAAAAAAAAAAAAAAAAAAAAAAAAAAAAAAAAAAAAAAAAAAAAAAAAAAAAAAAAAAAAAAAAAAAAAAAAAAAAAAAAAAAAAAAAAAAAAAAAAAAAAAAAAAAAAAAAAAAAAAAAAAAAAAAAAAAAAAAAAAAAAAAAAAAAAAAAAAAAAAAAAAAAAAAAAAAAAAAAAAAAAAAAAAAAAAAAAAAAAAAAAAAAAAAAAAAAAAAAAAAAAAAAAAAAAAAAAAAAAAAAAAAAAAAAAAAAAAAAAAAAAAAAAAAAAAAAAAAAAAAAAAAAAAAAAAAAAAAAAAAAAAAAAAAAAAAAAAAAAAAAAAAAAAAAAAAAAAAAAAAAAAAAAAAAAAAAAAAAAAAAAAAAAAAAAAAAAAAAAAAAAAAAAAAAAAAAAAAAAAAAAAAAAAAAAAAAAAAAAAAAAAAAAAAAAAAAAAAAAAAAAAAAAAAAAAAAAAAAAAAAAAAAAAAAAAAAAAAAAAAAAAAAAAAAAAAAAAAAAAAAAAAAAAAAAAAAAAAAAAAAAAAAAAAAAAAAAAAAAAAAAAAAAAAAAAAAAAAAAAAAAAAAAAAAAAAAAAAAAAAAAAAAAAAAAAAAAAAAAAAAAAAAAAAAAAAAAAAAAAAAAAAAAAAAAAAAAAAAAAAAAAAAAAAAAAAAAAAAAAAAAAAAAAAAAAAAAAAAAAAAAAAAAAAAAAAAAAAAAAAAAAAAAAAAAAAAAAAAAAAAAAAAAAAAAAAAAAAAAAAAAAAAAAAAAAAAAAAAwAAAAAAAAAAAAAAAAAAAAAAAAAAAAAAAAAAAAAAAAAAAAAAAAAAAAAAAwADAAMAAAAAAAAAAAAAAAAAAAAAAAAAAAAAAAAAAAAAAAAAAAAAAAAAAAAAAAAAAAAAAAAAAAAAAAAAAAAAAAAAAAAAAAAAAAAAAAAAAAAAAAAAAAAAAAAAAAAAAAAAAAAAAAAAAAAAAAAAAAAAAAAAAAAAAAMAAAAAAAAAAAAAAAMAAAAAAAAAAAAAAAAAAAADAAAAAAAAAAAAAAAAAAAAAAAAAAAAAAAAAAAAAAAAAAMAAAAAAAAAAAAAAAAAAAADAAAAAAAAAAAAAAAAAAAAAAAAAAAAAAAAAAAAAAAAAAAAAAAAAAAAAAAAAAAAAAAAAAAAAAAAAAAAAAAAAAAAAAAAAAAAAAAAAAAAAAAAAAAAAAAAAAAAAAAAAAAAAAAAAAAAAAAAAAAAAAAAAAAAAAAAAAAAAAAAAAAAAAAAAAAAAAAAAAAAAAAAAAAAAAAAAAAAAAAAAAAAAAAAAAAAAAAAAAAAAAAAAAAAAAAAAAAAAAAAAAAAAAAAAAAAAAAAAAAAAAAAAAAAAAAAAAAAAAAAAAAAAAAAAAAAAAAAAAAAAAAAAAAAAAAAAAAAAAAAAAAAAAAAAAAAAAAAAAAAAAAAAAAAAAAAAAAAAAAAAAAAAAAAAAAAAAAAAAAAAAAAAAAAAAAAAAAAAAAAAAAAAAAAAAAAAAAAAAAAAAAAAAAAAAAAAAAAAAAAAAAAAAAAAAAAAAAAAAAAAAAAAAAAAAAAAAAAAAAAAAAAAAAAAAAAAAAAAAAAAAAAAAAAAAAAAAAAAAAAAAAAAAAAAAAAAAAAAAAAAAAAAAAAAAAAAAAAAAAAAAAAAAAAAAAAAAAAAAAAAAAAAAAAAAAAAAAAAAAAAAAAAAAAAAAAAAAND/AAAAAAAAAAAAAAAAAAAAAAAAAAAAAAAAAAAAAND/AAAAAAAAAAAAAAAAAAAAAAAA0P8AAAAAAAAAAAAAAAAAAAAAAAAAAAAAAAAAAAAAAAAAAAAAAAAAAAAAAAAAAAAAAAAAAAAAAAAAAAAAAAAAAAAAAAAAAAAAAAAAAAAAAAAAAAAAAAAAAAAAAAAAAAAAAAAAAAAAAAAAAAAAAAAAAAAAAAAAAAAAAAAAAAAAAAAAAAAAAAAAAAAAAAAAAAAAAAAAAAAAAAAAAAAAAAAAAAAAAAAAAAAAAAAAAAAAAAAAAAAAAAAAAAAAAAAAAAAAAAAAAAAAAAAAAAAAAAAAAAAAAAAAAAAAAAAAAAAAAAAAAAAAAAAAAAAAAAAAAAAAAAAAAAAAAAAAAAAAAAAAAAAAAAAAAAAAAAAAAAAAAAAAAAAAAAAAAAAAAAAAAAAAAAAAAAAAAAAAAAAAAAAAAAAAAAAAAAAAAAAAAAAAAAAAAAAAAAAAAAAAAAAAAAAAAAAAAAAAAAAAAAAAAAAAAAAAAAAAAAAAAAAAAAAAAAAAAAAAAAAAAAAAAAAAAAAAAAAAAAAAAAAAAAAAAAAAAAAAAAAAAAAAAAAAAAAAAAAAAAAAAAAAAAAAAAAAAAAAAAAAAAAAAAAAAAAAAAAAAAAAAAAAAAAAAAAAAAAAAAAAAAAAAAAAAAAAAAAAAAAAAAAAAAAAAAAAAAAAAAAAAAAAAAAAAAAAAAAAAAAAAAAAAAAAAAAAAAAAAAAAAAAAAAAAAAAAAAAAAAAAAAAAAAAAAAAAAAAAAAAAAAAAAAAAAAAAAAAAAAAAAAAAAAAAAAAAAAAAAAAAAAAAAAAAAAAAAAAAAAAAAAAAAAAAAAAAAAAAAAAAAAAAAAAAAAAAAAAAAAAAAAAAAAAAAAAAAAAAAAAAAAAAAAAAAAAAAAAAAAAAAAAAAAAAAAAAAAAAAAAAAAAAAAAAAAAAAAAAAAAAAAAAAAAAAAAAAAAAAAAAAAAAAAAAAAAAAAAAAAAAAAAAAAAAAAAAAAAAAAAAAAAAAAAAAAAAAAAAAAAAAAAAAAAAAAAAAAAAAAAAAAAAAAAAAAAAAAAAAAAAAAAAAAAAAAAAAAAAAAAAAAAAAAAAAAAAAAAAAAAAAAAAAAAAAAAAAAAAAAAAAAAAAAAAAAAAAAAAAAAAAAAAAAAAAAAAAAAAAAAAAAAAAAAAAAAAAAAAAAAAAAAAAAAAAAAAAAAAAAAAAAAAAAAAAAAAAAAAAAAAAAAAAAAAAAAAAAAAAAAAAAAAAAAAAAAAAAAAAAAAAAAAAAAAAAAAAAAAAAAAAAAAAAAAAAAAAAAAAAAAAAAAAAAAAAAAAAAAAAAAAAAAAAAAAAAAAAAAAAAAAAAAAAAAAAAAAAAAAAAAAAAAAAAAAAAAAAAAAAAAAAAAAAAAAAAAAAAAAAAAAAAAAAAAAAAAAAAAAAAAAAAAAAAAAAAAAAAAAAAAAAAAAAAAAAAAAAAAAAAAAAAAAAAAAAAAAAAAAAAAAAAAAAAAAAAAAAAAAAAAAAAAAAAAAAAAAAAAAAAAAAAAAAAAAAAAAAAAAAAAAAAAAAAAAAAAAAAAAAAAAAAAAAAAAAAAAAAAAAAAAAAAAAAAAAAAAAAAAAAAAAAAAAAAAAAAAAAAAAAAAAAAAAAAAAAAAAAAAAAAAAAAAAAAAAAAAAAAAAAAAAAAAAAAAAAAAAAAAAAAAAAAAAAAAAAAAAAAAAAAAAAAAAAAAAAAAAAAAAAAAAAAAAAAAAAAAAAAAAAAAAAAAAAAAAAAAAAAAAAAAAAAAAAAAAAAAAAAAAAAAAAAAAAAAAAAAAAAAAAAAAAAAAAAAAAAAAAAAAAAAAAAAAAAAAAAAAAAAAAAAAAAAAAAAAAAAAAAAAAAAAAAAAAAAAAAAAAAAAAAAAAAAAAAAAAAAAAAAAAAAAAAAAAAAAAAAAAAAAAAAAAAAAAAAAAAAAAAAAAAAAAAAAAAAAAAAAAAAAAAAAAAAAAAAAAAAAAAAAAAAAAAAAAAAAAAAAAAAAAAAAAAAAAAAAAAAAAAAAAAAAAAAAAAAAAAAAAAAAAAAAAAAAAAAAAAAAAAAAAAAAAAAAAAAAAAAAAAAAAAAAAAAAAAAAAAAAAAAAAAAAAAAAAAAAAAAAAAAAAAAAAAAAAAAAAAAAAAAAAAAAAAAAAAAAAAAAAAAAAAAAAAAAAAAAAAAAAAAAAAAAAAAAAAAAAAAAAAAAAAAAAAAAAAAAAAAAAAAAAAAAAAAAAAAAAAAAAAAAAAAAAAAAAAAAAAAAAAAAAAAAAAAAAAAAAAAAAAAAAAAAAAAAAAAAAAAAAAAAAAAAAAAAAAAAAAAAAAAAAAAAAAAAAAAAAAAAAAAAAAAAAAAAAAAAAAAAAAAAAAAAAAAAAAAAAAAAAAAAAAAAAAAAAAAAAAAAAAAAAAAAAAAAAAAAAAAAAAAAAAAAAAAAAAAAAAAAAAAAAAAAAAAAAAAAAAAAAAAAAAAAAAAAAAAAAAAAAAAAAAAAAAAAAAAAAAAAAAAAAAAAAAAAAAAAAAAAAAAAAAAAAAAAAAAAAAAAAAAAAAAAAAAAAAAAAAAAAAAAAAAAAAAAAAAAAAAAAAAAAAAAAAAAAAAAAAAAAAAAAAAAAAAAAAAAAAAAAAAAAAAAAAAAAAAAAAAAAAAAAAAAAAAAAAAAAAAAAAAAAAAAAAAAAAAAAAAAAAAAAAAAAAAAAAAAAAAAAAAAAAAAAAAAAAAAAAAAAAAAAAAAAAAAAAAAAAAAAAAAAAAAAAAAAAAAAAAAAAAAAAAAAAAAAAAAAAAAAAAAAAAAAAAAAAAAAAAAAAAAAAAAAAAAAAAAAAAAAAAAAAAAAAAAAAAAAAAAAAAAAAAAAAAAAAAAAAAAAAAAAAAAAAAAAAAAAAAAAAAAAAAAAAAAAAAAAAAAAAAAAAAAAAAAAAAAAAAAAAAAAAAAAAAAAAAAAAAAAAAAAAAAAAAAAAAAAAAAAAAAAAAAAAAAAAAAAAAAAAAAAAAAAAAAAAAAAAAAAAAAAAAAAAAAAAAAAAAAAAAAAAAAAAAAAAAAAAAAAAAAAAAAAAAAAAAAAAAAAAAAAAAAAAAAAAAAAAAAAAAAAAAAAAAAAAAAAAAAAAAAAAAAAAAAAAAAAAAAAAAAAAAAAAAAAAAAAAAAAAAAAAAAAAAAAAAAAAAAAAAAAAAAAAAAAAAAAAAAAAAAAAAAAAAAAAAAAAAAAAAAAAAAAAAAAAAAAAAAAAAAAAAAAAAAAAAAAAAAAAAAAAAAAAAAAAAAAAAAAAAAAAAAAAAAAAAAAAAAAAAAAAAAAAAAAAAAAAAAAAAAAAAAAAAAAAAAAAAAAAAAAAAAAAAAAAAAAAAAAAAAAAAAAAAAAAAAAAAAAAAAAAAAAAAAAAAAAAAAAAAAAAAAAAAAAAAAAAAAAAAAAAAAAAAAAAAAAAAAAAAAAAAAAAAAAAAAAAAAAAAAAAAAAAAAAAAAAAAAAAAAAAAAAAAAAAAAAAAAAAAAAAAAAAAAAAAAAAAAAAAAAAAAAAAAAAAAAAAAAAAAAAAAAAAAAAAAAAAAAAAAAAAAAAAAAAAAAAAAAAAAAAAAAAAAAAAAAAAAAAAAAAAAAAAAAAAAAAAAAAAAAAAAAAAAAAAAAAAAAAAAAAAAAAAAAAAAAAAAAAAAAAAAAAAAAAAAAAAAAAAAAAAAAAAAAAAAAAAAAAAAAAAAAAAAAAAAAAAAAAAAAAAAAAAAAAAAAAAAAAAAAAAAAAAAAAAAAAAAAAAAAAAAAAAAAAAAAAAAAAAAAAAAAAAAAAAAAAAAAAAAAAAAAAAAAAAAAAAAAAAAAAAAAAAAAAAAAAAAAAAAAAAAAAAAAAAAAAAAAAAAAAAAAAAAAAAAAAAAAAAAAAAAAAAAAAAAAAAAAAAAAAAAAAAAAAAAAAAAAAAAAAAAAAAAAAAAAAAAAAAAAAAAAAAAAAAAAAAAAAAAAAAAAAAAAAAAAAAAAAAAAAAAAAAAAAAAAAAAAAAAAAAAAAAAAAAAAAAAAAAAAAAAAAAAAAAAAAAAAAAAAAAAAAAAAAAAAAAAAAAAAAAAAAAAAAAAAAAAAAAAAAAAAAAAAAAAAAAAAAAAAAAAAAAAAAAAAAAAAAAAAAAAAAAAAAAAAAAAAAAAAAAAAAAAAAAAAAAAAAAAAAAAAAAAAAAAAAAAAAAAAAAAAAAAAAAAAAAAAAAAAAAAAAAAAAAAAAAAAAAAAAAAAAAAAAAAAAAAAAAAAAAAAAAAAAAAAAAAAAAAAAAAAAAAAAAAAAAAAAAAAAAAAAAAAAAAAAAAAAAAAAAAAAAAAAAAAAAAAAAAAAAAAAAAAAAAAAAAAAAAAAAAAAAAAAAAAAAAAAAAAAAAAAAAAAAAAAAAAAAAAAAAAAAAAAAAAAAAAAAAAAAAAAAAAAAAAAAAAAAAAAAAAAAAAAAAAAAAAAAAAAAAAAAAAAAAAAAAAAAAAAAAAAAAAAAAAAAAAAAAAAAAAAAAAAAAAAAAAAAAAAAAAAAAAAAAAAAAAAAAAAAAAAAAAAAAAAAAAAAAAAAAAAAAAAAAAAAAAAAAAAAAAAAAAAAAAAAAAAAAAAAAAAAAAAAAAAAAAAAAAAAAAAAAAAAAAAAAAAAAAAAAAAAAAAAAAAAAAAAAAAAAAAAAAAAAAAAAAAAAAAAAAAAAAAAAAAAAAAAAAAAAAAAAAAAAAAAAAAAAAAAAAAAAAAAAAAAAAAAAAAAAAAAAAAAAAAAAAAAAAAAAAAAAAAAAAAAAAAAAAAAAAAAAAAAAAAAAAAAAAAAAAAAAAAAAAAAAAAAAAAAAAAAAAAAAAAAAAAAAAAAAAAAAAAAAAAAAAAAAAAAAAAAAAAAAAAAAAAAAAAAAAAAAAAAAAAAAAAAAAAAAAAAAAAAAAAAAAAAAAAAAAAAAAAAAAAAAAAAAAAAAAAAAAAAAAAAAAAAAAAAAAAAAAAAAAAAAAAAAAAAAAAAAAAAAAAAAAAAAAAAAAAAAAAAAAAAAAAAAAAAAAAAAAAAAAAAAAAAAAAAAAAAAAAAAAAAAAAAAAAAAAAAAAAAAAAAAAAAAAAAAAAAAAAAAAAAAAAAAAAAAAAAAAAAAAAAAAAAAAAAAAAAAAAAAAAAAAAAAAAAAAAAAAAAAAAAAAAAAAAAAAAAAAAAAAAAAAAAAAAAAAAAAAAAAAAAAAAAAAAAAAAAAAAAAAAAAAAAAAAAAAAAAAAAAAAAAAAAAAAAAAAAAAAAAAAAAAAAAAAAAAAAAAAAAAAAAAAAAAAAAAAAAAAAAAAAAAAAAAAAAAAAAAAAAAAAAAAAAAAAAAAAAAAAAAAAAAAAAAAAAAAAAAAAAAAAAAAAAAAAAAAAAAAAAAAAAAAAAAAAAAAAAAAAAAAAAAAAAAAAAAAAAAAAAAAAAAAAAAAAAAAAAAAAAAAAAAAAAAAAAAAAAAAAAAAAAAAAAAAAAAAAAAAAAAAAAAAAAAAAAAAAAAAAAAAAAAAAAAAAAAAAAAAAAAAAAAAAAAAAAAAAAAAAAAAAAAAAAAAAAAAAAAAAAAAAAAAAAAAAAAAAAAAAAAAAAAAAAAAAAAAAAAAAAAAAAAAAAAAAAAAAAAAAAAAAAAAAAAAAAAAAAAAAAAAAAAAAAAAAAAAAAAAAAAAAAAAAAAAAAAAAAAAAAAAAAAAAAAAAAAAAAAAAAAAAAAAAAAAAAAAAAAAAAAAAAAAAAAAAAAAAAAAAAAAAAAAAAAAAAAAAAAAAAAAAAAAAAAAAAAAAAAAAAAAAAAAAAAAAAAAAAAAAAAAAAAAAAAAAAAAAAAAAAAAAAAAAAAAAAAAAAAAAAAAAAAAAAAAAAAAAAAAAAAAAAAAAAAAAAAAAAAAAAAAAAAAAAAAAAAAAAAAAAAAAAAAAAAAAAAAAAAAAAAAAAAAAAAAAAAAAAAAAAAAAAAAAAAAAAAAAAAAAAAAAAAAAAAAAAAAAAAAAAAAAAAAAAAAAAAAAAAAAAAAAAAAAAAAAAAAAAAAAAAAAAAAAAAAAAAAAAAAAAAAAAAAAAAAAAAAAAAAAAAAAAAAAAAAAAAAAAAAAAAAAAAAAAAAAAAAAAAAAAAAAAAAAAAAAAAAAAAAAAAAAAAAAAAAAAAAAAAAAAAAAAAAAAAAAAAAAAAAAAAAAAAAAAAAAAAAAAAAAAAAAAAAAAAAAAAAAAAAAAAAAAAAAAAAAAAAAAAAAAAAAAAAAAAAAAAAAAAAAAAAAAAAAAAAAAAAAAAAAAAAAAAAAAAAAAAAAAAAAAAAAAAAAAAAAAAAAAAAAAAAAAAAAAAAAAAAAAAAAAAAAAAAAAAAAAAAAAAAAAAAAAAAAAAAAAAAAAAAAAAAAAAAAAAAAAAAAAAAAAAAAAAAAAAAAAAAAAAAAAAAAAAAAAAAAAAAAAAAAAAAAAAAAAAAAAAAAAAAAAAAAAAAAAAAAAAAAAAAAAAAAAAAAAAAAAAAAAAAAAAAAAAAAAAAAAAAAAAAAAAAAAAAAAAAAAAAAAAAAAAAAAAAAAAAAAAAAAAAAAAAAAAAAAAAAAAAAAAAAAAAAAAAAAAAAAAAAAAAAAAAAAAAAAAAAAAAAAAAAAAAAAAAAAAAAAAAAAAAAAAAAAAAAAAAAAAAAAAAAAAAAAAAAAAAAAAAAAAAAAAAAAAAAAAAAAAAAAAAAAAAAAAAAAAAAAAAAAAAAAAAAAAAAAAAAAAAAAAAAAAAAAAAAAAAAAAAAAAAAAAAAAAAAAAAAAAAAAAAAAAAAAAAAAAAAAAAAAAAAAAAAAAAAAAAAAAAAAAAAAAAAAAAAAAAAAAAAAAAAAAAAAAAAAAAAAAAAAAAAAAAAAAAAAAAAAAAAAAAAAAAAAAAAAAAAAAAAAAAAAAAAAAAAAAAAAAAAAAAAAAAAAAAAAAAAAAAAAAAAAAAAAAAAAAAAAAAAAAAAAAAAAAAAAAAAAAAAAAAAAAAAAAAAAAAAAAAAAAAAAAAAAAAAAAAAAAAAAAAAAAAAAAAAAAAAAAAAAAAAAAAAAAAAAAAAAAAAAAAAAAAAAAAAAAAAAAAAAAAAAAAAAAAAAAAAAAAAAAAAAAAAAAAAAAAAAAAAAAAAAAAAAAAAAAAAAAAAAAAAAAAAAAAAAAAAAAAAAAAAAAAAAAAAAAAAAAAAAAAAAAAAAAAAAAAAAAAAAAAAAAAAAAAAAAAAAAAAAAAAAAAAAAAAAAAAAAAAAAAAAAAAAAAAAAAAAAAAAAAAAAAAAAAAAAAAAAAAAAAAAAAAAAAAAAAAAAAAAAAAAAAAAAAAAAAAAAAAAAAAAAAAAAAAAAAAAAAAAAAAAAAAAAAAAAAAAAAAAAAAAAAAAAAAAAAAAAAAAAAAAAAAAAAAAAAAAAAAAAAAAAAAAAAAAAAAAAAAAAAAAAAAAAAAAAAAAAAAAAAAAAAAAAAAAAAAAAAAAAAAAAAAAAAAAAAAAAAAAAAAAAAAAAAAAAAAAAAAAAAAAAAAAAAAAAAAAAAAAAAAAAAAAAAAAAAAAAAAAAAAAAAAAAAAAAAAAAAAAAAAAAAAAAAAAAAAAAAAAAAAAAAAAAAAAAAAAAAAAAAAAAAAAAAAAAAAAAAAAAAAAAAAAAAAAAAAAAAAAAAAAAAAAAAAAAAAAAAAAAAAAAAAAAAAAAAAAAAAAAAAAAAAAAAAAAAAAAAAAAAAAAAAAAAAAAAAAAAAAAAAAAAAAAAAAAAAAAAAAAAAAAAAAAAAAAAAAAAAAAAAAAAAAAAAAAAAAAAAAAAAAAAAAAAAAAAAAAAAAAAAAAAAAAAAAAAAAAAAAAAAAAAAAAAAAAAAAAAAAAAAAAAAAAAAAAAAAAAAAAAAAAAAAAAAAAAAAAAAAAAAAAAAAAAAAAAAAAAAAAAAAAAAAAAAAAAAAAAAAAAAAAAAAAAAAAAAAAAAAAAAAAAAAAAAAAAAAAAAAAAAAAAAAAAAAAAAAAAAAAAAAAAAAAAAAAAAAAAAAAAAAAAAAAAAAAAAAAAAAAAAAAwAAAAAAAAAAAAAAAAAAAAAAAAAAAAAAAAAAAAAAAAAAAAAAAAAAAAAAAAAAAAAAAAAAAAAAAAAAAAAAAAAAAAAAAAAAAAAAAAAAAAAAAAAAAAAAAAAAAAAAAAAAAAAAAAAAAAAAAAAAAAAAAAAAAAAAAAAAAAAAAAAAAAAAAAAAAAAAAAAAAAAAAAAAAAAAAAAAAAAAAAAAAAAAAAAAAAAAAAAAAAAAAAAAAAAAAAAAAAAAAAAAAAAAAAAAAAAAAAAAAAAAAAAAAAAAAAAAAAAAAAAAAAAAAAAAAAAAAAAAAAAAAAAAAAAAAAAAAAAAAAAAAAAAAAAAAAAAAAAAAAAAAAAAAAAAAAAAAAAAAAAAAAAAAAAAAAAAAAAAAAAAAAAAAAAAAAAAAAAAAAAAAAAAAAAAAAAAAAAAAAAAAAAAAAAAAAAAAAAAAAAAAAAAAAAAAAAAAAAAAAAAAAAAAAAAAAAAAAAAAAAAAAAAAAAAAAAAAAAAAAAAAAAAAAAAAAAAAAAAAAAAAAAAAAAAAAAAAAAAAAAAAAAAAAAAAAAAAAAAAAAAAAAAAAAAAAAAAAAAAAAAAAAAAAAAAAAAAAAAAAAAAAAAAAAAAAAAAAAAAAAAAAAAAAAAAAAAAAAAAAAAAAAAAAAAAAAAAAAAAAAAAAAAAAAAAAAAAAAAAAAAAAAAAAAAAAAAAAAAAAAAAAAAAAAAAAAAAAAAAAAAAAAAAAAAAAAAAAAAAAAAAAAAAAAAAAAAAAAAAAAAAAAAAAAAAAAAAAAAAAAAAAAAAAAAAAAAAAAAAAAAAAAAAAAAAAAAAAAAAAAAAAAAAAAAAAAAAAAAAAAAAAAAAAAAAAAAAAAAAAAAAAAAAAAAAAAAAAAAAAAAAAAAAAAAAAAAAAAAAAAAAAAAAAAAAAAAAAAAAAAAAAAAAAAAAAAAAAAAAAAAAAAAAAAAAAAAAAAAAAAAAAAAAAAAAAAAAAAAAAAAAAAAAAAAAAAAAAAAAAAAAAAAAAAAAAAAAAAAAAAAAAAAAAAAAAAAAAAAAAAAAAAAAAAAAAAAAAAAAAAAAAAAAAAAAAAAAAAAAAAAAAAAAAAAAAAAAAAAAAAAAAAAAAAADQ/wAAAAAAAAAAAAAAAAAAAAAAAAAAAAAAAAAAAAAAAAAAAAAAAAAAAAAAAAAAAAAAAAAAAAAAAAAAAAAAAAAAAAAAAAAAAAAAAAAAAAAAAAAAAAAAAAAAAAAAAAAAAAAAAAAAAAAAAAAAAAAAAAAAAAAAAND/AAAAAAAAAAAAAAAAAAAAAAAAAAAAAAAAAAAAAAAAAAAAAAAAAADQ/wAAAAAAAND/AAAAAAAAAAAAAAAAAAAAAAAAAAAAAAAAAAAAAAAAAAAAAAAAAAAAAAAAAAAAAAAAAAAAAAAAAAAAAAAAAAAAAAAAAAAAAAAAAAAAAAAAAAAAAAAAAAAAAAAAAAAAAAAAAAAAAND/AAAAAAAAAADQ/wAAAAAAAAAAAAAAAAAAAADQ/wAAAAAAAAAAAAAAAAAAAAAAAAAAAAAAAAAAAAAAAAAAAAAAAAAAAAAAAAAAAAAAAAAAAAAAAAAAAAAAAAAAAAAAAAAAAAAAAAAAAAAAAAAAAAAAAAAAAAAAAAAAAAAAAAAAAAAAAAAAAAAAAAAAAAAAAAAAAAAAAAAAAAAAAAAAAAAAAAAAAAAAAAAAAAAAAAAAAAAAAAAAAAAAAAAAAAAAAAAAAAAAAAAAAAAAAND/AAAAAAAAAAAAAAAAAAAAAAAAAAAAAAAAAAAAAAAAAAAAAAAAAAAAAAAAAAAAAAAAAAAAAAAAAAAAAAAAAAAAAAAAAAAAAAAAAAAAAAAAAAAAAAAAAAAAAAAAAAAAAAAAAAAAAAAAAAAAAAAAAAAAAAAAAAAAAAAAAAAAAAAAAAAAAAAAAAAAAAAAAAAAAAAAAAAAAAAAAAAAAAAAAAAAAAAAAAAAAAAAAAAAAAAAAAAAAAAAAAAAAAAAAAAAAAAAAAAAAAAAAAAAAAAAAAAAAAAAAAAAAAAAAAAAAAAAAAAAAAAAAAAAAAAAAAAAAAAAAAAAAAAAAAAAAAAAAAAAAAAAAAAAAAAAAAAAAAAAAAAAAAAAAAAAAAAAAAAAAAAAAAAAAAAAAAAAAAAAAAAAAAAAAAAAAAAAAAAAAAAAAAAAAAAAAAAAAAAAAAAAAAAAAAAAAAAAAAAAAAAAAAAAAAAAAAAAAAAAAAAAAAAAAAAAAAAAAAAAAAAAAAAAAAAAAAAAAAAAAAAAAAAAAAAAAAAAAAAAAAAAAAAAAAAAAAAAAAAAAAAAAAAAAAAAAAAAAAAAAAAAAAAAAAAAAAAAAAAAAAAAAAAAAAAAAAAAAAAAAAAAAAAAAAAAAAAAAAAAAAAAAAAAAAAAAAAAAAAAAAAAAAAAAAAAAAAAAAAAAAAAAAAAAAAAAAAAAAAAAAAAAAAAAAAAAAAAAAAAAAAAAAAAAAAAAAAAAAAAAAAAAAAAAAAAAAAAAAAAAAAAAAAAAAAAAAAAAAAAAAAAAAAAAAAAAAAAAAAAAAAAAAAAAAAAAAAAAAAAAAAAAAAAAAAAAAAAAAAAAAAAAAAAAAAAAAAAAAAAAAAAAAAAAAAAAAAAAAAAAAAAAAAAAAAAAAAAAAAAAAAAAAAAAAAAAAAAAAAAAAAAAAAAAAAAAAAAAAAAAAAAAAAAAAAAAAAAAAAAAAAAAAAAAAAAAAAAAAAAAAAAAAAAAAAAAAAAAAAAAAAAAAAAAAAAAAAAAAAAAAAAAAAAAAAAAAAAAAAAAAAAAAAAAAAAAAAAAAAAAAAAAAAAAAAAAAAAAAAAAAAAAAAAAAAAAAAAAAAAAAAAAAAAAAAAAAAAAAAAAAAAAAAAAAAAAAAAAAAAAAAAAAAAAAAAAAAAAAAAAAAAAAAAAAAAAAAAAAAAAAAAAAAAAAAAAAAAAAAAAAAAAAAAAAAAAAAAAAAAAAAAAAAAAAAAAAAAAAAAAAAAAAAAAAAAAAAAAAAAAAAAAAAAAAAAAAAAAAAAAAAAAAAAAAAAAAAAAAAAAAAAAAAAAAAAAAAAAAAAAAAAAAAAAAAAAAAAAAAAAAAAAAAAAAAAAAAAAAAAAAAAAAAAAAAAAAAAAAAAAAAAAAAAAAAAAAAAAAAAAAAAAAAAAAAAAAAAAAAAAAAAAAAAAAAAAAAAAAAAAAAAAAAAAAAAAAAAAAAAAAAAAAAAAAAAAAAAAAAAAAAAAAAAAAAAAAAAAAAAAAAAAAAAAAAAAAAAAAAAAAAAAAAAAAAAAAAAAAAAAAAAAAAAAAAAAAAAAAAAAAAAAAAAAAAAAAAAAAAAAAAAAAAAAAAAAAAAAAAAAAAAAAAAAAAAAAAAAAAAAAAAAAAAAAAAAAAAAAAAAAAAAAAAAAAAAAAAAAAAAAAAAAAAAAAAAAAAAAAAAAAAAAAAAAAAAAAAAAAAAAAAAAAAAAAAAAAAAAAAAAAAAAAAAAAAAAAAAAAAAAAAAAAAAAAAAAAAAAAAAAAAAAAAAAAAAAAAAAAAAAAAAAAAAAAAAAAAAAAAAAAAAAAAAAAAAAAAAAAAAAAAAAAAAAAAAAAAAAAAAAAAAAAAAAAAAAAAAAAAAAAAAAAAAAAAAAAAAAAAAAAAAAAAAAAAAAAAAAAAAAAAAAAAAAAAAAAAAAAAAAAAAAAAAAAAAAAAAAAAAAAAAAAAAAAAAAAAAAAAAAAAAAAAAAAAAAAAAAAAAAAAAAAAAAAAAAAAAAAAAAAAAAAAAAAAAAAAAAAAAAAAAAAAAAAAAAAAAAAAAAAAAAAAAAAAAAAAAAAAAAAAAAAAAAAAAAAAAAAAAAAAAAAAAAAAAAAAAAAAAAAAAAAAAAAAAAAAAAAAAAAAAAAAAAAAAAAAAAAAAAAAAAAAAAAAAAAAAAAAAAAAAAAAAAAAAAAAAAAAAAAAAAAAAAAAAAAAAAAAAAAAAAAAAAAAAAAAAAAAAAAAAAAAAAAAAAAAAAAAAAAAAAAAAAAAAAAAAAAAAAAAAAAAAAAAAAAAAAAAAAAAAAAAAAAAAAAAAAAAAAAAAAAAAAAAAAAAAAAAAAAAAAAAAAAAAAAAAAAAAAAAAAAAAAAAAAAAAAAAAAAAAAAAAAAAAAAAAAAAAAAAAAAAAAAAAAAAAAAAAAAAAAAAAAAAAAAAAAAAAAAAAAAAAAAAAAAAAAAAAAAAAAAAAAAAAAAAAAAAAAAAAAAAAAAAAAAAAAAAAAAAAAAAAAAAAAAAAAAAAAAAAAAAAAAAAAAAAAAAAAAAAAAAAAAAAAAAAAAAAAAAAAAAAAAAAAAAAAAAAAAAAAAAAAAAAAAAAAAAAAAAAAAAAAAAAAAAAAAAAAAAAAAAAAAAAAAAAAAAAAAAAAAAAAAAAAAAAAAA0P8AAAAA0P8AAAAAAAAAAAAAAAAAAAAAAAAAAAAAAAAAAND/AAAAAAAAAAAAAAAAAAAAAAAAAAAAAAAAAAAAAAAAAAAAAAAAAAAAAAAAAAAAAAAAAAAAAAAAAAAAAAAAAAAAAAAAAAAAAAAAAAAAAAAAAAAAAAAAAAAAAAAAAAAAAAAAAAAAAAAAAAAAAAAAAAAAAAAAAAAAAAAAAAAAAAAAAAAAAAAAAAAAAAAAAAAAAAAAAAAAAAAAAAAAAAAAAAAAAAAAAAAAAAAAAAAAAAAAAAAAAAAAAAAAAAAAAAAAAAAAAAAAAAAAAAAAAAAAAAAAAAAAAAAAAAAAAAAAAAAAAAAAAAAAAAAAAAAAAAAAAAAAAAAAAAAAAAAAAAAAAAAAAAAAAAAAAAAAAAAAAAAAAAAAAAAAAAAAAAAAAAAAAAAAAAAAAAAAAAAAAAAAAAAAAAAAAAAAAAAAAAAAAAAAAAAAAAAAAAAAAAAAAAAAAAAAAAAAAAAAAAAAAAAAAAAAAAAAAAAAAAAAAAAAAAAAAAAAAAAAAAAAAAAAAAAAAAAAAAAAAAAAAAAAAAAAAAAAAAAAAAAAAAAAAAAAAAAAAAAAAAAAAAAAAAAAAAAAAAAAAAAAAAAAAAAAAAAAAAAAAAAAAAAAAAAAAAAAAAAAAAAAAAAAAAAAAAAAAAAAAAAAAAAAAAAAAAAAAAAAAAAAAAAAAAAAAAAAAAAAAAAAAAAAAAAAAAAAAAAAAAAAAAAAAAAAAAAAAAAAAAAAAAAAAAAAAAAAAAAAAAAAAAAAAAAAAAAAAAAAAAAAAAAAAAAAAAAAAAAAAAAAAAAAAAAAAAAAAAAAAAAAAAAAAAAAAAAAAAAAAAAAAAAAAAAAAAAAAAAAAAAAAAAAAAAAAAAAAAAAAAAAAAAAAAAAAAAAAAAAAAAAAAAAAAAAAAAAAAAAAAAAAAAAAAAAAAAAAAAAAAAAAAAAAAAAAAAAAAAAAAAAAAAAAAAwAAAAAAAAAAAAAAAAAAAAAAAAAAAAAAAAAAAAAAAwAAAAAAAAAAAAAAAAAAAAAAAAAAAAAAAAAAAAAAAAAAAAAAAwADAAAAAAAAAAAAAAAAAAMAAwAAAAAAAAAAAAAAAAADAAAAAAAAAAAAAAAAAAAAAAAAAAAAAAAAAAAAAAAAAAAAAAAAAAAAAAAAAAAAAAAAAAAAAAADAAAAAwAAAAAAAAAAAAAAAAAAAAAAAAAAAAAAAAAAAAAAAAAAAAAAAAAAAAAAAAAAAAAAAAAAAAAAAAAAAAAAAAAAAAAAAAAAAAAAAAAAAAAAAAAAAAAAAAAAAAAAAAAAAAAAAAAAAAAAAAAAAAAAAAAAAAAAAAAAAAAAAAAAAAAAAAAAAAAAAAAAAAAAAAAAAAAAAAAAAAAAAAAAAAAAAAAAAAAAAAAAAAAAAAAAAAAAAAAAAAAAAAAAAAAAAAAAAAAAAAAAAAAAAAAAAAAAAAAAAAAAAAAAAAAAAAAAAAAAAAAAAAAAAAAAAAAAAAAAAAAAAAAAAAAAAAAAAAAAAAAAAAAAAAAAAAAAAAAAAAAAAAAAAAAAAAAAAAAAAAAAAAAAAAAAAAAAAAAAAAAAAAAAAAAAAAAAAAAAAAAAAAAAAAAAAAAAAAAAAAAAAAAAAAAAAAAAAAAAAAAAAAAAAAAAAAAAAAAAAAAAAAAAAAAAAAAAAAAAAAAAAAAAAAAAAAAAAAAAAAAAAAAAAAAAAAAAAAAAAAAAAAAAAAAAAAAAAAAAAAAAAAAAAAAAAAAAAAAAAAAAAAAAAAAAAAAAAAAAAAAAAAAAAAAAAAAAAAAAAAAAAAAAAAAAAAAAAAAAAAAAAAAAAAAAAAAAAAAAAAAAAAAAAAAAAAAAAAAAAAAAAAAAAAAAAAAAAAAAAAAAAAAAAAAAAAAAAAAAAAAAAAAAAAAAAAAAAAAAAAAAAAAAAAAAAAAAAAAAAAAAAAAAAAAAAAAAAAAAAAAAAAAAAAAAAAAAAAAAAAAAAAAAAAAAAAAAAAAAAAAAAAAAAAAAAAAAAAAAAAAAAAAAAAAAAAAAAAAAAAAAAAAAAAAAAAAAAAAAAAAAAAAAAAAAAAAAAAAAAAAAAAAAAAAAAAAAAAAAAAAAAAAAAAAAAAAAAAAAAAAAAAAAAAAAAAAAAAAAAAAAAAAAAAAAAAAAAAAAAAAAAAAAAAAAAAAAAAAAAAAAAAAAAAAAAAAAAAAAAAAAAAAAAAAAAAAAAAAAAAAAAAAAAAAAAAAAAAAAAAAAAAAAAAAAAAAAAAAAAAAAAAAAAAAAAAAAAAAAAAAAAAAAAAAAAAAAAAAAAAAAAAAAAAAAAAAAAAAAAAAAAAAAAAAAAAAAAAAAAAAAAAAAAAAAAAAAAAAAAAAAAAAAAAAAAAAAAAAAAAAAAAAAAAAAAAAAAAAAAAAAAAAAAAAAAAAAAAAAAAAAAAAAAAAAAAAAAAAAAAAAAAAAAAAAAAAAAAAAAAAAAAAAAAAAAAAAAAAAAAAAAAAAAAAAAAAAAAAAAAAAAAAAAAAAAAAAAAAAAAAAAAAAAAAAAAAAAAAAAAAAAAAAAAAAAAAAAAAAAAAAAAAAAAAAAAAAAAAAAAAAAAAAAAAAAAAAAAAAAAAAAAAAAAAAAAAAAAAAAAAAAAAAAAAAAAAAAAAAAAAAAAAAAAAAAAAAAAAAAAAAAAAAAAAAAAAAAAAAAAAAAAAAAAAAAAAAAAAAAAAAAAAAAAAAAAAAAAAAAAAAAAAAAAAAAAAAAAAAAAAAAAAAAAAAAAAAAAAAAAAAAAAAAAAAAAAAAAAAAAAAAAAAAAAAAAAAAAAAAAAAAAAAAAAAAAAAAAAAAAAAAAAAAAAAAAAAAAAAAAAAAAAAAAAAAAAAAAAAAAAAAAAAAAAAAAAAAAAAAAAAAAAAAAAAAAAAAAAAAAAAAAAAAAAAAAAAAAAAAAAAAAAAAAAAAAAAAAAAAAAAAAAAAAAAAAAAAAAAAAAAAAAAAAAAAAAAAAAAAAAAAAAAAAAAAAAAAAAAAAAAAAAAAAAAAAAAAAAAAAAAAAAAAAAAAAAAAAAAAAAAAAAAAAAAAAAAAAAAAAAAAAAAAAAAAAAAAAAAAAAAAAAAAAAAAAAAAAAAAAAAAAAAAAAAAAAAAAAAAAAAAAAAAAAAAAAAAAAAAAAAAAAAAAAAAAAAAAAAAAAAAAAAAAAAAAAAAAAAAAAAAAAAAAAAAAAAAAAAAAAAAAAAAAAAAAAAAAAAAAAAAAAAAAAAAAAAAAAAAAAAAAAAAAAAAAAAAAAAAAAAAAAAAAAAAAAAAAAAAAAAAAAAAAAAAAAAAAAAAAAAAAAAAAAAAAAAAAAAAAAAAAAAAAAAAAAAAAAAAAAAAAAAAAAAAAAAAAAAAAAAAAAAAAAAAAAAAAAAAAAAAAAAAAAAAAAAAAAAAAAAAAAAAAAAAAAAAAAAAAAAAAAAAAAAAAAAAAAAAAAAAAAAAAAAAAAAAAAAAAAAAAAAAAAAAAAAAAAAAAAAAAAAAAAAAAAAAAAAAAAAAAAAAAAAAAAAAAAAAAAAAAAAAAAAAAAAAAAAAAAAAAAAAAAAAAAAAAAAAAAAAAAAAAAAAAAAAAAAAAAAAAAAAAAAAAAAAAAAAAAAAAAAAAAAAAAAAAAAAAAAAAAAAAAAAAAAAAAAAAAAAAAAAAAAAAAAAAAAAAAAAAAAAAAAAAAAAAAAAAAAAAAAAAAAAAAAAAAAAAAAAAAAAAAAAAAAAAAAAAAAAAAAAAAAAAAAAAAAAAAAAAAAAAAAAAAAAAAAAAAAAAAAAAAAAAAAAAAAAAAAAAAAAAAAAAAAAAAAAAAAAAAAAAAAAAAAAAAAAAAAAAAAAAAAAAAAAAAAAAAAAAAAAAAAAAAAAAAAAAAAAAAAAAAAAAAAAAAAAAAAAAAAAAAAAAAAAAAAAAAAAAAAAAAAAAAAAAAAAAAAAAAAAAAAAAAAAAAAAAAAAAAAAAAAAAAAAAAAAAAAAAAAAAAAAAAAAAAAAAAAAAAAAAAAAAAAAAAAAAAAAAAAAAAAAAAAAAAAAAAAAAAAAAAAAAAAAAAAAAAAAAAAAAAAAAAAAAAAAAAAAAAAAAAAAAAAAAAAAAAAAAAAAAAAAAAAAAAAAAAAAAAAAAAAAAAAAAAAAAAAAAAAAAAAAAAAAAAAAAAAAAAAAAAAAAAAAAAAAAAAAAAAAAAAAAAAAAAAAAAAAAAAAAAAAAAAAAAAAAAAAAAAAAAAAAAAAAAAAAAAAAAAAAAAAAAAAAAAAAAAAAAAAAAAAAAAAAAAAAAAAAAAAAAAAAAAAAAAAAAAAAAAAAAAAAAAAAAAAAAAAAAAAAAAAAAAAAAAAAAAAAAAAAAAAAAAAAAAAAAAAAAAAAAAAAAAAAAAAAAAAAAAAAAAAAAAAAAAAAAAAAAAAAAAAAAAAAAAAAAAAAAAAAAAAAAAAAAAAAAAAAAAAAAAAAAAAAAAAAAAAAAAAAAAAAAAAAAAAAAAAAAAAAAAAAAAAAAAAAAAAAAAAAAAAAAAAAAAAAAAAAAAAAAAAAAAAAAAAAAAAAAAAAAAAAAAAAAAAAAAAAAAAAAAAAAAAAAAAAAAAAAAAAAAAAAAAAAAAAAAAAAAAAAAAAAAAAAAAAAAAAAAAAAAAAAAAAAAAAAAAAAAAAAAAAAAAAAAAAAAAAAAAAAAAAAAAAAAAAAAAAAAAAAAAAAAAAAAAAAAAAAAAAAAAAAAAAAAAAAAAAAAAAAAAAAAAAAAAAAAAAAAAAAAAAAAAAAAAAAAAAAAAAAAAAAAAAAAAAAAAAAAAAAAAAAAAAAAAAAAAAAAAAAAAAAAAAAAAAAAAAAAAAAAAAAAAAAAAAAAAAAAAAAAAAAAAAAAAAAAAAAAAAAAAAAAAAAAAAAAAAAAAAAAAAAAAAAAAAAAAAAAAAAAAAAAAAAAAAAAAAAAAAAAAAAAAAAAAAAAAAAAAAAAAAAAAAAAAAAAAAAAAAAAAAAAAAAAAAAAAAAAAAAAAAAAAAAAAAAAAAAAAAAAAAAAAAAAAAAAAAAAAAAAAAAAAAAAAAAAAAAAAAAAAAAAAAAAAAAAAAAAAAAAAAAAAAAAAAAAAAAAAAAAAAAAAAAAAAAAAAAAAAAAAAAAAAAAAAAAAAAAAAAAAAAAAAAAAAAAAAAAAAAAAAAAAAAAAAAAAAAAAAAAAAAAAAAAAAAAAAAAAAAAAAAAAAAAAAAAAAAAAAAAAAAAAAAAAAAAAAAAAAAAAAAAAAAAAAAAAAAAAAAAAAAAAAAAAAAAAAAAAAAAAAAAAAAAAAAAAAAAAAAAAAAAAAAAAAAAAAAAAAAAAAAAAAAAAAAAAAAAAAAAAAAAAAAAAAAAAAAAAAAAAAAAAAAAAAAAAAAAAAAAAAAAAAAAAAAAAAAAAAAAAAAAAAAAAAAAAAAAAAAAAAAND/AAAAAAAAAAAAAAAAAAAAAAAAAAAAAAAAAAAAAAAAAAAAAAAAAAAAAAAAAAAAAAAAAAAAAAAAAAAAAAAAAAAAAAAAAAAAAAAAAAAAAAAAAAAAAAAAAAAAAAAAAAAAAAAAAAAAAAAAAAAAAAAAAAAAAAAAAAAAAAAAAAAAAAAAAAAAAAAAAAAAAAAAAAAAAAAAAAAAAAAAAAAAAAAAAAAAAAAAAAAAAAAAAAAAAAAAAAAAAAAAAAAAAAAAAAAAAAAAAAAAAAAAAAAAAAAAAAAAAAAAAAAAAAAAAAAAAAAAAAAAAAAAAAAAAAAAAAAAAAAAAAAAAAAAAAAAAAAAAAAAAAAAAAAAAAAAAAAAAAAAAAAAAAAAAAAAAAAAAAAAAAAAAAAAAAAAAAAAAAAAAAAAAAAAAAAAAAAAAAAAAAAAAAAAAAAAAAAAAAAAAAAAAAAAAAAAAAAAAAAAAAAAAAAAAAAAAAAAAAAAAAAAAAAAAAAAAAAAAAAAAAAAAAAAAAAAAAAAAAAAAAAAAAAAAAAAAAAAAAAAAAAAAAAAAAAAAAAAAAAAAAAAAAAAAAAAAAAAAAAAAAAAAAAAAAAAAAAAAAAAAAAAAAAAAAAAAAAAAAAAAAAAAAAAAAAAAAAAAAAAAAAAAAAAAAAAAAAAAAAAAAAAAAAAAAAAAAAAAAAAAAAAAAAAAAAAAAAAAAAAAAAAAAAAAAAAAAAAAAAAAAAAAAAAAAAAAAAAAAAAAAAAAAAAAAAAAAAAAAAAAAAAAAAAAAAAAAAAAAAAAAAAAAAAAAAAAAAAAAAAAAAAAAAAAAAAAAAAAAAAAAAAAAAAAAAAAAAAAAAAAAAAAAAAAAAAAAAAAAAAAAAAAAAAAAAAAAAAAAAAAAAAAAAAAAAAAAAAAAAAAAAAAAAAAAAAAAAAAAAAAAAAAAAAAAAAAAAAAAAAAAAAAAAAAAAAAAAAAAAAAAAAAAAAAAAAADAAAAAAAAAAAAAwAAAAAAAAAAAAAAAAAAAAAAAAADAAAAAAAAAAAAAAAAAAAAAAAAAAAAAAAAAAAAAAAAAAAAAAAAAAAAAAAAAAAAAAAAAAAAAAAAAAAAAAAAAAAAAAAAAAAAAAAAAAMAAAAAAAAAAAAAAAAAAAAAAAAAAAAAAAAAAAAAAAAAAAAAAAAAAAAAAAAAAAAAAAAAAAAAAAAAAAAAAAAAAAAAAAAAAAAAAAAAAAAAAAAAAAAAAAAAAAAAAAAAAAAAAAAAAAAAAAAAAAAAAAAAAAAAAAAAAAAAAAAAAAAAAAAAAAAAAAAAAAAAAAAAAAAAAAAAAAAAAAAAAAAAAAAAAAAAAAAAAAAAAAAAAAAAAAAAAAAAAAAAAAAAAAAAAAAAAAAAAAAAAAAAAAAAAAAAAAAAAAAAAAAAAAAAAAAAAAAAAAAAAAAAAAAAAAAAAAAAAAAAAAAAAAAAAAAAAAAAAAAAAAAAAAAAAAAAAAAAAAAAAAAAAAAAAAAAAAMAAAAAAAAAAAAAAAAAAAAAAAAAAAAAAAAAAAAAAAAAAAAAAAAAAAAAAAAAAAAAAAAAAAAAAAAAAAAAAAAAAAAAAAAAAAAAAAAAAAAAAAAAAAAAAAAAAAAAAAAAAAAAAAAAAAAAAAAAAAAAAAAAAAAAAAAAAAAAAAAAAAAAAAAAAAAAAAAAAAAAAAAAAAAAAAAAAAAAAAAAAAAAAAAAAAAAAAAAAAAAAAAAAAAAAAAAAAAAAAAAAAAAAAAAAAAAAAAAAAAAAAAAAAAAAAAAAAAAAAAAAAAAAAAAAAAAAAAAAAAAAAAAAAAAAAAAAAAAAAAAAAAAAAAAAAAAAAAAAAAAAAAAAAAAAAAAAAAAAAAAAAAAAAAAAAAAAAAAAAAAAAAAAAAAAAAAAAAAAAAAAAAAAAAAAAAAAAAAAAAAAAAAAAAAAAAAAAAAAAAAAAAAAAAAAAAAAAAAAAAAAAAAAAAAAAAAAAAAAAAAAAAAAAAAAAAAAAAAAAAAAAAAAAAAAAAAAAAAAAAAAAAAAAAAAAAAAAAAAAAAAAAAAAAAAAAAAAAAAAAAAAAAAAAAAAAAAAAAAAAAAAAAAAAAAAAAAAAAAAAAAAAAAAAAAAAAAAAAAAAAAAAAAAAAAAAAAAAAAAAAAAAAAAAAAAAAAAAAAAAAAAAAAAAAAAAAAAAAAAAAAAAAAAAAAAAAAAAAAAAAAAAAAAAAAAAAAAAAAAAAAAAAAAAAAAAAAAAAAAAAAAAAAAAAAAAAAAAAAAAAAAAAAAAAAAAAAAAAAAAAAAAAAAAAAAAAAAAAAAAAAAAAAAAAAAAAAAAAAAAAAAAAAAAAAAAAAAAAAAAAAAAAAAAAAAAAAAAAAAAAAAAAAAAAAAAAAAAAAAAAAAAAAAAAAAAAAAAAAAAAAAAAAAAAAAAAAAAAAAAAAAAAAAAAAAAAAAAAAAAAAAAAAAAAAAAAAAAAAAAAAAAAAAAAAAAAAAAAAAAAAAAAAAAAAAAAAAAAAAAAAAAAAAAAAAAAAAAAAAAAAAAAAAAAAAAAAAAAAAAAAAAAAAAAAAAAAAAAAAAAAAAAAAAAAAAAAAAAAAAAAAAAAAAAAAAAAAAAAAAAAAAAAAAAAAAAAAAAAAAAAAAAAAAAAAAAAAAAAAAAAAAAAAAAAAAAAAAAAAAAAAAAAAAAAAAAAAAAAAAAAAAAAAAAAAAAAAAAAAAAAAAAAAAAAAAAAAAAAAAAAAAAAAAAAAAAAAAAAAAAAAAAAAAAAAAAAAAAAAAAAAAAAAAAAAAAAAAAAAAADQ/wAAAAAAAAAAAAAAAAAAAAAAAAAAAAAAAAAAAAAAAAAAAAAAAAAAAAAAAAAAAAAAAAAAAAAAAAAAAAAAAAAAAAAAAAAAAAAAAAAAAAAAAAAAAAAAAAAAAAAAAAAAAAAAAAAAAAAAAAAAAAAAAAAAAAAAAAAAAAAAAAAAAAAAAAAAAAAAAAAAAAAAAAAAAAAAAAAAAAAAAAAAAAAAAAAAAAAAAAAAAAAAAAAAAAAAAAAAAAAAAAAAAAAAAAAAAAAAAAAAAAAAAAAAAAAAAAAAAAAAAAAAAAAAAAAAAAAAAAAAAAAAAAAAAAAAAAAAAAAAAAAAAAAAAAAAAAAAAAAAAAAAAAAAAAAAAAAAAAAAAAAAAAAAAAAAAAAAAAAAAAAAAAAAAAAAAAAAAAAAAAAAAAAAAAAAAAAAAAAAAAAAAAAAAAAAAAAAAAAAAAAAAAAAAAAAAAAAAAAAAAAAAAAAAAAAAAAAAAAAAAAAAAAAAAAAAAAAAAAAAAAAAAAAAAAAAAAAAAAAAAAAAAAAAAAAAAAAAAAAAAAAAAAAAAAAAAAAAAAAAAAAAAAAAAAAAAAAAAAAAAAAAAAAAAAAAAAAAAAAAAAAAAAAAAAAAAAAAAAAAAAAAAAAAAAAAAAAAAAAAAAAAAAAAAAAAAAAAAAAAAAAAAAAAAAAAAAAAAAAAAAAAAAAAAAAAAAAAAAAAAAAAAAAAAAAAAAAAAAAAAAAAAAAAAAAAAAAAAAAAAAAAAAAAAAAAAAAAAAAAAAAAAAAAAAAAAAAAAAAAAAAAAAAAAAAAAAAAAAAAAAAAAAAAAAAAAAAAAAAAAAAAAAAAAAAAAAAAAAAAAAAAAAAAAAAAAAAAAAAAAAAAAAAAAAAAAAAAAAAAAAAAAAAAAAAAAAAAAAAAAAAAAAAAAAAAAAAAAAAAAAAAAAAAAAAAAAAAAAAAAAAAAAAAAAAAAAAAAAAAAAAAAAAAAAAAAAAAAAAAAAAAAAAAAAAAAAAAAAAAAAAAAAAAAAAAAAAAAAAAAAAAAAAAAAAAAAAAAAAAAAAAAAAAAAAAAAAAAAAAAAAAAAAAAAAAAAAAAAAAAAAAAAAAAAAAAAAAAAAAAAAAAAAAAAAAAAAAAAAAAAAAAAAAAAAAAAAAAAAAAAAAAAAAAAAAAAAAAAAAAAAAAAAAAAAAAAAAAAAAAAAAAAAAAAAAAAAAAAAAAAAAAAAAAAAAAAAAAAAAAAAAAAAAAAAAAAAAAAAAAAAAAAAAAAAAAAAAAAAAAAAAAAAAAAAAAAAAAAAAAAAAAAAAAAAAAAAAAAAAAAAAAAAAAAAAAAAAAAAAAAAAAAAAAAAAAAAAAAAAAAAAAAAAAAAAAAAAAAAAAAAAAAAAAAAAAAAAAAAAAAAAAAAAAAAAAAAAAAAAAAAAAAAAAAAAAAAAAAAAAAAAAAAAAAAAAAAAAAAAAAAAAAAAAAAAAAAAAAAAAAAAAAAAAAAAAAAAAAAAAAAAAAAAAAAAAAAAAAAAAAAAAAAAAAAAAAAAAAAAAAAAAAAAAAAAAAAAAAAAAAAAAAAAAAAAAAAAAAAAAAAAAAAAAAAAAAAAAAAAAAAAAAAAAAAAAAAAAAAAAAAAAAAAAAAAAAAAAAAAAAAAAAAAAAAAAAAAAAAAAAAAAAAAAAAAAAAAAAAAAAAAAAAAAAAAAAAAAAAAAAAAAAAAAAAAAAAAAAAAAAAAAAAAAAAAAAAAAAAAAAAAAAAAAAAAAAAAAAAAAAAAAAAAAAAAAAAAAAAAAAAAAAAAAAAAAAAAAAAAAAAAAAAAAAAAAAAAAAAAAAAAAAAAAAAAAAAAAAAAAAAAAAAAAAAAAAAAAAAAAAAAAAAAAAAAAAAAAAAAAAAAAAAAAAAAAAAAAAAAAAAAAAAAAAAAAAAAAAAAAAAAAAAAAAAAAAAAAAAAAAAAAAAAAAAAAAAAAAAAAAAAAAAAAAAAAAAAAAAAAAAAAAAAAAAAAAAAAAAAAAAAAAAAAAAAAAAAAAAAAAAAAAAAAAAAAAAAAAAAAAAAAAAAAAAAAAAAAAAAAAAAAAAAAAAAAAAAAAAAAAAAAAA0P8AAAAAAAAAAAAAAAAAAAAAAAAAAAAAAAAAAAAAAAAAAAAAAAAAAAAAAAAAAAAAAAAAAAAAAAAAAAAAAAAAAAAAAAAAAAAAAAAAAAAAAAAAAAAAAAAAAAAAAAAAAAAAAAAAAAAAAAAAAAAAAAAAAAAAAAAAAAAAAAAAAAAAAAAAAAAAAAAAAAAAAAAAAAAAAAAAAAAAAAAAAAAAAAAAAAAAAAAAAAAAAAAAAAAAAAAAAAAAAAAAAAAAAAAAAAAAAAAAAAAAAAAAAAAAAAAAAAAAAAAAAAAAAAAAAAAAAAAAAAAAAAAAAAAAAAAAAAAAAAAAAAAAAAAAAAAAAAAAAAAAAAAAAAAAAAAAAAAAAAAAAAAAAAAAAAAAAAAAAAAAAAAAAAAAAAAAAAAAAAAAAAAAAAAAAAAAAAAAAAAAAAAAAAAAAAAAAAAAAAAAAAAAAAAAAAAAAAAAAAAAAAAAAAAAAAAAAAAAAAAAAAAAAAAAAAAAAAAAAAAAAAAAAAAAAAAAAAAAAAAAAAAAAAAAAAAAAAAAAAAAAAAAAAAAAAAAAAAAAAAAAAAAAAAAAAAAAAAAAAAAAAAAAAAAAAAAAAAAAAAAAAAAAAAAAAAAAAAAAAAAAAAAAAAAAAAAAAAAAAAAAAAAAAAAAAAAAAAAAAAAAAAAAAAAAAAAAAAAAAAAAAAAAAAAAAAAAAAAAAAAAAAAAAAAAAAAAAAAAAAAAAAAAAAAAAAAAAAAAAAAAAAAAAAAAAAAAAAAAAAAAAAAAAAAAAAAAAAAAAAAAAAAAAAAAAAAAAAAAAAAAAAAAAAAAAAAAAAAAAAAAAAAAAAAAAAAAAAAAAAAAAAAAAAAAAAAAAAAAAAAAAAAAAAAAAAAAAAAAAAAAAAAAAAAAAAAAAAAAAAAAAAAAAAAAAAAAAAAAAAAAAAAAAAAAAAAAAAAAAAAAAAAAAAAAAAAAAAAAAAAAAAAAAAAAAAAAAAAAAAAAAAAAAAAAAAAAAAAAAAAAAAAAAAAAAAAAAAAAAAAAAAAAAAAAAAAAAAAAAAAAAAAAAAAAAAAAAAAAAAAAAAAAAAAAAAAAAAAAAAAAAAAAAAAAAAAAAAAAAAAAAAAAAAAAAAAAAAAAAAAAAAAAAAAAAAAAAAAAAAAAAAAAAAAAAAAAAAAAAAAAAAAAAAAAAAAAAAAAAAAAAAAAAAAAAAAAAAAAAAAAAAAAAAAAAAAAAAAAAAAAAAAAAAAAAAAAAAAAAAAAAAAAAAAAAAAAAAAAAAAAAAAAAAAAAAAAAAAAAAAAAAAAAAAAAAAAAAAAAAAAAAAAAAAAAAAAAAAAAAAAAAAAAAAAAAAAAAAAAAAAAAAAAAAAAAAAAAAAAAAAAAAAAAAAAAAAAAAAAAAAAAAAAAAAAAAAAAAAAAAAAAAAAAAAAAAAAAAAAAAAAAAAAAAAAAAAAAAAAAAAAAAAAAAAAAAAAAAAAAAAAAAAAAAAAAAAAAAAAAAAAAAAAAAAAAAAAAAAAAAAAAAAAAAAAAAAAAAAAAAAAAAAAAAAAAAAAAAAAAAAAAAAAAAAAAAAAAAAAAAAAAAAAAAAAAAAAAAAAAAAAAAAAAAAAAAAAAAAAAAAAAAAAAAAAAAAAAAAAAAAAAAAAAAAAAAAAAAAAAAAAAAAAAAAAAAAAAAAAAAAAAAAAAAAAAAAAAAAAAAAAAAAAAAAAAAAAAAAAAAAAAAAAAAAAAAAAAAAAAAAAAAAAAAAAAAAAAAAAAAAAAAAAAAAAAAAAAAAAAAAAAAAAAAAAAAAAAAAAAAAAAAAAAAAAAAAAAAAAAAAAAAAAAAAAAAAAAAAAAAAAAAAAAAAAAAAAAAAAAAAAAAAAAAAAAAAAAAAAAAAAAAAAAAAAAAAAAAAAAAAAAAAAAAAAAAAAAAAAAAAAAAAAAAAAAAAAAAAAAAAAAAAAAAAAAAAAAAAAAAAAAAAAAAAAAAAAAAAAAAAAAAAAAAAAAAAAAAAAAAAAAAAAAAAAAAAAAAAAAAAAAAAAAAAAAAAAAAAAAAAAAAAAAAAAAAAAAAAAAAAAAAAAAAAAAAAAAAAAAAAAAAAAAAAAAAAAAAAAAAAAAAAAAAAAAAAAAAADAAAAAAAAAAAAAAAAAAAAAAAAAAAAAAAAAAAAAAAAAAAAAAAAAAAAAAAAAAAAAAAAAAAAAAAAAAAAAAAAAAAAAAAAAAAAAAAAAAAAAAAAAAAAAAAAAAAAAAAAAAAAAAAAAAAAAAAAAAAAAAAAAAAAAAAAAAAAAAAAAAAAAAAAAAAAAAAAAAAAAAAAAAAAAAAAAAAAAAAAAAAAAAAAAAAAAAAAAAAAAAAAAAAAAAAAAAAAAAAAAAAAAAAAAAAAAAAAAAAAAAAAAAAAAAAAAAAAAAAAAAAAAAAAAAAAAAAAAAAAAAAAAAAAAAAAAAAAAAAAAAAAAAAAAAAAAAAAAAAAAAAAAAAAAAAAAAAAAAAAAAAAAAAAAAAAAAAAAAAAAAAAAAAAAAAAAAAAAAAAAAAAAAAAAAAAAAAAAAAAAAAAAAAAAAAAAAAAAAAAAAAAAAAAAAAAAAAAAAAAAAAAAAAAAAAAAAAAAAAAAAAAAAAAAAAAAAAAAAAAAAAAAAAAAAAAAAAAAAAAAAAAAAAAAAAAAAAAAAAAAAAAAAAAAAAAAAAAAAAAAAAAAAAAAAAAAAAAAAAAAAAAAAAAAAAAAAAAAAAAAAAAAAAAAAAAAAAAAAAAAAAAAAAAAAAAAAAAAAAAAAAAAAAAAAAAAAAAAAAAAAAAAAAAAAAAAAAAAAAAAAAAAAAAAAAAAAAAAAAAAAAAAAAAAAAAAAAAAAAAAAAAAAAAAAAAAAAAAAAAAAAAAAAAAAAAAAAAAAAAAAAAAAAAAAAAAAAAAAAAAAAAAAAAAAAAAAAAAAAAAAAAAAAAAAAAAAAAAAAAAAAAAAAAAAAAAAAAAAAAAAAAAAAAAAAAAAAAAAAAAAAAAAAAAAAAAAAAAAAAAAAAAAAAAAAAAAAAAAAAAAAAAAAAAAAAAAAAAAAAAAAAAAAAAAAAAAAAAAAAAAAAAAAAAAAAAAAAAAAAAAAAAAAAAAAAAAAAAAAAAAAAAAAAAAAAAAAAAAAAAAAAAAAAAAAAAAAAAAAAAAAAAAAAAAAAAAAAAAAAAAAAAAAAAAAAAAAAAAAAAAAAAAAAAAAAAAAAAAAAAAAAAAAAAAAAAAAAAAAAAAAAAAAAAAAAAAAAAAAAAAAAAAAAAAAAAAAAAAAAAAAAAAAAAAAAAAAAAAAAAAAAAAAAAAAAAAAAAAAAAAAAAAAAAAAAAAAAAAAAAAAAAAAAAAAAAAAAAAAAAAAAAAAAAAAAAAAAAAAAAAAAAAAAAAAAAAAAAAAAAAAAAAAAAAAAAAAAAAAAAAAAAAAAAAAAAAAAAAAAAAAAAAAAAAAAAAAAAAAAAAAAAAAAAAAAAAAAAAAAAAAAAAAAAAAAAAAAAAAAAAAAAAAAAAAAAAAAAAAAAAAAAAAAAAAAAAAAAAAAAAAAAAAAAAAAAAAAAAAAAAAAAAAAAAAAAAAAAAAAAAAAAAAAAAAAAAAAAAAAAAAAAAAAAAAAAAAAAAAAAAAAAAAAAAAAAAAAAAAAAAAAAAAAAAAAAAAAAAAAAAAAAAAAAAAAAAAAAAAAAAAAAAAAAAAAAAAAAAAAAAAAAAAAAAAAAAAAAAAAAAAAAAAAAAAAAAAAAAAAAAAAAAAAAAAAAAAAAAAAAAAAAAAAAAAAAAAAAAAAAAAAAAAAAAAAAAAAAAAAAAAAAAAAAAAAAAAAAAAAAAAAAAAAAAAAAAAAAAAAAAAAAAAAAAAAAAAAAAAAAAAAAAAAAAAAAAAAAAAAAAAAAAAAAAAAAAAAAAAAAAAAAAAAAAAAAAAAAAAAAAAAAAAAAAAAAAAAAAAAAAAAAAAAAAAAAAAAAAAAAAAAAAAAAAAAAAAAAAAAAAAAAAAAAAAAAAAAAAAAAAAAAAAAAAAAAAAAAAAAAAAAAAAAAAAAAAAAAAAAAAAAAAAAAAAAAAAAAAAAAAAAAAAAAAAAAAAAAAAAAAAAAAAAAAAAAAAAAAAAAAAAAAAAAAAAAAAAAAAAAAAAAAAAAAAAAAAAAAAAAAAAAAAAAAAAAAAAAAAAAAAAAAAAAAAAAAAAAAAAAAAAAAAAAAAAAAAAAAAAAAAAAAAAAAAAAAAAAAAAAAAAAAAAAAAAAAAAAAAAAAAAAAAAAAAAAAAAAAAAAAAAAAAAAAAAAAAAAAAAAAAAAAAAAAAAAAAAAAAAAAAAAAAAAAAAAAAAAAAAAAAAAAAAAAAAAAAAAAAAAAAAAAAAAAAAAAAAAAAAAAAAAAAAAAAAAAAAAAAAAAAAAAAAAAAAAAAAAAAAAAAAAAAAAAAAAAAAAAAAAAAAAAAAAAAAAAAAAAAAAAAAAAAAAAAAAAAAAAAAAAAAAAAAAAAAAAAAAAAAAAAAAAAAAAAAAAAAAAAAAAAAAAAAAAAAAAAAAAAAAAAAAAAAAAAAAAAAAAAAAAAAAAAAAAAAAAAAAAAAAAAAAAAAAAAAAAAAAAAAAAAAAAAAAAAAAAAAAAAAAAAAAAAAAAAAAAAAAAAAAAAAAAAAAAAAAAAAAAAAAAAAAAAAAAAAAAAAAAAAAAAAAAAAAAAAAAAAAAAAAAAAAAAAAAAAAAAAAAAAAAAAAAAAAAAAAAAAAAAAAAAAAAAAAAAAAAAAAAAAAAAAAAAAAAAAAAAAAAAAAAAAAAAAAAAAAAAAAAAAAAAAAAAAAAAAAAAAAAAAAAAAAAAAAAAAAAAAAAAAAAAAAAAAAAAAAAAAAAAAAAAAAAAAAAAAAAAAAAAAAAAAAAAAAAAAAAAAAAAAAAAAAAAAAAAAAAAAAAAAAAAAAAAAAAAAAAAAAAAAAAAAAAAAAAAAAAAAAAAAAAAAAAAAAAAAAAAAAAAAAAAAAAAAAAAAAAAAAAAAAAAAAAAAAAAAAAAAAAAAAAAAAAAAAAAAAAAAAAAAAAAAAAAAAAAAAAAAAAAAAAAAAAAAAAAAAAAAAAAAAAAAAAAAAAAAAAAAAAAAAAAAAAAAAAAAAAAAAAAAAAAAAAAAAAAAAAAAAAAAAAAAAAAAAAAAAAAAAAAAAAAAAAAAAAAAAAAAAAAAAAAAAAAAAAAAAAAAAAAAAAAAAAAAAAAAAAAAAAAAAAAAAAAAAAAAAAAAAAAAAAAAAAAAAAAAAAAAAAAAAAAAAAAAAAAAAAAAAAAAAAAAAAAAAAAAAAAAAAAAAAAAAAAAAAAAAAAAAAAAAAAAAAAAAAAAAAAAAAAAAAAAAAAAAAAAAAAAAAAAAAAAAAAAAAAAAAAAAAAAAAAAAAAAAAAAAAAAAAAAAAAAAAAAAAAAAAAAAAAAAAAAAAAAAAAAAAAAAAAAAAAAAAAAAAAAAAAAAAAAAAAAAAAAAAAAAAAAAAAAAAAAAAAAAAAAAAAAAAAAAAAAAAAAAAAAAAAAAAAAAAAAAAAAAAAAAAAAAAAAAAAAAAAAAAAAAAAAAAAAAAAAAAAAAAAAAAAAAAAAAAAAAAAAAAAAAAAAAAAAAAAAAAAAAAAAAAAAAAAAAAAAAAAAAAAAAAAAAAAAAAAAAAAAAAAAAAAAAAAAAAAAAAAAAAAAAAAAAAAAAAAAAAAAAAAAAAAAAAAAAAAAAAAAAAAAAAAAAAAAAAAAAAAAAAAAAAAAAAAAAAAAAAAAAAAAAAAAAAAAAAAAAAAAAAAAAAAAAAAAAAAAAAAAAAAAAAAAAAAAAAAAAAAAAAAAAAAAAAAAAAAAAAAAAAAAAAAAAAAAAAAAAAAAAAAAAAAAAAAAAAAAAAAAAAAAAAAAAAAAAAAAAAAAAAAAAAAAAAAAAAAAAAAAAAAAAAAAAAAAAAAAAAAAAAAAAAAAAAAAAAAAAAAAAAAAAAAAAAAAAAAAAAAAAAAAAAAAAAAAAAAAAAAAAAAAAAAAAAAAAAAAAAAAAAAAAAAAAAAAAAAAAAAAAAAAAAAAAAAAAAAAAAAAAAAAAAAAAAAAAAAAAAAAAAAAAAAAAAAAAAAAAAAAAAAAAAAAAAAAAAAAAAAAAAAAAAAAAAAAAAAAAAAAAAAAAAAAAAAAAAAAAAAAAAAAAAAAAAAAAAAAAAAAAAAAAAAAAAAAAAAAAAAAAAAAAAAAAAAAAAAAAAAAAAAAAAAAAAAAAAAAAAAAAAAAAAAAAAAAAAAAAAAAAAAAAAAAAAAAAAAAAAAAAAAAAAAAAAAAAAAAAAAAAAAAAAAAAAAAAAAAAAAAAAAAAAAAAAAAAAAAAAAAAAAAAAAAAAAAAAAAAAAAAAAAAAAAAAAAAAAAAAAAAAAAAAAAAAAAAAAAAAAAAAAAAAAAAAAAAAAAAAAAAAAAAAAAAAAAAAAAAAAAAAAAAAAAAAAAAAAAAAAAAAAAAAAAAAAAAAAAAAAAAAAAAAAAAAAAAAAAAAAAAAAAAAAAAAAAAAAAAAAAAAAAAAAAAAAAAAAAAAAAAAAAAAAAAAAAAAAAAAAAAAAAAAAAAAAAAAAAAAAAAAAAAAAAAAAAAAAAAAAAAAAAAAAAAAAAAAAAAAAAAAAAAAAAAAAAAAAAAAAAAAAAAAAAAAAAAAAAAAAAAAAAAAAAAAAAAAAAAAAAAAAAAAAAAAAAAAAAAAAAAAAAAAAAAAAAAAAAAAAAAAAAAAAAAAAAAAAAAAAAAAAAAAAAAAAAAAAAAAAAAAAAAAAAAAAAAAAAAAAAAAAAAAAAAAAAAAAAAAAAAAAAAAAAAAAAAAAAAAAAAAAAAAAAAAAAAAAAAAAAAAAAAAAAAAAAAAAAAAAAAAAAAAAAAAAAAAAAAAAAAAAAAAAAAAAAAAAAAAAAAAAAAAAAAAAAAAAAAAAAAAAAAAAAAAAAAAAAAAAAAAAAAAAAAAAAAAAAAAAAAAAAAAAAAAAAAAAAAAAAAAAAAAAAAAAAAAAAAAAAAAAAAAAAAAAAAAAAAAAAAAAAAAAAAAAAAAAAAAAAAAAAAAAAAAAAAAAAAAAAAAAAAAAAAAAAAAAAAAAAAAAAAAAAAAAAAAAAAAAAAAAAAAAAAAAAAAAAAAAAAAAAAAAAAAAAAAAAAAAAAAAAAAAAAAAAAAAAAAAAAAAAAAAAAAAAAAAAAAAAAAAAAAAAAAAAAAAAAAAAAAAAAAAAAAAAAAAAAAAAAAAAAAAAAAAAAAAAAAAAAAAAAAAAAAAAAAAAAAAAAAAAAAAAAAAAAAAAAAAAAAAAAAAAAAAAAAAAAAAAAAAAAAAAAAAAAAAAAAAAAAAAAAAAAAAAAAAAAAAAAAAAAAAAAAAAAAAAAAAAAAAAAAAAAAAAAAAAAAAAAAAAAAAAAAAAAAAAAAAAAAAAAAAAAAAAAAAAAAAAAAAAAAAAAAAAAAAAAAAAAAAAAAAAAAAAAAAAAAAAAAAAAAAAAAAAAAAAAAAAAAAAAAAAAAAAAAAAAAAAAAAAAAAAAAAAAAAAAAAAAAAAAAAAAAAAAAAAAAAAAAAAAAAAAAAAAAAAAAAAAAAAAAAAAAAAAAAAAAAAAAAAAAAAAAAAAAAAAAAAAAAAAAAAAAAAAAAAAAAAAAAAAAAAAAAAAAAAAAAAAAAAAAAAAAAAAAAAAAAAAAAAAAAAAAAAAAAAAAAAAAAAAAAAAAAAAAAAAAAAAAAAAAAAAAAAAAAAAAAAAAAAAAAAAAAAAAAAAAAAAAAAAAAAAAAAAAAAAAAAAAAAAAAAAAAAAAAAAAAAAAAAAAAAAAAAAAAAAAAAAAAAAAAAAAAAAAAAAAAAAAAAAAAAAAAAAAAAAAAAAAAAAAAAAAAAAAAAAAAAAAAAAAAAAAAAAAAAAAAAAAAAAAAAAAAAAAAAAAAAAAAAAAAAAAAAAAAAAAAAAAAAAAAAAAAAAAAAAAAAAAAAAAAAAAAAAAAAAAAAAAAAAAAAAAAAAAAAAAAAAAAAAAAAAAAAAAAAAAAAAAAAAAAAAAAAAAAAAAAAAAAAAAAAAAAAAAAAAAAAAAAAAAAAAAAAAAAAAAAAAAAAAAAAAAAAAAAAAAAAAAAAAAAAAAAAAAAAAAAAAAAAAAAAAAAAAAAAAAAAAAAAAAAAAAAAAAAAAAAAAAAAAAAAAAAAAAAAAAAAAAAAAAAAAAAAAAAAAAAAAAAAAAAAAAAAAAAAAAAAAAAAAAAAAAAAAAAAAAAAAAAAAAAAAAAAAAAAAAAAAAAAAAAAAAAAAAAAAAAAAAAAAAAAAAAAAAAAAAAAAAAAAAAAAAAAAAAAAAAAAAAAAAAAAAAAAAAAAAAAAAAAAAAAAAAAAAAAAAAAAAAAAAAAAAAAAAAAAAAAAAAAAAAAAAAAAAAAAAAAAAAAAAAAAAAAAAAAAAAAAAAAAAAAAAAAAAAAAAAAAAAAAAAAAAAAAAAAAAAAAAAAAAAAAAAAAAAAAAAAAAAAAAAAAAAAAAAAAAAAAAAAAAAAAAAAAAAAAAAAAAAAAAAAAAAAAAAAAAAAAAAAAAAAAAAAAAAAAAAAAAAAAAAAAAAAAAAAAAAAAAAAAAAAAAAAAAAAAAAAAAAAAAAAAAAAAAAAAAAAAAAAAAAAAAAAAAAAAAAAAAAAAAAAAAAAAAAAAAAAAAAAAAAAAAAAAAAAAAAAAAAAAAAAAAAAAAAAAAAAAAAAAAAAAAAAAAAAAAAAAAAAAAAAAAAAAAAAAAAAAAAAAAAAAAAAAAAAAAAAAAAAAAAAAAAAAAAAAAAAAAAAAAAAAAAAAAAAAAAAAAAAAAAAAAAAAAAAAAAAAAAAAAAAAAAAAAAAAAAAAAAAAAAAAAAAAAAAAAAAAAAAAAAAAAAAAAAAAAAAAAAAAAAAAAAAAAAAAAAAAAAAAAAAAAAAAAAAAAAAAAAAAAAAAAAAAAAAAAAAAAAAAAAAAAAAAAAAAAAAAAAAAAAAAAAAAAAAAAAAAAAAAAAAAAAAAAAAAAAAAAAAAAAAAAAAAAAAAAAAAAAAAAAAAAAAAAAAAAAAAAAAAAAAAAAAAAAAAAAAAAAAAAAAAAAAAAAAAAAAAAAAAAAAAAAAAAAAAAAAAAAAAAAAAAAAAAAAAAAAAAAAAAAAAAAAAAAAAAAAAAAAAAAAAAAAAAAAAAAAAAAAAAAAAAAAAAAAAAAAAAAAAAAAAAAAAAAAAAAAAAAAAAAAAAAAAAAAAAAAAAAAAAAAAAAAAAAAAAAAAAAAAAAAAAAAAAAAAAAAAAAAAAAAAAAAAAAAAAAAAAAAAAAAAAAAAAAAAAAAAAAAAAAAAAAAAAAAAAAAAAAAAAAAAAAAAAAAAAAAAAAAAAAAAAAAAAAAAAAAAAAAAAAAAAAAAAAAAAAAAAAAAAAAAAAAAAAAAAAAAAAAAAAAAAAAAAAAAAAAAAAAAAAAAAAAAAAAAAAAAAAAAAAAAAAAAAAAAAAAAAAAAAAAAAAAAAAAAAAAAAAAAAAAAAAAAAAAAAAAAAAAAAAAAAAAAAAAAAAAAAAAAAAAAAAAAAAAAAAAAAAAAAAAAAAAAAAAAAAAAAAAAAAAAAAAAAAAAAAAAAAAAAAAAAAAAAAAAAAAAAAAAAAAAAAAAAAAAAAAAAAAAAAAAAAAAAAAAAAAAAAAAAAAAAAAAAAAAAAAAAAAAAAAAAAAAAAAAAAAAAAAAAAAAAAAAAAAAAAAAAAAAAAAAAAAAAAAAAAAAAAAAAAAAAAAAAAAAAAAAAAAAAAAAAAAAAAAAAAAAAAAAAAAAAAAAAAAAAAAAAAAAAAAAAAAAAAAAAAAAAAAAAAAAAAAAAAAAAAAAAAAAAAAAAAAAAAAAAAAAAAAAAAAAAAAAAAAAAAAAAAAAAAAAAAAAAAAAAAAAAAAAAAAAAAAAAAAAAAAAAAAAAAAAAAAAAAAAAAAAAAAAAAAAAAAAAAAAAAAAAAAAAAAAAAAAAAAAAAAAAAAAAAAAAAAAAAAAAAAAAAAAAAAAAAAAAAAAAAAAAAAAAAAAAAAAAAAAAAAAAAAAAAAAAAAAAAAAAAAAAAAAAAAAAAAAAAAAAAAAAAAAAAAAAAAAAAAAAAAAAAAAAAAAAAAAAAAAAAAAAAAAAAAAAAAAAAAAAAAAAAAAAAAAAAAAAAAAAAAAAAAAAAAAAAAAAAAAAAAAAAAAAAAAAAAAAAAAAAAAAAAAAAAAAAAAAAAAAAAAAAAAAAAAAAAAAAAAAAAAAAAAAAAAAAAAAAAAAAAAAAAAAAAAAAAAAAAAAAAAAAAAAAAAAAAAAAAAAAAAAAAAAAAAAAAAAAAAAAAAAAAAAAAAAAAAAAAAAAAAAAAAAAAAAAAAAAAAAAAAAAAAAAAAAAAAAAAAAAAAAAAAAAAAAAAAAAAAAAAAAAAAAAAAAAAAAAAAAAAAAAAAAAAAAAAAAAAAAAAAAAAAAAAAAAAAAAAAAAAAAAAAAAAAAAAAAAAAAAAAAAAAAAAAAAAAAAAAAAAAAAAAAAAAAAAAAAAAAAAAAAAAAAAAAAAAAAAAAAAAAAAAAAAAAAAAAAAAAAAAAAAAAAAAAAAAAAAAAAAAAAAAAAAAAAAAAAAAAAAAAAAAAAAAAAAAAAAAAAAAAAAAAAAAAAAAAAAAAAAAAAAAAAAAAAAAAAAAAAAAAAAAAAAAAAAAAAAAAAAAAAAAAAAAAAAAAAAAAAAAAAAAAAAAAAAAAAAAAAAAAAAAAAAAAAAAAAAAAAAAAAAAAAAAAAAAAAAAAAAAAAAAAAAAAAAAAAAAAAAAAAAAAAAAAAAAAAAAAAAAAAAAAAAAAAAAAAAAAAAAAAAAAAAAAAAAAAAAAAAAAAAAAAAAAAAAAAAAAAAAAAAAAAAAAAAAAAAAAAAAAAAAAAAAAAAAAAAAAAAAAAAAAAAAAAAAAAAAAAAAAAAAAAAAAAAAAAAAAAAAAAAAAAAAAAAAAAAAAAAAAAAAAAAAAAAAAAAAAAAAAAAAAAAAAAAAAAAAAAAAAAAAAAAAAAAAAAAAAAAAAAAAAAAAAAAAAAAAAAAAAAAAAAAAAAAAAAAAAAAAAAAAAAAAAAAAAAAAAAAAAAAAAAAAAAAAAAAAAAAAAAAAAAAAAAAAAAAAAAAAAAAAAAAAAAAAAAAAAAAAAAAAAAAAAAAAAAAAAAAAAAAAAAAAAAAAAAAAAAAAAAAAAAAAAAAAAAAAAAAAAAAAAAAAAAAAAAAAAAAAAAAAAAAAAAAAAAAAAAAAAAAAAAAAAAAAAAAAAAAAAAAAAAAAAAAAAAAAAAAAAAAAAAAAAAAAAAAAAAAAAAAAAAAAAAAAAAAAAAAAAAAAAAAAAAAAAAAAAAAAAAAAAAAAAAAAAAAAAAAAAAAAAAAAAAAAAAAAAAAAAAAAAAAAAAAAAAAAAAAAAAAAAAAAAAAAAAAAAAAAAAAAAAAAAAAAAAAAAAAAAAAAAAAAAAAAAAAAAAAAAAAAAAAAAAAAAAAAAAAAAAAAAAAAAAAAAAAAAAAAAAAAAAAAAAAAAAAAAAAAAAAAAAAAAAAAAAAAAAAAAAAAAAAAAAAAAAAAAAAAAAAAAAAAAAAAAAAAAAAAAAAAAAAAAAAAAAAAAAAAAAAAAAAAAAAAAAAAAAAAAAAAAAAAAAAAAAAAAAAAAAAAAAAAAAAAAAAAAAAAAAAAAAAAAAAAAAAAAAAAAAAAAAAAAAAAAAAAAAAAAAAAAAAAAAAAAAAAAAAAAAAAAAAAAAAAAAAAAAAAAAAAAAAAAAAAAAAAAAAAAAAAAAAAAAAAAAAAAAAAAAAAAAAAAAAAAAAAAAAAAAAAAAAAAAAAAAAAAAAAAAAAAAAAAAAAAAAAAAAAAAAAAAAAAAAAAAAAAAAAAAAAAAAAAAAAAAAAAAAAAAAAAAAAAAAAAAAAAAAAAAAAAAAAAAAAAAAAAAAAAAAAAAAAAAAAAAAAAAAAAAAAAAAAAAAAAAAAAAAAAAAAAAAAAAAAAAAAAAAAAAAAAAAAAAAAAAAAAAAAAAAAAAAAAAAAAAAAAAAAAAAAAAAAAAAAAAAAAAAAAAAAAAAAAAAAAAAAAAAAAAAAAAAAAAAAAAAAAAAAAAAAAAAAAAAAAAAAAAAAAAAAAAAAAAAAAAAAAAAAAAAAAAAAAAAAAAAAAAAAAAAAAAAAAAAAAAAAAAAAAAAAAAAAAAAAAAAAAAAAAAAAAAAAAAAAAAAAAAAAAAAAAAAAAAAAAAAAAAAAAAAAAAAAAAAAAAAAAAAAAAAAAAAAAAAAAAAAAAAAAAAAAAAAAAAAAAAAAAAAAAAAAAAAAAAAAAAAAAAAAAAAAAAAAAAAAAAAAAAAAAAAAAAAAAAAAAAAAAAAAAAAAAAAAAAAAAAAAAAAAAAAAAAAAAAAAAAAAAAAAAAAAAAAAAAAAAAAAAAAAAAAAAAAAAAAAAAAAAAAAAAAAAAAAAAAAAAAAAAAAAAAAAAAAAAAAAAAAAAAAAAAAAAAAAAAAAAAAAAAAAAAAAAAAAAAAAAAAAAAAAAAAAAAAAAAAAAAAAAAAAAAAAAAAAAAAAAAAAAAAAAAAAAAAAAAAAAAAAAAAAAAAAAAAAAAAAAAAAAAAAAAAAAAAAAAAAAAAAAAAAAAAAAAAAAAAAAAAAAAAAAAAAAAAAAAAAAAAAAAAAAAAAAAAAAAAAAAAAAAAAAAAAAAAAAAAAAAAAAAAAAAAAAAAAAAAAAAAAAAAAAAAAAAAAAAAAAAAAAAAAAAAAAAAAAAAAAAAAAAAAAAAAAAAAAAAAAAAAAAAAAAAAAAAAAAAAAAAAAAAAAAAAAAAAAAAAAAAAAAAAAAAAAAAAAAAAAAAAAAAAAAAAAAAAAAAAAAAAAAAAAAAAAAAAAAAAAAAAAAAAAAAAAAAAAAAAAAAAAAAAAAAAAAAAAAAAAAAAAAAAAAAAAAAAAAAAAAAAAAAAAAAAAAAAAAAAAAAAAAAAAAAAAAAAAAAAAAAAAAAAAAAAAAAAAAAAAAAAAAAAAAAAAAAAAAAAAAAAAAAAAAAAAAAAAAAAAAAAAAAAAAAAAAAAAAAAAAAAAAAAAAAAAAAAAAAAAAAAAAAAAAAAAAAAAAAAAAAAAAAAAAAAAAAAAAAAAAAAAAAAAAAAAAAAAAAAAAAAAAAAND/AAAAAND/AAAAAAAAAAAAAAAAAAAAAAAAAAAAAAAAAAAAAAAAAAAAAAAAAAAAAAAAAAAAAAAAAAAAAAAAAAAAAAAAAAAAAAAAAAAAAND/AADQ/wAAAAAAAAAA0P8AAAAAAAAAAAAAAAAAAAAAAAAAAAAAAAAAAAAAAAAAAAAAAAAAAAAAAAAAAAAAAAAAAAAAAAAAAAAAAAAAAAAAAAAAAAAAAAAAAAAAAAAAAAAAAAAAAAAAAAAAAAAAAAAAAAAAAAAAAAAAAAAAAAAAAAAAAAAAAAAAAAAAAAAAAAAAAAAAAAAAAAAAAAAAAAAAAAAAAAAAAAAAAAAAAAAAAAAAAAAAAAAAAAAAAAAAAAAAAAAAAAAAAAAAAAAAAAAAAAAAAAAAAAAAAAAAAAAAAAAAAAAAAAAAAAAAAAAAAAAAAAAAAAAAAAAAAAAAAAAAAAAAAAAAAAAAAAAAAAAAAAAAAAAAAAAAAAAAAAAAAAAAAAAAAAAAAAAAAAAAAAAAAAAAAAAAAAAAAAAAAAAAAAAAAAAAAAAAAAAAAAAAAAAAAAAAAAAAAAAAAAAAAAAAAAAAAAAAAAAAAAAAAAAAAAAAAAAAAAAAAAAAAAAAAAAAAAAAAAAAAAAAAAAAAAAAAAAAAAAAAAAAAAAAAAAAAAAAAAAAAAAAAAAAAAAAAAAAAAAAAAAAAAAAAAAAAAAAAAAAAAAAAAAAAAAAAAAAAAAAAAAAAAAAAAAAAAAAAAAAAAAAAAAAAAAAAAAAAAAAAAAAAAAAAAAAAAAAAAAAAAAAAAAAAAAAAAAAAAAAAAAAAAAAAAAAAAAAAAAAAAAAAAAAAAAAAAAAAAAAAAAAAAAAAAAAAAAAAAAAAAAAAAAAAAAAAAAAAAAAAAAAAAAAAAAAAAAAAAAAAAAAAAAAAAAAAAAAAAAAAAAAAAAAAAAAAAAAAAAAAAAAAAAAAAAAAAAAAAAAAAAAAAAAAAAAAAAAAAAAAAAAAAAAAAAAAAAAAAAAAAAAAAAAAAAAAAAAAAAAAAAAAAAAAAAAAAAAAAAAAAAAAAAAAAAAAAAAAAAAAAAAAAAAAAAAAAAAAAAAAAAAAAAAAAAAAAAAAAAAAAAAAAAAAAAAAAAAAAAAAAAAAAAAAAAAAAAAAAAAAAAAAAAAAAAAAAAAAAAAAAAAAAAAAAAAAAAAAAAAAAAAAAAAAAAAAAAAAAAAAAAAAAAAAAAAAAAAAAAAAAAAAAAAAAAAAAAAAAAAAAAAAAAAAAAAAAAAAAAAAAAAAAAAAAAAAAAAAAAAAAAAAAAAAAAAMAAAAAAAAAAwAAAAAAAAAAAAAAAAAAAAAAAAAAAAAAAAAAAAAAAAAAAAAAAAAAAAAAAAAAAAAAAAADAAAAAwAAAAAAAAAAAAMAAAAAAAAAAAAAAAAAAwAAAAAAAAAAAAAAAwAAAAAAAAAAAAAAAAAAAAAAAAAAAAAAAAAAAAAAAAAAAAAAAAAAAAAAAAAAAAAAAAAAAAAAAAAAAAAAAAAAAAAAAAAAAAAAAAAAAAAAAAAAAAAAAAAAAAAAAAAAAAAAAAAAAAAAAAAAAAAAAAAAAAAAAAAAAAAAAAAAAAAAAAAAAAAAAAAAAAAAAAAAAAAAAAAAAAAAAAAAAAAAAAAAAAAAAAAAAAAAAAAAAAAAAAAAAAAAAAAAAAAAAAAAAAAAAAAAAAAAAAAAAAAAAAAAAAAAAAAAAAAAAAAAAAAAAAAAAAAAAAAAAAAAAAAAAAAAAAAAAAAAAAAAAAAAAAAAAAAAAAAAAAAAAAAAAAAAAAAAAAAAAAAAAAAAAAAAAAAAAAAAAAAAAAAAAAAAAAAAAAAAAAAAAAAAAAAAAAAAAAAAAAAAAAAAAAAAAAAAAAAAAAAAAAAAAAAAAAAAAAAAAAAAAAAAAAAAAAAAAAAAAAAAAAAAAAAAAAAAAAAAAAAAAAAAAAAAAAAAAAAAAAAAAAAAAAAAAAAAAAAAAAAAAAAAAAAAAAAAAAAAAAAAAAAAAAAAAAAAAAAAAAAAAAAAAAAAAAAAAAAAAAAAAAAAAAAAAAAAAAAAAAAAAAAAAAAAAAAAAAAAAAAAAAAAAAAAAAAAAAAAAAAAAAAAAAAAAAAAAAAAAAAAAAAAAAAAAAAAAAAAAAAAAAAAAAAAAAAAAAAAAAAAAAAAAAAAAAAAAAAAAAAAAAAAAAAAAAAAAAAAAAAAAAAAAAAAAAAAAAAAAAAAAAAAAAAAAAAAAAAAAAAAAAAAAAAAAAAAAAAAAAAAAAAAAAAAAAAAAAAAAAAAAAAAAAAAAAAAAAAAAAAAAAAAAAAAAAAAAAAAAAAAAAAAAAAAAAAAAAAAAAAAAAAAAAAAAAAAAAAAAAAAAAAAAAAAAAAAAAAAAAAAAAAAAAAAAAAAAAAAAAAAAAAAAAAAAAAAAAAAAAAAAAAAAAAAAAAAAAAAAAAAAAAAAAAAAAAAAAAAAAAAAAAAAAAAAAAAAAAAAAAAAAAAAAAAAAAAAAAAAAAAAAAAAAAAAAAAAAAAAAAAAAAAAAAAAAAAAAAAAAAAAAAAAAAAAAAAAAAAAAAAAAAAAAAAAAAAAAAAAAAAAAAAAAAAAAAAAAAAAAAAAAAAAAAAAAAAAAAAAAAAAAAAAAAAAAAAAAAAAAAAAAAAAAAAAAAAAAAAAAAAAAAAAAAAAAAAAAAAAAAAAAAAAAAAAAAAAAAAAAAAAAAAAAAAAAAAAAAAAAAAAAAAAAAAAAAAAAAAAAAAAAAAAAAAAAAAAAAAAAAAAAAAAAAAAAAAAAAAAAAAAAAAAAAAAAAAAAAAAAAAAAAAAAAAAAAAAAAAAAAAAAAAAAAAAAAAAAAAAAAAAAAAAAAAAAAAAAAAAAAAAAAAAAAAAAAAAAAAAAAAAAAAAAAAAAAAAAAAAAAAAAAAAAAAAAAAAAAAAAAAAAAAAAAAAAAAAAAAAAAAAAAAAAAAAAAAAAAAAAAAAAAAAAAAAAAAAAAAAAAAAAAAAAAAAAAAAAAAAAAAAAAAAAAAAAAAAAAAAAAAAAAAAAAAAAAAAAAAAAAAAAAAAAAAAAAAAAAAAAAAAAAAAAAAAAAAAAAAAAAAAAAAAAAAAAAAAAAAAAAAAAAAAAAAAAAAAAAAAAAAAAAAAAAAAAAAAAAAAAAAAAAAAAAAAAAAAAAAAAAAAAAAAAAAAAAAAAAAAAAAAAAAAAAAAAAAAAAAAAAAAAAAAAAAAAAAAAAAAAAAAAAAAAAAAAAAAAAAAAAAAAAAAAAAAAAAAAAAAAAAAAAAAAAAAAAAAAAAAAAAAAAAAAAAAAAAAAAAAAAAAAAAAAAAAAAAAAAAAAAAAAAAAAAAAAAAAAAAAAAAAAAAAAAAAAAAAAAAAAAAAAAAAAAAAAAAAAAAAAAAAAAAAAAAAAAAAAAAAAAAAAAAAAAAAAAAAAAAAAAAAAAAAAAAAAAAAAAAAAAAAAAAAAAAAAAAAAAAAAAAAAAAAAAAAAAAAAAAAAAAAAAAAAAAAAAAAAAAAAAAAAAAAAAAAAAAAAAAAAAAAAAAAAAAAAAAAAAAAAAAAAAAAAAAAAAAAAAAAAAAAAAAAAAAAAAAAAAAAAAAAAAAAAAAAAAAAAAAAAAAAAAAAAAAAAAAAAAAAAAAAAAAAAAAAAAAAAAAAAAAAAAAAAAAAAAAAAAAAAAAAAAAAAAAAAAAAAAAAAAAAAAAAAAAAAAAAAAAAAAAAAAAAAAAAAAAAAAAAAAAAAAAAAAAAAAAAAAAAAAAAAAAAAAAAAAAAAAAAAAAAAAAAAAAAAAAAAAAAAAAAAAAAAAAAAAAAAAAAAAAAAAAAAAAAAAAAAAAAAAAAAAAAAAAAAAAAAAAAAAAAAAAAAAAAAAAAAAAAAAAAAAAAAAAAAAAAAAAAAAAAAAAAAAAAAAAAAAAAAAAAAAAAAAAAAAAAAAAAAAAAAAAAAAAAAAAAAAAAAAAAAAAAAAAAAAAAAAAAAAAAAAAAAAAAAAAAAAAAAMAAAAAAAAAAAAAAAAAAAAAAAAAAAAAAAAAAAAAAAAAAAAAAAAAAAAAAAAAAAAAAAAAAAAAAAAAAAAAAAAAAAAAAAAAAAAAAAAAAAAAAAAAAAAAAAAAAAAAAAAAAAAAAAAAAAAAAAAAAAAAAAAAAAAAAAAAAAAAAAAAAAAAAAAAAAAAAAAAAAAAAAAAAAAAAAAAAAAAAAAAAAAAAAAAAAAAAAAAAAAAAAAAAAAAAAAAAAAAAAAAAAAAAAAAAAAAAAAAAAAAAAAAAAAAAAAAAAADAAAAAAAAAAAAAAAAAAAAAAAAAAAAAwAAAAAAAAAAAAAAAAAAAAAAAAAAAAAAAAAAAAAAAAAAAAAAAAAAAAAAAAAAAAAAAAAAAAAAAAAAAAAAAAAAAAAAAAAAAAAAAAAAAAAAAwAAAAAAAAAAAAAAAAAAAAAAAAAAAAAAAAAAAAAAAAAAAAAAAAAAAAAAAAAAAAAAAAAAAAAAAAAAAAAAAAAAAAAAAAAAAAAAAAAAAAAAAAAAAAAAAAAAAAAAAAAAAAAAAAAAAAAAAAAAAAAAAAAAAAAAAAAAAAAAAAAAAAAAAAAAAAAAAAAAAAAAAAAAAAAAAAAAAAAAAAAAAAAAAAAAAAAAAAAAAAAAAAAAAAAAAAAAAAAAAAAAAAAAAAAAAAAAAAAAAAAAAAAAAAAAAAAAAAAAAAAAAAAAAAAAAAAAAAAAAAAAAAAAAAAAAAAAAAAAAAAAAAAAAAAAAAAAAAAAAAAAAAAAAAAAAAAAAAAAAAAAAAAAAAAAAAAAAAAAAAAAAAAAAAAAAAAAAAAAAAAAAAAAAAAAAAAAAAAAAAAAAAAAAAAAAAAAAAAAAAAAAAAAAAAAAAAAAAAAAAAAAAAAAAAAAAAAAAAAAAAAAAAAAAAAAAAAAAAAAAAAAAAAAAAAAAAAAAAAAAAAAAAAAAAAAAAAAAAAAAAAAAAAAAAAAAAAAAAAAAAAAAAAAAAAAAAAAAAAAAAAAAAAAAAAAAAAAAAAAAAAAAAAAAAAAAAAAAAAAAAAAAAAAAAAAAAAAAAAAAAAAAAAAAAAAAAAAAAAAAAAAAAAAAAAAAAAAAAAAAAAAAAAAAAAAAAAAAAAAAAAAAAAAAAAAAAAAAAAAAAAAAAAAAAAAAAAAAAAAAAAAAAAAAAAAAAAAAAAAAAAAAAAAAAAAAAAAAAAAAAAAAAAAAAAAAAAAAAAAAAAAAAAAAAAAAAAAAAAAAAAAAAAAAAAAAAAAAAAAAAAAAAAAAAAAAAAAAAAAAAAAAAAAAAAAAAAAAAAAAAAAAAAAAAAAAAAAAAAAAAAAAAAAAAAAAAAAAAAAAAAAAAAAAAAAAAAAAAAAAAAAAAAAAAAAAAAAAAAAAAAAAAAAAAAAAAAAAAAAAAAAAAAAAAAAAAAAAAAAAAAAAAAAAAAAAAAAAAAAAAAAAAAAAAAAAAAAAAAAAAAAAAAAAAAAAAAAAAAAAAAAAAAAAAAAAAAAAAAAAAAAAAAAAAAAAAAAAAAAAAAAAAAAAAAAAAAAAAAAAAAAAAAAAAAAAAAAAAAAAAAAAAAAAAAAAAAAAAAAAAAAAAAAAAAAAAAAAAAAAAAAAAAAAAAAAAAAAAAAAAAAAAAAAAAAAAAAAAAAAAAAAAAAAAAAAAAAAAAAAAAAAAAAAAAAAAAAAAAAAAAAAAAAAAAAAAAAAAAAAAAAAAAAAAAAAAAAAAAAAAAAAAAAAAAAAAAAAAAAAAAAAAAAAAAAAAAAAAAAAAAAAAAAAAAAAAAAAAAAAAAAAAAAAAAAAAAAAAAAAAAAAAAAAAAAAAAAAAAAAAAAAAAAAAAAAAAAAAAAAAAAAAAAAAAAAAAAAAAAAAAAAAAAAAAAAAAAAAAAAAAAAAAAAAAAAAAAAAAAAAAAAAAAAAAAAAAAAAAAAAAAAAAAAAAAAAAAAAAAAAAAAAAAAAAAAAAAAAAAAAAAAAAAAAAAAAAAAAAAAAAAAAAAAAAAAAAAAAAAAAAAAAAAAAAAAAAAAAAAAAAAAAAAAAAAAAAAAAAAAAAAAAAAAAAAAAAAAAAAAAAAAAAAAAAAAAAAAAAAAAAAAAAAAAAAAAAAAAAAAAAAAAAAAAAAAAAAAAAAAAAAAAAAAAAAAAAAAAAAAAAAAAAAAAAAAAAAAAAAAAAAAAAAAAAAAAAAAAAAAAAAAAAAAAAAAAAAAAAAAAAAAAAAAAAAAAAAAAAAAAAAAAAAAAAAAAAAAAAAAAAAAAAAAAAAAAAAAAAAAAAAAAAAAAAAAAAAAAAAAAAAAAAAAAAAAAAAAAAAAAAAAAAAAAAAAAAAAAAAAAAAAAAAAAAAAAAAAAAAAAAAAAAAAAAAAAAAAAAAAAAAAAAAAAAAAAAAAAAAAAAAAAAAAAAAAAAAAAND/AAAAAAAAAAAAAAAAAAAAAAAAAAAAAAAAAAAAAAAAAAAAAAAAAAAAAAAAAAAAAAAAAAAAAAAAAAAAAAAAAAAAAAAAAAAAAAAAAAAAAAAAAAAAAAAAAAAAAAAAAAAAAAAAAAAAAAAAAAAAAAAAAAAAAAAAAAAAAAAAAAAAAAAAAAAAAAAAAAAAAAAAAAAAAAAAAAAAAAAAAAAAAAAAAAAAAAAAAAAAAAAAAAAAAAAAAAAAAAAAAAAAAAAAAAAAAAAAAAAAAAAAAAAAAAAAAAAAAAAAAAAAAAAAAAAAAAAAAAAAAAAAAAAAAAAAAAAAAAAAAAAAAAAAAAAAAAAAAAAAAAAAAAAAAAAAAAAAAAAAAAAAAAAAAAAAAAAAAAAAAAAAAAAAAAAAAAAAAAAAAAAAAAAAAAAAAAAAAAAAAAAAAAAAAAAAAAAAAAAAAAAAAAAAAAAAAAAAAAAAAAAAAAAAAAAAAAAAAAAAAAAAAAAAAAAAAAAAAAAAAAAAAAAAAAAAAAAAAAAAAAAAAAAAAAAAAAAAAAAAAAAAAAAAAAAAAAAAAAAAAAAAAAAAAAAAAAAAAAAAAAAAAAAAAAAAAAAAAAAAAAAAAAAAAAAAAAAAAAAAAAAAAAAAAAAAAAAAAAAAAAAAAAAAAAAAAAAAAAAAAAAAAAAAAAAAAAAAAAAAAAAAAAAAAAAAAAAAAAAAAAAAAAAAAAAAAAAAAAAAAAAAAAAAAAAAAAAAAAAAAAAAAAAAAAAAAAAAAAAAAAAAAAAAAAAAAAAAAAAAAAAAAAAAAAAAAAAAAAAAAAAAAAAAAAAAAAAAAAAAAAAAAAAAAAAAAAAAAAAAAAAwAAAAAAAAAAAAAAAAAAAAAAAAAAAAAAAAAAAAAAAAAAAAAAAAAAAAAAAAAAAAAAAAAAAAAAAAAAAAAAAAAAAAAAAAAAAAAAAAAAAAAAAAAAAAAAAAAAAAAAAAAAAAAAAAAAAAAAAAAAAAAAAAAAAAAAAAAAAAAAAAAAAAAAAAAAAAAAAAAAAAAAAAAAAAAAAAAAAAAAAAAAAAAAAAAAAAAAAAAAAAAAAAAAAAAAAAAAAAAAAAAAAAAAAAAAAAAAAAAAAAAAAAAAAAAAAAAAAAAAAAAAAAAAAAAAAAAAAAAAAAAAAAAAAAAAAAAAAAAAAAAAAAAAAAAAAAAAAAAAAAAAAAAAAAAAAAAAAAAAAAAAAAAAAAAAAAAAAAAAAAAAAAAAAAAAAAAAAAAAAAAAAAAAAAAAAAAAAAAAAAAAAAAAAAAAAAAAAAAAAAAAAAAAAAAAAAAAAAAAAAAAAAAAAAAAAAAAAAAAAAAAAAAAAAAAAAAAAAAAAAAAAAAAAAAAAAAAAAAAAAAAAAAAAAAAAAAAAAAAAAAAAAAAAAAAAAAAAAAAAAAAAAAAAAAAAAAAAAAAAAAAAAAAAAAAAAAAAAAAAAAAAAAAAAAAAAAAAAAAAAAAAAAAAAAAAAAAAAAAAAAAAAAAAAAAAAAAAAAAAAAAAAAAAAAAAAAAAAAAAAAAAAAAAAAAAAAAAAAAAAAAAAAAAAAAAAAAAAAAAAAAAAAAAAAAAAAAAAAAAAAAAAAAAAAAAAAAAAAAAAAAAAAAAAAAAAAAAAAAAAAAAAAAAAAAAAAAAAAAAAAAAAAAAAAAAAAAAAAAAAAAAAAAAAAAAAAAAAAAAAAAAAAAAAAAAAAAAAAAAAAAAAAAAAAAAAAAAAAAAAAAAAAAAAAAAAAAAAAAAAAAAAAAAAAAAAAAAAAAAAAAAAAAAAAAAAAAAAAAAAAAAAAAAAAAAAAAAAAAAAAAAAAAAAAAAAAAAAAAAAAAAAAAAAAAAAAAAAAAAAAAAAAAAAAAAAAAAAAAAAAAAAAAAAAAAAAAAAAAAAAAAAAAAAAAAAAAAAAAAAAAAAAAAAAAAAAAAAAAAAAAAAAAAAAAAAAAAAAAAAAAAAAAAAAAAAAAAAAAAAAAAAAAAAAAAAAAAAAAAAAAAAAAAAAAAAAAAAAAAAAAAAAAAAAAAAAAAAAAAAAAAAAAAAAAAAAAAAAAAAAAAAAAAAAAAAAAAAAAAAAAAAAAAAAAAAAAAAAAAAAAAAAAAAAAAAAAAAAAAAAAAAAAAAAAAAAAAAAAAAAAAAAAAAAAAAAAAAAAAAAAAAAAAAAAAAAAAAAAAAAAAAAAAAAAAAAAAAAAAAAAAAAAAAAAAAAAAAAAAAAAAAAAAAAAAAAAAAAAAAAAAAAAAAAAAAAAAAAAAAAAAAAAAAAAAAAAAAAAAAAAAAAAAAAAAAAAAAAAAAAAAAAAAAAAAAAAAAAAAAAAAAAAAAAAAAAAAAAAAAAAAAAAAAAAAAAAAAAAAAAAAAAAAAAAAAAAAAAAAAAAAAAAAAAAAAAAAAAAAAAAAAAAAAAAAAAAAAAAAAAAAAAAAAAAAAAAAAAAAAAAAAAAAAAAAAAAAAAAAAAAAAAAAAAAAAAAAAAAAAAAAAAAAAAAAAAAAAAAAAAAAAAAAAAAAAAAAAAAAAAAAAAAAAAAAAAAAAAAAAAAAAAAAAAAAAAAAAAAAAAAAAAAAAAAAAAAAAAAAAAAAAAAAAAAAAAAAAAAAAAAAAAAAAAAAAAAAAAAAAAAAAAAAAAAAAAAAAAAAAAAAAAAAAAAAAAAAAAAAAAAAAAAAAAAAAAAAAAAAAAAAAAAAAAAAAAAAAAAAAAAAAAAAAAAAAAAAAAAAAAAAAAAAAAAAAAAAAAAAAAAAAAAAAAAAAAAAAAAAAAAAAAAAAAAAAAAAAAAAAAAAAAAAAAAAAAAAAAAAAAAAAAAAAAAAAAAAAAAAAAAAAAAAAAAAAAAAAAAAAAAAAAAAAAAAAAAAAAAAAAAAAAAAAAAAAAAAAAAAAAAAAAAAAAAAAAAAAAAAAAAAAAAAAAAAAAAAAAAAAAAAAAAAAAAAAAAAAAAAAAAAAAAAAAAAAAAAAAAAAAAAAAAAAAAAAAAAAAAAAAAAAAAAAAAAAAAAAAAAAAAAAAAAAAAAAAAAAAAAAAAAAAAAAAAAAAAAAAAAAAAAAAAAAAAAAAAAAAAAAAAAAAAAAAAAAAAAAAAAAAAAAAAAAAAAAAAAAAAAAAAAAAAAAAAAAAAAAAAAAAAAAAAAAAAAAAAAAAAAAAAAAAAAAAAAAAAAAAAAAAAAAAAAAAAAAAAAAAAAAAAAAAAAAAAAAAAAAAAAAAAAAAAAAAAAAAAAAAAAAAAAAAAAAAAAAAAAAAAAAAAAAAAAAAAAAAAAAAAAAAAAAAAAAAAAAAAAAAAAAAAAAAAAAAAAAAAAAAAAAAAAAAAAAAAAAAAAAAAAAAAAAAAAAAAAAAAAAAAAAAAAAAAAAAAAAAAAAAAAAAAAAAAAAAAAAAAAAAAAAAAAAAAAAAAAAAAAAAAAAAAAAAAAAAAAAAAAAAAAAAAAAAAAAAAAAAAAAAAAAAAAAAAAAAAAAAAAAAAAAAAAAAAAAAAAAAAAAAAAAAAAAAAAAAAAAAAAAAAAAAAAAAAAAAAAAAAAAAAAAAAAAAAAAAAAAAAAAAAAAAAAAAAAAAAAAAAAAAAAAAAAAAAAAAAAAAAAAAAAAAAAAAAAAAAAAAAAAAAAAAAAAAAAAAAAAAAAAAAAAAAAAAAAAAAAAAAAAAAAAAAAAAAAAAAAAAAAAAAAAAAAAAAAAAAAAAAAAAAAAAAAAAAAAAAAAAAAAAAAAAAAAAAAAAAAAAAAAAAAAAAAAAAAAAAAAAAAAAAAAAAAAAAAAAAAAAAAAAAAAAAAAAAAAAAAAAAAAAAAAAAAAAAAwAAAAAAAAAAAAAAAAAAAAAAAAAAAAAAAAAAAAAAAAAAAAAAAAAAAAAAAAAAAAAAAAAAAAAAAAAAAAAAAAAAAAAAAAAAAAAAAAAAAAAAAAAAAAAAAAAAAAAAAAAAAAAAAAAAAAAAAAAAAAAAAAAAAAAAAAAAAAAAAAAAAAAAAAAAAAAAAAAAAAAAAAAAAAAAAAAAAAAAAAAAAAAAAAAAAAAAAAAAAAAAAAAAAAAAAAAAAAAAAAAAAAAAAAAAAAAAAAAAAAAAAAAAAAAAAAAAAAAAAAAAAAAAAAAAAAAAAAAAAAAAAAAAAAAAAAAAAAAAAAAAAAAAAAAAAAAAAAAAAAAAAAAAAAAAAAAAAAAAAAAAAAAAAAAAAAAAAAAAAAAAAAAAAAAAAAAAAAAAAAAAAAAAAAAAAAAAAAAAAAAAAAAAAAAAAAAAAAAAAAAAAAAAAAAAAAAAAAAAAAAAAAAAAAAAAAAAAAAAAAAAAAAAAAAAAAAAAAAAAAAAAAAAAAAAAAAAAAAAAAAAAAAAAAAAAAAAAAAAAAAAAAAAAAAAAAAAAAAAAAAAAAAAAAAAAAAAAAAAAAAAAAAAAAAAAAAAAAAAAAAAAAAAAAAAAAAAAAAAAAAAAAAAAAAAAAAAAAAAAAAAAAAAAAAAAAAAAAAAAAAAAAAAAAAAAAAAAAAAAAAAAAAAAAAAAAAAAAAAAAAAAAAAAAAAAAAAAAAAAAAAAAAAAAAAAAAAAAAAAAAAAAAAAAAAAAAAAAAAAAAAAAAAAAAAAAAAAAAAAAAAAAAAAAAAAAAAAAAAAAAAAAAAAAAAAAAAAAAAAAAAAAAAAAAAAAAAAAAAAAAAAAAAAAAAAAAAAAAAAAAAAAAAAAAAAAAAAAAAAAAAAAAAAAAAAAAAAAAAAAAAAAAAAAAAAAAAAAAAAAAAAAAAAAAAAAAAAAAAAAAAAAAAAAAAAAAAAAAAAAAAAAAAAAAAAAAAAAAAAAAAAAAAAAAAAAAAAAAAAAAAAAAAAAAAAAAAAAAAAAAAAAAAAAAAAAAAAAAAAAAND/AAAAAAAAAAAAAAAAAAAAAAAAAAAAAAAAAAAAAAAAAAAAAAAAAAAAAAAAAAAAAAAAAAAAAAAAAAAAAAAAAAAAAAAAAAAAAAAAAAAAAAAAAAAAAAAAAAAAAAAAAAAAAAAAAAAAAAAAAAAAAAAAAAAAAAAAAAAAAAAAAAAAAAAAAAAAAAAAAAAAAAAAAAAAAAAAAAAAAAAAAAAAAAAAAAAAAAAAAAAAAAAAAAAAAAAAAAAAAAAAAAAAAAAAAAAAAAAAAAAAAAAAAAAAAAAAAAAAAAAAAAAAAAAAAAAAAAAAAAAAAAAAAAAAAAAAAAAAAAAAAAAAAAAAAAAAAAAAAAAAAAAAAAAAAAAAAAAAAAAAAAAAAAAAAAAAAAAAAAAAAAAAAAAAAAAAAAAAAAAAAAAAAAAAAAAAAAAAAAAAAAAAAAAAAAAAAAAAAAAAAAAAAAAAAAAAAAAAAAAAAAAAAAAAAAAAAAAAAAAAAAAAAAAAAAAAAAAAAAAAAAAAAAAAAAAAAAAAAAAAAAAAAAAAAAAAAAAAAAAAAAAAAAAAAAAAAAAAAAAAAAAAAAAAAAAAAAAAAAAAAAAAAAAAAAAAAAAAAAAAAAAAAAAAAAAAAAAAAAAAAAAAAAAAAAAAAAAAAAAAAAAAAAAAAAAAAAAAAAAAAAAAAAAAAAAAAAAAAAAAAAAAAAAAAAAAAAAAAAAAAAAAAAAAAAAAAAAAAAAAAAAAAAAAAAAAAAAAAAAAAAAAAAAAAAAAAAAAAAAAAAAAAAAAAAAAAAAAAAAAAAAAAAAAAAAAAAAAAAAAAAAAAAAAAAAAAAAAAAAAAAAAAAAAAAAAAAAAAAAAAAAAAAAAAAAAAAAAAAAAAAAAAAAAAAAAAAAAAAAAAAAAAAAAAAAAAAAAAAAAAAAAAAAAAAAAAAAAAAAAAAAAAAAAAAAAAAAAAAAAAAAAAAAAAAAAAAAAAAAAAAAAAAAAAAAAAAAAAAAAAAAAAAAAAAAAAAAAAAAAAAAAAAAAAAAAAAAAAAAAAAAAAAAAAAAAAAAAAAAAAAAAAAAAAAAAAAAAAAAAAAAAAAAAAAAAAAAAAAAAAAAAAAAAAAAAAAAAAAAAAAAAAAAAAAAAAAAAAAAAAAAAAAAAAAAAAAAAAAAAAAAAAAAAAAAAAAAAAAAAAAAAAAAAAAAAAAAAAAAAAAAAAAAAAAAAAAAAAAAAAAAAAAAAAAAAAAAAAAAAAAAAAAAAAAAAAAAAAAAAAAAAAAAAAAAAAAAAAAAAAAAAAAAAAAAAAAAAAAAAAAAAAAAAAAAAAAAAAAAAAAAAAAAAAAAAAAAAAAAAAAAAAAAAAAAAAAAAAAAAAAAAAAAAAAAAAAAAAAAAAAAAAAAAAAAAAAAAAAAAAAAAAAAAAAAAAAAAAAAAAAAAAAAAAAAAAAAAAAAAAAAAAAAAAAAAAAAAAAAAAAAAAAAAAAAAAAAAAAAAAAAAAAAAAAAAAAAAAAAAAAAAAAAAAAAAAAAAAAAAAAAAAAAAAAAAAAAAAAAAAAAAAAAAAAAAAAAAAAAAAAAAAAAAAAAAAAAAAAAAAAAAAAAAAAAAAAAAAAAAAAAAAAAAAAAAAAAAAAAAAAAAAAAAAAAAAAAAAAAAAAAAAAAAAAAAAAAAAAAAAAAAAAAAAAAAAAAAAAAAAAAAAAAAAAAAAAAAAAAAAAAAAAAAAAAAAAAAAAAAAAAAAAAAAAAAAAAAAAAAAAAAAAAAAAAAAAAAAAAAAAAAAAAAAAAAAAAAAAAAAAAAAAAAAAAAAAAAAAAAAAAAAAAAAAAAAAAAAAAAAAAAAAAAAAAAAAAAAAAAAAAAAAAAAAAAAAAAAAAAAAAAAAAAAAAAAAAAAAAAAAAAAAAAAAAAAAAAAAAAAAAAAAAAAAAAAAAAAAAAAAAAAAAAAAAAAAAAAAAAAAAAAAAAAAAAAAAAAAAAAAAAAAAAAAAAAAAAAAAAAAAAAAAAAAAAAAAAAAAAAAAAAAAAAAAAAAAAAAAAAAAAAAAAAAAAAAAAAAAAAAAAAAAAAAAAAAAAAAAAAAAAAAAAAAAAAAAAAAAAAAAAAAAAAAAAAAAAAAAAAAAAAAAAAAAAAAAAAAAAAAAAAAAAAAAAAAAAAAAAAAAAAAAAAAAAAAAAAAAAAAAAAAAAAAAAAAAAAAAAAAAAAAAAAAAAAAAAAAAAAAAAAAAAAAAAAAAAAAAAAAAAAAAAAAAAAAAAAAAAAAAAAAAAAAAAAAAAAAAAAAAAAAAAAADQ/wAAAAAAAAAAAAAAAAAAAAAAAAAAAAAAAAAAAAAAAAAAAAAAAAAAAAAAAAAAAAAAAAAAAAAAAAAAAAAAAAAAAAAAAAAAAAAAAAAAAAAAAAAAAAAAAAAAAAAAAAAAAAAAAAAAAAAAAAAAAADQ/wAAAAAAAAAAAAAAAAAAAAAAAAAAAAAAAAAAAAAAAAAAAAAAAAAAAAAAAAAAAAAAAAAAAAAAAAAAAAAAAAAAAAAAAAAAAAAAAAAAAAAAAAAAAAAAAAAAAAAAAAAAAAAAAAAAAAAAAAAAAAAAAAAAAAAAAAAAAAAAAAAAAAAAAAAAAAAAAAAAAAAAAAAAAAAAAAAAAAAAAAAAAAAAAAAAAAAAAAAAAAAAAAAAAAAAAAAAAAAAAAAAAAAAAAAAAAAAAAAAAAAAAAAAAAAAAAAAAAAAAAAAAAAAAAAAAAAAAAAAAAAAAAAAAAAAAAAAAAAAAAAAAAAAAAAAAAAAAAAAAAAAAAAAAAAAAAAAAAAAAAAAAAAAAAAAAAAAAAAAAAAAAAAAAAAAAAAAAAAAAAAAAAAAAAAAAAAAAAAAAAAAAAAAAAAAAAAAAAAAAAAAAAAAAAAAAAAAAAAAAAAAAAAAAAAAAAAAAAAAAAAAAAAAAAAAAAAAAAAAAAAAAAAAAAAAAAAAAAAAAAAAAAAAAAAAAAAAAAAAAAAAAAAAAAAAAAAAAAAAAAAAAAAAAAAAAAAAAAAAAAAAAAAAAAAAAAAAAAAAAAAAAAAAAAAAAAAAAAAAAAAAAAAAAAAAAAAAAAAAAAAAAAAAAAAAAAAAAAAAAAAAAAAAAAAAAAAAAAAAAAAAAAAAAAAAAAAAAAAAAAAAAAAAAAAAAAAAAAAAAAAAAAAAAAAAAAAAAAAAAAAAAAAAAAAAAAAAAAAAAAAAAAAAAAAAAAAAAAAAAAAAAAAAAAAAAAAAAAAAAAAAAAAAAAAAAAAAAAAAAAAAAAAAAAAAAAAAAAAAAAAAAAAAAAAAAAAAAAAAAAAAAAAAAAAAAAAAAAAAAAAAAAAAAAAAAAAAAAAAAAAAAAAAAAAAAAAAAAAAAAAAAAAAAAAAAAAAAAAAAAAAAAAAAAAAAAAAAAAAAAAAAAAAAAAAAAAAAAAAAAAAAAAAAAAAAAAAAAAAAAAAAAAAAAAAAAAAAAAAAAAAAAAAAAAAAAAAAAAAAAAAAAAAAAAAAAAAAAAAAAAAAAAAAAAAAAAAAAAAAAAAAAAAAAAAAAAAAAAAAAAAAAAAAAAAAAAAAAAAAAAAAAAAAAAAAAAAAAAAAAAAAAAAAAAAAAAAAAAAAAAAAAAAAAAAAAAAAAAAAAAAAAAAAAAAAAAAAAAAAAAAAAAAAAAAAAAAAAAAAAAAAAAAAAAAAAAAAAAAAAAAAAAAAAAAAAAAAAAAAAAAAAAAAAAAAAAAAAAAAAAAAAAwAAAAAAAAAAAAAAAAAAAAMAAAAAAAAAAwAAAAAAAAAAAAAAAAAAAAAAAAAAAAAAAwAAAAAAAAAAAAAAAAAAAAAAAAAAAAAAAAAAAAAAAAAAAAAAAAAAAAAAAAAAAAAAAAAAAAAAAAAAAAAAAAAAAAAAAAAAAAAAAAAAAAAAAAAAAAAAAAAAAAAAAAAAAAAAAAAAAAAAAAAAAAAAAAAAAAAAAAAAAAAAAAAAAAAAAAAAAAAAAAAAAAAAAAAAAAAAAAAAAAAAAAAAAAAAAAAAAAAAAAAAAAAAAAAAAAAAAAAAAAAAAAAAAAAAAAAAAAAAAAAAAAAAAAAAAAAAAAAAAAAAAAAAAAAAAAAAAAAAAAAAAAAAAAAAAAAAAAAAAAAAAAAAAAAAAAAAAAAAAAAAAAAAAAAAAAAAAAAAAAAAAAAAAAAAAAAAAAAAAAAAAAAAAAAAAAAAAAAAAAAAAAAAAAAAAAAAAAAAAAAAAAAAAAAAAAAAAAAAAAAAAAAAAAAAAAAAAAAAAAAAAAAAAAAAAAAAAAAAAAAAAAAAAAAAAAAAAAAAAAAAAAAAAAAAAAAAAAAAAAAAAAAAAAAAAAAAAAAAAAAAAAAAAAAAAAAAAAAAAAAAAAAAAAAAAAAAAAAAAAAAAAAAAAAAAAAAAAAAAAAAAAAAAAAAAAAAAAAAAAADAAAAAAAAAAAAAAAAAAAAAAAAAAAAAAAAAAAAAAAAAAAAAAAAAAAAAAAAAAAAAAAAAAAAAAAAAAAAAAAAAAAAAAAAAAAAAAAAAAAAAAAAAAAAAAAAAAAAAAAAAAAAAAAAAAAAAAAAAAAAAAAAAAAAAAAAAAAAAAAAAAAAAAAAAAAAAAAAAAAAAAAAAAAAAAAAAAAAAAAAAAAAAAAAAAAAAAAAAAAAAAAAAAAAAAAAAAAAAAAAAAAAAAAAAAAAAAAAAAAAAAAAAAAAAAAAAAAAAAAAAAAAAAAAAAAAAAAAAAAAAAAAAAAAAAAAAAAAAAAAAAAAAAAAAAAAAAAAAAAAAAAAAAAAAAAAAAAAAAAAAAAAAAAAAAAAAAAAAAAAAAAAAAAAAAAAAAAAAAAAAAAAAAAAAAAAAAAAAAAAAAAAAAAAAAAAAAAAAAAAAAAAAAAAAAAAAAAAAAAAAAAAAAAAAAAAAAAAAAAAAAAAAAAAAAAAAAAAAAAAAAAAAAAAAAAAAAAAAAAAAAAAAAAAAAAAAAAAAAAAAAAAAAAAAAAAAAAAAAAAAAAAAAAAAAAAAAAAAAAAAAAAAAAAAAAAAAAAAAAAAAAAAAAAAAAAAAAAAAAAAAAAAAAAAAAAAAAAAAAAAAAAAAAAAAAAAAAAAAAAAAAAAAAAAAAAAAAAAAAAAAAAAAAAAAAAAAAAAAAAAAAAAAAAAAAAAAAAAAAAAAAAAAAAAAAAAAAAAAAAAAAAAAAAAAAAAAAAAAAAAAAAAAAAAAAAAAAAAAAAAAAAAA0P8AAAAAAAAAAAAAAAAAAAAAAAAAAAAAAADQ/wAAAAAAAAAAAAAAAAAAAAAAAAAAAAAAAAAAAAAAAAAAAAAAAAAAAAAAAAAAAAAAAAAAAAAAAND/AAAAAAAAAADQ/wAAAADQ/wAA0P8AAND/AAAAAAAAAADQ/wAAAAAAAAAAAAAAAAAAAAAAAAAAAAAAAAAAAAAAAAAAAAAAAAAAAAAAAAAAAAAAAAAAAAAAAAAAAAAAAAAAAAAAAAAAAAAAAAAAAAAAAAAAAAAAAAAAAAAAAAAAAAAAAAAAAAAAAAAAAAAAAAAAAAAAAAAAAAAAAAAAAAAAAAAAAAAAAAAAAAAAAAAA0P8AAAAAAAAAAAAAAAAAAAAAAAAAAAAAAAAAAAAAAAAAAAAAAAAAAAAAAAAAAAAAAAAAAAAAAAAAAAAAAAAAAAAAAAAAAAAAAAAAAAAAAAAAAAAAAAAAAAAAAAAAAAAAAAAAAAAAAAAAAAAAAAAAAAAAAAAAAAAAAAAAAAAAAAAAAAAA0P8AAAAAAAAAAAAAAAAAAAAAAAAAAAAAAAAAAND/AAAAAAAAAAAAAAAAAAAAAAAAAAAAAAAAAAAAAAAAAAAAAAAAAAAAAAAAAAAAAAAAAAAAAAAAAAAAAAAAAAAAAAAAAAAAAAAAAAAAAAAAAAAAAAAAAAAAAAAAAAAAAAAAAAAAAAAAAAAAAAAAAAAAAAAAAAAAAAAAAAAAAAAAAAAAAAAAAAAAAAAAAAAAAAAAAAAAAAAAAAAAAAAAAAAAAAAAAAAAAAAAAAAAAAAAAAAAAAAAAAAAAAAAAAAAAAAAAAAAAAAAAAAAAAAAAAAAAAAAAAAAAAAAAAAAAAAAAAAAAAAAAAAAAAAAAAAAAAAAAAAAAAAAAAAAAAAAAAAAAAAAAAAAAAAAAAAAAAAAAAAAAAAAAAAAAAAAAAAAAAAAAAAAAAAAAAAAAAAAAAAAAAAAAAAAAAAAAAAAAAAAAAAAAAAAAAAAAAAAAAAAAAAAAAAAAAAAAAA=\" type=\"audio/wav\" />\n",
              "                    Your browser does not support the audio element.\n",
              "                </audio>\n",
              "              "
            ]
          },
          "metadata": {},
          "execution_count": 14
        }
      ]
    },
    {
      "cell_type": "markdown",
      "source": [
        "# Encode the `target` col"
      ],
      "metadata": {
        "id": "KhIi-klZbL-p"
      }
    },
    {
      "cell_type": "code",
      "source": [
        "set(train_df['emotion'])"
      ],
      "metadata": {
        "colab": {
          "base_uri": "https://localhost:8080/"
        },
        "id": "QDuuA8QlZ_iG",
        "outputId": "55e61f73-ded0-4c73-b255-fb06e8ee82a2"
      },
      "execution_count": 15,
      "outputs": [
        {
          "output_type": "execute_result",
          "data": {
            "text/plain": [
              "{'angry', 'calm', 'disgust', 'fearful', 'happy', 'neutral', 'sad', 'surprised'}"
            ]
          },
          "metadata": {},
          "execution_count": 15
        }
      ]
    },
    {
      "cell_type": "code",
      "source": [
        "# Label to id\n",
        "label2id={\n",
        "    \"angry\":0,\n",
        "    'calm':1,\n",
        "    'disgust':2,\n",
        "    'fearful':3,\n",
        "    'happy':4,\n",
        "    'neutral':5,\n",
        "    'sad':6,\n",
        "    'surprised':7\n",
        "}\n",
        "\n",
        "# id to label\n",
        "id2label={\n",
        "    0:\"angry\",\n",
        "    1:'calm',\n",
        "    2:'disgust',\n",
        "    3:'fearful',\n",
        "    4:'happy',\n",
        "    5:'neutral',\n",
        "    6:'sad',\n",
        "    7:'surprised'\n",
        "}"
      ],
      "metadata": {
        "id": "pyuXguk9a762"
      },
      "execution_count": 16,
      "outputs": []
    },
    {
      "cell_type": "code",
      "source": [
        "# Now map the label2id in emotion col\n",
        "train_df=train_df.map(lambda x: {'label':label2id[x['emotion']]})\n",
        "\n",
        "test_df=test_df.map(lambda x: {'label':label2id[x['emotion']]})"
      ],
      "metadata": {
        "colab": {
          "base_uri": "https://localhost:8080/",
          "height": 81,
          "referenced_widgets": [
            "3de4dee819644244947e984e38398329",
            "ae8147a2c864472d94fdd5581de9b9c2",
            "f2cf3102c21e42aa99e424272cd38af9",
            "8217731aa7e14336a72a76a8e04093e4",
            "c5c9d7eb5bd84663bfe4c0be75a9bde9",
            "7a5f1f25567b4ce9ac3497c46df7ca3c",
            "45d5725dfd684b3baaed0cdf44164791",
            "2ff95df7870e461cb79670c1517bbcdf",
            "11ad5a7298f641f189bc2065c54808ba",
            "0918837f43ce4cef9279ffa325eb1500",
            "c4480d672a5e42f8a3d5feb0c60cf0d1",
            "5f1c9ec06877455b89c5d799a9add6fd",
            "6234e90b05d74371b38e1a9aa18fc0c4",
            "decffdafced54620b71afac597ecce4a",
            "347388609714436caeb4cbd8fc62a495",
            "a7ea674808174ffc9e29edd5b946a8a7",
            "3ae8a0fc20a14efaa2f529be27032edf",
            "8e3486b19db94b0bbd6a518e2223f1c4",
            "cefdaf4e98ec4228bc4940e80f7b2de7",
            "3e15bcfdd8dd4f019b8c84371bdcf0bf",
            "db9f703b81544efca11c4494d5018eb4",
            "e8af387cb9cc44579a79eb0408bbd517"
          ]
        },
        "id": "LX-QfVv2biDO",
        "outputId": "467c39c9-7aa3-4bfb-e847-4b11e544aa82"
      },
      "execution_count": 17,
      "outputs": [
        {
          "output_type": "display_data",
          "data": {
            "text/plain": [
              "Map:   0%|          | 0/1152 [00:00<?, ? examples/s]"
            ],
            "application/vnd.jupyter.widget-view+json": {
              "version_major": 2,
              "version_minor": 0,
              "model_id": "3de4dee819644244947e984e38398329"
            }
          },
          "metadata": {}
        },
        {
          "output_type": "display_data",
          "data": {
            "text/plain": [
              "Map:   0%|          | 0/288 [00:00<?, ? examples/s]"
            ],
            "application/vnd.jupyter.widget-view+json": {
              "version_major": 2,
              "version_minor": 0,
              "model_id": "5f1c9ec06877455b89c5d799a9add6fd"
            }
          },
          "metadata": {}
        }
      ]
    },
    {
      "cell_type": "code",
      "source": [
        "train_df['label'][:5]"
      ],
      "metadata": {
        "colab": {
          "base_uri": "https://localhost:8080/"
        },
        "id": "_aMHk9NEcj2h",
        "outputId": "13357a0d-cf15-48e8-b6d7-1890c8286466"
      },
      "execution_count": 18,
      "outputs": [
        {
          "output_type": "execute_result",
          "data": {
            "text/plain": [
              "[3, 2, 1, 7, 5]"
            ]
          },
          "metadata": {},
          "execution_count": 18
        }
      ]
    },
    {
      "cell_type": "code",
      "source": [
        "train_df['emotion'][:5]"
      ],
      "metadata": {
        "colab": {
          "base_uri": "https://localhost:8080/"
        },
        "id": "AEA2AGg0c2-o",
        "outputId": "12b1b15b-3bfd-40b8-8b99-7e0ad2e5031f"
      },
      "execution_count": 19,
      "outputs": [
        {
          "output_type": "execute_result",
          "data": {
            "text/plain": [
              "['fearful', 'disgust', 'calm', 'surprised', 'neutral']"
            ]
          },
          "metadata": {},
          "execution_count": 19
        }
      ]
    },
    {
      "cell_type": "markdown",
      "source": [
        "# Now Load the `pretrain` processor to process the audion file"
      ],
      "metadata": {
        "id": "iWeiPnBzdPax"
      }
    },
    {
      "cell_type": "code",
      "source": [
        "# !pip install --upgrade torch torchaudio"
      ],
      "metadata": {
        "collapsed": true,
        "id": "j_7obhgzG_D7"
      },
      "execution_count": 20,
      "outputs": []
    },
    {
      "cell_type": "code",
      "source": [
        "import torch\n",
        "import torchaudio\n",
        "print(torch.version.cuda)\n",
        "print(torchaudio.__version__)"
      ],
      "metadata": {
        "colab": {
          "base_uri": "https://localhost:8080/"
        },
        "id": "017x4oqqJMtx",
        "outputId": "e569e304-8398-45f2-b4b1-33eea5d4e4f2"
      },
      "execution_count": 21,
      "outputs": [
        {
          "output_type": "stream",
          "name": "stdout",
          "text": [
            "12.1\n",
            "2.4.0+cu121\n"
          ]
        }
      ]
    },
    {
      "cell_type": "code",
      "source": [
        "from transformers import AutoFeatureExtractor\n",
        "check_point='MIT/ast-finetuned-audioset-10-10-0.4593'\n",
        "feature_extractor=AutoFeatureExtractor.from_pretrained(check_point)"
      ],
      "metadata": {
        "id": "tChk1djBc-io",
        "colab": {
          "base_uri": "https://localhost:8080/",
          "height": 49,
          "referenced_widgets": [
            "6bd70ceafb674678817639fab1c116f8",
            "5e35339a45634e7db7e065c90fa543bb",
            "ae33c4a076634f908aa26ae77c5177f4",
            "57694d7eca9243c5b22dab0ae25bfaa7",
            "98c52707051747fa865ba055ea5bf958",
            "8a6ed56d8b7c4e978026caa0cf6661ee",
            "88d05f2e6d194f4abdf61038e193e2eb",
            "e3687f8dbaf944f89e8b97826a4710ee",
            "dab4286938b641aba9253c0051192670",
            "d299ead7bbd848f3b68f86412ee3dba1",
            "9e40904256844770a8e02158ef33de6a"
          ]
        },
        "outputId": "87f9ff24-3bbd-47c2-a068-246f8aa1d1c7"
      },
      "execution_count": 22,
      "outputs": [
        {
          "output_type": "display_data",
          "data": {
            "text/plain": [
              "preprocessor_config.json:   0%|          | 0.00/297 [00:00<?, ?B/s]"
            ],
            "application/vnd.jupyter.widget-view+json": {
              "version_major": 2,
              "version_minor": 0,
              "model_id": "6bd70ceafb674678817639fab1c116f8"
            }
          },
          "metadata": {}
        }
      ]
    },
    {
      "cell_type": "code",
      "source": [
        "feature_extractor"
      ],
      "metadata": {
        "colab": {
          "base_uri": "https://localhost:8080/"
        },
        "id": "DIh_kF-ldiyh",
        "outputId": "bee0071c-9c4d-46f3-e5e7-69d6038c5fa7"
      },
      "execution_count": 23,
      "outputs": [
        {
          "output_type": "execute_result",
          "data": {
            "text/plain": [
              "ASTFeatureExtractor {\n",
              "  \"do_normalize\": true,\n",
              "  \"feature_extractor_type\": \"ASTFeatureExtractor\",\n",
              "  \"feature_size\": 1,\n",
              "  \"max_length\": 1024,\n",
              "  \"mean\": -4.2677393,\n",
              "  \"num_mel_bins\": 128,\n",
              "  \"padding_side\": \"right\",\n",
              "  \"padding_value\": 0.0,\n",
              "  \"return_attention_mask\": false,\n",
              "  \"sampling_rate\": 16000,\n",
              "  \"std\": 4.5689974\n",
              "}"
            ]
          },
          "metadata": {},
          "execution_count": 23
        }
      ]
    },
    {
      "cell_type": "code",
      "source": [
        "train_df[0]"
      ],
      "metadata": {
        "colab": {
          "base_uri": "https://localhost:8080/"
        },
        "id": "PKwPDrC5eRbb",
        "outputId": "65493f02-067e-470e-fc24-ec4c48c278eb"
      },
      "execution_count": 23,
      "outputs": [
        {
          "output_type": "execute_result",
          "data": {
            "text/plain": [
              "{'audio': {'path': '03-01-05-02-01-02-01.wav',\n",
              "  'array': array([-0.00067139,  0.00253296,  0.00317383, ...,  0.        ,\n",
              "          0.        ,  0.        ]),\n",
              "  'sampling_rate': 48000},\n",
              " 'emotion': 'angry',\n",
              " 'label': 0}"
            ]
          },
          "metadata": {},
          "execution_count": 23
        }
      ]
    },
    {
      "cell_type": "markdown",
      "source": [
        "# Observation\n",
        "- We can see that `feature extractor` expect 16000 sampling rate but in our data sampling rate is 48000 now we can resample the audio."
      ],
      "metadata": {
        "id": "Fvawz5red-i4"
      }
    },
    {
      "cell_type": "code",
      "source": [
        "from datasets import Audio"
      ],
      "metadata": {
        "id": "jji1bohFew9a"
      },
      "execution_count": 30,
      "outputs": []
    },
    {
      "cell_type": "code",
      "source": [
        "train_df=train_df.cast_column('audio',Audio(sampling_rate=feature_extractor.sampling_rate))\n",
        "test_df=test_df.cast_column('audio',Audio(sampling_rate=feature_extractor.sampling_rate))"
      ],
      "metadata": {
        "id": "5bLemRnHdn6S"
      },
      "execution_count": 25,
      "outputs": []
    },
    {
      "cell_type": "code",
      "source": [
        "train_df[0]"
      ],
      "metadata": {
        "colab": {
          "base_uri": "https://localhost:8080/"
        },
        "id": "J3fRM_HRemDL",
        "outputId": "22f6bd15-8620-4ad7-9b68-31dbd2aacfd2"
      },
      "execution_count": 26,
      "outputs": [
        {
          "output_type": "execute_result",
          "data": {
            "text/plain": [
              "{'audio': {'path': '03-01-05-02-01-02-01.wav',\n",
              "  'array': array([ 1.00730092e-03,  2.65891477e-03, -2.70536821e-03, ...,\n",
              "         -1.50642109e-07, -2.17821253e-07,  1.79170456e-07]),\n",
              "  'sampling_rate': 16000},\n",
              " 'emotion': 'angry',\n",
              " 'label': 0}"
            ]
          },
          "metadata": {},
          "execution_count": 26
        }
      ]
    },
    {
      "cell_type": "markdown",
      "source": [
        "# Observation\n",
        "- Finally we can resample the audio.\n",
        "- Now we can make a fun that can take the audio data and make them the model expected format."
      ],
      "metadata": {
        "id": "nOonYJrDfAhn"
      }
    },
    {
      "cell_type": "markdown",
      "source": [
        "# Important\n",
        "- `Now we can load the model and test the model before fine-tunning.`"
      ],
      "metadata": {
        "id": "VulYQTbEKcok"
      }
    },
    {
      "cell_type": "code",
      "source": [
        "from transformers import AutoModelForAudioClassification, TrainingArguments, Trainer\n",
        "\n",
        "model=AutoModelForAudioClassification.from_pretrained(\n",
        "    check_point,\n",
        "    num_labels=len(id2label),\n",
        "    label2id=label2id,\n",
        "    id2label=id2label,\n",
        "     ignore_mismatched_sizes=True\n",
        ")"
      ],
      "metadata": {
        "id": "5ZlrkE3rJ33B",
        "colab": {
          "base_uri": "https://localhost:8080/",
          "height": 170,
          "referenced_widgets": [
            "30d7ba89106449318f8cf1f2e0beb6b7",
            "93aa3d8a8f894679be7ad97a9cd5e096",
            "8749ad834b6244d3a73586473d8d2ef5",
            "25ab9599a94249bc8b3de6fd3bceb2d6",
            "0b3ae3642c2c4cb68fe4c2a3dbb591e1",
            "844794b0e1eb40fdb6cf3716c728fa8b",
            "03aaec6772404bb5a081ed914ca79276",
            "0844fff2059040e583105b826785bb34",
            "b1e7ffc2dec146fca8901ec766300415",
            "fb8319b133fe4a24ba84387f402c9296",
            "e4fac4ced6814f259c9299800017d225",
            "c75f6714bfa94969ba25805cfc78e3d5",
            "ecf8cdf77380456fac02d406215733e3",
            "17c24079981241a6b252f5afe9f44d1e",
            "122551c6e6e048f1b330399f6e674b2c",
            "636f78ce905e45a38c9507fd1e83d17e",
            "bc09bcff3a5a4055bec415d6645f8e14",
            "3a54176cdeeb43fbb5a7a6ed4352e91a",
            "c4bdc75b10be4799988b369d34801b0f",
            "82e29d0f65fc4e04b130857e58100113",
            "454a9fa18e0545d78cf4988668a108b7",
            "164497a6f0bf4c049eab3c9ede398f7c"
          ]
        },
        "outputId": "3f821578-e12b-4627-d603-ec0b35707157"
      },
      "execution_count": 27,
      "outputs": [
        {
          "output_type": "display_data",
          "data": {
            "text/plain": [
              "config.json:   0%|          | 0.00/26.8k [00:00<?, ?B/s]"
            ],
            "application/vnd.jupyter.widget-view+json": {
              "version_major": 2,
              "version_minor": 0,
              "model_id": "30d7ba89106449318f8cf1f2e0beb6b7"
            }
          },
          "metadata": {}
        },
        {
          "output_type": "display_data",
          "data": {
            "text/plain": [
              "model.safetensors:   0%|          | 0.00/346M [00:00<?, ?B/s]"
            ],
            "application/vnd.jupyter.widget-view+json": {
              "version_major": 2,
              "version_minor": 0,
              "model_id": "c75f6714bfa94969ba25805cfc78e3d5"
            }
          },
          "metadata": {}
        },
        {
          "output_type": "stream",
          "name": "stderr",
          "text": [
            "Some weights of ASTForAudioClassification were not initialized from the model checkpoint at MIT/ast-finetuned-audioset-10-10-0.4593 and are newly initialized because the shapes did not match:\n",
            "- classifier.dense.bias: found shape torch.Size([527]) in the checkpoint and torch.Size([8]) in the model instantiated\n",
            "- classifier.dense.weight: found shape torch.Size([527, 768]) in the checkpoint and torch.Size([8, 768]) in the model instantiated\n",
            "You should probably TRAIN this model on a down-stream task to be able to use it for predictions and inference.\n"
          ]
        }
      ]
    },
    {
      "cell_type": "code",
      "source": [
        "inputs = feature_extractor(train_df[999][\"audio\"][\"array\"], sampling_rate=train_df[999][\"audio\"][\"sampling_rate\"], return_tensors=\"pt\")\n",
        "with torch.no_grad():\n",
        "    logits = model(**inputs).logits\n",
        "\n",
        "predicted_class_idx = logits.argmax(-1).item()\n",
        "print(\"Predicted class:\", model.config.id2label[predicted_class_idx])\n",
        "print(\"Actual class:\", id2label[train_df[0]['label']])"
      ],
      "metadata": {
        "colab": {
          "base_uri": "https://localhost:8080/"
        },
        "id": "Yv5QyTIxJu92",
        "outputId": "8d233ad5-a745-4036-b753-bea16bf49109"
      },
      "execution_count": 28,
      "outputs": [
        {
          "output_type": "stream",
          "name": "stdout",
          "text": [
            "Predicted class: fearful\n",
            "Actual class: angry\n"
          ]
        }
      ]
    },
    {
      "cell_type": "code",
      "source": [
        "train_df[999]['label']"
      ],
      "metadata": {
        "id": "fsgMXZiRLHdk",
        "outputId": "0b36dba8-c76e-4ba4-e100-fc746bd4b8a8",
        "colab": {
          "base_uri": "https://localhost:8080/"
        }
      },
      "execution_count": 29,
      "outputs": [
        {
          "output_type": "execute_result",
          "data": {
            "text/plain": [
              "3"
            ]
          },
          "metadata": {},
          "execution_count": 29
        }
      ]
    },
    {
      "cell_type": "markdown",
      "source": [
        "# Observation\n",
        "- Here we see that model can't predict well in our data.\n",
        "- Now we can fine tune the model in our dataset"
      ],
      "metadata": {
        "id": "SX9DJ_9dKtoz"
      }
    },
    {
      "cell_type": "code",
      "source": [],
      "metadata": {
        "id": "Sfh7oqmuJuip"
      },
      "execution_count": 29,
      "outputs": []
    },
    {
      "cell_type": "code",
      "source": [
        "def process_audio(batch):\n",
        "  # get the audin array\n",
        "  input_audio=[x['array'] for x in batch['audio']]\n",
        "\n",
        "  inputs=feature_extractor(input_audio,\n",
        "                   sampling_rate=feature_extractor.sampling_rate,\n",
        "                   max_length=16000,truncation=True,return_tensors='pt')\n",
        "\n",
        "  return inputs"
      ],
      "metadata": {
        "id": "I1hKoz7pe_Af"
      },
      "execution_count": 30,
      "outputs": []
    },
    {
      "cell_type": "markdown",
      "source": [
        "# **Test the fun**"
      ],
      "metadata": {
        "id": "WKROtmcagmhF"
      }
    },
    {
      "cell_type": "code",
      "source": [
        "process_audio(train_df[0:5])"
      ],
      "metadata": {
        "colab": {
          "base_uri": "https://localhost:8080/"
        },
        "id": "bLsq_QtvfdgC",
        "outputId": "4623db0a-c02f-4757-d470-d6743cab147b"
      },
      "execution_count": 31,
      "outputs": [
        {
          "output_type": "execute_result",
          "data": {
            "text/plain": [
              "{'input_values': tensor([[[-1.2776, -1.2776, -1.2776,  ..., -0.0857, -0.2256, -0.4870],\n",
              "         [-1.2776, -1.2776, -1.2776,  ..., -0.0686, -0.1137, -0.4669],\n",
              "         [-1.2776, -1.2776, -1.2776,  ...,  0.0295, -0.2803, -0.7069],\n",
              "         ...,\n",
              "         [ 0.4670,  0.4670,  0.4670,  ...,  0.4670,  0.4670,  0.4670],\n",
              "         [ 0.4670,  0.4670,  0.4670,  ...,  0.4670,  0.4670,  0.4670],\n",
              "         [ 0.4670,  0.4670,  0.4670,  ...,  0.4670,  0.4670,  0.4670]],\n",
              "\n",
              "        [[-1.2776, -1.2776, -1.2776,  ..., -1.2776, -1.2776, -1.2776],\n",
              "         [-1.2776, -1.2776, -1.2776,  ..., -1.2776, -1.2776, -1.2776],\n",
              "         [-1.2776, -1.2776, -1.2776,  ..., -1.2776, -1.2776, -1.2776],\n",
              "         ...,\n",
              "         [ 0.4670,  0.4670,  0.4670,  ...,  0.4670,  0.4670,  0.4670],\n",
              "         [ 0.4670,  0.4670,  0.4670,  ...,  0.4670,  0.4670,  0.4670],\n",
              "         [ 0.4670,  0.4670,  0.4670,  ...,  0.4670,  0.4670,  0.4670]],\n",
              "\n",
              "        [[-1.2776, -1.2776, -1.2776,  ..., -1.2776, -1.2776, -1.2776],\n",
              "         [-1.2776, -1.2776, -1.2776,  ..., -1.2776, -1.2776, -1.2776],\n",
              "         [-1.2776, -1.2776, -1.2776,  ..., -1.2776, -1.2776, -1.2776],\n",
              "         ...,\n",
              "         [ 0.4670,  0.4670,  0.4670,  ...,  0.4670,  0.4670,  0.4670],\n",
              "         [ 0.4670,  0.4670,  0.4670,  ...,  0.4670,  0.4670,  0.4670],\n",
              "         [ 0.4670,  0.4670,  0.4670,  ...,  0.4670,  0.4670,  0.4670]],\n",
              "\n",
              "        [[-1.2776, -1.2776, -1.2776,  ..., -1.2776, -1.2776, -1.2776],\n",
              "         [-1.2776, -1.2776, -1.2776,  ..., -1.2776, -1.2776, -1.2776],\n",
              "         [-1.2776, -1.2776, -1.2776,  ..., -1.2776, -1.2776, -1.2776],\n",
              "         ...,\n",
              "         [ 0.4670,  0.4670,  0.4670,  ...,  0.4670,  0.4670,  0.4670],\n",
              "         [ 0.4670,  0.4670,  0.4670,  ...,  0.4670,  0.4670,  0.4670],\n",
              "         [ 0.4670,  0.4670,  0.4670,  ...,  0.4670,  0.4670,  0.4670]],\n",
              "\n",
              "        [[-1.2776, -1.2776, -1.2776,  ..., -0.9669, -1.0129, -1.2776],\n",
              "         [-1.2776, -1.2776, -1.2776,  ..., -0.8892, -1.0856, -1.2776],\n",
              "         [-1.2776, -1.2776, -1.2776,  ..., -0.9076, -1.0920, -1.2776],\n",
              "         ...,\n",
              "         [ 0.4670,  0.4670,  0.4670,  ...,  0.4670,  0.4670,  0.4670],\n",
              "         [ 0.4670,  0.4670,  0.4670,  ...,  0.4670,  0.4670,  0.4670],\n",
              "         [ 0.4670,  0.4670,  0.4670,  ...,  0.4670,  0.4670,  0.4670]]])}"
            ]
          },
          "metadata": {},
          "execution_count": 31
        }
      ]
    },
    {
      "cell_type": "markdown",
      "source": [
        "# Apply the fun to whole data"
      ],
      "metadata": {
        "id": "q1M_hd89gqB1"
      }
    },
    {
      "cell_type": "code",
      "source": [
        "print(\"Processing train data...\")\n",
        "train_df=train_df.map(process_audio,batched=True)\n",
        "\n",
        "print(\"Processing test data....\")\n",
        "test_df=test_df.map(process_audio,batched=True)"
      ],
      "metadata": {
        "colab": {
          "base_uri": "https://localhost:8080/",
          "height": 116,
          "referenced_widgets": [
            "fd7f120ff6694056998e130186d210e1",
            "6859ea53c1894c38af5ecbc7dff39952",
            "101bf99e541349239542b097331d4460",
            "e9ca0491bd194c7e9339335c515842da",
            "7310102b270243a4a03489d6aef066cd",
            "55498a8bc129494caee298126721c8ab",
            "1ca34769b81949b8acb67c941fb60906",
            "1baf0c9279a1479bb9041d7e105171b4",
            "d1e21c70402d45aeb791944a1c256d18",
            "fda3329541a54d2cad522536d616f38c",
            "c8bc3a6944794af38e2633db3d3ace78",
            "36ff0056af3c40b8b172bac67e6a4621",
            "721870633c754ce4aa507cd504cf209f",
            "07bc74f4f48c4c8d9066a16b373bf9ae",
            "908e28a7998940d390b5624da9783056",
            "89dddef582ab42438bcb7c37844abf92",
            "aecdcdae990f400bb2e99adfe90652c2",
            "6a49da4d5bac42448d58e5fe7370791a",
            "1604ba023c4f49839834236f93251ab7",
            "3088d282d63d489096e2dec513d21ae5",
            "5e930cda233841f8bf5f31c766d76965",
            "e8c8430147af46e7bcbae10f80528b72"
          ]
        },
        "id": "keG80PkEfflW",
        "outputId": "6065f987-2a7a-47d5-8982-7ff8202b7c4f"
      },
      "execution_count": 32,
      "outputs": [
        {
          "output_type": "stream",
          "name": "stdout",
          "text": [
            "Processing train data...\n"
          ]
        },
        {
          "output_type": "display_data",
          "data": {
            "text/plain": [
              "Map:   0%|          | 0/1152 [00:00<?, ? examples/s]"
            ],
            "application/vnd.jupyter.widget-view+json": {
              "version_major": 2,
              "version_minor": 0,
              "model_id": "fd7f120ff6694056998e130186d210e1"
            }
          },
          "metadata": {}
        },
        {
          "output_type": "stream",
          "name": "stdout",
          "text": [
            "Processing test data....\n"
          ]
        },
        {
          "output_type": "display_data",
          "data": {
            "text/plain": [
              "Map:   0%|          | 0/288 [00:00<?, ? examples/s]"
            ],
            "application/vnd.jupyter.widget-view+json": {
              "version_major": 2,
              "version_minor": 0,
              "model_id": "36ff0056af3c40b8b172bac67e6a4621"
            }
          },
          "metadata": {}
        }
      ]
    },
    {
      "cell_type": "markdown",
      "source": [
        "# Observation\n",
        "- Finally we can process the whole audio array.\n",
        "- Now we can get only necessary col and remove other columns"
      ],
      "metadata": {
        "id": "0yL_gxgbhkd7"
      }
    },
    {
      "cell_type": "code",
      "source": [
        "train_df"
      ],
      "metadata": {
        "colab": {
          "base_uri": "https://localhost:8080/"
        },
        "id": "26aRaW3qhDn5",
        "outputId": "9a9565eb-8e94-4bb2-f6a9-16719b15c60f"
      },
      "execution_count": 33,
      "outputs": [
        {
          "output_type": "execute_result",
          "data": {
            "text/plain": [
              "Dataset({\n",
              "    features: ['audio', 'emotion', 'label', 'input_values'],\n",
              "    num_rows: 1152\n",
              "})"
            ]
          },
          "metadata": {},
          "execution_count": 33
        }
      ]
    },
    {
      "cell_type": "markdown",
      "source": [
        "# Remove columns\n",
        "- Removing columns are `audio`,`emotion`"
      ],
      "metadata": {
        "id": "r7A4nGUPhzZr"
      }
    },
    {
      "cell_type": "code",
      "source": [
        "train_df=train_df.remove_columns(['audio','emotion'])\n",
        "test_df=test_df.remove_columns(['audio','emotion'])"
      ],
      "metadata": {
        "id": "Nytp1W6Rhv-w"
      },
      "execution_count": 34,
      "outputs": []
    },
    {
      "cell_type": "code",
      "source": [
        "train_df"
      ],
      "metadata": {
        "colab": {
          "base_uri": "https://localhost:8080/"
        },
        "id": "y1ReS-uKiAV0",
        "outputId": "24040a4c-ce04-48a5-9e06-62131192cf3f"
      },
      "execution_count": 35,
      "outputs": [
        {
          "output_type": "execute_result",
          "data": {
            "text/plain": [
              "Dataset({\n",
              "    features: ['label', 'input_values'],\n",
              "    num_rows: 1152\n",
              "})"
            ]
          },
          "metadata": {},
          "execution_count": 35
        }
      ]
    },
    {
      "cell_type": "markdown",
      "source": [
        "# Observation\n",
        "- Now we can ready to train the model"
      ],
      "metadata": {
        "id": "7ENkpIhYiHq0"
      }
    },
    {
      "cell_type": "code",
      "source": [
        "from transformers import AutoModelForAudioClassification, TrainingArguments, Trainer\n",
        "\n",
        "model=AutoModelForAudioClassification.from_pretrained(\n",
        "    check_point,\n",
        "    num_labels=len(id2label),\n",
        "    label2id=label2id,\n",
        "    id2label=id2label,\n",
        "     ignore_mismatched_sizes=True\n",
        ")"
      ],
      "metadata": {
        "colab": {
          "base_uri": "https://localhost:8080/"
        },
        "id": "-3pH5PnsiF_G",
        "outputId": "6614c63a-2f80-4298-f505-f0236eac1d22"
      },
      "execution_count": 36,
      "outputs": [
        {
          "output_type": "stream",
          "name": "stderr",
          "text": [
            "Some weights of ASTForAudioClassification were not initialized from the model checkpoint at MIT/ast-finetuned-audioset-10-10-0.4593 and are newly initialized because the shapes did not match:\n",
            "- classifier.dense.bias: found shape torch.Size([527]) in the checkpoint and torch.Size([8]) in the model instantiated\n",
            "- classifier.dense.weight: found shape torch.Size([527, 768]) in the checkpoint and torch.Size([8, 768]) in the model instantiated\n",
            "You should probably TRAIN this model on a down-stream task to be able to use it for predictions and inference.\n"
          ]
        }
      ]
    },
    {
      "cell_type": "code",
      "source": [
        "\n",
        "model"
      ],
      "metadata": {
        "colab": {
          "base_uri": "https://localhost:8080/"
        },
        "collapsed": true,
        "id": "-tHaGWhXjE4O",
        "outputId": "cdd9f70a-9ee3-4666-bd4f-05730e8c243c"
      },
      "execution_count": 37,
      "outputs": [
        {
          "output_type": "execute_result",
          "data": {
            "text/plain": [
              "ASTForAudioClassification(\n",
              "  (audio_spectrogram_transformer): ASTModel(\n",
              "    (embeddings): ASTEmbeddings(\n",
              "      (patch_embeddings): ASTPatchEmbeddings(\n",
              "        (projection): Conv2d(1, 768, kernel_size=(16, 16), stride=(10, 10))\n",
              "      )\n",
              "      (dropout): Dropout(p=0.0, inplace=False)\n",
              "    )\n",
              "    (encoder): ASTEncoder(\n",
              "      (layer): ModuleList(\n",
              "        (0-11): 12 x ASTLayer(\n",
              "          (attention): ASTSdpaAttention(\n",
              "            (attention): ASTSdpaSelfAttention(\n",
              "              (query): Linear(in_features=768, out_features=768, bias=True)\n",
              "              (key): Linear(in_features=768, out_features=768, bias=True)\n",
              "              (value): Linear(in_features=768, out_features=768, bias=True)\n",
              "              (dropout): Dropout(p=0.0, inplace=False)\n",
              "            )\n",
              "            (output): ASTSelfOutput(\n",
              "              (dense): Linear(in_features=768, out_features=768, bias=True)\n",
              "              (dropout): Dropout(p=0.0, inplace=False)\n",
              "            )\n",
              "          )\n",
              "          (intermediate): ASTIntermediate(\n",
              "            (dense): Linear(in_features=768, out_features=3072, bias=True)\n",
              "            (intermediate_act_fn): GELUActivation()\n",
              "          )\n",
              "          (output): ASTOutput(\n",
              "            (dense): Linear(in_features=3072, out_features=768, bias=True)\n",
              "            (dropout): Dropout(p=0.0, inplace=False)\n",
              "          )\n",
              "          (layernorm_before): LayerNorm((768,), eps=1e-12, elementwise_affine=True)\n",
              "          (layernorm_after): LayerNorm((768,), eps=1e-12, elementwise_affine=True)\n",
              "        )\n",
              "      )\n",
              "    )\n",
              "    (layernorm): LayerNorm((768,), eps=1e-12, elementwise_affine=True)\n",
              "  )\n",
              "  (classifier): ASTMLPHead(\n",
              "    (layernorm): LayerNorm((768,), eps=1e-12, elementwise_affine=True)\n",
              "    (dense): Linear(in_features=768, out_features=8, bias=True)\n",
              "  )\n",
              ")"
            ]
          },
          "metadata": {},
          "execution_count": 37
        }
      ]
    },
    {
      "cell_type": "markdown",
      "source": [
        "# Load the loss fun for evulation"
      ],
      "metadata": {
        "id": "7kTgNVEAj9eM"
      }
    },
    {
      "cell_type": "code",
      "source": [
        "!pip install --upgrade --force-reinstall torchvision"
      ],
      "metadata": {
        "colab": {
          "base_uri": "https://localhost:8080/",
          "height": 1000
        },
        "id": "bilEP6C9dEUe",
        "outputId": "6b303e47-68cf-4b12-fc5c-87f136554fd8"
      },
      "execution_count": 14,
      "outputs": [
        {
          "output_type": "stream",
          "name": "stdout",
          "text": [
            "Collecting torchvision\n",
            "  Downloading torchvision-0.19.0-cp310-cp310-manylinux1_x86_64.whl.metadata (6.0 kB)\n",
            "Collecting numpy (from torchvision)\n",
            "  Downloading numpy-2.1.0-cp310-cp310-manylinux_2_17_x86_64.manylinux2014_x86_64.whl.metadata (60 kB)\n",
            "\u001b[2K     \u001b[90m━━━━━━━━━━━━━━━━━━━━━━━━━━━━━━━━━━━━━━━━\u001b[0m \u001b[32m60.9/60.9 kB\u001b[0m \u001b[31m2.9 MB/s\u001b[0m eta \u001b[36m0:00:00\u001b[0m\n",
            "\u001b[?25hCollecting torch==2.4.0 (from torchvision)\n",
            "  Using cached torch-2.4.0-cp310-cp310-manylinux1_x86_64.whl.metadata (26 kB)\n",
            "Collecting pillow!=8.3.*,>=5.3.0 (from torchvision)\n",
            "  Downloading pillow-10.4.0-cp310-cp310-manylinux_2_28_x86_64.whl.metadata (9.2 kB)\n",
            "Collecting filelock (from torch==2.4.0->torchvision)\n",
            "  Using cached filelock-3.15.4-py3-none-any.whl.metadata (2.9 kB)\n",
            "Collecting typing-extensions>=4.8.0 (from torch==2.4.0->torchvision)\n",
            "  Using cached typing_extensions-4.12.2-py3-none-any.whl.metadata (3.0 kB)\n",
            "Collecting sympy (from torch==2.4.0->torchvision)\n",
            "  Downloading sympy-1.13.2-py3-none-any.whl.metadata (12 kB)\n",
            "Collecting networkx (from torch==2.4.0->torchvision)\n",
            "  Using cached networkx-3.3-py3-none-any.whl.metadata (5.1 kB)\n",
            "Collecting jinja2 (from torch==2.4.0->torchvision)\n",
            "  Using cached jinja2-3.1.4-py3-none-any.whl.metadata (2.6 kB)\n",
            "Collecting fsspec (from torch==2.4.0->torchvision)\n",
            "  Using cached fsspec-2024.6.1-py3-none-any.whl.metadata (11 kB)\n",
            "Collecting nvidia-cuda-nvrtc-cu12==12.1.105 (from torch==2.4.0->torchvision)\n",
            "  Using cached nvidia_cuda_nvrtc_cu12-12.1.105-py3-none-manylinux1_x86_64.whl.metadata (1.5 kB)\n",
            "Collecting nvidia-cuda-runtime-cu12==12.1.105 (from torch==2.4.0->torchvision)\n",
            "  Using cached nvidia_cuda_runtime_cu12-12.1.105-py3-none-manylinux1_x86_64.whl.metadata (1.5 kB)\n",
            "Collecting nvidia-cuda-cupti-cu12==12.1.105 (from torch==2.4.0->torchvision)\n",
            "  Using cached nvidia_cuda_cupti_cu12-12.1.105-py3-none-manylinux1_x86_64.whl.metadata (1.6 kB)\n",
            "Collecting nvidia-cudnn-cu12==9.1.0.70 (from torch==2.4.0->torchvision)\n",
            "  Using cached nvidia_cudnn_cu12-9.1.0.70-py3-none-manylinux2014_x86_64.whl.metadata (1.6 kB)\n",
            "Collecting nvidia-cublas-cu12==12.1.3.1 (from torch==2.4.0->torchvision)\n",
            "  Using cached nvidia_cublas_cu12-12.1.3.1-py3-none-manylinux1_x86_64.whl.metadata (1.5 kB)\n",
            "Collecting nvidia-cufft-cu12==11.0.2.54 (from torch==2.4.0->torchvision)\n",
            "  Using cached nvidia_cufft_cu12-11.0.2.54-py3-none-manylinux1_x86_64.whl.metadata (1.5 kB)\n",
            "Collecting nvidia-curand-cu12==10.3.2.106 (from torch==2.4.0->torchvision)\n",
            "  Using cached nvidia_curand_cu12-10.3.2.106-py3-none-manylinux1_x86_64.whl.metadata (1.5 kB)\n",
            "Collecting nvidia-cusolver-cu12==11.4.5.107 (from torch==2.4.0->torchvision)\n",
            "  Using cached nvidia_cusolver_cu12-11.4.5.107-py3-none-manylinux1_x86_64.whl.metadata (1.6 kB)\n",
            "Collecting nvidia-cusparse-cu12==12.1.0.106 (from torch==2.4.0->torchvision)\n",
            "  Using cached nvidia_cusparse_cu12-12.1.0.106-py3-none-manylinux1_x86_64.whl.metadata (1.6 kB)\n",
            "Collecting nvidia-nccl-cu12==2.20.5 (from torch==2.4.0->torchvision)\n",
            "  Using cached nvidia_nccl_cu12-2.20.5-py3-none-manylinux2014_x86_64.whl.metadata (1.8 kB)\n",
            "Collecting nvidia-nvtx-cu12==12.1.105 (from torch==2.4.0->torchvision)\n",
            "  Using cached nvidia_nvtx_cu12-12.1.105-py3-none-manylinux1_x86_64.whl.metadata (1.7 kB)\n",
            "Collecting triton==3.0.0 (from torch==2.4.0->torchvision)\n",
            "  Using cached triton-3.0.0-1-cp310-cp310-manylinux2014_x86_64.manylinux_2_17_x86_64.whl.metadata (1.3 kB)\n",
            "Collecting nvidia-nvjitlink-cu12 (from nvidia-cusolver-cu12==11.4.5.107->torch==2.4.0->torchvision)\n",
            "  Using cached nvidia_nvjitlink_cu12-12.6.20-py3-none-manylinux2014_x86_64.whl.metadata (1.5 kB)\n",
            "Collecting MarkupSafe>=2.0 (from jinja2->torch==2.4.0->torchvision)\n",
            "  Using cached MarkupSafe-2.1.5-cp310-cp310-manylinux_2_17_x86_64.manylinux2014_x86_64.whl.metadata (3.0 kB)\n",
            "Collecting mpmath<1.4,>=1.1.0 (from sympy->torch==2.4.0->torchvision)\n",
            "  Using cached mpmath-1.3.0-py3-none-any.whl.metadata (8.6 kB)\n",
            "Downloading torchvision-0.19.0-cp310-cp310-manylinux1_x86_64.whl (7.0 MB)\n",
            "\u001b[2K   \u001b[90m━━━━━━━━━━━━━━━━━━━━━━━━━━━━━━━━━━━━━━━━\u001b[0m \u001b[32m7.0/7.0 MB\u001b[0m \u001b[31m45.5 MB/s\u001b[0m eta \u001b[36m0:00:00\u001b[0m\n",
            "\u001b[?25hUsing cached torch-2.4.0-cp310-cp310-manylinux1_x86_64.whl (797.2 MB)\n",
            "Using cached nvidia_cublas_cu12-12.1.3.1-py3-none-manylinux1_x86_64.whl (410.6 MB)\n",
            "Using cached nvidia_cuda_cupti_cu12-12.1.105-py3-none-manylinux1_x86_64.whl (14.1 MB)\n",
            "Using cached nvidia_cuda_nvrtc_cu12-12.1.105-py3-none-manylinux1_x86_64.whl (23.7 MB)\n",
            "Using cached nvidia_cuda_runtime_cu12-12.1.105-py3-none-manylinux1_x86_64.whl (823 kB)\n",
            "Using cached nvidia_cudnn_cu12-9.1.0.70-py3-none-manylinux2014_x86_64.whl (664.8 MB)\n",
            "Using cached nvidia_cufft_cu12-11.0.2.54-py3-none-manylinux1_x86_64.whl (121.6 MB)\n",
            "Using cached nvidia_curand_cu12-10.3.2.106-py3-none-manylinux1_x86_64.whl (56.5 MB)\n",
            "Using cached nvidia_cusolver_cu12-11.4.5.107-py3-none-manylinux1_x86_64.whl (124.2 MB)\n",
            "Using cached nvidia_cusparse_cu12-12.1.0.106-py3-none-manylinux1_x86_64.whl (196.0 MB)\n",
            "Using cached nvidia_nccl_cu12-2.20.5-py3-none-manylinux2014_x86_64.whl (176.2 MB)\n",
            "Using cached nvidia_nvtx_cu12-12.1.105-py3-none-manylinux1_x86_64.whl (99 kB)\n",
            "Using cached triton-3.0.0-1-cp310-cp310-manylinux2014_x86_64.manylinux_2_17_x86_64.whl (209.4 MB)\n",
            "Downloading pillow-10.4.0-cp310-cp310-manylinux_2_28_x86_64.whl (4.5 MB)\n",
            "\u001b[2K   \u001b[90m━━━━━━━━━━━━━━━━━━━━━━━━━━━━━━━━━━━━━━━━\u001b[0m \u001b[32m4.5/4.5 MB\u001b[0m \u001b[31m4.2 MB/s\u001b[0m eta \u001b[36m0:00:00\u001b[0m\n",
            "\u001b[?25hDownloading numpy-2.1.0-cp310-cp310-manylinux_2_17_x86_64.manylinux2014_x86_64.whl (16.3 MB)\n",
            "\u001b[2K   \u001b[90m━━━━━━━━━━━━━━━━━━━━━━━━━━━━━━━━━━━━━━━━\u001b[0m \u001b[32m16.3/16.3 MB\u001b[0m \u001b[31m55.5 MB/s\u001b[0m eta \u001b[36m0:00:00\u001b[0m\n",
            "\u001b[?25hUsing cached typing_extensions-4.12.2-py3-none-any.whl (37 kB)\n",
            "Using cached filelock-3.15.4-py3-none-any.whl (16 kB)\n",
            "Using cached fsspec-2024.6.1-py3-none-any.whl (177 kB)\n",
            "Using cached jinja2-3.1.4-py3-none-any.whl (133 kB)\n",
            "Using cached networkx-3.3-py3-none-any.whl (1.7 MB)\n",
            "Downloading sympy-1.13.2-py3-none-any.whl (6.2 MB)\n",
            "\u001b[2K   \u001b[90m━━━━━━━━━━━━━━━━━━━━━━━━━━━━━━━━━━━━━━━━\u001b[0m \u001b[32m6.2/6.2 MB\u001b[0m \u001b[31m56.7 MB/s\u001b[0m eta \u001b[36m0:00:00\u001b[0m\n",
            "\u001b[?25hUsing cached MarkupSafe-2.1.5-cp310-cp310-manylinux_2_17_x86_64.manylinux2014_x86_64.whl (25 kB)\n",
            "Using cached mpmath-1.3.0-py3-none-any.whl (536 kB)\n",
            "Using cached nvidia_nvjitlink_cu12-12.6.20-py3-none-manylinux2014_x86_64.whl (19.7 MB)\n",
            "Installing collected packages: mpmath, typing-extensions, sympy, pillow, nvidia-nvtx-cu12, nvidia-nvjitlink-cu12, nvidia-nccl-cu12, nvidia-curand-cu12, nvidia-cufft-cu12, nvidia-cuda-runtime-cu12, nvidia-cuda-nvrtc-cu12, nvidia-cuda-cupti-cu12, nvidia-cublas-cu12, numpy, networkx, MarkupSafe, fsspec, filelock, triton, nvidia-cusparse-cu12, nvidia-cudnn-cu12, jinja2, nvidia-cusolver-cu12, torch, torchvision\n",
            "  Attempting uninstall: mpmath\n",
            "    Found existing installation: mpmath 1.3.0\n",
            "    Uninstalling mpmath-1.3.0:\n",
            "      Successfully uninstalled mpmath-1.3.0\n",
            "  Attempting uninstall: typing-extensions\n",
            "    Found existing installation: typing_extensions 4.12.2\n",
            "    Uninstalling typing_extensions-4.12.2:\n",
            "      Successfully uninstalled typing_extensions-4.12.2\n",
            "  Attempting uninstall: sympy\n",
            "    Found existing installation: sympy 1.13.1\n",
            "    Uninstalling sympy-1.13.1:\n",
            "      Successfully uninstalled sympy-1.13.1\n",
            "  Attempting uninstall: pillow\n",
            "    Found existing installation: Pillow 9.4.0\n",
            "    Uninstalling Pillow-9.4.0:\n",
            "      Successfully uninstalled Pillow-9.4.0\n",
            "  Attempting uninstall: nvidia-nvtx-cu12\n",
            "    Found existing installation: nvidia-nvtx-cu12 12.1.105\n",
            "    Uninstalling nvidia-nvtx-cu12-12.1.105:\n",
            "      Successfully uninstalled nvidia-nvtx-cu12-12.1.105\n",
            "  Attempting uninstall: nvidia-nvjitlink-cu12\n",
            "    Found existing installation: nvidia-nvjitlink-cu12 12.6.20\n",
            "    Uninstalling nvidia-nvjitlink-cu12-12.6.20:\n",
            "      Successfully uninstalled nvidia-nvjitlink-cu12-12.6.20\n",
            "  Attempting uninstall: nvidia-nccl-cu12\n",
            "    Found existing installation: nvidia-nccl-cu12 2.20.5\n",
            "    Uninstalling nvidia-nccl-cu12-2.20.5:\n",
            "      Successfully uninstalled nvidia-nccl-cu12-2.20.5\n",
            "  Attempting uninstall: nvidia-curand-cu12\n",
            "    Found existing installation: nvidia-curand-cu12 10.3.2.106\n",
            "    Uninstalling nvidia-curand-cu12-10.3.2.106:\n",
            "      Successfully uninstalled nvidia-curand-cu12-10.3.2.106\n",
            "  Attempting uninstall: nvidia-cufft-cu12\n",
            "    Found existing installation: nvidia-cufft-cu12 11.0.2.54\n",
            "    Uninstalling nvidia-cufft-cu12-11.0.2.54:\n",
            "      Successfully uninstalled nvidia-cufft-cu12-11.0.2.54\n",
            "  Attempting uninstall: nvidia-cuda-runtime-cu12\n",
            "    Found existing installation: nvidia-cuda-runtime-cu12 12.1.105\n",
            "    Uninstalling nvidia-cuda-runtime-cu12-12.1.105:\n",
            "      Successfully uninstalled nvidia-cuda-runtime-cu12-12.1.105\n",
            "  Attempting uninstall: nvidia-cuda-nvrtc-cu12\n",
            "    Found existing installation: nvidia-cuda-nvrtc-cu12 12.1.105\n",
            "    Uninstalling nvidia-cuda-nvrtc-cu12-12.1.105:\n",
            "      Successfully uninstalled nvidia-cuda-nvrtc-cu12-12.1.105\n",
            "  Attempting uninstall: nvidia-cuda-cupti-cu12\n",
            "    Found existing installation: nvidia-cuda-cupti-cu12 12.1.105\n",
            "    Uninstalling nvidia-cuda-cupti-cu12-12.1.105:\n",
            "      Successfully uninstalled nvidia-cuda-cupti-cu12-12.1.105\n",
            "  Attempting uninstall: nvidia-cublas-cu12\n",
            "    Found existing installation: nvidia-cublas-cu12 12.1.3.1\n",
            "    Uninstalling nvidia-cublas-cu12-12.1.3.1:\n",
            "      Successfully uninstalled nvidia-cublas-cu12-12.1.3.1\n",
            "  Attempting uninstall: numpy\n",
            "    Found existing installation: numpy 1.26.4\n",
            "    Uninstalling numpy-1.26.4:\n",
            "      Successfully uninstalled numpy-1.26.4\n",
            "  Attempting uninstall: networkx\n",
            "    Found existing installation: networkx 3.3\n",
            "    Uninstalling networkx-3.3:\n",
            "      Successfully uninstalled networkx-3.3\n",
            "  Attempting uninstall: MarkupSafe\n",
            "    Found existing installation: MarkupSafe 2.1.5\n",
            "    Uninstalling MarkupSafe-2.1.5:\n",
            "      Successfully uninstalled MarkupSafe-2.1.5\n",
            "  Attempting uninstall: fsspec\n",
            "    Found existing installation: fsspec 2024.6.1\n",
            "    Uninstalling fsspec-2024.6.1:\n",
            "      Successfully uninstalled fsspec-2024.6.1\n",
            "  Attempting uninstall: filelock\n",
            "    Found existing installation: filelock 3.15.4\n",
            "    Uninstalling filelock-3.15.4:\n",
            "      Successfully uninstalled filelock-3.15.4\n",
            "  Attempting uninstall: triton\n",
            "    Found existing installation: triton 3.0.0\n",
            "    Uninstalling triton-3.0.0:\n",
            "      Successfully uninstalled triton-3.0.0\n",
            "  Attempting uninstall: nvidia-cusparse-cu12\n",
            "    Found existing installation: nvidia-cusparse-cu12 12.1.0.106\n",
            "    Uninstalling nvidia-cusparse-cu12-12.1.0.106:\n",
            "      Successfully uninstalled nvidia-cusparse-cu12-12.1.0.106\n",
            "  Attempting uninstall: nvidia-cudnn-cu12\n",
            "    Found existing installation: nvidia-cudnn-cu12 9.1.0.70\n",
            "    Uninstalling nvidia-cudnn-cu12-9.1.0.70:\n",
            "      Successfully uninstalled nvidia-cudnn-cu12-9.1.0.70\n",
            "  Attempting uninstall: jinja2\n",
            "    Found existing installation: Jinja2 3.1.4\n",
            "    Uninstalling Jinja2-3.1.4:\n",
            "      Successfully uninstalled Jinja2-3.1.4\n",
            "  Attempting uninstall: nvidia-cusolver-cu12\n",
            "    Found existing installation: nvidia-cusolver-cu12 11.4.5.107\n",
            "    Uninstalling nvidia-cusolver-cu12-11.4.5.107:\n",
            "      Successfully uninstalled nvidia-cusolver-cu12-11.4.5.107\n",
            "  Attempting uninstall: torch\n",
            "    Found existing installation: torch 2.4.0\n",
            "    Uninstalling torch-2.4.0:\n",
            "      Successfully uninstalled torch-2.4.0\n",
            "  Attempting uninstall: torchvision\n",
            "    Found existing installation: torchvision 0.18.1+cu121\n",
            "    Uninstalling torchvision-0.18.1+cu121:\n",
            "      Successfully uninstalled torchvision-0.18.1+cu121\n",
            "\u001b[31mERROR: pip's dependency resolver does not currently take into account all the packages that are installed. This behaviour is the source of the following dependency conflicts.\n",
            "accelerate 0.33.0 requires numpy<2.0.0,>=1.17, but you have numpy 2.1.0 which is incompatible.\n",
            "albucore 0.0.13 requires numpy<2,>=1.24.4, but you have numpy 2.1.0 which is incompatible.\n",
            "arviz 0.18.0 requires numpy<2.0,>=1.23.0, but you have numpy 2.1.0 which is incompatible.\n",
            "cudf-cu12 24.4.1 requires numpy<2.0a0,>=1.23, but you have numpy 2.1.0 which is incompatible.\n",
            "cudf-cu12 24.4.1 requires pyarrow<15.0.0a0,>=14.0.1, but you have pyarrow 17.0.0 which is incompatible.\n",
            "cupy-cuda12x 12.2.0 requires numpy<1.27,>=1.20, but you have numpy 2.1.0 which is incompatible.\n",
            "gensim 4.3.3 requires numpy<2.0,>=1.18.5, but you have numpy 2.1.0 which is incompatible.\n",
            "ibis-framework 8.0.0 requires numpy<2,>=1, but you have numpy 2.1.0 which is incompatible.\n",
            "ibis-framework 8.0.0 requires pyarrow<16,>=2, but you have pyarrow 17.0.0 which is incompatible.\n",
            "numba 0.60.0 requires numpy<2.1,>=1.22, but you have numpy 2.1.0 which is incompatible.\n",
            "pandas 2.1.4 requires numpy<2,>=1.22.4; python_version < \"3.11\", but you have numpy 2.1.0 which is incompatible.\n",
            "rmm-cu12 24.4.0 requires numpy<2.0a0,>=1.23, but you have numpy 2.1.0 which is incompatible.\n",
            "scikit-learn 1.3.2 requires numpy<2.0,>=1.17.3, but you have numpy 2.1.0 which is incompatible.\n",
            "tensorflow 2.17.0 requires numpy<2.0.0,>=1.23.5; python_version <= \"3.11\", but you have numpy 2.1.0 which is incompatible.\n",
            "thinc 8.2.5 requires numpy<2.0.0,>=1.19.0; python_version >= \"3.9\", but you have numpy 2.1.0 which is incompatible.\n",
            "torchaudio 2.3.1+cu121 requires torch==2.3.1, but you have torch 2.4.0 which is incompatible.\u001b[0m\u001b[31m\n",
            "\u001b[0mSuccessfully installed MarkupSafe-2.1.5 filelock-3.15.4 fsspec-2024.6.1 jinja2-3.1.4 mpmath-1.3.0 networkx-3.3 numpy-2.1.0 nvidia-cublas-cu12-12.1.3.1 nvidia-cuda-cupti-cu12-12.1.105 nvidia-cuda-nvrtc-cu12-12.1.105 nvidia-cuda-runtime-cu12-12.1.105 nvidia-cudnn-cu12-9.1.0.70 nvidia-cufft-cu12-11.0.2.54 nvidia-curand-cu12-10.3.2.106 nvidia-cusolver-cu12-11.4.5.107 nvidia-cusparse-cu12-12.1.0.106 nvidia-nccl-cu12-2.20.5 nvidia-nvjitlink-cu12-12.6.20 nvidia-nvtx-cu12-12.1.105 pillow-10.4.0 sympy-1.13.2 torch-2.4.0 torchvision-0.19.0 triton-3.0.0 typing-extensions-4.12.2\n"
          ]
        },
        {
          "output_type": "display_data",
          "data": {
            "application/vnd.colab-display-data+json": {
              "pip_warning": {
                "packages": [
                  "PIL",
                  "torch",
                  "torchgen"
                ]
              },
              "id": "55ad75182f384bde9c087dd08d20e08c"
            }
          },
          "metadata": {}
        }
      ]
    },
    {
      "cell_type": "code",
      "source": [
        "import evaluate\n",
        "import numpy as np\n",
        "\n",
        "metric=evaluate.load(\"accuracy\")"
      ],
      "metadata": {
        "id": "xp3fih07lMX_"
      },
      "execution_count": 39,
      "outputs": []
    },
    {
      "cell_type": "code",
      "source": [
        "def compute_matrics(eval_pre):\n",
        "  prediction=np.argmax(eval_pre.predictions,axis=1)\n",
        "\n",
        "  return metric.compute(predictions=prediction,references=eval_pre.label_ids)"
      ],
      "metadata": {
        "id": "d35TSIBXiwhg"
      },
      "execution_count": 40,
      "outputs": []
    },
    {
      "cell_type": "markdown",
      "source": [
        "# Define the `TrainingArgument`"
      ],
      "metadata": {
        "id": "qIZ49VZNnO6J"
      }
    },
    {
      "cell_type": "code",
      "source": [
        "train_arg = TrainingArguments(\n",
        "    output_dir=\"./emotion_classification\",\n",
        "    eval_strategy=\"epoch\",\n",
        "    save_strategy=\"epoch\",\n",
        "    learning_rate=3e-5,  # Experiment with slightly different learning rates\n",
        "    per_device_train_batch_size=4,  # Increase batch size if possible\n",
        "    per_device_eval_batch_size=4,\n",
        "    num_train_epochs=20,  # Reduced number of epochs, we'll use early stopping\n",
        "    warmup_ratio=0.1,  # Adjusted warmup ratio\n",
        "    weight_decay=0.01,  # Adding weight decay for regularization\n",
        "    load_best_model_at_end=True,\n",
        "    metric_for_best_model=\"accuracy\",\n",
        "    greater_is_better=True,\n",
        "    logging_dir='./logs',\n",
        "    logging_steps=10,\n",
        "    save_steps=500,\n",
        "    gradient_accumulation_steps=2,  # Simulate larger batch size\n",
        "    fp16=True,  # Enable mixed precision training for faster performance\n",
        ")"
      ],
      "metadata": {
        "id": "gSfUavC5nJ6b"
      },
      "execution_count": 41,
      "outputs": []
    },
    {
      "cell_type": "code",
      "source": [
        "from transformers import EarlyStoppingCallback\n",
        "\n",
        "early_stopping = EarlyStoppingCallback(early_stopping_patience=3)"
      ],
      "metadata": {
        "id": "2DnTEEPVYBX0"
      },
      "execution_count": 42,
      "outputs": []
    },
    {
      "cell_type": "markdown",
      "source": [
        "# Call the `trainer API`"
      ],
      "metadata": {
        "id": "wCi2lCt-nsaA"
      }
    },
    {
      "cell_type": "code",
      "source": [
        "trainer=Trainer(\n",
        "    model=model,\n",
        "    args=train_arg,\n",
        "    train_dataset=train_df,\n",
        "    eval_dataset=test_df,\n",
        "    compute_metrics=compute_matrics,\n",
        "    tokenizer=feature_extractor,\n",
        "    callbacks=[early_stopping]\n",
        ")"
      ],
      "metadata": {
        "id": "zw0E-zJ6nmth"
      },
      "execution_count": 44,
      "outputs": []
    },
    {
      "cell_type": "code",
      "source": [
        "trainer.train()"
      ],
      "metadata": {
        "colab": {
          "base_uri": "https://localhost:8080/",
          "height": 1000
        },
        "id": "XRpjIwWbn8OW",
        "outputId": "2e79cf05-3e5c-41b7-83d5-ab12fcf7b155"
      },
      "execution_count": 45,
      "outputs": [
        {
          "output_type": "display_data",
          "data": {
            "text/plain": [
              "<IPython.core.display.HTML object>"
            ],
            "text/html": [
              "\n",
              "    <div>\n",
              "      \n",
              "      <progress value='2448' max='2880' style='width:300px; height:20px; vertical-align: middle;'></progress>\n",
              "      [2448/2880 54:23 < 09:36, 0.75 it/s, Epoch 17/20]\n",
              "    </div>\n",
              "    <table border=\"1\" class=\"dataframe\">\n",
              "  <thead>\n",
              " <tr style=\"text-align: left;\">\n",
              "      <th>Epoch</th>\n",
              "      <th>Training Loss</th>\n",
              "      <th>Validation Loss</th>\n",
              "      <th>Accuracy</th>\n",
              "    </tr>\n",
              "  </thead>\n",
              "  <tbody>\n",
              "    <tr>\n",
              "      <td>1</td>\n",
              "      <td>1.352700</td>\n",
              "      <td>1.187278</td>\n",
              "      <td>0.583333</td>\n",
              "    </tr>\n",
              "    <tr>\n",
              "      <td>2</td>\n",
              "      <td>1.233800</td>\n",
              "      <td>1.376490</td>\n",
              "      <td>0.531250</td>\n",
              "    </tr>\n",
              "    <tr>\n",
              "      <td>3</td>\n",
              "      <td>0.630700</td>\n",
              "      <td>0.845540</td>\n",
              "      <td>0.704861</td>\n",
              "    </tr>\n",
              "    <tr>\n",
              "      <td>4</td>\n",
              "      <td>0.349600</td>\n",
              "      <td>0.879322</td>\n",
              "      <td>0.711806</td>\n",
              "    </tr>\n",
              "    <tr>\n",
              "      <td>5</td>\n",
              "      <td>0.076800</td>\n",
              "      <td>1.053678</td>\n",
              "      <td>0.746528</td>\n",
              "    </tr>\n",
              "    <tr>\n",
              "      <td>6</td>\n",
              "      <td>0.125900</td>\n",
              "      <td>1.157311</td>\n",
              "      <td>0.739583</td>\n",
              "    </tr>\n",
              "    <tr>\n",
              "      <td>7</td>\n",
              "      <td>0.066500</td>\n",
              "      <td>1.142313</td>\n",
              "      <td>0.791667</td>\n",
              "    </tr>\n",
              "    <tr>\n",
              "      <td>8</td>\n",
              "      <td>0.000300</td>\n",
              "      <td>1.304643</td>\n",
              "      <td>0.777778</td>\n",
              "    </tr>\n",
              "    <tr>\n",
              "      <td>9</td>\n",
              "      <td>0.000200</td>\n",
              "      <td>1.090984</td>\n",
              "      <td>0.795139</td>\n",
              "    </tr>\n",
              "    <tr>\n",
              "      <td>10</td>\n",
              "      <td>0.000100</td>\n",
              "      <td>1.004856</td>\n",
              "      <td>0.819444</td>\n",
              "    </tr>\n",
              "    <tr>\n",
              "      <td>11</td>\n",
              "      <td>0.000100</td>\n",
              "      <td>1.001532</td>\n",
              "      <td>0.822917</td>\n",
              "    </tr>\n",
              "    <tr>\n",
              "      <td>12</td>\n",
              "      <td>0.000100</td>\n",
              "      <td>1.003763</td>\n",
              "      <td>0.826389</td>\n",
              "    </tr>\n",
              "    <tr>\n",
              "      <td>13</td>\n",
              "      <td>0.000100</td>\n",
              "      <td>1.006692</td>\n",
              "      <td>0.822917</td>\n",
              "    </tr>\n",
              "    <tr>\n",
              "      <td>14</td>\n",
              "      <td>0.000000</td>\n",
              "      <td>1.006821</td>\n",
              "      <td>0.829861</td>\n",
              "    </tr>\n",
              "    <tr>\n",
              "      <td>15</td>\n",
              "      <td>0.000000</td>\n",
              "      <td>1.007924</td>\n",
              "      <td>0.829861</td>\n",
              "    </tr>\n",
              "    <tr>\n",
              "      <td>16</td>\n",
              "      <td>0.000000</td>\n",
              "      <td>1.009078</td>\n",
              "      <td>0.829861</td>\n",
              "    </tr>\n",
              "    <tr>\n",
              "      <td>17</td>\n",
              "      <td>0.000000</td>\n",
              "      <td>1.009792</td>\n",
              "      <td>0.829861</td>\n",
              "    </tr>\n",
              "  </tbody>\n",
              "</table><p>"
            ]
          },
          "metadata": {}
        },
        {
          "output_type": "stream",
          "name": "stderr",
          "text": [
            "Some non-default generation parameters are set in the model config. These should go into a GenerationConfig file (https://huggingface.co/docs/transformers/generation_strategies#save-a-custom-decoding-strategy-with-your-model) instead. This warning will be raised to an exception in v4.41.\n",
            "Non-default generation parameters: {'max_length': 1024}\n",
            "Some non-default generation parameters are set in the model config. These should go into a GenerationConfig file (https://huggingface.co/docs/transformers/generation_strategies#save-a-custom-decoding-strategy-with-your-model) instead. This warning will be raised to an exception in v4.41.\n",
            "Non-default generation parameters: {'max_length': 1024}\n",
            "Some non-default generation parameters are set in the model config. These should go into a GenerationConfig file (https://huggingface.co/docs/transformers/generation_strategies#save-a-custom-decoding-strategy-with-your-model) instead. This warning will be raised to an exception in v4.41.\n",
            "Non-default generation parameters: {'max_length': 1024}\n",
            "Some non-default generation parameters are set in the model config. These should go into a GenerationConfig file (https://huggingface.co/docs/transformers/generation_strategies#save-a-custom-decoding-strategy-with-your-model) instead. This warning will be raised to an exception in v4.41.\n",
            "Non-default generation parameters: {'max_length': 1024}\n",
            "Some non-default generation parameters are set in the model config. These should go into a GenerationConfig file (https://huggingface.co/docs/transformers/generation_strategies#save-a-custom-decoding-strategy-with-your-model) instead. This warning will be raised to an exception in v4.41.\n",
            "Non-default generation parameters: {'max_length': 1024}\n",
            "Some non-default generation parameters are set in the model config. These should go into a GenerationConfig file (https://huggingface.co/docs/transformers/generation_strategies#save-a-custom-decoding-strategy-with-your-model) instead. This warning will be raised to an exception in v4.41.\n",
            "Non-default generation parameters: {'max_length': 1024}\n",
            "Some non-default generation parameters are set in the model config. These should go into a GenerationConfig file (https://huggingface.co/docs/transformers/generation_strategies#save-a-custom-decoding-strategy-with-your-model) instead. This warning will be raised to an exception in v4.41.\n",
            "Non-default generation parameters: {'max_length': 1024}\n",
            "Some non-default generation parameters are set in the model config. These should go into a GenerationConfig file (https://huggingface.co/docs/transformers/generation_strategies#save-a-custom-decoding-strategy-with-your-model) instead. This warning will be raised to an exception in v4.41.\n",
            "Non-default generation parameters: {'max_length': 1024}\n",
            "Some non-default generation parameters are set in the model config. These should go into a GenerationConfig file (https://huggingface.co/docs/transformers/generation_strategies#save-a-custom-decoding-strategy-with-your-model) instead. This warning will be raised to an exception in v4.41.\n",
            "Non-default generation parameters: {'max_length': 1024}\n",
            "Some non-default generation parameters are set in the model config. These should go into a GenerationConfig file (https://huggingface.co/docs/transformers/generation_strategies#save-a-custom-decoding-strategy-with-your-model) instead. This warning will be raised to an exception in v4.41.\n",
            "Non-default generation parameters: {'max_length': 1024}\n",
            "Some non-default generation parameters are set in the model config. These should go into a GenerationConfig file (https://huggingface.co/docs/transformers/generation_strategies#save-a-custom-decoding-strategy-with-your-model) instead. This warning will be raised to an exception in v4.41.\n",
            "Non-default generation parameters: {'max_length': 1024}\n",
            "Some non-default generation parameters are set in the model config. These should go into a GenerationConfig file (https://huggingface.co/docs/transformers/generation_strategies#save-a-custom-decoding-strategy-with-your-model) instead. This warning will be raised to an exception in v4.41.\n",
            "Non-default generation parameters: {'max_length': 1024}\n",
            "Some non-default generation parameters are set in the model config. These should go into a GenerationConfig file (https://huggingface.co/docs/transformers/generation_strategies#save-a-custom-decoding-strategy-with-your-model) instead. This warning will be raised to an exception in v4.41.\n",
            "Non-default generation parameters: {'max_length': 1024}\n",
            "Some non-default generation parameters are set in the model config. These should go into a GenerationConfig file (https://huggingface.co/docs/transformers/generation_strategies#save-a-custom-decoding-strategy-with-your-model) instead. This warning will be raised to an exception in v4.41.\n",
            "Non-default generation parameters: {'max_length': 1024}\n",
            "Some non-default generation parameters are set in the model config. These should go into a GenerationConfig file (https://huggingface.co/docs/transformers/generation_strategies#save-a-custom-decoding-strategy-with-your-model) instead. This warning will be raised to an exception in v4.41.\n",
            "Non-default generation parameters: {'max_length': 1024}\n",
            "Some non-default generation parameters are set in the model config. These should go into a GenerationConfig file (https://huggingface.co/docs/transformers/generation_strategies#save-a-custom-decoding-strategy-with-your-model) instead. This warning will be raised to an exception in v4.41.\n",
            "Non-default generation parameters: {'max_length': 1024}\n",
            "Some non-default generation parameters are set in the model config. These should go into a GenerationConfig file (https://huggingface.co/docs/transformers/generation_strategies#save-a-custom-decoding-strategy-with-your-model) instead. This warning will be raised to an exception in v4.41.\n",
            "Non-default generation parameters: {'max_length': 1024}\n"
          ]
        },
        {
          "output_type": "execute_result",
          "data": {
            "text/plain": [
              "TrainOutput(global_step=2448, training_loss=0.25138989365446607, metrics={'train_runtime': 3269.0645, 'train_samples_per_second': 7.048, 'train_steps_per_second': 0.881, 'total_flos': 1.3275301989329142e+18, 'train_loss': 0.25138989365446607, 'epoch': 17.0})"
            ]
          },
          "metadata": {},
          "execution_count": 45
        }
      ]
    },
    {
      "cell_type": "code",
      "source": [
        "from google.colab import drive\n",
        "drive.mount('/content/drive')"
      ],
      "metadata": {
        "id": "mEfGuvH1pj5I",
        "colab": {
          "base_uri": "https://localhost:8080/"
        },
        "outputId": "3170f76d-4a33-4662-c710-fc8ce5eddd9f"
      },
      "execution_count": 11,
      "outputs": [
        {
          "output_type": "stream",
          "name": "stdout",
          "text": [
            "Mounted at /content/drive\n"
          ]
        }
      ]
    },
    {
      "cell_type": "code",
      "source": [
        "model.save_pretrained(\"/content/drive/MyDrive/Colab Notebooks/Emotion-Classification/model\")\n",
        "feature_extractor.save_pretrained(\"/content/drive/MyDrive/Colab Notebooks/Emotion-Classification/tokenizer\")"
      ],
      "metadata": {
        "id": "SxP9Mg5Gpohm",
        "colab": {
          "base_uri": "https://localhost:8080/"
        },
        "outputId": "fdd45df0-198d-4753-b1ad-15ab1e1c5288"
      },
      "execution_count": 47,
      "outputs": [
        {
          "output_type": "stream",
          "name": "stderr",
          "text": [
            "Some non-default generation parameters are set in the model config. These should go into a GenerationConfig file (https://huggingface.co/docs/transformers/generation_strategies#save-a-custom-decoding-strategy-with-your-model) instead. This warning will be raised to an exception in v4.41.\n",
            "Non-default generation parameters: {'max_length': 1024}\n"
          ]
        },
        {
          "output_type": "execute_result",
          "data": {
            "text/plain": [
              "['/content/drive/MyDrive/Colab Notebooks/Emotion-Classification/tokenizer/preprocessor_config.json']"
            ]
          },
          "metadata": {},
          "execution_count": 47
        }
      ]
    },
    {
      "cell_type": "code",
      "source": [
        "# model.eval()"
      ],
      "metadata": {
        "id": "4X-07eBo_Le4"
      },
      "execution_count": 46,
      "outputs": []
    },
    {
      "cell_type": "markdown",
      "source": [
        "# Testing"
      ],
      "metadata": {
        "id": "GsUFI8y794pA"
      }
    },
    {
      "cell_type": "code",
      "source": [
        "!pip install soundfile"
      ],
      "metadata": {
        "colab": {
          "base_uri": "https://localhost:8080/"
        },
        "id": "3k1tWl10LDXM",
        "outputId": "42fa7942-0979-4376-f251-c1eaaa8a53bf"
      },
      "execution_count": 50,
      "outputs": [
        {
          "output_type": "stream",
          "name": "stdout",
          "text": [
            "Requirement already satisfied: soundfile in /usr/local/lib/python3.10/dist-packages (0.12.1)\n",
            "Requirement already satisfied: cffi>=1.0 in /usr/local/lib/python3.10/dist-packages (from soundfile) (1.17.0)\n",
            "Requirement already satisfied: pycparser in /usr/local/lib/python3.10/dist-packages (from cffi>=1.0->soundfile) (2.22)\n"
          ]
        }
      ]
    },
    {
      "cell_type": "code",
      "source": [
        "from transformers import AutoModelForAudioClassification,AutoFeatureExtractor,pipeline\n",
        "import torch\n",
        "import soundfile as sf"
      ],
      "metadata": {
        "id": "ac69VCNh94NX"
      },
      "execution_count": 58,
      "outputs": []
    },
    {
      "cell_type": "code",
      "source": [
        "# # prompt: how we can load test the model in a new data new data is test_df[0]\n",
        "\n",
        "model_path = \"/content/drive/MyDrive/Colab Notebooks/Emotion-Classification/model\"\n",
        "feature_extractor_path = \"/content/drive/MyDrive/Colab Notebooks/Emotion-Classification/tokenizer\"\n",
        "\n",
        "model = AutoModelForAudioClassification.from_pretrained(model_path)\n",
        "feature_extractor = AutoFeatureExtractor.from_pretrained(feature_extractor_path)\n",
        "\n",
        "# load the audio file\n",
        "audio_input, sampling_rate =sf.read('/content/03-01-03-01-01-01-01.wav')\n",
        "sampling_rate=16000\n",
        "# preprocess the audio input\n",
        "inputs = feature_extractor(audio_input, sampling_rate=sampling_rate, return_tensors=\"pt\")\n",
        "\n",
        "\n",
        "# # # Make prediction\n",
        "with torch.no_grad():\n",
        "    logits = model(**inputs).logits\n",
        "\n",
        "# # # Get predicted class\n",
        "predicted_class_idx = logits.argmax(-1).item()\n",
        "predicted_class = model.config.id2label[predicted_class_idx]\n",
        "\n",
        "# # # Get actual class\n",
        "# actual_class = id2label[test_df[0]['label']]\n",
        "\n",
        "print(\"Predicted class:\", predicted_class)\n",
        "# print(\"Actual class:\", actual_class)\n"
      ],
      "metadata": {
        "id": "jLp_7UnRq6oH",
        "colab": {
          "base_uri": "https://localhost:8080/"
        },
        "outputId": "ae749908-65d6-486e-98a6-e6b6f0212300"
      },
      "execution_count": 60,
      "outputs": [
        {
          "output_type": "stream",
          "name": "stdout",
          "text": [
            "Predicted class: sad\n"
          ]
        }
      ]
    },
    {
      "cell_type": "code",
      "source": [
        "import soundfile as sf"
      ],
      "metadata": {
        "id": "yiLBC9wOumD9"
      },
      "execution_count": 52,
      "outputs": []
    },
    {
      "cell_type": "code",
      "source": [
        "sampling_rate=16000\n",
        "sampling_rate"
      ],
      "metadata": {
        "id": "9DQtemOfwsZt",
        "colab": {
          "base_uri": "https://localhost:8080/"
        },
        "outputId": "d9941e4f-f0a3-4ad2-9144-ee2090e8aac4"
      },
      "execution_count": 57,
      "outputs": [
        {
          "output_type": "execute_result",
          "data": {
            "text/plain": [
              "16000"
            ]
          },
          "metadata": {},
          "execution_count": 57
        }
      ]
    },
    {
      "cell_type": "code",
      "source": [
        "audio_input"
      ],
      "metadata": {
        "colab": {
          "base_uri": "https://localhost:8080/"
        },
        "id": "WfDX_bUSLeBW",
        "outputId": "b1867e1b-0963-4d9b-9888-3010a8df6052"
      },
      "execution_count": 56,
      "outputs": [
        {
          "output_type": "execute_result",
          "data": {
            "text/plain": [
              "array([0., 0., 0., ..., 0., 0., 0.])"
            ]
          },
          "metadata": {},
          "execution_count": 56
        }
      ]
    },
    {
      "cell_type": "code",
      "source": [],
      "metadata": {
        "id": "IOQVMGUQaJSB"
      },
      "execution_count": 63,
      "outputs": []
    },
    {
      "cell_type": "code",
      "source": [],
      "metadata": {
        "id": "3FalABKMaRfa"
      },
      "execution_count": null,
      "outputs": []
    }
  ]
}